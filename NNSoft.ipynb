{
 "metadata": {
  "name": "",
  "signature": "sha256:af1ee3a69a5b0620a5c27abb4d71f8e4a3f202f4f98d6fb3a9c09a7bedb9067e"
 },
 "nbformat": 3,
 "nbformat_minor": 0,
 "worksheets": [
  {
   "cells": [
    {
     "cell_type": "markdown",
     "metadata": {},
     "source": [
      "#Cost report on training with soft labels and hard labels"
     ]
    },
    {
     "cell_type": "markdown",
     "metadata": {},
     "source": [
      "This is training on 100000 samples. Split into 80% Training data and 20% Testing data."
     ]
    },
    {
     "cell_type": "code",
     "collapsed": false,
     "input": [
      "%matplotlib inline\n",
      "\n",
      "from sklearn.model_selection import train_test_split\n",
      "from keras.models import Sequential\n",
      "from keras.layers import Dense, Dropout, Activation\n",
      "from keras.optimizers import SGD\n",
      "from keras.optimizers import RMSprop\n",
      "from keras.utils import np_utils\n",
      "\n",
      "import matplotlib.pyplot as plt\n",
      "import numpy as np\n",
      "import pandas as pd\n",
      "import csv\n",
      "\n",
      "df = pd.read_csv('combined_classes2.csv')\n",
      "x = np.array(df[[\"p1\", \"p2\"]])\n",
      "y_soft = np.array(df[[\"soft_a\", \"soft_b\", \"soft_c\", \"soft_d\"]])\n",
      "y_hard = np.array(df[[\"hard_a\", \"hard_b\", \"hard_c\", \"hard_d\"]])\n",
      "y_all = np.append(y_soft, y_hard, axis=1)\n",
      "# y_hard = np.array(df[[\"hard_classes\"]])\n",
      "# Y_hard = np_utils.to_categorical(y_hard, 4)\n",
      "\n",
      "X_train, X_test, y_train, y_test = train_test_split(x, y_all, test_size=0.2, random_state=42)\n",
      "y_train_soft = y_train[:, 0:4]\n",
      "y_train_hard = y_train[:, 4:8]\n",
      "y_test_soft = y_test[:, 0:4]\n",
      "y_test_hard = y_test[:, 4:8]\n",
      "\n",
      "epochs = range(10, 200, 10)\n",
      "batch_size = 5000\n",
      "\n",
      "train_on_hard_evaluate_on_soft = np.array([])\n",
      "train_on_soft_evaluate_on_soft = np.array([])\n",
      "train_on_hard_evaluate_on_hard = np.array([])\n",
      "train_on_soft_evaluate_on_hard = np.array([])\n",
      "\n",
      "model = Sequential()\n",
      "model.add(Dense(output_dim=10, input_dim=2, init='uniform'))\n",
      "model.add(Activation('relu'))\n",
      "model.add(Dense(output_dim=10, init='uniform'))\n",
      "model.add(Activation('relu'))\n",
      "model.add(Dense(output_dim=10, init='uniform'))\n",
      "model.add(Activation('relu'))\n",
      "model.add(Dense(output_dim=4, init='uniform'))\n",
      "model.add(Activation('softmax'))\n",
      "\n",
      "model.summary()\n",
      "\n",
      "# sgd = SGD(lr=0.1, decay=1e-3, momentum=0.9, nesterov=True)\n",
      "model.compile(loss='categorical_crossentropy',\n",
      "              optimizer='sgd',\n",
      "              metrics=['accuracy'])\n",
      "\n",
      "with open('stats_epochs.csv', 'wb') as f:\n",
      "    writer = csv.DictWriter(f, fieldnames=[\"Epochs\", \"Train on\", \"Evaluate on Hard\", \"Evaluate on Soft\"], delimiter=',')\n",
      "    writer.writeheader()\n",
      "    writer = csv.writer(f, quoting=csv.QUOTE_NONE)\n",
      "    for e in epochs:\n",
      "        for i in xrange(2):\n",
      "            if i == 0:\n",
      "                paradigm = \"Hard\"\n",
      "                paradigm_train = y_train_hard\n",
      "                paradigm_test = y_test_hard\n",
      "            else:\n",
      "                paradigm = \"Soft\"\n",
      "                paradigm_train = y_train_soft\n",
      "                paradigm_test = y_test_soft\n",
      "\n",
      "            model.fit(X_train, paradigm_train,\n",
      "                      nb_epoch=e,\n",
      "                      batch_size=batch_size,\n",
      "                      verbose=2,\n",
      "                      validation_data=(X_test, paradigm_test))\n",
      "\n",
      "            score_on_hard, acc_on_hard = model.evaluate(X_test, y_test_hard, batch_size=batch_size)\n",
      "            score_on_soft, acc_on_soft = model.evaluate(X_test, y_test_soft, batch_size=batch_size)\n",
      "\n",
      "            if i == 0:\n",
      "                #Train on hard labels, evaluate on soft labels\n",
      "                train_on_hard_evaluate_on_soft = np.append(train_on_hard_evaluate_on_soft , score_on_soft)\n",
      "                #Train on hard labels, evaluate on hard labels\n",
      "                train_on_hard_evaluate_on_hard = np.append(train_on_hard_evaluate_on_hard , score_on_hard)\n",
      "            else:\n",
      "                #Train on soft labels, evaluate on soft labels\n",
      "                train_on_soft_evaluate_on_soft = np.append(train_on_soft_evaluate_on_soft, score_on_soft)\n",
      "                #Train on soft labels, evaluate on hard labels\n",
      "                train_on_soft_evaluate_on_hard = np.append(train_on_soft_evaluate_on_hard, score_on_hard) \n",
      "\n",
      "            writer.writerow([e, paradigm, score_on_hard, score_on_soft])\n",
      "\n"
     ],
     "language": "python",
     "metadata": {},
     "outputs": [
      {
       "output_type": "stream",
       "stream": "stdout",
       "text": [
        "____________________________________________________________________________________________________\n",
        "Layer (type)                     Output Shape          Param #     Connected to                     \n",
        "====================================================================================================\n",
        "dense_9 (Dense)                  (None, 10)            30          dense_input_3[0][0]              \n",
        "____________________________________________________________________________________________________\n",
        "activation_9 (Activation)        (None, 10)            0           dense_9[0][0]                    \n",
        "____________________________________________________________________________________________________\n",
        "dense_10 (Dense)                 (None, 10)            110         activation_9[0][0]               \n",
        "____________________________________________________________________________________________________\n",
        "activation_10 (Activation)       (None, 10)            0           dense_10[0][0]                   \n",
        "____________________________________________________________________________________________________\n",
        "dense_11 (Dense)                 (None, 10)            110         activation_10[0][0]              \n",
        "____________________________________________________________________________________________________\n",
        "activation_11 (Activation)       (None, 10)            0           dense_11[0][0]                   \n",
        "____________________________________________________________________________________________________\n",
        "dense_12 (Dense)                 (None, 4)             44          activation_11[0][0]              \n",
        "____________________________________________________________________________________________________\n",
        "activation_12 (Activation)       (None, 4)             0           dense_12[0][0]                   \n",
        "====================================================================================================\n",
        "Total params: 294\n",
        "Trainable params: 294\n",
        "Non-trainable params: 0\n",
        "____________________________________________________________________________________________________\n",
        "Train on 80000 samples, validate on 20000 samples"
       ]
      },
      {
       "output_type": "stream",
       "stream": "stdout",
       "text": [
        "\n",
        "Epoch 1/10\n",
        "0s - loss: 1.0315 - acc: 0.2510 - val_loss: 1.0319 - val_acc: 0.2515\n"
       ]
      },
      {
       "output_type": "stream",
       "stream": "stdout",
       "text": [
        "Epoch 2/10\n",
        "0s - loss: 1.0244 - acc: 0.2514 - val_loss: 1.0250 - val_acc: 0.2515\n"
       ]
      },
      {
       "output_type": "stream",
       "stream": "stdout",
       "text": [
        "Epoch 3/10\n",
        "0s - loss: 1.0178 - acc: 0.2514 - val_loss: 1.0186 - val_acc: 0.2515\n"
       ]
      },
      {
       "output_type": "stream",
       "stream": "stdout",
       "text": [
        "Epoch 4/10\n",
        "0s - loss: 1.0115 - acc: 0.2514 - val_loss: 1.0125 - val_acc: 0.2515\n"
       ]
      },
      {
       "output_type": "stream",
       "stream": "stdout",
       "text": [
        "Epoch 5/10\n",
        "0s - loss: 1.0056 - acc: 0.2514 - val_loss: 1.0067 - val_acc: 0.2515\n"
       ]
      },
      {
       "output_type": "stream",
       "stream": "stdout",
       "text": [
        "Epoch 6/10\n",
        "0s - loss: 1.0000 - acc: 0.2514 - val_loss: 1.0012 - val_acc: 0.2515\n"
       ]
      },
      {
       "output_type": "stream",
       "stream": "stdout",
       "text": [
        "Epoch 7/10\n",
        "0s - loss: 0.9947 - acc: 0.2514 - val_loss: 0.9960 - val_acc: 0.2515\n"
       ]
      },
      {
       "output_type": "stream",
       "stream": "stdout",
       "text": [
        "Epoch 8/10\n",
        "0s - loss: 0.9896 - acc: 0.2514 - val_loss: 0.9911 - val_acc: 0.2515\n"
       ]
      },
      {
       "output_type": "stream",
       "stream": "stdout",
       "text": [
        "Epoch 9/10\n",
        "0s - loss: 0.9848 - acc: 0.2514 - val_loss: 0.9864 - val_acc: 0.2515\n"
       ]
      },
      {
       "output_type": "stream",
       "stream": "stdout",
       "text": [
        "Epoch 10/10\n",
        "0s - loss: 0.9803 - acc: 0.2514 - val_loss: 0.9819 - val_acc: 0.2515\n"
       ]
      },
      {
       "output_type": "stream",
       "stream": "stdout",
       "text": [
        "\r",
        " 5000/20000 [======>.......................] - ETA: 0s"
       ]
      },
      {
       "output_type": "stream",
       "stream": "stdout",
       "text": [
        "\b\b\b\b\b\b\b\b\b\b\b\b\b\b\b\b\b\b\b\b\b\b\b\b\b\b\b\b\b\b\b\b\b\b\b\b\b\b\b\b\b\b\b\b\b\b\b\b\b\b\b\b\b\b\r",
        "20000/20000 [==============================] - 0s     "
       ]
      },
      {
       "output_type": "stream",
       "stream": "stdout",
       "text": [
        "\n",
        "\r",
        " 5000/20000 [======>.......................] - ETA: 0s"
       ]
      },
      {
       "output_type": "stream",
       "stream": "stdout",
       "text": [
        "\b\b\b\b\b\b\b\b\b\b\b\b\b\b\b\b\b\b\b\b\b\b\b\b\b\b\b\b\b\b\b\b\b\b\b\b\b\b\b\b\b\b\b\b\b\b\b\b\b\b\b\b\b\b\r",
        "20000/20000 [==============================] - 0s     "
       ]
      },
      {
       "output_type": "stream",
       "stream": "stdout",
       "text": [
        "\n",
        "Train on 80000 samples, validate on 20000 samples\n",
        "Epoch 1/10\n",
        "0s - loss: 1.3969 - acc: 0.2490 - val_loss: 1.3959 - val_acc: 0.2524\n"
       ]
      },
      {
       "output_type": "stream",
       "stream": "stdout",
       "text": [
        "Epoch 2/10\n",
        "0s - loss: 1.3962 - acc: 0.2490 - val_loss: 1.3952 - val_acc: 0.2524\n"
       ]
      },
      {
       "output_type": "stream",
       "stream": "stdout",
       "text": [
        "Epoch 3/10\n",
        "0s - loss: 1.3955 - acc: 0.2490 - val_loss: 1.3946 - val_acc: 0.2524\n"
       ]
      },
      {
       "output_type": "stream",
       "stream": "stdout",
       "text": [
        "Epoch 4/10\n",
        "0s - loss: 1.3949 - acc: 0.2490 - val_loss: 1.3940 - val_acc: 0.2524\n"
       ]
      },
      {
       "output_type": "stream",
       "stream": "stdout",
       "text": [
        "Epoch 5/10\n",
        "0s - loss: 1.3943 - acc: 0.2490 - val_loss: 1.3934 - val_acc: 0.2524\n"
       ]
      },
      {
       "output_type": "stream",
       "stream": "stdout",
       "text": [
        "Epoch 6/10\n",
        "0s - loss: 1.3937 - acc: 0.2490 - val_loss: 1.3929 - val_acc: 0.2524\n"
       ]
      },
      {
       "output_type": "stream",
       "stream": "stdout",
       "text": [
        "Epoch 7/10\n",
        "0s - loss: 1.3932 - acc: 0.2490 - val_loss: 1.3924 - val_acc: 0.2524\n"
       ]
      },
      {
       "output_type": "stream",
       "stream": "stdout",
       "text": [
        "Epoch 8/10\n",
        "0s - loss: 1.3927 - acc: 0.2490 - val_loss: 1.3920 - val_acc: 0.2524\n"
       ]
      },
      {
       "output_type": "stream",
       "stream": "stdout",
       "text": [
        "Epoch 9/10\n",
        "0s - loss: 1.3922 - acc: 0.2490 - val_loss: 1.3916 - val_acc: 0.2524\n"
       ]
      },
      {
       "output_type": "stream",
       "stream": "stdout",
       "text": [
        "Epoch 10/10\n",
        "0s - loss: 1.3918 - acc: 0.2490 - val_loss: 1.3912 - val_acc: 0.2524\n"
       ]
      },
      {
       "output_type": "stream",
       "stream": "stdout",
       "text": [
        "\r",
        " 5000/20000 [======>.......................] - ETA: 0s"
       ]
      },
      {
       "output_type": "stream",
       "stream": "stdout",
       "text": [
        "\b\b\b\b\b\b\b\b\b\b\b\b\b\b\b\b\b\b\b\b\b\b\b\b\b\b\b\b\b\b\b\b\b\b\b\b\b\b\b\b\b\b\b\b\b\b\b\b\b\b\b\b\b\b\r",
        "20000/20000 [==============================] - 0s     "
       ]
      },
      {
       "output_type": "stream",
       "stream": "stdout",
       "text": [
        "\n",
        "\r",
        " 5000/20000 [======>.......................] - ETA: 0s"
       ]
      },
      {
       "output_type": "stream",
       "stream": "stdout",
       "text": [
        "\b\b\b\b\b\b\b\b\b\b\b\b\b\b\b\b\b\b\b\b\b\b\b\b\b\b\b\b\b\b\b\b\b\b\b\b\b\b\b\b\b\b\b\b\b\b\b\b\b\b\b\b\b\b\r",
        "20000/20000 [==============================] - 0s     "
       ]
      },
      {
       "output_type": "stream",
       "stream": "stdout",
       "text": [
        "\n",
        "Train on 80000 samples, validate on 20000 samples\n",
        "Epoch 1/20\n",
        "0s - loss: 0.9918 - acc: 0.2514 - val_loss: 0.9932 - val_acc: 0.2515\n"
       ]
      },
      {
       "output_type": "stream",
       "stream": "stdout",
       "text": [
        "Epoch 2/20\n",
        "0s - loss: 0.9869 - acc: 0.2514 - val_loss: 0.9884 - val_acc: 0.2515\n"
       ]
      },
      {
       "output_type": "stream",
       "stream": "stdout",
       "text": [
        "Epoch 3/20\n",
        "0s - loss: 0.9823 - acc: 0.2514 - val_loss: 0.9839 - val_acc: 0.2515\n"
       ]
      },
      {
       "output_type": "stream",
       "stream": "stdout",
       "text": [
        "Epoch 4/20\n",
        "0s - loss: 0.9778 - acc: 0.2514 - val_loss: 0.9795 - val_acc: 0.2515\n"
       ]
      },
      {
       "output_type": "stream",
       "stream": "stdout",
       "text": [
        "Epoch 5/20\n",
        "0s - loss: 0.9736 - acc: 0.2514 - val_loss: 0.9754 - val_acc: 0.2515\n"
       ]
      },
      {
       "output_type": "stream",
       "stream": "stdout",
       "text": [
        "Epoch 6/20\n",
        "0s - loss: 0.9696 - acc: 0.2514 - val_loss: 0.9715 - val_acc: 0.2515\n"
       ]
      },
      {
       "output_type": "stream",
       "stream": "stdout",
       "text": [
        "Epoch 7/20\n",
        "0s - loss: 0.9657 - acc: 0.2514 - val_loss: 0.9677 - val_acc: 0.2515\n"
       ]
      },
      {
       "output_type": "stream",
       "stream": "stdout",
       "text": [
        "Epoch 8/20\n",
        "0s - loss: 0.9621 - acc: 0.2514 - val_loss: 0.9641 - val_acc: 0.2515\n"
       ]
      },
      {
       "output_type": "stream",
       "stream": "stdout",
       "text": [
        "Epoch 9/20\n",
        "0s - loss: 0.9586 - acc: 0.2514 - val_loss: 0.9607 - val_acc: 0.2515\n"
       ]
      },
      {
       "output_type": "stream",
       "stream": "stdout",
       "text": [
        "Epoch 10/20\n",
        "0s - loss: 0.9552 - acc: 0.2514 - val_loss: 0.9574 - val_acc: 0.2515\n"
       ]
      },
      {
       "output_type": "stream",
       "stream": "stdout",
       "text": [
        "Epoch 11/20\n",
        "0s - loss: 0.9520 - acc: 0.2514 - val_loss: 0.9543 - val_acc: 0.2515\n"
       ]
      },
      {
       "output_type": "stream",
       "stream": "stdout",
       "text": [
        "Epoch 12/20\n",
        "0s - loss: 0.9490 - acc: 0.2514 - val_loss: 0.9513 - val_acc: 0.2515\n"
       ]
      },
      {
       "output_type": "stream",
       "stream": "stdout",
       "text": [
        "Epoch 13/20\n",
        "0s - loss: 0.9460 - acc: 0.2514 - val_loss: 0.9484 - val_acc: 0.2515\n"
       ]
      },
      {
       "output_type": "stream",
       "stream": "stdout",
       "text": [
        "Epoch 14/20\n",
        "0s - loss: 0.9432 - acc: 0.2514 - val_loss: 0.9456 - val_acc: 0.2515\n"
       ]
      },
      {
       "output_type": "stream",
       "stream": "stdout",
       "text": [
        "Epoch 15/20\n",
        "0s - loss: 0.9405 - acc: 0.2514 - val_loss: 0.9430 - val_acc: 0.2515\n"
       ]
      },
      {
       "output_type": "stream",
       "stream": "stdout",
       "text": [
        "Epoch 16/20\n",
        "0s - loss: 0.9379 - acc: 0.2514 - val_loss: 0.9404 - val_acc: 0.2515\n"
       ]
      },
      {
       "output_type": "stream",
       "stream": "stdout",
       "text": [
        "Epoch 17/20\n",
        "0s - loss: 0.9354 - acc: 0.2514 - val_loss: 0.9380 - val_acc: 0.2515\n"
       ]
      },
      {
       "output_type": "stream",
       "stream": "stdout",
       "text": [
        "Epoch 18/20\n",
        "0s - loss: 0.9330 - acc: 0.2514 - val_loss: 0.9356 - val_acc: 0.2515\n"
       ]
      },
      {
       "output_type": "stream",
       "stream": "stdout",
       "text": [
        "Epoch 19/20\n",
        "0s - loss: 0.9307 - acc: 0.2514 - val_loss: 0.9333 - val_acc: 0.2515\n"
       ]
      },
      {
       "output_type": "stream",
       "stream": "stdout",
       "text": [
        "Epoch 20/20\n",
        "0s - loss: 0.9285 - acc: 0.2514 - val_loss: 0.9311 - val_acc: 0.2515\n"
       ]
      },
      {
       "output_type": "stream",
       "stream": "stdout",
       "text": [
        "\r",
        " 5000/20000 [======>.......................] - ETA: 0s"
       ]
      },
      {
       "output_type": "stream",
       "stream": "stdout",
       "text": [
        "\b\b\b\b\b\b\b\b\b\b\b\b\b\b\b\b\b\b\b\b\b\b\b\b\b\b\b\b\b\b\b\b\b\b\b\b\b\b\b\b\b\b\b\b\b\b\b\b\b\b\b\b\b\b\r",
        "20000/20000 [==============================] - 0s     "
       ]
      },
      {
       "output_type": "stream",
       "stream": "stdout",
       "text": [
        "\n",
        "\r",
        " 5000/20000 [======>.......................] - ETA: 0s"
       ]
      },
      {
       "output_type": "stream",
       "stream": "stdout",
       "text": [
        "\b\b\b\b\b\b\b\b\b\b\b\b\b\b\b\b\b\b\b\b\b\b\b\b\b\b\b\b\b\b\b\b\b\b\b\b\b\b\b\b\b\b\b\b\b\b\b\b\b\b\b\b\b\b\r",
        "20000/20000 [==============================] - 0s     "
       ]
      },
      {
       "output_type": "stream",
       "stream": "stdout",
       "text": [
        "\n",
        "Train on 80000 samples, validate on 20000 samples\n",
        "Epoch 1/20\n",
        "0s - loss: 1.4338 - acc: 0.2490 - val_loss: 1.4309 - val_acc: 0.2524\n"
       ]
      },
      {
       "output_type": "stream",
       "stream": "stdout",
       "text": [
        "Epoch 2/20\n",
        "0s - loss: 1.4310 - acc: 0.2490 - val_loss: 1.4282 - val_acc: 0.2524\n"
       ]
      },
      {
       "output_type": "stream",
       "stream": "stdout",
       "text": [
        "Epoch 3/20\n",
        "0s - loss: 1.4284 - acc: 0.2490 - val_loss: 1.4257 - val_acc: 0.2524\n"
       ]
      },
      {
       "output_type": "stream",
       "stream": "stdout",
       "text": [
        "Epoch 4/20\n",
        "0s - loss: 1.4258 - acc: 0.2490 - val_loss: 1.4233 - val_acc: 0.2524\n"
       ]
      },
      {
       "output_type": "stream",
       "stream": "stdout",
       "text": [
        "Epoch 5/20\n",
        "0s - loss: 1.4234 - acc: 0.2490 - val_loss: 1.4210 - val_acc: 0.2524\n"
       ]
      },
      {
       "output_type": "stream",
       "stream": "stdout",
       "text": [
        "Epoch 6/20\n",
        "0s - loss: 1.4212 - acc: 0.2490 - val_loss: 1.4188 - val_acc: 0.2524\n"
       ]
      },
      {
       "output_type": "stream",
       "stream": "stdout",
       "text": [
        "Epoch 7/20\n",
        "0s - loss: 1.4190 - acc: 0.2490 - val_loss: 1.4168 - val_acc: 0.2524\n"
       ]
      },
      {
       "output_type": "stream",
       "stream": "stdout",
       "text": [
        "Epoch 8/20\n",
        "0s - loss: 1.4170 - acc: 0.2490 - val_loss: 1.4149 - val_acc: 0.2524\n"
       ]
      },
      {
       "output_type": "stream",
       "stream": "stdout",
       "text": [
        "Epoch 9/20\n",
        "0s - loss: 1.4151 - acc: 0.2490 - val_loss: 1.4130 - val_acc: 0.2524\n"
       ]
      },
      {
       "output_type": "stream",
       "stream": "stdout",
       "text": [
        "Epoch 10/20\n",
        "0s - loss: 1.4133 - acc: 0.2490 - val_loss: 1.4113 - val_acc: 0.2524\n"
       ]
      },
      {
       "output_type": "stream",
       "stream": "stdout",
       "text": [
        "Epoch 11/20\n",
        "0s - loss: 1.4115 - acc: 0.2490 - val_loss: 1.4097 - val_acc: 0.2524\n"
       ]
      },
      {
       "output_type": "stream",
       "stream": "stdout",
       "text": [
        "Epoch 12/20\n",
        "0s - loss: 1.4099 - acc: 0.2490 - val_loss: 1.4081 - val_acc: 0.2524\n"
       ]
      },
      {
       "output_type": "stream",
       "stream": "stdout",
       "text": [
        "Epoch 13/20\n",
        "0s - loss: 1.4084 - acc: 0.2490 - val_loss: 1.4067 - val_acc: 0.2524\n"
       ]
      },
      {
       "output_type": "stream",
       "stream": "stdout",
       "text": [
        "Epoch 14/20\n",
        "0s - loss: 1.4070 - acc: 0.2490 - val_loss: 1.4054 - val_acc: 0.2524\n"
       ]
      },
      {
       "output_type": "stream",
       "stream": "stdout",
       "text": [
        "Epoch 15/20\n",
        "0s - loss: 1.4056 - acc: 0.2490 - val_loss: 1.4041 - val_acc: 0.2524\n"
       ]
      },
      {
       "output_type": "stream",
       "stream": "stdout",
       "text": [
        "Epoch 16/20\n",
        "0s - loss: 1.4044 - acc: 0.2490 - val_loss: 1.4029 - val_acc: 0.2524\n"
       ]
      },
      {
       "output_type": "stream",
       "stream": "stdout",
       "text": [
        "Epoch 17/20\n",
        "0s - loss: 1.4032 - acc: 0.2490 - val_loss: 1.4018 - val_acc: 0.2524\n"
       ]
      },
      {
       "output_type": "stream",
       "stream": "stdout",
       "text": [
        "Epoch 18/20\n",
        "0s - loss: 1.4020 - acc: 0.2490 - val_loss: 1.4007 - val_acc: 0.2524\n"
       ]
      },
      {
       "output_type": "stream",
       "stream": "stdout",
       "text": [
        "Epoch 19/20\n",
        "0s - loss: 1.4010 - acc: 0.2490 - val_loss: 1.3997 - val_acc: 0.2524\n"
       ]
      },
      {
       "output_type": "stream",
       "stream": "stdout",
       "text": [
        "Epoch 20/20\n",
        "0s - loss: 1.4000 - acc: 0.2490 - val_loss: 1.3988 - val_acc: 0.2524\n"
       ]
      },
      {
       "output_type": "stream",
       "stream": "stdout",
       "text": [
        "\r",
        " 5000/20000 [======>.......................] - ETA: 0s"
       ]
      },
      {
       "output_type": "stream",
       "stream": "stdout",
       "text": [
        "\b\b\b\b\b\b\b\b\b\b\b\b\b\b\b\b\b\b\b\b\b\b\b\b\b\b\b\b\b\b\b\b\b\b\b\b\b\b\b\b\b\b\b\b\b\b\b\b\b\b\b\b\b\b\r",
        "20000/20000 [==============================] - 0s     "
       ]
      },
      {
       "output_type": "stream",
       "stream": "stdout",
       "text": [
        "\n",
        "\r",
        " 5000/20000 [======>.......................] - ETA: 0s"
       ]
      },
      {
       "output_type": "stream",
       "stream": "stdout",
       "text": [
        "\b\b\b\b\b\b\b\b\b\b\b\b\b\b\b\b\b\b\b\b\b\b\b\b\b\b\b\b\b\b\b\b\b\b\b\b\b\b\b\b\b\b\b\b\b\b\b\b\b\b\b\b\b\b\r",
        "20000/20000 [==============================] - 0s     "
       ]
      },
      {
       "output_type": "stream",
       "stream": "stdout",
       "text": [
        "\n",
        "Train on 80000 samples, validate on 20000 samples\n",
        "Epoch 1/30\n",
        "0s - loss: 0.9711 - acc: 0.2512 - val_loss: 0.9729 - val_acc: 0.2515\n"
       ]
      },
      {
       "output_type": "stream",
       "stream": "stdout",
       "text": [
        "Epoch 2/30\n",
        "0s - loss: 0.9672 - acc: 0.2514 - val_loss: 0.9691 - val_acc: 0.2515\n"
       ]
      },
      {
       "output_type": "stream",
       "stream": "stdout",
       "text": [
        "Epoch 3/30\n",
        "0s - loss: 0.9634 - acc: 0.2514 - val_loss: 0.9655 - val_acc: 0.2515\n"
       ]
      },
      {
       "output_type": "stream",
       "stream": "stdout",
       "text": [
        "Epoch 4/30\n",
        "0s - loss: 0.9599 - acc: 0.2514 - val_loss: 0.9620 - val_acc: 0.2515\n"
       ]
      },
      {
       "output_type": "stream",
       "stream": "stdout",
       "text": [
        "Epoch 5/30\n",
        "0s - loss: 0.9565 - acc: 0.2514 - val_loss: 0.9586 - val_acc: 0.2515\n"
       ]
      },
      {
       "output_type": "stream",
       "stream": "stdout",
       "text": [
        "Epoch 6/30\n",
        "0s - loss: 0.9532 - acc: 0.2514 - val_loss: 0.9554 - val_acc: 0.2515\n"
       ]
      },
      {
       "output_type": "stream",
       "stream": "stdout",
       "text": [
        "Epoch 7/30\n",
        "0s - loss: 0.9501 - acc: 0.2514 - val_loss: 0.9524 - val_acc: 0.2515\n"
       ]
      },
      {
       "output_type": "stream",
       "stream": "stdout",
       "text": [
        "Epoch 8/30\n",
        "0s - loss: 0.9471 - acc: 0.2514 - val_loss: 0.9494 - val_acc: 0.2515\n"
       ]
      },
      {
       "output_type": "stream",
       "stream": "stdout",
       "text": [
        "Epoch 9/30\n",
        "0s - loss: 0.9443 - acc: 0.2514 - val_loss: 0.9466 - val_acc: 0.2515\n"
       ]
      },
      {
       "output_type": "stream",
       "stream": "stdout",
       "text": [
        "Epoch 10/30\n",
        "0s - loss: 0.9415 - acc: 0.2514 - val_loss: 0.9439 - val_acc: 0.2515\n"
       ]
      },
      {
       "output_type": "stream",
       "stream": "stdout",
       "text": [
        "Epoch 11/30\n",
        "0s - loss: 0.9389 - acc: 0.2514 - val_loss: 0.9413 - val_acc: 0.2515\n"
       ]
      },
      {
       "output_type": "stream",
       "stream": "stdout",
       "text": [
        "Epoch 12/30\n",
        "0s - loss: 0.9363 - acc: 0.2514 - val_loss: 0.9388 - val_acc: 0.2515\n"
       ]
      },
      {
       "output_type": "stream",
       "stream": "stdout",
       "text": [
        "Epoch 13/30\n",
        "0s - loss: 0.9339 - acc: 0.2514 - val_loss: 0.9365 - val_acc: 0.2515\n"
       ]
      },
      {
       "output_type": "stream",
       "stream": "stdout",
       "text": [
        "Epoch 14/30\n",
        "0s - loss: 0.9316 - acc: 0.2514 - val_loss: 0.9342 - val_acc: 0.2515\n"
       ]
      },
      {
       "output_type": "stream",
       "stream": "stdout",
       "text": [
        "Epoch 15/30\n",
        "0s - loss: 0.9293 - acc: 0.2514 - val_loss: 0.9319 - val_acc: 0.2515\n"
       ]
      },
      {
       "output_type": "stream",
       "stream": "stdout",
       "text": [
        "Epoch 16/30\n",
        "0s - loss: 0.9271 - acc: 0.2514 - val_loss: 0.9298 - val_acc: 0.2515\n"
       ]
      },
      {
       "output_type": "stream",
       "stream": "stdout",
       "text": [
        "Epoch 17/30\n",
        "0s - loss: 0.9250 - acc: 0.2514 - val_loss: 0.9277 - val_acc: 0.2515\n"
       ]
      },
      {
       "output_type": "stream",
       "stream": "stdout",
       "text": [
        "Epoch 18/30\n",
        "0s - loss: 0.9230 - acc: 0.2514 - val_loss: 0.9257 - val_acc: 0.2515\n"
       ]
      },
      {
       "output_type": "stream",
       "stream": "stdout",
       "text": [
        "Epoch 19/30\n",
        "0s - loss: 0.9211 - acc: 0.2514 - val_loss: 0.9238 - val_acc: 0.2515\n"
       ]
      },
      {
       "output_type": "stream",
       "stream": "stdout",
       "text": [
        "Epoch 20/30\n",
        "0s - loss: 0.9192 - acc: 0.2514 - val_loss: 0.9220 - val_acc: 0.2515\n"
       ]
      },
      {
       "output_type": "stream",
       "stream": "stdout",
       "text": [
        "Epoch 21/30\n",
        "0s - loss: 0.9174 - acc: 0.2514 - val_loss: 0.9202 - val_acc: 0.2515\n"
       ]
      },
      {
       "output_type": "stream",
       "stream": "stdout",
       "text": [
        "Epoch 22/30\n",
        "0s - loss: 0.9156 - acc: 0.2514 - val_loss: 0.9185 - val_acc: 0.2515\n"
       ]
      },
      {
       "output_type": "stream",
       "stream": "stdout",
       "text": [
        "Epoch 23/30\n",
        "0s - loss: 0.9139 - acc: 0.2514 - val_loss: 0.9168 - val_acc: 0.2515\n"
       ]
      },
      {
       "output_type": "stream",
       "stream": "stdout",
       "text": [
        "Epoch 24/30\n",
        "0s - loss: 0.9123 - acc: 0.2514 - val_loss: 0.9152 - val_acc: 0.2515\n"
       ]
      },
      {
       "output_type": "stream",
       "stream": "stdout",
       "text": [
        "Epoch 25/30\n",
        "0s - loss: 0.9107 - acc: 0.2514 - val_loss: 0.9136 - val_acc: 0.2515\n"
       ]
      },
      {
       "output_type": "stream",
       "stream": "stdout",
       "text": [
        "Epoch 26/30\n",
        "0s - loss: 0.9092 - acc: 0.2514 - val_loss: 0.9121 - val_acc: 0.2515\n"
       ]
      },
      {
       "output_type": "stream",
       "stream": "stdout",
       "text": [
        "Epoch 27/30\n",
        "0s - loss: 0.9077 - acc: 0.2514 - val_loss: 0.9106 - val_acc: 0.2515\n"
       ]
      },
      {
       "output_type": "stream",
       "stream": "stdout",
       "text": [
        "Epoch 28/30\n",
        "0s - loss: 0.9063 - acc: 0.2514 - val_loss: 0.9092 - val_acc: 0.2515\n"
       ]
      },
      {
       "output_type": "stream",
       "stream": "stdout",
       "text": [
        "Epoch 29/30\n",
        "0s - loss: 0.9049 - acc: 0.2514 - val_loss: 0.9078 - val_acc: 0.2515\n"
       ]
      },
      {
       "output_type": "stream",
       "stream": "stdout",
       "text": [
        "Epoch 30/30\n",
        "0s - loss: 0.9035 - acc: 0.2514 - val_loss: 0.9065 - val_acc: 0.2515\n"
       ]
      },
      {
       "output_type": "stream",
       "stream": "stdout",
       "text": [
        "\r",
        " 5000/20000 [======>.......................] - ETA: 0s"
       ]
      },
      {
       "output_type": "stream",
       "stream": "stdout",
       "text": [
        "\b\b\b\b\b\b\b\b\b\b\b\b\b\b\b\b\b\b\b\b\b\b\b\b\b\b\b\b\b\b\b\b\b\b\b\b\b\b\b\b\b\b\b\b\b\b\b\b\b\b\b\b\b\b\r",
        "20000/20000 [==============================] - 0s     "
       ]
      },
      {
       "output_type": "stream",
       "stream": "stdout",
       "text": [
        "\n",
        "\r",
        " 5000/20000 [======>.......................] - ETA: 0s"
       ]
      },
      {
       "output_type": "stream",
       "stream": "stdout",
       "text": [
        "\b\b\b\b\b\b\b\b\b\b\b\b\b\b\b\b\b\b\b\b\b\b\b\b\b\b\b\b\b\b\b\b\b\b\b\b\b\b\b\b\b\b\b\b\b\b\b\b\b\b\b\b\b\b\r",
        "20000/20000 [==============================] - 0s     "
       ]
      },
      {
       "output_type": "stream",
       "stream": "stdout",
       "text": [
        "\n",
        "Train on 80000 samples, validate on 20000 samples\n",
        "Epoch 1/30\n",
        "0s - loss: 1.4696 - acc: 0.2490 - val_loss: 1.4653 - val_acc: 0.2524\n"
       ]
      },
      {
       "output_type": "stream",
       "stream": "stdout",
       "text": [
        "Epoch 2/30\n",
        "0s - loss: 1.4652 - acc: 0.2490 - val_loss: 1.4611 - val_acc: 0.2524\n"
       ]
      },
      {
       "output_type": "stream",
       "stream": "stdout",
       "text": [
        "Epoch 3/30\n",
        "0s - loss: 1.4610 - acc: 0.2490 - val_loss: 1.4570 - val_acc: 0.2524\n"
       ]
      },
      {
       "output_type": "stream",
       "stream": "stdout",
       "text": [
        "Epoch 4/30\n",
        "0s - loss: 1.4569 - acc: 0.2490 - val_loss: 1.4531 - val_acc: 0.2524\n"
       ]
      },
      {
       "output_type": "stream",
       "stream": "stdout",
       "text": [
        "Epoch 5/30\n",
        "0s - loss: 1.4531 - acc: 0.2490 - val_loss: 1.4494 - val_acc: 0.2524\n"
       ]
      },
      {
       "output_type": "stream",
       "stream": "stdout",
       "text": [
        "Epoch 6/30\n",
        "0s - loss: 1.4494 - acc: 0.2490 - val_loss: 1.4458 - val_acc: 0.2524\n"
       ]
      },
      {
       "output_type": "stream",
       "stream": "stdout",
       "text": [
        "Epoch 7/30\n",
        "0s - loss: 1.4458 - acc: 0.2490 - val_loss: 1.4424 - val_acc: 0.2524\n"
       ]
      },
      {
       "output_type": "stream",
       "stream": "stdout",
       "text": [
        "Epoch 8/30\n",
        "0s - loss: 1.4425 - acc: 0.2490 - val_loss: 1.4392 - val_acc: 0.2524\n"
       ]
      },
      {
       "output_type": "stream",
       "stream": "stdout",
       "text": [
        "Epoch 9/30\n",
        "0s - loss: 1.4393 - acc: 0.2490 - val_loss: 1.4361 - val_acc: 0.2524\n"
       ]
      },
      {
       "output_type": "stream",
       "stream": "stdout",
       "text": [
        "Epoch 10/30\n",
        "0s - loss: 1.4362 - acc: 0.2490 - val_loss: 1.4332 - val_acc: 0.2524\n"
       ]
      },
      {
       "output_type": "stream",
       "stream": "stdout",
       "text": [
        "Epoch 11/30\n",
        "0s - loss: 1.4333 - acc: 0.2490 - val_loss: 1.4304 - val_acc: 0.2524\n"
       ]
      },
      {
       "output_type": "stream",
       "stream": "stdout",
       "text": [
        "Epoch 12/30\n",
        "0s - loss: 1.4305 - acc: 0.2490 - val_loss: 1.4278 - val_acc: 0.2524\n"
       ]
      },
      {
       "output_type": "stream",
       "stream": "stdout",
       "text": [
        "Epoch 13/30\n",
        "0s - loss: 1.4279 - acc: 0.2490 - val_loss: 1.4252 - val_acc: 0.2524\n"
       ]
      },
      {
       "output_type": "stream",
       "stream": "stdout",
       "text": [
        "Epoch 14/30\n",
        "0s - loss: 1.4254 - acc: 0.2490 - val_loss: 1.4228 - val_acc: 0.2524\n"
       ]
      },
      {
       "output_type": "stream",
       "stream": "stdout",
       "text": [
        "Epoch 15/30\n",
        "0s - loss: 1.4230 - acc: 0.2490 - val_loss: 1.4206 - val_acc: 0.2524\n"
       ]
      },
      {
       "output_type": "stream",
       "stream": "stdout",
       "text": [
        "Epoch 16/30\n",
        "0s - loss: 1.4208 - acc: 0.2490 - val_loss: 1.4184 - val_acc: 0.2524\n"
       ]
      },
      {
       "output_type": "stream",
       "stream": "stdout",
       "text": [
        "Epoch 17/30\n",
        "0s - loss: 1.4186 - acc: 0.2490 - val_loss: 1.4164 - val_acc: 0.2524\n"
       ]
      },
      {
       "output_type": "stream",
       "stream": "stdout",
       "text": [
        "Epoch 18/30\n",
        "0s - loss: 1.4166 - acc: 0.2490 - val_loss: 1.4145 - val_acc: 0.2524\n"
       ]
      },
      {
       "output_type": "stream",
       "stream": "stdout",
       "text": [
        "Epoch 19/30\n",
        "0s - loss: 1.4147 - acc: 0.2490 - val_loss: 1.4127 - val_acc: 0.2524\n"
       ]
      },
      {
       "output_type": "stream",
       "stream": "stdout",
       "text": [
        "Epoch 20/30\n",
        "0s - loss: 1.4129 - acc: 0.2490 - val_loss: 1.4110 - val_acc: 0.2524\n"
       ]
      },
      {
       "output_type": "stream",
       "stream": "stdout",
       "text": [
        "Epoch 21/30\n",
        "0s - loss: 1.4112 - acc: 0.2490 - val_loss: 1.4094 - val_acc: 0.2524\n"
       ]
      },
      {
       "output_type": "stream",
       "stream": "stdout",
       "text": [
        "Epoch 22/30\n",
        "0s - loss: 1.4096 - acc: 0.2490 - val_loss: 1.4079 - val_acc: 0.2524\n"
       ]
      },
      {
       "output_type": "stream",
       "stream": "stdout",
       "text": [
        "Epoch 23/30\n",
        "0s - loss: 1.4081 - acc: 0.2490 - val_loss: 1.4065 - val_acc: 0.2524\n"
       ]
      },
      {
       "output_type": "stream",
       "stream": "stdout",
       "text": [
        "Epoch 24/30\n",
        "0s - loss: 1.4067 - acc: 0.2490 - val_loss: 1.4051 - val_acc: 0.2524\n"
       ]
      },
      {
       "output_type": "stream",
       "stream": "stdout",
       "text": [
        "Epoch 25/30\n",
        "0s - loss: 1.4054 - acc: 0.2469 - val_loss: 1.4038 - val_acc: 0.2524\n"
       ]
      },
      {
       "output_type": "stream",
       "stream": "stdout",
       "text": [
        "Epoch 26/30\n",
        "0s - loss: 1.4041 - acc: 0.2455 - val_loss: 1.4027 - val_acc: 0.2150\n"
       ]
      },
      {
       "output_type": "stream",
       "stream": "stdout",
       "text": [
        "Epoch 27/30\n",
        "0s - loss: 1.4029 - acc: 0.2475 - val_loss: 1.4016 - val_acc: 0.2444\n"
       ]
      },
      {
       "output_type": "stream",
       "stream": "stdout",
       "text": [
        "Epoch 28/30\n",
        "0s - loss: 1.4018 - acc: 0.2503 - val_loss: 1.4005 - val_acc: 0.2444\n"
       ]
      },
      {
       "output_type": "stream",
       "stream": "stdout",
       "text": [
        "Epoch 29/30\n",
        "0s - loss: 1.4008 - acc: 0.2503 - val_loss: 1.3995 - val_acc: 0.2444\n"
       ]
      },
      {
       "output_type": "stream",
       "stream": "stdout",
       "text": [
        "Epoch 30/30\n",
        "0s - loss: 1.3998 - acc: 0.2503 - val_loss: 1.3986 - val_acc: 0.2444\n"
       ]
      },
      {
       "output_type": "stream",
       "stream": "stdout",
       "text": [
        "\r",
        " 5000/20000 [======>.......................] - ETA: 0s"
       ]
      },
      {
       "output_type": "stream",
       "stream": "stdout",
       "text": [
        "\b\b\b\b\b\b\b\b\b\b\b\b\b\b\b\b\b\b\b\b\b\b\b\b\b\b\b\b\b\b\b\b\b\b\b\b\b\b\b\b\b\b\b\b\b\b\b\b\b\b\b\b\b\b\r",
        "20000/20000 [==============================] - 0s     "
       ]
      },
      {
       "output_type": "stream",
       "stream": "stdout",
       "text": [
        "\n",
        "\r",
        " 5000/20000 [======>.......................] - ETA: 0s"
       ]
      },
      {
       "output_type": "stream",
       "stream": "stdout",
       "text": [
        "\b\b\b\b\b\b\b\b\b\b\b\b\b\b\b\b\b\b\b\b\b\b\b\b\b\b\b\b\b\b\b\b\b\b\b\b\b\b\b\b\b\b\b\b\b\b\b\b\b\b\b\b\b\b\r",
        "20000/20000 [==============================] - 0s     "
       ]
      },
      {
       "output_type": "stream",
       "stream": "stdout",
       "text": [
        "\n",
        "Train on 80000 samples, validate on 20000 samples\n",
        "Epoch 1/40\n",
        "0s - loss: 0.9714 - acc: 0.2492 - val_loss: 0.9733 - val_acc: 0.2551\n"
       ]
      },
      {
       "output_type": "stream",
       "stream": "stdout",
       "text": [
        "Epoch 2/40\n",
        "0s - loss: 0.9675 - acc: 0.2498 - val_loss: 0.9694 - val_acc: 0.2515\n"
       ]
      },
      {
       "output_type": "stream",
       "stream": "stdout",
       "text": [
        "Epoch 3/40\n",
        "0s - loss: 0.9638 - acc: 0.2514 - val_loss: 0.9658 - val_acc: 0.2515\n"
       ]
      },
      {
       "output_type": "stream",
       "stream": "stdout",
       "text": [
        "Epoch 4/40\n",
        "0s - loss: 0.9602 - acc: 0.2514 - val_loss: 0.9623 - val_acc: 0.2515\n"
       ]
      },
      {
       "output_type": "stream",
       "stream": "stdout",
       "text": [
        "Epoch 5/40\n",
        "0s - loss: 0.9568 - acc: 0.2514 - val_loss: 0.9589 - val_acc: 0.2515\n"
       ]
      },
      {
       "output_type": "stream",
       "stream": "stdout",
       "text": [
        "Epoch 6/40\n",
        "0s - loss: 0.9535 - acc: 0.2514 - val_loss: 0.9557 - val_acc: 0.2515\n"
       ]
      },
      {
       "output_type": "stream",
       "stream": "stdout",
       "text": [
        "Epoch 7/40\n",
        "0s - loss: 0.9504 - acc: 0.2514 - val_loss: 0.9526 - val_acc: 0.2515\n"
       ]
      },
      {
       "output_type": "stream",
       "stream": "stdout",
       "text": [
        "Epoch 8/40\n",
        "0s - loss: 0.9474 - acc: 0.2514 - val_loss: 0.9497 - val_acc: 0.2515\n"
       ]
      },
      {
       "output_type": "stream",
       "stream": "stdout",
       "text": [
        "Epoch 9/40\n",
        "0s - loss: 0.9445 - acc: 0.2514 - val_loss: 0.9469 - val_acc: 0.2515\n"
       ]
      },
      {
       "output_type": "stream",
       "stream": "stdout",
       "text": [
        "Epoch 10/40\n",
        "0s - loss: 0.9417 - acc: 0.2514 - val_loss: 0.9442 - val_acc: 0.2515\n"
       ]
      },
      {
       "output_type": "stream",
       "stream": "stdout",
       "text": [
        "Epoch 11/40\n",
        "0s - loss: 0.9391 - acc: 0.2514 - val_loss: 0.9416 - val_acc: 0.2515\n"
       ]
      },
      {
       "output_type": "stream",
       "stream": "stdout",
       "text": [
        "Epoch 12/40\n",
        "0s - loss: 0.9366 - acc: 0.2514 - val_loss: 0.9391 - val_acc: 0.2515\n"
       ]
      },
      {
       "output_type": "stream",
       "stream": "stdout",
       "text": [
        "Epoch 13/40\n",
        "0s - loss: 0.9341 - acc: 0.2514 - val_loss: 0.9367 - val_acc: 0.2515\n"
       ]
      },
      {
       "output_type": "stream",
       "stream": "stdout",
       "text": [
        "Epoch 14/40\n",
        "0s - loss: 0.9318 - acc: 0.2514 - val_loss: 0.9343 - val_acc: 0.2515\n"
       ]
      },
      {
       "output_type": "stream",
       "stream": "stdout",
       "text": [
        "Epoch 15/40\n",
        "0s - loss: 0.9295 - acc: 0.2514 - val_loss: 0.9321 - val_acc: 0.2515\n"
       ]
      },
      {
       "output_type": "stream",
       "stream": "stdout",
       "text": [
        "Epoch 16/40\n",
        "0s - loss: 0.9273 - acc: 0.2514 - val_loss: 0.9300 - val_acc: 0.2515\n"
       ]
      },
      {
       "output_type": "stream",
       "stream": "stdout",
       "text": [
        "Epoch 17/40\n",
        "0s - loss: 0.9252 - acc: 0.2514 - val_loss: 0.9279 - val_acc: 0.2515\n"
       ]
      },
      {
       "output_type": "stream",
       "stream": "stdout",
       "text": [
        "Epoch 18/40\n",
        "0s - loss: 0.9232 - acc: 0.2514 - val_loss: 0.9259 - val_acc: 0.2515\n"
       ]
      },
      {
       "output_type": "stream",
       "stream": "stdout",
       "text": [
        "Epoch 19/40\n",
        "0s - loss: 0.9212 - acc: 0.2514 - val_loss: 0.9240 - val_acc: 0.2515\n"
       ]
      },
      {
       "output_type": "stream",
       "stream": "stdout",
       "text": [
        "Epoch 20/40\n",
        "0s - loss: 0.9194 - acc: 0.2514 - val_loss: 0.9221 - val_acc: 0.2515\n"
       ]
      },
      {
       "output_type": "stream",
       "stream": "stdout",
       "text": [
        "Epoch 21/40\n",
        "0s - loss: 0.9175 - acc: 0.2514 - val_loss: 0.9203 - val_acc: 0.2515\n"
       ]
      },
      {
       "output_type": "stream",
       "stream": "stdout",
       "text": [
        "Epoch 22/40\n",
        "0s - loss: 0.9158 - acc: 0.2514 - val_loss: 0.9186 - val_acc: 0.2515\n"
       ]
      },
      {
       "output_type": "stream",
       "stream": "stdout",
       "text": [
        "Epoch 23/40\n",
        "0s - loss: 0.9141 - acc: 0.2514 - val_loss: 0.9169 - val_acc: 0.2515\n"
       ]
      },
      {
       "output_type": "stream",
       "stream": "stdout",
       "text": [
        "Epoch 24/40\n",
        "0s - loss: 0.9124 - acc: 0.2514 - val_loss: 0.9153 - val_acc: 0.2515\n"
       ]
      },
      {
       "output_type": "stream",
       "stream": "stdout",
       "text": [
        "Epoch 25/40\n",
        "0s - loss: 0.9108 - acc: 0.2514 - val_loss: 0.9137 - val_acc: 0.2515\n"
       ]
      },
      {
       "output_type": "stream",
       "stream": "stdout",
       "text": [
        "Epoch 26/40\n",
        "0s - loss: 0.9093 - acc: 0.2514 - val_loss: 0.9122 - val_acc: 0.2515\n"
       ]
      },
      {
       "output_type": "stream",
       "stream": "stdout",
       "text": [
        "Epoch 27/40\n",
        "0s - loss: 0.9078 - acc: 0.2514 - val_loss: 0.9107 - val_acc: 0.2515\n"
       ]
      },
      {
       "output_type": "stream",
       "stream": "stdout",
       "text": [
        "Epoch 28/40\n",
        "0s - loss: 0.9064 - acc: 0.2514 - val_loss: 0.9093 - val_acc: 0.2515\n"
       ]
      },
      {
       "output_type": "stream",
       "stream": "stdout",
       "text": [
        "Epoch 29/40\n",
        "0s - loss: 0.9050 - acc: 0.2514 - val_loss: 0.9079 - val_acc: 0.2515\n"
       ]
      },
      {
       "output_type": "stream",
       "stream": "stdout",
       "text": [
        "Epoch 30/40\n",
        "0s - loss: 0.9036 - acc: 0.2514 - val_loss: 0.9066 - val_acc: 0.2515\n"
       ]
      },
      {
       "output_type": "stream",
       "stream": "stdout",
       "text": [
        "Epoch 31/40\n",
        "0s - loss: 0.9023 - acc: 0.2514 - val_loss: 0.9053 - val_acc: 0.2515\n"
       ]
      },
      {
       "output_type": "stream",
       "stream": "stdout",
       "text": [
        "Epoch 32/40\n",
        "0s - loss: 0.9010 - acc: 0.2514 - val_loss: 0.9040 - val_acc: 0.2515\n"
       ]
      },
      {
       "output_type": "stream",
       "stream": "stdout",
       "text": [
        "Epoch 33/40\n",
        "0s - loss: 0.8998 - acc: 0.2514 - val_loss: 0.9028 - val_acc: 0.2515\n"
       ]
      },
      {
       "output_type": "stream",
       "stream": "stdout",
       "text": [
        "Epoch 34/40\n",
        "0s - loss: 0.8986 - acc: 0.2514 - val_loss: 0.9016 - val_acc: 0.2515\n"
       ]
      },
      {
       "output_type": "stream",
       "stream": "stdout",
       "text": [
        "Epoch 35/40\n",
        "0s - loss: 0.8974 - acc: 0.2514 - val_loss: 0.9004 - val_acc: 0.2515\n"
       ]
      },
      {
       "output_type": "stream",
       "stream": "stdout",
       "text": [
        "Epoch 36/40\n",
        "0s - loss: 0.8962 - acc: 0.2514 - val_loss: 0.8993 - val_acc: 0.2515\n"
       ]
      },
      {
       "output_type": "stream",
       "stream": "stdout",
       "text": [
        "Epoch 37/40\n",
        "0s - loss: 0.8951 - acc: 0.2514 - val_loss: 0.8982 - val_acc: 0.2515\n"
       ]
      },
      {
       "output_type": "stream",
       "stream": "stdout",
       "text": [
        "Epoch 38/40\n",
        "0s - loss: 0.8940 - acc: 0.2514 - val_loss: 0.8971 - val_acc: 0.2515\n"
       ]
      },
      {
       "output_type": "stream",
       "stream": "stdout",
       "text": [
        "Epoch 39/40\n",
        "0s - loss: 0.8930 - acc: 0.2514 - val_loss: 0.8961 - val_acc: 0.2515\n"
       ]
      },
      {
       "output_type": "stream",
       "stream": "stdout",
       "text": [
        "Epoch 40/40\n",
        "0s - loss: 0.8920 - acc: 0.2514 - val_loss: 0.8951 - val_acc: 0.2515\n"
       ]
      },
      {
       "output_type": "stream",
       "stream": "stdout",
       "text": [
        "\r",
        " 5000/20000 [======>.......................] - ETA: 0s"
       ]
      },
      {
       "output_type": "stream",
       "stream": "stdout",
       "text": [
        "\b\b\b\b\b\b\b\b\b\b\b\b\b\b\b\b\b\b\b\b\b\b\b\b\b\b\b\b\b\b\b\b\b\b\b\b\b\b\b\b\b\b\b\b\b\b\b\b\b\b\b\b\b\b\r",
        "20000/20000 [==============================] - 0s     "
       ]
      },
      {
       "output_type": "stream",
       "stream": "stdout",
       "text": [
        "\n",
        "\r",
        " 5000/20000 [======>.......................] - ETA: 0s"
       ]
      },
      {
       "output_type": "stream",
       "stream": "stdout",
       "text": [
        "\b\b\b\b\b\b\b\b\b\b\b\b\b\b\b\b\b\b\b\b\b\b\b\b\b\b\b\b\b\b\b\b\b\b\b\b\b\b\b\b\b\b\b\b\b\b\b\b\b\b\b\b\b\b\r",
        "20000/20000 [==============================] - 0s     "
       ]
      },
      {
       "output_type": "stream",
       "stream": "stdout",
       "text": [
        "\n",
        "Train on 80000 samples, validate on 20000 samples\n",
        "Epoch 1/40\n",
        "0s - loss: 1.4929 - acc: 0.2490 - val_loss: 1.4879 - val_acc: 0.2524\n"
       ]
      },
      {
       "output_type": "stream",
       "stream": "stdout",
       "text": [
        "Epoch 2/40\n",
        "0s - loss: 1.4877 - acc: 0.2490 - val_loss: 1.4828 - val_acc: 0.2524\n"
       ]
      },
      {
       "output_type": "stream",
       "stream": "stdout",
       "text": [
        "Epoch 3/40\n",
        "0s - loss: 1.4826 - acc: 0.2490 - val_loss: 1.4778 - val_acc: 0.2524\n"
       ]
      },
      {
       "output_type": "stream",
       "stream": "stdout",
       "text": [
        "Epoch 4/40\n",
        "0s - loss: 1.4776 - acc: 0.2490 - val_loss: 1.4731 - val_acc: 0.2524\n"
       ]
      },
      {
       "output_type": "stream",
       "stream": "stdout",
       "text": [
        "Epoch 5/40\n",
        "0s - loss: 1.4729 - acc: 0.2490 - val_loss: 1.4685 - val_acc: 0.2524\n"
       ]
      },
      {
       "output_type": "stream",
       "stream": "stdout",
       "text": [
        "Epoch 6/40\n",
        "0s - loss: 1.4684 - acc: 0.2490 - val_loss: 1.4642 - val_acc: 0.2524\n"
       ]
      },
      {
       "output_type": "stream",
       "stream": "stdout",
       "text": [
        "Epoch 7/40\n",
        "0s - loss: 1.4640 - acc: 0.2490 - val_loss: 1.4600 - val_acc: 0.2524\n"
       ]
      },
      {
       "output_type": "stream",
       "stream": "stdout",
       "text": [
        "Epoch 8/40\n",
        "0s - loss: 1.4599 - acc: 0.2490 - val_loss: 1.4559 - val_acc: 0.2524\n"
       ]
      },
      {
       "output_type": "stream",
       "stream": "stdout",
       "text": [
        "Epoch 9/40\n",
        "0s - loss: 1.4559 - acc: 0.2490 - val_loss: 1.4521 - val_acc: 0.2524\n"
       ]
      },
      {
       "output_type": "stream",
       "stream": "stdout",
       "text": [
        "Epoch 10/40\n",
        "0s - loss: 1.4521 - acc: 0.2490 - val_loss: 1.4484 - val_acc: 0.2524\n"
       ]
      },
      {
       "output_type": "stream",
       "stream": "stdout",
       "text": [
        "Epoch 11/40\n",
        "0s - loss: 1.4484 - acc: 0.2490 - val_loss: 1.4449 - val_acc: 0.2524\n"
       ]
      },
      {
       "output_type": "stream",
       "stream": "stdout",
       "text": [
        "Epoch 12/40\n",
        "0s - loss: 1.4449 - acc: 0.2490 - val_loss: 1.4416 - val_acc: 0.2524\n"
       ]
      },
      {
       "output_type": "stream",
       "stream": "stdout",
       "text": [
        "Epoch 13/40\n",
        "0s - loss: 1.4416 - acc: 0.2490 - val_loss: 1.4384 - val_acc: 0.2524\n"
       ]
      },
      {
       "output_type": "stream",
       "stream": "stdout",
       "text": [
        "Epoch 14/40\n",
        "0s - loss: 1.4384 - acc: 0.2490 - val_loss: 1.4353 - val_acc: 0.2524\n"
       ]
      },
      {
       "output_type": "stream",
       "stream": "stdout",
       "text": [
        "Epoch 15/40\n",
        "0s - loss: 1.4354 - acc: 0.2490 - val_loss: 1.4324 - val_acc: 0.2524\n"
       ]
      },
      {
       "output_type": "stream",
       "stream": "stdout",
       "text": [
        "Epoch 16/40\n",
        "0s - loss: 1.4325 - acc: 0.2490 - val_loss: 1.4297 - val_acc: 0.2524\n"
       ]
      },
      {
       "output_type": "stream",
       "stream": "stdout",
       "text": [
        "Epoch 17/40\n",
        "0s - loss: 1.4298 - acc: 0.2490 - val_loss: 1.4271 - val_acc: 0.2524\n"
       ]
      },
      {
       "output_type": "stream",
       "stream": "stdout",
       "text": [
        "Epoch 18/40\n",
        "0s - loss: 1.4272 - acc: 0.2490 - val_loss: 1.4246 - val_acc: 0.2524\n"
       ]
      },
      {
       "output_type": "stream",
       "stream": "stdout",
       "text": [
        "Epoch 19/40\n",
        "0s - loss: 1.4247 - acc: 0.2490 - val_loss: 1.4222 - val_acc: 0.2524\n"
       ]
      },
      {
       "output_type": "stream",
       "stream": "stdout",
       "text": [
        "Epoch 20/40\n",
        "0s - loss: 1.4224 - acc: 0.2490 - val_loss: 1.4200 - val_acc: 0.2524\n"
       ]
      },
      {
       "output_type": "stream",
       "stream": "stdout",
       "text": [
        "Epoch 21/40\n",
        "0s - loss: 1.4202 - acc: 0.2490 - val_loss: 1.4179 - val_acc: 0.2524\n"
       ]
      },
      {
       "output_type": "stream",
       "stream": "stdout",
       "text": [
        "Epoch 22/40\n",
        "0s - loss: 1.4181 - acc: 0.2490 - val_loss: 1.4159 - val_acc: 0.2524\n"
       ]
      },
      {
       "output_type": "stream",
       "stream": "stdout",
       "text": [
        "Epoch 23/40\n",
        "0s - loss: 1.4161 - acc: 0.2490 - val_loss: 1.4140 - val_acc: 0.2524\n"
       ]
      },
      {
       "output_type": "stream",
       "stream": "stdout",
       "text": [
        "Epoch 24/40\n",
        "0s - loss: 1.4142 - acc: 0.2490 - val_loss: 1.4122 - val_acc: 0.2524\n"
       ]
      },
      {
       "output_type": "stream",
       "stream": "stdout",
       "text": [
        "Epoch 25/40\n",
        "0s - loss: 1.4125 - acc: 0.2490 - val_loss: 1.4106 - val_acc: 0.2524\n"
       ]
      },
      {
       "output_type": "stream",
       "stream": "stdout",
       "text": [
        "Epoch 26/40\n",
        "0s - loss: 1.4108 - acc: 0.2490 - val_loss: 1.4090 - val_acc: 0.2524\n"
       ]
      },
      {
       "output_type": "stream",
       "stream": "stdout",
       "text": [
        "Epoch 27/40\n",
        "0s - loss: 1.4092 - acc: 0.2490 - val_loss: 1.4075 - val_acc: 0.2524\n"
       ]
      },
      {
       "output_type": "stream",
       "stream": "stdout",
       "text": [
        "Epoch 28/40\n",
        "0s - loss: 1.4077 - acc: 0.2362 - val_loss: 1.4061 - val_acc: 0.2444\n"
       ]
      },
      {
       "output_type": "stream",
       "stream": "stdout",
       "text": [
        "Epoch 29/40\n",
        "0s - loss: 1.4063 - acc: 0.2503 - val_loss: 1.4048 - val_acc: 0.2444\n"
       ]
      },
      {
       "output_type": "stream",
       "stream": "stdout",
       "text": [
        "Epoch 30/40\n",
        "0s - loss: 1.4050 - acc: 0.2503 - val_loss: 1.4035 - val_acc: 0.2444\n"
       ]
      },
      {
       "output_type": "stream",
       "stream": "stdout",
       "text": [
        "Epoch 31/40\n",
        "0s - loss: 1.4038 - acc: 0.2503 - val_loss: 1.4024 - val_acc: 0.2444\n"
       ]
      },
      {
       "output_type": "stream",
       "stream": "stdout",
       "text": [
        "Epoch 32/40\n",
        "0s - loss: 1.4026 - acc: 0.2503 - val_loss: 1.4013 - val_acc: 0.2444\n"
       ]
      },
      {
       "output_type": "stream",
       "stream": "stdout",
       "text": [
        "Epoch 33/40\n",
        "0s - loss: 1.4015 - acc: 0.2503 - val_loss: 1.4002 - val_acc: 0.2444\n"
       ]
      },
      {
       "output_type": "stream",
       "stream": "stdout",
       "text": [
        "Epoch 34/40\n",
        "0s - loss: 1.4005 - acc: 0.2503 - val_loss: 1.3993 - val_acc: 0.2444\n"
       ]
      },
      {
       "output_type": "stream",
       "stream": "stdout",
       "text": [
        "Epoch 35/40\n",
        "0s - loss: 1.3996 - acc: 0.2503 - val_loss: 1.3984 - val_acc: 0.2444\n"
       ]
      },
      {
       "output_type": "stream",
       "stream": "stdout",
       "text": [
        "Epoch 36/40\n",
        "0s - loss: 1.3987 - acc: 0.2503 - val_loss: 1.3975 - val_acc: 0.2444\n"
       ]
      },
      {
       "output_type": "stream",
       "stream": "stdout",
       "text": [
        "Epoch 37/40\n",
        "0s - loss: 1.3978 - acc: 0.2503 - val_loss: 1.3967 - val_acc: 0.2444\n"
       ]
      },
      {
       "output_type": "stream",
       "stream": "stdout",
       "text": [
        "Epoch 38/40\n",
        "0s - loss: 1.3970 - acc: 0.2503 - val_loss: 1.3960 - val_acc: 0.2444\n"
       ]
      },
      {
       "output_type": "stream",
       "stream": "stdout",
       "text": [
        "Epoch 39/40\n",
        "0s - loss: 1.3963 - acc: 0.2503 - val_loss: 1.3953 - val_acc: 0.2444\n"
       ]
      },
      {
       "output_type": "stream",
       "stream": "stdout",
       "text": [
        "Epoch 40/40\n",
        "0s - loss: 1.3956 - acc: 0.2503 - val_loss: 1.3947 - val_acc: 0.2444\n"
       ]
      },
      {
       "output_type": "stream",
       "stream": "stdout",
       "text": [
        "\r",
        " 5000/20000 [======>.......................] - ETA: 0s"
       ]
      },
      {
       "output_type": "stream",
       "stream": "stdout",
       "text": [
        "\b\b\b\b\b\b\b\b\b\b\b\b\b\b\b\b\b\b\b\b\b\b\b\b\b\b\b\b\b\b\b\b\b\b\b\b\b\b\b\b\b\b\b\b\b\b\b\b\b\b\b\b\b\b\r",
        "20000/20000 [==============================] - 0s     "
       ]
      },
      {
       "output_type": "stream",
       "stream": "stdout",
       "text": [
        "\n",
        "\r",
        " 5000/20000 [======>.......................] - ETA: 0s"
       ]
      },
      {
       "output_type": "stream",
       "stream": "stdout",
       "text": [
        "\b\b\b\b\b\b\b\b\b\b\b\b\b\b\b\b\b\b\b\b\b\b\b\b\b\b\b\b\b\b\b\b\b\b\b\b\b\b\b\b\b\b\b\b\b\b\b\b\b\b\b\b\b\b\r",
        "20000/20000 [==============================] - 0s     "
       ]
      },
      {
       "output_type": "stream",
       "stream": "stdout",
       "text": [
        "\n",
        "Train on 80000 samples, validate on 20000 samples\n",
        "Epoch 1/50\n",
        "0s - loss: 0.9808 - acc: 0.2492 - val_loss: 0.9825 - val_acc: 0.2551\n"
       ]
      },
      {
       "output_type": "stream",
       "stream": "stdout",
       "text": [
        "Epoch 2/50\n",
        "0s - loss: 0.9765 - acc: 0.2492 - val_loss: 0.9782 - val_acc: 0.2551\n"
       ]
      },
      {
       "output_type": "stream",
       "stream": "stdout",
       "text": [
        "Epoch 3/50\n",
        "0s - loss: 0.9723 - acc: 0.2467 - val_loss: 0.9741 - val_acc: 0.2551\n"
       ]
      },
      {
       "output_type": "stream",
       "stream": "stdout",
       "text": [
        "Epoch 4/50\n",
        "0s - loss: 0.9683 - acc: 0.2487 - val_loss: 0.9703 - val_acc: 0.2515\n"
       ]
      },
      {
       "output_type": "stream",
       "stream": "stdout",
       "text": [
        "Epoch 5/50\n",
        "0s - loss: 0.9646 - acc: 0.2496 - val_loss: 0.9666 - val_acc: 0.2515\n"
       ]
      },
      {
       "output_type": "stream",
       "stream": "stdout",
       "text": [
        "Epoch 6/50\n",
        "0s - loss: 0.9610 - acc: 0.2514 - val_loss: 0.9630 - val_acc: 0.2515\n"
       ]
      },
      {
       "output_type": "stream",
       "stream": "stdout",
       "text": [
        "Epoch 7/50\n",
        "0s - loss: 0.9575 - acc: 0.2514 - val_loss: 0.9596 - val_acc: 0.2515\n"
       ]
      },
      {
       "output_type": "stream",
       "stream": "stdout",
       "text": [
        "Epoch 8/50\n",
        "0s - loss: 0.9542 - acc: 0.2514 - val_loss: 0.9564 - val_acc: 0.2515\n"
       ]
      },
      {
       "output_type": "stream",
       "stream": "stdout",
       "text": [
        "Epoch 9/50\n",
        "0s - loss: 0.9510 - acc: 0.2514 - val_loss: 0.9533 - val_acc: 0.2515\n"
       ]
      },
      {
       "output_type": "stream",
       "stream": "stdout",
       "text": [
        "Epoch 10/50\n",
        "0s - loss: 0.9480 - acc: 0.2514 - val_loss: 0.9503 - val_acc: 0.2515\n"
       ]
      },
      {
       "output_type": "stream",
       "stream": "stdout",
       "text": [
        "Epoch 11/50\n",
        "0s - loss: 0.9451 - acc: 0.2514 - val_loss: 0.9475 - val_acc: 0.2515\n"
       ]
      },
      {
       "output_type": "stream",
       "stream": "stdout",
       "text": [
        "Epoch 12/50\n",
        "0s - loss: 0.9423 - acc: 0.2514 - val_loss: 0.9448 - val_acc: 0.2515\n"
       ]
      },
      {
       "output_type": "stream",
       "stream": "stdout",
       "text": [
        "Epoch 13/50\n",
        "0s - loss: 0.9397 - acc: 0.2514 - val_loss: 0.9421 - val_acc: 0.2515\n"
       ]
      },
      {
       "output_type": "stream",
       "stream": "stdout",
       "text": [
        "Epoch 14/50\n",
        "0s - loss: 0.9371 - acc: 0.2514 - val_loss: 0.9396 - val_acc: 0.2515\n"
       ]
      },
      {
       "output_type": "stream",
       "stream": "stdout",
       "text": [
        "Epoch 15/50\n",
        "0s - loss: 0.9346 - acc: 0.2514 - val_loss: 0.9372 - val_acc: 0.2515\n"
       ]
      },
      {
       "output_type": "stream",
       "stream": "stdout",
       "text": [
        "Epoch 16/50\n",
        "0s - loss: 0.9323 - acc: 0.2514 - val_loss: 0.9348 - val_acc: 0.2515\n"
       ]
      },
      {
       "output_type": "stream",
       "stream": "stdout",
       "text": [
        "Epoch 17/50\n",
        "0s - loss: 0.9300 - acc: 0.2514 - val_loss: 0.9326 - val_acc: 0.2515\n"
       ]
      },
      {
       "output_type": "stream",
       "stream": "stdout",
       "text": [
        "Epoch 18/50\n",
        "0s - loss: 0.9278 - acc: 0.2514 - val_loss: 0.9304 - val_acc: 0.2515\n"
       ]
      },
      {
       "output_type": "stream",
       "stream": "stdout",
       "text": [
        "Epoch 19/50\n",
        "0s - loss: 0.9257 - acc: 0.2514 - val_loss: 0.9284 - val_acc: 0.2515\n"
       ]
      },
      {
       "output_type": "stream",
       "stream": "stdout",
       "text": [
        "Epoch 20/50\n",
        "0s - loss: 0.9236 - acc: 0.2514 - val_loss: 0.9264 - val_acc: 0.2515\n"
       ]
      },
      {
       "output_type": "stream",
       "stream": "stdout",
       "text": [
        "Epoch 21/50\n",
        "0s - loss: 0.9217 - acc: 0.2514 - val_loss: 0.9244 - val_acc: 0.2515\n"
       ]
      },
      {
       "output_type": "stream",
       "stream": "stdout",
       "text": [
        "Epoch 22/50\n",
        "0s - loss: 0.9198 - acc: 0.2514 - val_loss: 0.9225 - val_acc: 0.2515\n"
       ]
      },
      {
       "output_type": "stream",
       "stream": "stdout",
       "text": [
        "Epoch 23/50\n",
        "0s - loss: 0.9179 - acc: 0.2514 - val_loss: 0.9207 - val_acc: 0.2515\n"
       ]
      },
      {
       "output_type": "stream",
       "stream": "stdout",
       "text": [
        "Epoch 24/50\n",
        "0s - loss: 0.9162 - acc: 0.2514 - val_loss: 0.9190 - val_acc: 0.2515\n"
       ]
      },
      {
       "output_type": "stream",
       "stream": "stdout",
       "text": [
        "Epoch 25/50\n",
        "0s - loss: 0.9144 - acc: 0.2514 - val_loss: 0.9173 - val_acc: 0.2515\n"
       ]
      },
      {
       "output_type": "stream",
       "stream": "stdout",
       "text": [
        "Epoch 26/50\n",
        "0s - loss: 0.9128 - acc: 0.2514 - val_loss: 0.9156 - val_acc: 0.2515\n"
       ]
      },
      {
       "output_type": "stream",
       "stream": "stdout",
       "text": [
        "Epoch 27/50\n",
        "0s - loss: 0.9112 - acc: 0.2514 - val_loss: 0.9141 - val_acc: 0.2515\n"
       ]
      },
      {
       "output_type": "stream",
       "stream": "stdout",
       "text": [
        "Epoch 28/50\n",
        "0s - loss: 0.9096 - acc: 0.2514 - val_loss: 0.9125 - val_acc: 0.2515\n"
       ]
      },
      {
       "output_type": "stream",
       "stream": "stdout",
       "text": [
        "Epoch 29/50\n",
        "0s - loss: 0.9081 - acc: 0.2514 - val_loss: 0.9111 - val_acc: 0.2515\n"
       ]
      },
      {
       "output_type": "stream",
       "stream": "stdout",
       "text": [
        "Epoch 30/50\n",
        "0s - loss: 0.9067 - acc: 0.2514 - val_loss: 0.9096 - val_acc: 0.2515\n"
       ]
      },
      {
       "output_type": "stream",
       "stream": "stdout",
       "text": [
        "Epoch 31/50\n",
        "0s - loss: 0.9053 - acc: 0.2514 - val_loss: 0.9082 - val_acc: 0.2515\n"
       ]
      },
      {
       "output_type": "stream",
       "stream": "stdout",
       "text": [
        "Epoch 32/50\n",
        "0s - loss: 0.9039 - acc: 0.2514 - val_loss: 0.9069 - val_acc: 0.2515\n"
       ]
      },
      {
       "output_type": "stream",
       "stream": "stdout",
       "text": [
        "Epoch 33/50\n",
        "0s - loss: 0.9026 - acc: 0.2514 - val_loss: 0.9055 - val_acc: 0.2515\n"
       ]
      },
      {
       "output_type": "stream",
       "stream": "stdout",
       "text": [
        "Epoch 34/50\n",
        "0s - loss: 0.9013 - acc: 0.2514 - val_loss: 0.9043 - val_acc: 0.2515\n"
       ]
      },
      {
       "output_type": "stream",
       "stream": "stdout",
       "text": [
        "Epoch 35/50\n",
        "0s - loss: 0.9000 - acc: 0.2514 - val_loss: 0.9030 - val_acc: 0.2515\n"
       ]
      },
      {
       "output_type": "stream",
       "stream": "stdout",
       "text": [
        "Epoch 36/50\n",
        "0s - loss: 0.8988 - acc: 0.2514 - val_loss: 0.9018 - val_acc: 0.2515\n"
       ]
      },
      {
       "output_type": "stream",
       "stream": "stdout",
       "text": [
        "Epoch 37/50\n",
        "0s - loss: 0.8976 - acc: 0.2514 - val_loss: 0.9007 - val_acc: 0.2515\n"
       ]
      },
      {
       "output_type": "stream",
       "stream": "stdout",
       "text": [
        "Epoch 38/50\n",
        "0s - loss: 0.8965 - acc: 0.2514 - val_loss: 0.8995 - val_acc: 0.2515\n"
       ]
      },
      {
       "output_type": "stream",
       "stream": "stdout",
       "text": [
        "Epoch 39/50\n",
        "0s - loss: 0.8954 - acc: 0.2514 - val_loss: 0.8984 - val_acc: 0.2515\n"
       ]
      },
      {
       "output_type": "stream",
       "stream": "stdout",
       "text": [
        "Epoch 40/50\n",
        "0s - loss: 0.8943 - acc: 0.2514 - val_loss: 0.8974 - val_acc: 0.2515\n"
       ]
      },
      {
       "output_type": "stream",
       "stream": "stdout",
       "text": [
        "Epoch 41/50\n",
        "0s - loss: 0.8932 - acc: 0.2514 - val_loss: 0.8963 - val_acc: 0.2515\n"
       ]
      },
      {
       "output_type": "stream",
       "stream": "stdout",
       "text": [
        "Epoch 42/50\n",
        "0s - loss: 0.8922 - acc: 0.2514 - val_loss: 0.8953 - val_acc: 0.2515\n"
       ]
      },
      {
       "output_type": "stream",
       "stream": "stdout",
       "text": [
        "Epoch 43/50\n",
        "0s - loss: 0.8912 - acc: 0.2514 - val_loss: 0.8943 - val_acc: 0.2515\n"
       ]
      },
      {
       "output_type": "stream",
       "stream": "stdout",
       "text": [
        "Epoch 44/50\n",
        "0s - loss: 0.8902 - acc: 0.2514 - val_loss: 0.8933 - val_acc: 0.2515\n"
       ]
      },
      {
       "output_type": "stream",
       "stream": "stdout",
       "text": [
        "Epoch 45/50\n",
        "0s - loss: 0.8893 - acc: 0.2514 - val_loss: 0.8924 - val_acc: 0.2515\n"
       ]
      },
      {
       "output_type": "stream",
       "stream": "stdout",
       "text": [
        "Epoch 46/50\n",
        "0s - loss: 0.8883 - acc: 0.2514 - val_loss: 0.8915 - val_acc: 0.2515\n"
       ]
      },
      {
       "output_type": "stream",
       "stream": "stdout",
       "text": [
        "Epoch 47/50\n",
        "0s - loss: 0.8874 - acc: 0.2514 - val_loss: 0.8906 - val_acc: 0.2515\n"
       ]
      },
      {
       "output_type": "stream",
       "stream": "stdout",
       "text": [
        "Epoch 48/50\n",
        "0s - loss: 0.8866 - acc: 0.2514 - val_loss: 0.8897 - val_acc: 0.2515\n"
       ]
      },
      {
       "output_type": "stream",
       "stream": "stdout",
       "text": [
        "Epoch 49/50\n",
        "0s - loss: 0.8857 - acc: 0.2514 - val_loss: 0.8889 - val_acc: 0.2515\n"
       ]
      },
      {
       "output_type": "stream",
       "stream": "stdout",
       "text": [
        "Epoch 50/50\n",
        "0s - loss: 0.8849 - acc: 0.2514 - val_loss: 0.8880 - val_acc: 0.2515\n"
       ]
      },
      {
       "output_type": "stream",
       "stream": "stdout",
       "text": [
        "\r",
        " 5000/20000 [======>.......................] - ETA: 0s"
       ]
      },
      {
       "output_type": "stream",
       "stream": "stdout",
       "text": [
        "\b\b\b\b\b\b\b\b\b\b\b\b\b\b\b\b\b\b\b\b\b\b\b\b\b\b\b\b\b\b\b\b\b\b\b\b\b\b\b\b\b\b\b\b\b\b\b\b\b\b\b\b\b\b\r",
        "20000/20000 [==============================] - 0s     "
       ]
      },
      {
       "output_type": "stream",
       "stream": "stdout",
       "text": [
        "\n",
        "\r",
        " 5000/20000 [======>.......................] - ETA: 0s"
       ]
      },
      {
       "output_type": "stream",
       "stream": "stdout",
       "text": [
        "\b\b\b\b\b\b\b\b\b\b\b\b\b\b\b\b\b\b\b\b\b\b\b\b\b\b\b\b\b\b\b\b\b\b\b\b\b\b\b\b\b\b\b\b\b\b\b\b\b\b\b\b\b\b\r",
        "20000/20000 [==============================] - 0s     "
       ]
      },
      {
       "output_type": "stream",
       "stream": "stdout",
       "text": [
        "\n",
        "Train on 80000 samples, validate on 20000 samples\n",
        "Epoch 1/50\n",
        "0s - loss: 1.5104 - acc: 0.2490 - val_loss: 1.5049 - val_acc: 0.2524\n"
       ]
      },
      {
       "output_type": "stream",
       "stream": "stdout",
       "text": [
        "Epoch 2/50\n",
        "0s - loss: 1.5045 - acc: 0.2490 - val_loss: 1.4991 - val_acc: 0.2524\n"
       ]
      },
      {
       "output_type": "stream",
       "stream": "stdout",
       "text": [
        "Epoch 3/50\n",
        "0s - loss: 1.4988 - acc: 0.2490 - val_loss: 1.4936 - val_acc: 0.2524\n"
       ]
      },
      {
       "output_type": "stream",
       "stream": "stdout",
       "text": [
        "Epoch 4/50\n",
        "0s - loss: 1.4933 - acc: 0.2490 - val_loss: 1.4883 - val_acc: 0.2524\n"
       ]
      },
      {
       "output_type": "stream",
       "stream": "stdout",
       "text": [
        "Epoch 5/50\n",
        "0s - loss: 1.4880 - acc: 0.2490 - val_loss: 1.4831 - val_acc: 0.2524\n"
       ]
      },
      {
       "output_type": "stream",
       "stream": "stdout",
       "text": [
        "Epoch 6/50\n",
        "0s - loss: 1.4829 - acc: 0.2490 - val_loss: 1.4782 - val_acc: 0.2524\n"
       ]
      },
      {
       "output_type": "stream",
       "stream": "stdout",
       "text": [
        "Epoch 7/50\n",
        "0s - loss: 1.4780 - acc: 0.2490 - val_loss: 1.4734 - val_acc: 0.2524\n"
       ]
      },
      {
       "output_type": "stream",
       "stream": "stdout",
       "text": [
        "Epoch 8/50\n",
        "0s - loss: 1.4733 - acc: 0.2490 - val_loss: 1.4688 - val_acc: 0.2524\n"
       ]
      },
      {
       "output_type": "stream",
       "stream": "stdout",
       "text": [
        "Epoch 9/50\n",
        "0s - loss: 1.4687 - acc: 0.2490 - val_loss: 1.4645 - val_acc: 0.2524\n"
       ]
      },
      {
       "output_type": "stream",
       "stream": "stdout",
       "text": [
        "Epoch 10/50\n",
        "0s - loss: 1.4643 - acc: 0.2490 - val_loss: 1.4602 - val_acc: 0.2524\n"
       ]
      },
      {
       "output_type": "stream",
       "stream": "stdout",
       "text": [
        "Epoch 11/50\n",
        "0s - loss: 1.4602 - acc: 0.2490 - val_loss: 1.4562 - val_acc: 0.2524\n"
       ]
      },
      {
       "output_type": "stream",
       "stream": "stdout",
       "text": [
        "Epoch 12/50\n",
        "0s - loss: 1.4562 - acc: 0.2490 - val_loss: 1.4524 - val_acc: 0.2524\n"
       ]
      },
      {
       "output_type": "stream",
       "stream": "stdout",
       "text": [
        "Epoch 13/50\n",
        "0s - loss: 1.4523 - acc: 0.2490 - val_loss: 1.4487 - val_acc: 0.2524\n"
       ]
      },
      {
       "output_type": "stream",
       "stream": "stdout",
       "text": [
        "Epoch 14/50\n",
        "0s - loss: 1.4487 - acc: 0.2490 - val_loss: 1.4451 - val_acc: 0.2524\n"
       ]
      },
      {
       "output_type": "stream",
       "stream": "stdout",
       "text": [
        "Epoch 15/50\n",
        "0s - loss: 1.4452 - acc: 0.2490 - val_loss: 1.4418 - val_acc: 0.2524\n"
       ]
      },
      {
       "output_type": "stream",
       "stream": "stdout",
       "text": [
        "Epoch 16/50\n",
        "0s - loss: 1.4418 - acc: 0.2490 - val_loss: 1.4386 - val_acc: 0.2524\n"
       ]
      },
      {
       "output_type": "stream",
       "stream": "stdout",
       "text": [
        "Epoch 17/50\n",
        "0s - loss: 1.4386 - acc: 0.2490 - val_loss: 1.4355 - val_acc: 0.2524\n"
       ]
      },
      {
       "output_type": "stream",
       "stream": "stdout",
       "text": [
        "Epoch 18/50\n",
        "0s - loss: 1.4356 - acc: 0.2490 - val_loss: 1.4326 - val_acc: 0.2524\n"
       ]
      },
      {
       "output_type": "stream",
       "stream": "stdout",
       "text": [
        "Epoch 19/50\n",
        "0s - loss: 1.4327 - acc: 0.2490 - val_loss: 1.4299 - val_acc: 0.2524\n"
       ]
      },
      {
       "output_type": "stream",
       "stream": "stdout",
       "text": [
        "Epoch 20/50\n",
        "0s - loss: 1.4300 - acc: 0.2490 - val_loss: 1.4272 - val_acc: 0.2524\n"
       ]
      },
      {
       "output_type": "stream",
       "stream": "stdout",
       "text": [
        "Epoch 21/50\n",
        "0s - loss: 1.4274 - acc: 0.2490 - val_loss: 1.4247 - val_acc: 0.2524\n"
       ]
      },
      {
       "output_type": "stream",
       "stream": "stdout",
       "text": [
        "Epoch 22/50\n",
        "0s - loss: 1.4249 - acc: 0.2490 - val_loss: 1.4224 - val_acc: 0.2524\n"
       ]
      },
      {
       "output_type": "stream",
       "stream": "stdout",
       "text": [
        "Epoch 23/50\n",
        "0s - loss: 1.4226 - acc: 0.2490 - val_loss: 1.4201 - val_acc: 0.2524\n"
       ]
      },
      {
       "output_type": "stream",
       "stream": "stdout",
       "text": [
        "Epoch 24/50\n",
        "0s - loss: 1.4203 - acc: 0.2490 - val_loss: 1.4180 - val_acc: 0.2524\n"
       ]
      },
      {
       "output_type": "stream",
       "stream": "stdout",
       "text": [
        "Epoch 25/50\n",
        "0s - loss: 1.4182 - acc: 0.2490 - val_loss: 1.4160 - val_acc: 0.2524\n"
       ]
      },
      {
       "output_type": "stream",
       "stream": "stdout",
       "text": [
        "Epoch 26/50\n",
        "0s - loss: 1.4162 - acc: 0.2490 - val_loss: 1.4141 - val_acc: 0.2524\n"
       ]
      },
      {
       "output_type": "stream",
       "stream": "stdout",
       "text": [
        "Epoch 27/50\n",
        "0s - loss: 1.4144 - acc: 0.2490 - val_loss: 1.4123 - val_acc: 0.2524\n"
       ]
      },
      {
       "output_type": "stream",
       "stream": "stdout",
       "text": [
        "Epoch 28/50\n",
        "0s - loss: 1.4126 - acc: 0.2351 - val_loss: 1.4107 - val_acc: 0.2524\n"
       ]
      },
      {
       "output_type": "stream",
       "stream": "stdout",
       "text": [
        "Epoch 29/50\n",
        "0s - loss: 1.4109 - acc: 0.2456 - val_loss: 1.4091 - val_acc: 0.2442\n"
       ]
      },
      {
       "output_type": "stream",
       "stream": "stdout",
       "text": [
        "Epoch 30/50\n",
        "0s - loss: 1.4093 - acc: 0.2421 - val_loss: 1.4076 - val_acc: 0.2444\n"
       ]
      },
      {
       "output_type": "stream",
       "stream": "stdout",
       "text": [
        "Epoch 31/50\n",
        "0s - loss: 1.4078 - acc: 0.2503 - val_loss: 1.4062 - val_acc: 0.2444\n"
       ]
      },
      {
       "output_type": "stream",
       "stream": "stdout",
       "text": [
        "Epoch 32/50\n",
        "0s - loss: 1.4064 - acc: 0.2503 - val_loss: 1.4048 - val_acc: 0.2444\n"
       ]
      },
      {
       "output_type": "stream",
       "stream": "stdout",
       "text": [
        "Epoch 33/50\n",
        "0s - loss: 1.4051 - acc: 0.2503 - val_loss: 1.4036 - val_acc: 0.2444\n"
       ]
      },
      {
       "output_type": "stream",
       "stream": "stdout",
       "text": [
        "Epoch 34/50\n",
        "0s - loss: 1.4039 - acc: 0.2503 - val_loss: 1.4024 - val_acc: 0.2444\n"
       ]
      },
      {
       "output_type": "stream",
       "stream": "stdout",
       "text": [
        "Epoch 35/50\n",
        "0s - loss: 1.4027 - acc: 0.2503 - val_loss: 1.4013 - val_acc: 0.2444\n"
       ]
      },
      {
       "output_type": "stream",
       "stream": "stdout",
       "text": [
        "Epoch 36/50\n",
        "0s - loss: 1.4016 - acc: 0.2503 - val_loss: 1.4003 - val_acc: 0.2444\n"
       ]
      },
      {
       "output_type": "stream",
       "stream": "stdout",
       "text": [
        "Epoch 37/50\n",
        "0s - loss: 1.4006 - acc: 0.2503 - val_loss: 1.3993 - val_acc: 0.2444\n"
       ]
      },
      {
       "output_type": "stream",
       "stream": "stdout",
       "text": [
        "Epoch 38/50\n",
        "0s - loss: 1.3996 - acc: 0.2503 - val_loss: 1.3984 - val_acc: 0.2444\n"
       ]
      },
      {
       "output_type": "stream",
       "stream": "stdout",
       "text": [
        "Epoch 39/50\n",
        "0s - loss: 1.3987 - acc: 0.2503 - val_loss: 1.3976 - val_acc: 0.2444\n"
       ]
      },
      {
       "output_type": "stream",
       "stream": "stdout",
       "text": [
        "Epoch 40/50\n",
        "0s - loss: 1.3979 - acc: 0.2503 - val_loss: 1.3968 - val_acc: 0.2444\n"
       ]
      },
      {
       "output_type": "stream",
       "stream": "stdout",
       "text": [
        "Epoch 41/50\n",
        "0s - loss: 1.3971 - acc: 0.2503 - val_loss: 1.3960 - val_acc: 0.2444\n"
       ]
      },
      {
       "output_type": "stream",
       "stream": "stdout",
       "text": [
        "Epoch 42/50\n",
        "0s - loss: 1.3963 - acc: 0.2503 - val_loss: 1.3954 - val_acc: 0.2444\n"
       ]
      },
      {
       "output_type": "stream",
       "stream": "stdout",
       "text": [
        "Epoch 43/50\n",
        "0s - loss: 1.3956 - acc: 0.2503 - val_loss: 1.3947 - val_acc: 0.2444\n"
       ]
      },
      {
       "output_type": "stream",
       "stream": "stdout",
       "text": [
        "Epoch 44/50\n",
        "0s - loss: 1.3950 - acc: 0.2503 - val_loss: 1.3941 - val_acc: 0.2444\n"
       ]
      },
      {
       "output_type": "stream",
       "stream": "stdout",
       "text": [
        "Epoch 45/50\n",
        "0s - loss: 1.3944 - acc: 0.2503 - val_loss: 1.3935 - val_acc: 0.2444\n"
       ]
      },
      {
       "output_type": "stream",
       "stream": "stdout",
       "text": [
        "Epoch 46/50\n",
        "0s - loss: 1.3938 - acc: 0.2503 - val_loss: 1.3930 - val_acc: 0.2444\n"
       ]
      },
      {
       "output_type": "stream",
       "stream": "stdout",
       "text": [
        "Epoch 47/50\n",
        "0s - loss: 1.3933 - acc: 0.2503 - val_loss: 1.3925 - val_acc: 0.2444\n"
       ]
      },
      {
       "output_type": "stream",
       "stream": "stdout",
       "text": [
        "Epoch 48/50\n",
        "0s - loss: 1.3928 - acc: 0.2503 - val_loss: 1.3921 - val_acc: 0.2444\n"
       ]
      },
      {
       "output_type": "stream",
       "stream": "stdout",
       "text": [
        "Epoch 49/50\n",
        "0s - loss: 1.3923 - acc: 0.2503 - val_loss: 1.3916 - val_acc: 0.2444\n"
       ]
      },
      {
       "output_type": "stream",
       "stream": "stdout",
       "text": [
        "Epoch 50/50\n",
        "0s - loss: 1.3919 - acc: 0.2503 - val_loss: 1.3912 - val_acc: 0.2444\n"
       ]
      },
      {
       "output_type": "stream",
       "stream": "stdout",
       "text": [
        "\r",
        " 5000/20000 [======>.......................] - ETA: 0s"
       ]
      },
      {
       "output_type": "stream",
       "stream": "stdout",
       "text": [
        "\b\b\b\b\b\b\b\b\b\b\b\b\b\b\b\b\b\b\b\b\b\b\b\b\b\b\b\b\b\b\b\b\b\b\b\b\b\b\b\b\b\b\b\b\b\b\b\b\b\b\b\b\b\b\r",
        "20000/20000 [==============================] - 0s     "
       ]
      },
      {
       "output_type": "stream",
       "stream": "stdout",
       "text": [
        "\n",
        "\r",
        " 5000/20000 [======>.......................] - ETA: 0s"
       ]
      },
      {
       "output_type": "stream",
       "stream": "stdout",
       "text": [
        "\b\b\b\b\b\b\b\b\b\b\b\b\b\b\b\b\b\b\b\b\b\b\b\b\b\b\b\b\b\b\b\b\b\b\b\b\b\b\b\b\b\b\b\b\b\b\b\b\b\b\b\b\b\b\r",
        "20000/20000 [==============================] - 0s     "
       ]
      },
      {
       "output_type": "stream",
       "stream": "stdout",
       "text": [
        "\n",
        "Train on 80000 samples, validate on 20000 samples\n",
        "Epoch 1/60\n",
        "0s - loss: 0.9915 - acc: 0.2492 - val_loss: 0.9929 - val_acc: 0.2551\n"
       ]
      },
      {
       "output_type": "stream",
       "stream": "stdout",
       "text": [
        "Epoch 2/60\n",
        "0s - loss: 0.9866 - acc: 0.2492 - val_loss: 0.9881 - val_acc: 0.2551\n"
       ]
      },
      {
       "output_type": "stream",
       "stream": "stdout",
       "text": [
        "Epoch 3/60\n",
        "0s - loss: 0.9820 - acc: 0.2492 - val_loss: 0.9836 - val_acc: 0.2551\n"
       ]
      },
      {
       "output_type": "stream",
       "stream": "stdout",
       "text": [
        "Epoch 4/60\n",
        "0s - loss: 0.9775 - acc: 0.2492 - val_loss: 0.9793 - val_acc: 0.2551\n"
       ]
      },
      {
       "output_type": "stream",
       "stream": "stdout",
       "text": [
        "Epoch 5/60\n",
        "0s - loss: 0.9733 - acc: 0.2481 - val_loss: 0.9751 - val_acc: 0.2551\n"
       ]
      },
      {
       "output_type": "stream",
       "stream": "stdout",
       "text": [
        "Epoch 6/60\n",
        "0s - loss: 0.9693 - acc: 0.2490 - val_loss: 0.9712 - val_acc: 0.2515\n"
       ]
      },
      {
       "output_type": "stream",
       "stream": "stdout",
       "text": [
        "Epoch 7/60\n",
        "0s - loss: 0.9655 - acc: 0.2507 - val_loss: 0.9675 - val_acc: 0.2515\n"
       ]
      },
      {
       "output_type": "stream",
       "stream": "stdout",
       "text": [
        "Epoch 8/60\n",
        "0s - loss: 0.9618 - acc: 0.2514 - val_loss: 0.9639 - val_acc: 0.2515\n"
       ]
      },
      {
       "output_type": "stream",
       "stream": "stdout",
       "text": [
        "Epoch 9/60\n",
        "0s - loss: 0.9583 - acc: 0.2514 - val_loss: 0.9605 - val_acc: 0.2515\n"
       ]
      },
      {
       "output_type": "stream",
       "stream": "stdout",
       "text": [
        "Epoch 10/60\n",
        "0s - loss: 0.9550 - acc: 0.2514 - val_loss: 0.9572 - val_acc: 0.2515\n"
       ]
      },
      {
       "output_type": "stream",
       "stream": "stdout",
       "text": [
        "Epoch 11/60\n",
        "0s - loss: 0.9518 - acc: 0.2514 - val_loss: 0.9540 - val_acc: 0.2515\n"
       ]
      },
      {
       "output_type": "stream",
       "stream": "stdout",
       "text": [
        "Epoch 12/60\n",
        "0s - loss: 0.9488 - acc: 0.2514 - val_loss: 0.9511 - val_acc: 0.2515\n"
       ]
      },
      {
       "output_type": "stream",
       "stream": "stdout",
       "text": [
        "Epoch 13/60\n",
        "0s - loss: 0.9458 - acc: 0.2514 - val_loss: 0.9482 - val_acc: 0.2515\n"
       ]
      },
      {
       "output_type": "stream",
       "stream": "stdout",
       "text": [
        "Epoch 14/60\n",
        "0s - loss: 0.9430 - acc: 0.2514 - val_loss: 0.9454 - val_acc: 0.2515\n"
       ]
      },
      {
       "output_type": "stream",
       "stream": "stdout",
       "text": [
        "Epoch 15/60\n",
        "0s - loss: 0.9403 - acc: 0.2514 - val_loss: 0.9428 - val_acc: 0.2515\n"
       ]
      },
      {
       "output_type": "stream",
       "stream": "stdout",
       "text": [
        "Epoch 16/60\n",
        "0s - loss: 0.9377 - acc: 0.2514 - val_loss: 0.9402 - val_acc: 0.2515\n"
       ]
      },
      {
       "output_type": "stream",
       "stream": "stdout",
       "text": [
        "Epoch 17/60\n",
        "0s - loss: 0.9352 - acc: 0.2514 - val_loss: 0.9378 - val_acc: 0.2515\n"
       ]
      },
      {
       "output_type": "stream",
       "stream": "stdout",
       "text": [
        "Epoch 18/60\n",
        "0s - loss: 0.9328 - acc: 0.2514 - val_loss: 0.9354 - val_acc: 0.2515\n"
       ]
      },
      {
       "output_type": "stream",
       "stream": "stdout",
       "text": [
        "Epoch 19/60\n",
        "0s - loss: 0.9305 - acc: 0.2514 - val_loss: 0.9331 - val_acc: 0.2515\n"
       ]
      },
      {
       "output_type": "stream",
       "stream": "stdout",
       "text": [
        "Epoch 20/60\n",
        "0s - loss: 0.9283 - acc: 0.2514 - val_loss: 0.9310 - val_acc: 0.2515\n"
       ]
      },
      {
       "output_type": "stream",
       "stream": "stdout",
       "text": [
        "Epoch 21/60\n",
        "0s - loss: 0.9262 - acc: 0.2514 - val_loss: 0.9289 - val_acc: 0.2515\n"
       ]
      },
      {
       "output_type": "stream",
       "stream": "stdout",
       "text": [
        "Epoch 22/60\n",
        "0s - loss: 0.9241 - acc: 0.2514 - val_loss: 0.9268 - val_acc: 0.2515\n"
       ]
      },
      {
       "output_type": "stream",
       "stream": "stdout",
       "text": [
        "Epoch 23/60\n",
        "0s - loss: 0.9221 - acc: 0.2514 - val_loss: 0.9249 - val_acc: 0.2515\n"
       ]
      },
      {
       "output_type": "stream",
       "stream": "stdout",
       "text": [
        "Epoch 24/60\n",
        "0s - loss: 0.9202 - acc: 0.2514 - val_loss: 0.9230 - val_acc: 0.2515\n"
       ]
      },
      {
       "output_type": "stream",
       "stream": "stdout",
       "text": [
        "Epoch 25/60\n",
        "0s - loss: 0.9184 - acc: 0.2514 - val_loss: 0.9212 - val_acc: 0.2515\n"
       ]
      },
      {
       "output_type": "stream",
       "stream": "stdout",
       "text": [
        "Epoch 26/60\n",
        "0s - loss: 0.9166 - acc: 0.2514 - val_loss: 0.9194 - val_acc: 0.2515\n"
       ]
      },
      {
       "output_type": "stream",
       "stream": "stdout",
       "text": [
        "Epoch 27/60\n",
        "0s - loss: 0.9149 - acc: 0.2514 - val_loss: 0.9177 - val_acc: 0.2515\n"
       ]
      },
      {
       "output_type": "stream",
       "stream": "stdout",
       "text": [
        "Epoch 28/60\n",
        "0s - loss: 0.9132 - acc: 0.2514 - val_loss: 0.9160 - val_acc: 0.2515\n"
       ]
      },
      {
       "output_type": "stream",
       "stream": "stdout",
       "text": [
        "Epoch 29/60\n",
        "0s - loss: 0.9116 - acc: 0.2514 - val_loss: 0.9145 - val_acc: 0.2515\n"
       ]
      },
      {
       "output_type": "stream",
       "stream": "stdout",
       "text": [
        "Epoch 30/60\n",
        "0s - loss: 0.9100 - acc: 0.2514 - val_loss: 0.9129 - val_acc: 0.2515\n"
       ]
      },
      {
       "output_type": "stream",
       "stream": "stdout",
       "text": [
        "Epoch 31/60\n",
        "0s - loss: 0.9085 - acc: 0.2514 - val_loss: 0.9114 - val_acc: 0.2515\n"
       ]
      },
      {
       "output_type": "stream",
       "stream": "stdout",
       "text": [
        "Epoch 32/60\n",
        "0s - loss: 0.9070 - acc: 0.2514 - val_loss: 0.9100 - val_acc: 0.2515\n"
       ]
      },
      {
       "output_type": "stream",
       "stream": "stdout",
       "text": [
        "Epoch 33/60\n",
        "0s - loss: 0.9056 - acc: 0.2514 - val_loss: 0.9086 - val_acc: 0.2515\n"
       ]
      },
      {
       "output_type": "stream",
       "stream": "stdout",
       "text": [
        "Epoch 34/60\n",
        "0s - loss: 0.9042 - acc: 0.2514 - val_loss: 0.9072 - val_acc: 0.2515\n"
       ]
      },
      {
       "output_type": "stream",
       "stream": "stdout",
       "text": [
        "Epoch 35/60\n",
        "0s - loss: 0.9029 - acc: 0.2514 - val_loss: 0.9059 - val_acc: 0.2515\n"
       ]
      },
      {
       "output_type": "stream",
       "stream": "stdout",
       "text": [
        "Epoch 36/60\n",
        "0s - loss: 0.9016 - acc: 0.2514 - val_loss: 0.9046 - val_acc: 0.2515\n"
       ]
      },
      {
       "output_type": "stream",
       "stream": "stdout",
       "text": [
        "Epoch 37/60\n",
        "0s - loss: 0.9003 - acc: 0.2514 - val_loss: 0.9033 - val_acc: 0.2515\n"
       ]
      },
      {
       "output_type": "stream",
       "stream": "stdout",
       "text": [
        "Epoch 38/60\n",
        "0s - loss: 0.8991 - acc: 0.2514 - val_loss: 0.9021 - val_acc: 0.2515\n"
       ]
      },
      {
       "output_type": "stream",
       "stream": "stdout",
       "text": [
        "Epoch 39/60\n",
        "0s - loss: 0.8979 - acc: 0.2514 - val_loss: 0.9010 - val_acc: 0.2515\n"
       ]
      },
      {
       "output_type": "stream",
       "stream": "stdout",
       "text": [
        "Epoch 40/60\n",
        "0s - loss: 0.8968 - acc: 0.2514 - val_loss: 0.8998 - val_acc: 0.2515\n"
       ]
      },
      {
       "output_type": "stream",
       "stream": "stdout",
       "text": [
        "Epoch 41/60\n",
        "0s - loss: 0.8956 - acc: 0.2514 - val_loss: 0.8987 - val_acc: 0.2515\n"
       ]
      },
      {
       "output_type": "stream",
       "stream": "stdout",
       "text": [
        "Epoch 42/60\n",
        "0s - loss: 0.8945 - acc: 0.2514 - val_loss: 0.8976 - val_acc: 0.2515\n"
       ]
      },
      {
       "output_type": "stream",
       "stream": "stdout",
       "text": [
        "Epoch 43/60\n",
        "0s - loss: 0.8935 - acc: 0.2514 - val_loss: 0.8966 - val_acc: 0.2515\n"
       ]
      },
      {
       "output_type": "stream",
       "stream": "stdout",
       "text": [
        "Epoch 44/60\n",
        "0s - loss: 0.8924 - acc: 0.2514 - val_loss: 0.8955 - val_acc: 0.2515\n"
       ]
      },
      {
       "output_type": "stream",
       "stream": "stdout",
       "text": [
        "Epoch 45/60\n",
        "0s - loss: 0.8914 - acc: 0.2514 - val_loss: 0.8945 - val_acc: 0.2515\n"
       ]
      },
      {
       "output_type": "stream",
       "stream": "stdout",
       "text": [
        "Epoch 46/60\n",
        "0s - loss: 0.8905 - acc: 0.2514 - val_loss: 0.8936 - val_acc: 0.2515\n"
       ]
      },
      {
       "output_type": "stream",
       "stream": "stdout",
       "text": [
        "Epoch 47/60\n",
        "0s - loss: 0.8895 - acc: 0.2514 - val_loss: 0.8926 - val_acc: 0.2515\n"
       ]
      },
      {
       "output_type": "stream",
       "stream": "stdout",
       "text": [
        "Epoch 48/60\n",
        "0s - loss: 0.8886 - acc: 0.2514 - val_loss: 0.8917 - val_acc: 0.2515\n"
       ]
      },
      {
       "output_type": "stream",
       "stream": "stdout",
       "text": [
        "Epoch 49/60\n",
        "0s - loss: 0.8877 - acc: 0.2514 - val_loss: 0.8908 - val_acc: 0.2515\n"
       ]
      },
      {
       "output_type": "stream",
       "stream": "stdout",
       "text": [
        "Epoch 50/60\n",
        "0s - loss: 0.8868 - acc: 0.2514 - val_loss: 0.8899 - val_acc: 0.2515\n"
       ]
      },
      {
       "output_type": "stream",
       "stream": "stdout",
       "text": [
        "Epoch 51/60\n",
        "0s - loss: 0.8859 - acc: 0.2514 - val_loss: 0.8891 - val_acc: 0.2515\n"
       ]
      },
      {
       "output_type": "stream",
       "stream": "stdout",
       "text": [
        "Epoch 52/60\n",
        "0s - loss: 0.8851 - acc: 0.2514 - val_loss: 0.8882 - val_acc: 0.2515\n"
       ]
      },
      {
       "output_type": "stream",
       "stream": "stdout",
       "text": [
        "Epoch 53/60\n",
        "0s - loss: 0.8842 - acc: 0.2514 - val_loss: 0.8874 - val_acc: 0.2515\n"
       ]
      },
      {
       "output_type": "stream",
       "stream": "stdout",
       "text": [
        "Epoch 54/60\n",
        "0s - loss: 0.8834 - acc: 0.2514 - val_loss: 0.8866 - val_acc: 0.2515\n"
       ]
      },
      {
       "output_type": "stream",
       "stream": "stdout",
       "text": [
        "Epoch 55/60\n",
        "0s - loss: 0.8827 - acc: 0.2514 - val_loss: 0.8858 - val_acc: 0.2515\n"
       ]
      },
      {
       "output_type": "stream",
       "stream": "stdout",
       "text": [
        "Epoch 56/60\n",
        "0s - loss: 0.8819 - acc: 0.2514 - val_loss: 0.8851 - val_acc: 0.2515\n"
       ]
      },
      {
       "output_type": "stream",
       "stream": "stdout",
       "text": [
        "Epoch 57/60\n",
        "0s - loss: 0.8811 - acc: 0.2514 - val_loss: 0.8843 - val_acc: 0.2515\n"
       ]
      },
      {
       "output_type": "stream",
       "stream": "stdout",
       "text": [
        "Epoch 58/60\n",
        "0s - loss: 0.8804 - acc: 0.2514 - val_loss: 0.8836 - val_acc: 0.2515\n"
       ]
      },
      {
       "output_type": "stream",
       "stream": "stdout",
       "text": [
        "Epoch 59/60\n",
        "0s - loss: 0.8797 - acc: 0.2514 - val_loss: 0.8829 - val_acc: 0.2515\n"
       ]
      },
      {
       "output_type": "stream",
       "stream": "stdout",
       "text": [
        "Epoch 60/60\n",
        "0s - loss: 0.8790 - acc: 0.2514 - val_loss: 0.8822 - val_acc: 0.2515\n"
       ]
      },
      {
       "output_type": "stream",
       "stream": "stdout",
       "text": [
        "\r",
        " 5000/20000 [======>.......................] - ETA: 0s"
       ]
      },
      {
       "output_type": "stream",
       "stream": "stdout",
       "text": [
        "\b\b\b\b\b\b\b\b\b\b\b\b\b\b\b\b\b\b\b\b\b\b\b\b\b\b\b\b\b\b\b\b\b\b\b\b\b\b\b\b\b\b\b\b\b\b\b\b\b\b\b\b\b\b\r",
        "15000/20000 [=====================>........] - ETA: 0s"
       ]
      },
      {
       "output_type": "stream",
       "stream": "stdout",
       "text": [
        "\r",
        " 5000/20000 [======>.......................] - ETA: 0s"
       ]
      },
      {
       "output_type": "stream",
       "stream": "stdout",
       "text": [
        "\b\b\b\b\b\b\b\b\b\b\b\b\b\b\b\b\b\b\b\b\b\b\b\b\b\b\b\b\b\b\b\b\b\b\b\b\b\b\b\b\b\b\b\b\b\b\b\b\b\b\b\b\b\b\r",
        "15000/20000 [=====================>........] - ETA: 0s"
       ]
      },
      {
       "output_type": "stream",
       "stream": "stdout",
       "text": [
        "Train on 80000 samples, validate on 20000 samples\n",
        "Epoch 1/60\n",
        "0s - loss: 1.5271 - acc: 0.2490 - val_loss: 1.5211 - val_acc: 0.2524\n"
       ]
      },
      {
       "output_type": "stream",
       "stream": "stdout",
       "text": [
        "Epoch 2/60\n",
        "0s - loss: 1.5207 - acc: 0.2490 - val_loss: 1.5148 - val_acc: 0.2524\n"
       ]
      },
      {
       "output_type": "stream",
       "stream": "stdout",
       "text": [
        "Epoch 3/60\n",
        "0s - loss: 1.5144 - acc: 0.2490 - val_loss: 1.5087 - val_acc: 0.2524\n"
       ]
      },
      {
       "output_type": "stream",
       "stream": "stdout",
       "text": [
        "Epoch 4/60\n",
        "0s - loss: 1.5084 - acc: 0.2490 - val_loss: 1.5029 - val_acc: 0.2524\n"
       ]
      },
      {
       "output_type": "stream",
       "stream": "stdout",
       "text": [
        "Epoch 5/60\n",
        "0s - loss: 1.5025 - acc: 0.2490 - val_loss: 1.4972 - val_acc: 0.2524\n"
       ]
      },
      {
       "output_type": "stream",
       "stream": "stdout",
       "text": [
        "Epoch 6/60\n",
        "0s - loss: 1.4969 - acc: 0.2490 - val_loss: 1.4917 - val_acc: 0.2524\n"
       ]
      },
      {
       "output_type": "stream",
       "stream": "stdout",
       "text": [
        "Epoch 7/60\n",
        "0s - loss: 1.4915 - acc: 0.2490 - val_loss: 1.4865 - val_acc: 0.2524\n"
       ]
      },
      {
       "output_type": "stream",
       "stream": "stdout",
       "text": [
        "Epoch 8/60\n",
        "0s - loss: 1.4862 - acc: 0.2490 - val_loss: 1.4814 - val_acc: 0.2524\n"
       ]
      },
      {
       "output_type": "stream",
       "stream": "stdout",
       "text": [
        "Epoch 9/60\n",
        "0s - loss: 1.4812 - acc: 0.2490 - val_loss: 1.4765 - val_acc: 0.2524\n"
       ]
      },
      {
       "output_type": "stream",
       "stream": "stdout",
       "text": [
        "Epoch 10/60\n",
        "0s - loss: 1.4763 - acc: 0.2490 - val_loss: 1.4718 - val_acc: 0.2524\n"
       ]
      },
      {
       "output_type": "stream",
       "stream": "stdout",
       "text": [
        "Epoch 11/60\n",
        "0s - loss: 1.4717 - acc: 0.2490 - val_loss: 1.4673 - val_acc: 0.2524\n"
       ]
      },
      {
       "output_type": "stream",
       "stream": "stdout",
       "text": [
        "Epoch 12/60\n",
        "0s - loss: 1.4672 - acc: 0.2490 - val_loss: 1.4630 - val_acc: 0.2524\n"
       ]
      },
      {
       "output_type": "stream",
       "stream": "stdout",
       "text": [
        "Epoch 13/60\n",
        "0s - loss: 1.4629 - acc: 0.2490 - val_loss: 1.4588 - val_acc: 0.2524\n"
       ]
      },
      {
       "output_type": "stream",
       "stream": "stdout",
       "text": [
        "Epoch 14/60\n",
        "0s - loss: 1.4588 - acc: 0.2490 - val_loss: 1.4549 - val_acc: 0.2524\n"
       ]
      },
      {
       "output_type": "stream",
       "stream": "stdout",
       "text": [
        "Epoch 15/60\n",
        "0s - loss: 1.4548 - acc: 0.2490 - val_loss: 1.4511 - val_acc: 0.2524\n"
       ]
      },
      {
       "output_type": "stream",
       "stream": "stdout",
       "text": [
        "Epoch 16/60\n",
        "0s - loss: 1.4510 - acc: 0.2490 - val_loss: 1.4474 - val_acc: 0.2524\n"
       ]
      },
      {
       "output_type": "stream",
       "stream": "stdout",
       "text": [
        "Epoch 17/60\n",
        "0s - loss: 1.4474 - acc: 0.2490 - val_loss: 1.4440 - val_acc: 0.2524\n"
       ]
      },
      {
       "output_type": "stream",
       "stream": "stdout",
       "text": [
        "Epoch 18/60\n",
        "0s - loss: 1.4440 - acc: 0.2490 - val_loss: 1.4407 - val_acc: 0.2524\n"
       ]
      },
      {
       "output_type": "stream",
       "stream": "stdout",
       "text": [
        "Epoch 19/60\n",
        "0s - loss: 1.4407 - acc: 0.2490 - val_loss: 1.4375 - val_acc: 0.2524\n"
       ]
      },
      {
       "output_type": "stream",
       "stream": "stdout",
       "text": [
        "Epoch 20/60\n",
        "0s - loss: 1.4376 - acc: 0.2490 - val_loss: 1.4345 - val_acc: 0.2524\n"
       ]
      },
      {
       "output_type": "stream",
       "stream": "stdout",
       "text": [
        "Epoch 21/60\n",
        "0s - loss: 1.4346 - acc: 0.2490 - val_loss: 1.4317 - val_acc: 0.2524\n"
       ]
      },
      {
       "output_type": "stream",
       "stream": "stdout",
       "text": [
        "Epoch 22/60\n",
        "0s - loss: 1.4318 - acc: 0.2490 - val_loss: 1.4289 - val_acc: 0.2524\n"
       ]
      },
      {
       "output_type": "stream",
       "stream": "stdout",
       "text": [
        "Epoch 23/60\n",
        "0s - loss: 1.4291 - acc: 0.2490 - val_loss: 1.4264 - val_acc: 0.2524\n"
       ]
      },
      {
       "output_type": "stream",
       "stream": "stdout",
       "text": [
        "Epoch 24/60\n",
        "0s - loss: 1.4265 - acc: 0.2490 - val_loss: 1.4239 - val_acc: 0.2524\n"
       ]
      },
      {
       "output_type": "stream",
       "stream": "stdout",
       "text": [
        "Epoch 25/60\n",
        "0s - loss: 1.4241 - acc: 0.2490 - val_loss: 1.4216 - val_acc: 0.2524\n"
       ]
      },
      {
       "output_type": "stream",
       "stream": "stdout",
       "text": [
        "Epoch 26/60\n",
        "0s - loss: 1.4218 - acc: 0.2490 - val_loss: 1.4194 - val_acc: 0.2524\n"
       ]
      },
      {
       "output_type": "stream",
       "stream": "stdout",
       "text": [
        "Epoch 27/60\n",
        "0s - loss: 1.4196 - acc: 0.2490 - val_loss: 1.4173 - val_acc: 0.2524\n"
       ]
      },
      {
       "output_type": "stream",
       "stream": "stdout",
       "text": [
        "Epoch 28/60\n",
        "0s - loss: 1.4175 - acc: 0.2490 - val_loss: 1.4154 - val_acc: 0.2524\n"
       ]
      },
      {
       "output_type": "stream",
       "stream": "stdout",
       "text": [
        "Epoch 29/60\n",
        "0s - loss: 1.4156 - acc: 0.2490 - val_loss: 1.4135 - val_acc: 0.2524\n"
       ]
      },
      {
       "output_type": "stream",
       "stream": "stdout",
       "text": [
        "Epoch 30/60\n",
        "0s - loss: 1.4137 - acc: 0.2393 - val_loss: 1.4118 - val_acc: 0.1784\n"
       ]
      },
      {
       "output_type": "stream",
       "stream": "stdout",
       "text": [
        "Epoch 31/60\n",
        "0s - loss: 1.4120 - acc: 0.2305 - val_loss: 1.4101 - val_acc: 0.2444\n"
       ]
      },
      {
       "output_type": "stream",
       "stream": "stdout",
       "text": [
        "Epoch 32/60\n",
        "0s - loss: 1.4104 - acc: 0.2503 - val_loss: 1.4085 - val_acc: 0.2444\n"
       ]
      },
      {
       "output_type": "stream",
       "stream": "stdout",
       "text": [
        "Epoch 33/60\n",
        "0s - loss: 1.4088 - acc: 0.2503 - val_loss: 1.4071 - val_acc: 0.2444\n"
       ]
      },
      {
       "output_type": "stream",
       "stream": "stdout",
       "text": [
        "Epoch 34/60\n",
        "0s - loss: 1.4073 - acc: 0.2503 - val_loss: 1.4057 - val_acc: 0.2444\n"
       ]
      },
      {
       "output_type": "stream",
       "stream": "stdout",
       "text": [
        "Epoch 35/60\n",
        "0s - loss: 1.4060 - acc: 0.2503 - val_loss: 1.4044 - val_acc: 0.2444\n"
       ]
      },
      {
       "output_type": "stream",
       "stream": "stdout",
       "text": [
        "Epoch 36/60\n",
        "0s - loss: 1.4047 - acc: 0.2503 - val_loss: 1.4032 - val_acc: 0.2444\n"
       ]
      },
      {
       "output_type": "stream",
       "stream": "stdout",
       "text": [
        "Epoch 37/60\n",
        "0s - loss: 1.4035 - acc: 0.2503 - val_loss: 1.4020 - val_acc: 0.2444\n"
       ]
      },
      {
       "output_type": "stream",
       "stream": "stdout",
       "text": [
        "Epoch 38/60\n",
        "0s - loss: 1.4023 - acc: 0.2503 - val_loss: 1.4010 - val_acc: 0.2444\n"
       ]
      },
      {
       "output_type": "stream",
       "stream": "stdout",
       "text": [
        "Epoch 39/60\n",
        "0s - loss: 1.4013 - acc: 0.2503 - val_loss: 1.4000 - val_acc: 0.2444\n"
       ]
      },
      {
       "output_type": "stream",
       "stream": "stdout",
       "text": [
        "Epoch 40/60\n",
        "0s - loss: 1.4002 - acc: 0.2503 - val_loss: 1.3990 - val_acc: 0.2444\n"
       ]
      },
      {
       "output_type": "stream",
       "stream": "stdout",
       "text": [
        "Epoch 41/60\n",
        "0s - loss: 1.3993 - acc: 0.2503 - val_loss: 1.3981 - val_acc: 0.2444\n"
       ]
      },
      {
       "output_type": "stream",
       "stream": "stdout",
       "text": [
        "Epoch 42/60\n",
        "0s - loss: 1.3984 - acc: 0.2503 - val_loss: 1.3973 - val_acc: 0.2444\n"
       ]
      },
      {
       "output_type": "stream",
       "stream": "stdout",
       "text": [
        "Epoch 43/60\n",
        "0s - loss: 1.3976 - acc: 0.2503 - val_loss: 1.3965 - val_acc: 0.2444\n"
       ]
      },
      {
       "output_type": "stream",
       "stream": "stdout",
       "text": [
        "Epoch 44/60\n",
        "0s - loss: 1.3968 - acc: 0.2503 - val_loss: 1.3958 - val_acc: 0.2444\n"
       ]
      },
      {
       "output_type": "stream",
       "stream": "stdout",
       "text": [
        "Epoch 45/60\n",
        "0s - loss: 1.3961 - acc: 0.2503 - val_loss: 1.3951 - val_acc: 0.2444\n"
       ]
      },
      {
       "output_type": "stream",
       "stream": "stdout",
       "text": [
        "Epoch 46/60\n",
        "0s - loss: 1.3954 - acc: 0.2503 - val_loss: 1.3945 - val_acc: 0.2444\n"
       ]
      },
      {
       "output_type": "stream",
       "stream": "stdout",
       "text": [
        "Epoch 47/60\n",
        "0s - loss: 1.3948 - acc: 0.2503 - val_loss: 1.3939 - val_acc: 0.2444\n"
       ]
      },
      {
       "output_type": "stream",
       "stream": "stdout",
       "text": [
        "Epoch 48/60\n",
        "0s - loss: 1.3942 - acc: 0.2503 - val_loss: 1.3934 - val_acc: 0.2444\n"
       ]
      },
      {
       "output_type": "stream",
       "stream": "stdout",
       "text": [
        "Epoch 49/60\n",
        "0s - loss: 1.3936 - acc: 0.2503 - val_loss: 1.3928 - val_acc: 0.2444\n"
       ]
      },
      {
       "output_type": "stream",
       "stream": "stdout",
       "text": [
        "Epoch 50/60\n",
        "0s - loss: 1.3931 - acc: 0.2503 - val_loss: 1.3924 - val_acc: 0.2444\n"
       ]
      },
      {
       "output_type": "stream",
       "stream": "stdout",
       "text": [
        "Epoch 51/60\n",
        "0s - loss: 1.3926 - acc: 0.2503 - val_loss: 1.3919 - val_acc: 0.2444\n"
       ]
      },
      {
       "output_type": "stream",
       "stream": "stdout",
       "text": [
        "Epoch 52/60\n",
        "0s - loss: 1.3922 - acc: 0.2503 - val_loss: 1.3915 - val_acc: 0.2444\n"
       ]
      },
      {
       "output_type": "stream",
       "stream": "stdout",
       "text": [
        "Epoch 53/60\n",
        "0s - loss: 1.3918 - acc: 0.2503 - val_loss: 1.3911 - val_acc: 0.2444\n"
       ]
      },
      {
       "output_type": "stream",
       "stream": "stdout",
       "text": [
        "Epoch 54/60\n",
        "0s - loss: 1.3914 - acc: 0.2503 - val_loss: 1.3908 - val_acc: 0.2444\n"
       ]
      },
      {
       "output_type": "stream",
       "stream": "stdout",
       "text": [
        "Epoch 55/60\n",
        "0s - loss: 1.3910 - acc: 0.2503 - val_loss: 1.3904 - val_acc: 0.2444\n"
       ]
      },
      {
       "output_type": "stream",
       "stream": "stdout",
       "text": [
        "Epoch 56/60\n",
        "0s - loss: 1.3907 - acc: 0.2503 - val_loss: 1.3901 - val_acc: 0.2444\n"
       ]
      },
      {
       "output_type": "stream",
       "stream": "stdout",
       "text": [
        "Epoch 57/60\n",
        "0s - loss: 1.3904 - acc: 0.2503 - val_loss: 1.3898 - val_acc: 0.2444\n"
       ]
      },
      {
       "output_type": "stream",
       "stream": "stdout",
       "text": [
        "Epoch 58/60\n",
        "0s - loss: 1.3901 - acc: 0.2503 - val_loss: 1.3896 - val_acc: 0.2444\n"
       ]
      },
      {
       "output_type": "stream",
       "stream": "stdout",
       "text": [
        "Epoch 59/60\n",
        "0s - loss: 1.3898 - acc: 0.2503 - val_loss: 1.3893 - val_acc: 0.2444\n"
       ]
      },
      {
       "output_type": "stream",
       "stream": "stdout",
       "text": [
        "Epoch 60/60\n",
        "0s - loss: 1.3895 - acc: 0.2503 - val_loss: 1.3891 - val_acc: 0.2444\n"
       ]
      },
      {
       "output_type": "stream",
       "stream": "stdout",
       "text": [
        "\r",
        " 5000/20000 [======>.......................] - ETA: 0s"
       ]
      },
      {
       "output_type": "stream",
       "stream": "stdout",
       "text": [
        "\b\b\b\b\b\b\b\b\b\b\b\b\b\b\b\b\b\b\b\b\b\b\b\b\b\b\b\b\b\b\b\b\b\b\b\b\b\b\b\b\b\b\b\b\b\b\b\b\b\b\b\b\b\b\r",
        "20000/20000 [==============================] - 0s     "
       ]
      },
      {
       "output_type": "stream",
       "stream": "stdout",
       "text": [
        "\n",
        "\r",
        " 5000/20000 [======>.......................] - ETA: 0s"
       ]
      },
      {
       "output_type": "stream",
       "stream": "stdout",
       "text": [
        "\b\b\b\b\b\b\b\b\b\b\b\b\b\b\b\b\b\b\b\b\b\b\b\b\b\b\b\b\b\b\b\b\b\b\b\b\b\b\b\b\b\b\b\b\b\b\b\b\b\b\b\b\b\b\r",
        "15000/20000 [=====================>........] - ETA: 0s"
       ]
      },
      {
       "output_type": "stream",
       "stream": "stdout",
       "text": [
        "Train on 80000 samples, validate on 20000 samples\n",
        "Epoch 1/70\n",
        "0s - loss: 1.0008 - acc: 0.2492 - val_loss: 1.0020 - val_acc: 0.2551\n"
       ]
      },
      {
       "output_type": "stream",
       "stream": "stdout",
       "text": [
        "Epoch 2/70\n",
        "0s - loss: 0.9954 - acc: 0.2492 - val_loss: 0.9967 - val_acc: 0.2551\n"
       ]
      },
      {
       "output_type": "stream",
       "stream": "stdout",
       "text": [
        "Epoch 3/70\n",
        "0s - loss: 0.9903 - acc: 0.2492 - val_loss: 0.9918 - val_acc: 0.2551\n"
       ]
      },
      {
       "output_type": "stream",
       "stream": "stdout",
       "text": [
        "Epoch 4/70\n",
        "0s - loss: 0.9855 - acc: 0.2492 - val_loss: 0.9870 - val_acc: 0.2551\n"
       ]
      },
      {
       "output_type": "stream",
       "stream": "stdout",
       "text": [
        "Epoch 5/70\n",
        "0s - loss: 0.9809 - acc: 0.2492 - val_loss: 0.9825 - val_acc: 0.2551\n"
       ]
      },
      {
       "output_type": "stream",
       "stream": "stdout",
       "text": [
        "Epoch 6/70\n",
        "0s - loss: 0.9765 - acc: 0.2492 - val_loss: 0.9782 - val_acc: 0.2551\n"
       ]
      },
      {
       "output_type": "stream",
       "stream": "stdout",
       "text": [
        "Epoch 7/70\n",
        "0s - loss: 0.9723 - acc: 0.2500 - val_loss: 0.9742 - val_acc: 0.2515\n"
       ]
      },
      {
       "output_type": "stream",
       "stream": "stdout",
       "text": [
        "Epoch 8/70\n",
        "0s - loss: 0.9684 - acc: 0.2514 - val_loss: 0.9703 - val_acc: 0.2515\n"
       ]
      },
      {
       "output_type": "stream",
       "stream": "stdout",
       "text": [
        "Epoch 9/70\n",
        "0s - loss: 0.9646 - acc: 0.2514 - val_loss: 0.9666 - val_acc: 0.2515\n"
       ]
      },
      {
       "output_type": "stream",
       "stream": "stdout",
       "text": [
        "Epoch 10/70\n",
        "0s - loss: 0.9610 - acc: 0.2514 - val_loss: 0.9630 - val_acc: 0.2515\n"
       ]
      },
      {
       "output_type": "stream",
       "stream": "stdout",
       "text": [
        "Epoch 11/70\n",
        "0s - loss: 0.9575 - acc: 0.2514 - val_loss: 0.9596 - val_acc: 0.2515\n"
       ]
      },
      {
       "output_type": "stream",
       "stream": "stdout",
       "text": [
        "Epoch 12/70\n",
        "0s - loss: 0.9542 - acc: 0.2514 - val_loss: 0.9564 - val_acc: 0.2515\n"
       ]
      },
      {
       "output_type": "stream",
       "stream": "stdout",
       "text": [
        "Epoch 13/70\n",
        "0s - loss: 0.9510 - acc: 0.2514 - val_loss: 0.9533 - val_acc: 0.2515\n"
       ]
      },
      {
       "output_type": "stream",
       "stream": "stdout",
       "text": [
        "Epoch 14/70\n",
        "0s - loss: 0.9480 - acc: 0.2514 - val_loss: 0.9503 - val_acc: 0.2515\n"
       ]
      },
      {
       "output_type": "stream",
       "stream": "stdout",
       "text": [
        "Epoch 15/70\n",
        "0s - loss: 0.9451 - acc: 0.2514 - val_loss: 0.9475 - val_acc: 0.2515\n"
       ]
      },
      {
       "output_type": "stream",
       "stream": "stdout",
       "text": [
        "Epoch 16/70\n",
        "0s - loss: 0.9423 - acc: 0.2514 - val_loss: 0.9447 - val_acc: 0.2515\n"
       ]
      },
      {
       "output_type": "stream",
       "stream": "stdout",
       "text": [
        "Epoch 17/70\n",
        "0s - loss: 0.9397 - acc: 0.2514 - val_loss: 0.9421 - val_acc: 0.2515\n"
       ]
      },
      {
       "output_type": "stream",
       "stream": "stdout",
       "text": [
        "Epoch 18/70\n",
        "0s - loss: 0.9371 - acc: 0.2514 - val_loss: 0.9396 - val_acc: 0.2515\n"
       ]
      },
      {
       "output_type": "stream",
       "stream": "stdout",
       "text": [
        "Epoch 19/70\n",
        "0s - loss: 0.9346 - acc: 0.2514 - val_loss: 0.9372 - val_acc: 0.2515\n"
       ]
      },
      {
       "output_type": "stream",
       "stream": "stdout",
       "text": [
        "Epoch 20/70\n",
        "0s - loss: 0.9323 - acc: 0.2514 - val_loss: 0.9348 - val_acc: 0.2515\n"
       ]
      },
      {
       "output_type": "stream",
       "stream": "stdout",
       "text": [
        "Epoch 21/70\n",
        "0s - loss: 0.9300 - acc: 0.2514 - val_loss: 0.9326 - val_acc: 0.2515\n"
       ]
      },
      {
       "output_type": "stream",
       "stream": "stdout",
       "text": [
        "Epoch 22/70\n",
        "0s - loss: 0.9278 - acc: 0.2514 - val_loss: 0.9304 - val_acc: 0.2515\n"
       ]
      },
      {
       "output_type": "stream",
       "stream": "stdout",
       "text": [
        "Epoch 23/70\n",
        "0s - loss: 0.9257 - acc: 0.2514 - val_loss: 0.9284 - val_acc: 0.2515\n"
       ]
      },
      {
       "output_type": "stream",
       "stream": "stdout",
       "text": [
        "Epoch 24/70\n",
        "0s - loss: 0.9236 - acc: 0.2514 - val_loss: 0.9263 - val_acc: 0.2515\n"
       ]
      },
      {
       "output_type": "stream",
       "stream": "stdout",
       "text": [
        "Epoch 25/70\n",
        "0s - loss: 0.9217 - acc: 0.2514 - val_loss: 0.9244 - val_acc: 0.2515\n"
       ]
      },
      {
       "output_type": "stream",
       "stream": "stdout",
       "text": [
        "Epoch 26/70\n",
        "0s - loss: 0.9198 - acc: 0.2514 - val_loss: 0.9225 - val_acc: 0.2515\n"
       ]
      },
      {
       "output_type": "stream",
       "stream": "stdout",
       "text": [
        "Epoch 27/70\n",
        "0s - loss: 0.9179 - acc: 0.2514 - val_loss: 0.9207 - val_acc: 0.2515\n"
       ]
      },
      {
       "output_type": "stream",
       "stream": "stdout",
       "text": [
        "Epoch 28/70\n",
        "0s - loss: 0.9162 - acc: 0.2514 - val_loss: 0.9190 - val_acc: 0.2515\n"
       ]
      },
      {
       "output_type": "stream",
       "stream": "stdout",
       "text": [
        "Epoch 29/70\n",
        "0s - loss: 0.9144 - acc: 0.2514 - val_loss: 0.9173 - val_acc: 0.2515\n"
       ]
      },
      {
       "output_type": "stream",
       "stream": "stdout",
       "text": [
        "Epoch 30/70\n",
        "0s - loss: 0.9128 - acc: 0.2514 - val_loss: 0.9157 - val_acc: 0.2515\n"
       ]
      },
      {
       "output_type": "stream",
       "stream": "stdout",
       "text": [
        "Epoch 31/70\n",
        "0s - loss: 0.9112 - acc: 0.2514 - val_loss: 0.9141 - val_acc: 0.2515\n"
       ]
      },
      {
       "output_type": "stream",
       "stream": "stdout",
       "text": [
        "Epoch 32/70\n",
        "0s - loss: 0.9096 - acc: 0.2514 - val_loss: 0.9125 - val_acc: 0.2515\n"
       ]
      },
      {
       "output_type": "stream",
       "stream": "stdout",
       "text": [
        "Epoch 33/70\n",
        "0s - loss: 0.9081 - acc: 0.2514 - val_loss: 0.9110 - val_acc: 0.2515\n"
       ]
      },
      {
       "output_type": "stream",
       "stream": "stdout",
       "text": [
        "Epoch 34/70\n",
        "0s - loss: 0.9067 - acc: 0.2514 - val_loss: 0.9096 - val_acc: 0.2515\n"
       ]
      },
      {
       "output_type": "stream",
       "stream": "stdout",
       "text": [
        "Epoch 35/70\n",
        "0s - loss: 0.9053 - acc: 0.2514 - val_loss: 0.9082 - val_acc: 0.2515\n"
       ]
      },
      {
       "output_type": "stream",
       "stream": "stdout",
       "text": [
        "Epoch 36/70\n",
        "0s - loss: 0.9039 - acc: 0.2514 - val_loss: 0.9069 - val_acc: 0.2515\n"
       ]
      },
      {
       "output_type": "stream",
       "stream": "stdout",
       "text": [
        "Epoch 37/70\n",
        "0s - loss: 0.9026 - acc: 0.2514 - val_loss: 0.9056 - val_acc: 0.2515\n"
       ]
      },
      {
       "output_type": "stream",
       "stream": "stdout",
       "text": [
        "Epoch 38/70\n",
        "0s - loss: 0.9013 - acc: 0.2514 - val_loss: 0.9043 - val_acc: 0.2515\n"
       ]
      },
      {
       "output_type": "stream",
       "stream": "stdout",
       "text": [
        "Epoch 39/70\n",
        "0s - loss: 0.9000 - acc: 0.2514 - val_loss: 0.9030 - val_acc: 0.2515\n"
       ]
      },
      {
       "output_type": "stream",
       "stream": "stdout",
       "text": [
        "Epoch 40/70\n",
        "0s - loss: 0.8988 - acc: 0.2514 - val_loss: 0.9018 - val_acc: 0.2515\n"
       ]
      },
      {
       "output_type": "stream",
       "stream": "stdout",
       "text": [
        "Epoch 41/70\n",
        "0s - loss: 0.8976 - acc: 0.2514 - val_loss: 0.9007 - val_acc: 0.2515\n"
       ]
      },
      {
       "output_type": "stream",
       "stream": "stdout",
       "text": [
        "Epoch 42/70\n",
        "0s - loss: 0.8965 - acc: 0.2514 - val_loss: 0.8995 - val_acc: 0.2515\n"
       ]
      },
      {
       "output_type": "stream",
       "stream": "stdout",
       "text": [
        "Epoch 43/70\n",
        "0s - loss: 0.8954 - acc: 0.2514 - val_loss: 0.8984 - val_acc: 0.2515\n"
       ]
      },
      {
       "output_type": "stream",
       "stream": "stdout",
       "text": [
        "Epoch 44/70\n",
        "0s - loss: 0.8943 - acc: 0.2514 - val_loss: 0.8973 - val_acc: 0.2515\n"
       ]
      },
      {
       "output_type": "stream",
       "stream": "stdout",
       "text": [
        "Epoch 45/70\n",
        "0s - loss: 0.8932 - acc: 0.2514 - val_loss: 0.8963 - val_acc: 0.2515\n"
       ]
      },
      {
       "output_type": "stream",
       "stream": "stdout",
       "text": [
        "Epoch 46/70\n",
        "0s - loss: 0.8922 - acc: 0.2514 - val_loss: 0.8953 - val_acc: 0.2515\n"
       ]
      },
      {
       "output_type": "stream",
       "stream": "stdout",
       "text": [
        "Epoch 47/70\n",
        "0s - loss: 0.8912 - acc: 0.2514 - val_loss: 0.8943 - val_acc: 0.2515\n"
       ]
      },
      {
       "output_type": "stream",
       "stream": "stdout",
       "text": [
        "Epoch 48/70\n",
        "0s - loss: 0.8902 - acc: 0.2514 - val_loss: 0.8933 - val_acc: 0.2515\n"
       ]
      },
      {
       "output_type": "stream",
       "stream": "stdout",
       "text": [
        "Epoch 49/70\n",
        "0s - loss: 0.8893 - acc: 0.2514 - val_loss: 0.8924 - val_acc: 0.2515\n"
       ]
      },
      {
       "output_type": "stream",
       "stream": "stdout",
       "text": [
        "Epoch 50/70\n",
        "0s - loss: 0.8883 - acc: 0.2514 - val_loss: 0.8915 - val_acc: 0.2515\n"
       ]
      },
      {
       "output_type": "stream",
       "stream": "stdout",
       "text": [
        "Epoch 51/70\n",
        "0s - loss: 0.8874 - acc: 0.2514 - val_loss: 0.8906 - val_acc: 0.2515\n"
       ]
      },
      {
       "output_type": "stream",
       "stream": "stdout",
       "text": [
        "Epoch 52/70\n",
        "0s - loss: 0.8866 - acc: 0.2514 - val_loss: 0.8897 - val_acc: 0.2515\n"
       ]
      },
      {
       "output_type": "stream",
       "stream": "stdout",
       "text": [
        "Epoch 53/70\n",
        "0s - loss: 0.8857 - acc: 0.2514 - val_loss: 0.8888 - val_acc: 0.2515\n"
       ]
      },
      {
       "output_type": "stream",
       "stream": "stdout",
       "text": [
        "Epoch 54/70\n",
        "0s - loss: 0.8849 - acc: 0.2514 - val_loss: 0.8880 - val_acc: 0.2515\n"
       ]
      },
      {
       "output_type": "stream",
       "stream": "stdout",
       "text": [
        "Epoch 55/70\n",
        "0s - loss: 0.8840 - acc: 0.2514 - val_loss: 0.8872 - val_acc: 0.2515\n"
       ]
      },
      {
       "output_type": "stream",
       "stream": "stdout",
       "text": [
        "Epoch 56/70\n",
        "0s - loss: 0.8832 - acc: 0.2514 - val_loss: 0.8864 - val_acc: 0.2515\n"
       ]
      },
      {
       "output_type": "stream",
       "stream": "stdout",
       "text": [
        "Epoch 57/70\n",
        "0s - loss: 0.8825 - acc: 0.2514 - val_loss: 0.8856 - val_acc: 0.2515\n"
       ]
      },
      {
       "output_type": "stream",
       "stream": "stdout",
       "text": [
        "Epoch 58/70\n",
        "0s - loss: 0.8817 - acc: 0.2514 - val_loss: 0.8849 - val_acc: 0.2515\n"
       ]
      },
      {
       "output_type": "stream",
       "stream": "stdout",
       "text": [
        "Epoch 59/70\n",
        "0s - loss: 0.8810 - acc: 0.2514 - val_loss: 0.8842 - val_acc: 0.2515\n"
       ]
      },
      {
       "output_type": "stream",
       "stream": "stdout",
       "text": [
        "Epoch 60/70\n",
        "0s - loss: 0.8802 - acc: 0.2514 - val_loss: 0.8834 - val_acc: 0.2515\n"
       ]
      },
      {
       "output_type": "stream",
       "stream": "stdout",
       "text": [
        "Epoch 61/70\n",
        "0s - loss: 0.8795 - acc: 0.2514 - val_loss: 0.8827 - val_acc: 0.2515\n"
       ]
      },
      {
       "output_type": "stream",
       "stream": "stdout",
       "text": [
        "Epoch 62/70\n",
        "0s - loss: 0.8788 - acc: 0.2514 - val_loss: 0.8820 - val_acc: 0.2515\n"
       ]
      },
      {
       "output_type": "stream",
       "stream": "stdout",
       "text": [
        "Epoch 63/70\n",
        "0s - loss: 0.8781 - acc: 0.2514 - val_loss: 0.8814 - val_acc: 0.2515\n"
       ]
      },
      {
       "output_type": "stream",
       "stream": "stdout",
       "text": [
        "Epoch 64/70\n",
        "0s - loss: 0.8775 - acc: 0.2514 - val_loss: 0.8807 - val_acc: 0.2515\n"
       ]
      },
      {
       "output_type": "stream",
       "stream": "stdout",
       "text": [
        "Epoch 65/70\n",
        "0s - loss: 0.8768 - acc: 0.2514 - val_loss: 0.8801 - val_acc: 0.2515\n"
       ]
      },
      {
       "output_type": "stream",
       "stream": "stdout",
       "text": [
        "Epoch 66/70\n",
        "0s - loss: 0.8762 - acc: 0.2514 - val_loss: 0.8794 - val_acc: 0.2515\n"
       ]
      },
      {
       "output_type": "stream",
       "stream": "stdout",
       "text": [
        "Epoch 67/70\n",
        "0s - loss: 0.8756 - acc: 0.2514 - val_loss: 0.8788 - val_acc: 0.2515\n"
       ]
      },
      {
       "output_type": "stream",
       "stream": "stdout",
       "text": [
        "Epoch 68/70\n",
        "0s - loss: 0.8750 - acc: 0.2514 - val_loss: 0.8782 - val_acc: 0.2515\n"
       ]
      },
      {
       "output_type": "stream",
       "stream": "stdout",
       "text": [
        "Epoch 69/70\n",
        "0s - loss: 0.8744 - acc: 0.2514 - val_loss: 0.8776 - val_acc: 0.2515\n"
       ]
      },
      {
       "output_type": "stream",
       "stream": "stdout",
       "text": [
        "Epoch 70/70\n",
        "0s - loss: 0.8738 - acc: 0.2514 - val_loss: 0.8770 - val_acc: 0.2515\n"
       ]
      },
      {
       "output_type": "stream",
       "stream": "stdout",
       "text": [
        "\r",
        " 5000/20000 [======>.......................] - ETA: 0s"
       ]
      },
      {
       "output_type": "stream",
       "stream": "stdout",
       "text": [
        "\b\b\b\b\b\b\b\b\b\b\b\b\b\b\b\b\b\b\b\b\b\b\b\b\b\b\b\b\b\b\b\b\b\b\b\b\b\b\b\b\b\b\b\b\b\b\b\b\b\b\b\b\b\b\r",
        "20000/20000 [==============================] - 0s     "
       ]
      },
      {
       "output_type": "stream",
       "stream": "stdout",
       "text": [
        "\n",
        "\r",
        " 5000/20000 [======>.......................] - ETA: 0s"
       ]
      },
      {
       "output_type": "stream",
       "stream": "stdout",
       "text": [
        "\b\b\b\b\b\b\b\b\b\b\b\b\b\b\b\b\b\b\b\b\b\b\b\b\b\b\b\b\b\b\b\b\b\b\b\b\b\b\b\b\b\b\b\b\b\b\b\b\b\b\b\b\b\b\r",
        "20000/20000 [==============================] - 0s     "
       ]
      },
      {
       "output_type": "stream",
       "stream": "stdout",
       "text": [
        "\n",
        "Train on 80000 samples, validate on 20000 samples\n",
        "Epoch 1/70\n",
        "0s - loss: 1.5440 - acc: 0.2490 - val_loss: 1.5375 - val_acc: 0.2524\n"
       ]
      },
      {
       "output_type": "stream",
       "stream": "stdout",
       "text": [
        "Epoch 2/70\n",
        "0s - loss: 1.5370 - acc: 0.2490 - val_loss: 1.5307 - val_acc: 0.2524\n"
       ]
      },
      {
       "output_type": "stream",
       "stream": "stdout",
       "text": [
        "Epoch 3/70\n",
        "0s - loss: 1.5303 - acc: 0.2490 - val_loss: 1.5242 - val_acc: 0.2524\n"
       ]
      },
      {
       "output_type": "stream",
       "stream": "stdout",
       "text": [
        "Epoch 4/70\n",
        "0s - loss: 1.5237 - acc: 0.2490 - val_loss: 1.5178 - val_acc: 0.2524\n"
       ]
      },
      {
       "output_type": "stream",
       "stream": "stdout",
       "text": [
        "Epoch 5/70\n",
        "0s - loss: 1.5174 - acc: 0.2490 - val_loss: 1.5116 - val_acc: 0.2524\n"
       ]
      },
      {
       "output_type": "stream",
       "stream": "stdout",
       "text": [
        "Epoch 6/70\n",
        "0s - loss: 1.5113 - acc: 0.2490 - val_loss: 1.5057 - val_acc: 0.2524\n"
       ]
      },
      {
       "output_type": "stream",
       "stream": "stdout",
       "text": [
        "Epoch 7/70\n",
        "0s - loss: 1.5053 - acc: 0.2490 - val_loss: 1.4999 - val_acc: 0.2524\n"
       ]
      },
      {
       "output_type": "stream",
       "stream": "stdout",
       "text": [
        "Epoch 8/70\n",
        "0s - loss: 1.4996 - acc: 0.2490 - val_loss: 1.4944 - val_acc: 0.2524\n"
       ]
      },
      {
       "output_type": "stream",
       "stream": "stdout",
       "text": [
        "Epoch 9/70\n",
        "0s - loss: 1.4941 - acc: 0.2490 - val_loss: 1.4890 - val_acc: 0.2524\n"
       ]
      },
      {
       "output_type": "stream",
       "stream": "stdout",
       "text": [
        "Epoch 10/70\n",
        "0s - loss: 1.4887 - acc: 0.2490 - val_loss: 1.4838 - val_acc: 0.2524\n"
       ]
      },
      {
       "output_type": "stream",
       "stream": "stdout",
       "text": [
        "Epoch 11/70\n",
        "0s - loss: 1.4836 - acc: 0.2490 - val_loss: 1.4789 - val_acc: 0.2524\n"
       ]
      },
      {
       "output_type": "stream",
       "stream": "stdout",
       "text": [
        "Epoch 12/70\n",
        "0s - loss: 1.4787 - acc: 0.2490 - val_loss: 1.4741 - val_acc: 0.2524\n"
       ]
      },
      {
       "output_type": "stream",
       "stream": "stdout",
       "text": [
        "Epoch 13/70\n",
        "0s - loss: 1.4739 - acc: 0.2490 - val_loss: 1.4695 - val_acc: 0.2524\n"
       ]
      },
      {
       "output_type": "stream",
       "stream": "stdout",
       "text": [
        "Epoch 14/70\n",
        "0s - loss: 1.4693 - acc: 0.2490 - val_loss: 1.4651 - val_acc: 0.2524\n"
       ]
      },
      {
       "output_type": "stream",
       "stream": "stdout",
       "text": [
        "Epoch 15/70\n",
        "0s - loss: 1.4649 - acc: 0.2490 - val_loss: 1.4608 - val_acc: 0.2524\n"
       ]
      },
      {
       "output_type": "stream",
       "stream": "stdout",
       "text": [
        "Epoch 16/70\n",
        "0s - loss: 1.4607 - acc: 0.2490 - val_loss: 1.4568 - val_acc: 0.2524\n"
       ]
      },
      {
       "output_type": "stream",
       "stream": "stdout",
       "text": [
        "Epoch 17/70\n",
        "0s - loss: 1.4567 - acc: 0.2490 - val_loss: 1.4529 - val_acc: 0.2524\n"
       ]
      },
      {
       "output_type": "stream",
       "stream": "stdout",
       "text": [
        "Epoch 18/70\n",
        "0s - loss: 1.4528 - acc: 0.2490 - val_loss: 1.4492 - val_acc: 0.2524\n"
       ]
      },
      {
       "output_type": "stream",
       "stream": "stdout",
       "text": [
        "Epoch 19/70\n",
        "0s - loss: 1.4492 - acc: 0.2490 - val_loss: 1.4456 - val_acc: 0.2524\n"
       ]
      },
      {
       "output_type": "stream",
       "stream": "stdout",
       "text": [
        "Epoch 20/70\n",
        "0s - loss: 1.4456 - acc: 0.2490 - val_loss: 1.4422 - val_acc: 0.2524\n"
       ]
      },
      {
       "output_type": "stream",
       "stream": "stdout",
       "text": [
        "Epoch 21/70\n",
        "0s - loss: 1.4423 - acc: 0.2490 - val_loss: 1.4390 - val_acc: 0.2524\n"
       ]
      },
      {
       "output_type": "stream",
       "stream": "stdout",
       "text": [
        "Epoch 22/70\n",
        "0s - loss: 1.4391 - acc: 0.2490 - val_loss: 1.4359 - val_acc: 0.2524\n"
       ]
      },
      {
       "output_type": "stream",
       "stream": "stdout",
       "text": [
        "Epoch 23/70\n",
        "0s - loss: 1.4360 - acc: 0.2490 - val_loss: 1.4330 - val_acc: 0.2524\n"
       ]
      },
      {
       "output_type": "stream",
       "stream": "stdout",
       "text": [
        "Epoch 24/70\n",
        "0s - loss: 1.4331 - acc: 0.2490 - val_loss: 1.4302 - val_acc: 0.2524\n"
       ]
      },
      {
       "output_type": "stream",
       "stream": "stdout",
       "text": [
        "Epoch 25/70\n",
        "0s - loss: 1.4303 - acc: 0.2490 - val_loss: 1.4276 - val_acc: 0.2524\n"
       ]
      },
      {
       "output_type": "stream",
       "stream": "stdout",
       "text": [
        "Epoch 26/70\n",
        "0s - loss: 1.4277 - acc: 0.2490 - val_loss: 1.4251 - val_acc: 0.2524\n"
       ]
      },
      {
       "output_type": "stream",
       "stream": "stdout",
       "text": [
        "Epoch 27/70\n",
        "0s - loss: 1.4252 - acc: 0.2490 - val_loss: 1.4227 - val_acc: 0.2524\n"
       ]
      },
      {
       "output_type": "stream",
       "stream": "stdout",
       "text": [
        "Epoch 28/70\n",
        "0s - loss: 1.4229 - acc: 0.2490 - val_loss: 1.4204 - val_acc: 0.2524\n"
       ]
      },
      {
       "output_type": "stream",
       "stream": "stdout",
       "text": [
        "Epoch 29/70\n",
        "0s - loss: 1.4206 - acc: 0.2490 - val_loss: 1.4183 - val_acc: 0.2524\n"
       ]
      },
      {
       "output_type": "stream",
       "stream": "stdout",
       "text": [
        "Epoch 30/70\n",
        "0s - loss: 1.4185 - acc: 0.2490 - val_loss: 1.4163 - val_acc: 0.2524\n"
       ]
      },
      {
       "output_type": "stream",
       "stream": "stdout",
       "text": [
        "Epoch 31/70\n",
        "0s - loss: 1.4165 - acc: 0.2476 - val_loss: 1.4144 - val_acc: 0.2444\n"
       ]
      },
      {
       "output_type": "stream",
       "stream": "stdout",
       "text": [
        "Epoch 32/70\n",
        "0s - loss: 1.4146 - acc: 0.2349 - val_loss: 1.4126 - val_acc: 0.2444\n"
       ]
      },
      {
       "output_type": "stream",
       "stream": "stdout",
       "text": [
        "Epoch 33/70\n",
        "0s - loss: 1.4128 - acc: 0.2503 - val_loss: 1.4109 - val_acc: 0.2444\n"
       ]
      },
      {
       "output_type": "stream",
       "stream": "stdout",
       "text": [
        "Epoch 34/70\n",
        "0s - loss: 1.4111 - acc: 0.2503 - val_loss: 1.4093 - val_acc: 0.2444\n"
       ]
      },
      {
       "output_type": "stream",
       "stream": "stdout",
       "text": [
        "Epoch 35/70\n",
        "0s - loss: 1.4095 - acc: 0.2503 - val_loss: 1.4078 - val_acc: 0.2444\n"
       ]
      },
      {
       "output_type": "stream",
       "stream": "stdout",
       "text": [
        "Epoch 36/70\n",
        "0s - loss: 1.4080 - acc: 0.2503 - val_loss: 1.4064 - val_acc: 0.2444\n"
       ]
      },
      {
       "output_type": "stream",
       "stream": "stdout",
       "text": [
        "Epoch 37/70\n",
        "0s - loss: 1.4066 - acc: 0.2503 - val_loss: 1.4050 - val_acc: 0.2444\n"
       ]
      },
      {
       "output_type": "stream",
       "stream": "stdout",
       "text": [
        "Epoch 38/70\n",
        "0s - loss: 1.4053 - acc: 0.2503 - val_loss: 1.4038 - val_acc: 0.2444\n"
       ]
      },
      {
       "output_type": "stream",
       "stream": "stdout",
       "text": [
        "Epoch 39/70\n",
        "0s - loss: 1.4040 - acc: 0.2503 - val_loss: 1.4026 - val_acc: 0.2444\n"
       ]
      },
      {
       "output_type": "stream",
       "stream": "stdout",
       "text": [
        "Epoch 40/70\n",
        "0s - loss: 1.4029 - acc: 0.2503 - val_loss: 1.4015 - val_acc: 0.2444\n"
       ]
      },
      {
       "output_type": "stream",
       "stream": "stdout",
       "text": [
        "Epoch 41/70\n",
        "0s - loss: 1.4018 - acc: 0.2503 - val_loss: 1.4004 - val_acc: 0.2444\n"
       ]
      },
      {
       "output_type": "stream",
       "stream": "stdout",
       "text": [
        "Epoch 42/70\n",
        "0s - loss: 1.4007 - acc: 0.2503 - val_loss: 1.3995 - val_acc: 0.2444\n"
       ]
      },
      {
       "output_type": "stream",
       "stream": "stdout",
       "text": [
        "Epoch 43/70\n",
        "0s - loss: 1.3997 - acc: 0.2503 - val_loss: 1.3985 - val_acc: 0.2444\n"
       ]
      },
      {
       "output_type": "stream",
       "stream": "stdout",
       "text": [
        "Epoch 44/70\n",
        "0s - loss: 1.3988 - acc: 0.2503 - val_loss: 1.3977 - val_acc: 0.2444\n"
       ]
      },
      {
       "output_type": "stream",
       "stream": "stdout",
       "text": [
        "Epoch 45/70\n",
        "0s - loss: 1.3980 - acc: 0.2503 - val_loss: 1.3969 - val_acc: 0.2444\n"
       ]
      },
      {
       "output_type": "stream",
       "stream": "stdout",
       "text": [
        "Epoch 46/70\n",
        "0s - loss: 1.3972 - acc: 0.2503 - val_loss: 1.3961 - val_acc: 0.2444\n"
       ]
      },
      {
       "output_type": "stream",
       "stream": "stdout",
       "text": [
        "Epoch 47/70\n",
        "0s - loss: 1.3964 - acc: 0.2503 - val_loss: 1.3954 - val_acc: 0.2444\n"
       ]
      },
      {
       "output_type": "stream",
       "stream": "stdout",
       "text": [
        "Epoch 48/70\n",
        "0s - loss: 1.3957 - acc: 0.2503 - val_loss: 1.3948 - val_acc: 0.2444\n"
       ]
      },
      {
       "output_type": "stream",
       "stream": "stdout",
       "text": [
        "Epoch 49/70\n",
        "0s - loss: 1.3951 - acc: 0.2503 - val_loss: 1.3942 - val_acc: 0.2444\n"
       ]
      },
      {
       "output_type": "stream",
       "stream": "stdout",
       "text": [
        "Epoch 50/70\n",
        "0s - loss: 1.3945 - acc: 0.2503 - val_loss: 1.3936 - val_acc: 0.2444\n"
       ]
      },
      {
       "output_type": "stream",
       "stream": "stdout",
       "text": [
        "Epoch 51/70\n",
        "0s - loss: 1.3939 - acc: 0.2503 - val_loss: 1.3931 - val_acc: 0.2444\n"
       ]
      },
      {
       "output_type": "stream",
       "stream": "stdout",
       "text": [
        "Epoch 52/70\n",
        "0s - loss: 1.3934 - acc: 0.2503 - val_loss: 1.3926 - val_acc: 0.2444\n"
       ]
      },
      {
       "output_type": "stream",
       "stream": "stdout",
       "text": [
        "Epoch 53/70\n",
        "0s - loss: 1.3929 - acc: 0.2503 - val_loss: 1.3921 - val_acc: 0.2444\n"
       ]
      },
      {
       "output_type": "stream",
       "stream": "stdout",
       "text": [
        "Epoch 54/70\n",
        "0s - loss: 1.3924 - acc: 0.2503 - val_loss: 1.3917 - val_acc: 0.2444\n"
       ]
      },
      {
       "output_type": "stream",
       "stream": "stdout",
       "text": [
        "Epoch 55/70\n",
        "0s - loss: 1.3920 - acc: 0.2503 - val_loss: 1.3913 - val_acc: 0.2444\n"
       ]
      },
      {
       "output_type": "stream",
       "stream": "stdout",
       "text": [
        "Epoch 56/70\n",
        "0s - loss: 1.3916 - acc: 0.2503 - val_loss: 1.3909 - val_acc: 0.2444\n"
       ]
      },
      {
       "output_type": "stream",
       "stream": "stdout",
       "text": [
        "Epoch 57/70\n",
        "0s - loss: 1.3912 - acc: 0.2503 - val_loss: 1.3906 - val_acc: 0.2444\n"
       ]
      },
      {
       "output_type": "stream",
       "stream": "stdout",
       "text": [
        "Epoch 58/70\n",
        "0s - loss: 1.3908 - acc: 0.2503 - val_loss: 1.3903 - val_acc: 0.2444\n"
       ]
      },
      {
       "output_type": "stream",
       "stream": "stdout",
       "text": [
        "Epoch 59/70\n",
        "0s - loss: 1.3905 - acc: 0.2503 - val_loss: 1.3900 - val_acc: 0.2444\n"
       ]
      },
      {
       "output_type": "stream",
       "stream": "stdout",
       "text": [
        "Epoch 60/70\n",
        "0s - loss: 1.3902 - acc: 0.2503 - val_loss: 1.3897 - val_acc: 0.2444\n"
       ]
      },
      {
       "output_type": "stream",
       "stream": "stdout",
       "text": [
        "Epoch 61/70\n",
        "0s - loss: 1.3899 - acc: 0.2503 - val_loss: 1.3894 - val_acc: 0.2444\n"
       ]
      },
      {
       "output_type": "stream",
       "stream": "stdout",
       "text": [
        "Epoch 62/70\n",
        "0s - loss: 1.3897 - acc: 0.2503 - val_loss: 1.3892 - val_acc: 0.2444\n"
       ]
      },
      {
       "output_type": "stream",
       "stream": "stdout",
       "text": [
        "Epoch 63/70\n",
        "0s - loss: 1.3894 - acc: 0.2503 - val_loss: 1.3890 - val_acc: 0.2444\n"
       ]
      },
      {
       "output_type": "stream",
       "stream": "stdout",
       "text": [
        "Epoch 64/70\n",
        "0s - loss: 1.3892 - acc: 0.2503 - val_loss: 1.3888 - val_acc: 0.2444\n"
       ]
      },
      {
       "output_type": "stream",
       "stream": "stdout",
       "text": [
        "Epoch 65/70\n",
        "0s - loss: 1.3890 - acc: 0.2503 - val_loss: 1.3886 - val_acc: 0.2444\n"
       ]
      },
      {
       "output_type": "stream",
       "stream": "stdout",
       "text": [
        "Epoch 66/70\n",
        "0s - loss: 1.3888 - acc: 0.2503 - val_loss: 1.3884 - val_acc: 0.2444\n"
       ]
      },
      {
       "output_type": "stream",
       "stream": "stdout",
       "text": [
        "Epoch 67/70\n",
        "0s - loss: 1.3886 - acc: 0.2503 - val_loss: 1.3882 - val_acc: 0.2444\n"
       ]
      },
      {
       "output_type": "stream",
       "stream": "stdout",
       "text": [
        "Epoch 68/70\n",
        "0s - loss: 1.3884 - acc: 0.2503 - val_loss: 1.3881 - val_acc: 0.2444\n"
       ]
      },
      {
       "output_type": "stream",
       "stream": "stdout",
       "text": [
        "Epoch 69/70\n",
        "0s - loss: 1.3883 - acc: 0.2503 - val_loss: 1.3879 - val_acc: 0.2444\n"
       ]
      },
      {
       "output_type": "stream",
       "stream": "stdout",
       "text": [
        "Epoch 70/70\n",
        "0s - loss: 1.3881 - acc: 0.2503 - val_loss: 1.3878 - val_acc: 0.2444\n"
       ]
      },
      {
       "output_type": "stream",
       "stream": "stdout",
       "text": [
        "\r",
        " 5000/20000 [======>.......................] - ETA: 0s"
       ]
      },
      {
       "output_type": "stream",
       "stream": "stdout",
       "text": [
        "\b\b\b\b\b\b\b\b\b\b\b\b\b\b\b\b\b\b\b\b\b\b\b\b\b\b\b\b\b\b\b\b\b\b\b\b\b\b\b\b\b\b\b\b\b\b\b\b\b\b\b\b\b\b\r",
        "20000/20000 [==============================] - 0s     "
       ]
      },
      {
       "output_type": "stream",
       "stream": "stdout",
       "text": [
        "\n",
        "\r",
        " 5000/20000 [======>.......................] - ETA: 0s"
       ]
      },
      {
       "output_type": "stream",
       "stream": "stdout",
       "text": [
        "\b\b\b\b\b\b\b\b\b\b\b\b\b\b\b\b\b\b\b\b\b\b\b\b\b\b\b\b\b\b\b\b\b\b\b\b\b\b\b\b\b\b\b\b\b\b\b\b\b\b\b\b\b\b\r",
        "20000/20000 [==============================] - 0s     "
       ]
      },
      {
       "output_type": "stream",
       "stream": "stdout",
       "text": [
        "\n",
        "Train on 80000 samples, validate on 20000 samples\n",
        "Epoch 1/80\n",
        "0s - loss: 1.0083 - acc: 0.2492 - val_loss: 1.0093 - val_acc: 0.2551\n"
       ]
      },
      {
       "output_type": "stream",
       "stream": "stdout",
       "text": [
        "Epoch 2/80\n",
        "0s - loss: 1.0026 - acc: 0.2492 - val_loss: 1.0037 - val_acc: 0.2551\n"
       ]
      },
      {
       "output_type": "stream",
       "stream": "stdout",
       "text": [
        "Epoch 3/80\n",
        "0s - loss: 0.9971 - acc: 0.2492 - val_loss: 0.9983 - val_acc: 0.2551\n"
       ]
      },
      {
       "output_type": "stream",
       "stream": "stdout",
       "text": [
        "Epoch 4/80\n",
        "0s - loss: 0.9919 - acc: 0.2492 - val_loss: 0.9933 - val_acc: 0.2551\n"
       ]
      },
      {
       "output_type": "stream",
       "stream": "stdout",
       "text": [
        "Epoch 5/80\n",
        "0s - loss: 0.9870 - acc: 0.2492 - val_loss: 0.9885 - val_acc: 0.2551\n"
       ]
      },
      {
       "output_type": "stream",
       "stream": "stdout",
       "text": [
        "Epoch 6/80\n",
        "0s - loss: 0.9823 - acc: 0.2492 - val_loss: 0.9839 - val_acc: 0.2551\n"
       ]
      },
      {
       "output_type": "stream",
       "stream": "stdout",
       "text": [
        "Epoch 7/80\n",
        "0s - loss: 0.9779 - acc: 0.2486 - val_loss: 0.9796 - val_acc: 0.2551\n"
       ]
      },
      {
       "output_type": "stream",
       "stream": "stdout",
       "text": [
        "Epoch 8/80\n",
        "0s - loss: 0.9736 - acc: 0.2496 - val_loss: 0.9754 - val_acc: 0.2515\n"
       ]
      },
      {
       "output_type": "stream",
       "stream": "stdout",
       "text": [
        "Epoch 9/80\n",
        "0s - loss: 0.9696 - acc: 0.2514 - val_loss: 0.9715 - val_acc: 0.2515\n"
       ]
      },
      {
       "output_type": "stream",
       "stream": "stdout",
       "text": [
        "Epoch 10/80\n",
        "0s - loss: 0.9657 - acc: 0.2514 - val_loss: 0.9677 - val_acc: 0.2515\n"
       ]
      },
      {
       "output_type": "stream",
       "stream": "stdout",
       "text": [
        "Epoch 11/80\n",
        "0s - loss: 0.9621 - acc: 0.2514 - val_loss: 0.9641 - val_acc: 0.2515\n"
       ]
      },
      {
       "output_type": "stream",
       "stream": "stdout",
       "text": [
        "Epoch 12/80\n",
        "0s - loss: 0.9586 - acc: 0.2514 - val_loss: 0.9607 - val_acc: 0.2515\n"
       ]
      },
      {
       "output_type": "stream",
       "stream": "stdout",
       "text": [
        "Epoch 13/80\n",
        "0s - loss: 0.9552 - acc: 0.2514 - val_loss: 0.9574 - val_acc: 0.2515\n"
       ]
      },
      {
       "output_type": "stream",
       "stream": "stdout",
       "text": [
        "Epoch 14/80\n",
        "0s - loss: 0.9520 - acc: 0.2514 - val_loss: 0.9543 - val_acc: 0.2515\n"
       ]
      },
      {
       "output_type": "stream",
       "stream": "stdout",
       "text": [
        "Epoch 15/80\n",
        "0s - loss: 0.9490 - acc: 0.2514 - val_loss: 0.9512 - val_acc: 0.2515\n"
       ]
      },
      {
       "output_type": "stream",
       "stream": "stdout",
       "text": [
        "Epoch 16/80\n",
        "0s - loss: 0.9460 - acc: 0.2514 - val_loss: 0.9484 - val_acc: 0.2515\n"
       ]
      },
      {
       "output_type": "stream",
       "stream": "stdout",
       "text": [
        "Epoch 17/80\n",
        "0s - loss: 0.9432 - acc: 0.2514 - val_loss: 0.9456 - val_acc: 0.2515\n"
       ]
      },
      {
       "output_type": "stream",
       "stream": "stdout",
       "text": [
        "Epoch 18/80\n",
        "0s - loss: 0.9405 - acc: 0.2514 - val_loss: 0.9429 - val_acc: 0.2515\n"
       ]
      },
      {
       "output_type": "stream",
       "stream": "stdout",
       "text": [
        "Epoch 19/80\n",
        "0s - loss: 0.9379 - acc: 0.2514 - val_loss: 0.9404 - val_acc: 0.2515\n"
       ]
      },
      {
       "output_type": "stream",
       "stream": "stdout",
       "text": [
        "Epoch 20/80\n",
        "0s - loss: 0.9354 - acc: 0.2514 - val_loss: 0.9379 - val_acc: 0.2515\n"
       ]
      },
      {
       "output_type": "stream",
       "stream": "stdout",
       "text": [
        "Epoch 21/80\n",
        "0s - loss: 0.9330 - acc: 0.2514 - val_loss: 0.9356 - val_acc: 0.2515\n"
       ]
      },
      {
       "output_type": "stream",
       "stream": "stdout",
       "text": [
        "Epoch 22/80\n",
        "0s - loss: 0.9307 - acc: 0.2514 - val_loss: 0.9333 - val_acc: 0.2515\n"
       ]
      },
      {
       "output_type": "stream",
       "stream": "stdout",
       "text": [
        "Epoch 23/80\n",
        "0s - loss: 0.9285 - acc: 0.2514 - val_loss: 0.9311 - val_acc: 0.2515\n"
       ]
      },
      {
       "output_type": "stream",
       "stream": "stdout",
       "text": [
        "Epoch 24/80\n",
        "0s - loss: 0.9263 - acc: 0.2514 - val_loss: 0.9290 - val_acc: 0.2515\n"
       ]
      },
      {
       "output_type": "stream",
       "stream": "stdout",
       "text": [
        "Epoch 25/80\n",
        "0s - loss: 0.9243 - acc: 0.2514 - val_loss: 0.9270 - val_acc: 0.2515\n"
       ]
      },
      {
       "output_type": "stream",
       "stream": "stdout",
       "text": [
        "Epoch 26/80\n",
        "0s - loss: 0.9223 - acc: 0.2514 - val_loss: 0.9250 - val_acc: 0.2515\n"
       ]
      },
      {
       "output_type": "stream",
       "stream": "stdout",
       "text": [
        "Epoch 27/80\n",
        "0s - loss: 0.9203 - acc: 0.2514 - val_loss: 0.9231 - val_acc: 0.2515\n"
       ]
      },
      {
       "output_type": "stream",
       "stream": "stdout",
       "text": [
        "Epoch 28/80\n",
        "0s - loss: 0.9185 - acc: 0.2514 - val_loss: 0.9213 - val_acc: 0.2515\n"
       ]
      },
      {
       "output_type": "stream",
       "stream": "stdout",
       "text": [
        "Epoch 29/80\n",
        "0s - loss: 0.9167 - acc: 0.2514 - val_loss: 0.9195 - val_acc: 0.2515\n"
       ]
      },
      {
       "output_type": "stream",
       "stream": "stdout",
       "text": [
        "Epoch 30/80\n",
        "0s - loss: 0.9150 - acc: 0.2514 - val_loss: 0.9178 - val_acc: 0.2515\n"
       ]
      },
      {
       "output_type": "stream",
       "stream": "stdout",
       "text": [
        "Epoch 31/80\n",
        "0s - loss: 0.9133 - acc: 0.2514 - val_loss: 0.9161 - val_acc: 0.2515\n"
       ]
      },
      {
       "output_type": "stream",
       "stream": "stdout",
       "text": [
        "Epoch 32/80\n",
        "0s - loss: 0.9117 - acc: 0.2514 - val_loss: 0.9146 - val_acc: 0.2515\n"
       ]
      },
      {
       "output_type": "stream",
       "stream": "stdout",
       "text": [
        "Epoch 33/80\n",
        "0s - loss: 0.9101 - acc: 0.2514 - val_loss: 0.9130 - val_acc: 0.2515\n"
       ]
      },
      {
       "output_type": "stream",
       "stream": "stdout",
       "text": [
        "Epoch 34/80\n",
        "0s - loss: 0.9086 - acc: 0.2514 - val_loss: 0.9115 - val_acc: 0.2515\n"
       ]
      },
      {
       "output_type": "stream",
       "stream": "stdout",
       "text": [
        "Epoch 35/80\n",
        "0s - loss: 0.9071 - acc: 0.2514 - val_loss: 0.9100 - val_acc: 0.2515\n"
       ]
      },
      {
       "output_type": "stream",
       "stream": "stdout",
       "text": [
        "Epoch 36/80\n",
        "0s - loss: 0.9057 - acc: 0.2514 - val_loss: 0.9086 - val_acc: 0.2515\n"
       ]
      },
      {
       "output_type": "stream",
       "stream": "stdout",
       "text": [
        "Epoch 37/80\n",
        "0s - loss: 0.9043 - acc: 0.2514 - val_loss: 0.9073 - val_acc: 0.2515\n"
       ]
      },
      {
       "output_type": "stream",
       "stream": "stdout",
       "text": [
        "Epoch 38/80\n",
        "0s - loss: 0.9030 - acc: 0.2514 - val_loss: 0.9060 - val_acc: 0.2515\n"
       ]
      },
      {
       "output_type": "stream",
       "stream": "stdout",
       "text": [
        "Epoch 39/80\n",
        "0s - loss: 0.9017 - acc: 0.2514 - val_loss: 0.9047 - val_acc: 0.2515\n"
       ]
      },
      {
       "output_type": "stream",
       "stream": "stdout",
       "text": [
        "Epoch 40/80\n",
        "0s - loss: 0.9004 - acc: 0.2514 - val_loss: 0.9034 - val_acc: 0.2515\n"
       ]
      },
      {
       "output_type": "stream",
       "stream": "stdout",
       "text": [
        "Epoch 41/80\n",
        "0s - loss: 0.8992 - acc: 0.2514 - val_loss: 0.9022 - val_acc: 0.2515\n"
       ]
      },
      {
       "output_type": "stream",
       "stream": "stdout",
       "text": [
        "Epoch 42/80\n",
        "0s - loss: 0.8980 - acc: 0.2514 - val_loss: 0.9010 - val_acc: 0.2515\n"
       ]
      },
      {
       "output_type": "stream",
       "stream": "stdout",
       "text": [
        "Epoch 43/80\n",
        "0s - loss: 0.8968 - acc: 0.2514 - val_loss: 0.8999 - val_acc: 0.2515\n"
       ]
      },
      {
       "output_type": "stream",
       "stream": "stdout",
       "text": [
        "Epoch 44/80\n",
        "0s - loss: 0.8957 - acc: 0.2514 - val_loss: 0.8988 - val_acc: 0.2515\n"
       ]
      },
      {
       "output_type": "stream",
       "stream": "stdout",
       "text": [
        "Epoch 45/80\n",
        "0s - loss: 0.8946 - acc: 0.2514 - val_loss: 0.8977 - val_acc: 0.2515\n"
       ]
      },
      {
       "output_type": "stream",
       "stream": "stdout",
       "text": [
        "Epoch 46/80\n",
        "0s - loss: 0.8935 - acc: 0.2514 - val_loss: 0.8966 - val_acc: 0.2515\n"
       ]
      },
      {
       "output_type": "stream",
       "stream": "stdout",
       "text": [
        "Epoch 47/80\n",
        "0s - loss: 0.8925 - acc: 0.2514 - val_loss: 0.8956 - val_acc: 0.2515\n"
       ]
      },
      {
       "output_type": "stream",
       "stream": "stdout",
       "text": [
        "Epoch 48/80\n",
        "0s - loss: 0.8915 - acc: 0.2514 - val_loss: 0.8946 - val_acc: 0.2515\n"
       ]
      },
      {
       "output_type": "stream",
       "stream": "stdout",
       "text": [
        "Epoch 49/80\n",
        "0s - loss: 0.8905 - acc: 0.2514 - val_loss: 0.8936 - val_acc: 0.2515\n"
       ]
      },
      {
       "output_type": "stream",
       "stream": "stdout",
       "text": [
        "Epoch 50/80\n",
        "0s - loss: 0.8896 - acc: 0.2514 - val_loss: 0.8927 - val_acc: 0.2515\n"
       ]
      },
      {
       "output_type": "stream",
       "stream": "stdout",
       "text": [
        "Epoch 51/80\n",
        "0s - loss: 0.8886 - acc: 0.2514 - val_loss: 0.8917 - val_acc: 0.2515\n"
       ]
      },
      {
       "output_type": "stream",
       "stream": "stdout",
       "text": [
        "Epoch 52/80\n",
        "0s - loss: 0.8877 - acc: 0.2514 - val_loss: 0.8909 - val_acc: 0.2515\n"
       ]
      },
      {
       "output_type": "stream",
       "stream": "stdout",
       "text": [
        "Epoch 53/80\n",
        "0s - loss: 0.8868 - acc: 0.2514 - val_loss: 0.8900 - val_acc: 0.2515\n"
       ]
      },
      {
       "output_type": "stream",
       "stream": "stdout",
       "text": [
        "Epoch 54/80\n",
        "0s - loss: 0.8860 - acc: 0.2514 - val_loss: 0.8891 - val_acc: 0.2515\n"
       ]
      },
      {
       "output_type": "stream",
       "stream": "stdout",
       "text": [
        "Epoch 55/80\n",
        "0s - loss: 0.8851 - acc: 0.2514 - val_loss: 0.8883 - val_acc: 0.2515\n"
       ]
      },
      {
       "output_type": "stream",
       "stream": "stdout",
       "text": [
        "Epoch 56/80\n",
        "0s - loss: 0.8843 - acc: 0.2514 - val_loss: 0.8875 - val_acc: 0.2515\n"
       ]
      },
      {
       "output_type": "stream",
       "stream": "stdout",
       "text": [
        "Epoch 57/80\n",
        "0s - loss: 0.8835 - acc: 0.2514 - val_loss: 0.8867 - val_acc: 0.2515\n"
       ]
      },
      {
       "output_type": "stream",
       "stream": "stdout",
       "text": [
        "Epoch 58/80\n",
        "0s - loss: 0.8827 - acc: 0.2514 - val_loss: 0.8859 - val_acc: 0.2515\n"
       ]
      },
      {
       "output_type": "stream",
       "stream": "stdout",
       "text": [
        "Epoch 59/80\n",
        "0s - loss: 0.8819 - acc: 0.2514 - val_loss: 0.8851 - val_acc: 0.2515\n"
       ]
      },
      {
       "output_type": "stream",
       "stream": "stdout",
       "text": [
        "Epoch 60/80\n",
        "0s - loss: 0.8812 - acc: 0.2514 - val_loss: 0.8844 - val_acc: 0.2515\n"
       ]
      },
      {
       "output_type": "stream",
       "stream": "stdout",
       "text": [
        "Epoch 61/80\n",
        "0s - loss: 0.8805 - acc: 0.2514 - val_loss: 0.8837 - val_acc: 0.2515\n"
       ]
      },
      {
       "output_type": "stream",
       "stream": "stdout",
       "text": [
        "Epoch 62/80\n",
        "0s - loss: 0.8797 - acc: 0.2514 - val_loss: 0.8829 - val_acc: 0.2515\n"
       ]
      },
      {
       "output_type": "stream",
       "stream": "stdout",
       "text": [
        "Epoch 63/80\n",
        "0s - loss: 0.8790 - acc: 0.2514 - val_loss: 0.8822 - val_acc: 0.2515\n"
       ]
      },
      {
       "output_type": "stream",
       "stream": "stdout",
       "text": [
        "Epoch 64/80\n",
        "0s - loss: 0.8784 - acc: 0.2514 - val_loss: 0.8816 - val_acc: 0.2515\n"
       ]
      },
      {
       "output_type": "stream",
       "stream": "stdout",
       "text": [
        "Epoch 65/80\n",
        "0s - loss: 0.8777 - acc: 0.2514 - val_loss: 0.8809 - val_acc: 0.2515\n"
       ]
      },
      {
       "output_type": "stream",
       "stream": "stdout",
       "text": [
        "Epoch 66/80\n",
        "0s - loss: 0.8770 - acc: 0.2514 - val_loss: 0.8803 - val_acc: 0.2515\n"
       ]
      },
      {
       "output_type": "stream",
       "stream": "stdout",
       "text": [
        "Epoch 67/80\n",
        "0s - loss: 0.8764 - acc: 0.2514 - val_loss: 0.8796 - val_acc: 0.2515\n"
       ]
      },
      {
       "output_type": "stream",
       "stream": "stdout",
       "text": [
        "Epoch 68/80\n",
        "0s - loss: 0.8758 - acc: 0.2514 - val_loss: 0.8790 - val_acc: 0.2515\n"
       ]
      },
      {
       "output_type": "stream",
       "stream": "stdout",
       "text": [
        "Epoch 69/80\n",
        "0s - loss: 0.8751 - acc: 0.2514 - val_loss: 0.8784 - val_acc: 0.2515\n"
       ]
      },
      {
       "output_type": "stream",
       "stream": "stdout",
       "text": [
        "Epoch 70/80\n",
        "0s - loss: 0.8745 - acc: 0.2514 - val_loss: 0.8778 - val_acc: 0.2515\n"
       ]
      },
      {
       "output_type": "stream",
       "stream": "stdout",
       "text": [
        "Epoch 71/80\n",
        "0s - loss: 0.8740 - acc: 0.2514 - val_loss: 0.8772 - val_acc: 0.2515\n"
       ]
      },
      {
       "output_type": "stream",
       "stream": "stdout",
       "text": [
        "Epoch 72/80\n",
        "0s - loss: 0.8734 - acc: 0.2514 - val_loss: 0.8766 - val_acc: 0.2515\n"
       ]
      },
      {
       "output_type": "stream",
       "stream": "stdout",
       "text": [
        "Epoch 73/80\n",
        "0s - loss: 0.8728 - acc: 0.2514 - val_loss: 0.8761 - val_acc: 0.2515\n"
       ]
      },
      {
       "output_type": "stream",
       "stream": "stdout",
       "text": [
        "Epoch 74/80\n",
        "0s - loss: 0.8723 - acc: 0.2514 - val_loss: 0.8755 - val_acc: 0.2515\n"
       ]
      },
      {
       "output_type": "stream",
       "stream": "stdout",
       "text": [
        "Epoch 75/80\n",
        "0s - loss: 0.8717 - acc: 0.2514 - val_loss: 0.8750 - val_acc: 0.2515\n"
       ]
      },
      {
       "output_type": "stream",
       "stream": "stdout",
       "text": [
        "Epoch 76/80\n",
        "0s - loss: 0.8712 - acc: 0.2514 - val_loss: 0.8745 - val_acc: 0.2515\n"
       ]
      },
      {
       "output_type": "stream",
       "stream": "stdout",
       "text": [
        "Epoch 77/80\n",
        "0s - loss: 0.8707 - acc: 0.2514 - val_loss: 0.8739 - val_acc: 0.2515\n"
       ]
      },
      {
       "output_type": "stream",
       "stream": "stdout",
       "text": [
        "Epoch 78/80\n",
        "0s - loss: 0.8702 - acc: 0.2514 - val_loss: 0.8734 - val_acc: 0.2515\n"
       ]
      },
      {
       "output_type": "stream",
       "stream": "stdout",
       "text": [
        "Epoch 79/80\n",
        "0s - loss: 0.8697 - acc: 0.2514 - val_loss: 0.8729 - val_acc: 0.2515\n"
       ]
      },
      {
       "output_type": "stream",
       "stream": "stdout",
       "text": [
        "Epoch 80/80\n",
        "0s - loss: 0.8692 - acc: 0.2514 - val_loss: 0.8724 - val_acc: 0.2515\n"
       ]
      },
      {
       "output_type": "stream",
       "stream": "stdout",
       "text": [
        "\r",
        " 5000/20000 [======>.......................] - ETA: 0s"
       ]
      },
      {
       "output_type": "stream",
       "stream": "stdout",
       "text": [
        "\b\b\b\b\b\b\b\b\b\b\b\b\b\b\b\b\b\b\b\b\b\b\b\b\b\b\b\b\b\b\b\b\b\b\b\b\b\b\b\b\b\b\b\b\b\b\b\b\b\b\b\b\b\b\r",
        "20000/20000 [==============================] - 0s     "
       ]
      },
      {
       "output_type": "stream",
       "stream": "stdout",
       "text": [
        "\n",
        "\r",
        " 5000/20000 [======>.......................] - ETA: 0s"
       ]
      },
      {
       "output_type": "stream",
       "stream": "stdout",
       "text": [
        "\b\b\b\b\b\b\b\b\b\b\b\b\b\b\b\b\b\b\b\b\b\b\b\b\b\b\b\b\b\b\b\b\b\b\b\b\b\b\b\b\b\b\b\b\b\b\b\b\b\b\b\b\b\b\r",
        "20000/20000 [==============================] - 0s     "
       ]
      },
      {
       "output_type": "stream",
       "stream": "stdout",
       "text": [
        "\n",
        "Train on 80000 samples, validate on 20000 samples\n",
        "Epoch 1/80\n",
        "0s - loss: 1.5608 - acc: 0.2490 - val_loss: 1.5539 - val_acc: 0.2524\n"
       ]
      },
      {
       "output_type": "stream",
       "stream": "stdout",
       "text": [
        "Epoch 2/80\n",
        "0s - loss: 1.5534 - acc: 0.2490 - val_loss: 1.5467 - val_acc: 0.2524\n"
       ]
      },
      {
       "output_type": "stream",
       "stream": "stdout",
       "text": [
        "Epoch 3/80\n",
        "0s - loss: 1.5462 - acc: 0.2490 - val_loss: 1.5397 - val_acc: 0.2524\n"
       ]
      },
      {
       "output_type": "stream",
       "stream": "stdout",
       "text": [
        "Epoch 4/80\n",
        "0s - loss: 1.5392 - acc: 0.2490 - val_loss: 1.5328 - val_acc: 0.2524\n"
       ]
      },
      {
       "output_type": "stream",
       "stream": "stdout",
       "text": [
        "Epoch 5/80\n",
        "0s - loss: 1.5324 - acc: 0.2490 - val_loss: 1.5262 - val_acc: 0.2524\n"
       ]
      },
      {
       "output_type": "stream",
       "stream": "stdout",
       "text": [
        "Epoch 6/80\n",
        "0s - loss: 1.5258 - acc: 0.2490 - val_loss: 1.5198 - val_acc: 0.2524\n"
       ]
      },
      {
       "output_type": "stream",
       "stream": "stdout",
       "text": [
        "Epoch 7/80\n",
        "0s - loss: 1.5194 - acc: 0.2490 - val_loss: 1.5136 - val_acc: 0.2524\n"
       ]
      },
      {
       "output_type": "stream",
       "stream": "stdout",
       "text": [
        "Epoch 8/80\n",
        "0s - loss: 1.5132 - acc: 0.2490 - val_loss: 1.5076 - val_acc: 0.2524\n"
       ]
      },
      {
       "output_type": "stream",
       "stream": "stdout",
       "text": [
        "Epoch 9/80\n",
        "0s - loss: 1.5072 - acc: 0.2490 - val_loss: 1.5017 - val_acc: 0.2524\n"
       ]
      },
      {
       "output_type": "stream",
       "stream": "stdout",
       "text": [
        "Epoch 10/80\n",
        "0s - loss: 1.5014 - acc: 0.2490 - val_loss: 1.4961 - val_acc: 0.2524\n"
       ]
      },
      {
       "output_type": "stream",
       "stream": "stdout",
       "text": [
        "Epoch 11/80\n",
        "0s - loss: 1.4958 - acc: 0.2490 - val_loss: 1.4907 - val_acc: 0.2524\n"
       ]
      },
      {
       "output_type": "stream",
       "stream": "stdout",
       "text": [
        "Epoch 12/80\n",
        "0s - loss: 1.4904 - acc: 0.2490 - val_loss: 1.4855 - val_acc: 0.2524\n"
       ]
      },
      {
       "output_type": "stream",
       "stream": "stdout",
       "text": [
        "Epoch 13/80\n",
        "0s - loss: 1.4852 - acc: 0.2490 - val_loss: 1.4804 - val_acc: 0.2524\n"
       ]
      },
      {
       "output_type": "stream",
       "stream": "stdout",
       "text": [
        "Epoch 14/80\n",
        "0s - loss: 1.4802 - acc: 0.2490 - val_loss: 1.4756 - val_acc: 0.2524\n"
       ]
      },
      {
       "output_type": "stream",
       "stream": "stdout",
       "text": [
        "Epoch 15/80\n",
        "0s - loss: 1.4754 - acc: 0.2490 - val_loss: 1.4709 - val_acc: 0.2524\n"
       ]
      },
      {
       "output_type": "stream",
       "stream": "stdout",
       "text": [
        "Epoch 16/80\n",
        "0s - loss: 1.4708 - acc: 0.2490 - val_loss: 1.4664 - val_acc: 0.2524\n"
       ]
      },
      {
       "output_type": "stream",
       "stream": "stdout",
       "text": [
        "Epoch 17/80\n",
        "0s - loss: 1.4663 - acc: 0.2490 - val_loss: 1.4622 - val_acc: 0.2524\n"
       ]
      },
      {
       "output_type": "stream",
       "stream": "stdout",
       "text": [
        "Epoch 18/80\n",
        "0s - loss: 1.4621 - acc: 0.2490 - val_loss: 1.4580 - val_acc: 0.2524\n"
       ]
      },
      {
       "output_type": "stream",
       "stream": "stdout",
       "text": [
        "Epoch 19/80\n",
        "0s - loss: 1.4580 - acc: 0.2490 - val_loss: 1.4541 - val_acc: 0.2524\n"
       ]
      },
      {
       "output_type": "stream",
       "stream": "stdout",
       "text": [
        "Epoch 20/80\n",
        "0s - loss: 1.4541 - acc: 0.2490 - val_loss: 1.4503 - val_acc: 0.2524\n"
       ]
      },
      {
       "output_type": "stream",
       "stream": "stdout",
       "text": [
        "Epoch 21/80\n",
        "0s - loss: 1.4503 - acc: 0.2490 - val_loss: 1.4467 - val_acc: 0.2524\n"
       ]
      },
      {
       "output_type": "stream",
       "stream": "stdout",
       "text": [
        "Epoch 22/80\n",
        "0s - loss: 1.4467 - acc: 0.2490 - val_loss: 1.4433 - val_acc: 0.2524\n"
       ]
      },
      {
       "output_type": "stream",
       "stream": "stdout",
       "text": [
        "Epoch 23/80\n",
        "0s - loss: 1.4433 - acc: 0.2490 - val_loss: 1.4400 - val_acc: 0.2524\n"
       ]
      },
      {
       "output_type": "stream",
       "stream": "stdout",
       "text": [
        "Epoch 24/80\n",
        "0s - loss: 1.4401 - acc: 0.2490 - val_loss: 1.4369 - val_acc: 0.2524\n"
       ]
      },
      {
       "output_type": "stream",
       "stream": "stdout",
       "text": [
        "Epoch 25/80\n",
        "0s - loss: 1.4370 - acc: 0.2490 - val_loss: 1.4339 - val_acc: 0.2524\n"
       ]
      },
      {
       "output_type": "stream",
       "stream": "stdout",
       "text": [
        "Epoch 26/80\n",
        "0s - loss: 1.4340 - acc: 0.2490 - val_loss: 1.4311 - val_acc: 0.2524\n"
       ]
      },
      {
       "output_type": "stream",
       "stream": "stdout",
       "text": [
        "Epoch 27/80\n",
        "0s - loss: 1.4312 - acc: 0.2490 - val_loss: 1.4284 - val_acc: 0.2524\n"
       ]
      },
      {
       "output_type": "stream",
       "stream": "stdout",
       "text": [
        "Epoch 28/80\n",
        "0s - loss: 1.4285 - acc: 0.2490 - val_loss: 1.4259 - val_acc: 0.2524\n"
       ]
      },
      {
       "output_type": "stream",
       "stream": "stdout",
       "text": [
        "Epoch 29/80\n",
        "0s - loss: 1.4260 - acc: 0.2490 - val_loss: 1.4234 - val_acc: 0.2524\n"
       ]
      },
      {
       "output_type": "stream",
       "stream": "stdout",
       "text": [
        "Epoch 30/80\n",
        "0s - loss: 1.4236 - acc: 0.2490 - val_loss: 1.4211 - val_acc: 0.2524\n"
       ]
      },
      {
       "output_type": "stream",
       "stream": "stdout",
       "text": [
        "Epoch 31/80\n",
        "0s - loss: 1.4213 - acc: 0.2498 - val_loss: 1.4190 - val_acc: 0.0693\n"
       ]
      },
      {
       "output_type": "stream",
       "stream": "stdout",
       "text": [
        "Epoch 32/80\n",
        "0s - loss: 1.4192 - acc: 0.2364 - val_loss: 1.4169 - val_acc: 0.2444\n"
       ]
      },
      {
       "output_type": "stream",
       "stream": "stdout",
       "text": [
        "Epoch 33/80\n",
        "0s - loss: 1.4171 - acc: 0.2399 - val_loss: 1.4150 - val_acc: 0.2444\n"
       ]
      },
      {
       "output_type": "stream",
       "stream": "stdout",
       "text": [
        "Epoch 34/80\n",
        "0s - loss: 1.4152 - acc: 0.2503 - val_loss: 1.4131 - val_acc: 0.2444\n"
       ]
      },
      {
       "output_type": "stream",
       "stream": "stdout",
       "text": [
        "Epoch 35/80\n",
        "0s - loss: 1.4134 - acc: 0.2503 - val_loss: 1.4114 - val_acc: 0.2444\n"
       ]
      },
      {
       "output_type": "stream",
       "stream": "stdout",
       "text": [
        "Epoch 36/80\n",
        "0s - loss: 1.4117 - acc: 0.2503 - val_loss: 1.4098 - val_acc: 0.2444\n"
       ]
      },
      {
       "output_type": "stream",
       "stream": "stdout",
       "text": [
        "Epoch 37/80\n",
        "0s - loss: 1.4100 - acc: 0.2503 - val_loss: 1.4082 - val_acc: 0.2444\n"
       ]
      },
      {
       "output_type": "stream",
       "stream": "stdout",
       "text": [
        "Epoch 38/80\n",
        "0s - loss: 1.4085 - acc: 0.2503 - val_loss: 1.4068 - val_acc: 0.2444\n"
       ]
      },
      {
       "output_type": "stream",
       "stream": "stdout",
       "text": [
        "Epoch 39/80\n",
        "0s - loss: 1.4071 - acc: 0.2503 - val_loss: 1.4054 - val_acc: 0.2444\n"
       ]
      },
      {
       "output_type": "stream",
       "stream": "stdout",
       "text": [
        "Epoch 40/80\n",
        "0s - loss: 1.4057 - acc: 0.2503 - val_loss: 1.4041 - val_acc: 0.2444\n"
       ]
      },
      {
       "output_type": "stream",
       "stream": "stdout",
       "text": [
        "Epoch 41/80\n",
        "0s - loss: 1.4044 - acc: 0.2503 - val_loss: 1.4029 - val_acc: 0.2444\n"
       ]
      },
      {
       "output_type": "stream",
       "stream": "stdout",
       "text": [
        "Epoch 42/80\n",
        "0s - loss: 1.4032 - acc: 0.2503 - val_loss: 1.4018 - val_acc: 0.2444\n"
       ]
      },
      {
       "output_type": "stream",
       "stream": "stdout",
       "text": [
        "Epoch 43/80\n",
        "0s - loss: 1.4021 - acc: 0.2503 - val_loss: 1.4008 - val_acc: 0.2444\n"
       ]
      },
      {
       "output_type": "stream",
       "stream": "stdout",
       "text": [
        "Epoch 44/80\n",
        "0s - loss: 1.4010 - acc: 0.2503 - val_loss: 1.3998 - val_acc: 0.2444\n"
       ]
      },
      {
       "output_type": "stream",
       "stream": "stdout",
       "text": [
        "Epoch 45/80\n",
        "0s - loss: 1.4000 - acc: 0.2503 - val_loss: 1.3988 - val_acc: 0.2444\n"
       ]
      },
      {
       "output_type": "stream",
       "stream": "stdout",
       "text": [
        "Epoch 46/80\n",
        "0s - loss: 1.3991 - acc: 0.2503 - val_loss: 1.3980 - val_acc: 0.2444\n"
       ]
      },
      {
       "output_type": "stream",
       "stream": "stdout",
       "text": [
        "Epoch 47/80\n",
        "0s - loss: 1.3982 - acc: 0.2503 - val_loss: 1.3971 - val_acc: 0.2444\n"
       ]
      },
      {
       "output_type": "stream",
       "stream": "stdout",
       "text": [
        "Epoch 48/80\n",
        "0s - loss: 1.3974 - acc: 0.2503 - val_loss: 1.3964 - val_acc: 0.2444\n"
       ]
      },
      {
       "output_type": "stream",
       "stream": "stdout",
       "text": [
        "Epoch 49/80\n",
        "0s - loss: 1.3967 - acc: 0.2503 - val_loss: 1.3957 - val_acc: 0.2444\n"
       ]
      },
      {
       "output_type": "stream",
       "stream": "stdout",
       "text": [
        "Epoch 50/80\n",
        "0s - loss: 1.3959 - acc: 0.2503 - val_loss: 1.3950 - val_acc: 0.2444\n"
       ]
      },
      {
       "output_type": "stream",
       "stream": "stdout",
       "text": [
        "Epoch 51/80\n",
        "0s - loss: 1.3953 - acc: 0.2503 - val_loss: 1.3944 - val_acc: 0.2444\n"
       ]
      },
      {
       "output_type": "stream",
       "stream": "stdout",
       "text": [
        "Epoch 52/80\n",
        "0s - loss: 1.3946 - acc: 0.2503 - val_loss: 1.3938 - val_acc: 0.2444\n"
       ]
      },
      {
       "output_type": "stream",
       "stream": "stdout",
       "text": [
        "Epoch 53/80\n",
        "0s - loss: 1.3941 - acc: 0.2503 - val_loss: 1.3932 - val_acc: 0.2444\n"
       ]
      },
      {
       "output_type": "stream",
       "stream": "stdout",
       "text": [
        "Epoch 54/80\n",
        "0s - loss: 1.3935 - acc: 0.2503 - val_loss: 1.3927 - val_acc: 0.2444\n"
       ]
      },
      {
       "output_type": "stream",
       "stream": "stdout",
       "text": [
        "Epoch 55/80\n",
        "0s - loss: 1.3930 - acc: 0.2503 - val_loss: 1.3923 - val_acc: 0.2444\n"
       ]
      },
      {
       "output_type": "stream",
       "stream": "stdout",
       "text": [
        "Epoch 56/80\n",
        "0s - loss: 1.3925 - acc: 0.2503 - val_loss: 1.3918 - val_acc: 0.2444\n"
       ]
      },
      {
       "output_type": "stream",
       "stream": "stdout",
       "text": [
        "Epoch 57/80\n",
        "0s - loss: 1.3921 - acc: 0.2503 - val_loss: 1.3914 - val_acc: 0.2444\n"
       ]
      },
      {
       "output_type": "stream",
       "stream": "stdout",
       "text": [
        "Epoch 58/80\n",
        "0s - loss: 1.3917 - acc: 0.2503 - val_loss: 1.3910 - val_acc: 0.2444\n"
       ]
      },
      {
       "output_type": "stream",
       "stream": "stdout",
       "text": [
        "Epoch 59/80\n",
        "0s - loss: 1.3913 - acc: 0.2503 - val_loss: 1.3907 - val_acc: 0.2444\n"
       ]
      },
      {
       "output_type": "stream",
       "stream": "stdout",
       "text": [
        "Epoch 60/80\n",
        "0s - loss: 1.3909 - acc: 0.2503 - val_loss: 1.3904 - val_acc: 0.2444\n"
       ]
      },
      {
       "output_type": "stream",
       "stream": "stdout",
       "text": [
        "Epoch 61/80\n",
        "0s - loss: 1.3906 - acc: 0.2503 - val_loss: 1.3900 - val_acc: 0.2444\n"
       ]
      },
      {
       "output_type": "stream",
       "stream": "stdout",
       "text": [
        "Epoch 62/80\n",
        "0s - loss: 1.3903 - acc: 0.2503 - val_loss: 1.3898 - val_acc: 0.2444\n"
       ]
      },
      {
       "output_type": "stream",
       "stream": "stdout",
       "text": [
        "Epoch 63/80\n",
        "0s - loss: 1.3900 - acc: 0.2503 - val_loss: 1.3895 - val_acc: 0.2444\n"
       ]
      },
      {
       "output_type": "stream",
       "stream": "stdout",
       "text": [
        "Epoch 64/80\n",
        "0s - loss: 1.3897 - acc: 0.2503 - val_loss: 1.3893 - val_acc: 0.2444\n"
       ]
      },
      {
       "output_type": "stream",
       "stream": "stdout",
       "text": [
        "Epoch 65/80\n",
        "0s - loss: 1.3895 - acc: 0.2503 - val_loss: 1.3890 - val_acc: 0.2444\n"
       ]
      },
      {
       "output_type": "stream",
       "stream": "stdout",
       "text": [
        "Epoch 66/80\n",
        "0s - loss: 1.3892 - acc: 0.2503 - val_loss: 1.3888 - val_acc: 0.2444\n"
       ]
      },
      {
       "output_type": "stream",
       "stream": "stdout",
       "text": [
        "Epoch 67/80\n",
        "0s - loss: 1.3890 - acc: 0.2503 - val_loss: 1.3886 - val_acc: 0.2444\n"
       ]
      },
      {
       "output_type": "stream",
       "stream": "stdout",
       "text": [
        "Epoch 68/80\n",
        "0s - loss: 1.3888 - acc: 0.2503 - val_loss: 1.3884 - val_acc: 0.2444\n"
       ]
      },
      {
       "output_type": "stream",
       "stream": "stdout",
       "text": [
        "Epoch 69/80\n",
        "0s - loss: 1.3886 - acc: 0.2503 - val_loss: 1.3883 - val_acc: 0.2444\n"
       ]
      },
      {
       "output_type": "stream",
       "stream": "stdout",
       "text": [
        "Epoch 70/80\n",
        "0s - loss: 1.3885 - acc: 0.2503 - val_loss: 1.3881 - val_acc: 0.2444\n"
       ]
      },
      {
       "output_type": "stream",
       "stream": "stdout",
       "text": [
        "Epoch 71/80\n",
        "0s - loss: 1.3883 - acc: 0.2503 - val_loss: 1.3880 - val_acc: 0.2444\n"
       ]
      },
      {
       "output_type": "stream",
       "stream": "stdout",
       "text": [
        "Epoch 72/80\n",
        "0s - loss: 1.3882 - acc: 0.2503 - val_loss: 1.3878 - val_acc: 0.2444\n"
       ]
      },
      {
       "output_type": "stream",
       "stream": "stdout",
       "text": [
        "Epoch 73/80\n",
        "0s - loss: 1.3880 - acc: 0.2503 - val_loss: 1.3877 - val_acc: 0.2444\n"
       ]
      },
      {
       "output_type": "stream",
       "stream": "stdout",
       "text": [
        "Epoch 74/80\n",
        "0s - loss: 1.3879 - acc: 0.2503 - val_loss: 1.3876 - val_acc: 0.2444\n"
       ]
      },
      {
       "output_type": "stream",
       "stream": "stdout",
       "text": [
        "Epoch 75/80\n",
        "0s - loss: 1.3878 - acc: 0.2503 - val_loss: 1.3875 - val_acc: 0.2444\n"
       ]
      },
      {
       "output_type": "stream",
       "stream": "stdout",
       "text": [
        "Epoch 76/80\n",
        "0s - loss: 1.3877 - acc: 0.2503 - val_loss: 1.3874 - val_acc: 0.2444\n"
       ]
      },
      {
       "output_type": "stream",
       "stream": "stdout",
       "text": [
        "Epoch 77/80\n",
        "0s - loss: 1.3876 - acc: 0.2503 - val_loss: 1.3873 - val_acc: 0.2444\n"
       ]
      },
      {
       "output_type": "stream",
       "stream": "stdout",
       "text": [
        "Epoch 78/80\n",
        "0s - loss: 1.3875 - acc: 0.2503 - val_loss: 1.3872 - val_acc: 0.2444\n"
       ]
      },
      {
       "output_type": "stream",
       "stream": "stdout",
       "text": [
        "Epoch 79/80\n",
        "0s - loss: 1.3874 - acc: 0.2503 - val_loss: 1.3872 - val_acc: 0.2444\n"
       ]
      },
      {
       "output_type": "stream",
       "stream": "stdout",
       "text": [
        "Epoch 80/80\n",
        "0s - loss: 1.3873 - acc: 0.2503 - val_loss: 1.3871 - val_acc: 0.2444\n"
       ]
      },
      {
       "output_type": "stream",
       "stream": "stdout",
       "text": [
        "\r",
        " 5000/20000 [======>.......................] - ETA: 0s"
       ]
      },
      {
       "output_type": "stream",
       "stream": "stdout",
       "text": [
        "\b\b\b\b\b\b\b\b\b\b\b\b\b\b\b\b\b\b\b\b\b\b\b\b\b\b\b\b\b\b\b\b\b\b\b\b\b\b\b\b\b\b\b\b\b\b\b\b\b\b\b\b\b\b\r",
        "20000/20000 [==============================] - 0s     "
       ]
      },
      {
       "output_type": "stream",
       "stream": "stdout",
       "text": [
        "\n",
        "\r",
        " 5000/20000 [======>.......................] - ETA: 0s"
       ]
      },
      {
       "output_type": "stream",
       "stream": "stdout",
       "text": [
        "\b\b\b\b\b\b\b\b\b\b\b\b\b\b\b\b\b\b\b\b\b\b\b\b\b\b\b\b\b\b\b\b\b\b\b\b\b\b\b\b\b\b\b\b\b\b\b\b\b\b\b\b\b\b\r",
        "20000/20000 [==============================] - 0s     "
       ]
      },
      {
       "output_type": "stream",
       "stream": "stdout",
       "text": [
        "\n",
        "Train on 80000 samples, validate on 20000 samples\n",
        "Epoch 1/90\n",
        "0s - loss: 1.0143 - acc: 0.2492 - val_loss: 1.0152 - val_acc: 0.2551\n"
       ]
      },
      {
       "output_type": "stream",
       "stream": "stdout",
       "text": [
        "Epoch 2/90\n",
        "0s - loss: 1.0082 - acc: 0.2492 - val_loss: 1.0092 - val_acc: 0.2551\n"
       ]
      },
      {
       "output_type": "stream",
       "stream": "stdout",
       "text": [
        "Epoch 3/90\n",
        "0s - loss: 1.0024 - acc: 0.2492 - val_loss: 1.0036 - val_acc: 0.2551\n"
       ]
      },
      {
       "output_type": "stream",
       "stream": "stdout",
       "text": [
        "Epoch 4/90\n",
        "0s - loss: 0.9970 - acc: 0.2492 - val_loss: 0.9982 - val_acc: 0.2551\n"
       ]
      },
      {
       "output_type": "stream",
       "stream": "stdout",
       "text": [
        "Epoch 5/90\n",
        "0s - loss: 0.9918 - acc: 0.2492 - val_loss: 0.9932 - val_acc: 0.2551\n"
       ]
      },
      {
       "output_type": "stream",
       "stream": "stdout",
       "text": [
        "Epoch 6/90\n",
        "0s - loss: 0.9869 - acc: 0.2492 - val_loss: 0.9884 - val_acc: 0.2551\n"
       ]
      },
      {
       "output_type": "stream",
       "stream": "stdout",
       "text": [
        "Epoch 7/90\n",
        "0s - loss: 0.9822 - acc: 0.2492 - val_loss: 0.9838 - val_acc: 0.2551\n"
       ]
      },
      {
       "output_type": "stream",
       "stream": "stdout",
       "text": [
        "Epoch 8/90\n",
        "0s - loss: 0.9778 - acc: 0.2498 - val_loss: 0.9795 - val_acc: 0.2515\n"
       ]
      },
      {
       "output_type": "stream",
       "stream": "stdout",
       "text": [
        "Epoch 9/90\n",
        "0s - loss: 0.9735 - acc: 0.2514 - val_loss: 0.9753 - val_acc: 0.2515\n"
       ]
      },
      {
       "output_type": "stream",
       "stream": "stdout",
       "text": [
        "Epoch 10/90\n",
        "0s - loss: 0.9695 - acc: 0.2514 - val_loss: 0.9714 - val_acc: 0.2515\n"
       ]
      },
      {
       "output_type": "stream",
       "stream": "stdout",
       "text": [
        "Epoch 11/90\n",
        "0s - loss: 0.9657 - acc: 0.2514 - val_loss: 0.9676 - val_acc: 0.2515\n"
       ]
      },
      {
       "output_type": "stream",
       "stream": "stdout",
       "text": [
        "Epoch 12/90\n",
        "0s - loss: 0.9620 - acc: 0.2514 - val_loss: 0.9640 - val_acc: 0.2515\n"
       ]
      },
      {
       "output_type": "stream",
       "stream": "stdout",
       "text": [
        "Epoch 13/90\n",
        "0s - loss: 0.9585 - acc: 0.2514 - val_loss: 0.9606 - val_acc: 0.2515\n"
       ]
      },
      {
       "output_type": "stream",
       "stream": "stdout",
       "text": [
        "Epoch 14/90\n",
        "0s - loss: 0.9551 - acc: 0.2514 - val_loss: 0.9573 - val_acc: 0.2515\n"
       ]
      },
      {
       "output_type": "stream",
       "stream": "stdout",
       "text": [
        "Epoch 15/90\n",
        "0s - loss: 0.9519 - acc: 0.2514 - val_loss: 0.9542 - val_acc: 0.2515\n"
       ]
      },
      {
       "output_type": "stream",
       "stream": "stdout",
       "text": [
        "Epoch 16/90\n",
        "0s - loss: 0.9489 - acc: 0.2514 - val_loss: 0.9512 - val_acc: 0.2515\n"
       ]
      },
      {
       "output_type": "stream",
       "stream": "stdout",
       "text": [
        "Epoch 17/90\n",
        "0s - loss: 0.9459 - acc: 0.2514 - val_loss: 0.9483 - val_acc: 0.2515\n"
       ]
      },
      {
       "output_type": "stream",
       "stream": "stdout",
       "text": [
        "Epoch 18/90\n",
        "0s - loss: 0.9431 - acc: 0.2514 - val_loss: 0.9455 - val_acc: 0.2515\n"
       ]
      },
      {
       "output_type": "stream",
       "stream": "stdout",
       "text": [
        "Epoch 19/90\n",
        "0s - loss: 0.9404 - acc: 0.2514 - val_loss: 0.9429 - val_acc: 0.2515\n"
       ]
      },
      {
       "output_type": "stream",
       "stream": "stdout",
       "text": [
        "Epoch 20/90\n",
        "0s - loss: 0.9378 - acc: 0.2514 - val_loss: 0.9403 - val_acc: 0.2515\n"
       ]
      },
      {
       "output_type": "stream",
       "stream": "stdout",
       "text": [
        "Epoch 21/90\n",
        "0s - loss: 0.9353 - acc: 0.2514 - val_loss: 0.9379 - val_acc: 0.2515\n"
       ]
      },
      {
       "output_type": "stream",
       "stream": "stdout",
       "text": [
        "Epoch 22/90\n",
        "0s - loss: 0.9329 - acc: 0.2514 - val_loss: 0.9355 - val_acc: 0.2515\n"
       ]
      },
      {
       "output_type": "stream",
       "stream": "stdout",
       "text": [
        "Epoch 23/90\n",
        "0s - loss: 0.9306 - acc: 0.2514 - val_loss: 0.9332 - val_acc: 0.2515\n"
       ]
      },
      {
       "output_type": "stream",
       "stream": "stdout",
       "text": [
        "Epoch 24/90\n",
        "0s - loss: 0.9284 - acc: 0.2514 - val_loss: 0.9310 - val_acc: 0.2515\n"
       ]
      },
      {
       "output_type": "stream",
       "stream": "stdout",
       "text": [
        "Epoch 25/90\n",
        "0s - loss: 0.9263 - acc: 0.2514 - val_loss: 0.9289 - val_acc: 0.2515\n"
       ]
      },
      {
       "output_type": "stream",
       "stream": "stdout",
       "text": [
        "Epoch 26/90\n",
        "0s - loss: 0.9242 - acc: 0.2514 - val_loss: 0.9269 - val_acc: 0.2515\n"
       ]
      },
      {
       "output_type": "stream",
       "stream": "stdout",
       "text": [
        "Epoch 27/90\n",
        "0s - loss: 0.9222 - acc: 0.2514 - val_loss: 0.9249 - val_acc: 0.2515\n"
       ]
      },
      {
       "output_type": "stream",
       "stream": "stdout",
       "text": [
        "Epoch 28/90\n",
        "0s - loss: 0.9203 - acc: 0.2514 - val_loss: 0.9231 - val_acc: 0.2515\n"
       ]
      },
      {
       "output_type": "stream",
       "stream": "stdout",
       "text": [
        "Epoch 29/90\n",
        "0s - loss: 0.9184 - acc: 0.2514 - val_loss: 0.9212 - val_acc: 0.2515\n"
       ]
      },
      {
       "output_type": "stream",
       "stream": "stdout",
       "text": [
        "Epoch 30/90\n",
        "0s - loss: 0.9167 - acc: 0.2514 - val_loss: 0.9195 - val_acc: 0.2515\n"
       ]
      },
      {
       "output_type": "stream",
       "stream": "stdout",
       "text": [
        "Epoch 31/90\n",
        "0s - loss: 0.9149 - acc: 0.2514 - val_loss: 0.9178 - val_acc: 0.2515\n"
       ]
      },
      {
       "output_type": "stream",
       "stream": "stdout",
       "text": [
        "Epoch 32/90\n",
        "0s - loss: 0.9133 - acc: 0.2514 - val_loss: 0.9161 - val_acc: 0.2515\n"
       ]
      },
      {
       "output_type": "stream",
       "stream": "stdout",
       "text": [
        "Epoch 33/90\n",
        "0s - loss: 0.9116 - acc: 0.2514 - val_loss: 0.9145 - val_acc: 0.2515\n"
       ]
      },
      {
       "output_type": "stream",
       "stream": "stdout",
       "text": [
        "Epoch 34/90\n",
        "0s - loss: 0.9101 - acc: 0.2514 - val_loss: 0.9130 - val_acc: 0.2515\n"
       ]
      },
      {
       "output_type": "stream",
       "stream": "stdout",
       "text": [
        "Epoch 35/90\n",
        "0s - loss: 0.9085 - acc: 0.2514 - val_loss: 0.9115 - val_acc: 0.2515\n"
       ]
      },
      {
       "output_type": "stream",
       "stream": "stdout",
       "text": [
        "Epoch 36/90\n",
        "0s - loss: 0.9071 - acc: 0.2514 - val_loss: 0.9100 - val_acc: 0.2515\n"
       ]
      },
      {
       "output_type": "stream",
       "stream": "stdout",
       "text": [
        "Epoch 37/90\n",
        "0s - loss: 0.9057 - acc: 0.2514 - val_loss: 0.9086 - val_acc: 0.2515\n"
       ]
      },
      {
       "output_type": "stream",
       "stream": "stdout",
       "text": [
        "Epoch 38/90\n",
        "0s - loss: 0.9043 - acc: 0.2514 - val_loss: 0.9072 - val_acc: 0.2515\n"
       ]
      },
      {
       "output_type": "stream",
       "stream": "stdout",
       "text": [
        "Epoch 39/90\n",
        "0s - loss: 0.9029 - acc: 0.2514 - val_loss: 0.9059 - val_acc: 0.2515\n"
       ]
      },
      {
       "output_type": "stream",
       "stream": "stdout",
       "text": [
        "Epoch 40/90\n",
        "0s - loss: 0.9016 - acc: 0.2514 - val_loss: 0.9046 - val_acc: 0.2515\n"
       ]
      },
      {
       "output_type": "stream",
       "stream": "stdout",
       "text": [
        "Epoch 41/90\n",
        "0s - loss: 0.9004 - acc: 0.2514 - val_loss: 0.9034 - val_acc: 0.2515\n"
       ]
      },
      {
       "output_type": "stream",
       "stream": "stdout",
       "text": [
        "Epoch 42/90\n",
        "0s - loss: 0.8991 - acc: 0.2514 - val_loss: 0.9022 - val_acc: 0.2515\n"
       ]
      },
      {
       "output_type": "stream",
       "stream": "stdout",
       "text": [
        "Epoch 43/90\n",
        "0s - loss: 0.8980 - acc: 0.2514 - val_loss: 0.9010 - val_acc: 0.2515\n"
       ]
      },
      {
       "output_type": "stream",
       "stream": "stdout",
       "text": [
        "Epoch 44/90\n",
        "0s - loss: 0.8968 - acc: 0.2514 - val_loss: 0.8998 - val_acc: 0.2515\n"
       ]
      },
      {
       "output_type": "stream",
       "stream": "stdout",
       "text": [
        "Epoch 45/90\n",
        "0s - loss: 0.8957 - acc: 0.2514 - val_loss: 0.8987 - val_acc: 0.2515\n"
       ]
      },
      {
       "output_type": "stream",
       "stream": "stdout",
       "text": [
        "Epoch 46/90\n",
        "0s - loss: 0.8946 - acc: 0.2514 - val_loss: 0.8977 - val_acc: 0.2515\n"
       ]
      },
      {
       "output_type": "stream",
       "stream": "stdout",
       "text": [
        "Epoch 47/90\n",
        "0s - loss: 0.8935 - acc: 0.2514 - val_loss: 0.8966 - val_acc: 0.2515\n"
       ]
      },
      {
       "output_type": "stream",
       "stream": "stdout",
       "text": [
        "Epoch 48/90\n",
        "0s - loss: 0.8925 - acc: 0.2514 - val_loss: 0.8956 - val_acc: 0.2515\n"
       ]
      },
      {
       "output_type": "stream",
       "stream": "stdout",
       "text": [
        "Epoch 49/90\n",
        "0s - loss: 0.8915 - acc: 0.2514 - val_loss: 0.8946 - val_acc: 0.2515\n"
       ]
      },
      {
       "output_type": "stream",
       "stream": "stdout",
       "text": [
        "Epoch 50/90\n",
        "0s - loss: 0.8905 - acc: 0.2514 - val_loss: 0.8936 - val_acc: 0.2515\n"
       ]
      },
      {
       "output_type": "stream",
       "stream": "stdout",
       "text": [
        "Epoch 51/90\n",
        "0s - loss: 0.8895 - acc: 0.2514 - val_loss: 0.8927 - val_acc: 0.2515\n"
       ]
      },
      {
       "output_type": "stream",
       "stream": "stdout",
       "text": [
        "Epoch 52/90\n",
        "0s - loss: 0.8886 - acc: 0.2514 - val_loss: 0.8917 - val_acc: 0.2515\n"
       ]
      },
      {
       "output_type": "stream",
       "stream": "stdout",
       "text": [
        "Epoch 53/90\n",
        "0s - loss: 0.8877 - acc: 0.2514 - val_loss: 0.8908 - val_acc: 0.2515\n"
       ]
      },
      {
       "output_type": "stream",
       "stream": "stdout",
       "text": [
        "Epoch 54/90\n",
        "0s - loss: 0.8868 - acc: 0.2514 - val_loss: 0.8899 - val_acc: 0.2515\n"
       ]
      },
      {
       "output_type": "stream",
       "stream": "stdout",
       "text": [
        "Epoch 55/90\n",
        "0s - loss: 0.8859 - acc: 0.2514 - val_loss: 0.8891 - val_acc: 0.2515\n"
       ]
      },
      {
       "output_type": "stream",
       "stream": "stdout",
       "text": [
        "Epoch 56/90\n",
        "0s - loss: 0.8851 - acc: 0.2514 - val_loss: 0.8883 - val_acc: 0.2515\n"
       ]
      },
      {
       "output_type": "stream",
       "stream": "stdout",
       "text": [
        "Epoch 57/90\n",
        "0s - loss: 0.8843 - acc: 0.2514 - val_loss: 0.8874 - val_acc: 0.2515\n"
       ]
      },
      {
       "output_type": "stream",
       "stream": "stdout",
       "text": [
        "Epoch 58/90\n",
        "0s - loss: 0.8835 - acc: 0.2514 - val_loss: 0.8866 - val_acc: 0.2515\n"
       ]
      },
      {
       "output_type": "stream",
       "stream": "stdout",
       "text": [
        "Epoch 59/90\n",
        "0s - loss: 0.8827 - acc: 0.2514 - val_loss: 0.8859 - val_acc: 0.2515\n"
       ]
      },
      {
       "output_type": "stream",
       "stream": "stdout",
       "text": [
        "Epoch 60/90\n",
        "0s - loss: 0.8819 - acc: 0.2514 - val_loss: 0.8851 - val_acc: 0.2515\n"
       ]
      },
      {
       "output_type": "stream",
       "stream": "stdout",
       "text": [
        "Epoch 61/90\n",
        "0s - loss: 0.8812 - acc: 0.2514 - val_loss: 0.8844 - val_acc: 0.2515\n"
       ]
      },
      {
       "output_type": "stream",
       "stream": "stdout",
       "text": [
        "Epoch 62/90\n",
        "0s - loss: 0.8804 - acc: 0.2514 - val_loss: 0.8836 - val_acc: 0.2515\n"
       ]
      },
      {
       "output_type": "stream",
       "stream": "stdout",
       "text": [
        "Epoch 63/90\n",
        "0s - loss: 0.8797 - acc: 0.2514 - val_loss: 0.8829 - val_acc: 0.2515\n"
       ]
      },
      {
       "output_type": "stream",
       "stream": "stdout",
       "text": [
        "Epoch 64/90\n",
        "0s - loss: 0.8790 - acc: 0.2514 - val_loss: 0.8822 - val_acc: 0.2515\n"
       ]
      },
      {
       "output_type": "stream",
       "stream": "stdout",
       "text": [
        "Epoch 65/90\n",
        "0s - loss: 0.8783 - acc: 0.2514 - val_loss: 0.8815 - val_acc: 0.2515\n"
       ]
      },
      {
       "output_type": "stream",
       "stream": "stdout",
       "text": [
        "Epoch 66/90\n",
        "0s - loss: 0.8777 - acc: 0.2514 - val_loss: 0.8809 - val_acc: 0.2515\n"
       ]
      },
      {
       "output_type": "stream",
       "stream": "stdout",
       "text": [
        "Epoch 67/90\n",
        "0s - loss: 0.8770 - acc: 0.2514 - val_loss: 0.8802 - val_acc: 0.2515\n"
       ]
      },
      {
       "output_type": "stream",
       "stream": "stdout",
       "text": [
        "Epoch 68/90\n",
        "0s - loss: 0.8764 - acc: 0.2514 - val_loss: 0.8796 - val_acc: 0.2515\n"
       ]
      },
      {
       "output_type": "stream",
       "stream": "stdout",
       "text": [
        "Epoch 69/90\n",
        "0s - loss: 0.8757 - acc: 0.2514 - val_loss: 0.8790 - val_acc: 0.2515\n"
       ]
      },
      {
       "output_type": "stream",
       "stream": "stdout",
       "text": [
        "Epoch 70/90\n",
        "0s - loss: 0.8751 - acc: 0.2514 - val_loss: 0.8784 - val_acc: 0.2515\n"
       ]
      },
      {
       "output_type": "stream",
       "stream": "stdout",
       "text": [
        "Epoch 71/90\n",
        "0s - loss: 0.8745 - acc: 0.2514 - val_loss: 0.8778 - val_acc: 0.2515\n"
       ]
      },
      {
       "output_type": "stream",
       "stream": "stdout",
       "text": [
        "Epoch 72/90\n",
        "0s - loss: 0.8739 - acc: 0.2514 - val_loss: 0.8772 - val_acc: 0.2515\n"
       ]
      },
      {
       "output_type": "stream",
       "stream": "stdout",
       "text": [
        "Epoch 73/90\n",
        "0s - loss: 0.8734 - acc: 0.2514 - val_loss: 0.8766 - val_acc: 0.2515\n"
       ]
      },
      {
       "output_type": "stream",
       "stream": "stdout",
       "text": [
        "Epoch 74/90\n",
        "0s - loss: 0.8728 - acc: 0.2514 - val_loss: 0.8761 - val_acc: 0.2515\n"
       ]
      },
      {
       "output_type": "stream",
       "stream": "stdout",
       "text": [
        "Epoch 75/90\n",
        "0s - loss: 0.8723 - acc: 0.2514 - val_loss: 0.8755 - val_acc: 0.2515\n"
       ]
      },
      {
       "output_type": "stream",
       "stream": "stdout",
       "text": [
        "Epoch 76/90\n",
        "0s - loss: 0.8717 - acc: 0.2514 - val_loss: 0.8750 - val_acc: 0.2515\n"
       ]
      },
      {
       "output_type": "stream",
       "stream": "stdout",
       "text": [
        "Epoch 77/90\n",
        "0s - loss: 0.8712 - acc: 0.2514 - val_loss: 0.8744 - val_acc: 0.2515\n"
       ]
      },
      {
       "output_type": "stream",
       "stream": "stdout",
       "text": [
        "Epoch 78/90\n",
        "0s - loss: 0.8707 - acc: 0.2514 - val_loss: 0.8739 - val_acc: 0.2515\n"
       ]
      },
      {
       "output_type": "stream",
       "stream": "stdout",
       "text": [
        "Epoch 79/90\n",
        "0s - loss: 0.8701 - acc: 0.2514 - val_loss: 0.8734 - val_acc: 0.2515\n"
       ]
      },
      {
       "output_type": "stream",
       "stream": "stdout",
       "text": [
        "Epoch 80/90\n",
        "0s - loss: 0.8696 - acc: 0.2514 - val_loss: 0.8729 - val_acc: 0.2515\n"
       ]
      },
      {
       "output_type": "stream",
       "stream": "stdout",
       "text": [
        "Epoch 81/90\n",
        "0s - loss: 0.8692 - acc: 0.2514 - val_loss: 0.8724 - val_acc: 0.2515\n"
       ]
      },
      {
       "output_type": "stream",
       "stream": "stdout",
       "text": [
        "Epoch 82/90\n",
        "0s - loss: 0.8687 - acc: 0.2514 - val_loss: 0.8719 - val_acc: 0.2515\n"
       ]
      },
      {
       "output_type": "stream",
       "stream": "stdout",
       "text": [
        "Epoch 83/90\n",
        "0s - loss: 0.8682 - acc: 0.2514 - val_loss: 0.8715 - val_acc: 0.2515\n"
       ]
      },
      {
       "output_type": "stream",
       "stream": "stdout",
       "text": [
        "Epoch 84/90\n",
        "0s - loss: 0.8677 - acc: 0.2514 - val_loss: 0.8710 - val_acc: 0.2515\n"
       ]
      },
      {
       "output_type": "stream",
       "stream": "stdout",
       "text": [
        "Epoch 85/90\n",
        "0s - loss: 0.8673 - acc: 0.2514 - val_loss: 0.8706 - val_acc: 0.2515\n"
       ]
      },
      {
       "output_type": "stream",
       "stream": "stdout",
       "text": [
        "Epoch 86/90\n",
        "0s - loss: 0.8668 - acc: 0.2514 - val_loss: 0.8701 - val_acc: 0.2515\n"
       ]
      },
      {
       "output_type": "stream",
       "stream": "stdout",
       "text": [
        "Epoch 87/90\n",
        "0s - loss: 0.8664 - acc: 0.2514 - val_loss: 0.8697 - val_acc: 0.2515\n"
       ]
      },
      {
       "output_type": "stream",
       "stream": "stdout",
       "text": [
        "Epoch 88/90\n",
        "0s - loss: 0.8660 - acc: 0.2514 - val_loss: 0.8693 - val_acc: 0.2515\n"
       ]
      },
      {
       "output_type": "stream",
       "stream": "stdout",
       "text": [
        "Epoch 89/90\n",
        "0s - loss: 0.8655 - acc: 0.2514 - val_loss: 0.8688 - val_acc: 0.2515\n"
       ]
      },
      {
       "output_type": "stream",
       "stream": "stdout",
       "text": [
        "Epoch 90/90\n",
        "0s - loss: 0.8651 - acc: 0.2514 - val_loss: 0.8684 - val_acc: 0.2515\n"
       ]
      },
      {
       "output_type": "stream",
       "stream": "stdout",
       "text": [
        "\r",
        " 5000/20000 [======>.......................] - ETA: 0s"
       ]
      },
      {
       "output_type": "stream",
       "stream": "stdout",
       "text": [
        "\b\b\b\b\b\b\b\b\b\b\b\b\b\b\b\b\b\b\b\b\b\b\b\b\b\b\b\b\b\b\b\b\b\b\b\b\b\b\b\b\b\b\b\b\b\b\b\b\b\b\b\b\b\b\r",
        "20000/20000 [==============================] - 0s     "
       ]
      },
      {
       "output_type": "stream",
       "stream": "stdout",
       "text": [
        "\n",
        "\r",
        " 5000/20000 [======>.......................] - ETA: 0s"
       ]
      },
      {
       "output_type": "stream",
       "stream": "stdout",
       "text": [
        "\b\b\b\b\b\b\b\b\b\b\b\b\b\b\b\b\b\b\b\b\b\b\b\b\b\b\b\b\b\b\b\b\b\b\b\b\b\b\b\b\b\b\b\b\b\b\b\b\b\b\b\b\b\b\r",
        "20000/20000 [==============================] - 0s     "
       ]
      },
      {
       "output_type": "stream",
       "stream": "stdout",
       "text": [
        "\n",
        "Train on 80000 samples, validate on 20000 samples\n",
        "Epoch 1/90\n",
        "0s - loss: 1.5775 - acc: 0.2490 - val_loss: 1.5702 - val_acc: 0.2524\n"
       ]
      },
      {
       "output_type": "stream",
       "stream": "stdout",
       "text": [
        "Epoch 2/90\n",
        "0s - loss: 1.5696 - acc: 0.2490 - val_loss: 1.5625 - val_acc: 0.2524\n"
       ]
      },
      {
       "output_type": "stream",
       "stream": "stdout",
       "text": [
        "Epoch 3/90\n",
        "0s - loss: 1.5620 - acc: 0.2490 - val_loss: 1.5550 - val_acc: 0.2524\n"
       ]
      },
      {
       "output_type": "stream",
       "stream": "stdout",
       "text": [
        "Epoch 4/90\n",
        "0s - loss: 1.5545 - acc: 0.2490 - val_loss: 1.5478 - val_acc: 0.2524\n"
       ]
      },
      {
       "output_type": "stream",
       "stream": "stdout",
       "text": [
        "Epoch 5/90\n",
        "0s - loss: 1.5473 - acc: 0.2490 - val_loss: 1.5407 - val_acc: 0.2524\n"
       ]
      },
      {
       "output_type": "stream",
       "stream": "stdout",
       "text": [
        "Epoch 6/90\n",
        "0s - loss: 1.5402 - acc: 0.2490 - val_loss: 1.5339 - val_acc: 0.2524\n"
       ]
      },
      {
       "output_type": "stream",
       "stream": "stdout",
       "text": [
        "Epoch 7/90\n",
        "0s - loss: 1.5334 - acc: 0.2490 - val_loss: 1.5272 - val_acc: 0.2524\n"
       ]
      },
      {
       "output_type": "stream",
       "stream": "stdout",
       "text": [
        "Epoch 8/90\n",
        "0s - loss: 1.5268 - acc: 0.2490 - val_loss: 1.5208 - val_acc: 0.2524\n"
       ]
      },
      {
       "output_type": "stream",
       "stream": "stdout",
       "text": [
        "Epoch 9/90\n",
        "0s - loss: 1.5204 - acc: 0.2490 - val_loss: 1.5145 - val_acc: 0.2524\n"
       ]
      },
      {
       "output_type": "stream",
       "stream": "stdout",
       "text": [
        "Epoch 10/90\n",
        "0s - loss: 1.5141 - acc: 0.2490 - val_loss: 1.5085 - val_acc: 0.2524\n"
       ]
      },
      {
       "output_type": "stream",
       "stream": "stdout",
       "text": [
        "Epoch 11/90\n",
        "0s - loss: 1.5081 - acc: 0.2490 - val_loss: 1.5026 - val_acc: 0.2524\n"
       ]
      },
      {
       "output_type": "stream",
       "stream": "stdout",
       "text": [
        "Epoch 12/90\n",
        "0s - loss: 1.5023 - acc: 0.2490 - val_loss: 1.4970 - val_acc: 0.2524\n"
       ]
      },
      {
       "output_type": "stream",
       "stream": "stdout",
       "text": [
        "Epoch 13/90\n",
        "0s - loss: 1.4967 - acc: 0.2490 - val_loss: 1.4915 - val_acc: 0.2524\n"
       ]
      },
      {
       "output_type": "stream",
       "stream": "stdout",
       "text": [
        "Epoch 14/90\n",
        "0s - loss: 1.4912 - acc: 0.2490 - val_loss: 1.4862 - val_acc: 0.2524\n"
       ]
      },
      {
       "output_type": "stream",
       "stream": "stdout",
       "text": [
        "Epoch 15/90\n",
        "0s - loss: 1.4860 - acc: 0.2490 - val_loss: 1.4812 - val_acc: 0.2524\n"
       ]
      },
      {
       "output_type": "stream",
       "stream": "stdout",
       "text": [
        "Epoch 16/90\n",
        "0s - loss: 1.4810 - acc: 0.2490 - val_loss: 1.4763 - val_acc: 0.2524\n"
       ]
      },
      {
       "output_type": "stream",
       "stream": "stdout",
       "text": [
        "Epoch 17/90\n",
        "0s - loss: 1.4761 - acc: 0.2490 - val_loss: 1.4716 - val_acc: 0.2524\n"
       ]
      },
      {
       "output_type": "stream",
       "stream": "stdout",
       "text": [
        "Epoch 18/90\n",
        "0s - loss: 1.4715 - acc: 0.2490 - val_loss: 1.4671 - val_acc: 0.2524\n"
       ]
      },
      {
       "output_type": "stream",
       "stream": "stdout",
       "text": [
        "Epoch 19/90\n",
        "0s - loss: 1.4670 - acc: 0.2490 - val_loss: 1.4628 - val_acc: 0.2524\n"
       ]
      },
      {
       "output_type": "stream",
       "stream": "stdout",
       "text": [
        "Epoch 20/90\n",
        "0s - loss: 1.4627 - acc: 0.2490 - val_loss: 1.4587 - val_acc: 0.2524\n"
       ]
      },
      {
       "output_type": "stream",
       "stream": "stdout",
       "text": [
        "Epoch 21/90\n",
        "0s - loss: 1.4586 - acc: 0.2490 - val_loss: 1.4547 - val_acc: 0.2524\n"
       ]
      },
      {
       "output_type": "stream",
       "stream": "stdout",
       "text": [
        "Epoch 22/90\n",
        "0s - loss: 1.4546 - acc: 0.2490 - val_loss: 1.4509 - val_acc: 0.2524\n"
       ]
      },
      {
       "output_type": "stream",
       "stream": "stdout",
       "text": [
        "Epoch 23/90\n",
        "0s - loss: 1.4509 - acc: 0.2490 - val_loss: 1.4473 - val_acc: 0.2524\n"
       ]
      },
      {
       "output_type": "stream",
       "stream": "stdout",
       "text": [
        "Epoch 24/90\n",
        "0s - loss: 1.4473 - acc: 0.2490 - val_loss: 1.4438 - val_acc: 0.2524\n"
       ]
      },
      {
       "output_type": "stream",
       "stream": "stdout",
       "text": [
        "Epoch 25/90\n",
        "0s - loss: 1.4438 - acc: 0.2490 - val_loss: 1.4405 - val_acc: 0.2524\n"
       ]
      },
      {
       "output_type": "stream",
       "stream": "stdout",
       "text": [
        "Epoch 26/90\n",
        "0s - loss: 1.4406 - acc: 0.2490 - val_loss: 1.4374 - val_acc: 0.2524\n"
       ]
      },
      {
       "output_type": "stream",
       "stream": "stdout",
       "text": [
        "Epoch 27/90\n",
        "0s - loss: 1.4374 - acc: 0.2490 - val_loss: 1.4344 - val_acc: 0.2524\n"
       ]
      },
      {
       "output_type": "stream",
       "stream": "stdout",
       "text": [
        "Epoch 28/90\n",
        "0s - loss: 1.4345 - acc: 0.2490 - val_loss: 1.4315 - val_acc: 0.2524\n"
       ]
      },
      {
       "output_type": "stream",
       "stream": "stdout",
       "text": [
        "Epoch 29/90\n",
        "0s - loss: 1.4316 - acc: 0.2490 - val_loss: 1.4288 - val_acc: 0.2524\n"
       ]
      },
      {
       "output_type": "stream",
       "stream": "stdout",
       "text": [
        "Epoch 30/90\n",
        "0s - loss: 1.4289 - acc: 0.2490 - val_loss: 1.4262 - val_acc: 0.2524\n"
       ]
      },
      {
       "output_type": "stream",
       "stream": "stdout",
       "text": [
        "Epoch 31/90\n",
        "0s - loss: 1.4264 - acc: 0.2355 - val_loss: 1.4238 - val_acc: 0.2524\n"
       ]
      },
      {
       "output_type": "stream",
       "stream": "stdout",
       "text": [
        "Epoch 32/90\n",
        "0s - loss: 1.4240 - acc: 0.2468 - val_loss: 1.4215 - val_acc: 0.2444\n"
       ]
      },
      {
       "output_type": "stream",
       "stream": "stdout",
       "text": [
        "Epoch 33/90\n",
        "0s - loss: 1.4217 - acc: 0.2379 - val_loss: 1.4193 - val_acc: 0.2444\n"
       ]
      },
      {
       "output_type": "stream",
       "stream": "stdout",
       "text": [
        "Epoch 34/90\n",
        "0s - loss: 1.4195 - acc: 0.2503 - val_loss: 1.4172 - val_acc: 0.2444\n"
       ]
      },
      {
       "output_type": "stream",
       "stream": "stdout",
       "text": [
        "Epoch 35/90\n",
        "0s - loss: 1.4174 - acc: 0.2503 - val_loss: 1.4153 - val_acc: 0.2444\n"
       ]
      },
      {
       "output_type": "stream",
       "stream": "stdout",
       "text": [
        "Epoch 36/90\n",
        "0s - loss: 1.4155 - acc: 0.2503 - val_loss: 1.4134 - val_acc: 0.2444\n"
       ]
      },
      {
       "output_type": "stream",
       "stream": "stdout",
       "text": [
        "Epoch 37/90\n",
        "0s - loss: 1.4136 - acc: 0.2503 - val_loss: 1.4117 - val_acc: 0.2444\n"
       ]
      },
      {
       "output_type": "stream",
       "stream": "stdout",
       "text": [
        "Epoch 38/90\n",
        "0s - loss: 1.4119 - acc: 0.2503 - val_loss: 1.4100 - val_acc: 0.2444\n"
       ]
      },
      {
       "output_type": "stream",
       "stream": "stdout",
       "text": [
        "Epoch 39/90\n",
        "0s - loss: 1.4103 - acc: 0.2503 - val_loss: 1.4085 - val_acc: 0.2444\n"
       ]
      },
      {
       "output_type": "stream",
       "stream": "stdout",
       "text": [
        "Epoch 40/90\n",
        "0s - loss: 1.4087 - acc: 0.2503 - val_loss: 1.4070 - val_acc: 0.2444\n"
       ]
      },
      {
       "output_type": "stream",
       "stream": "stdout",
       "text": [
        "Epoch 41/90\n",
        "0s - loss: 1.4073 - acc: 0.2503 - val_loss: 1.4056 - val_acc: 0.2444\n"
       ]
      },
      {
       "output_type": "stream",
       "stream": "stdout",
       "text": [
        "Epoch 42/90\n",
        "0s - loss: 1.4059 - acc: 0.2503 - val_loss: 1.4043 - val_acc: 0.2444\n"
       ]
      },
      {
       "output_type": "stream",
       "stream": "stdout",
       "text": [
        "Epoch 43/90\n",
        "0s - loss: 1.4046 - acc: 0.2503 - val_loss: 1.4031 - val_acc: 0.2444\n"
       ]
      },
      {
       "output_type": "stream",
       "stream": "stdout",
       "text": [
        "Epoch 44/90\n",
        "0s - loss: 1.4034 - acc: 0.2503 - val_loss: 1.4020 - val_acc: 0.2444\n"
       ]
      },
      {
       "output_type": "stream",
       "stream": "stdout",
       "text": [
        "Epoch 45/90\n",
        "0s - loss: 1.4023 - acc: 0.2503 - val_loss: 1.4009 - val_acc: 0.2444\n"
       ]
      },
      {
       "output_type": "stream",
       "stream": "stdout",
       "text": [
        "Epoch 46/90\n",
        "0s - loss: 1.4012 - acc: 0.2503 - val_loss: 1.3999 - val_acc: 0.2444\n"
       ]
      },
      {
       "output_type": "stream",
       "stream": "stdout",
       "text": [
        "Epoch 47/90\n",
        "0s - loss: 1.4002 - acc: 0.2503 - val_loss: 1.3990 - val_acc: 0.2444\n"
       ]
      },
      {
       "output_type": "stream",
       "stream": "stdout",
       "text": [
        "Epoch 48/90\n",
        "0s - loss: 1.3992 - acc: 0.2503 - val_loss: 1.3981 - val_acc: 0.2444\n"
       ]
      },
      {
       "output_type": "stream",
       "stream": "stdout",
       "text": [
        "Epoch 49/90\n",
        "0s - loss: 1.3984 - acc: 0.2503 - val_loss: 1.3972 - val_acc: 0.2444\n"
       ]
      },
      {
       "output_type": "stream",
       "stream": "stdout",
       "text": [
        "Epoch 50/90\n",
        "0s - loss: 1.3975 - acc: 0.2503 - val_loss: 1.3965 - val_acc: 0.2444\n"
       ]
      },
      {
       "output_type": "stream",
       "stream": "stdout",
       "text": [
        "Epoch 51/90\n",
        "0s - loss: 1.3968 - acc: 0.2503 - val_loss: 1.3958 - val_acc: 0.2444\n"
       ]
      },
      {
       "output_type": "stream",
       "stream": "stdout",
       "text": [
        "Epoch 52/90\n",
        "0s - loss: 1.3960 - acc: 0.2503 - val_loss: 1.3951 - val_acc: 0.2444\n"
       ]
      },
      {
       "output_type": "stream",
       "stream": "stdout",
       "text": [
        "Epoch 53/90\n",
        "0s - loss: 1.3954 - acc: 0.2503 - val_loss: 1.3944 - val_acc: 0.2444\n"
       ]
      },
      {
       "output_type": "stream",
       "stream": "stdout",
       "text": [
        "Epoch 54/90\n",
        "0s - loss: 1.3947 - acc: 0.2503 - val_loss: 1.3939 - val_acc: 0.2444\n"
       ]
      },
      {
       "output_type": "stream",
       "stream": "stdout",
       "text": [
        "Epoch 55/90\n",
        "0s - loss: 1.3941 - acc: 0.2503 - val_loss: 1.3933 - val_acc: 0.2444\n"
       ]
      },
      {
       "output_type": "stream",
       "stream": "stdout",
       "text": [
        "Epoch 56/90\n",
        "0s - loss: 1.3936 - acc: 0.2503 - val_loss: 1.3928 - val_acc: 0.2444\n"
       ]
      },
      {
       "output_type": "stream",
       "stream": "stdout",
       "text": [
        "Epoch 57/90\n",
        "0s - loss: 1.3931 - acc: 0.2503 - val_loss: 1.3923 - val_acc: 0.2444\n"
       ]
      },
      {
       "output_type": "stream",
       "stream": "stdout",
       "text": [
        "Epoch 58/90\n",
        "0s - loss: 1.3926 - acc: 0.2503 - val_loss: 1.3919 - val_acc: 0.2444\n"
       ]
      },
      {
       "output_type": "stream",
       "stream": "stdout",
       "text": [
        "Epoch 59/90\n",
        "0s - loss: 1.3922 - acc: 0.2503 - val_loss: 1.3915 - val_acc: 0.2444\n"
       ]
      },
      {
       "output_type": "stream",
       "stream": "stdout",
       "text": [
        "Epoch 60/90\n",
        "0s - loss: 1.3917 - acc: 0.2503 - val_loss: 1.3911 - val_acc: 0.2444\n"
       ]
      },
      {
       "output_type": "stream",
       "stream": "stdout",
       "text": [
        "Epoch 61/90\n",
        "0s - loss: 1.3913 - acc: 0.2503 - val_loss: 1.3907 - val_acc: 0.2444\n"
       ]
      },
      {
       "output_type": "stream",
       "stream": "stdout",
       "text": [
        "Epoch 62/90\n",
        "0s - loss: 1.3910 - acc: 0.2503 - val_loss: 1.3904 - val_acc: 0.2444\n"
       ]
      },
      {
       "output_type": "stream",
       "stream": "stdout",
       "text": [
        "Epoch 63/90\n",
        "0s - loss: 1.3906 - acc: 0.2503 - val_loss: 1.3901 - val_acc: 0.2444\n"
       ]
      },
      {
       "output_type": "stream",
       "stream": "stdout",
       "text": [
        "Epoch 64/90\n",
        "0s - loss: 1.3903 - acc: 0.2503 - val_loss: 1.3898 - val_acc: 0.2444\n"
       ]
      },
      {
       "output_type": "stream",
       "stream": "stdout",
       "text": [
        "Epoch 65/90\n",
        "0s - loss: 1.3900 - acc: 0.2503 - val_loss: 1.3895 - val_acc: 0.2444\n"
       ]
      },
      {
       "output_type": "stream",
       "stream": "stdout",
       "text": [
        "Epoch 66/90\n",
        "0s - loss: 1.3898 - acc: 0.2503 - val_loss: 1.3893 - val_acc: 0.2444\n"
       ]
      },
      {
       "output_type": "stream",
       "stream": "stdout",
       "text": [
        "Epoch 67/90\n",
        "0s - loss: 1.3895 - acc: 0.2503 - val_loss: 1.3891 - val_acc: 0.2444\n"
       ]
      },
      {
       "output_type": "stream",
       "stream": "stdout",
       "text": [
        "Epoch 68/90\n",
        "0s - loss: 1.3893 - acc: 0.2503 - val_loss: 1.3888 - val_acc: 0.2444\n"
       ]
      },
      {
       "output_type": "stream",
       "stream": "stdout",
       "text": [
        "Epoch 69/90\n",
        "0s - loss: 1.3891 - acc: 0.2503 - val_loss: 1.3886 - val_acc: 0.2444\n"
       ]
      },
      {
       "output_type": "stream",
       "stream": "stdout",
       "text": [
        "Epoch 70/90\n",
        "0s - loss: 1.3889 - acc: 0.2503 - val_loss: 1.3885 - val_acc: 0.2444\n"
       ]
      },
      {
       "output_type": "stream",
       "stream": "stdout",
       "text": [
        "Epoch 71/90\n",
        "0s - loss: 1.3887 - acc: 0.2503 - val_loss: 1.3883 - val_acc: 0.2444\n"
       ]
      },
      {
       "output_type": "stream",
       "stream": "stdout",
       "text": [
        "Epoch 72/90\n",
        "0s - loss: 1.3885 - acc: 0.2503 - val_loss: 1.3881 - val_acc: 0.2444\n"
       ]
      },
      {
       "output_type": "stream",
       "stream": "stdout",
       "text": [
        "Epoch 73/90\n",
        "0s - loss: 1.3883 - acc: 0.2503 - val_loss: 1.3880 - val_acc: 0.2444\n"
       ]
      },
      {
       "output_type": "stream",
       "stream": "stdout",
       "text": [
        "Epoch 74/90\n",
        "0s - loss: 1.3882 - acc: 0.2503 - val_loss: 1.3879 - val_acc: 0.2444\n"
       ]
      },
      {
       "output_type": "stream",
       "stream": "stdout",
       "text": [
        "Epoch 75/90\n",
        "0s - loss: 1.3880 - acc: 0.2503 - val_loss: 1.3877 - val_acc: 0.2444\n"
       ]
      },
      {
       "output_type": "stream",
       "stream": "stdout",
       "text": [
        "Epoch 76/90\n",
        "0s - loss: 1.3879 - acc: 0.2503 - val_loss: 1.3876 - val_acc: 0.2444\n"
       ]
      },
      {
       "output_type": "stream",
       "stream": "stdout",
       "text": [
        "Epoch 77/90\n",
        "0s - loss: 1.3878 - acc: 0.2503 - val_loss: 1.3875 - val_acc: 0.2444\n"
       ]
      },
      {
       "output_type": "stream",
       "stream": "stdout",
       "text": [
        "Epoch 78/90\n",
        "0s - loss: 1.3877 - acc: 0.2503 - val_loss: 1.3874 - val_acc: 0.2444\n"
       ]
      },
      {
       "output_type": "stream",
       "stream": "stdout",
       "text": [
        "Epoch 79/90\n",
        "0s - loss: 1.3876 - acc: 0.2503 - val_loss: 1.3873 - val_acc: 0.2444\n"
       ]
      },
      {
       "output_type": "stream",
       "stream": "stdout",
       "text": [
        "Epoch 80/90\n",
        "0s - loss: 1.3875 - acc: 0.2503 - val_loss: 1.3872 - val_acc: 0.2444\n"
       ]
      },
      {
       "output_type": "stream",
       "stream": "stdout",
       "text": [
        "Epoch 81/90\n",
        "0s - loss: 1.3874 - acc: 0.2503 - val_loss: 1.3872 - val_acc: 0.2444\n"
       ]
      },
      {
       "output_type": "stream",
       "stream": "stdout",
       "text": [
        "Epoch 82/90\n",
        "0s - loss: 1.3873 - acc: 0.2503 - val_loss: 1.3871 - val_acc: 0.2444\n"
       ]
      },
      {
       "output_type": "stream",
       "stream": "stdout",
       "text": [
        "Epoch 83/90\n",
        "0s - loss: 1.3872 - acc: 0.2503 - val_loss: 1.3870 - val_acc: 0.2444\n"
       ]
      },
      {
       "output_type": "stream",
       "stream": "stdout",
       "text": [
        "Epoch 84/90\n",
        "0s - loss: 1.3872 - acc: 0.2503 - val_loss: 1.3870 - val_acc: 0.2444\n"
       ]
      },
      {
       "output_type": "stream",
       "stream": "stdout",
       "text": [
        "Epoch 85/90\n",
        "0s - loss: 1.3871 - acc: 0.2503 - val_loss: 1.3869 - val_acc: 0.2444\n"
       ]
      },
      {
       "output_type": "stream",
       "stream": "stdout",
       "text": [
        "Epoch 86/90\n",
        "0s - loss: 1.3870 - acc: 0.2503 - val_loss: 1.3869 - val_acc: 0.2444\n"
       ]
      },
      {
       "output_type": "stream",
       "stream": "stdout",
       "text": [
        "Epoch 87/90\n",
        "0s - loss: 1.3870 - acc: 0.2503 - val_loss: 1.3868 - val_acc: 0.2444\n"
       ]
      },
      {
       "output_type": "stream",
       "stream": "stdout",
       "text": [
        "Epoch 88/90\n",
        "0s - loss: 1.3869 - acc: 0.2503 - val_loss: 1.3868 - val_acc: 0.2444\n"
       ]
      },
      {
       "output_type": "stream",
       "stream": "stdout",
       "text": [
        "Epoch 89/90\n",
        "0s - loss: 1.3869 - acc: 0.2503 - val_loss: 1.3867 - val_acc: 0.2444\n"
       ]
      },
      {
       "output_type": "stream",
       "stream": "stdout",
       "text": [
        "Epoch 90/90\n",
        "0s - loss: 1.3868 - acc: 0.2503 - val_loss: 1.3867 - val_acc: 0.2444\n"
       ]
      },
      {
       "output_type": "stream",
       "stream": "stdout",
       "text": [
        "\r",
        " 5000/20000 [======>.......................] - ETA: 0s"
       ]
      },
      {
       "output_type": "stream",
       "stream": "stdout",
       "text": [
        "\b\b\b\b\b\b\b\b\b\b\b\b\b\b\b\b\b\b\b\b\b\b\b\b\b\b\b\b\b\b\b\b\b\b\b\b\b\b\b\b\b\b\b\b\b\b\b\b\b\b\b\b\b\b\r",
        "20000/20000 [==============================] - 0s     "
       ]
      },
      {
       "output_type": "stream",
       "stream": "stdout",
       "text": [
        "\n",
        "\r",
        " 5000/20000 [======>.......................] - ETA: 0s"
       ]
      },
      {
       "output_type": "stream",
       "stream": "stdout",
       "text": [
        "\b\b\b\b\b\b\b\b\b\b\b\b\b\b\b\b\b\b\b\b\b\b\b\b\b\b\b\b\b\b\b\b\b\b\b\b\b\b\b\b\b\b\b\b\b\b\b\b\b\b\b\b\b\b\r",
        "20000/20000 [==============================] - 0s     "
       ]
      },
      {
       "output_type": "stream",
       "stream": "stdout",
       "text": [
        "\n",
        "Train on 80000 samples, validate on 20000 samples\n",
        "Epoch 1/100\n",
        "0s - loss: 1.0190 - acc: 0.2492 - val_loss: 1.0197 - val_acc: 0.2551\n"
       ]
      },
      {
       "output_type": "stream",
       "stream": "stdout",
       "text": [
        "Epoch 2/100\n",
        "0s - loss: 1.0126 - acc: 0.2492 - val_loss: 1.0135 - val_acc: 0.2551\n"
       ]
      },
      {
       "output_type": "stream",
       "stream": "stdout",
       "text": [
        "Epoch 3/100\n",
        "0s - loss: 1.0066 - acc: 0.2492 - val_loss: 1.0076 - val_acc: 0.2551\n"
       ]
      },
      {
       "output_type": "stream",
       "stream": "stdout",
       "text": [
        "Epoch 4/100\n",
        "0s - loss: 1.0009 - acc: 0.2492 - val_loss: 1.0021 - val_acc: 0.2551\n"
       ]
      },
      {
       "output_type": "stream",
       "stream": "stdout",
       "text": [
        "Epoch 5/100\n",
        "0s - loss: 0.9955 - acc: 0.2492 - val_loss: 0.9968 - val_acc: 0.2551\n"
       ]
      },
      {
       "output_type": "stream",
       "stream": "stdout",
       "text": [
        "Epoch 6/100\n",
        "0s - loss: 0.9904 - acc: 0.2492 - val_loss: 0.9918 - val_acc: 0.2551\n"
       ]
      },
      {
       "output_type": "stream",
       "stream": "stdout",
       "text": [
        "Epoch 7/100\n",
        "0s - loss: 0.9855 - acc: 0.2492 - val_loss: 0.9871 - val_acc: 0.2551\n"
       ]
      },
      {
       "output_type": "stream",
       "stream": "stdout",
       "text": [
        "Epoch 8/100\n",
        "0s - loss: 0.9809 - acc: 0.2492 - val_loss: 0.9826 - val_acc: 0.2551\n"
       ]
      },
      {
       "output_type": "stream",
       "stream": "stdout",
       "text": [
        "Epoch 9/100\n",
        "0s - loss: 0.9766 - acc: 0.2507 - val_loss: 0.9783 - val_acc: 0.2515\n"
       ]
      },
      {
       "output_type": "stream",
       "stream": "stdout",
       "text": [
        "Epoch 10/100\n",
        "0s - loss: 0.9724 - acc: 0.2514 - val_loss: 0.9742 - val_acc: 0.2515\n"
       ]
      },
      {
       "output_type": "stream",
       "stream": "stdout",
       "text": [
        "Epoch 11/100\n",
        "0s - loss: 0.9684 - acc: 0.2514 - val_loss: 0.9703 - val_acc: 0.2515\n"
       ]
      },
      {
       "output_type": "stream",
       "stream": "stdout",
       "text": [
        "Epoch 12/100\n",
        "0s - loss: 0.9646 - acc: 0.2514 - val_loss: 0.9666 - val_acc: 0.2515\n"
       ]
      },
      {
       "output_type": "stream",
       "stream": "stdout",
       "text": [
        "Epoch 13/100\n",
        "0s - loss: 0.9610 - acc: 0.2514 - val_loss: 0.9631 - val_acc: 0.2515\n"
       ]
      },
      {
       "output_type": "stream",
       "stream": "stdout",
       "text": [
        "Epoch 14/100\n",
        "0s - loss: 0.9575 - acc: 0.2514 - val_loss: 0.9597 - val_acc: 0.2515\n"
       ]
      },
      {
       "output_type": "stream",
       "stream": "stdout",
       "text": [
        "Epoch 15/100\n",
        "0s - loss: 0.9542 - acc: 0.2514 - val_loss: 0.9564 - val_acc: 0.2515\n"
       ]
      },
      {
       "output_type": "stream",
       "stream": "stdout",
       "text": [
        "Epoch 16/100\n",
        "0s - loss: 0.9511 - acc: 0.2514 - val_loss: 0.9533 - val_acc: 0.2515\n"
       ]
      },
      {
       "output_type": "stream",
       "stream": "stdout",
       "text": [
        "Epoch 17/100\n",
        "0s - loss: 0.9480 - acc: 0.2514 - val_loss: 0.9503 - val_acc: 0.2515\n"
       ]
      },
      {
       "output_type": "stream",
       "stream": "stdout",
       "text": [
        "Epoch 18/100\n",
        "0s - loss: 0.9451 - acc: 0.2514 - val_loss: 0.9475 - val_acc: 0.2515\n"
       ]
      },
      {
       "output_type": "stream",
       "stream": "stdout",
       "text": [
        "Epoch 19/100\n",
        "0s - loss: 0.9424 - acc: 0.2514 - val_loss: 0.9448 - val_acc: 0.2515\n"
       ]
      },
      {
       "output_type": "stream",
       "stream": "stdout",
       "text": [
        "Epoch 20/100\n",
        "0s - loss: 0.9397 - acc: 0.2514 - val_loss: 0.9421 - val_acc: 0.2515\n"
       ]
      },
      {
       "output_type": "stream",
       "stream": "stdout",
       "text": [
        "Epoch 21/100\n",
        "0s - loss: 0.9371 - acc: 0.2514 - val_loss: 0.9396 - val_acc: 0.2515\n"
       ]
      },
      {
       "output_type": "stream",
       "stream": "stdout",
       "text": [
        "Epoch 22/100\n",
        "0s - loss: 0.9346 - acc: 0.2514 - val_loss: 0.9372 - val_acc: 0.2515\n"
       ]
      },
      {
       "output_type": "stream",
       "stream": "stdout",
       "text": [
        "Epoch 23/100\n",
        "0s - loss: 0.9323 - acc: 0.2514 - val_loss: 0.9349 - val_acc: 0.2515\n"
       ]
      },
      {
       "output_type": "stream",
       "stream": "stdout",
       "text": [
        "Epoch 24/100\n",
        "0s - loss: 0.9300 - acc: 0.2514 - val_loss: 0.9326 - val_acc: 0.2515\n"
       ]
      },
      {
       "output_type": "stream",
       "stream": "stdout",
       "text": [
        "Epoch 25/100\n",
        "0s - loss: 0.9278 - acc: 0.2514 - val_loss: 0.9304 - val_acc: 0.2515\n"
       ]
      },
      {
       "output_type": "stream",
       "stream": "stdout",
       "text": [
        "Epoch 26/100\n",
        "0s - loss: 0.9257 - acc: 0.2514 - val_loss: 0.9284 - val_acc: 0.2515\n"
       ]
      },
      {
       "output_type": "stream",
       "stream": "stdout",
       "text": [
        "Epoch 27/100\n",
        "0s - loss: 0.9236 - acc: 0.2514 - val_loss: 0.9263 - val_acc: 0.2515\n"
       ]
      },
      {
       "output_type": "stream",
       "stream": "stdout",
       "text": [
        "Epoch 28/100\n",
        "0s - loss: 0.9217 - acc: 0.2514 - val_loss: 0.9244 - val_acc: 0.2515\n"
       ]
      },
      {
       "output_type": "stream",
       "stream": "stdout",
       "text": [
        "Epoch 29/100\n",
        "0s - loss: 0.9198 - acc: 0.2514 - val_loss: 0.9225 - val_acc: 0.2515\n"
       ]
      },
      {
       "output_type": "stream",
       "stream": "stdout",
       "text": [
        "Epoch 30/100\n",
        "0s - loss: 0.9179 - acc: 0.2514 - val_loss: 0.9207 - val_acc: 0.2515\n"
       ]
      },
      {
       "output_type": "stream",
       "stream": "stdout",
       "text": [
        "Epoch 31/100\n",
        "0s - loss: 0.9162 - acc: 0.2514 - val_loss: 0.9190 - val_acc: 0.2515\n"
       ]
      },
      {
       "output_type": "stream",
       "stream": "stdout",
       "text": [
        "Epoch 32/100\n",
        "0s - loss: 0.9144 - acc: 0.2514 - val_loss: 0.9173 - val_acc: 0.2515\n"
       ]
      },
      {
       "output_type": "stream",
       "stream": "stdout",
       "text": [
        "Epoch 33/100\n",
        "0s - loss: 0.9128 - acc: 0.2514 - val_loss: 0.9156 - val_acc: 0.2515\n"
       ]
      },
      {
       "output_type": "stream",
       "stream": "stdout",
       "text": [
        "Epoch 34/100\n",
        "0s - loss: 0.9112 - acc: 0.2514 - val_loss: 0.9141 - val_acc: 0.2515\n"
       ]
      },
      {
       "output_type": "stream",
       "stream": "stdout",
       "text": [
        "Epoch 35/100\n",
        "0s - loss: 0.9096 - acc: 0.2514 - val_loss: 0.9125 - val_acc: 0.2515\n"
       ]
      },
      {
       "output_type": "stream",
       "stream": "stdout",
       "text": [
        "Epoch 36/100\n",
        "0s - loss: 0.9081 - acc: 0.2514 - val_loss: 0.9110 - val_acc: 0.2515\n"
       ]
      },
      {
       "output_type": "stream",
       "stream": "stdout",
       "text": [
        "Epoch 37/100\n",
        "0s - loss: 0.9067 - acc: 0.2514 - val_loss: 0.9096 - val_acc: 0.2515\n"
       ]
      },
      {
       "output_type": "stream",
       "stream": "stdout",
       "text": [
        "Epoch 38/100\n",
        "0s - loss: 0.9053 - acc: 0.2514 - val_loss: 0.9082 - val_acc: 0.2515\n"
       ]
      },
      {
       "output_type": "stream",
       "stream": "stdout",
       "text": [
        "Epoch 39/100\n",
        "0s - loss: 0.9039 - acc: 0.2514 - val_loss: 0.9069 - val_acc: 0.2515\n"
       ]
      },
      {
       "output_type": "stream",
       "stream": "stdout",
       "text": [
        "Epoch 40/100\n",
        "0s - loss: 0.9026 - acc: 0.2514 - val_loss: 0.9055 - val_acc: 0.2515\n"
       ]
      },
      {
       "output_type": "stream",
       "stream": "stdout",
       "text": [
        "Epoch 41/100\n",
        "0s - loss: 0.9013 - acc: 0.2514 - val_loss: 0.9043 - val_acc: 0.2515\n"
       ]
      },
      {
       "output_type": "stream",
       "stream": "stdout",
       "text": [
        "Epoch 42/100\n",
        "0s - loss: 0.9000 - acc: 0.2514 - val_loss: 0.9030 - val_acc: 0.2515\n"
       ]
      },
      {
       "output_type": "stream",
       "stream": "stdout",
       "text": [
        "Epoch 43/100\n",
        "0s - loss: 0.8988 - acc: 0.2514 - val_loss: 0.9018 - val_acc: 0.2515\n"
       ]
      },
      {
       "output_type": "stream",
       "stream": "stdout",
       "text": [
        "Epoch 44/100\n",
        "0s - loss: 0.8976 - acc: 0.2514 - val_loss: 0.9007 - val_acc: 0.2515\n"
       ]
      },
      {
       "output_type": "stream",
       "stream": "stdout",
       "text": [
        "Epoch 45/100\n",
        "0s - loss: 0.8965 - acc: 0.2514 - val_loss: 0.8995 - val_acc: 0.2515\n"
       ]
      },
      {
       "output_type": "stream",
       "stream": "stdout",
       "text": [
        "Epoch 46/100\n",
        "0s - loss: 0.8954 - acc: 0.2514 - val_loss: 0.8984 - val_acc: 0.2515\n"
       ]
      },
      {
       "output_type": "stream",
       "stream": "stdout",
       "text": [
        "Epoch 47/100\n",
        "0s - loss: 0.8943 - acc: 0.2514 - val_loss: 0.8973 - val_acc: 0.2515\n"
       ]
      },
      {
       "output_type": "stream",
       "stream": "stdout",
       "text": [
        "Epoch 48/100\n",
        "0s - loss: 0.8932 - acc: 0.2514 - val_loss: 0.8963 - val_acc: 0.2515\n"
       ]
      },
      {
       "output_type": "stream",
       "stream": "stdout",
       "text": [
        "Epoch 49/100\n",
        "0s - loss: 0.8922 - acc: 0.2514 - val_loss: 0.8953 - val_acc: 0.2515\n"
       ]
      },
      {
       "output_type": "stream",
       "stream": "stdout",
       "text": [
        "Epoch 50/100\n",
        "0s - loss: 0.8912 - acc: 0.2514 - val_loss: 0.8943 - val_acc: 0.2515\n"
       ]
      },
      {
       "output_type": "stream",
       "stream": "stdout",
       "text": [
        "Epoch 51/100\n",
        "0s - loss: 0.8902 - acc: 0.2514 - val_loss: 0.8933 - val_acc: 0.2515\n"
       ]
      },
      {
       "output_type": "stream",
       "stream": "stdout",
       "text": [
        "Epoch 52/100\n",
        "0s - loss: 0.8893 - acc: 0.2514 - val_loss: 0.8924 - val_acc: 0.2515\n"
       ]
      },
      {
       "output_type": "stream",
       "stream": "stdout",
       "text": [
        "Epoch 53/100\n",
        "0s - loss: 0.8883 - acc: 0.2514 - val_loss: 0.8915 - val_acc: 0.2515\n"
       ]
      },
      {
       "output_type": "stream",
       "stream": "stdout",
       "text": [
        "Epoch 54/100\n",
        "0s - loss: 0.8874 - acc: 0.2514 - val_loss: 0.8906 - val_acc: 0.2515\n"
       ]
      },
      {
       "output_type": "stream",
       "stream": "stdout",
       "text": [
        "Epoch 55/100\n",
        "0s - loss: 0.8866 - acc: 0.2514 - val_loss: 0.8897 - val_acc: 0.2515\n"
       ]
      },
      {
       "output_type": "stream",
       "stream": "stdout",
       "text": [
        "Epoch 56/100\n",
        "0s - loss: 0.8857 - acc: 0.2514 - val_loss: 0.8889 - val_acc: 0.2515\n"
       ]
      },
      {
       "output_type": "stream",
       "stream": "stdout",
       "text": [
        "Epoch 57/100\n",
        "0s - loss: 0.8849 - acc: 0.2514 - val_loss: 0.8880 - val_acc: 0.2515\n"
       ]
      },
      {
       "output_type": "stream",
       "stream": "stdout",
       "text": [
        "Epoch 58/100\n",
        "0s - loss: 0.8840 - acc: 0.2514 - val_loss: 0.8872 - val_acc: 0.2515\n"
       ]
      },
      {
       "output_type": "stream",
       "stream": "stdout",
       "text": [
        "Epoch 59/100\n",
        "0s - loss: 0.8832 - acc: 0.2514 - val_loss: 0.8864 - val_acc: 0.2515\n"
       ]
      },
      {
       "output_type": "stream",
       "stream": "stdout",
       "text": [
        "Epoch 60/100\n",
        "0s - loss: 0.8825 - acc: 0.2514 - val_loss: 0.8856 - val_acc: 0.2515\n"
       ]
      },
      {
       "output_type": "stream",
       "stream": "stdout",
       "text": [
        "Epoch 61/100\n",
        "0s - loss: 0.8817 - acc: 0.2514 - val_loss: 0.8849 - val_acc: 0.2515\n"
       ]
      },
      {
       "output_type": "stream",
       "stream": "stdout",
       "text": [
        "Epoch 62/100\n",
        "0s - loss: 0.8810 - acc: 0.2514 - val_loss: 0.8842 - val_acc: 0.2515\n"
       ]
      },
      {
       "output_type": "stream",
       "stream": "stdout",
       "text": [
        "Epoch 63/100\n",
        "0s - loss: 0.8802 - acc: 0.2514 - val_loss: 0.8834 - val_acc: 0.2515\n"
       ]
      },
      {
       "output_type": "stream",
       "stream": "stdout",
       "text": [
        "Epoch 64/100\n",
        "0s - loss: 0.8795 - acc: 0.2514 - val_loss: 0.8827 - val_acc: 0.2515\n"
       ]
      },
      {
       "output_type": "stream",
       "stream": "stdout",
       "text": [
        "Epoch 65/100\n",
        "0s - loss: 0.8788 - acc: 0.2514 - val_loss: 0.8820 - val_acc: 0.2515\n"
       ]
      },
      {
       "output_type": "stream",
       "stream": "stdout",
       "text": [
        "Epoch 66/100\n",
        "0s - loss: 0.8781 - acc: 0.2514 - val_loss: 0.8814 - val_acc: 0.2515\n"
       ]
      },
      {
       "output_type": "stream",
       "stream": "stdout",
       "text": [
        "Epoch 67/100\n",
        "0s - loss: 0.8775 - acc: 0.2514 - val_loss: 0.8807 - val_acc: 0.2515\n"
       ]
      },
      {
       "output_type": "stream",
       "stream": "stdout",
       "text": [
        "Epoch 68/100\n",
        "0s - loss: 0.8768 - acc: 0.2514 - val_loss: 0.8801 - val_acc: 0.2515\n"
       ]
      },
      {
       "output_type": "stream",
       "stream": "stdout",
       "text": [
        "Epoch 69/100\n",
        "0s - loss: 0.8762 - acc: 0.2514 - val_loss: 0.8794 - val_acc: 0.2515\n"
       ]
      },
      {
       "output_type": "stream",
       "stream": "stdout",
       "text": [
        "Epoch 70/100\n",
        "0s - loss: 0.8756 - acc: 0.2514 - val_loss: 0.8788 - val_acc: 0.2515\n"
       ]
      },
      {
       "output_type": "stream",
       "stream": "stdout",
       "text": [
        "Epoch 71/100\n",
        "0s - loss: 0.8750 - acc: 0.2514 - val_loss: 0.8782 - val_acc: 0.2515\n"
       ]
      },
      {
       "output_type": "stream",
       "stream": "stdout",
       "text": [
        "Epoch 72/100\n",
        "0s - loss: 0.8744 - acc: 0.2514 - val_loss: 0.8776 - val_acc: 0.2515\n"
       ]
      },
      {
       "output_type": "stream",
       "stream": "stdout",
       "text": [
        "Epoch 73/100\n",
        "0s - loss: 0.8738 - acc: 0.2514 - val_loss: 0.8770 - val_acc: 0.2515\n"
       ]
      },
      {
       "output_type": "stream",
       "stream": "stdout",
       "text": [
        "Epoch 74/100\n",
        "0s - loss: 0.8732 - acc: 0.2514 - val_loss: 0.8765 - val_acc: 0.2515\n"
       ]
      },
      {
       "output_type": "stream",
       "stream": "stdout",
       "text": [
        "Epoch 75/100\n",
        "0s - loss: 0.8726 - acc: 0.2514 - val_loss: 0.8759 - val_acc: 0.2515\n"
       ]
      },
      {
       "output_type": "stream",
       "stream": "stdout",
       "text": [
        "Epoch 76/100\n",
        "0s - loss: 0.8721 - acc: 0.2514 - val_loss: 0.8754 - val_acc: 0.2515\n"
       ]
      },
      {
       "output_type": "stream",
       "stream": "stdout",
       "text": [
        "Epoch 77/100\n",
        "0s - loss: 0.8716 - acc: 0.2514 - val_loss: 0.8748 - val_acc: 0.2515\n"
       ]
      },
      {
       "output_type": "stream",
       "stream": "stdout",
       "text": [
        "Epoch 78/100\n",
        "0s - loss: 0.8710 - acc: 0.2514 - val_loss: 0.8743 - val_acc: 0.2515\n"
       ]
      },
      {
       "output_type": "stream",
       "stream": "stdout",
       "text": [
        "Epoch 79/100\n",
        "0s - loss: 0.8705 - acc: 0.2514 - val_loss: 0.8738 - val_acc: 0.2515\n"
       ]
      },
      {
       "output_type": "stream",
       "stream": "stdout",
       "text": [
        "Epoch 80/100\n",
        "0s - loss: 0.8700 - acc: 0.2514 - val_loss: 0.8733 - val_acc: 0.2515\n"
       ]
      },
      {
       "output_type": "stream",
       "stream": "stdout",
       "text": [
        "Epoch 81/100\n",
        "0s - loss: 0.8695 - acc: 0.2514 - val_loss: 0.8728 - val_acc: 0.2515\n"
       ]
      },
      {
       "output_type": "stream",
       "stream": "stdout",
       "text": [
        "Epoch 82/100\n",
        "0s - loss: 0.8690 - acc: 0.2514 - val_loss: 0.8723 - val_acc: 0.2515\n"
       ]
      },
      {
       "output_type": "stream",
       "stream": "stdout",
       "text": [
        "Epoch 83/100\n",
        "0s - loss: 0.8685 - acc: 0.2514 - val_loss: 0.8718 - val_acc: 0.2515\n"
       ]
      },
      {
       "output_type": "stream",
       "stream": "stdout",
       "text": [
        "Epoch 84/100\n",
        "0s - loss: 0.8681 - acc: 0.2514 - val_loss: 0.8713 - val_acc: 0.2515\n"
       ]
      },
      {
       "output_type": "stream",
       "stream": "stdout",
       "text": [
        "Epoch 85/100\n",
        "0s - loss: 0.8676 - acc: 0.2514 - val_loss: 0.8709 - val_acc: 0.2515\n"
       ]
      },
      {
       "output_type": "stream",
       "stream": "stdout",
       "text": [
        "Epoch 86/100\n",
        "0s - loss: 0.8671 - acc: 0.2514 - val_loss: 0.8704 - val_acc: 0.2515\n"
       ]
      },
      {
       "output_type": "stream",
       "stream": "stdout",
       "text": [
        "Epoch 87/100\n",
        "0s - loss: 0.8667 - acc: 0.2514 - val_loss: 0.8700 - val_acc: 0.2515\n"
       ]
      },
      {
       "output_type": "stream",
       "stream": "stdout",
       "text": [
        "Epoch 88/100\n",
        "0s - loss: 0.8663 - acc: 0.2514 - val_loss: 0.8696 - val_acc: 0.2515\n"
       ]
      },
      {
       "output_type": "stream",
       "stream": "stdout",
       "text": [
        "Epoch 89/100\n",
        "0s - loss: 0.8658 - acc: 0.2514 - val_loss: 0.8691 - val_acc: 0.2515\n"
       ]
      },
      {
       "output_type": "stream",
       "stream": "stdout",
       "text": [
        "Epoch 90/100\n",
        "0s - loss: 0.8654 - acc: 0.2514 - val_loss: 0.8687 - val_acc: 0.2515\n"
       ]
      },
      {
       "output_type": "stream",
       "stream": "stdout",
       "text": [
        "Epoch 91/100\n",
        "0s - loss: 0.8650 - acc: 0.2514 - val_loss: 0.8683 - val_acc: 0.2515\n"
       ]
      },
      {
       "output_type": "stream",
       "stream": "stdout",
       "text": [
        "Epoch 92/100\n",
        "0s - loss: 0.8646 - acc: 0.2514 - val_loss: 0.8679 - val_acc: 0.2515\n"
       ]
      },
      {
       "output_type": "stream",
       "stream": "stdout",
       "text": [
        "Epoch 93/100\n",
        "0s - loss: 0.8642 - acc: 0.2514 - val_loss: 0.8675 - val_acc: 0.2515\n"
       ]
      },
      {
       "output_type": "stream",
       "stream": "stdout",
       "text": [
        "Epoch 94/100\n",
        "0s - loss: 0.8638 - acc: 0.2514 - val_loss: 0.8671 - val_acc: 0.2515\n"
       ]
      },
      {
       "output_type": "stream",
       "stream": "stdout",
       "text": [
        "Epoch 95/100\n",
        "0s - loss: 0.8634 - acc: 0.2514 - val_loss: 0.8667 - val_acc: 0.2515\n"
       ]
      },
      {
       "output_type": "stream",
       "stream": "stdout",
       "text": [
        "Epoch 96/100\n",
        "0s - loss: 0.8630 - acc: 0.2514 - val_loss: 0.8663 - val_acc: 0.2515\n"
       ]
      },
      {
       "output_type": "stream",
       "stream": "stdout",
       "text": [
        "Epoch 97/100\n",
        "0s - loss: 0.8627 - acc: 0.2514 - val_loss: 0.8660 - val_acc: 0.2515\n"
       ]
      },
      {
       "output_type": "stream",
       "stream": "stdout",
       "text": [
        "Epoch 98/100\n",
        "0s - loss: 0.8623 - acc: 0.2514 - val_loss: 0.8656 - val_acc: 0.2515\n"
       ]
      },
      {
       "output_type": "stream",
       "stream": "stdout",
       "text": [
        "Epoch 99/100\n",
        "0s - loss: 0.8619 - acc: 0.2514 - val_loss: 0.8652 - val_acc: 0.2515\n"
       ]
      },
      {
       "output_type": "stream",
       "stream": "stdout",
       "text": [
        "Epoch 100/100\n",
        "0s - loss: 0.8616 - acc: 0.2514 - val_loss: 0.8649 - val_acc: 0.2515\n"
       ]
      },
      {
       "output_type": "stream",
       "stream": "stdout",
       "text": [
        "\r",
        " 5000/20000 [======>.......................] - ETA: 0s"
       ]
      },
      {
       "output_type": "stream",
       "stream": "stdout",
       "text": [
        "\b\b\b\b\b\b\b\b\b\b\b\b\b\b\b\b\b\b\b\b\b\b\b\b\b\b\b\b\b\b\b\b\b\b\b\b\b\b\b\b\b\b\b\b\b\b\b\b\b\b\b\b\b\b\r",
        "20000/20000 [==============================] - 0s     "
       ]
      },
      {
       "output_type": "stream",
       "stream": "stdout",
       "text": [
        "\n",
        "\r",
        " 5000/20000 [======>.......................] - ETA: 0s"
       ]
      },
      {
       "output_type": "stream",
       "stream": "stdout",
       "text": [
        "\b\b\b\b\b\b\b\b\b\b\b\b\b\b\b\b\b\b\b\b\b\b\b\b\b\b\b\b\b\b\b\b\b\b\b\b\b\b\b\b\b\b\b\b\b\b\b\b\b\b\b\b\b\b\r",
        "20000/20000 [==============================] - 0s     "
       ]
      },
      {
       "output_type": "stream",
       "stream": "stdout",
       "text": [
        "\n",
        "Train on 80000 samples, validate on 20000 samples\n",
        "Epoch 1/100\n",
        "0s - loss: 1.5936 - acc: 0.2490 - val_loss: 1.5860 - val_acc: 0.2524\n"
       ]
      },
      {
       "output_type": "stream",
       "stream": "stdout",
       "text": [
        "Epoch 2/100\n",
        "0s - loss: 1.5854 - acc: 0.2490 - val_loss: 1.5779 - val_acc: 0.2524\n"
       ]
      },
      {
       "output_type": "stream",
       "stream": "stdout",
       "text": [
        "Epoch 3/100\n",
        "0s - loss: 1.5774 - acc: 0.2490 - val_loss: 1.5701 - val_acc: 0.2524\n"
       ]
      },
      {
       "output_type": "stream",
       "stream": "stdout",
       "text": [
        "Epoch 4/100\n",
        "0s - loss: 1.5695 - acc: 0.2490 - val_loss: 1.5624 - val_acc: 0.2524\n"
       ]
      },
      {
       "output_type": "stream",
       "stream": "stdout",
       "text": [
        "Epoch 5/100\n",
        "0s - loss: 1.5619 - acc: 0.2490 - val_loss: 1.5550 - val_acc: 0.2524\n"
       ]
      },
      {
       "output_type": "stream",
       "stream": "stdout",
       "text": [
        "Epoch 6/100\n",
        "0s - loss: 1.5544 - acc: 0.2490 - val_loss: 1.5477 - val_acc: 0.2524\n"
       ]
      },
      {
       "output_type": "stream",
       "stream": "stdout",
       "text": [
        "Epoch 7/100\n",
        "0s - loss: 1.5472 - acc: 0.2490 - val_loss: 1.5406 - val_acc: 0.2524\n"
       ]
      },
      {
       "output_type": "stream",
       "stream": "stdout",
       "text": [
        "Epoch 8/100\n",
        "0s - loss: 1.5402 - acc: 0.2490 - val_loss: 1.5338 - val_acc: 0.2524\n"
       ]
      },
      {
       "output_type": "stream",
       "stream": "stdout",
       "text": [
        "Epoch 9/100\n",
        "0s - loss: 1.5333 - acc: 0.2490 - val_loss: 1.5271 - val_acc: 0.2524\n"
       ]
      },
      {
       "output_type": "stream",
       "stream": "stdout",
       "text": [
        "Epoch 10/100\n",
        "0s - loss: 1.5267 - acc: 0.2490 - val_loss: 1.5207 - val_acc: 0.2524\n"
       ]
      },
      {
       "output_type": "stream",
       "stream": "stdout",
       "text": [
        "Epoch 11/100\n",
        "0s - loss: 1.5203 - acc: 0.2490 - val_loss: 1.5144 - val_acc: 0.2524\n"
       ]
      },
      {
       "output_type": "stream",
       "stream": "stdout",
       "text": [
        "Epoch 12/100\n",
        "0s - loss: 1.5141 - acc: 0.2490 - val_loss: 1.5084 - val_acc: 0.2524\n"
       ]
      },
      {
       "output_type": "stream",
       "stream": "stdout",
       "text": [
        "Epoch 13/100\n",
        "0s - loss: 1.5080 - acc: 0.2490 - val_loss: 1.5025 - val_acc: 0.2524\n"
       ]
      },
      {
       "output_type": "stream",
       "stream": "stdout",
       "text": [
        "Epoch 14/100\n",
        "0s - loss: 1.5022 - acc: 0.2490 - val_loss: 1.4969 - val_acc: 0.2524\n"
       ]
      },
      {
       "output_type": "stream",
       "stream": "stdout",
       "text": [
        "Epoch 15/100\n",
        "0s - loss: 1.4966 - acc: 0.2490 - val_loss: 1.4914 - val_acc: 0.2524\n"
       ]
      },
      {
       "output_type": "stream",
       "stream": "stdout",
       "text": [
        "Epoch 16/100\n",
        "0s - loss: 1.4912 - acc: 0.2490 - val_loss: 1.4862 - val_acc: 0.2524\n"
       ]
      },
      {
       "output_type": "stream",
       "stream": "stdout",
       "text": [
        "Epoch 17/100\n",
        "0s - loss: 1.4859 - acc: 0.2490 - val_loss: 1.4811 - val_acc: 0.2524\n"
       ]
      },
      {
       "output_type": "stream",
       "stream": "stdout",
       "text": [
        "Epoch 18/100\n",
        "0s - loss: 1.4809 - acc: 0.2490 - val_loss: 1.4762 - val_acc: 0.2524\n"
       ]
      },
      {
       "output_type": "stream",
       "stream": "stdout",
       "text": [
        "Epoch 19/100\n",
        "0s - loss: 1.4761 - acc: 0.2490 - val_loss: 1.4716 - val_acc: 0.2524\n"
       ]
      },
      {
       "output_type": "stream",
       "stream": "stdout",
       "text": [
        "Epoch 20/100\n",
        "0s - loss: 1.4714 - acc: 0.2490 - val_loss: 1.4671 - val_acc: 0.2524\n"
       ]
      },
      {
       "output_type": "stream",
       "stream": "stdout",
       "text": [
        "Epoch 21/100\n",
        "0s - loss: 1.4669 - acc: 0.2490 - val_loss: 1.4627 - val_acc: 0.2524\n"
       ]
      },
      {
       "output_type": "stream",
       "stream": "stdout",
       "text": [
        "Epoch 22/100\n",
        "0s - loss: 1.4626 - acc: 0.2490 - val_loss: 1.4586 - val_acc: 0.2524\n"
       ]
      },
      {
       "output_type": "stream",
       "stream": "stdout",
       "text": [
        "Epoch 23/100\n",
        "0s - loss: 1.4585 - acc: 0.2490 - val_loss: 1.4546 - val_acc: 0.2524\n"
       ]
      },
      {
       "output_type": "stream",
       "stream": "stdout",
       "text": [
        "Epoch 24/100\n",
        "0s - loss: 1.4546 - acc: 0.2490 - val_loss: 1.4509 - val_acc: 0.2524\n"
       ]
      },
      {
       "output_type": "stream",
       "stream": "stdout",
       "text": [
        "Epoch 25/100\n",
        "0s - loss: 1.4508 - acc: 0.2490 - val_loss: 1.4472 - val_acc: 0.2524\n"
       ]
      },
      {
       "output_type": "stream",
       "stream": "stdout",
       "text": [
        "Epoch 26/100\n",
        "0s - loss: 1.4472 - acc: 0.2490 - val_loss: 1.4438 - val_acc: 0.2524\n"
       ]
      },
      {
       "output_type": "stream",
       "stream": "stdout",
       "text": [
        "Epoch 27/100\n",
        "0s - loss: 1.4438 - acc: 0.2490 - val_loss: 1.4405 - val_acc: 0.2524\n"
       ]
      },
      {
       "output_type": "stream",
       "stream": "stdout",
       "text": [
        "Epoch 28/100\n",
        "0s - loss: 1.4405 - acc: 0.2490 - val_loss: 1.4373 - val_acc: 0.2524\n"
       ]
      },
      {
       "output_type": "stream",
       "stream": "stdout",
       "text": [
        "Epoch 29/100\n",
        "0s - loss: 1.4374 - acc: 0.2490 - val_loss: 1.4343 - val_acc: 0.2524\n"
       ]
      },
      {
       "output_type": "stream",
       "stream": "stdout",
       "text": [
        "Epoch 30/100\n",
        "0s - loss: 1.4344 - acc: 0.2490 - val_loss: 1.4315 - val_acc: 0.2524\n"
       ]
      },
      {
       "output_type": "stream",
       "stream": "stdout",
       "text": [
        "Epoch 31/100\n",
        "0s - loss: 1.4316 - acc: 0.2490 - val_loss: 1.4288 - val_acc: 0.2524\n"
       ]
      },
      {
       "output_type": "stream",
       "stream": "stdout",
       "text": [
        "Epoch 32/100\n",
        "0s - loss: 1.4289 - acc: 0.2416 - val_loss: 1.4262 - val_acc: 0.2444\n"
       ]
      },
      {
       "output_type": "stream",
       "stream": "stdout",
       "text": [
        "Epoch 33/100\n",
        "0s - loss: 1.4263 - acc: 0.2445 - val_loss: 1.4238 - val_acc: 0.2444\n"
       ]
      },
      {
       "output_type": "stream",
       "stream": "stdout",
       "text": [
        "Epoch 34/100\n",
        "0s - loss: 1.4239 - acc: 0.2340 - val_loss: 1.4215 - val_acc: 0.2444\n"
       ]
      },
      {
       "output_type": "stream",
       "stream": "stdout",
       "text": [
        "Epoch 35/100\n",
        "0s - loss: 1.4216 - acc: 0.2503 - val_loss: 1.4193 - val_acc: 0.2444\n"
       ]
      },
      {
       "output_type": "stream",
       "stream": "stdout",
       "text": [
        "Epoch 36/100\n",
        "0s - loss: 1.4195 - acc: 0.2503 - val_loss: 1.4172 - val_acc: 0.2444\n"
       ]
      },
      {
       "output_type": "stream",
       "stream": "stdout",
       "text": [
        "Epoch 37/100\n",
        "0s - loss: 1.4174 - acc: 0.2503 - val_loss: 1.4152 - val_acc: 0.2444\n"
       ]
      },
      {
       "output_type": "stream",
       "stream": "stdout",
       "text": [
        "Epoch 38/100\n",
        "0s - loss: 1.4155 - acc: 0.2503 - val_loss: 1.4134 - val_acc: 0.2444\n"
       ]
      },
      {
       "output_type": "stream",
       "stream": "stdout",
       "text": [
        "Epoch 39/100\n",
        "0s - loss: 1.4136 - acc: 0.2503 - val_loss: 1.4116 - val_acc: 0.2444\n"
       ]
      },
      {
       "output_type": "stream",
       "stream": "stdout",
       "text": [
        "Epoch 40/100\n",
        "0s - loss: 1.4119 - acc: 0.2503 - val_loss: 1.4100 - val_acc: 0.2444\n"
       ]
      },
      {
       "output_type": "stream",
       "stream": "stdout",
       "text": [
        "Epoch 41/100\n",
        "0s - loss: 1.4102 - acc: 0.2503 - val_loss: 1.4084 - val_acc: 0.2444\n"
       ]
      },
      {
       "output_type": "stream",
       "stream": "stdout",
       "text": [
        "Epoch 42/100\n",
        "0s - loss: 1.4087 - acc: 0.2503 - val_loss: 1.4070 - val_acc: 0.2444\n"
       ]
      },
      {
       "output_type": "stream",
       "stream": "stdout",
       "text": [
        "Epoch 43/100\n",
        "0s - loss: 1.4072 - acc: 0.2503 - val_loss: 1.4056 - val_acc: 0.2444\n"
       ]
      },
      {
       "output_type": "stream",
       "stream": "stdout",
       "text": [
        "Epoch 44/100\n",
        "0s - loss: 1.4059 - acc: 0.2503 - val_loss: 1.4043 - val_acc: 0.2444\n"
       ]
      },
      {
       "output_type": "stream",
       "stream": "stdout",
       "text": [
        "Epoch 45/100\n",
        "0s - loss: 1.4046 - acc: 0.2503 - val_loss: 1.4031 - val_acc: 0.2444\n"
       ]
      },
      {
       "output_type": "stream",
       "stream": "stdout",
       "text": [
        "Epoch 46/100\n",
        "0s - loss: 1.4034 - acc: 0.2503 - val_loss: 1.4020 - val_acc: 0.2444\n"
       ]
      },
      {
       "output_type": "stream",
       "stream": "stdout",
       "text": [
        "Epoch 47/100\n",
        "0s - loss: 1.4022 - acc: 0.2503 - val_loss: 1.4009 - val_acc: 0.2444\n"
       ]
      },
      {
       "output_type": "stream",
       "stream": "stdout",
       "text": [
        "Epoch 48/100\n",
        "0s - loss: 1.4012 - acc: 0.2503 - val_loss: 1.3999 - val_acc: 0.2444\n"
       ]
      },
      {
       "output_type": "stream",
       "stream": "stdout",
       "text": [
        "Epoch 49/100\n",
        "0s - loss: 1.4002 - acc: 0.2503 - val_loss: 1.3989 - val_acc: 0.2444\n"
       ]
      },
      {
       "output_type": "stream",
       "stream": "stdout",
       "text": [
        "Epoch 50/100\n",
        "0s - loss: 1.3992 - acc: 0.2503 - val_loss: 1.3981 - val_acc: 0.2444\n"
       ]
      },
      {
       "output_type": "stream",
       "stream": "stdout",
       "text": [
        "Epoch 51/100\n",
        "0s - loss: 1.3983 - acc: 0.2503 - val_loss: 1.3972 - val_acc: 0.2444\n"
       ]
      },
      {
       "output_type": "stream",
       "stream": "stdout",
       "text": [
        "Epoch 52/100\n",
        "0s - loss: 1.3975 - acc: 0.2503 - val_loss: 1.3965 - val_acc: 0.2444\n"
       ]
      },
      {
       "output_type": "stream",
       "stream": "stdout",
       "text": [
        "Epoch 53/100\n",
        "0s - loss: 1.3968 - acc: 0.2503 - val_loss: 1.3957 - val_acc: 0.2444\n"
       ]
      },
      {
       "output_type": "stream",
       "stream": "stdout",
       "text": [
        "Epoch 54/100\n",
        "0s - loss: 1.3960 - acc: 0.2503 - val_loss: 1.3951 - val_acc: 0.2444\n"
       ]
      },
      {
       "output_type": "stream",
       "stream": "stdout",
       "text": [
        "Epoch 55/100\n",
        "0s - loss: 1.3954 - acc: 0.2503 - val_loss: 1.3944 - val_acc: 0.2444\n"
       ]
      },
      {
       "output_type": "stream",
       "stream": "stdout",
       "text": [
        "Epoch 56/100\n",
        "0s - loss: 1.3947 - acc: 0.2503 - val_loss: 1.3939 - val_acc: 0.2444\n"
       ]
      },
      {
       "output_type": "stream",
       "stream": "stdout",
       "text": [
        "Epoch 57/100\n",
        "0s - loss: 1.3941 - acc: 0.2503 - val_loss: 1.3933 - val_acc: 0.2444\n"
       ]
      },
      {
       "output_type": "stream",
       "stream": "stdout",
       "text": [
        "Epoch 58/100\n",
        "0s - loss: 1.3936 - acc: 0.2503 - val_loss: 1.3928 - val_acc: 0.2444\n"
       ]
      },
      {
       "output_type": "stream",
       "stream": "stdout",
       "text": [
        "Epoch 59/100\n",
        "0s - loss: 1.3931 - acc: 0.2503 - val_loss: 1.3923 - val_acc: 0.2444\n"
       ]
      },
      {
       "output_type": "stream",
       "stream": "stdout",
       "text": [
        "Epoch 60/100\n",
        "0s - loss: 1.3926 - acc: 0.2503 - val_loss: 1.3919 - val_acc: 0.2444\n"
       ]
      },
      {
       "output_type": "stream",
       "stream": "stdout",
       "text": [
        "Epoch 61/100\n",
        "0s - loss: 1.3921 - acc: 0.2503 - val_loss: 1.3915 - val_acc: 0.2444\n"
       ]
      },
      {
       "output_type": "stream",
       "stream": "stdout",
       "text": [
        "Epoch 62/100\n",
        "0s - loss: 1.3917 - acc: 0.2503 - val_loss: 1.3911 - val_acc: 0.2444\n"
       ]
      },
      {
       "output_type": "stream",
       "stream": "stdout",
       "text": [
        "Epoch 63/100\n",
        "0s - loss: 1.3913 - acc: 0.2503 - val_loss: 1.3907 - val_acc: 0.2444\n"
       ]
      },
      {
       "output_type": "stream",
       "stream": "stdout",
       "text": [
        "Epoch 64/100\n",
        "0s - loss: 1.3910 - acc: 0.2503 - val_loss: 1.3904 - val_acc: 0.2444\n"
       ]
      },
      {
       "output_type": "stream",
       "stream": "stdout",
       "text": [
        "Epoch 65/100\n",
        "0s - loss: 1.3906 - acc: 0.2503 - val_loss: 1.3901 - val_acc: 0.2444\n"
       ]
      },
      {
       "output_type": "stream",
       "stream": "stdout",
       "text": [
        "Epoch 66/100\n",
        "0s - loss: 1.3903 - acc: 0.2503 - val_loss: 1.3898 - val_acc: 0.2444\n"
       ]
      },
      {
       "output_type": "stream",
       "stream": "stdout",
       "text": [
        "Epoch 67/100\n",
        "0s - loss: 1.3900 - acc: 0.2503 - val_loss: 1.3895 - val_acc: 0.2444\n"
       ]
      },
      {
       "output_type": "stream",
       "stream": "stdout",
       "text": [
        "Epoch 68/100\n",
        "0s - loss: 1.3898 - acc: 0.2503 - val_loss: 1.3893 - val_acc: 0.2444\n"
       ]
      },
      {
       "output_type": "stream",
       "stream": "stdout",
       "text": [
        "Epoch 69/100\n",
        "0s - loss: 1.3895 - acc: 0.2503 - val_loss: 1.3891 - val_acc: 0.2444\n"
       ]
      },
      {
       "output_type": "stream",
       "stream": "stdout",
       "text": [
        "Epoch 70/100\n",
        "0s - loss: 1.3893 - acc: 0.2503 - val_loss: 1.3888 - val_acc: 0.2444\n"
       ]
      },
      {
       "output_type": "stream",
       "stream": "stdout",
       "text": [
        "Epoch 71/100\n",
        "0s - loss: 1.3891 - acc: 0.2503 - val_loss: 1.3886 - val_acc: 0.2444\n"
       ]
      },
      {
       "output_type": "stream",
       "stream": "stdout",
       "text": [
        "Epoch 72/100\n",
        "0s - loss: 1.3889 - acc: 0.2503 - val_loss: 1.3885 - val_acc: 0.2444\n"
       ]
      },
      {
       "output_type": "stream",
       "stream": "stdout",
       "text": [
        "Epoch 73/100\n",
        "0s - loss: 1.3887 - acc: 0.2503 - val_loss: 1.3883 - val_acc: 0.2444\n"
       ]
      },
      {
       "output_type": "stream",
       "stream": "stdout",
       "text": [
        "Epoch 74/100\n",
        "0s - loss: 1.3885 - acc: 0.2503 - val_loss: 1.3881 - val_acc: 0.2444\n"
       ]
      },
      {
       "output_type": "stream",
       "stream": "stdout",
       "text": [
        "Epoch 75/100\n",
        "0s - loss: 1.3883 - acc: 0.2503 - val_loss: 1.3880 - val_acc: 0.2444\n"
       ]
      },
      {
       "output_type": "stream",
       "stream": "stdout",
       "text": [
        "Epoch 76/100\n",
        "0s - loss: 1.3882 - acc: 0.2503 - val_loss: 1.3879 - val_acc: 0.2444\n"
       ]
      },
      {
       "output_type": "stream",
       "stream": "stdout",
       "text": [
        "Epoch 77/100\n",
        "0s - loss: 1.3880 - acc: 0.2503 - val_loss: 1.3877 - val_acc: 0.2444\n"
       ]
      },
      {
       "output_type": "stream",
       "stream": "stdout",
       "text": [
        "Epoch 78/100\n",
        "0s - loss: 1.3879 - acc: 0.2503 - val_loss: 1.3876 - val_acc: 0.2444\n"
       ]
      },
      {
       "output_type": "stream",
       "stream": "stdout",
       "text": [
        "Epoch 79/100\n",
        "0s - loss: 1.3878 - acc: 0.2503 - val_loss: 1.3875 - val_acc: 0.2444\n"
       ]
      },
      {
       "output_type": "stream",
       "stream": "stdout",
       "text": [
        "Epoch 80/100\n",
        "0s - loss: 1.3877 - acc: 0.2503 - val_loss: 1.3874 - val_acc: 0.2444\n"
       ]
      },
      {
       "output_type": "stream",
       "stream": "stdout",
       "text": [
        "Epoch 81/100\n",
        "0s - loss: 1.3876 - acc: 0.2503 - val_loss: 1.3873 - val_acc: 0.2444\n"
       ]
      },
      {
       "output_type": "stream",
       "stream": "stdout",
       "text": [
        "Epoch 82/100\n",
        "0s - loss: 1.3875 - acc: 0.2503 - val_loss: 1.3872 - val_acc: 0.2444\n"
       ]
      },
      {
       "output_type": "stream",
       "stream": "stdout",
       "text": [
        "Epoch 83/100\n",
        "0s - loss: 1.3874 - acc: 0.2503 - val_loss: 1.3872 - val_acc: 0.2444\n"
       ]
      },
      {
       "output_type": "stream",
       "stream": "stdout",
       "text": [
        "Epoch 84/100\n",
        "0s - loss: 1.3873 - acc: 0.2503 - val_loss: 1.3871 - val_acc: 0.2444\n"
       ]
      },
      {
       "output_type": "stream",
       "stream": "stdout",
       "text": [
        "Epoch 85/100\n",
        "0s - loss: 1.3872 - acc: 0.2503 - val_loss: 1.3870 - val_acc: 0.2444\n"
       ]
      },
      {
       "output_type": "stream",
       "stream": "stdout",
       "text": [
        "Epoch 86/100\n",
        "0s - loss: 1.3872 - acc: 0.2503 - val_loss: 1.3870 - val_acc: 0.2444\n"
       ]
      },
      {
       "output_type": "stream",
       "stream": "stdout",
       "text": [
        "Epoch 87/100\n",
        "0s - loss: 1.3871 - acc: 0.2503 - val_loss: 1.3869 - val_acc: 0.2444\n"
       ]
      },
      {
       "output_type": "stream",
       "stream": "stdout",
       "text": [
        "Epoch 88/100\n",
        "0s - loss: 1.3870 - acc: 0.2503 - val_loss: 1.3869 - val_acc: 0.2444\n"
       ]
      },
      {
       "output_type": "stream",
       "stream": "stdout",
       "text": [
        "Epoch 89/100\n",
        "0s - loss: 1.3870 - acc: 0.2503 - val_loss: 1.3868 - val_acc: 0.2444\n"
       ]
      },
      {
       "output_type": "stream",
       "stream": "stdout",
       "text": [
        "Epoch 90/100\n",
        "0s - loss: 1.3869 - acc: 0.2503 - val_loss: 1.3868 - val_acc: 0.2444\n"
       ]
      },
      {
       "output_type": "stream",
       "stream": "stdout",
       "text": [
        "Epoch 91/100\n",
        "0s - loss: 1.3869 - acc: 0.2503 - val_loss: 1.3867 - val_acc: 0.2444\n"
       ]
      },
      {
       "output_type": "stream",
       "stream": "stdout",
       "text": [
        "Epoch 92/100\n",
        "0s - loss: 1.3868 - acc: 0.2503 - val_loss: 1.3867 - val_acc: 0.2444\n"
       ]
      },
      {
       "output_type": "stream",
       "stream": "stdout",
       "text": [
        "Epoch 93/100\n",
        "0s - loss: 1.3868 - acc: 0.2503 - val_loss: 1.3867 - val_acc: 0.2444\n"
       ]
      },
      {
       "output_type": "stream",
       "stream": "stdout",
       "text": [
        "Epoch 94/100\n",
        "0s - loss: 1.3868 - acc: 0.2503 - val_loss: 1.3866 - val_acc: 0.2444\n"
       ]
      },
      {
       "output_type": "stream",
       "stream": "stdout",
       "text": [
        "Epoch 95/100\n",
        "0s - loss: 1.3867 - acc: 0.2503 - val_loss: 1.3866 - val_acc: 0.2444\n"
       ]
      },
      {
       "output_type": "stream",
       "stream": "stdout",
       "text": [
        "Epoch 96/100\n",
        "0s - loss: 1.3867 - acc: 0.2503 - val_loss: 1.3866 - val_acc: 0.2444\n"
       ]
      },
      {
       "output_type": "stream",
       "stream": "stdout",
       "text": [
        "Epoch 97/100\n",
        "0s - loss: 1.3867 - acc: 0.2503 - val_loss: 1.3865 - val_acc: 0.2444\n"
       ]
      },
      {
       "output_type": "stream",
       "stream": "stdout",
       "text": [
        "Epoch 98/100\n",
        "0s - loss: 1.3866 - acc: 0.2503 - val_loss: 1.3865 - val_acc: 0.2444\n"
       ]
      },
      {
       "output_type": "stream",
       "stream": "stdout",
       "text": [
        "Epoch 99/100\n",
        "0s - loss: 1.3866 - acc: 0.2503 - val_loss: 1.3865 - val_acc: 0.2444\n"
       ]
      },
      {
       "output_type": "stream",
       "stream": "stdout",
       "text": [
        "Epoch 100/100\n",
        "0s - loss: 1.3866 - acc: 0.2503 - val_loss: 1.3865 - val_acc: 0.2444\n"
       ]
      },
      {
       "output_type": "stream",
       "stream": "stdout",
       "text": [
        "\r",
        " 5000/20000 [======>.......................] - ETA: 0s"
       ]
      },
      {
       "output_type": "stream",
       "stream": "stdout",
       "text": [
        "\b\b\b\b\b\b\b\b\b\b\b\b\b\b\b\b\b\b\b\b\b\b\b\b\b\b\b\b\b\b\b\b\b\b\b\b\b\b\b\b\b\b\b\b\b\b\b\b\b\b\b\b\b\b\r",
        "20000/20000 [==============================] - 0s     "
       ]
      },
      {
       "output_type": "stream",
       "stream": "stdout",
       "text": [
        "\n",
        "\r",
        " 5000/20000 [======>.......................] - ETA: 0s"
       ]
      },
      {
       "output_type": "stream",
       "stream": "stdout",
       "text": [
        "\b\b\b\b\b\b\b\b\b\b\b\b\b\b\b\b\b\b\b\b\b\b\b\b\b\b\b\b\b\b\b\b\b\b\b\b\b\b\b\b\b\b\b\b\b\b\b\b\b\b\b\b\b\b\r",
        "20000/20000 [==============================] - 0s     "
       ]
      },
      {
       "output_type": "stream",
       "stream": "stdout",
       "text": [
        "\n",
        "Train on 80000 samples, validate on 20000 samples\n",
        "Epoch 1/110\n",
        "0s - loss: 1.0225 - acc: 0.2492 - val_loss: 1.0232 - val_acc: 0.2551\n"
       ]
      },
      {
       "output_type": "stream",
       "stream": "stdout",
       "text": [
        "Epoch 2/110\n",
        "0s - loss: 1.0160 - acc: 0.2492 - val_loss: 1.0168 - val_acc: 0.2551\n"
       ]
      },
      {
       "output_type": "stream",
       "stream": "stdout",
       "text": [
        "Epoch 3/110\n",
        "0s - loss: 1.0098 - acc: 0.2492 - val_loss: 1.0107 - val_acc: 0.2551\n"
       ]
      },
      {
       "output_type": "stream",
       "stream": "stdout",
       "text": [
        "Epoch 4/110\n",
        "0s - loss: 1.0039 - acc: 0.2492 - val_loss: 1.0050 - val_acc: 0.2551\n"
       ]
      },
      {
       "output_type": "stream",
       "stream": "stdout",
       "text": [
        "Epoch 5/110\n",
        "0s - loss: 0.9983 - acc: 0.2492 - val_loss: 0.9996 - val_acc: 0.2551\n"
       ]
      },
      {
       "output_type": "stream",
       "stream": "stdout",
       "text": [
        "Epoch 6/110\n",
        "0s - loss: 0.9931 - acc: 0.2492 - val_loss: 0.9944 - val_acc: 0.2551\n"
       ]
      },
      {
       "output_type": "stream",
       "stream": "stdout",
       "text": [
        "Epoch 7/110\n",
        "0s - loss: 0.9881 - acc: 0.2492 - val_loss: 0.9896 - val_acc: 0.2551\n"
       ]
      },
      {
       "output_type": "stream",
       "stream": "stdout",
       "text": [
        "Epoch 8/110\n",
        "0s - loss: 0.9834 - acc: 0.2492 - val_loss: 0.9849 - val_acc: 0.2551\n"
       ]
      },
      {
       "output_type": "stream",
       "stream": "stdout",
       "text": [
        "Epoch 9/110\n",
        "0s - loss: 0.9789 - acc: 0.2488 - val_loss: 0.9805 - val_acc: 0.2515\n"
       ]
      },
      {
       "output_type": "stream",
       "stream": "stdout",
       "text": [
        "Epoch 10/110\n",
        "0s - loss: 0.9746 - acc: 0.2514 - val_loss: 0.9763 - val_acc: 0.2515\n"
       ]
      },
      {
       "output_type": "stream",
       "stream": "stdout",
       "text": [
        "Epoch 11/110\n",
        "0s - loss: 0.9705 - acc: 0.2514 - val_loss: 0.9724 - val_acc: 0.2515\n"
       ]
      },
      {
       "output_type": "stream",
       "stream": "stdout",
       "text": [
        "Epoch 12/110\n",
        "0s - loss: 0.9666 - acc: 0.2514 - val_loss: 0.9685 - val_acc: 0.2515\n"
       ]
      },
      {
       "output_type": "stream",
       "stream": "stdout",
       "text": [
        "Epoch 13/110\n",
        "0s - loss: 0.9629 - acc: 0.2514 - val_loss: 0.9649 - val_acc: 0.2515\n"
       ]
      },
      {
       "output_type": "stream",
       "stream": "stdout",
       "text": [
        "Epoch 14/110\n",
        "0s - loss: 0.9593 - acc: 0.2514 - val_loss: 0.9614 - val_acc: 0.2515\n"
       ]
      },
      {
       "output_type": "stream",
       "stream": "stdout",
       "text": [
        "Epoch 15/110\n",
        "0s - loss: 0.9560 - acc: 0.2514 - val_loss: 0.9581 - val_acc: 0.2515\n"
       ]
      },
      {
       "output_type": "stream",
       "stream": "stdout",
       "text": [
        "Epoch 16/110\n",
        "0s - loss: 0.9527 - acc: 0.2514 - val_loss: 0.9549 - val_acc: 0.2515\n"
       ]
      },
      {
       "output_type": "stream",
       "stream": "stdout",
       "text": [
        "Epoch 17/110\n",
        "0s - loss: 0.9496 - acc: 0.2514 - val_loss: 0.9519 - val_acc: 0.2515\n"
       ]
      },
      {
       "output_type": "stream",
       "stream": "stdout",
       "text": [
        "Epoch 18/110\n",
        "0s - loss: 0.9467 - acc: 0.2514 - val_loss: 0.9490 - val_acc: 0.2515\n"
       ]
      },
      {
       "output_type": "stream",
       "stream": "stdout",
       "text": [
        "Epoch 19/110\n",
        "0s - loss: 0.9438 - acc: 0.2514 - val_loss: 0.9462 - val_acc: 0.2515\n"
       ]
      },
      {
       "output_type": "stream",
       "stream": "stdout",
       "text": [
        "Epoch 20/110\n",
        "0s - loss: 0.9411 - acc: 0.2514 - val_loss: 0.9435 - val_acc: 0.2515\n"
       ]
      },
      {
       "output_type": "stream",
       "stream": "stdout",
       "text": [
        "Epoch 21/110\n",
        "0s - loss: 0.9385 - acc: 0.2514 - val_loss: 0.9409 - val_acc: 0.2515\n"
       ]
      },
      {
       "output_type": "stream",
       "stream": "stdout",
       "text": [
        "Epoch 22/110\n",
        "0s - loss: 0.9359 - acc: 0.2514 - val_loss: 0.9384 - val_acc: 0.2515\n"
       ]
      },
      {
       "output_type": "stream",
       "stream": "stdout",
       "text": [
        "Epoch 23/110\n",
        "0s - loss: 0.9335 - acc: 0.2514 - val_loss: 0.9361 - val_acc: 0.2515\n"
       ]
      },
      {
       "output_type": "stream",
       "stream": "stdout",
       "text": [
        "Epoch 24/110\n",
        "0s - loss: 0.9312 - acc: 0.2514 - val_loss: 0.9338 - val_acc: 0.2515\n"
       ]
      },
      {
       "output_type": "stream",
       "stream": "stdout",
       "text": [
        "Epoch 25/110\n",
        "0s - loss: 0.9289 - acc: 0.2514 - val_loss: 0.9316 - val_acc: 0.2515\n"
       ]
      },
      {
       "output_type": "stream",
       "stream": "stdout",
       "text": [
        "Epoch 26/110\n",
        "0s - loss: 0.9268 - acc: 0.2514 - val_loss: 0.9294 - val_acc: 0.2515\n"
       ]
      },
      {
       "output_type": "stream",
       "stream": "stdout",
       "text": [
        "Epoch 27/110\n",
        "0s - loss: 0.9247 - acc: 0.2514 - val_loss: 0.9274 - val_acc: 0.2515\n"
       ]
      },
      {
       "output_type": "stream",
       "stream": "stdout",
       "text": [
        "Epoch 28/110\n",
        "0s - loss: 0.9227 - acc: 0.2514 - val_loss: 0.9254 - val_acc: 0.2515\n"
       ]
      },
      {
       "output_type": "stream",
       "stream": "stdout",
       "text": [
        "Epoch 29/110\n",
        "0s - loss: 0.9208 - acc: 0.2514 - val_loss: 0.9235 - val_acc: 0.2515\n"
       ]
      },
      {
       "output_type": "stream",
       "stream": "stdout",
       "text": [
        "Epoch 30/110\n",
        "0s - loss: 0.9189 - acc: 0.2514 - val_loss: 0.9217 - val_acc: 0.2515\n"
       ]
      },
      {
       "output_type": "stream",
       "stream": "stdout",
       "text": [
        "Epoch 31/110\n",
        "0s - loss: 0.9171 - acc: 0.2514 - val_loss: 0.9199 - val_acc: 0.2515\n"
       ]
      },
      {
       "output_type": "stream",
       "stream": "stdout",
       "text": [
        "Epoch 32/110\n",
        "0s - loss: 0.9153 - acc: 0.2514 - val_loss: 0.9182 - val_acc: 0.2515\n"
       ]
      },
      {
       "output_type": "stream",
       "stream": "stdout",
       "text": [
        "Epoch 33/110\n",
        "0s - loss: 0.9136 - acc: 0.2514 - val_loss: 0.9165 - val_acc: 0.2515\n"
       ]
      },
      {
       "output_type": "stream",
       "stream": "stdout",
       "text": [
        "Epoch 34/110\n",
        "0s - loss: 0.9120 - acc: 0.2514 - val_loss: 0.9149 - val_acc: 0.2515\n"
       ]
      },
      {
       "output_type": "stream",
       "stream": "stdout",
       "text": [
        "Epoch 35/110\n",
        "0s - loss: 0.9104 - acc: 0.2514 - val_loss: 0.9133 - val_acc: 0.2515\n"
       ]
      },
      {
       "output_type": "stream",
       "stream": "stdout",
       "text": [
        "Epoch 36/110\n",
        "0s - loss: 0.9089 - acc: 0.2514 - val_loss: 0.9118 - val_acc: 0.2515\n"
       ]
      },
      {
       "output_type": "stream",
       "stream": "stdout",
       "text": [
        "Epoch 37/110\n",
        "0s - loss: 0.9074 - acc: 0.2514 - val_loss: 0.9104 - val_acc: 0.2515\n"
       ]
      },
      {
       "output_type": "stream",
       "stream": "stdout",
       "text": [
        "Epoch 38/110\n",
        "0s - loss: 0.9060 - acc: 0.2514 - val_loss: 0.9089 - val_acc: 0.2515\n"
       ]
      },
      {
       "output_type": "stream",
       "stream": "stdout",
       "text": [
        "Epoch 39/110\n",
        "0s - loss: 0.9046 - acc: 0.2514 - val_loss: 0.9076 - val_acc: 0.2515\n"
       ]
      },
      {
       "output_type": "stream",
       "stream": "stdout",
       "text": [
        "Epoch 40/110\n",
        "0s - loss: 0.9033 - acc: 0.2514 - val_loss: 0.9062 - val_acc: 0.2515\n"
       ]
      },
      {
       "output_type": "stream",
       "stream": "stdout",
       "text": [
        "Epoch 41/110\n",
        "0s - loss: 0.9019 - acc: 0.2514 - val_loss: 0.9049 - val_acc: 0.2515\n"
       ]
      },
      {
       "output_type": "stream",
       "stream": "stdout",
       "text": [
        "Epoch 42/110\n",
        "0s - loss: 0.9007 - acc: 0.2514 - val_loss: 0.9037 - val_acc: 0.2515\n"
       ]
      },
      {
       "output_type": "stream",
       "stream": "stdout",
       "text": [
        "Epoch 43/110\n",
        "0s - loss: 0.8994 - acc: 0.2514 - val_loss: 0.9025 - val_acc: 0.2515\n"
       ]
      },
      {
       "output_type": "stream",
       "stream": "stdout",
       "text": [
        "Epoch 44/110\n",
        "0s - loss: 0.8982 - acc: 0.2514 - val_loss: 0.9013 - val_acc: 0.2515\n"
       ]
      },
      {
       "output_type": "stream",
       "stream": "stdout",
       "text": [
        "Epoch 45/110\n",
        "0s - loss: 0.8971 - acc: 0.2514 - val_loss: 0.9001 - val_acc: 0.2515\n"
       ]
      },
      {
       "output_type": "stream",
       "stream": "stdout",
       "text": [
        "Epoch 46/110\n",
        "0s - loss: 0.8959 - acc: 0.2514 - val_loss: 0.8990 - val_acc: 0.2515\n"
       ]
      },
      {
       "output_type": "stream",
       "stream": "stdout",
       "text": [
        "Epoch 47/110\n",
        "0s - loss: 0.8948 - acc: 0.2514 - val_loss: 0.8979 - val_acc: 0.2515\n"
       ]
      },
      {
       "output_type": "stream",
       "stream": "stdout",
       "text": [
        "Epoch 48/110\n",
        "0s - loss: 0.8938 - acc: 0.2514 - val_loss: 0.8968 - val_acc: 0.2515\n"
       ]
      },
      {
       "output_type": "stream",
       "stream": "stdout",
       "text": [
        "Epoch 49/110\n",
        "0s - loss: 0.8927 - acc: 0.2514 - val_loss: 0.8958 - val_acc: 0.2515\n"
       ]
      },
      {
       "output_type": "stream",
       "stream": "stdout",
       "text": [
        "Epoch 50/110\n",
        "0s - loss: 0.8917 - acc: 0.2514 - val_loss: 0.8948 - val_acc: 0.2515\n"
       ]
      },
      {
       "output_type": "stream",
       "stream": "stdout",
       "text": [
        "Epoch 51/110\n",
        "0s - loss: 0.8907 - acc: 0.2514 - val_loss: 0.8938 - val_acc: 0.2515\n"
       ]
      },
      {
       "output_type": "stream",
       "stream": "stdout",
       "text": [
        "Epoch 52/110\n",
        "0s - loss: 0.8898 - acc: 0.2514 - val_loss: 0.8929 - val_acc: 0.2515\n"
       ]
      },
      {
       "output_type": "stream",
       "stream": "stdout",
       "text": [
        "Epoch 53/110\n",
        "0s - loss: 0.8888 - acc: 0.2514 - val_loss: 0.8919 - val_acc: 0.2515\n"
       ]
      },
      {
       "output_type": "stream",
       "stream": "stdout",
       "text": [
        "Epoch 54/110\n",
        "0s - loss: 0.8879 - acc: 0.2514 - val_loss: 0.8910 - val_acc: 0.2515\n"
       ]
      },
      {
       "output_type": "stream",
       "stream": "stdout",
       "text": [
        "Epoch 55/110\n",
        "0s - loss: 0.8870 - acc: 0.2514 - val_loss: 0.8902 - val_acc: 0.2515\n"
       ]
      },
      {
       "output_type": "stream",
       "stream": "stdout",
       "text": [
        "Epoch 56/110\n",
        "0s - loss: 0.8861 - acc: 0.2514 - val_loss: 0.8893 - val_acc: 0.2515\n"
       ]
      },
      {
       "output_type": "stream",
       "stream": "stdout",
       "text": [
        "Epoch 57/110\n",
        "0s - loss: 0.8853 - acc: 0.2514 - val_loss: 0.8884 - val_acc: 0.2515\n"
       ]
      },
      {
       "output_type": "stream",
       "stream": "stdout",
       "text": [
        "Epoch 58/110\n",
        "0s - loss: 0.8845 - acc: 0.2514 - val_loss: 0.8876 - val_acc: 0.2515\n"
       ]
      },
      {
       "output_type": "stream",
       "stream": "stdout",
       "text": [
        "Epoch 59/110\n",
        "0s - loss: 0.8837 - acc: 0.2514 - val_loss: 0.8868 - val_acc: 0.2515\n"
       ]
      },
      {
       "output_type": "stream",
       "stream": "stdout",
       "text": [
        "Epoch 60/110\n",
        "0s - loss: 0.8829 - acc: 0.2514 - val_loss: 0.8860 - val_acc: 0.2515\n"
       ]
      },
      {
       "output_type": "stream",
       "stream": "stdout",
       "text": [
        "Epoch 61/110\n",
        "0s - loss: 0.8821 - acc: 0.2514 - val_loss: 0.8853 - val_acc: 0.2515\n"
       ]
      },
      {
       "output_type": "stream",
       "stream": "stdout",
       "text": [
        "Epoch 62/110\n",
        "0s - loss: 0.8813 - acc: 0.2514 - val_loss: 0.8845 - val_acc: 0.2515\n"
       ]
      },
      {
       "output_type": "stream",
       "stream": "stdout",
       "text": [
        "Epoch 63/110\n",
        "0s - loss: 0.8806 - acc: 0.2514 - val_loss: 0.8838 - val_acc: 0.2515\n"
       ]
      },
      {
       "output_type": "stream",
       "stream": "stdout",
       "text": [
        "Epoch 64/110\n",
        "0s - loss: 0.8799 - acc: 0.2514 - val_loss: 0.8831 - val_acc: 0.2515\n"
       ]
      },
      {
       "output_type": "stream",
       "stream": "stdout",
       "text": [
        "Epoch 65/110\n",
        "0s - loss: 0.8792 - acc: 0.2514 - val_loss: 0.8824 - val_acc: 0.2515\n"
       ]
      },
      {
       "output_type": "stream",
       "stream": "stdout",
       "text": [
        "Epoch 66/110\n",
        "0s - loss: 0.8785 - acc: 0.2514 - val_loss: 0.8817 - val_acc: 0.2515\n"
       ]
      },
      {
       "output_type": "stream",
       "stream": "stdout",
       "text": [
        "Epoch 67/110\n",
        "0s - loss: 0.8778 - acc: 0.2514 - val_loss: 0.8810 - val_acc: 0.2515\n"
       ]
      },
      {
       "output_type": "stream",
       "stream": "stdout",
       "text": [
        "Epoch 68/110\n",
        "0s - loss: 0.8772 - acc: 0.2514 - val_loss: 0.8804 - val_acc: 0.2515\n"
       ]
      },
      {
       "output_type": "stream",
       "stream": "stdout",
       "text": [
        "Epoch 69/110\n",
        "0s - loss: 0.8765 - acc: 0.2514 - val_loss: 0.8798 - val_acc: 0.2515\n"
       ]
      },
      {
       "output_type": "stream",
       "stream": "stdout",
       "text": [
        "Epoch 70/110\n",
        "0s - loss: 0.8759 - acc: 0.2514 - val_loss: 0.8791 - val_acc: 0.2515\n"
       ]
      },
      {
       "output_type": "stream",
       "stream": "stdout",
       "text": [
        "Epoch 71/110\n",
        "0s - loss: 0.8753 - acc: 0.2514 - val_loss: 0.8785 - val_acc: 0.2515\n"
       ]
      },
      {
       "output_type": "stream",
       "stream": "stdout",
       "text": [
        "Epoch 72/110\n",
        "0s - loss: 0.8747 - acc: 0.2514 - val_loss: 0.8779 - val_acc: 0.2515\n"
       ]
      },
      {
       "output_type": "stream",
       "stream": "stdout",
       "text": [
        "Epoch 73/110\n",
        "0s - loss: 0.8741 - acc: 0.2514 - val_loss: 0.8773 - val_acc: 0.2515\n"
       ]
      },
      {
       "output_type": "stream",
       "stream": "stdout",
       "text": [
        "Epoch 74/110\n",
        "0s - loss: 0.8735 - acc: 0.2514 - val_loss: 0.8768 - val_acc: 0.2515\n"
       ]
      },
      {
       "output_type": "stream",
       "stream": "stdout",
       "text": [
        "Epoch 75/110\n",
        "0s - loss: 0.8729 - acc: 0.2514 - val_loss: 0.8762 - val_acc: 0.2515\n"
       ]
      },
      {
       "output_type": "stream",
       "stream": "stdout",
       "text": [
        "Epoch 76/110\n",
        "0s - loss: 0.8724 - acc: 0.2514 - val_loss: 0.8756 - val_acc: 0.2515\n"
       ]
      },
      {
       "output_type": "stream",
       "stream": "stdout",
       "text": [
        "Epoch 77/110\n",
        "0s - loss: 0.8718 - acc: 0.2514 - val_loss: 0.8751 - val_acc: 0.2515\n"
       ]
      },
      {
       "output_type": "stream",
       "stream": "stdout",
       "text": [
        "Epoch 78/110\n",
        "0s - loss: 0.8713 - acc: 0.2514 - val_loss: 0.8746 - val_acc: 0.2515\n"
       ]
      },
      {
       "output_type": "stream",
       "stream": "stdout",
       "text": [
        "Epoch 79/110\n",
        "0s - loss: 0.8708 - acc: 0.2514 - val_loss: 0.8740 - val_acc: 0.2515\n"
       ]
      },
      {
       "output_type": "stream",
       "stream": "stdout",
       "text": [
        "Epoch 80/110\n",
        "0s - loss: 0.8703 - acc: 0.2514 - val_loss: 0.8735 - val_acc: 0.2515\n"
       ]
      },
      {
       "output_type": "stream",
       "stream": "stdout",
       "text": [
        "Epoch 81/110\n",
        "0s - loss: 0.8698 - acc: 0.2514 - val_loss: 0.8730 - val_acc: 0.2515\n"
       ]
      },
      {
       "output_type": "stream",
       "stream": "stdout",
       "text": [
        "Epoch 82/110\n",
        "0s - loss: 0.8693 - acc: 0.2514 - val_loss: 0.8725 - val_acc: 0.2515\n"
       ]
      },
      {
       "output_type": "stream",
       "stream": "stdout",
       "text": [
        "Epoch 83/110\n",
        "0s - loss: 0.8688 - acc: 0.2514 - val_loss: 0.8721 - val_acc: 0.2515\n"
       ]
      },
      {
       "output_type": "stream",
       "stream": "stdout",
       "text": [
        "Epoch 84/110\n",
        "0s - loss: 0.8683 - acc: 0.2514 - val_loss: 0.8716 - val_acc: 0.2515\n"
       ]
      },
      {
       "output_type": "stream",
       "stream": "stdout",
       "text": [
        "Epoch 85/110\n",
        "0s - loss: 0.8678 - acc: 0.2514 - val_loss: 0.8711 - val_acc: 0.2515\n"
       ]
      },
      {
       "output_type": "stream",
       "stream": "stdout",
       "text": [
        "Epoch 86/110\n",
        "0s - loss: 0.8674 - acc: 0.2514 - val_loss: 0.8707 - val_acc: 0.2515\n"
       ]
      },
      {
       "output_type": "stream",
       "stream": "stdout",
       "text": [
        "Epoch 87/110\n",
        "0s - loss: 0.8669 - acc: 0.2514 - val_loss: 0.8702 - val_acc: 0.2515\n"
       ]
      },
      {
       "output_type": "stream",
       "stream": "stdout",
       "text": [
        "Epoch 88/110\n",
        "0s - loss: 0.8665 - acc: 0.2514 - val_loss: 0.8698 - val_acc: 0.2515\n"
       ]
      },
      {
       "output_type": "stream",
       "stream": "stdout",
       "text": [
        "Epoch 89/110\n",
        "0s - loss: 0.8661 - acc: 0.2514 - val_loss: 0.8694 - val_acc: 0.2515\n"
       ]
      },
      {
       "output_type": "stream",
       "stream": "stdout",
       "text": [
        "Epoch 90/110\n",
        "0s - loss: 0.8656 - acc: 0.2514 - val_loss: 0.8689 - val_acc: 0.2515\n"
       ]
      },
      {
       "output_type": "stream",
       "stream": "stdout",
       "text": [
        "Epoch 91/110\n",
        "0s - loss: 0.8652 - acc: 0.2514 - val_loss: 0.8685 - val_acc: 0.2515\n"
       ]
      },
      {
       "output_type": "stream",
       "stream": "stdout",
       "text": [
        "Epoch 92/110\n",
        "0s - loss: 0.8648 - acc: 0.2514 - val_loss: 0.8681 - val_acc: 0.2515\n"
       ]
      },
      {
       "output_type": "stream",
       "stream": "stdout",
       "text": [
        "Epoch 93/110\n",
        "0s - loss: 0.8644 - acc: 0.2514 - val_loss: 0.8677 - val_acc: 0.2515\n"
       ]
      },
      {
       "output_type": "stream",
       "stream": "stdout",
       "text": [
        "Epoch 94/110\n",
        "0s - loss: 0.8640 - acc: 0.2514 - val_loss: 0.8673 - val_acc: 0.2515\n"
       ]
      },
      {
       "output_type": "stream",
       "stream": "stdout",
       "text": [
        "Epoch 95/110\n",
        "0s - loss: 0.8636 - acc: 0.2514 - val_loss: 0.8669 - val_acc: 0.2515\n"
       ]
      },
      {
       "output_type": "stream",
       "stream": "stdout",
       "text": [
        "Epoch 96/110\n",
        "0s - loss: 0.8632 - acc: 0.2514 - val_loss: 0.8665 - val_acc: 0.2515\n"
       ]
      },
      {
       "output_type": "stream",
       "stream": "stdout",
       "text": [
        "Epoch 97/110\n",
        "0s - loss: 0.8629 - acc: 0.2514 - val_loss: 0.8662 - val_acc: 0.2515\n"
       ]
      },
      {
       "output_type": "stream",
       "stream": "stdout",
       "text": [
        "Epoch 98/110\n",
        "0s - loss: 0.8625 - acc: 0.2514 - val_loss: 0.8658 - val_acc: 0.2515\n"
       ]
      },
      {
       "output_type": "stream",
       "stream": "stdout",
       "text": [
        "Epoch 99/110\n",
        "0s - loss: 0.8621 - acc: 0.2514 - val_loss: 0.8654 - val_acc: 0.2515\n"
       ]
      },
      {
       "output_type": "stream",
       "stream": "stdout",
       "text": [
        "Epoch 100/110\n",
        "0s - loss: 0.8618 - acc: 0.2514 - val_loss: 0.8651 - val_acc: 0.2515\n"
       ]
      },
      {
       "output_type": "stream",
       "stream": "stdout",
       "text": [
        "Epoch 101/110\n",
        "0s - loss: 0.8614 - acc: 0.2514 - val_loss: 0.8647 - val_acc: 0.2515\n"
       ]
      },
      {
       "output_type": "stream",
       "stream": "stdout",
       "text": [
        "Epoch 102/110\n",
        "0s - loss: 0.8611 - acc: 0.2514 - val_loss: 0.8644 - val_acc: 0.2515\n"
       ]
      },
      {
       "output_type": "stream",
       "stream": "stdout",
       "text": [
        "Epoch 103/110\n",
        "0s - loss: 0.8607 - acc: 0.2514 - val_loss: 0.8640 - val_acc: 0.2515\n"
       ]
      },
      {
       "output_type": "stream",
       "stream": "stdout",
       "text": [
        "Epoch 104/110\n",
        "0s - loss: 0.8604 - acc: 0.2514 - val_loss: 0.8637 - val_acc: 0.2515\n"
       ]
      },
      {
       "output_type": "stream",
       "stream": "stdout",
       "text": [
        "Epoch 105/110\n",
        "0s - loss: 0.8600 - acc: 0.2514 - val_loss: 0.8634 - val_acc: 0.2515\n"
       ]
      },
      {
       "output_type": "stream",
       "stream": "stdout",
       "text": [
        "Epoch 106/110\n",
        "0s - loss: 0.8597 - acc: 0.2514 - val_loss: 0.8630 - val_acc: 0.2515\n"
       ]
      },
      {
       "output_type": "stream",
       "stream": "stdout",
       "text": [
        "Epoch 107/110\n",
        "0s - loss: 0.8594 - acc: 0.2514 - val_loss: 0.8627 - val_acc: 0.2515\n"
       ]
      },
      {
       "output_type": "stream",
       "stream": "stdout",
       "text": [
        "Epoch 108/110\n",
        "0s - loss: 0.8591 - acc: 0.2514 - val_loss: 0.8624 - val_acc: 0.2515\n"
       ]
      },
      {
       "output_type": "stream",
       "stream": "stdout",
       "text": [
        "Epoch 109/110\n",
        "0s - loss: 0.8588 - acc: 0.2514 - val_loss: 0.8621 - val_acc: 0.2515\n"
       ]
      },
      {
       "output_type": "stream",
       "stream": "stdout",
       "text": [
        "Epoch 110/110\n",
        "0s - loss: 0.8585 - acc: 0.2514 - val_loss: 0.8618 - val_acc: 0.2515\n"
       ]
      },
      {
       "output_type": "stream",
       "stream": "stdout",
       "text": [
        "\r",
        " 5000/20000 [======>.......................] - ETA: 0s"
       ]
      },
      {
       "output_type": "stream",
       "stream": "stdout",
       "text": [
        "\b\b\b\b\b\b\b\b\b\b\b\b\b\b\b\b\b\b\b\b\b\b\b\b\b\b\b\b\b\b\b\b\b\b\b\b\b\b\b\b\b\b\b\b\b\b\b\b\b\b\b\b\b\b\r",
        "20000/20000 [==============================] - 0s     "
       ]
      },
      {
       "output_type": "stream",
       "stream": "stdout",
       "text": [
        "\n",
        "\r",
        " 5000/20000 [======>.......................] - ETA: 0s"
       ]
      },
      {
       "output_type": "stream",
       "stream": "stdout",
       "text": [
        "\b\b\b\b\b\b\b\b\b\b\b\b\b\b\b\b\b\b\b\b\b\b\b\b\b\b\b\b\b\b\b\b\b\b\b\b\b\b\b\b\b\b\b\b\b\b\b\b\b\b\b\b\b\b\r",
        "20000/20000 [==============================] - 0s     "
       ]
      },
      {
       "output_type": "stream",
       "stream": "stdout",
       "text": [
        "\n",
        "Train on 80000 samples, validate on 20000 samples\n",
        "Epoch 1/110\n",
        "0s - loss: 1.6093 - acc: 0.2490 - val_loss: 1.6013 - val_acc: 0.2524\n"
       ]
      },
      {
       "output_type": "stream",
       "stream": "stdout",
       "text": [
        "Epoch 2/110\n",
        "0s - loss: 1.6007 - acc: 0.2490 - val_loss: 1.5929 - val_acc: 0.2524\n"
       ]
      },
      {
       "output_type": "stream",
       "stream": "stdout",
       "text": [
        "Epoch 3/110\n",
        "0s - loss: 1.5923 - acc: 0.2490 - val_loss: 1.5847 - val_acc: 0.2524\n"
       ]
      },
      {
       "output_type": "stream",
       "stream": "stdout",
       "text": [
        "Epoch 4/110\n",
        "0s - loss: 1.5841 - acc: 0.2490 - val_loss: 1.5766 - val_acc: 0.2524\n"
       ]
      },
      {
       "output_type": "stream",
       "stream": "stdout",
       "text": [
        "Epoch 5/110\n",
        "0s - loss: 1.5761 - acc: 0.2490 - val_loss: 1.5688 - val_acc: 0.2524\n"
       ]
      },
      {
       "output_type": "stream",
       "stream": "stdout",
       "text": [
        "Epoch 6/110\n",
        "0s - loss: 1.5683 - acc: 0.2490 - val_loss: 1.5612 - val_acc: 0.2524\n"
       ]
      },
      {
       "output_type": "stream",
       "stream": "stdout",
       "text": [
        "Epoch 7/110\n",
        "0s - loss: 1.5607 - acc: 0.2490 - val_loss: 1.5538 - val_acc: 0.2524\n"
       ]
      },
      {
       "output_type": "stream",
       "stream": "stdout",
       "text": [
        "Epoch 8/110\n",
        "0s - loss: 1.5533 - acc: 0.2490 - val_loss: 1.5466 - val_acc: 0.2524\n"
       ]
      },
      {
       "output_type": "stream",
       "stream": "stdout",
       "text": [
        "Epoch 9/110\n",
        "0s - loss: 1.5461 - acc: 0.2490 - val_loss: 1.5395 - val_acc: 0.2524\n"
       ]
      },
      {
       "output_type": "stream",
       "stream": "stdout",
       "text": [
        "Epoch 10/110\n",
        "0s - loss: 1.5391 - acc: 0.2490 - val_loss: 1.5327 - val_acc: 0.2524\n"
       ]
      },
      {
       "output_type": "stream",
       "stream": "stdout",
       "text": [
        "Epoch 11/110\n",
        "0s - loss: 1.5323 - acc: 0.2490 - val_loss: 1.5261 - val_acc: 0.2524\n"
       ]
      },
      {
       "output_type": "stream",
       "stream": "stdout",
       "text": [
        "Epoch 12/110\n",
        "0s - loss: 1.5257 - acc: 0.2490 - val_loss: 1.5197 - val_acc: 0.2524\n"
       ]
      },
      {
       "output_type": "stream",
       "stream": "stdout",
       "text": [
        "Epoch 13/110\n",
        "0s - loss: 1.5193 - acc: 0.2490 - val_loss: 1.5135 - val_acc: 0.2524\n"
       ]
      },
      {
       "output_type": "stream",
       "stream": "stdout",
       "text": [
        "Epoch 14/110\n",
        "0s - loss: 1.5131 - acc: 0.2490 - val_loss: 1.5074 - val_acc: 0.2524\n"
       ]
      },
      {
       "output_type": "stream",
       "stream": "stdout",
       "text": [
        "Epoch 15/110\n",
        "0s - loss: 1.5071 - acc: 0.2490 - val_loss: 1.5016 - val_acc: 0.2524\n"
       ]
      },
      {
       "output_type": "stream",
       "stream": "stdout",
       "text": [
        "Epoch 16/110\n",
        "0s - loss: 1.5013 - acc: 0.2490 - val_loss: 1.4960 - val_acc: 0.2524\n"
       ]
      },
      {
       "output_type": "stream",
       "stream": "stdout",
       "text": [
        "Epoch 17/110\n",
        "0s - loss: 1.4957 - acc: 0.2490 - val_loss: 1.4906 - val_acc: 0.2524\n"
       ]
      },
      {
       "output_type": "stream",
       "stream": "stdout",
       "text": [
        "Epoch 18/110\n",
        "0s - loss: 1.4903 - acc: 0.2490 - val_loss: 1.4854 - val_acc: 0.2524\n"
       ]
      },
      {
       "output_type": "stream",
       "stream": "stdout",
       "text": [
        "Epoch 19/110\n",
        "0s - loss: 1.4851 - acc: 0.2490 - val_loss: 1.4803 - val_acc: 0.2524\n"
       ]
      },
      {
       "output_type": "stream",
       "stream": "stdout",
       "text": [
        "Epoch 20/110\n",
        "0s - loss: 1.4801 - acc: 0.2490 - val_loss: 1.4755 - val_acc: 0.2524\n"
       ]
      },
      {
       "output_type": "stream",
       "stream": "stdout",
       "text": [
        "Epoch 21/110\n",
        "0s - loss: 1.4753 - acc: 0.2490 - val_loss: 1.4708 - val_acc: 0.2524\n"
       ]
      },
      {
       "output_type": "stream",
       "stream": "stdout",
       "text": [
        "Epoch 22/110\n",
        "0s - loss: 1.4707 - acc: 0.2490 - val_loss: 1.4664 - val_acc: 0.2524\n"
       ]
      },
      {
       "output_type": "stream",
       "stream": "stdout",
       "text": [
        "Epoch 23/110\n",
        "0s - loss: 1.4662 - acc: 0.2490 - val_loss: 1.4621 - val_acc: 0.2524\n"
       ]
      },
      {
       "output_type": "stream",
       "stream": "stdout",
       "text": [
        "Epoch 24/110\n",
        "0s - loss: 1.4620 - acc: 0.2490 - val_loss: 1.4580 - val_acc: 0.2524\n"
       ]
      },
      {
       "output_type": "stream",
       "stream": "stdout",
       "text": [
        "Epoch 25/110\n",
        "0s - loss: 1.4579 - acc: 0.2490 - val_loss: 1.4540 - val_acc: 0.2524\n"
       ]
      },
      {
       "output_type": "stream",
       "stream": "stdout",
       "text": [
        "Epoch 26/110\n",
        "0s - loss: 1.4540 - acc: 0.2490 - val_loss: 1.4503 - val_acc: 0.2524\n"
       ]
      },
      {
       "output_type": "stream",
       "stream": "stdout",
       "text": [
        "Epoch 27/110\n",
        "0s - loss: 1.4502 - acc: 0.2490 - val_loss: 1.4467 - val_acc: 0.2524\n"
       ]
      },
      {
       "output_type": "stream",
       "stream": "stdout",
       "text": [
        "Epoch 28/110\n",
        "0s - loss: 1.4467 - acc: 0.2490 - val_loss: 1.4432 - val_acc: 0.2524\n"
       ]
      },
      {
       "output_type": "stream",
       "stream": "stdout",
       "text": [
        "Epoch 29/110\n",
        "0s - loss: 1.4433 - acc: 0.2490 - val_loss: 1.4400 - val_acc: 0.2524\n"
       ]
      },
      {
       "output_type": "stream",
       "stream": "stdout",
       "text": [
        "Epoch 30/110\n",
        "0s - loss: 1.4400 - acc: 0.2490 - val_loss: 1.4368 - val_acc: 0.2524\n"
       ]
      },
      {
       "output_type": "stream",
       "stream": "stdout",
       "text": [
        "Epoch 31/110\n",
        "0s - loss: 1.4369 - acc: 0.2490 - val_loss: 1.4339 - val_acc: 0.2524\n"
       ]
      },
      {
       "output_type": "stream",
       "stream": "stdout",
       "text": [
        "Epoch 32/110\n",
        "0s - loss: 1.4340 - acc: 0.2271 - val_loss: 1.4310 - val_acc: 0.2524\n"
       ]
      },
      {
       "output_type": "stream",
       "stream": "stdout",
       "text": [
        "Epoch 33/110\n",
        "0s - loss: 1.4311 - acc: 0.2393 - val_loss: 1.4284 - val_acc: 0.2444\n"
       ]
      },
      {
       "output_type": "stream",
       "stream": "stdout",
       "text": [
        "Epoch 34/110\n",
        "0s - loss: 1.4285 - acc: 0.2300 - val_loss: 1.4258 - val_acc: 0.2444\n"
       ]
      },
      {
       "output_type": "stream",
       "stream": "stdout",
       "text": [
        "Epoch 35/110\n",
        "0s - loss: 1.4260 - acc: 0.2503 - val_loss: 1.4234 - val_acc: 0.2444\n"
       ]
      },
      {
       "output_type": "stream",
       "stream": "stdout",
       "text": [
        "Epoch 36/110\n",
        "0s - loss: 1.4235 - acc: 0.2503 - val_loss: 1.4211 - val_acc: 0.2444\n"
       ]
      },
      {
       "output_type": "stream",
       "stream": "stdout",
       "text": [
        "Epoch 37/110\n",
        "0s - loss: 1.4213 - acc: 0.2503 - val_loss: 1.4189 - val_acc: 0.2444\n"
       ]
      },
      {
       "output_type": "stream",
       "stream": "stdout",
       "text": [
        "Epoch 38/110\n",
        "0s - loss: 1.4191 - acc: 0.2503 - val_loss: 1.4169 - val_acc: 0.2444\n"
       ]
      },
      {
       "output_type": "stream",
       "stream": "stdout",
       "text": [
        "Epoch 39/110\n",
        "0s - loss: 1.4171 - acc: 0.2503 - val_loss: 1.4149 - val_acc: 0.2444\n"
       ]
      },
      {
       "output_type": "stream",
       "stream": "stdout",
       "text": [
        "Epoch 40/110\n",
        "0s - loss: 1.4151 - acc: 0.2503 - val_loss: 1.4131 - val_acc: 0.2444\n"
       ]
      },
      {
       "output_type": "stream",
       "stream": "stdout",
       "text": [
        "Epoch 41/110\n",
        "0s - loss: 1.4133 - acc: 0.2503 - val_loss: 1.4114 - val_acc: 0.2444\n"
       ]
      },
      {
       "output_type": "stream",
       "stream": "stdout",
       "text": [
        "Epoch 42/110\n",
        "0s - loss: 1.4116 - acc: 0.2503 - val_loss: 1.4097 - val_acc: 0.2444\n"
       ]
      },
      {
       "output_type": "stream",
       "stream": "stdout",
       "text": [
        "Epoch 43/110\n",
        "0s - loss: 1.4100 - acc: 0.2503 - val_loss: 1.4082 - val_acc: 0.2444\n"
       ]
      },
      {
       "output_type": "stream",
       "stream": "stdout",
       "text": [
        "Epoch 44/110\n",
        "0s - loss: 1.4085 - acc: 0.2503 - val_loss: 1.4067 - val_acc: 0.2444\n"
       ]
      },
      {
       "output_type": "stream",
       "stream": "stdout",
       "text": [
        "Epoch 45/110\n",
        "0s - loss: 1.4070 - acc: 0.2503 - val_loss: 1.4054 - val_acc: 0.2444\n"
       ]
      },
      {
       "output_type": "stream",
       "stream": "stdout",
       "text": [
        "Epoch 46/110\n",
        "0s - loss: 1.4057 - acc: 0.2503 - val_loss: 1.4041 - val_acc: 0.2444\n"
       ]
      },
      {
       "output_type": "stream",
       "stream": "stdout",
       "text": [
        "Epoch 47/110\n",
        "0s - loss: 1.4044 - acc: 0.2503 - val_loss: 1.4029 - val_acc: 0.2444\n"
       ]
      },
      {
       "output_type": "stream",
       "stream": "stdout",
       "text": [
        "Epoch 48/110\n",
        "0s - loss: 1.4032 - acc: 0.2503 - val_loss: 1.4018 - val_acc: 0.2444\n"
       ]
      },
      {
       "output_type": "stream",
       "stream": "stdout",
       "text": [
        "Epoch 49/110\n",
        "0s - loss: 1.4021 - acc: 0.2503 - val_loss: 1.4007 - val_acc: 0.2444\n"
       ]
      },
      {
       "output_type": "stream",
       "stream": "stdout",
       "text": [
        "Epoch 50/110\n",
        "0s - loss: 1.4010 - acc: 0.2503 - val_loss: 1.3997 - val_acc: 0.2444\n"
       ]
      },
      {
       "output_type": "stream",
       "stream": "stdout",
       "text": [
        "Epoch 51/110\n",
        "0s - loss: 1.4000 - acc: 0.2503 - val_loss: 1.3988 - val_acc: 0.2444\n"
       ]
      },
      {
       "output_type": "stream",
       "stream": "stdout",
       "text": [
        "Epoch 52/110\n",
        "0s - loss: 1.3991 - acc: 0.2503 - val_loss: 1.3979 - val_acc: 0.2444\n"
       ]
      },
      {
       "output_type": "stream",
       "stream": "stdout",
       "text": [
        "Epoch 53/110\n",
        "0s - loss: 1.3982 - acc: 0.2503 - val_loss: 1.3971 - val_acc: 0.2444\n"
       ]
      },
      {
       "output_type": "stream",
       "stream": "stdout",
       "text": [
        "Epoch 54/110\n",
        "0s - loss: 1.3974 - acc: 0.2503 - val_loss: 1.3963 - val_acc: 0.2444\n"
       ]
      },
      {
       "output_type": "stream",
       "stream": "stdout",
       "text": [
        "Epoch 55/110\n",
        "0s - loss: 1.3966 - acc: 0.2503 - val_loss: 1.3956 - val_acc: 0.2444\n"
       ]
      },
      {
       "output_type": "stream",
       "stream": "stdout",
       "text": [
        "Epoch 56/110\n",
        "0s - loss: 1.3959 - acc: 0.2503 - val_loss: 1.3950 - val_acc: 0.2444\n"
       ]
      },
      {
       "output_type": "stream",
       "stream": "stdout",
       "text": [
        "Epoch 57/110\n",
        "0s - loss: 1.3952 - acc: 0.2503 - val_loss: 1.3943 - val_acc: 0.2444\n"
       ]
      },
      {
       "output_type": "stream",
       "stream": "stdout",
       "text": [
        "Epoch 58/110\n",
        "0s - loss: 1.3946 - acc: 0.2503 - val_loss: 1.3938 - val_acc: 0.2444\n"
       ]
      },
      {
       "output_type": "stream",
       "stream": "stdout",
       "text": [
        "Epoch 59/110\n",
        "0s - loss: 1.3940 - acc: 0.2503 - val_loss: 1.3932 - val_acc: 0.2444\n"
       ]
      },
      {
       "output_type": "stream",
       "stream": "stdout",
       "text": [
        "Epoch 60/110\n",
        "0s - loss: 1.3935 - acc: 0.2503 - val_loss: 1.3927 - val_acc: 0.2444\n"
       ]
      },
      {
       "output_type": "stream",
       "stream": "stdout",
       "text": [
        "Epoch 61/110\n",
        "0s - loss: 1.3930 - acc: 0.2503 - val_loss: 1.3922 - val_acc: 0.2444\n"
       ]
      },
      {
       "output_type": "stream",
       "stream": "stdout",
       "text": [
        "Epoch 62/110\n",
        "0s - loss: 1.3925 - acc: 0.2503 - val_loss: 1.3918 - val_acc: 0.2444\n"
       ]
      },
      {
       "output_type": "stream",
       "stream": "stdout",
       "text": [
        "Epoch 63/110\n",
        "0s - loss: 1.3921 - acc: 0.2503 - val_loss: 1.3914 - val_acc: 0.2444\n"
       ]
      },
      {
       "output_type": "stream",
       "stream": "stdout",
       "text": [
        "Epoch 64/110\n",
        "0s - loss: 1.3917 - acc: 0.2503 - val_loss: 1.3910 - val_acc: 0.2444\n"
       ]
      },
      {
       "output_type": "stream",
       "stream": "stdout",
       "text": [
        "Epoch 65/110\n",
        "0s - loss: 1.3913 - acc: 0.2503 - val_loss: 1.3907 - val_acc: 0.2444\n"
       ]
      },
      {
       "output_type": "stream",
       "stream": "stdout",
       "text": [
        "Epoch 66/110\n",
        "0s - loss: 1.3909 - acc: 0.2503 - val_loss: 1.3903 - val_acc: 0.2444\n"
       ]
      },
      {
       "output_type": "stream",
       "stream": "stdout",
       "text": [
        "Epoch 67/110\n",
        "0s - loss: 1.3906 - acc: 0.2503 - val_loss: 1.3900 - val_acc: 0.2444\n"
       ]
      },
      {
       "output_type": "stream",
       "stream": "stdout",
       "text": [
        "Epoch 68/110\n",
        "0s - loss: 1.3903 - acc: 0.2503 - val_loss: 1.3897 - val_acc: 0.2444\n"
       ]
      },
      {
       "output_type": "stream",
       "stream": "stdout",
       "text": [
        "Epoch 69/110\n",
        "0s - loss: 1.3900 - acc: 0.2503 - val_loss: 1.3895 - val_acc: 0.2444\n"
       ]
      },
      {
       "output_type": "stream",
       "stream": "stdout",
       "text": [
        "Epoch 70/110\n",
        "0s - loss: 1.3897 - acc: 0.2503 - val_loss: 1.3892 - val_acc: 0.2444\n"
       ]
      },
      {
       "output_type": "stream",
       "stream": "stdout",
       "text": [
        "Epoch 71/110\n",
        "0s - loss: 1.3895 - acc: 0.2503 - val_loss: 1.3890 - val_acc: 0.2444\n"
       ]
      },
      {
       "output_type": "stream",
       "stream": "stdout",
       "text": [
        "Epoch 72/110\n",
        "0s - loss: 1.3892 - acc: 0.2503 - val_loss: 1.3888 - val_acc: 0.2444\n"
       ]
      },
      {
       "output_type": "stream",
       "stream": "stdout",
       "text": [
        "Epoch 73/110\n",
        "0s - loss: 1.3890 - acc: 0.2503 - val_loss: 1.3886 - val_acc: 0.2444\n"
       ]
      },
      {
       "output_type": "stream",
       "stream": "stdout",
       "text": [
        "Epoch 74/110\n",
        "0s - loss: 1.3888 - acc: 0.2503 - val_loss: 1.3884 - val_acc: 0.2444\n"
       ]
      },
      {
       "output_type": "stream",
       "stream": "stdout",
       "text": [
        "Epoch 75/110\n",
        "0s - loss: 1.3886 - acc: 0.2503 - val_loss: 1.3883 - val_acc: 0.2444\n"
       ]
      },
      {
       "output_type": "stream",
       "stream": "stdout",
       "text": [
        "Epoch 76/110\n",
        "0s - loss: 1.3885 - acc: 0.2503 - val_loss: 1.3881 - val_acc: 0.2444\n"
       ]
      },
      {
       "output_type": "stream",
       "stream": "stdout",
       "text": [
        "Epoch 77/110\n",
        "0s - loss: 1.3883 - acc: 0.2503 - val_loss: 1.3880 - val_acc: 0.2444\n"
       ]
      },
      {
       "output_type": "stream",
       "stream": "stdout",
       "text": [
        "Epoch 78/110\n",
        "0s - loss: 1.3881 - acc: 0.2503 - val_loss: 1.3878 - val_acc: 0.2444\n"
       ]
      },
      {
       "output_type": "stream",
       "stream": "stdout",
       "text": [
        "Epoch 79/110\n",
        "0s - loss: 1.3880 - acc: 0.2503 - val_loss: 1.3877 - val_acc: 0.2444\n"
       ]
      },
      {
       "output_type": "stream",
       "stream": "stdout",
       "text": [
        "Epoch 80/110\n",
        "0s - loss: 1.3879 - acc: 0.2503 - val_loss: 1.3876 - val_acc: 0.2444\n"
       ]
      },
      {
       "output_type": "stream",
       "stream": "stdout",
       "text": [
        "Epoch 81/110\n",
        "0s - loss: 1.3878 - acc: 0.2503 - val_loss: 1.3875 - val_acc: 0.2444\n"
       ]
      },
      {
       "output_type": "stream",
       "stream": "stdout",
       "text": [
        "Epoch 82/110\n",
        "0s - loss: 1.3877 - acc: 0.2503 - val_loss: 1.3874 - val_acc: 0.2444\n"
       ]
      },
      {
       "output_type": "stream",
       "stream": "stdout",
       "text": [
        "Epoch 83/110\n",
        "0s - loss: 1.3876 - acc: 0.2503 - val_loss: 1.3873 - val_acc: 0.2444\n"
       ]
      },
      {
       "output_type": "stream",
       "stream": "stdout",
       "text": [
        "Epoch 84/110\n",
        "0s - loss: 1.3875 - acc: 0.2503 - val_loss: 1.3872 - val_acc: 0.2444\n"
       ]
      },
      {
       "output_type": "stream",
       "stream": "stdout",
       "text": [
        "Epoch 85/110\n",
        "0s - loss: 1.3874 - acc: 0.2503 - val_loss: 1.3871 - val_acc: 0.2444\n"
       ]
      },
      {
       "output_type": "stream",
       "stream": "stdout",
       "text": [
        "Epoch 86/110\n",
        "0s - loss: 1.3873 - acc: 0.2503 - val_loss: 1.3871 - val_acc: 0.2444\n"
       ]
      },
      {
       "output_type": "stream",
       "stream": "stdout",
       "text": [
        "Epoch 87/110\n",
        "0s - loss: 1.3872 - acc: 0.2503 - val_loss: 1.3870 - val_acc: 0.2444\n"
       ]
      },
      {
       "output_type": "stream",
       "stream": "stdout",
       "text": [
        "Epoch 88/110\n",
        "0s - loss: 1.3871 - acc: 0.2503 - val_loss: 1.3870 - val_acc: 0.2444\n"
       ]
      },
      {
       "output_type": "stream",
       "stream": "stdout",
       "text": [
        "Epoch 89/110\n",
        "0s - loss: 1.3871 - acc: 0.2503 - val_loss: 1.3869 - val_acc: 0.2444\n"
       ]
      },
      {
       "output_type": "stream",
       "stream": "stdout",
       "text": [
        "Epoch 90/110\n",
        "0s - loss: 1.3870 - acc: 0.2503 - val_loss: 1.3868 - val_acc: 0.2444\n"
       ]
      },
      {
       "output_type": "stream",
       "stream": "stdout",
       "text": [
        "Epoch 91/110\n",
        "0s - loss: 1.3870 - acc: 0.2503 - val_loss: 1.3868 - val_acc: 0.2444\n"
       ]
      },
      {
       "output_type": "stream",
       "stream": "stdout",
       "text": [
        "Epoch 92/110\n",
        "0s - loss: 1.3869 - acc: 0.2503 - val_loss: 1.3868 - val_acc: 0.2444\n"
       ]
      },
      {
       "output_type": "stream",
       "stream": "stdout",
       "text": [
        "Epoch 93/110\n",
        "0s - loss: 1.3869 - acc: 0.2503 - val_loss: 1.3867 - val_acc: 0.2444\n"
       ]
      },
      {
       "output_type": "stream",
       "stream": "stdout",
       "text": [
        "Epoch 94/110\n",
        "0s - loss: 1.3868 - acc: 0.2503 - val_loss: 1.3867 - val_acc: 0.2444\n"
       ]
      },
      {
       "output_type": "stream",
       "stream": "stdout",
       "text": [
        "Epoch 95/110\n",
        "0s - loss: 1.3868 - acc: 0.2503 - val_loss: 1.3866 - val_acc: 0.2444\n"
       ]
      },
      {
       "output_type": "stream",
       "stream": "stdout",
       "text": [
        "Epoch 96/110\n",
        "0s - loss: 1.3867 - acc: 0.2503 - val_loss: 1.3866 - val_acc: 0.2444\n"
       ]
      },
      {
       "output_type": "stream",
       "stream": "stdout",
       "text": [
        "Epoch 97/110\n",
        "0s - loss: 1.3867 - acc: 0.2503 - val_loss: 1.3866 - val_acc: 0.2444\n"
       ]
      },
      {
       "output_type": "stream",
       "stream": "stdout",
       "text": [
        "Epoch 98/110\n",
        "0s - loss: 1.3867 - acc: 0.2503 - val_loss: 1.3866 - val_acc: 0.2444\n"
       ]
      },
      {
       "output_type": "stream",
       "stream": "stdout",
       "text": [
        "Epoch 99/110\n",
        "0s - loss: 1.3867 - acc: 0.2503 - val_loss: 1.3865 - val_acc: 0.2444\n"
       ]
      },
      {
       "output_type": "stream",
       "stream": "stdout",
       "text": [
        "Epoch 100/110\n",
        "0s - loss: 1.3866 - acc: 0.2503 - val_loss: 1.3865 - val_acc: 0.2444\n"
       ]
      },
      {
       "output_type": "stream",
       "stream": "stdout",
       "text": [
        "Epoch 101/110\n",
        "0s - loss: 1.3866 - acc: 0.2503 - val_loss: 1.3865 - val_acc: 0.2444\n"
       ]
      },
      {
       "output_type": "stream",
       "stream": "stdout",
       "text": [
        "Epoch 102/110\n",
        "0s - loss: 1.3866 - acc: 0.2503 - val_loss: 1.3865 - val_acc: 0.2444\n"
       ]
      },
      {
       "output_type": "stream",
       "stream": "stdout",
       "text": [
        "Epoch 103/110\n",
        "0s - loss: 1.3866 - acc: 0.2503 - val_loss: 1.3865 - val_acc: 0.2444\n"
       ]
      },
      {
       "output_type": "stream",
       "stream": "stdout",
       "text": [
        "Epoch 104/110\n",
        "0s - loss: 1.3865 - acc: 0.2503 - val_loss: 1.3864 - val_acc: 0.2444\n"
       ]
      },
      {
       "output_type": "stream",
       "stream": "stdout",
       "text": [
        "Epoch 105/110\n",
        "0s - loss: 1.3865 - acc: 0.2503 - val_loss: 1.3864 - val_acc: 0.2444\n"
       ]
      },
      {
       "output_type": "stream",
       "stream": "stdout",
       "text": [
        "Epoch 106/110\n",
        "0s - loss: 1.3865 - acc: 0.2503 - val_loss: 1.3864 - val_acc: 0.2444\n"
       ]
      },
      {
       "output_type": "stream",
       "stream": "stdout",
       "text": [
        "Epoch 107/110\n",
        "0s - loss: 1.3865 - acc: 0.2503 - val_loss: 1.3864 - val_acc: 0.2444\n"
       ]
      },
      {
       "output_type": "stream",
       "stream": "stdout",
       "text": [
        "Epoch 108/110\n",
        "0s - loss: 1.3865 - acc: 0.2503 - val_loss: 1.3864 - val_acc: 0.2444\n"
       ]
      },
      {
       "output_type": "stream",
       "stream": "stdout",
       "text": [
        "Epoch 109/110\n",
        "0s - loss: 1.3865 - acc: 0.2503 - val_loss: 1.3864 - val_acc: 0.2444\n"
       ]
      },
      {
       "output_type": "stream",
       "stream": "stdout",
       "text": [
        "Epoch 110/110\n",
        "0s - loss: 1.3864 - acc: 0.2503 - val_loss: 1.3864 - val_acc: 0.2444\n"
       ]
      },
      {
       "output_type": "stream",
       "stream": "stdout",
       "text": [
        "\r",
        " 5000/20000 [======>.......................] - ETA: 0s"
       ]
      },
      {
       "output_type": "stream",
       "stream": "stdout",
       "text": [
        "\b\b\b\b\b\b\b\b\b\b\b\b\b\b\b\b\b\b\b\b\b\b\b\b\b\b\b\b\b\b\b\b\b\b\b\b\b\b\b\b\b\b\b\b\b\b\b\b\b\b\b\b\b\b\r",
        "15000/20000 [=====================>........] - ETA: 0s"
       ]
      },
      {
       "output_type": "stream",
       "stream": "stdout",
       "text": [
        "\r",
        " 5000/20000 [======>.......................] - ETA: 0s"
       ]
      },
      {
       "output_type": "stream",
       "stream": "stdout",
       "text": [
        "\b\b\b\b\b\b\b\b\b\b\b\b\b\b\b\b\b\b\b\b\b\b\b\b\b\b\b\b\b\b\b\b\b\b\b\b\b\b\b\b\b\b\b\b\b\b\b\b\b\b\b\b\b\b\r",
        "15000/20000 [=====================>........] - ETA: 0s"
       ]
      },
      {
       "output_type": "stream",
       "stream": "stdout",
       "text": [
        "Train on 80000 samples, validate on 20000 samples\n",
        "Epoch 1/120\n",
        "0s - loss: 1.0252 - acc: 0.2492 - val_loss: 1.0258 - val_acc: 0.2551\n"
       ]
      },
      {
       "output_type": "stream",
       "stream": "stdout",
       "text": [
        "Epoch 2/120\n",
        "0s - loss: 1.0185 - acc: 0.2492 - val_loss: 1.0192 - val_acc: 0.2551\n"
       ]
      },
      {
       "output_type": "stream",
       "stream": "stdout",
       "text": [
        "Epoch 3/120\n",
        "0s - loss: 1.0121 - acc: 0.2492 - val_loss: 1.0130 - val_acc: 0.2551\n"
       ]
      },
      {
       "output_type": "stream",
       "stream": "stdout",
       "text": [
        "Epoch 4/120\n",
        "0s - loss: 1.0061 - acc: 0.2492 - val_loss: 1.0072 - val_acc: 0.2551\n"
       ]
      },
      {
       "output_type": "stream",
       "stream": "stdout",
       "text": [
        "Epoch 5/120\n",
        "0s - loss: 1.0005 - acc: 0.2492 - val_loss: 1.0016 - val_acc: 0.2551\n"
       ]
      },
      {
       "output_type": "stream",
       "stream": "stdout",
       "text": [
        "Epoch 6/120\n",
        "0s - loss: 0.9951 - acc: 0.2492 - val_loss: 0.9964 - val_acc: 0.2551\n"
       ]
      },
      {
       "output_type": "stream",
       "stream": "stdout",
       "text": [
        "Epoch 7/120\n",
        "0s - loss: 0.9900 - acc: 0.2492 - val_loss: 0.9914 - val_acc: 0.2551\n"
       ]
      },
      {
       "output_type": "stream",
       "stream": "stdout",
       "text": [
        "Epoch 8/120\n",
        "0s - loss: 0.9852 - acc: 0.2492 - val_loss: 0.9867 - val_acc: 0.2551\n"
       ]
      },
      {
       "output_type": "stream",
       "stream": "stdout",
       "text": [
        "Epoch 9/120\n",
        "0s - loss: 0.9806 - acc: 0.2494 - val_loss: 0.9822 - val_acc: 0.2515\n"
       ]
      },
      {
       "output_type": "stream",
       "stream": "stdout",
       "text": [
        "Epoch 10/120\n",
        "0s - loss: 0.9762 - acc: 0.2514 - val_loss: 0.9779 - val_acc: 0.2515\n"
       ]
      },
      {
       "output_type": "stream",
       "stream": "stdout",
       "text": [
        "Epoch 11/120\n",
        "0s - loss: 0.9720 - acc: 0.2514 - val_loss: 0.9739 - val_acc: 0.2515\n"
       ]
      },
      {
       "output_type": "stream",
       "stream": "stdout",
       "text": [
        "Epoch 12/120\n",
        "0s - loss: 0.9681 - acc: 0.2514 - val_loss: 0.9700 - val_acc: 0.2515\n"
       ]
      },
      {
       "output_type": "stream",
       "stream": "stdout",
       "text": [
        "Epoch 13/120\n",
        "0s - loss: 0.9643 - acc: 0.2514 - val_loss: 0.9663 - val_acc: 0.2515\n"
       ]
      },
      {
       "output_type": "stream",
       "stream": "stdout",
       "text": [
        "Epoch 14/120\n",
        "0s - loss: 0.9607 - acc: 0.2514 - val_loss: 0.9628 - val_acc: 0.2515\n"
       ]
      },
      {
       "output_type": "stream",
       "stream": "stdout",
       "text": [
        "Epoch 15/120\n",
        "0s - loss: 0.9572 - acc: 0.2514 - val_loss: 0.9594 - val_acc: 0.2515\n"
       ]
      },
      {
       "output_type": "stream",
       "stream": "stdout",
       "text": [
        "Epoch 16/120\n",
        "0s - loss: 0.9539 - acc: 0.2514 - val_loss: 0.9561 - val_acc: 0.2515\n"
       ]
      },
      {
       "output_type": "stream",
       "stream": "stdout",
       "text": [
        "Epoch 17/120\n",
        "0s - loss: 0.9508 - acc: 0.2514 - val_loss: 0.9530 - val_acc: 0.2515\n"
       ]
      },
      {
       "output_type": "stream",
       "stream": "stdout",
       "text": [
        "Epoch 18/120\n",
        "0s - loss: 0.9478 - acc: 0.2514 - val_loss: 0.9501 - val_acc: 0.2515\n"
       ]
      },
      {
       "output_type": "stream",
       "stream": "stdout",
       "text": [
        "Epoch 19/120\n",
        "0s - loss: 0.9449 - acc: 0.2514 - val_loss: 0.9472 - val_acc: 0.2515\n"
       ]
      },
      {
       "output_type": "stream",
       "stream": "stdout",
       "text": [
        "Epoch 20/120\n",
        "0s - loss: 0.9421 - acc: 0.2514 - val_loss: 0.9445 - val_acc: 0.2515\n"
       ]
      },
      {
       "output_type": "stream",
       "stream": "stdout",
       "text": [
        "Epoch 21/120\n",
        "0s - loss: 0.9394 - acc: 0.2514 - val_loss: 0.9419 - val_acc: 0.2515\n"
       ]
      },
      {
       "output_type": "stream",
       "stream": "stdout",
       "text": [
        "Epoch 22/120\n",
        "0s - loss: 0.9369 - acc: 0.2514 - val_loss: 0.9394 - val_acc: 0.2515\n"
       ]
      },
      {
       "output_type": "stream",
       "stream": "stdout",
       "text": [
        "Epoch 23/120\n",
        "0s - loss: 0.9344 - acc: 0.2514 - val_loss: 0.9370 - val_acc: 0.2515\n"
       ]
      },
      {
       "output_type": "stream",
       "stream": "stdout",
       "text": [
        "Epoch 24/120\n",
        "0s - loss: 0.9321 - acc: 0.2514 - val_loss: 0.9346 - val_acc: 0.2515\n"
       ]
      },
      {
       "output_type": "stream",
       "stream": "stdout",
       "text": [
        "Epoch 25/120\n",
        "0s - loss: 0.9298 - acc: 0.2514 - val_loss: 0.9324 - val_acc: 0.2515\n"
       ]
      },
      {
       "output_type": "stream",
       "stream": "stdout",
       "text": [
        "Epoch 26/120\n",
        "0s - loss: 0.9276 - acc: 0.2514 - val_loss: 0.9302 - val_acc: 0.2515\n"
       ]
      },
      {
       "output_type": "stream",
       "stream": "stdout",
       "text": [
        "Epoch 27/120\n",
        "0s - loss: 0.9255 - acc: 0.2514 - val_loss: 0.9282 - val_acc: 0.2515\n"
       ]
      },
      {
       "output_type": "stream",
       "stream": "stdout",
       "text": [
        "Epoch 28/120\n",
        "0s - loss: 0.9234 - acc: 0.2514 - val_loss: 0.9262 - val_acc: 0.2515\n"
       ]
      },
      {
       "output_type": "stream",
       "stream": "stdout",
       "text": [
        "Epoch 29/120\n",
        "0s - loss: 0.9215 - acc: 0.2514 - val_loss: 0.9242 - val_acc: 0.2515\n"
       ]
      },
      {
       "output_type": "stream",
       "stream": "stdout",
       "text": [
        "Epoch 30/120\n",
        "0s - loss: 0.9196 - acc: 0.2514 - val_loss: 0.9224 - val_acc: 0.2515\n"
       ]
      },
      {
       "output_type": "stream",
       "stream": "stdout",
       "text": [
        "Epoch 31/120\n",
        "0s - loss: 0.9178 - acc: 0.2514 - val_loss: 0.9205 - val_acc: 0.2515\n"
       ]
      },
      {
       "output_type": "stream",
       "stream": "stdout",
       "text": [
        "Epoch 32/120\n",
        "0s - loss: 0.9160 - acc: 0.2514 - val_loss: 0.9188 - val_acc: 0.2515\n"
       ]
      },
      {
       "output_type": "stream",
       "stream": "stdout",
       "text": [
        "Epoch 33/120\n",
        "0s - loss: 0.9143 - acc: 0.2514 - val_loss: 0.9171 - val_acc: 0.2515\n"
       ]
      },
      {
       "output_type": "stream",
       "stream": "stdout",
       "text": [
        "Epoch 34/120\n",
        "0s - loss: 0.9126 - acc: 0.2514 - val_loss: 0.9155 - val_acc: 0.2515\n"
       ]
      },
      {
       "output_type": "stream",
       "stream": "stdout",
       "text": [
        "Epoch 35/120\n",
        "0s - loss: 0.9110 - acc: 0.2514 - val_loss: 0.9139 - val_acc: 0.2515\n"
       ]
      },
      {
       "output_type": "stream",
       "stream": "stdout",
       "text": [
        "Epoch 36/120\n",
        "0s - loss: 0.9095 - acc: 0.2514 - val_loss: 0.9124 - val_acc: 0.2515\n"
       ]
      },
      {
       "output_type": "stream",
       "stream": "stdout",
       "text": [
        "Epoch 37/120\n",
        "0s - loss: 0.9080 - acc: 0.2514 - val_loss: 0.9109 - val_acc: 0.2515\n"
       ]
      },
      {
       "output_type": "stream",
       "stream": "stdout",
       "text": [
        "Epoch 38/120\n",
        "0s - loss: 0.9065 - acc: 0.2514 - val_loss: 0.9095 - val_acc: 0.2515\n"
       ]
      },
      {
       "output_type": "stream",
       "stream": "stdout",
       "text": [
        "Epoch 39/120\n",
        "0s - loss: 0.9051 - acc: 0.2514 - val_loss: 0.9081 - val_acc: 0.2515\n"
       ]
      },
      {
       "output_type": "stream",
       "stream": "stdout",
       "text": [
        "Epoch 40/120\n",
        "0s - loss: 0.9038 - acc: 0.2514 - val_loss: 0.9067 - val_acc: 0.2515\n"
       ]
      },
      {
       "output_type": "stream",
       "stream": "stdout",
       "text": [
        "Epoch 41/120\n",
        "0s - loss: 0.9024 - acc: 0.2514 - val_loss: 0.9054 - val_acc: 0.2515\n"
       ]
      },
      {
       "output_type": "stream",
       "stream": "stdout",
       "text": [
        "Epoch 42/120\n",
        "0s - loss: 0.9011 - acc: 0.2514 - val_loss: 0.9041 - val_acc: 0.2515\n"
       ]
      },
      {
       "output_type": "stream",
       "stream": "stdout",
       "text": [
        "Epoch 43/120\n",
        "0s - loss: 0.8999 - acc: 0.2514 - val_loss: 0.9029 - val_acc: 0.2515\n"
       ]
      },
      {
       "output_type": "stream",
       "stream": "stdout",
       "text": [
        "Epoch 44/120\n",
        "0s - loss: 0.8987 - acc: 0.2514 - val_loss: 0.9017 - val_acc: 0.2515\n"
       ]
      },
      {
       "output_type": "stream",
       "stream": "stdout",
       "text": [
        "Epoch 45/120\n",
        "0s - loss: 0.8975 - acc: 0.2514 - val_loss: 0.9006 - val_acc: 0.2515\n"
       ]
      },
      {
       "output_type": "stream",
       "stream": "stdout",
       "text": [
        "Epoch 46/120\n",
        "0s - loss: 0.8964 - acc: 0.2514 - val_loss: 0.8994 - val_acc: 0.2515\n"
       ]
      },
      {
       "output_type": "stream",
       "stream": "stdout",
       "text": [
        "Epoch 47/120\n",
        "0s - loss: 0.8952 - acc: 0.2514 - val_loss: 0.8983 - val_acc: 0.2515\n"
       ]
      },
      {
       "output_type": "stream",
       "stream": "stdout",
       "text": [
        "Epoch 48/120\n",
        "0s - loss: 0.8942 - acc: 0.2514 - val_loss: 0.8972 - val_acc: 0.2515\n"
       ]
      },
      {
       "output_type": "stream",
       "stream": "stdout",
       "text": [
        "Epoch 49/120\n",
        "0s - loss: 0.8931 - acc: 0.2514 - val_loss: 0.8962 - val_acc: 0.2515\n"
       ]
      },
      {
       "output_type": "stream",
       "stream": "stdout",
       "text": [
        "Epoch 50/120\n",
        "0s - loss: 0.8921 - acc: 0.2514 - val_loss: 0.8952 - val_acc: 0.2515\n"
       ]
      },
      {
       "output_type": "stream",
       "stream": "stdout",
       "text": [
        "Epoch 51/120\n",
        "0s - loss: 0.8911 - acc: 0.2514 - val_loss: 0.8942 - val_acc: 0.2515\n"
       ]
      },
      {
       "output_type": "stream",
       "stream": "stdout",
       "text": [
        "Epoch 52/120\n",
        "0s - loss: 0.8901 - acc: 0.2514 - val_loss: 0.8932 - val_acc: 0.2515\n"
       ]
      },
      {
       "output_type": "stream",
       "stream": "stdout",
       "text": [
        "Epoch 53/120\n",
        "0s - loss: 0.8892 - acc: 0.2514 - val_loss: 0.8923 - val_acc: 0.2515\n"
       ]
      },
      {
       "output_type": "stream",
       "stream": "stdout",
       "text": [
        "Epoch 54/120\n",
        "0s - loss: 0.8882 - acc: 0.2514 - val_loss: 0.8914 - val_acc: 0.2515\n"
       ]
      },
      {
       "output_type": "stream",
       "stream": "stdout",
       "text": [
        "Epoch 55/120\n",
        "0s - loss: 0.8873 - acc: 0.2514 - val_loss: 0.8905 - val_acc: 0.2515\n"
       ]
      },
      {
       "output_type": "stream",
       "stream": "stdout",
       "text": [
        "Epoch 56/120\n",
        "0s - loss: 0.8865 - acc: 0.2514 - val_loss: 0.8896 - val_acc: 0.2515\n"
       ]
      },
      {
       "output_type": "stream",
       "stream": "stdout",
       "text": [
        "Epoch 57/120\n",
        "0s - loss: 0.8856 - acc: 0.2514 - val_loss: 0.8888 - val_acc: 0.2515\n"
       ]
      },
      {
       "output_type": "stream",
       "stream": "stdout",
       "text": [
        "Epoch 58/120\n",
        "0s - loss: 0.8848 - acc: 0.2514 - val_loss: 0.8879 - val_acc: 0.2515\n"
       ]
      },
      {
       "output_type": "stream",
       "stream": "stdout",
       "text": [
        "Epoch 59/120\n",
        "0s - loss: 0.8840 - acc: 0.2514 - val_loss: 0.8871 - val_acc: 0.2515\n"
       ]
      },
      {
       "output_type": "stream",
       "stream": "stdout",
       "text": [
        "Epoch 60/120\n",
        "0s - loss: 0.8832 - acc: 0.2514 - val_loss: 0.8863 - val_acc: 0.2515\n"
       ]
      },
      {
       "output_type": "stream",
       "stream": "stdout",
       "text": [
        "Epoch 61/120\n",
        "0s - loss: 0.8824 - acc: 0.2514 - val_loss: 0.8856 - val_acc: 0.2515\n"
       ]
      },
      {
       "output_type": "stream",
       "stream": "stdout",
       "text": [
        "Epoch 62/120\n",
        "0s - loss: 0.8816 - acc: 0.2514 - val_loss: 0.8848 - val_acc: 0.2515\n"
       ]
      },
      {
       "output_type": "stream",
       "stream": "stdout",
       "text": [
        "Epoch 63/120\n",
        "0s - loss: 0.8809 - acc: 0.2514 - val_loss: 0.8841 - val_acc: 0.2515\n"
       ]
      },
      {
       "output_type": "stream",
       "stream": "stdout",
       "text": [
        "Epoch 64/120\n",
        "0s - loss: 0.8802 - acc: 0.2514 - val_loss: 0.8834 - val_acc: 0.2515\n"
       ]
      },
      {
       "output_type": "stream",
       "stream": "stdout",
       "text": [
        "Epoch 65/120\n",
        "0s - loss: 0.8794 - acc: 0.2514 - val_loss: 0.8827 - val_acc: 0.2515\n"
       ]
      },
      {
       "output_type": "stream",
       "stream": "stdout",
       "text": [
        "Epoch 66/120\n",
        "0s - loss: 0.8788 - acc: 0.2514 - val_loss: 0.8820 - val_acc: 0.2515\n"
       ]
      },
      {
       "output_type": "stream",
       "stream": "stdout",
       "text": [
        "Epoch 67/120\n",
        "0s - loss: 0.8781 - acc: 0.2514 - val_loss: 0.8813 - val_acc: 0.2515\n"
       ]
      },
      {
       "output_type": "stream",
       "stream": "stdout",
       "text": [
        "Epoch 68/120\n",
        "0s - loss: 0.8774 - acc: 0.2514 - val_loss: 0.8806 - val_acc: 0.2515\n"
       ]
      },
      {
       "output_type": "stream",
       "stream": "stdout",
       "text": [
        "Epoch 69/120\n",
        "0s - loss: 0.8768 - acc: 0.2514 - val_loss: 0.8800 - val_acc: 0.2515\n"
       ]
      },
      {
       "output_type": "stream",
       "stream": "stdout",
       "text": [
        "Epoch 70/120\n",
        "0s - loss: 0.8761 - acc: 0.2514 - val_loss: 0.8794 - val_acc: 0.2515\n"
       ]
      },
      {
       "output_type": "stream",
       "stream": "stdout",
       "text": [
        "Epoch 71/120\n",
        "0s - loss: 0.8755 - acc: 0.2514 - val_loss: 0.8787 - val_acc: 0.2515\n"
       ]
      },
      {
       "output_type": "stream",
       "stream": "stdout",
       "text": [
        "Epoch 72/120\n",
        "0s - loss: 0.8749 - acc: 0.2514 - val_loss: 0.8781 - val_acc: 0.2515\n"
       ]
      },
      {
       "output_type": "stream",
       "stream": "stdout",
       "text": [
        "Epoch 73/120\n",
        "0s - loss: 0.8743 - acc: 0.2514 - val_loss: 0.8775 - val_acc: 0.2515\n"
       ]
      },
      {
       "output_type": "stream",
       "stream": "stdout",
       "text": [
        "Epoch 74/120\n",
        "0s - loss: 0.8737 - acc: 0.2514 - val_loss: 0.8770 - val_acc: 0.2515\n"
       ]
      },
      {
       "output_type": "stream",
       "stream": "stdout",
       "text": [
        "Epoch 75/120\n",
        "0s - loss: 0.8732 - acc: 0.2514 - val_loss: 0.8764 - val_acc: 0.2515\n"
       ]
      },
      {
       "output_type": "stream",
       "stream": "stdout",
       "text": [
        "Epoch 76/120\n",
        "0s - loss: 0.8726 - acc: 0.2514 - val_loss: 0.8758 - val_acc: 0.2515\n"
       ]
      },
      {
       "output_type": "stream",
       "stream": "stdout",
       "text": [
        "Epoch 77/120\n",
        "0s - loss: 0.8720 - acc: 0.2514 - val_loss: 0.8753 - val_acc: 0.2515\n"
       ]
      },
      {
       "output_type": "stream",
       "stream": "stdout",
       "text": [
        "Epoch 78/120\n",
        "0s - loss: 0.8715 - acc: 0.2514 - val_loss: 0.8748 - val_acc: 0.2515\n"
       ]
      },
      {
       "output_type": "stream",
       "stream": "stdout",
       "text": [
        "Epoch 79/120\n",
        "0s - loss: 0.8710 - acc: 0.2514 - val_loss: 0.8742 - val_acc: 0.2515\n"
       ]
      },
      {
       "output_type": "stream",
       "stream": "stdout",
       "text": [
        "Epoch 80/120\n",
        "0s - loss: 0.8705 - acc: 0.2514 - val_loss: 0.8737 - val_acc: 0.2515\n"
       ]
      },
      {
       "output_type": "stream",
       "stream": "stdout",
       "text": [
        "Epoch 81/120\n",
        "0s - loss: 0.8700 - acc: 0.2514 - val_loss: 0.8732 - val_acc: 0.2515\n"
       ]
      },
      {
       "output_type": "stream",
       "stream": "stdout",
       "text": [
        "Epoch 82/120\n",
        "0s - loss: 0.8695 - acc: 0.2514 - val_loss: 0.8727 - val_acc: 0.2515\n"
       ]
      },
      {
       "output_type": "stream",
       "stream": "stdout",
       "text": [
        "Epoch 83/120\n",
        "0s - loss: 0.8690 - acc: 0.2514 - val_loss: 0.8722 - val_acc: 0.2515\n"
       ]
      },
      {
       "output_type": "stream",
       "stream": "stdout",
       "text": [
        "Epoch 84/120\n",
        "0s - loss: 0.8685 - acc: 0.2514 - val_loss: 0.8718 - val_acc: 0.2515\n"
       ]
      },
      {
       "output_type": "stream",
       "stream": "stdout",
       "text": [
        "Epoch 85/120\n",
        "0s - loss: 0.8680 - acc: 0.2514 - val_loss: 0.8713 - val_acc: 0.2515\n"
       ]
      },
      {
       "output_type": "stream",
       "stream": "stdout",
       "text": [
        "Epoch 86/120\n",
        "0s - loss: 0.8676 - acc: 0.2514 - val_loss: 0.8708 - val_acc: 0.2515\n"
       ]
      },
      {
       "output_type": "stream",
       "stream": "stdout",
       "text": [
        "Epoch 87/120\n",
        "0s - loss: 0.8671 - acc: 0.2514 - val_loss: 0.8704 - val_acc: 0.2515\n"
       ]
      },
      {
       "output_type": "stream",
       "stream": "stdout",
       "text": [
        "Epoch 88/120\n",
        "0s - loss: 0.8667 - acc: 0.2514 - val_loss: 0.8699 - val_acc: 0.2515\n"
       ]
      },
      {
       "output_type": "stream",
       "stream": "stdout",
       "text": [
        "Epoch 89/120\n",
        "0s - loss: 0.8662 - acc: 0.2514 - val_loss: 0.8695 - val_acc: 0.2515\n"
       ]
      },
      {
       "output_type": "stream",
       "stream": "stdout",
       "text": [
        "Epoch 90/120\n",
        "0s - loss: 0.8658 - acc: 0.2514 - val_loss: 0.8691 - val_acc: 0.2515\n"
       ]
      },
      {
       "output_type": "stream",
       "stream": "stdout",
       "text": [
        "Epoch 91/120\n",
        "0s - loss: 0.8654 - acc: 0.2514 - val_loss: 0.8687 - val_acc: 0.2515\n"
       ]
      },
      {
       "output_type": "stream",
       "stream": "stdout",
       "text": [
        "Epoch 92/120\n",
        "0s - loss: 0.8650 - acc: 0.2514 - val_loss: 0.8683 - val_acc: 0.2515\n"
       ]
      },
      {
       "output_type": "stream",
       "stream": "stdout",
       "text": [
        "Epoch 93/120\n",
        "0s - loss: 0.8646 - acc: 0.2514 - val_loss: 0.8679 - val_acc: 0.2515\n"
       ]
      },
      {
       "output_type": "stream",
       "stream": "stdout",
       "text": [
        "Epoch 94/120\n",
        "0s - loss: 0.8642 - acc: 0.2514 - val_loss: 0.8675 - val_acc: 0.2515\n"
       ]
      },
      {
       "output_type": "stream",
       "stream": "stdout",
       "text": [
        "Epoch 95/120\n",
        "0s - loss: 0.8638 - acc: 0.2514 - val_loss: 0.8671 - val_acc: 0.2515\n"
       ]
      },
      {
       "output_type": "stream",
       "stream": "stdout",
       "text": [
        "Epoch 96/120\n",
        "0s - loss: 0.8634 - acc: 0.2514 - val_loss: 0.8667 - val_acc: 0.2515\n"
       ]
      },
      {
       "output_type": "stream",
       "stream": "stdout",
       "text": [
        "Epoch 97/120\n",
        "0s - loss: 0.8630 - acc: 0.2514 - val_loss: 0.8663 - val_acc: 0.2515\n"
       ]
      },
      {
       "output_type": "stream",
       "stream": "stdout",
       "text": [
        "Epoch 98/120\n",
        "0s - loss: 0.8626 - acc: 0.2514 - val_loss: 0.8659 - val_acc: 0.2515\n"
       ]
      },
      {
       "output_type": "stream",
       "stream": "stdout",
       "text": [
        "Epoch 99/120\n",
        "0s - loss: 0.8623 - acc: 0.2514 - val_loss: 0.8656 - val_acc: 0.2515\n"
       ]
      },
      {
       "output_type": "stream",
       "stream": "stdout",
       "text": [
        "Epoch 100/120\n",
        "0s - loss: 0.8619 - acc: 0.2514 - val_loss: 0.8652 - val_acc: 0.2515\n"
       ]
      },
      {
       "output_type": "stream",
       "stream": "stdout",
       "text": [
        "Epoch 101/120\n",
        "0s - loss: 0.8615 - acc: 0.2514 - val_loss: 0.8649 - val_acc: 0.2515\n"
       ]
      },
      {
       "output_type": "stream",
       "stream": "stdout",
       "text": [
        "Epoch 102/120\n",
        "0s - loss: 0.8612 - acc: 0.2514 - val_loss: 0.8645 - val_acc: 0.2515\n"
       ]
      },
      {
       "output_type": "stream",
       "stream": "stdout",
       "text": [
        "Epoch 103/120\n",
        "0s - loss: 0.8608 - acc: 0.2514 - val_loss: 0.8642 - val_acc: 0.2515\n"
       ]
      },
      {
       "output_type": "stream",
       "stream": "stdout",
       "text": [
        "Epoch 104/120\n",
        "0s - loss: 0.8605 - acc: 0.2514 - val_loss: 0.8638 - val_acc: 0.2515\n"
       ]
      },
      {
       "output_type": "stream",
       "stream": "stdout",
       "text": [
        "Epoch 105/120\n",
        "0s - loss: 0.8602 - acc: 0.2514 - val_loss: 0.8635 - val_acc: 0.2515\n"
       ]
      },
      {
       "output_type": "stream",
       "stream": "stdout",
       "text": [
        "Epoch 106/120\n",
        "0s - loss: 0.8598 - acc: 0.2514 - val_loss: 0.8632 - val_acc: 0.2515\n"
       ]
      },
      {
       "output_type": "stream",
       "stream": "stdout",
       "text": [
        "Epoch 107/120\n",
        "0s - loss: 0.8595 - acc: 0.2514 - val_loss: 0.8628 - val_acc: 0.2515\n"
       ]
      },
      {
       "output_type": "stream",
       "stream": "stdout",
       "text": [
        "Epoch 108/120\n",
        "0s - loss: 0.8592 - acc: 0.2514 - val_loss: 0.8625 - val_acc: 0.2515\n"
       ]
      },
      {
       "output_type": "stream",
       "stream": "stdout",
       "text": [
        "Epoch 109/120\n",
        "0s - loss: 0.8589 - acc: 0.2514 - val_loss: 0.8622 - val_acc: 0.2515\n"
       ]
      },
      {
       "output_type": "stream",
       "stream": "stdout",
       "text": [
        "Epoch 110/120\n",
        "0s - loss: 0.8586 - acc: 0.2514 - val_loss: 0.8619 - val_acc: 0.2515\n"
       ]
      },
      {
       "output_type": "stream",
       "stream": "stdout",
       "text": [
        "Epoch 111/120\n",
        "0s - loss: 0.8583 - acc: 0.2514 - val_loss: 0.8616 - val_acc: 0.2515\n"
       ]
      },
      {
       "output_type": "stream",
       "stream": "stdout",
       "text": [
        "Epoch 112/120\n",
        "0s - loss: 0.8580 - acc: 0.2514 - val_loss: 0.8613 - val_acc: 0.2515\n"
       ]
      },
      {
       "output_type": "stream",
       "stream": "stdout",
       "text": [
        "Epoch 113/120\n",
        "0s - loss: 0.8577 - acc: 0.2514 - val_loss: 0.8610 - val_acc: 0.2515\n"
       ]
      },
      {
       "output_type": "stream",
       "stream": "stdout",
       "text": [
        "Epoch 114/120\n",
        "0s - loss: 0.8574 - acc: 0.2514 - val_loss: 0.8607 - val_acc: 0.2515\n"
       ]
      },
      {
       "output_type": "stream",
       "stream": "stdout",
       "text": [
        "Epoch 115/120\n",
        "0s - loss: 0.8571 - acc: 0.2514 - val_loss: 0.8604 - val_acc: 0.2515\n"
       ]
      },
      {
       "output_type": "stream",
       "stream": "stdout",
       "text": [
        "Epoch 116/120\n",
        "0s - loss: 0.8568 - acc: 0.2514 - val_loss: 0.8602 - val_acc: 0.2515\n"
       ]
      },
      {
       "output_type": "stream",
       "stream": "stdout",
       "text": [
        "Epoch 117/120\n",
        "0s - loss: 0.8566 - acc: 0.2514 - val_loss: 0.8599 - val_acc: 0.2515\n"
       ]
      },
      {
       "output_type": "stream",
       "stream": "stdout",
       "text": [
        "Epoch 118/120\n",
        "0s - loss: 0.8563 - acc: 0.2514 - val_loss: 0.8596 - val_acc: 0.2515\n"
       ]
      },
      {
       "output_type": "stream",
       "stream": "stdout",
       "text": [
        "Epoch 119/120\n",
        "0s - loss: 0.8560 - acc: 0.2514 - val_loss: 0.8594 - val_acc: 0.2515\n"
       ]
      },
      {
       "output_type": "stream",
       "stream": "stdout",
       "text": [
        "Epoch 120/120\n",
        "0s - loss: 0.8557 - acc: 0.2514 - val_loss: 0.8591 - val_acc: 0.2515\n"
       ]
      },
      {
       "output_type": "stream",
       "stream": "stdout",
       "text": [
        "\r",
        " 5000/20000 [======>.......................] - ETA: 0s"
       ]
      },
      {
       "output_type": "stream",
       "stream": "stdout",
       "text": [
        "\b\b\b\b\b\b\b\b\b\b\b\b\b\b\b\b\b\b\b\b\b\b\b\b\b\b\b\b\b\b\b\b\b\b\b\b\b\b\b\b\b\b\b\b\b\b\b\b\b\b\b\b\b\b\r",
        "20000/20000 [==============================] - 0s     "
       ]
      },
      {
       "output_type": "stream",
       "stream": "stdout",
       "text": [
        "\n",
        "\r",
        " 5000/20000 [======>.......................] - ETA: 0s"
       ]
      },
      {
       "output_type": "stream",
       "stream": "stdout",
       "text": [
        "\b\b\b\b\b\b\b\b\b\b\b\b\b\b\b\b\b\b\b\b\b\b\b\b\b\b\b\b\b\b\b\b\b\b\b\b\b\b\b\b\b\b\b\b\b\b\b\b\b\b\b\b\b\b\r",
        "15000/20000 [=====================>........] - ETA: 0s"
       ]
      },
      {
       "output_type": "stream",
       "stream": "stdout",
       "text": [
        "Train on 80000 samples, validate on 20000 samples\n",
        "Epoch 1/120\n",
        "0s - loss: 1.6244 - acc: 0.2490 - val_loss: 1.6161 - val_acc: 0.2524\n"
       ]
      },
      {
       "output_type": "stream",
       "stream": "stdout",
       "text": [
        "Epoch 2/120\n",
        "0s - loss: 1.6155 - acc: 0.2490 - val_loss: 1.6073 - val_acc: 0.2524\n"
       ]
      },
      {
       "output_type": "stream",
       "stream": "stdout",
       "text": [
        "Epoch 3/120\n",
        "0s - loss: 1.6067 - acc: 0.2490 - val_loss: 1.5988 - val_acc: 0.2524\n"
       ]
      },
      {
       "output_type": "stream",
       "stream": "stdout",
       "text": [
        "Epoch 4/120\n",
        "0s - loss: 1.5982 - acc: 0.2490 - val_loss: 1.5904 - val_acc: 0.2524\n"
       ]
      },
      {
       "output_type": "stream",
       "stream": "stdout",
       "text": [
        "Epoch 5/120\n",
        "0s - loss: 1.5899 - acc: 0.2490 - val_loss: 1.5823 - val_acc: 0.2524\n"
       ]
      },
      {
       "output_type": "stream",
       "stream": "stdout",
       "text": [
        "Epoch 6/120\n",
        "0s - loss: 1.5817 - acc: 0.2490 - val_loss: 1.5743 - val_acc: 0.2524\n"
       ]
      },
      {
       "output_type": "stream",
       "stream": "stdout",
       "text": [
        "Epoch 7/120\n",
        "0s - loss: 1.5738 - acc: 0.2490 - val_loss: 1.5666 - val_acc: 0.2524\n"
       ]
      },
      {
       "output_type": "stream",
       "stream": "stdout",
       "text": [
        "Epoch 8/120\n",
        "0s - loss: 1.5660 - acc: 0.2490 - val_loss: 1.5590 - val_acc: 0.2524\n"
       ]
      },
      {
       "output_type": "stream",
       "stream": "stdout",
       "text": [
        "Epoch 9/120\n",
        "0s - loss: 1.5585 - acc: 0.2490 - val_loss: 1.5516 - val_acc: 0.2524\n"
       ]
      },
      {
       "output_type": "stream",
       "stream": "stdout",
       "text": [
        "Epoch 10/120\n",
        "0s - loss: 1.5511 - acc: 0.2490 - val_loss: 1.5445 - val_acc: 0.2524\n"
       ]
      },
      {
       "output_type": "stream",
       "stream": "stdout",
       "text": [
        "Epoch 11/120\n",
        "0s - loss: 1.5440 - acc: 0.2490 - val_loss: 1.5375 - val_acc: 0.2524\n"
       ]
      },
      {
       "output_type": "stream",
       "stream": "stdout",
       "text": [
        "Epoch 12/120\n",
        "0s - loss: 1.5370 - acc: 0.2490 - val_loss: 1.5307 - val_acc: 0.2524\n"
       ]
      },
      {
       "output_type": "stream",
       "stream": "stdout",
       "text": [
        "Epoch 13/120\n",
        "0s - loss: 1.5303 - acc: 0.2490 - val_loss: 1.5242 - val_acc: 0.2524\n"
       ]
      },
      {
       "output_type": "stream",
       "stream": "stdout",
       "text": [
        "Epoch 14/120\n",
        "0s - loss: 1.5238 - acc: 0.2490 - val_loss: 1.5178 - val_acc: 0.2524\n"
       ]
      },
      {
       "output_type": "stream",
       "stream": "stdout",
       "text": [
        "Epoch 15/120\n",
        "0s - loss: 1.5174 - acc: 0.2490 - val_loss: 1.5117 - val_acc: 0.2524\n"
       ]
      },
      {
       "output_type": "stream",
       "stream": "stdout",
       "text": [
        "Epoch 16/120\n",
        "0s - loss: 1.5113 - acc: 0.2490 - val_loss: 1.5057 - val_acc: 0.2524\n"
       ]
      },
      {
       "output_type": "stream",
       "stream": "stdout",
       "text": [
        "Epoch 17/120\n",
        "0s - loss: 1.5054 - acc: 0.2490 - val_loss: 1.5000 - val_acc: 0.2524\n"
       ]
      },
      {
       "output_type": "stream",
       "stream": "stdout",
       "text": [
        "Epoch 18/120\n",
        "0s - loss: 1.4997 - acc: 0.2490 - val_loss: 1.4944 - val_acc: 0.2524\n"
       ]
      },
      {
       "output_type": "stream",
       "stream": "stdout",
       "text": [
        "Epoch 19/120\n",
        "0s - loss: 1.4941 - acc: 0.2490 - val_loss: 1.4890 - val_acc: 0.2524\n"
       ]
      },
      {
       "output_type": "stream",
       "stream": "stdout",
       "text": [
        "Epoch 20/120\n",
        "0s - loss: 1.4888 - acc: 0.2490 - val_loss: 1.4839 - val_acc: 0.2524\n"
       ]
      },
      {
       "output_type": "stream",
       "stream": "stdout",
       "text": [
        "Epoch 21/120\n",
        "0s - loss: 1.4836 - acc: 0.2490 - val_loss: 1.4789 - val_acc: 0.2524\n"
       ]
      },
      {
       "output_type": "stream",
       "stream": "stdout",
       "text": [
        "Epoch 22/120\n",
        "0s - loss: 1.4787 - acc: 0.2490 - val_loss: 1.4741 - val_acc: 0.2524\n"
       ]
      },
      {
       "output_type": "stream",
       "stream": "stdout",
       "text": [
        "Epoch 23/120\n",
        "0s - loss: 1.4739 - acc: 0.2490 - val_loss: 1.4695 - val_acc: 0.2524\n"
       ]
      },
      {
       "output_type": "stream",
       "stream": "stdout",
       "text": [
        "Epoch 24/120\n",
        "0s - loss: 1.4694 - acc: 0.2490 - val_loss: 1.4651 - val_acc: 0.2524\n"
       ]
      },
      {
       "output_type": "stream",
       "stream": "stdout",
       "text": [
        "Epoch 25/120\n",
        "0s - loss: 1.4650 - acc: 0.2490 - val_loss: 1.4608 - val_acc: 0.2524\n"
       ]
      },
      {
       "output_type": "stream",
       "stream": "stdout",
       "text": [
        "Epoch 26/120\n",
        "0s - loss: 1.4608 - acc: 0.2490 - val_loss: 1.4568 - val_acc: 0.2524\n"
       ]
      },
      {
       "output_type": "stream",
       "stream": "stdout",
       "text": [
        "Epoch 27/120\n",
        "0s - loss: 1.4567 - acc: 0.2490 - val_loss: 1.4529 - val_acc: 0.2524\n"
       ]
      },
      {
       "output_type": "stream",
       "stream": "stdout",
       "text": [
        "Epoch 28/120\n",
        "0s - loss: 1.4529 - acc: 0.2490 - val_loss: 1.4492 - val_acc: 0.2524\n"
       ]
      },
      {
       "output_type": "stream",
       "stream": "stdout",
       "text": [
        "Epoch 29/120\n",
        "0s - loss: 1.4492 - acc: 0.2490 - val_loss: 1.4456 - val_acc: 0.2524\n"
       ]
      },
      {
       "output_type": "stream",
       "stream": "stdout",
       "text": [
        "Epoch 30/120\n",
        "0s - loss: 1.4456 - acc: 0.2490 - val_loss: 1.4423 - val_acc: 0.2524\n"
       ]
      },
      {
       "output_type": "stream",
       "stream": "stdout",
       "text": [
        "Epoch 31/120\n",
        "0s - loss: 1.4423 - acc: 0.2490 - val_loss: 1.4390 - val_acc: 0.2524\n"
       ]
      },
      {
       "output_type": "stream",
       "stream": "stdout",
       "text": [
        "Epoch 32/120\n",
        "0s - loss: 1.4391 - acc: 0.2487 - val_loss: 1.4359 - val_acc: 0.2524\n"
       ]
      },
      {
       "output_type": "stream",
       "stream": "stdout",
       "text": [
        "Epoch 33/120\n",
        "0s - loss: 1.4360 - acc: 0.2288 - val_loss: 1.4330 - val_acc: 0.2444\n"
       ]
      },
      {
       "output_type": "stream",
       "stream": "stdout",
       "text": [
        "Epoch 34/120\n",
        "0s - loss: 1.4331 - acc: 0.2503 - val_loss: 1.4302 - val_acc: 0.2444\n"
       ]
      },
      {
       "output_type": "stream",
       "stream": "stdout",
       "text": [
        "Epoch 35/120\n",
        "0s - loss: 1.4303 - acc: 0.2503 - val_loss: 1.4276 - val_acc: 0.2444\n"
       ]
      },
      {
       "output_type": "stream",
       "stream": "stdout",
       "text": [
        "Epoch 36/120\n",
        "0s - loss: 1.4277 - acc: 0.2503 - val_loss: 1.4251 - val_acc: 0.2444\n"
       ]
      },
      {
       "output_type": "stream",
       "stream": "stdout",
       "text": [
        "Epoch 37/120\n",
        "0s - loss: 1.4252 - acc: 0.2503 - val_loss: 1.4227 - val_acc: 0.2444\n"
       ]
      },
      {
       "output_type": "stream",
       "stream": "stdout",
       "text": [
        "Epoch 38/120\n",
        "0s - loss: 1.4229 - acc: 0.2503 - val_loss: 1.4204 - val_acc: 0.2444\n"
       ]
      },
      {
       "output_type": "stream",
       "stream": "stdout",
       "text": [
        "Epoch 39/120\n",
        "0s - loss: 1.4206 - acc: 0.2503 - val_loss: 1.4183 - val_acc: 0.2444\n"
       ]
      },
      {
       "output_type": "stream",
       "stream": "stdout",
       "text": [
        "Epoch 40/120\n",
        "0s - loss: 1.4185 - acc: 0.2503 - val_loss: 1.4163 - val_acc: 0.2444\n"
       ]
      },
      {
       "output_type": "stream",
       "stream": "stdout",
       "text": [
        "Epoch 41/120\n",
        "0s - loss: 1.4165 - acc: 0.2503 - val_loss: 1.4144 - val_acc: 0.2444\n"
       ]
      },
      {
       "output_type": "stream",
       "stream": "stdout",
       "text": [
        "Epoch 42/120\n",
        "0s - loss: 1.4146 - acc: 0.2503 - val_loss: 1.4126 - val_acc: 0.2444\n"
       ]
      },
      {
       "output_type": "stream",
       "stream": "stdout",
       "text": [
        "Epoch 43/120\n",
        "0s - loss: 1.4128 - acc: 0.2503 - val_loss: 1.4109 - val_acc: 0.2444\n"
       ]
      },
      {
       "output_type": "stream",
       "stream": "stdout",
       "text": [
        "Epoch 44/120\n",
        "0s - loss: 1.4111 - acc: 0.2503 - val_loss: 1.4093 - val_acc: 0.2444\n"
       ]
      },
      {
       "output_type": "stream",
       "stream": "stdout",
       "text": [
        "Epoch 45/120\n",
        "0s - loss: 1.4095 - acc: 0.2503 - val_loss: 1.4078 - val_acc: 0.2444\n"
       ]
      },
      {
       "output_type": "stream",
       "stream": "stdout",
       "text": [
        "Epoch 46/120\n",
        "0s - loss: 1.4080 - acc: 0.2503 - val_loss: 1.4063 - val_acc: 0.2444\n"
       ]
      },
      {
       "output_type": "stream",
       "stream": "stdout",
       "text": [
        "Epoch 47/120\n",
        "0s - loss: 1.4066 - acc: 0.2503 - val_loss: 1.4050 - val_acc: 0.2444\n"
       ]
      },
      {
       "output_type": "stream",
       "stream": "stdout",
       "text": [
        "Epoch 48/120\n",
        "0s - loss: 1.4053 - acc: 0.2503 - val_loss: 1.4037 - val_acc: 0.2444\n"
       ]
      },
      {
       "output_type": "stream",
       "stream": "stdout",
       "text": [
        "Epoch 49/120\n",
        "0s - loss: 1.4040 - acc: 0.2503 - val_loss: 1.4026 - val_acc: 0.2444\n"
       ]
      },
      {
       "output_type": "stream",
       "stream": "stdout",
       "text": [
        "Epoch 50/120\n",
        "0s - loss: 1.4028 - acc: 0.2503 - val_loss: 1.4014 - val_acc: 0.2444\n"
       ]
      },
      {
       "output_type": "stream",
       "stream": "stdout",
       "text": [
        "Epoch 51/120\n",
        "0s - loss: 1.4017 - acc: 0.2503 - val_loss: 1.4004 - val_acc: 0.2444\n"
       ]
      },
      {
       "output_type": "stream",
       "stream": "stdout",
       "text": [
        "Epoch 52/120\n",
        "0s - loss: 1.4007 - acc: 0.2503 - val_loss: 1.3994 - val_acc: 0.2444\n"
       ]
      },
      {
       "output_type": "stream",
       "stream": "stdout",
       "text": [
        "Epoch 53/120\n",
        "0s - loss: 1.3997 - acc: 0.2503 - val_loss: 1.3985 - val_acc: 0.2444\n"
       ]
      },
      {
       "output_type": "stream",
       "stream": "stdout",
       "text": [
        "Epoch 54/120\n",
        "0s - loss: 1.3988 - acc: 0.2503 - val_loss: 1.3977 - val_acc: 0.2444\n"
       ]
      },
      {
       "output_type": "stream",
       "stream": "stdout",
       "text": [
        "Epoch 55/120\n",
        "0s - loss: 1.3980 - acc: 0.2503 - val_loss: 1.3969 - val_acc: 0.2444\n"
       ]
      },
      {
       "output_type": "stream",
       "stream": "stdout",
       "text": [
        "Epoch 56/120\n",
        "0s - loss: 1.3972 - acc: 0.2503 - val_loss: 1.3961 - val_acc: 0.2444\n"
       ]
      },
      {
       "output_type": "stream",
       "stream": "stdout",
       "text": [
        "Epoch 57/120\n",
        "0s - loss: 1.3964 - acc: 0.2503 - val_loss: 1.3954 - val_acc: 0.2444\n"
       ]
      },
      {
       "output_type": "stream",
       "stream": "stdout",
       "text": [
        "Epoch 58/120\n",
        "0s - loss: 1.3957 - acc: 0.2503 - val_loss: 1.3948 - val_acc: 0.2444\n"
       ]
      },
      {
       "output_type": "stream",
       "stream": "stdout",
       "text": [
        "Epoch 59/120\n",
        "0s - loss: 1.3950 - acc: 0.2503 - val_loss: 1.3942 - val_acc: 0.2444\n"
       ]
      },
      {
       "output_type": "stream",
       "stream": "stdout",
       "text": [
        "Epoch 60/120\n",
        "0s - loss: 1.3944 - acc: 0.2503 - val_loss: 1.3936 - val_acc: 0.2444\n"
       ]
      },
      {
       "output_type": "stream",
       "stream": "stdout",
       "text": [
        "Epoch 61/120\n",
        "0s - loss: 1.3939 - acc: 0.2503 - val_loss: 1.3931 - val_acc: 0.2444\n"
       ]
      },
      {
       "output_type": "stream",
       "stream": "stdout",
       "text": [
        "Epoch 62/120\n",
        "0s - loss: 1.3933 - acc: 0.2503 - val_loss: 1.3926 - val_acc: 0.2444\n"
       ]
      },
      {
       "output_type": "stream",
       "stream": "stdout",
       "text": [
        "Epoch 63/120\n",
        "0s - loss: 1.3928 - acc: 0.2503 - val_loss: 1.3921 - val_acc: 0.2444\n"
       ]
      },
      {
       "output_type": "stream",
       "stream": "stdout",
       "text": [
        "Epoch 64/120\n",
        "0s - loss: 1.3924 - acc: 0.2503 - val_loss: 1.3917 - val_acc: 0.2444\n"
       ]
      },
      {
       "output_type": "stream",
       "stream": "stdout",
       "text": [
        "Epoch 65/120\n",
        "0s - loss: 1.3919 - acc: 0.2503 - val_loss: 1.3913 - val_acc: 0.2444\n"
       ]
      },
      {
       "output_type": "stream",
       "stream": "stdout",
       "text": [
        "Epoch 66/120\n",
        "0s - loss: 1.3915 - acc: 0.2503 - val_loss: 1.3909 - val_acc: 0.2444\n"
       ]
      },
      {
       "output_type": "stream",
       "stream": "stdout",
       "text": [
        "Epoch 67/120\n",
        "0s - loss: 1.3912 - acc: 0.2503 - val_loss: 1.3906 - val_acc: 0.2444\n"
       ]
      },
      {
       "output_type": "stream",
       "stream": "stdout",
       "text": [
        "Epoch 68/120\n",
        "0s - loss: 1.3908 - acc: 0.2503 - val_loss: 1.3902 - val_acc: 0.2444\n"
       ]
      },
      {
       "output_type": "stream",
       "stream": "stdout",
       "text": [
        "Epoch 69/120\n",
        "0s - loss: 1.3905 - acc: 0.2503 - val_loss: 1.3899 - val_acc: 0.2444\n"
       ]
      },
      {
       "output_type": "stream",
       "stream": "stdout",
       "text": [
        "Epoch 70/120\n",
        "0s - loss: 1.3902 - acc: 0.2503 - val_loss: 1.3897 - val_acc: 0.2444\n"
       ]
      },
      {
       "output_type": "stream",
       "stream": "stdout",
       "text": [
        "Epoch 71/120\n",
        "0s - loss: 1.3899 - acc: 0.2503 - val_loss: 1.3894 - val_acc: 0.2444\n"
       ]
      },
      {
       "output_type": "stream",
       "stream": "stdout",
       "text": [
        "Epoch 72/120\n",
        "0s - loss: 1.3896 - acc: 0.2503 - val_loss: 1.3892 - val_acc: 0.2444\n"
       ]
      },
      {
       "output_type": "stream",
       "stream": "stdout",
       "text": [
        "Epoch 73/120\n",
        "0s - loss: 1.3894 - acc: 0.2503 - val_loss: 1.3889 - val_acc: 0.2444\n"
       ]
      },
      {
       "output_type": "stream",
       "stream": "stdout",
       "text": [
        "Epoch 74/120\n",
        "0s - loss: 1.3892 - acc: 0.2503 - val_loss: 1.3887 - val_acc: 0.2444\n"
       ]
      },
      {
       "output_type": "stream",
       "stream": "stdout",
       "text": [
        "Epoch 75/120\n",
        "0s - loss: 1.3890 - acc: 0.2503 - val_loss: 1.3885 - val_acc: 0.2444\n"
       ]
      },
      {
       "output_type": "stream",
       "stream": "stdout",
       "text": [
        "Epoch 76/120\n",
        "0s - loss: 1.3888 - acc: 0.2503 - val_loss: 1.3884 - val_acc: 0.2444\n"
       ]
      },
      {
       "output_type": "stream",
       "stream": "stdout",
       "text": [
        "Epoch 77/120\n",
        "0s - loss: 1.3886 - acc: 0.2503 - val_loss: 1.3882 - val_acc: 0.2444\n"
       ]
      },
      {
       "output_type": "stream",
       "stream": "stdout",
       "text": [
        "Epoch 78/120\n",
        "0s - loss: 1.3884 - acc: 0.2503 - val_loss: 1.3881 - val_acc: 0.2444\n"
       ]
      },
      {
       "output_type": "stream",
       "stream": "stdout",
       "text": [
        "Epoch 79/120\n",
        "0s - loss: 1.3882 - acc: 0.2503 - val_loss: 1.3879 - val_acc: 0.2444\n"
       ]
      },
      {
       "output_type": "stream",
       "stream": "stdout",
       "text": [
        "Epoch 80/120\n",
        "0s - loss: 1.3881 - acc: 0.2503 - val_loss: 1.3878 - val_acc: 0.2444\n"
       ]
      },
      {
       "output_type": "stream",
       "stream": "stdout",
       "text": [
        "Epoch 81/120\n",
        "0s - loss: 1.3880 - acc: 0.2503 - val_loss: 1.3877 - val_acc: 0.2444\n"
       ]
      },
      {
       "output_type": "stream",
       "stream": "stdout",
       "text": [
        "Epoch 82/120\n",
        "0s - loss: 1.3878 - acc: 0.2503 - val_loss: 1.3876 - val_acc: 0.2444\n"
       ]
      },
      {
       "output_type": "stream",
       "stream": "stdout",
       "text": [
        "Epoch 83/120\n",
        "0s - loss: 1.3877 - acc: 0.2503 - val_loss: 1.3875 - val_acc: 0.2444\n"
       ]
      },
      {
       "output_type": "stream",
       "stream": "stdout",
       "text": [
        "Epoch 84/120\n",
        "0s - loss: 1.3876 - acc: 0.2503 - val_loss: 1.3874 - val_acc: 0.2444\n"
       ]
      },
      {
       "output_type": "stream",
       "stream": "stdout",
       "text": [
        "Epoch 85/120\n",
        "0s - loss: 1.3875 - acc: 0.2503 - val_loss: 1.3873 - val_acc: 0.2444\n"
       ]
      },
      {
       "output_type": "stream",
       "stream": "stdout",
       "text": [
        "Epoch 86/120\n",
        "0s - loss: 1.3874 - acc: 0.2503 - val_loss: 1.3872 - val_acc: 0.2444\n"
       ]
      },
      {
       "output_type": "stream",
       "stream": "stdout",
       "text": [
        "Epoch 87/120\n",
        "0s - loss: 1.3873 - acc: 0.2503 - val_loss: 1.3871 - val_acc: 0.2444\n"
       ]
      },
      {
       "output_type": "stream",
       "stream": "stdout",
       "text": [
        "Epoch 88/120\n",
        "0s - loss: 1.3873 - acc: 0.2503 - val_loss: 1.3871 - val_acc: 0.2444\n"
       ]
      },
      {
       "output_type": "stream",
       "stream": "stdout",
       "text": [
        "Epoch 89/120\n",
        "0s - loss: 1.3872 - acc: 0.2503 - val_loss: 1.3870 - val_acc: 0.2444\n"
       ]
      },
      {
       "output_type": "stream",
       "stream": "stdout",
       "text": [
        "Epoch 90/120\n",
        "0s - loss: 1.3871 - acc: 0.2503 - val_loss: 1.3869 - val_acc: 0.2444\n"
       ]
      },
      {
       "output_type": "stream",
       "stream": "stdout",
       "text": [
        "Epoch 91/120\n",
        "0s - loss: 1.3871 - acc: 0.2503 - val_loss: 1.3869 - val_acc: 0.2444\n"
       ]
      },
      {
       "output_type": "stream",
       "stream": "stdout",
       "text": [
        "Epoch 92/120\n",
        "0s - loss: 1.3870 - acc: 0.2503 - val_loss: 1.3868 - val_acc: 0.2444\n"
       ]
      },
      {
       "output_type": "stream",
       "stream": "stdout",
       "text": [
        "Epoch 93/120\n",
        "0s - loss: 1.3869 - acc: 0.2503 - val_loss: 1.3868 - val_acc: 0.2444\n"
       ]
      },
      {
       "output_type": "stream",
       "stream": "stdout",
       "text": [
        "Epoch 94/120\n",
        "0s - loss: 1.3869 - acc: 0.2503 - val_loss: 1.3867 - val_acc: 0.2444\n"
       ]
      },
      {
       "output_type": "stream",
       "stream": "stdout",
       "text": [
        "Epoch 95/120\n",
        "0s - loss: 1.3869 - acc: 0.2503 - val_loss: 1.3867 - val_acc: 0.2444\n"
       ]
      },
      {
       "output_type": "stream",
       "stream": "stdout",
       "text": [
        "Epoch 96/120\n",
        "0s - loss: 1.3868 - acc: 0.2503 - val_loss: 1.3867 - val_acc: 0.2444\n"
       ]
      },
      {
       "output_type": "stream",
       "stream": "stdout",
       "text": [
        "Epoch 97/120\n",
        "0s - loss: 1.3868 - acc: 0.2503 - val_loss: 1.3866 - val_acc: 0.2444\n"
       ]
      },
      {
       "output_type": "stream",
       "stream": "stdout",
       "text": [
        "Epoch 98/120\n",
        "0s - loss: 1.3867 - acc: 0.2503 - val_loss: 1.3866 - val_acc: 0.2444\n"
       ]
      },
      {
       "output_type": "stream",
       "stream": "stdout",
       "text": [
        "Epoch 99/120\n",
        "0s - loss: 1.3867 - acc: 0.2503 - val_loss: 1.3866 - val_acc: 0.2444\n"
       ]
      },
      {
       "output_type": "stream",
       "stream": "stdout",
       "text": [
        "Epoch 100/120\n",
        "0s - loss: 1.3867 - acc: 0.2503 - val_loss: 1.3866 - val_acc: 0.2444\n"
       ]
      },
      {
       "output_type": "stream",
       "stream": "stdout",
       "text": [
        "Epoch 101/120\n",
        "0s - loss: 1.3866 - acc: 0.2503 - val_loss: 1.3865 - val_acc: 0.2444\n"
       ]
      },
      {
       "output_type": "stream",
       "stream": "stdout",
       "text": [
        "Epoch 102/120\n",
        "0s - loss: 1.3866 - acc: 0.2503 - val_loss: 1.3865 - val_acc: 0.2444\n"
       ]
      },
      {
       "output_type": "stream",
       "stream": "stdout",
       "text": [
        "Epoch 103/120\n",
        "0s - loss: 1.3866 - acc: 0.2503 - val_loss: 1.3865 - val_acc: 0.2444\n"
       ]
      },
      {
       "output_type": "stream",
       "stream": "stdout",
       "text": [
        "Epoch 104/120\n",
        "0s - loss: 1.3866 - acc: 0.2503 - val_loss: 1.3865 - val_acc: 0.2444\n"
       ]
      },
      {
       "output_type": "stream",
       "stream": "stdout",
       "text": [
        "Epoch 105/120\n",
        "0s - loss: 1.3865 - acc: 0.2503 - val_loss: 1.3865 - val_acc: 0.2444\n"
       ]
      },
      {
       "output_type": "stream",
       "stream": "stdout",
       "text": [
        "Epoch 106/120\n",
        "0s - loss: 1.3865 - acc: 0.2503 - val_loss: 1.3864 - val_acc: 0.2444\n"
       ]
      },
      {
       "output_type": "stream",
       "stream": "stdout",
       "text": [
        "Epoch 107/120\n",
        "0s - loss: 1.3865 - acc: 0.2503 - val_loss: 1.3864 - val_acc: 0.2444\n"
       ]
      },
      {
       "output_type": "stream",
       "stream": "stdout",
       "text": [
        "Epoch 108/120\n",
        "0s - loss: 1.3865 - acc: 0.2503 - val_loss: 1.3864 - val_acc: 0.2444\n"
       ]
      },
      {
       "output_type": "stream",
       "stream": "stdout",
       "text": [
        "Epoch 109/120\n",
        "0s - loss: 1.3865 - acc: 0.2503 - val_loss: 1.3864 - val_acc: 0.2444\n"
       ]
      },
      {
       "output_type": "stream",
       "stream": "stdout",
       "text": [
        "Epoch 110/120\n",
        "0s - loss: 1.3865 - acc: 0.2503 - val_loss: 1.3864 - val_acc: 0.2444\n"
       ]
      },
      {
       "output_type": "stream",
       "stream": "stdout",
       "text": [
        "Epoch 111/120\n",
        "0s - loss: 1.3864 - acc: 0.2503 - val_loss: 1.3864 - val_acc: 0.2444\n"
       ]
      },
      {
       "output_type": "stream",
       "stream": "stdout",
       "text": [
        "Epoch 112/120\n",
        "0s - loss: 1.3864 - acc: 0.2503 - val_loss: 1.3864 - val_acc: 0.2444\n"
       ]
      },
      {
       "output_type": "stream",
       "stream": "stdout",
       "text": [
        "Epoch 113/120\n",
        "0s - loss: 1.3864 - acc: 0.2503 - val_loss: 1.3864 - val_acc: 0.2444\n"
       ]
      },
      {
       "output_type": "stream",
       "stream": "stdout",
       "text": [
        "Epoch 114/120\n",
        "0s - loss: 1.3864 - acc: 0.2503 - val_loss: 1.3864 - val_acc: 0.2444\n"
       ]
      },
      {
       "output_type": "stream",
       "stream": "stdout",
       "text": [
        "Epoch 115/120\n",
        "0s - loss: 1.3864 - acc: 0.2503 - val_loss: 1.3864 - val_acc: 0.2444\n"
       ]
      },
      {
       "output_type": "stream",
       "stream": "stdout",
       "text": [
        "Epoch 116/120\n",
        "0s - loss: 1.3864 - acc: 0.2503 - val_loss: 1.3864 - val_acc: 0.2444\n"
       ]
      },
      {
       "output_type": "stream",
       "stream": "stdout",
       "text": [
        "Epoch 117/120\n",
        "0s - loss: 1.3864 - acc: 0.2503 - val_loss: 1.3863 - val_acc: 0.2444\n"
       ]
      },
      {
       "output_type": "stream",
       "stream": "stdout",
       "text": [
        "Epoch 118/120\n",
        "0s - loss: 1.3864 - acc: 0.2503 - val_loss: 1.3863 - val_acc: 0.2444\n"
       ]
      },
      {
       "output_type": "stream",
       "stream": "stdout",
       "text": [
        "Epoch 119/120\n",
        "0s - loss: 1.3864 - acc: 0.2503 - val_loss: 1.3863 - val_acc: 0.2444\n"
       ]
      },
      {
       "output_type": "stream",
       "stream": "stdout",
       "text": [
        "Epoch 120/120\n",
        "0s - loss: 1.3864 - acc: 0.2503 - val_loss: 1.3863 - val_acc: 0.2444\n"
       ]
      },
      {
       "output_type": "stream",
       "stream": "stdout",
       "text": [
        "\r",
        " 5000/20000 [======>.......................] - ETA: 0s"
       ]
      },
      {
       "output_type": "stream",
       "stream": "stdout",
       "text": [
        "\b\b\b\b\b\b\b\b\b\b\b\b\b\b\b\b\b\b\b\b\b\b\b\b\b\b\b\b\b\b\b\b\b\b\b\b\b\b\b\b\b\b\b\b\b\b\b\b\b\b\b\b\b\b\r",
        "20000/20000 [==============================] - 0s     "
       ]
      },
      {
       "output_type": "stream",
       "stream": "stdout",
       "text": [
        "\n",
        "\r",
        " 5000/20000 [======>.......................] - ETA: 0s"
       ]
      },
      {
       "output_type": "stream",
       "stream": "stdout",
       "text": [
        "\b\b\b\b\b\b\b\b\b\b\b\b\b\b\b\b\b\b\b\b\b\b\b\b\b\b\b\b\b\b\b\b\b\b\b\b\b\b\b\b\b\b\b\b\b\b\b\b\b\b\b\b\b\b\r",
        "20000/20000 [==============================] - 0s     "
       ]
      },
      {
       "output_type": "stream",
       "stream": "stdout",
       "text": [
        "\n",
        "Train on 80000 samples, validate on 20000 samples\n",
        "Epoch 1/130\n",
        "0s - loss: 1.0272 - acc: 0.2492 - val_loss: 1.0277 - val_acc: 0.2551\n"
       ]
      },
      {
       "output_type": "stream",
       "stream": "stdout",
       "text": [
        "Epoch 2/130\n",
        "0s - loss: 1.0203 - acc: 0.2492 - val_loss: 1.0210 - val_acc: 0.2551\n"
       ]
      },
      {
       "output_type": "stream",
       "stream": "stdout",
       "text": [
        "Epoch 3/130\n",
        "0s - loss: 1.0139 - acc: 0.2492 - val_loss: 1.0147 - val_acc: 0.2551\n"
       ]
      },
      {
       "output_type": "stream",
       "stream": "stdout",
       "text": [
        "Epoch 4/130\n",
        "0s - loss: 1.0078 - acc: 0.2492 - val_loss: 1.0088 - val_acc: 0.2551\n"
       ]
      },
      {
       "output_type": "stream",
       "stream": "stdout",
       "text": [
        "Epoch 5/130\n",
        "0s - loss: 1.0020 - acc: 0.2492 - val_loss: 1.0032 - val_acc: 0.2551\n"
       ]
      },
      {
       "output_type": "stream",
       "stream": "stdout",
       "text": [
        "Epoch 6/130\n",
        "0s - loss: 0.9966 - acc: 0.2492 - val_loss: 0.9978 - val_acc: 0.2551\n"
       ]
      },
      {
       "output_type": "stream",
       "stream": "stdout",
       "text": [
        "Epoch 7/130\n",
        "0s - loss: 0.9914 - acc: 0.2492 - val_loss: 0.9928 - val_acc: 0.2551\n"
       ]
      },
      {
       "output_type": "stream",
       "stream": "stdout",
       "text": [
        "Epoch 8/130\n",
        "0s - loss: 0.9865 - acc: 0.2492 - val_loss: 0.9880 - val_acc: 0.2551\n"
       ]
      },
      {
       "output_type": "stream",
       "stream": "stdout",
       "text": [
        "Epoch 9/130\n",
        "0s - loss: 0.9818 - acc: 0.2465 - val_loss: 0.9834 - val_acc: 0.2515\n"
       ]
      },
      {
       "output_type": "stream",
       "stream": "stdout",
       "text": [
        "Epoch 10/130\n",
        "0s - loss: 0.9774 - acc: 0.2499 - val_loss: 0.9791 - val_acc: 0.2515\n"
       ]
      },
      {
       "output_type": "stream",
       "stream": "stdout",
       "text": [
        "Epoch 11/130\n",
        "0s - loss: 0.9732 - acc: 0.2514 - val_loss: 0.9750 - val_acc: 0.2515\n"
       ]
      },
      {
       "output_type": "stream",
       "stream": "stdout",
       "text": [
        "Epoch 12/130\n",
        "0s - loss: 0.9691 - acc: 0.2514 - val_loss: 0.9710 - val_acc: 0.2515\n"
       ]
      },
      {
       "output_type": "stream",
       "stream": "stdout",
       "text": [
        "Epoch 13/130\n",
        "0s - loss: 0.9653 - acc: 0.2514 - val_loss: 0.9673 - val_acc: 0.2515\n"
       ]
      },
      {
       "output_type": "stream",
       "stream": "stdout",
       "text": [
        "Epoch 14/130\n",
        "0s - loss: 0.9617 - acc: 0.2514 - val_loss: 0.9637 - val_acc: 0.2515\n"
       ]
      },
      {
       "output_type": "stream",
       "stream": "stdout",
       "text": [
        "Epoch 15/130\n",
        "0s - loss: 0.9582 - acc: 0.2514 - val_loss: 0.9603 - val_acc: 0.2515\n"
       ]
      },
      {
       "output_type": "stream",
       "stream": "stdout",
       "text": [
        "Epoch 16/130\n",
        "0s - loss: 0.9548 - acc: 0.2514 - val_loss: 0.9570 - val_acc: 0.2515\n"
       ]
      },
      {
       "output_type": "stream",
       "stream": "stdout",
       "text": [
        "Epoch 17/130\n",
        "0s - loss: 0.9516 - acc: 0.2514 - val_loss: 0.9539 - val_acc: 0.2515\n"
       ]
      },
      {
       "output_type": "stream",
       "stream": "stdout",
       "text": [
        "Epoch 18/130\n",
        "0s - loss: 0.9486 - acc: 0.2514 - val_loss: 0.9509 - val_acc: 0.2515\n"
       ]
      },
      {
       "output_type": "stream",
       "stream": "stdout",
       "text": [
        "Epoch 19/130\n",
        "0s - loss: 0.9456 - acc: 0.2514 - val_loss: 0.9480 - val_acc: 0.2515\n"
       ]
      },
      {
       "output_type": "stream",
       "stream": "stdout",
       "text": [
        "Epoch 20/130\n",
        "0s - loss: 0.9428 - acc: 0.2514 - val_loss: 0.9452 - val_acc: 0.2515\n"
       ]
      },
      {
       "output_type": "stream",
       "stream": "stdout",
       "text": [
        "Epoch 21/130\n",
        "0s - loss: 0.9401 - acc: 0.2514 - val_loss: 0.9426 - val_acc: 0.2515\n"
       ]
      },
      {
       "output_type": "stream",
       "stream": "stdout",
       "text": [
        "Epoch 22/130\n",
        "0s - loss: 0.9376 - acc: 0.2514 - val_loss: 0.9400 - val_acc: 0.2515\n"
       ]
      },
      {
       "output_type": "stream",
       "stream": "stdout",
       "text": [
        "Epoch 23/130\n",
        "0s - loss: 0.9351 - acc: 0.2514 - val_loss: 0.9376 - val_acc: 0.2515\n"
       ]
      },
      {
       "output_type": "stream",
       "stream": "stdout",
       "text": [
        "Epoch 24/130\n",
        "0s - loss: 0.9327 - acc: 0.2514 - val_loss: 0.9353 - val_acc: 0.2515\n"
       ]
      },
      {
       "output_type": "stream",
       "stream": "stdout",
       "text": [
        "Epoch 25/130\n",
        "0s - loss: 0.9304 - acc: 0.2514 - val_loss: 0.9330 - val_acc: 0.2515\n"
       ]
      },
      {
       "output_type": "stream",
       "stream": "stdout",
       "text": [
        "Epoch 26/130\n",
        "0s - loss: 0.9282 - acc: 0.2514 - val_loss: 0.9308 - val_acc: 0.2515\n"
       ]
      },
      {
       "output_type": "stream",
       "stream": "stdout",
       "text": [
        "Epoch 27/130\n",
        "0s - loss: 0.9260 - acc: 0.2514 - val_loss: 0.9287 - val_acc: 0.2515\n"
       ]
      },
      {
       "output_type": "stream",
       "stream": "stdout",
       "text": [
        "Epoch 28/130\n",
        "0s - loss: 0.9240 - acc: 0.2514 - val_loss: 0.9267 - val_acc: 0.2515\n"
       ]
      },
      {
       "output_type": "stream",
       "stream": "stdout",
       "text": [
        "Epoch 29/130\n",
        "0s - loss: 0.9220 - acc: 0.2514 - val_loss: 0.9247 - val_acc: 0.2515\n"
       ]
      },
      {
       "output_type": "stream",
       "stream": "stdout",
       "text": [
        "Epoch 30/130\n",
        "0s - loss: 0.9201 - acc: 0.2514 - val_loss: 0.9228 - val_acc: 0.2515\n"
       ]
      },
      {
       "output_type": "stream",
       "stream": "stdout",
       "text": [
        "Epoch 31/130\n",
        "0s - loss: 0.9182 - acc: 0.2514 - val_loss: 0.9210 - val_acc: 0.2515\n"
       ]
      },
      {
       "output_type": "stream",
       "stream": "stdout",
       "text": [
        "Epoch 32/130\n",
        "0s - loss: 0.9165 - acc: 0.2514 - val_loss: 0.9193 - val_acc: 0.2515\n"
       ]
      },
      {
       "output_type": "stream",
       "stream": "stdout",
       "text": [
        "Epoch 33/130\n",
        "0s - loss: 0.9147 - acc: 0.2514 - val_loss: 0.9176 - val_acc: 0.2515\n"
       ]
      },
      {
       "output_type": "stream",
       "stream": "stdout",
       "text": [
        "Epoch 34/130\n",
        "0s - loss: 0.9131 - acc: 0.2514 - val_loss: 0.9159 - val_acc: 0.2515\n"
       ]
      },
      {
       "output_type": "stream",
       "stream": "stdout",
       "text": [
        "Epoch 35/130\n",
        "0s - loss: 0.9115 - acc: 0.2514 - val_loss: 0.9143 - val_acc: 0.2515\n"
       ]
      },
      {
       "output_type": "stream",
       "stream": "stdout",
       "text": [
        "Epoch 36/130\n",
        "0s - loss: 0.9099 - acc: 0.2514 - val_loss: 0.9128 - val_acc: 0.2515\n"
       ]
      },
      {
       "output_type": "stream",
       "stream": "stdout",
       "text": [
        "Epoch 37/130\n",
        "0s - loss: 0.9084 - acc: 0.2514 - val_loss: 0.9113 - val_acc: 0.2515\n"
       ]
      },
      {
       "output_type": "stream",
       "stream": "stdout",
       "text": [
        "Epoch 38/130\n",
        "0s - loss: 0.9069 - acc: 0.2514 - val_loss: 0.9098 - val_acc: 0.2515\n"
       ]
      },
      {
       "output_type": "stream",
       "stream": "stdout",
       "text": [
        "Epoch 39/130\n",
        "0s - loss: 0.9055 - acc: 0.2514 - val_loss: 0.9084 - val_acc: 0.2515\n"
       ]
      },
      {
       "output_type": "stream",
       "stream": "stdout",
       "text": [
        "Epoch 40/130\n",
        "0s - loss: 0.9041 - acc: 0.2514 - val_loss: 0.9071 - val_acc: 0.2515\n"
       ]
      },
      {
       "output_type": "stream",
       "stream": "stdout",
       "text": [
        "Epoch 41/130\n",
        "0s - loss: 0.9028 - acc: 0.2514 - val_loss: 0.9058 - val_acc: 0.2515\n"
       ]
      },
      {
       "output_type": "stream",
       "stream": "stdout",
       "text": [
        "Epoch 42/130\n",
        "0s - loss: 0.9015 - acc: 0.2514 - val_loss: 0.9045 - val_acc: 0.2515\n"
       ]
      },
      {
       "output_type": "stream",
       "stream": "stdout",
       "text": [
        "Epoch 43/130\n",
        "0s - loss: 0.9002 - acc: 0.2514 - val_loss: 0.9032 - val_acc: 0.2515\n"
       ]
      },
      {
       "output_type": "stream",
       "stream": "stdout",
       "text": [
        "Epoch 44/130\n",
        "0s - loss: 0.8990 - acc: 0.2514 - val_loss: 0.9020 - val_acc: 0.2515\n"
       ]
      },
      {
       "output_type": "stream",
       "stream": "stdout",
       "text": [
        "Epoch 45/130\n",
        "0s - loss: 0.8978 - acc: 0.2514 - val_loss: 0.9009 - val_acc: 0.2515\n"
       ]
      },
      {
       "output_type": "stream",
       "stream": "stdout",
       "text": [
        "Epoch 46/130\n",
        "0s - loss: 0.8967 - acc: 0.2514 - val_loss: 0.8997 - val_acc: 0.2515\n"
       ]
      },
      {
       "output_type": "stream",
       "stream": "stdout",
       "text": [
        "Epoch 47/130\n",
        "0s - loss: 0.8955 - acc: 0.2514 - val_loss: 0.8986 - val_acc: 0.2515\n"
       ]
      },
      {
       "output_type": "stream",
       "stream": "stdout",
       "text": [
        "Epoch 48/130\n",
        "0s - loss: 0.8945 - acc: 0.2514 - val_loss: 0.8975 - val_acc: 0.2515\n"
       ]
      },
      {
       "output_type": "stream",
       "stream": "stdout",
       "text": [
        "Epoch 49/130\n",
        "0s - loss: 0.8934 - acc: 0.2514 - val_loss: 0.8965 - val_acc: 0.2515\n"
       ]
      },
      {
       "output_type": "stream",
       "stream": "stdout",
       "text": [
        "Epoch 50/130\n",
        "0s - loss: 0.8924 - acc: 0.2514 - val_loss: 0.8955 - val_acc: 0.2515\n"
       ]
      },
      {
       "output_type": "stream",
       "stream": "stdout",
       "text": [
        "Epoch 51/130\n",
        "0s - loss: 0.8914 - acc: 0.2514 - val_loss: 0.8945 - val_acc: 0.2515\n"
       ]
      },
      {
       "output_type": "stream",
       "stream": "stdout",
       "text": [
        "Epoch 52/130\n",
        "0s - loss: 0.8904 - acc: 0.2514 - val_loss: 0.8935 - val_acc: 0.2515\n"
       ]
      },
      {
       "output_type": "stream",
       "stream": "stdout",
       "text": [
        "Epoch 53/130\n",
        "0s - loss: 0.8894 - acc: 0.2514 - val_loss: 0.8925 - val_acc: 0.2515\n"
       ]
      },
      {
       "output_type": "stream",
       "stream": "stdout",
       "text": [
        "Epoch 54/130\n",
        "0s - loss: 0.8885 - acc: 0.2514 - val_loss: 0.8916 - val_acc: 0.2515\n"
       ]
      },
      {
       "output_type": "stream",
       "stream": "stdout",
       "text": [
        "Epoch 55/130\n",
        "0s - loss: 0.8876 - acc: 0.2514 - val_loss: 0.8907 - val_acc: 0.2515\n"
       ]
      },
      {
       "output_type": "stream",
       "stream": "stdout",
       "text": [
        "Epoch 56/130\n",
        "0s - loss: 0.8867 - acc: 0.2514 - val_loss: 0.8898 - val_acc: 0.2515\n"
       ]
      },
      {
       "output_type": "stream",
       "stream": "stdout",
       "text": [
        "Epoch 57/130\n",
        "0s - loss: 0.8858 - acc: 0.2514 - val_loss: 0.8890 - val_acc: 0.2515\n"
       ]
      },
      {
       "output_type": "stream",
       "stream": "stdout",
       "text": [
        "Epoch 58/130\n",
        "0s - loss: 0.8850 - acc: 0.2514 - val_loss: 0.8882 - val_acc: 0.2515\n"
       ]
      },
      {
       "output_type": "stream",
       "stream": "stdout",
       "text": [
        "Epoch 59/130\n",
        "0s - loss: 0.8842 - acc: 0.2514 - val_loss: 0.8873 - val_acc: 0.2515\n"
       ]
      },
      {
       "output_type": "stream",
       "stream": "stdout",
       "text": [
        "Epoch 60/130\n",
        "0s - loss: 0.8834 - acc: 0.2514 - val_loss: 0.8865 - val_acc: 0.2515\n"
       ]
      },
      {
       "output_type": "stream",
       "stream": "stdout",
       "text": [
        "Epoch 61/130\n",
        "0s - loss: 0.8826 - acc: 0.2514 - val_loss: 0.8858 - val_acc: 0.2515\n"
       ]
      },
      {
       "output_type": "stream",
       "stream": "stdout",
       "text": [
        "Epoch 62/130\n",
        "0s - loss: 0.8818 - acc: 0.2514 - val_loss: 0.8850 - val_acc: 0.2515\n"
       ]
      },
      {
       "output_type": "stream",
       "stream": "stdout",
       "text": [
        "Epoch 63/130\n",
        "0s - loss: 0.8811 - acc: 0.2514 - val_loss: 0.8843 - val_acc: 0.2515\n"
       ]
      },
      {
       "output_type": "stream",
       "stream": "stdout",
       "text": [
        "Epoch 64/130\n",
        "0s - loss: 0.8803 - acc: 0.2514 - val_loss: 0.8835 - val_acc: 0.2515\n"
       ]
      },
      {
       "output_type": "stream",
       "stream": "stdout",
       "text": [
        "Epoch 65/130\n",
        "0s - loss: 0.8796 - acc: 0.2514 - val_loss: 0.8828 - val_acc: 0.2515\n"
       ]
      },
      {
       "output_type": "stream",
       "stream": "stdout",
       "text": [
        "Epoch 66/130\n",
        "0s - loss: 0.8789 - acc: 0.2514 - val_loss: 0.8821 - val_acc: 0.2515\n"
       ]
      },
      {
       "output_type": "stream",
       "stream": "stdout",
       "text": [
        "Epoch 67/130\n",
        "0s - loss: 0.8783 - acc: 0.2514 - val_loss: 0.8815 - val_acc: 0.2515\n"
       ]
      },
      {
       "output_type": "stream",
       "stream": "stdout",
       "text": [
        "Epoch 68/130\n",
        "0s - loss: 0.8776 - acc: 0.2514 - val_loss: 0.8808 - val_acc: 0.2515\n"
       ]
      },
      {
       "output_type": "stream",
       "stream": "stdout",
       "text": [
        "Epoch 69/130\n",
        "0s - loss: 0.8769 - acc: 0.2514 - val_loss: 0.8802 - val_acc: 0.2515\n"
       ]
      },
      {
       "output_type": "stream",
       "stream": "stdout",
       "text": [
        "Epoch 70/130\n",
        "0s - loss: 0.8763 - acc: 0.2514 - val_loss: 0.8795 - val_acc: 0.2515\n"
       ]
      },
      {
       "output_type": "stream",
       "stream": "stdout",
       "text": [
        "Epoch 71/130\n",
        "0s - loss: 0.8757 - acc: 0.2514 - val_loss: 0.8789 - val_acc: 0.2515\n"
       ]
      },
      {
       "output_type": "stream",
       "stream": "stdout",
       "text": [
        "Epoch 72/130\n",
        "0s - loss: 0.8751 - acc: 0.2514 - val_loss: 0.8783 - val_acc: 0.2515\n"
       ]
      },
      {
       "output_type": "stream",
       "stream": "stdout",
       "text": [
        "Epoch 73/130\n",
        "0s - loss: 0.8745 - acc: 0.2514 - val_loss: 0.8777 - val_acc: 0.2515\n"
       ]
      },
      {
       "output_type": "stream",
       "stream": "stdout",
       "text": [
        "Epoch 74/130\n",
        "0s - loss: 0.8739 - acc: 0.2514 - val_loss: 0.8771 - val_acc: 0.2515\n"
       ]
      },
      {
       "output_type": "stream",
       "stream": "stdout",
       "text": [
        "Epoch 75/130\n",
        "0s - loss: 0.8733 - acc: 0.2514 - val_loss: 0.8766 - val_acc: 0.2515\n"
       ]
      },
      {
       "output_type": "stream",
       "stream": "stdout",
       "text": [
        "Epoch 76/130\n",
        "0s - loss: 0.8727 - acc: 0.2514 - val_loss: 0.8760 - val_acc: 0.2515\n"
       ]
      },
      {
       "output_type": "stream",
       "stream": "stdout",
       "text": [
        "Epoch 77/130\n",
        "0s - loss: 0.8722 - acc: 0.2514 - val_loss: 0.8755 - val_acc: 0.2515\n"
       ]
      },
      {
       "output_type": "stream",
       "stream": "stdout",
       "text": [
        "Epoch 78/130\n",
        "0s - loss: 0.8716 - acc: 0.2514 - val_loss: 0.8749 - val_acc: 0.2515\n"
       ]
      },
      {
       "output_type": "stream",
       "stream": "stdout",
       "text": [
        "Epoch 79/130\n",
        "0s - loss: 0.8711 - acc: 0.2514 - val_loss: 0.8744 - val_acc: 0.2515\n"
       ]
      },
      {
       "output_type": "stream",
       "stream": "stdout",
       "text": [
        "Epoch 80/130\n",
        "0s - loss: 0.8706 - acc: 0.2514 - val_loss: 0.8739 - val_acc: 0.2515\n"
       ]
      },
      {
       "output_type": "stream",
       "stream": "stdout",
       "text": [
        "Epoch 81/130\n",
        "0s - loss: 0.8701 - acc: 0.2514 - val_loss: 0.8734 - val_acc: 0.2515\n"
       ]
      },
      {
       "output_type": "stream",
       "stream": "stdout",
       "text": [
        "Epoch 82/130\n",
        "0s - loss: 0.8696 - acc: 0.2514 - val_loss: 0.8729 - val_acc: 0.2515\n"
       ]
      },
      {
       "output_type": "stream",
       "stream": "stdout",
       "text": [
        "Epoch 83/130\n",
        "0s - loss: 0.8691 - acc: 0.2514 - val_loss: 0.8724 - val_acc: 0.2515\n"
       ]
      },
      {
       "output_type": "stream",
       "stream": "stdout",
       "text": [
        "Epoch 84/130\n",
        "0s - loss: 0.8686 - acc: 0.2514 - val_loss: 0.8719 - val_acc: 0.2515\n"
       ]
      },
      {
       "output_type": "stream",
       "stream": "stdout",
       "text": [
        "Epoch 85/130\n",
        "0s - loss: 0.8681 - acc: 0.2514 - val_loss: 0.8714 - val_acc: 0.2515\n"
       ]
      },
      {
       "output_type": "stream",
       "stream": "stdout",
       "text": [
        "Epoch 86/130\n",
        "0s - loss: 0.8677 - acc: 0.2514 - val_loss: 0.8710 - val_acc: 0.2515\n"
       ]
      },
      {
       "output_type": "stream",
       "stream": "stdout",
       "text": [
        "Epoch 87/130\n",
        "0s - loss: 0.8672 - acc: 0.2514 - val_loss: 0.8705 - val_acc: 0.2515\n"
       ]
      },
      {
       "output_type": "stream",
       "stream": "stdout",
       "text": [
        "Epoch 88/130\n",
        "0s - loss: 0.8668 - acc: 0.2514 - val_loss: 0.8701 - val_acc: 0.2515\n"
       ]
      },
      {
       "output_type": "stream",
       "stream": "stdout",
       "text": [
        "Epoch 89/130\n",
        "0s - loss: 0.8663 - acc: 0.2514 - val_loss: 0.8696 - val_acc: 0.2515\n"
       ]
      },
      {
       "output_type": "stream",
       "stream": "stdout",
       "text": [
        "Epoch 90/130\n",
        "0s - loss: 0.8659 - acc: 0.2514 - val_loss: 0.8692 - val_acc: 0.2515\n"
       ]
      },
      {
       "output_type": "stream",
       "stream": "stdout",
       "text": [
        "Epoch 91/130\n",
        "0s - loss: 0.8655 - acc: 0.2514 - val_loss: 0.8688 - val_acc: 0.2515\n"
       ]
      },
      {
       "output_type": "stream",
       "stream": "stdout",
       "text": [
        "Epoch 92/130\n",
        "0s - loss: 0.8651 - acc: 0.2514 - val_loss: 0.8684 - val_acc: 0.2515\n"
       ]
      },
      {
       "output_type": "stream",
       "stream": "stdout",
       "text": [
        "Epoch 93/130\n",
        "0s - loss: 0.8647 - acc: 0.2514 - val_loss: 0.8680 - val_acc: 0.2515\n"
       ]
      },
      {
       "output_type": "stream",
       "stream": "stdout",
       "text": [
        "Epoch 94/130\n",
        "0s - loss: 0.8643 - acc: 0.2514 - val_loss: 0.8676 - val_acc: 0.2515\n"
       ]
      },
      {
       "output_type": "stream",
       "stream": "stdout",
       "text": [
        "Epoch 95/130\n",
        "0s - loss: 0.8639 - acc: 0.2514 - val_loss: 0.8672 - val_acc: 0.2515\n"
       ]
      },
      {
       "output_type": "stream",
       "stream": "stdout",
       "text": [
        "Epoch 96/130\n",
        "0s - loss: 0.8635 - acc: 0.2514 - val_loss: 0.8668 - val_acc: 0.2515\n"
       ]
      },
      {
       "output_type": "stream",
       "stream": "stdout",
       "text": [
        "Epoch 97/130\n",
        "0s - loss: 0.8631 - acc: 0.2514 - val_loss: 0.8664 - val_acc: 0.2515\n"
       ]
      },
      {
       "output_type": "stream",
       "stream": "stdout",
       "text": [
        "Epoch 98/130\n",
        "0s - loss: 0.8627 - acc: 0.2514 - val_loss: 0.8660 - val_acc: 0.2515\n"
       ]
      },
      {
       "output_type": "stream",
       "stream": "stdout",
       "text": [
        "Epoch 99/130\n",
        "0s - loss: 0.8624 - acc: 0.2514 - val_loss: 0.8657 - val_acc: 0.2515\n"
       ]
      },
      {
       "output_type": "stream",
       "stream": "stdout",
       "text": [
        "Epoch 100/130\n",
        "0s - loss: 0.8620 - acc: 0.2514 - val_loss: 0.8653 - val_acc: 0.2515\n"
       ]
      },
      {
       "output_type": "stream",
       "stream": "stdout",
       "text": [
        "Epoch 101/130\n",
        "0s - loss: 0.8616 - acc: 0.2514 - val_loss: 0.8650 - val_acc: 0.2515\n"
       ]
      },
      {
       "output_type": "stream",
       "stream": "stdout",
       "text": [
        "Epoch 102/130\n",
        "0s - loss: 0.8613 - acc: 0.2514 - val_loss: 0.8646 - val_acc: 0.2515\n"
       ]
      },
      {
       "output_type": "stream",
       "stream": "stdout",
       "text": [
        "Epoch 103/130\n",
        "0s - loss: 0.8609 - acc: 0.2514 - val_loss: 0.8643 - val_acc: 0.2515\n"
       ]
      },
      {
       "output_type": "stream",
       "stream": "stdout",
       "text": [
        "Epoch 104/130\n",
        "0s - loss: 0.8606 - acc: 0.2514 - val_loss: 0.8639 - val_acc: 0.2515\n"
       ]
      },
      {
       "output_type": "stream",
       "stream": "stdout",
       "text": [
        "Epoch 105/130\n",
        "0s - loss: 0.8603 - acc: 0.2514 - val_loss: 0.8636 - val_acc: 0.2515\n"
       ]
      },
      {
       "output_type": "stream",
       "stream": "stdout",
       "text": [
        "Epoch 106/130\n",
        "0s - loss: 0.8599 - acc: 0.2514 - val_loss: 0.8633 - val_acc: 0.2515\n"
       ]
      },
      {
       "output_type": "stream",
       "stream": "stdout",
       "text": [
        "Epoch 107/130\n",
        "0s - loss: 0.8596 - acc: 0.2514 - val_loss: 0.8629 - val_acc: 0.2515\n"
       ]
      },
      {
       "output_type": "stream",
       "stream": "stdout",
       "text": [
        "Epoch 108/130\n",
        "0s - loss: 0.8593 - acc: 0.2514 - val_loss: 0.8626 - val_acc: 0.2515\n"
       ]
      },
      {
       "output_type": "stream",
       "stream": "stdout",
       "text": [
        "Epoch 109/130\n",
        "0s - loss: 0.8590 - acc: 0.2514 - val_loss: 0.8623 - val_acc: 0.2515\n"
       ]
      },
      {
       "output_type": "stream",
       "stream": "stdout",
       "text": [
        "Epoch 110/130\n",
        "0s - loss: 0.8587 - acc: 0.2514 - val_loss: 0.8620 - val_acc: 0.2515\n"
       ]
      },
      {
       "output_type": "stream",
       "stream": "stdout",
       "text": [
        "Epoch 111/130\n",
        "0s - loss: 0.8584 - acc: 0.2514 - val_loss: 0.8617 - val_acc: 0.2515\n"
       ]
      },
      {
       "output_type": "stream",
       "stream": "stdout",
       "text": [
        "Epoch 112/130\n",
        "0s - loss: 0.8581 - acc: 0.2514 - val_loss: 0.8614 - val_acc: 0.2515\n"
       ]
      },
      {
       "output_type": "stream",
       "stream": "stdout",
       "text": [
        "Epoch 113/130\n",
        "0s - loss: 0.8578 - acc: 0.2514 - val_loss: 0.8611 - val_acc: 0.2515\n"
       ]
      },
      {
       "output_type": "stream",
       "stream": "stdout",
       "text": [
        "Epoch 114/130\n",
        "0s - loss: 0.8575 - acc: 0.2514 - val_loss: 0.8608 - val_acc: 0.2515\n"
       ]
      },
      {
       "output_type": "stream",
       "stream": "stdout",
       "text": [
        "Epoch 115/130\n",
        "0s - loss: 0.8572 - acc: 0.2514 - val_loss: 0.8605 - val_acc: 0.2515\n"
       ]
      },
      {
       "output_type": "stream",
       "stream": "stdout",
       "text": [
        "Epoch 116/130\n",
        "0s - loss: 0.8569 - acc: 0.2514 - val_loss: 0.8602 - val_acc: 0.2515\n"
       ]
      },
      {
       "output_type": "stream",
       "stream": "stdout",
       "text": [
        "Epoch 117/130\n",
        "0s - loss: 0.8566 - acc: 0.2514 - val_loss: 0.8600 - val_acc: 0.2515\n"
       ]
      },
      {
       "output_type": "stream",
       "stream": "stdout",
       "text": [
        "Epoch 118/130\n",
        "0s - loss: 0.8564 - acc: 0.2514 - val_loss: 0.8597 - val_acc: 0.2515\n"
       ]
      },
      {
       "output_type": "stream",
       "stream": "stdout",
       "text": [
        "Epoch 119/130\n",
        "0s - loss: 0.8561 - acc: 0.2514 - val_loss: 0.8594 - val_acc: 0.2515\n"
       ]
      },
      {
       "output_type": "stream",
       "stream": "stdout",
       "text": [
        "Epoch 120/130\n",
        "0s - loss: 0.8558 - acc: 0.2514 - val_loss: 0.8592 - val_acc: 0.2515\n"
       ]
      },
      {
       "output_type": "stream",
       "stream": "stdout",
       "text": [
        "Epoch 121/130\n",
        "0s - loss: 0.8556 - acc: 0.2514 - val_loss: 0.8589 - val_acc: 0.2515\n"
       ]
      },
      {
       "output_type": "stream",
       "stream": "stdout",
       "text": [
        "Epoch 122/130\n",
        "0s - loss: 0.8553 - acc: 0.2514 - val_loss: 0.8586 - val_acc: 0.2515\n"
       ]
      },
      {
       "output_type": "stream",
       "stream": "stdout",
       "text": [
        "Epoch 123/130\n",
        "0s - loss: 0.8550 - acc: 0.2514 - val_loss: 0.8584 - val_acc: 0.2515\n"
       ]
      },
      {
       "output_type": "stream",
       "stream": "stdout",
       "text": [
        "Epoch 124/130\n",
        "0s - loss: 0.8548 - acc: 0.2514 - val_loss: 0.8581 - val_acc: 0.2515\n"
       ]
      },
      {
       "output_type": "stream",
       "stream": "stdout",
       "text": [
        "Epoch 125/130\n",
        "0s - loss: 0.8545 - acc: 0.2514 - val_loss: 0.8579 - val_acc: 0.2515\n"
       ]
      },
      {
       "output_type": "stream",
       "stream": "stdout",
       "text": [
        "Epoch 126/130\n",
        "0s - loss: 0.8543 - acc: 0.2514 - val_loss: 0.8576 - val_acc: 0.2515\n"
       ]
      },
      {
       "output_type": "stream",
       "stream": "stdout",
       "text": [
        "Epoch 127/130\n",
        "0s - loss: 0.8541 - acc: 0.2514 - val_loss: 0.8574 - val_acc: 0.2515\n"
       ]
      },
      {
       "output_type": "stream",
       "stream": "stdout",
       "text": [
        "Epoch 128/130\n",
        "0s - loss: 0.8538 - acc: 0.2514 - val_loss: 0.8572 - val_acc: 0.2515\n"
       ]
      },
      {
       "output_type": "stream",
       "stream": "stdout",
       "text": [
        "Epoch 129/130\n",
        "0s - loss: 0.8536 - acc: 0.2514 - val_loss: 0.8569 - val_acc: 0.2515\n"
       ]
      },
      {
       "output_type": "stream",
       "stream": "stdout",
       "text": [
        "Epoch 130/130\n",
        "0s - loss: 0.8533 - acc: 0.2514 - val_loss: 0.8567 - val_acc: 0.2515\n"
       ]
      },
      {
       "output_type": "stream",
       "stream": "stdout",
       "text": [
        "\r",
        " 5000/20000 [======>.......................] - ETA: 0s"
       ]
      },
      {
       "output_type": "stream",
       "stream": "stdout",
       "text": [
        "\b\b\b\b\b\b\b\b\b\b\b\b\b\b\b\b\b\b\b\b\b\b\b\b\b\b\b\b\b\b\b\b\b\b\b\b\b\b\b\b\b\b\b\b\b\b\b\b\b\b\b\b\b\b\r",
        "20000/20000 [==============================] - 0s     "
       ]
      },
      {
       "output_type": "stream",
       "stream": "stdout",
       "text": [
        "\n",
        "\r",
        " 5000/20000 [======>.......................] - ETA: 0s"
       ]
      },
      {
       "output_type": "stream",
       "stream": "stdout",
       "text": [
        "\b\b\b\b\b\b\b\b\b\b\b\b\b\b\b\b\b\b\b\b\b\b\b\b\b\b\b\b\b\b\b\b\b\b\b\b\b\b\b\b\b\b\b\b\b\b\b\b\b\b\b\b\b\b\r",
        "20000/20000 [==============================] - 0s     "
       ]
      },
      {
       "output_type": "stream",
       "stream": "stdout",
       "text": [
        "\n",
        "Train on 80000 samples, validate on 20000 samples\n",
        "Epoch 1/130\n",
        "0s - loss: 1.6389 - acc: 0.2490 - val_loss: 1.6303 - val_acc: 0.2524\n"
       ]
      },
      {
       "output_type": "stream",
       "stream": "stdout",
       "text": [
        "Epoch 2/130\n",
        "0s - loss: 1.6297 - acc: 0.2490 - val_loss: 1.6212 - val_acc: 0.2524\n"
       ]
      },
      {
       "output_type": "stream",
       "stream": "stdout",
       "text": [
        "Epoch 3/130\n",
        "0s - loss: 1.6206 - acc: 0.2490 - val_loss: 1.6124 - val_acc: 0.2524\n"
       ]
      },
      {
       "output_type": "stream",
       "stream": "stdout",
       "text": [
        "Epoch 4/130\n",
        "0s - loss: 1.6118 - acc: 0.2490 - val_loss: 1.6037 - val_acc: 0.2524\n"
       ]
      },
      {
       "output_type": "stream",
       "stream": "stdout",
       "text": [
        "Epoch 5/130\n",
        "0s - loss: 1.6031 - acc: 0.2490 - val_loss: 1.5953 - val_acc: 0.2524\n"
       ]
      },
      {
       "output_type": "stream",
       "stream": "stdout",
       "text": [
        "Epoch 6/130\n",
        "0s - loss: 1.5947 - acc: 0.2490 - val_loss: 1.5870 - val_acc: 0.2524\n"
       ]
      },
      {
       "output_type": "stream",
       "stream": "stdout",
       "text": [
        "Epoch 7/130\n",
        "0s - loss: 1.5864 - acc: 0.2490 - val_loss: 1.5789 - val_acc: 0.2524\n"
       ]
      },
      {
       "output_type": "stream",
       "stream": "stdout",
       "text": [
        "Epoch 8/130\n",
        "0s - loss: 1.5784 - acc: 0.2490 - val_loss: 1.5710 - val_acc: 0.2524\n"
       ]
      },
      {
       "output_type": "stream",
       "stream": "stdout",
       "text": [
        "Epoch 9/130\n",
        "0s - loss: 1.5705 - acc: 0.2490 - val_loss: 1.5634 - val_acc: 0.2524\n"
       ]
      },
      {
       "output_type": "stream",
       "stream": "stdout",
       "text": [
        "Epoch 10/130\n",
        "0s - loss: 1.5629 - acc: 0.2490 - val_loss: 1.5559 - val_acc: 0.2524\n"
       ]
      },
      {
       "output_type": "stream",
       "stream": "stdout",
       "text": [
        "Epoch 11/130\n",
        "0s - loss: 1.5554 - acc: 0.2490 - val_loss: 1.5486 - val_acc: 0.2524\n"
       ]
      },
      {
       "output_type": "stream",
       "stream": "stdout",
       "text": [
        "Epoch 12/130\n",
        "0s - loss: 1.5481 - acc: 0.2490 - val_loss: 1.5415 - val_acc: 0.2524\n"
       ]
      },
      {
       "output_type": "stream",
       "stream": "stdout",
       "text": [
        "Epoch 13/130\n",
        "0s - loss: 1.5411 - acc: 0.2490 - val_loss: 1.5347 - val_acc: 0.2524\n"
       ]
      },
      {
       "output_type": "stream",
       "stream": "stdout",
       "text": [
        "Epoch 14/130\n",
        "0s - loss: 1.5342 - acc: 0.2490 - val_loss: 1.5280 - val_acc: 0.2524\n"
       ]
      },
      {
       "output_type": "stream",
       "stream": "stdout",
       "text": [
        "Epoch 15/130\n",
        "0s - loss: 1.5276 - acc: 0.2490 - val_loss: 1.5215 - val_acc: 0.2524\n"
       ]
      },
      {
       "output_type": "stream",
       "stream": "stdout",
       "text": [
        "Epoch 16/130\n",
        "0s - loss: 1.5211 - acc: 0.2490 - val_loss: 1.5152 - val_acc: 0.2524\n"
       ]
      },
      {
       "output_type": "stream",
       "stream": "stdout",
       "text": [
        "Epoch 17/130\n",
        "0s - loss: 1.5149 - acc: 0.2490 - val_loss: 1.5092 - val_acc: 0.2524\n"
       ]
      },
      {
       "output_type": "stream",
       "stream": "stdout",
       "text": [
        "Epoch 18/130\n",
        "0s - loss: 1.5088 - acc: 0.2490 - val_loss: 1.5033 - val_acc: 0.2524\n"
       ]
      },
      {
       "output_type": "stream",
       "stream": "stdout",
       "text": [
        "Epoch 19/130\n",
        "0s - loss: 1.5030 - acc: 0.2490 - val_loss: 1.4976 - val_acc: 0.2524\n"
       ]
      },
      {
       "output_type": "stream",
       "stream": "stdout",
       "text": [
        "Epoch 20/130\n",
        "0s - loss: 1.4973 - acc: 0.2490 - val_loss: 1.4921 - val_acc: 0.2524\n"
       ]
      },
      {
       "output_type": "stream",
       "stream": "stdout",
       "text": [
        "Epoch 21/130\n",
        "0s - loss: 1.4919 - acc: 0.2490 - val_loss: 1.4869 - val_acc: 0.2524\n"
       ]
      },
      {
       "output_type": "stream",
       "stream": "stdout",
       "text": [
        "Epoch 22/130\n",
        "0s - loss: 1.4866 - acc: 0.2490 - val_loss: 1.4818 - val_acc: 0.2524\n"
       ]
      },
      {
       "output_type": "stream",
       "stream": "stdout",
       "text": [
        "Epoch 23/130\n",
        "0s - loss: 1.4816 - acc: 0.2490 - val_loss: 1.4769 - val_acc: 0.2524\n"
       ]
      },
      {
       "output_type": "stream",
       "stream": "stdout",
       "text": [
        "Epoch 24/130\n",
        "0s - loss: 1.4767 - acc: 0.2490 - val_loss: 1.4722 - val_acc: 0.2524\n"
       ]
      },
      {
       "output_type": "stream",
       "stream": "stdout",
       "text": [
        "Epoch 25/130\n",
        "0s - loss: 1.4720 - acc: 0.2490 - val_loss: 1.4676 - val_acc: 0.2524\n"
       ]
      },
      {
       "output_type": "stream",
       "stream": "stdout",
       "text": [
        "Epoch 26/130\n",
        "0s - loss: 1.4675 - acc: 0.2490 - val_loss: 1.4633 - val_acc: 0.2524\n"
       ]
      },
      {
       "output_type": "stream",
       "stream": "stdout",
       "text": [
        "Epoch 27/130\n",
        "0s - loss: 1.4632 - acc: 0.2490 - val_loss: 1.4591 - val_acc: 0.2524\n"
       ]
      },
      {
       "output_type": "stream",
       "stream": "stdout",
       "text": [
        "Epoch 28/130\n",
        "0s - loss: 1.4591 - acc: 0.2490 - val_loss: 1.4551 - val_acc: 0.2524\n"
       ]
      },
      {
       "output_type": "stream",
       "stream": "stdout",
       "text": [
        "Epoch 29/130\n",
        "0s - loss: 1.4551 - acc: 0.2490 - val_loss: 1.4513 - val_acc: 0.2524\n"
       ]
      },
      {
       "output_type": "stream",
       "stream": "stdout",
       "text": [
        "Epoch 30/130\n",
        "0s - loss: 1.4513 - acc: 0.2490 - val_loss: 1.4477 - val_acc: 0.2524\n"
       ]
      },
      {
       "output_type": "stream",
       "stream": "stdout",
       "text": [
        "Epoch 31/130\n",
        "0s - loss: 1.4477 - acc: 0.2490 - val_loss: 1.4442 - val_acc: 0.2524\n"
       ]
      },
      {
       "output_type": "stream",
       "stream": "stdout",
       "text": [
        "Epoch 32/130\n",
        "0s - loss: 1.4442 - acc: 0.2203 - val_loss: 1.4409 - val_acc: 0.2524\n"
       ]
      },
      {
       "output_type": "stream",
       "stream": "stdout",
       "text": [
        "Epoch 33/130\n",
        "0s - loss: 1.4409 - acc: 0.2003 - val_loss: 1.4377 - val_acc: 0.2444\n"
       ]
      },
      {
       "output_type": "stream",
       "stream": "stdout",
       "text": [
        "Epoch 34/130\n",
        "0s - loss: 1.4378 - acc: 0.2364 - val_loss: 1.4347 - val_acc: 0.2444\n"
       ]
      },
      {
       "output_type": "stream",
       "stream": "stdout",
       "text": [
        "Epoch 35/130\n",
        "0s - loss: 1.4348 - acc: 0.2503 - val_loss: 1.4318 - val_acc: 0.2444\n"
       ]
      },
      {
       "output_type": "stream",
       "stream": "stdout",
       "text": [
        "Epoch 36/130\n",
        "0s - loss: 1.4319 - acc: 0.2503 - val_loss: 1.4291 - val_acc: 0.2444\n"
       ]
      },
      {
       "output_type": "stream",
       "stream": "stdout",
       "text": [
        "Epoch 37/130\n",
        "0s - loss: 1.4292 - acc: 0.2503 - val_loss: 1.4265 - val_acc: 0.2444\n"
       ]
      },
      {
       "output_type": "stream",
       "stream": "stdout",
       "text": [
        "Epoch 38/130\n",
        "0s - loss: 1.4267 - acc: 0.2503 - val_loss: 1.4241 - val_acc: 0.2444\n"
       ]
      },
      {
       "output_type": "stream",
       "stream": "stdout",
       "text": [
        "Epoch 39/130\n",
        "0s - loss: 1.4242 - acc: 0.2503 - val_loss: 1.4217 - val_acc: 0.2444\n"
       ]
      },
      {
       "output_type": "stream",
       "stream": "stdout",
       "text": [
        "Epoch 40/130\n",
        "0s - loss: 1.4219 - acc: 0.2503 - val_loss: 1.4195 - val_acc: 0.2444\n"
       ]
      },
      {
       "output_type": "stream",
       "stream": "stdout",
       "text": [
        "Epoch 41/130\n",
        "0s - loss: 1.4197 - acc: 0.2503 - val_loss: 1.4174 - val_acc: 0.2444\n"
       ]
      },
      {
       "output_type": "stream",
       "stream": "stdout",
       "text": [
        "Epoch 42/130\n",
        "0s - loss: 1.4176 - acc: 0.2503 - val_loss: 1.4155 - val_acc: 0.2444\n"
       ]
      },
      {
       "output_type": "stream",
       "stream": "stdout",
       "text": [
        "Epoch 43/130\n",
        "0s - loss: 1.4157 - acc: 0.2503 - val_loss: 1.4136 - val_acc: 0.2444\n"
       ]
      },
      {
       "output_type": "stream",
       "stream": "stdout",
       "text": [
        "Epoch 44/130\n",
        "0s - loss: 1.4138 - acc: 0.2503 - val_loss: 1.4118 - val_acc: 0.2444\n"
       ]
      },
      {
       "output_type": "stream",
       "stream": "stdout",
       "text": [
        "Epoch 45/130\n",
        "0s - loss: 1.4121 - acc: 0.2503 - val_loss: 1.4102 - val_acc: 0.2444\n"
       ]
      },
      {
       "output_type": "stream",
       "stream": "stdout",
       "text": [
        "Epoch 46/130\n",
        "0s - loss: 1.4104 - acc: 0.2503 - val_loss: 1.4086 - val_acc: 0.2444\n"
       ]
      },
      {
       "output_type": "stream",
       "stream": "stdout",
       "text": [
        "Epoch 47/130\n",
        "0s - loss: 1.4089 - acc: 0.2503 - val_loss: 1.4071 - val_acc: 0.2444\n"
       ]
      },
      {
       "output_type": "stream",
       "stream": "stdout",
       "text": [
        "Epoch 48/130\n",
        "0s - loss: 1.4074 - acc: 0.2503 - val_loss: 1.4058 - val_acc: 0.2444\n"
       ]
      },
      {
       "output_type": "stream",
       "stream": "stdout",
       "text": [
        "Epoch 49/130\n",
        "0s - loss: 1.4060 - acc: 0.2503 - val_loss: 1.4044 - val_acc: 0.2444\n"
       ]
      },
      {
       "output_type": "stream",
       "stream": "stdout",
       "text": [
        "Epoch 50/130\n",
        "0s - loss: 1.4047 - acc: 0.2503 - val_loss: 1.4032 - val_acc: 0.2444\n"
       ]
      },
      {
       "output_type": "stream",
       "stream": "stdout",
       "text": [
        "Epoch 51/130\n",
        "0s - loss: 1.4035 - acc: 0.2503 - val_loss: 1.4021 - val_acc: 0.2444\n"
       ]
      },
      {
       "output_type": "stream",
       "stream": "stdout",
       "text": [
        "Epoch 52/130\n",
        "0s - loss: 1.4024 - acc: 0.2503 - val_loss: 1.4010 - val_acc: 0.2444\n"
       ]
      },
      {
       "output_type": "stream",
       "stream": "stdout",
       "text": [
        "Epoch 53/130\n",
        "0s - loss: 1.4013 - acc: 0.2503 - val_loss: 1.4000 - val_acc: 0.2444\n"
       ]
      },
      {
       "output_type": "stream",
       "stream": "stdout",
       "text": [
        "Epoch 54/130\n",
        "0s - loss: 1.4003 - acc: 0.2503 - val_loss: 1.3990 - val_acc: 0.2444\n"
       ]
      },
      {
       "output_type": "stream",
       "stream": "stdout",
       "text": [
        "Epoch 55/130\n",
        "0s - loss: 1.3993 - acc: 0.2503 - val_loss: 1.3981 - val_acc: 0.2444\n"
       ]
      },
      {
       "output_type": "stream",
       "stream": "stdout",
       "text": [
        "Epoch 56/130\n",
        "0s - loss: 1.3984 - acc: 0.2503 - val_loss: 1.3973 - val_acc: 0.2444\n"
       ]
      },
      {
       "output_type": "stream",
       "stream": "stdout",
       "text": [
        "Epoch 57/130\n",
        "0s - loss: 1.3976 - acc: 0.2503 - val_loss: 1.3965 - val_acc: 0.2444\n"
       ]
      },
      {
       "output_type": "stream",
       "stream": "stdout",
       "text": [
        "Epoch 58/130\n",
        "0s - loss: 1.3968 - acc: 0.2503 - val_loss: 1.3958 - val_acc: 0.2444\n"
       ]
      },
      {
       "output_type": "stream",
       "stream": "stdout",
       "text": [
        "Epoch 59/130\n",
        "0s - loss: 1.3961 - acc: 0.2503 - val_loss: 1.3951 - val_acc: 0.2444\n"
       ]
      },
      {
       "output_type": "stream",
       "stream": "stdout",
       "text": [
        "Epoch 60/130\n",
        "0s - loss: 1.3954 - acc: 0.2503 - val_loss: 1.3945 - val_acc: 0.2444\n"
       ]
      },
      {
       "output_type": "stream",
       "stream": "stdout",
       "text": [
        "Epoch 61/130\n",
        "0s - loss: 1.3948 - acc: 0.2503 - val_loss: 1.3939 - val_acc: 0.2444\n"
       ]
      },
      {
       "output_type": "stream",
       "stream": "stdout",
       "text": [
        "Epoch 62/130\n",
        "0s - loss: 1.3942 - acc: 0.2503 - val_loss: 1.3933 - val_acc: 0.2444\n"
       ]
      },
      {
       "output_type": "stream",
       "stream": "stdout",
       "text": [
        "Epoch 63/130\n",
        "0s - loss: 1.3936 - acc: 0.2503 - val_loss: 1.3928 - val_acc: 0.2444\n"
       ]
      },
      {
       "output_type": "stream",
       "stream": "stdout",
       "text": [
        "Epoch 64/130\n",
        "0s - loss: 1.3931 - acc: 0.2503 - val_loss: 1.3924 - val_acc: 0.2444\n"
       ]
      },
      {
       "output_type": "stream",
       "stream": "stdout",
       "text": [
        "Epoch 65/130\n",
        "0s - loss: 1.3926 - acc: 0.2503 - val_loss: 1.3919 - val_acc: 0.2444\n"
       ]
      },
      {
       "output_type": "stream",
       "stream": "stdout",
       "text": [
        "Epoch 66/130\n",
        "0s - loss: 1.3922 - acc: 0.2503 - val_loss: 1.3915 - val_acc: 0.2444\n"
       ]
      },
      {
       "output_type": "stream",
       "stream": "stdout",
       "text": [
        "Epoch 67/130\n",
        "0s - loss: 1.3918 - acc: 0.2503 - val_loss: 1.3911 - val_acc: 0.2444\n"
       ]
      },
      {
       "output_type": "stream",
       "stream": "stdout",
       "text": [
        "Epoch 68/130\n",
        "0s - loss: 1.3914 - acc: 0.2503 - val_loss: 1.3907 - val_acc: 0.2444\n"
       ]
      },
      {
       "output_type": "stream",
       "stream": "stdout",
       "text": [
        "Epoch 69/130\n",
        "0s - loss: 1.3910 - acc: 0.2503 - val_loss: 1.3904 - val_acc: 0.2444\n"
       ]
      },
      {
       "output_type": "stream",
       "stream": "stdout",
       "text": [
        "Epoch 70/130\n",
        "0s - loss: 1.3907 - acc: 0.2503 - val_loss: 1.3901 - val_acc: 0.2444\n"
       ]
      },
      {
       "output_type": "stream",
       "stream": "stdout",
       "text": [
        "Epoch 71/130\n",
        "0s - loss: 1.3903 - acc: 0.2503 - val_loss: 1.3898 - val_acc: 0.2444\n"
       ]
      },
      {
       "output_type": "stream",
       "stream": "stdout",
       "text": [
        "Epoch 72/130\n",
        "0s - loss: 1.3900 - acc: 0.2503 - val_loss: 1.3895 - val_acc: 0.2444\n"
       ]
      },
      {
       "output_type": "stream",
       "stream": "stdout",
       "text": [
        "Epoch 73/130\n",
        "0s - loss: 1.3898 - acc: 0.2503 - val_loss: 1.3893 - val_acc: 0.2444\n"
       ]
      },
      {
       "output_type": "stream",
       "stream": "stdout",
       "text": [
        "Epoch 74/130\n",
        "0s - loss: 1.3895 - acc: 0.2503 - val_loss: 1.3891 - val_acc: 0.2444\n"
       ]
      },
      {
       "output_type": "stream",
       "stream": "stdout",
       "text": [
        "Epoch 75/130\n",
        "0s - loss: 1.3893 - acc: 0.2503 - val_loss: 1.3888 - val_acc: 0.2444\n"
       ]
      },
      {
       "output_type": "stream",
       "stream": "stdout",
       "text": [
        "Epoch 76/130\n",
        "0s - loss: 1.3891 - acc: 0.2503 - val_loss: 1.3886 - val_acc: 0.2444\n"
       ]
      },
      {
       "output_type": "stream",
       "stream": "stdout",
       "text": [
        "Epoch 77/130\n",
        "0s - loss: 1.3889 - acc: 0.2503 - val_loss: 1.3885 - val_acc: 0.2444\n"
       ]
      },
      {
       "output_type": "stream",
       "stream": "stdout",
       "text": [
        "Epoch 78/130\n",
        "0s - loss: 1.3887 - acc: 0.2503 - val_loss: 1.3883 - val_acc: 0.2444\n"
       ]
      },
      {
       "output_type": "stream",
       "stream": "stdout",
       "text": [
        "Epoch 79/130\n",
        "0s - loss: 1.3885 - acc: 0.2503 - val_loss: 1.3881 - val_acc: 0.2444\n"
       ]
      },
      {
       "output_type": "stream",
       "stream": "stdout",
       "text": [
        "Epoch 80/130\n",
        "0s - loss: 1.3883 - acc: 0.2503 - val_loss: 1.3880 - val_acc: 0.2444\n"
       ]
      },
      {
       "output_type": "stream",
       "stream": "stdout",
       "text": [
        "Epoch 81/130\n",
        "0s - loss: 1.3882 - acc: 0.2503 - val_loss: 1.3879 - val_acc: 0.2444\n"
       ]
      },
      {
       "output_type": "stream",
       "stream": "stdout",
       "text": [
        "Epoch 82/130\n",
        "0s - loss: 1.3880 - acc: 0.2503 - val_loss: 1.3877 - val_acc: 0.2444\n"
       ]
      },
      {
       "output_type": "stream",
       "stream": "stdout",
       "text": [
        "Epoch 83/130\n",
        "0s - loss: 1.3879 - acc: 0.2503 - val_loss: 1.3876 - val_acc: 0.2444\n"
       ]
      },
      {
       "output_type": "stream",
       "stream": "stdout",
       "text": [
        "Epoch 84/130\n",
        "0s - loss: 1.3878 - acc: 0.2503 - val_loss: 1.3875 - val_acc: 0.2444\n"
       ]
      },
      {
       "output_type": "stream",
       "stream": "stdout",
       "text": [
        "Epoch 85/130\n",
        "0s - loss: 1.3877 - acc: 0.2503 - val_loss: 1.3874 - val_acc: 0.2444\n"
       ]
      },
      {
       "output_type": "stream",
       "stream": "stdout",
       "text": [
        "Epoch 86/130\n",
        "0s - loss: 1.3876 - acc: 0.2503 - val_loss: 1.3873 - val_acc: 0.2444\n"
       ]
      },
      {
       "output_type": "stream",
       "stream": "stdout",
       "text": [
        "Epoch 87/130\n",
        "0s - loss: 1.3875 - acc: 0.2503 - val_loss: 1.3872 - val_acc: 0.2444\n"
       ]
      },
      {
       "output_type": "stream",
       "stream": "stdout",
       "text": [
        "Epoch 88/130\n",
        "0s - loss: 1.3874 - acc: 0.2503 - val_loss: 1.3872 - val_acc: 0.2444\n"
       ]
      },
      {
       "output_type": "stream",
       "stream": "stdout",
       "text": [
        "Epoch 89/130\n",
        "0s - loss: 1.3873 - acc: 0.2503 - val_loss: 1.3871 - val_acc: 0.2444\n"
       ]
      },
      {
       "output_type": "stream",
       "stream": "stdout",
       "text": [
        "Epoch 90/130\n",
        "0s - loss: 1.3872 - acc: 0.2503 - val_loss: 1.3870 - val_acc: 0.2444\n"
       ]
      },
      {
       "output_type": "stream",
       "stream": "stdout",
       "text": [
        "Epoch 91/130\n",
        "0s - loss: 1.3872 - acc: 0.2503 - val_loss: 1.3870 - val_acc: 0.2444\n"
       ]
      },
      {
       "output_type": "stream",
       "stream": "stdout",
       "text": [
        "Epoch 92/130\n",
        "0s - loss: 1.3871 - acc: 0.2503 - val_loss: 1.3869 - val_acc: 0.2444\n"
       ]
      },
      {
       "output_type": "stream",
       "stream": "stdout",
       "text": [
        "Epoch 93/130\n",
        "0s - loss: 1.3870 - acc: 0.2503 - val_loss: 1.3869 - val_acc: 0.2444\n"
       ]
      },
      {
       "output_type": "stream",
       "stream": "stdout",
       "text": [
        "Epoch 94/130\n",
        "0s - loss: 1.3870 - acc: 0.2503 - val_loss: 1.3868 - val_acc: 0.2444\n"
       ]
      },
      {
       "output_type": "stream",
       "stream": "stdout",
       "text": [
        "Epoch 95/130\n",
        "0s - loss: 1.3869 - acc: 0.2503 - val_loss: 1.3868 - val_acc: 0.2444\n"
       ]
      },
      {
       "output_type": "stream",
       "stream": "stdout",
       "text": [
        "Epoch 96/130\n",
        "0s - loss: 1.3869 - acc: 0.2503 - val_loss: 1.3867 - val_acc: 0.2444\n"
       ]
      },
      {
       "output_type": "stream",
       "stream": "stdout",
       "text": [
        "Epoch 97/130\n",
        "0s - loss: 1.3868 - acc: 0.2503 - val_loss: 1.3867 - val_acc: 0.2444\n"
       ]
      },
      {
       "output_type": "stream",
       "stream": "stdout",
       "text": [
        "Epoch 98/130\n",
        "0s - loss: 1.3868 - acc: 0.2503 - val_loss: 1.3867 - val_acc: 0.2444\n"
       ]
      },
      {
       "output_type": "stream",
       "stream": "stdout",
       "text": [
        "Epoch 99/130\n",
        "0s - loss: 1.3868 - acc: 0.2503 - val_loss: 1.3866 - val_acc: 0.2444\n"
       ]
      },
      {
       "output_type": "stream",
       "stream": "stdout",
       "text": [
        "Epoch 100/130\n",
        "0s - loss: 1.3867 - acc: 0.2503 - val_loss: 1.3866 - val_acc: 0.2444\n"
       ]
      },
      {
       "output_type": "stream",
       "stream": "stdout",
       "text": [
        "Epoch 101/130\n",
        "0s - loss: 1.3867 - acc: 0.2503 - val_loss: 1.3866 - val_acc: 0.2444\n"
       ]
      },
      {
       "output_type": "stream",
       "stream": "stdout",
       "text": [
        "Epoch 102/130\n",
        "0s - loss: 1.3867 - acc: 0.2503 - val_loss: 1.3865 - val_acc: 0.2444\n"
       ]
      },
      {
       "output_type": "stream",
       "stream": "stdout",
       "text": [
        "Epoch 103/130\n",
        "0s - loss: 1.3866 - acc: 0.2503 - val_loss: 1.3865 - val_acc: 0.2444\n"
       ]
      },
      {
       "output_type": "stream",
       "stream": "stdout",
       "text": [
        "Epoch 104/130\n",
        "0s - loss: 1.3866 - acc: 0.2503 - val_loss: 1.3865 - val_acc: 0.2444\n"
       ]
      },
      {
       "output_type": "stream",
       "stream": "stdout",
       "text": [
        "Epoch 105/130\n",
        "0s - loss: 1.3866 - acc: 0.2503 - val_loss: 1.3865 - val_acc: 0.2444\n"
       ]
      },
      {
       "output_type": "stream",
       "stream": "stdout",
       "text": [
        "Epoch 106/130\n",
        "0s - loss: 1.3866 - acc: 0.2503 - val_loss: 1.3865 - val_acc: 0.2444\n"
       ]
      },
      {
       "output_type": "stream",
       "stream": "stdout",
       "text": [
        "Epoch 107/130\n",
        "0s - loss: 1.3865 - acc: 0.2503 - val_loss: 1.3864 - val_acc: 0.2444\n"
       ]
      },
      {
       "output_type": "stream",
       "stream": "stdout",
       "text": [
        "Epoch 108/130\n",
        "0s - loss: 1.3865 - acc: 0.2503 - val_loss: 1.3864 - val_acc: 0.2444\n"
       ]
      },
      {
       "output_type": "stream",
       "stream": "stdout",
       "text": [
        "Epoch 109/130\n",
        "0s - loss: 1.3865 - acc: 0.2503 - val_loss: 1.3864 - val_acc: 0.2444\n"
       ]
      },
      {
       "output_type": "stream",
       "stream": "stdout",
       "text": [
        "Epoch 110/130\n",
        "0s - loss: 1.3865 - acc: 0.2503 - val_loss: 1.3864 - val_acc: 0.2444\n"
       ]
      },
      {
       "output_type": "stream",
       "stream": "stdout",
       "text": [
        "Epoch 111/130\n",
        "0s - loss: 1.3865 - acc: 0.2503 - val_loss: 1.3864 - val_acc: 0.2444\n"
       ]
      },
      {
       "output_type": "stream",
       "stream": "stdout",
       "text": [
        "Epoch 112/130\n",
        "0s - loss: 1.3865 - acc: 0.2503 - val_loss: 1.3864 - val_acc: 0.2444\n"
       ]
      },
      {
       "output_type": "stream",
       "stream": "stdout",
       "text": [
        "Epoch 113/130\n",
        "0s - loss: 1.3864 - acc: 0.2503 - val_loss: 1.3864 - val_acc: 0.2444\n"
       ]
      },
      {
       "output_type": "stream",
       "stream": "stdout",
       "text": [
        "Epoch 114/130\n",
        "0s - loss: 1.3864 - acc: 0.2503 - val_loss: 1.3864 - val_acc: 0.2444\n"
       ]
      },
      {
       "output_type": "stream",
       "stream": "stdout",
       "text": [
        "Epoch 115/130\n",
        "0s - loss: 1.3864 - acc: 0.2503 - val_loss: 1.3864 - val_acc: 0.2444\n"
       ]
      },
      {
       "output_type": "stream",
       "stream": "stdout",
       "text": [
        "Epoch 116/130\n",
        "0s - loss: 1.3864 - acc: 0.2503 - val_loss: 1.3864 - val_acc: 0.2444\n"
       ]
      },
      {
       "output_type": "stream",
       "stream": "stdout",
       "text": [
        "Epoch 117/130\n",
        "0s - loss: 1.3864 - acc: 0.2503 - val_loss: 1.3864 - val_acc: 0.2444\n"
       ]
      },
      {
       "output_type": "stream",
       "stream": "stdout",
       "text": [
        "Epoch 118/130\n",
        "0s - loss: 1.3864 - acc: 0.2503 - val_loss: 1.3863 - val_acc: 0.2444\n"
       ]
      },
      {
       "output_type": "stream",
       "stream": "stdout",
       "text": [
        "Epoch 119/130\n",
        "0s - loss: 1.3864 - acc: 0.2503 - val_loss: 1.3863 - val_acc: 0.2444\n"
       ]
      },
      {
       "output_type": "stream",
       "stream": "stdout",
       "text": [
        "Epoch 120/130\n",
        "0s - loss: 1.3864 - acc: 0.2503 - val_loss: 1.3863 - val_acc: 0.2444\n"
       ]
      },
      {
       "output_type": "stream",
       "stream": "stdout",
       "text": [
        "Epoch 121/130\n",
        "0s - loss: 1.3864 - acc: 0.2503 - val_loss: 1.3863 - val_acc: 0.2444\n"
       ]
      },
      {
       "output_type": "stream",
       "stream": "stdout",
       "text": [
        "Epoch 122/130\n",
        "0s - loss: 1.3864 - acc: 0.2503 - val_loss: 1.3863 - val_acc: 0.2444\n"
       ]
      },
      {
       "output_type": "stream",
       "stream": "stdout",
       "text": [
        "Epoch 123/130\n",
        "0s - loss: 1.3864 - acc: 0.2503 - val_loss: 1.3863 - val_acc: 0.2444\n"
       ]
      },
      {
       "output_type": "stream",
       "stream": "stdout",
       "text": [
        "Epoch 124/130\n",
        "0s - loss: 1.3864 - acc: 0.2503 - val_loss: 1.3863 - val_acc: 0.2444\n"
       ]
      },
      {
       "output_type": "stream",
       "stream": "stdout",
       "text": [
        "Epoch 125/130\n",
        "0s - loss: 1.3863 - acc: 0.2503 - val_loss: 1.3863 - val_acc: 0.2444\n"
       ]
      },
      {
       "output_type": "stream",
       "stream": "stdout",
       "text": [
        "Epoch 126/130\n",
        "0s - loss: 1.3863 - acc: 0.2503 - val_loss: 1.3863 - val_acc: 0.2444\n"
       ]
      },
      {
       "output_type": "stream",
       "stream": "stdout",
       "text": [
        "Epoch 127/130\n",
        "0s - loss: 1.3863 - acc: 0.2503 - val_loss: 1.3863 - val_acc: 0.2444\n"
       ]
      },
      {
       "output_type": "stream",
       "stream": "stdout",
       "text": [
        "Epoch 128/130\n",
        "0s - loss: 1.3863 - acc: 0.2503 - val_loss: 1.3863 - val_acc: 0.2444\n"
       ]
      },
      {
       "output_type": "stream",
       "stream": "stdout",
       "text": [
        "Epoch 129/130\n",
        "0s - loss: 1.3863 - acc: 0.2503 - val_loss: 1.3863 - val_acc: 0.2444\n"
       ]
      },
      {
       "output_type": "stream",
       "stream": "stdout",
       "text": [
        "Epoch 130/130\n",
        "0s - loss: 1.3863 - acc: 0.2503 - val_loss: 1.3863 - val_acc: 0.2444\n"
       ]
      },
      {
       "output_type": "stream",
       "stream": "stdout",
       "text": [
        "\r",
        " 5000/20000 [======>.......................] - ETA: 0s"
       ]
      },
      {
       "output_type": "stream",
       "stream": "stdout",
       "text": [
        "\b\b\b\b\b\b\b\b\b\b\b\b\b\b\b\b\b\b\b\b\b\b\b\b\b\b\b\b\b\b\b\b\b\b\b\b\b\b\b\b\b\b\b\b\b\b\b\b\b\b\b\b\b\b\r",
        "20000/20000 [==============================] - 0s     "
       ]
      },
      {
       "output_type": "stream",
       "stream": "stdout",
       "text": [
        "\n",
        "\r",
        " 5000/20000 [======>.......................] - ETA: 0s"
       ]
      },
      {
       "output_type": "stream",
       "stream": "stdout",
       "text": [
        "\b\b\b\b\b\b\b\b\b\b\b\b\b\b\b\b\b\b\b\b\b\b\b\b\b\b\b\b\b\b\b\b\b\b\b\b\b\b\b\b\b\b\b\b\b\b\b\b\b\b\b\b\b\b\r",
        "20000/20000 [==============================] - 0s     "
       ]
      },
      {
       "output_type": "stream",
       "stream": "stdout",
       "text": [
        "\n",
        "Train on 80000 samples, validate on 20000 samples\n",
        "Epoch 1/140\n",
        "0s - loss: 1.0286 - acc: 0.2492 - val_loss: 1.0291 - val_acc: 0.2551\n"
       ]
      },
      {
       "output_type": "stream",
       "stream": "stdout",
       "text": [
        "Epoch 2/140\n",
        "0s - loss: 1.0217 - acc: 0.2492 - val_loss: 1.0223 - val_acc: 0.2551\n"
       ]
      },
      {
       "output_type": "stream",
       "stream": "stdout",
       "text": [
        "Epoch 3/140\n",
        "0s - loss: 1.0152 - acc: 0.2492 - val_loss: 1.0160 - val_acc: 0.2551\n"
       ]
      },
      {
       "output_type": "stream",
       "stream": "stdout",
       "text": [
        "Epoch 4/140\n",
        "0s - loss: 1.0090 - acc: 0.2492 - val_loss: 1.0099 - val_acc: 0.2551\n"
       ]
      },
      {
       "output_type": "stream",
       "stream": "stdout",
       "text": [
        "Epoch 5/140\n",
        "0s - loss: 1.0031 - acc: 0.2492 - val_loss: 1.0043 - val_acc: 0.2551\n"
       ]
      },
      {
       "output_type": "stream",
       "stream": "stdout",
       "text": [
        "Epoch 6/140\n",
        "0s - loss: 0.9976 - acc: 0.2492 - val_loss: 0.9989 - val_acc: 0.2551\n"
       ]
      },
      {
       "output_type": "stream",
       "stream": "stdout",
       "text": [
        "Epoch 7/140\n",
        "0s - loss: 0.9924 - acc: 0.2492 - val_loss: 0.9938 - val_acc: 0.2551\n"
       ]
      },
      {
       "output_type": "stream",
       "stream": "stdout",
       "text": [
        "Epoch 8/140\n",
        "0s - loss: 0.9874 - acc: 0.2492 - val_loss: 0.9889 - val_acc: 0.2551\n"
       ]
      },
      {
       "output_type": "stream",
       "stream": "stdout",
       "text": [
        "Epoch 9/140\n",
        "0s - loss: 0.9827 - acc: 0.2494 - val_loss: 0.9843 - val_acc: 0.2515\n"
       ]
      },
      {
       "output_type": "stream",
       "stream": "stdout",
       "text": [
        "Epoch 10/140\n",
        "0s - loss: 0.9782 - acc: 0.2506 - val_loss: 0.9799 - val_acc: 0.2515\n"
       ]
      },
      {
       "output_type": "stream",
       "stream": "stdout",
       "text": [
        "Epoch 11/140\n",
        "0s - loss: 0.9740 - acc: 0.2514 - val_loss: 0.9758 - val_acc: 0.2515\n"
       ]
      },
      {
       "output_type": "stream",
       "stream": "stdout",
       "text": [
        "Epoch 12/140\n",
        "0s - loss: 0.9699 - acc: 0.2514 - val_loss: 0.9718 - val_acc: 0.2515\n"
       ]
      },
      {
       "output_type": "stream",
       "stream": "stdout",
       "text": [
        "Epoch 13/140\n",
        "0s - loss: 0.9660 - acc: 0.2514 - val_loss: 0.9680 - val_acc: 0.2515\n"
       ]
      },
      {
       "output_type": "stream",
       "stream": "stdout",
       "text": [
        "Epoch 14/140\n",
        "0s - loss: 0.9623 - acc: 0.2514 - val_loss: 0.9644 - val_acc: 0.2515\n"
       ]
      },
      {
       "output_type": "stream",
       "stream": "stdout",
       "text": [
        "Epoch 15/140\n",
        "0s - loss: 0.9588 - acc: 0.2514 - val_loss: 0.9609 - val_acc: 0.2515\n"
       ]
      },
      {
       "output_type": "stream",
       "stream": "stdout",
       "text": [
        "Epoch 16/140\n",
        "0s - loss: 0.9555 - acc: 0.2514 - val_loss: 0.9576 - val_acc: 0.2515\n"
       ]
      },
      {
       "output_type": "stream",
       "stream": "stdout",
       "text": [
        "Epoch 17/140\n",
        "0s - loss: 0.9522 - acc: 0.2514 - val_loss: 0.9545 - val_acc: 0.2515\n"
       ]
      },
      {
       "output_type": "stream",
       "stream": "stdout",
       "text": [
        "Epoch 18/140\n",
        "0s - loss: 0.9492 - acc: 0.2514 - val_loss: 0.9514 - val_acc: 0.2515\n"
       ]
      },
      {
       "output_type": "stream",
       "stream": "stdout",
       "text": [
        "Epoch 19/140\n",
        "0s - loss: 0.9462 - acc: 0.2514 - val_loss: 0.9485 - val_acc: 0.2515\n"
       ]
      },
      {
       "output_type": "stream",
       "stream": "stdout",
       "text": [
        "Epoch 20/140\n",
        "0s - loss: 0.9434 - acc: 0.2514 - val_loss: 0.9458 - val_acc: 0.2515\n"
       ]
      },
      {
       "output_type": "stream",
       "stream": "stdout",
       "text": [
        "Epoch 21/140\n",
        "0s - loss: 0.9407 - acc: 0.2514 - val_loss: 0.9431 - val_acc: 0.2515\n"
       ]
      },
      {
       "output_type": "stream",
       "stream": "stdout",
       "text": [
        "Epoch 22/140\n",
        "0s - loss: 0.9380 - acc: 0.2514 - val_loss: 0.9405 - val_acc: 0.2515\n"
       ]
      },
      {
       "output_type": "stream",
       "stream": "stdout",
       "text": [
        "Epoch 23/140\n",
        "0s - loss: 0.9355 - acc: 0.2514 - val_loss: 0.9381 - val_acc: 0.2515\n"
       ]
      },
      {
       "output_type": "stream",
       "stream": "stdout",
       "text": [
        "Epoch 24/140\n",
        "0s - loss: 0.9331 - acc: 0.2514 - val_loss: 0.9357 - val_acc: 0.2515\n"
       ]
      },
      {
       "output_type": "stream",
       "stream": "stdout",
       "text": [
        "Epoch 25/140\n",
        "0s - loss: 0.9308 - acc: 0.2514 - val_loss: 0.9334 - val_acc: 0.2515\n"
       ]
      },
      {
       "output_type": "stream",
       "stream": "stdout",
       "text": [
        "Epoch 26/140\n",
        "0s - loss: 0.9286 - acc: 0.2514 - val_loss: 0.9312 - val_acc: 0.2515\n"
       ]
      },
      {
       "output_type": "stream",
       "stream": "stdout",
       "text": [
        "Epoch 27/140\n",
        "0s - loss: 0.9264 - acc: 0.2514 - val_loss: 0.9291 - val_acc: 0.2515\n"
       ]
      },
      {
       "output_type": "stream",
       "stream": "stdout",
       "text": [
        "Epoch 28/140\n",
        "0s - loss: 0.9244 - acc: 0.2514 - val_loss: 0.9271 - val_acc: 0.2515\n"
       ]
      },
      {
       "output_type": "stream",
       "stream": "stdout",
       "text": [
        "Epoch 29/140\n",
        "0s - loss: 0.9224 - acc: 0.2514 - val_loss: 0.9251 - val_acc: 0.2515\n"
       ]
      },
      {
       "output_type": "stream",
       "stream": "stdout",
       "text": [
        "Epoch 30/140\n",
        "0s - loss: 0.9204 - acc: 0.2514 - val_loss: 0.9232 - val_acc: 0.2515\n"
       ]
      },
      {
       "output_type": "stream",
       "stream": "stdout",
       "text": [
        "Epoch 31/140\n",
        "0s - loss: 0.9186 - acc: 0.2514 - val_loss: 0.9214 - val_acc: 0.2515\n"
       ]
      },
      {
       "output_type": "stream",
       "stream": "stdout",
       "text": [
        "Epoch 32/140\n",
        "0s - loss: 0.9168 - acc: 0.2514 - val_loss: 0.9196 - val_acc: 0.2515\n"
       ]
      },
      {
       "output_type": "stream",
       "stream": "stdout",
       "text": [
        "Epoch 33/140\n",
        "0s - loss: 0.9150 - acc: 0.2514 - val_loss: 0.9179 - val_acc: 0.2515\n"
       ]
      },
      {
       "output_type": "stream",
       "stream": "stdout",
       "text": [
        "Epoch 34/140\n",
        "0s - loss: 0.9134 - acc: 0.2514 - val_loss: 0.9162 - val_acc: 0.2515\n"
       ]
      },
      {
       "output_type": "stream",
       "stream": "stdout",
       "text": [
        "Epoch 35/140\n",
        "0s - loss: 0.9117 - acc: 0.2514 - val_loss: 0.9146 - val_acc: 0.2515\n"
       ]
      },
      {
       "output_type": "stream",
       "stream": "stdout",
       "text": [
        "Epoch 36/140\n",
        "0s - loss: 0.9102 - acc: 0.2514 - val_loss: 0.9131 - val_acc: 0.2515\n"
       ]
      },
      {
       "output_type": "stream",
       "stream": "stdout",
       "text": [
        "Epoch 37/140\n",
        "0s - loss: 0.9087 - acc: 0.2514 - val_loss: 0.9116 - val_acc: 0.2515\n"
       ]
      },
      {
       "output_type": "stream",
       "stream": "stdout",
       "text": [
        "Epoch 38/140\n",
        "0s - loss: 0.9072 - acc: 0.2514 - val_loss: 0.9101 - val_acc: 0.2515\n"
       ]
      },
      {
       "output_type": "stream",
       "stream": "stdout",
       "text": [
        "Epoch 39/140\n",
        "0s - loss: 0.9058 - acc: 0.2514 - val_loss: 0.9087 - val_acc: 0.2515\n"
       ]
      },
      {
       "output_type": "stream",
       "stream": "stdout",
       "text": [
        "Epoch 40/140\n",
        "0s - loss: 0.9044 - acc: 0.2514 - val_loss: 0.9073 - val_acc: 0.2515\n"
       ]
      },
      {
       "output_type": "stream",
       "stream": "stdout",
       "text": [
        "Epoch 41/140\n",
        "0s - loss: 0.9030 - acc: 0.2514 - val_loss: 0.9060 - val_acc: 0.2515\n"
       ]
      },
      {
       "output_type": "stream",
       "stream": "stdout",
       "text": [
        "Epoch 42/140\n",
        "0s - loss: 0.9017 - acc: 0.2514 - val_loss: 0.9047 - val_acc: 0.2515\n"
       ]
      },
      {
       "output_type": "stream",
       "stream": "stdout",
       "text": [
        "Epoch 43/140\n",
        "0s - loss: 0.9005 - acc: 0.2514 - val_loss: 0.9035 - val_acc: 0.2515\n"
       ]
      },
      {
       "output_type": "stream",
       "stream": "stdout",
       "text": [
        "Epoch 44/140\n",
        "0s - loss: 0.8992 - acc: 0.2514 - val_loss: 0.9023 - val_acc: 0.2515\n"
       ]
      },
      {
       "output_type": "stream",
       "stream": "stdout",
       "text": [
        "Epoch 45/140\n",
        "0s - loss: 0.8980 - acc: 0.2514 - val_loss: 0.9011 - val_acc: 0.2515\n"
       ]
      },
      {
       "output_type": "stream",
       "stream": "stdout",
       "text": [
        "Epoch 46/140\n",
        "0s - loss: 0.8969 - acc: 0.2514 - val_loss: 0.8999 - val_acc: 0.2515\n"
       ]
      },
      {
       "output_type": "stream",
       "stream": "stdout",
       "text": [
        "Epoch 47/140\n",
        "0s - loss: 0.8957 - acc: 0.2514 - val_loss: 0.8988 - val_acc: 0.2515\n"
       ]
      },
      {
       "output_type": "stream",
       "stream": "stdout",
       "text": [
        "Epoch 48/140\n",
        "0s - loss: 0.8947 - acc: 0.2514 - val_loss: 0.8977 - val_acc: 0.2515\n"
       ]
      },
      {
       "output_type": "stream",
       "stream": "stdout",
       "text": [
        "Epoch 49/140\n",
        "0s - loss: 0.8936 - acc: 0.2514 - val_loss: 0.8967 - val_acc: 0.2515\n"
       ]
      },
      {
       "output_type": "stream",
       "stream": "stdout",
       "text": [
        "Epoch 50/140\n",
        "0s - loss: 0.8925 - acc: 0.2514 - val_loss: 0.8956 - val_acc: 0.2515\n"
       ]
      },
      {
       "output_type": "stream",
       "stream": "stdout",
       "text": [
        "Epoch 51/140\n",
        "0s - loss: 0.8915 - acc: 0.2514 - val_loss: 0.8946 - val_acc: 0.2515\n"
       ]
      },
      {
       "output_type": "stream",
       "stream": "stdout",
       "text": [
        "Epoch 52/140\n",
        "0s - loss: 0.8906 - acc: 0.2514 - val_loss: 0.8937 - val_acc: 0.2515\n"
       ]
      },
      {
       "output_type": "stream",
       "stream": "stdout",
       "text": [
        "Epoch 53/140\n",
        "0s - loss: 0.8896 - acc: 0.2514 - val_loss: 0.8927 - val_acc: 0.2515\n"
       ]
      },
      {
       "output_type": "stream",
       "stream": "stdout",
       "text": [
        "Epoch 54/140\n",
        "0s - loss: 0.8887 - acc: 0.2514 - val_loss: 0.8918 - val_acc: 0.2515\n"
       ]
      },
      {
       "output_type": "stream",
       "stream": "stdout",
       "text": [
        "Epoch 55/140\n",
        "0s - loss: 0.8877 - acc: 0.2514 - val_loss: 0.8909 - val_acc: 0.2515\n"
       ]
      },
      {
       "output_type": "stream",
       "stream": "stdout",
       "text": [
        "Epoch 56/140\n",
        "0s - loss: 0.8869 - acc: 0.2514 - val_loss: 0.8900 - val_acc: 0.2515\n"
       ]
      },
      {
       "output_type": "stream",
       "stream": "stdout",
       "text": [
        "Epoch 57/140\n",
        "0s - loss: 0.8860 - acc: 0.2514 - val_loss: 0.8891 - val_acc: 0.2515\n"
       ]
      },
      {
       "output_type": "stream",
       "stream": "stdout",
       "text": [
        "Epoch 58/140\n",
        "0s - loss: 0.8851 - acc: 0.2514 - val_loss: 0.8883 - val_acc: 0.2515\n"
       ]
      },
      {
       "output_type": "stream",
       "stream": "stdout",
       "text": [
        "Epoch 59/140\n",
        "0s - loss: 0.8843 - acc: 0.2514 - val_loss: 0.8875 - val_acc: 0.2515\n"
       ]
      },
      {
       "output_type": "stream",
       "stream": "stdout",
       "text": [
        "Epoch 60/140\n",
        "0s - loss: 0.8835 - acc: 0.2514 - val_loss: 0.8867 - val_acc: 0.2515\n"
       ]
      },
      {
       "output_type": "stream",
       "stream": "stdout",
       "text": [
        "Epoch 61/140\n",
        "0s - loss: 0.8827 - acc: 0.2514 - val_loss: 0.8859 - val_acc: 0.2515\n"
       ]
      },
      {
       "output_type": "stream",
       "stream": "stdout",
       "text": [
        "Epoch 62/140\n",
        "0s - loss: 0.8820 - acc: 0.2514 - val_loss: 0.8851 - val_acc: 0.2515\n"
       ]
      },
      {
       "output_type": "stream",
       "stream": "stdout",
       "text": [
        "Epoch 63/140\n",
        "0s - loss: 0.8812 - acc: 0.2514 - val_loss: 0.8844 - val_acc: 0.2515\n"
       ]
      },
      {
       "output_type": "stream",
       "stream": "stdout",
       "text": [
        "Epoch 64/140\n",
        "0s - loss: 0.8805 - acc: 0.2514 - val_loss: 0.8837 - val_acc: 0.2515\n"
       ]
      },
      {
       "output_type": "stream",
       "stream": "stdout",
       "text": [
        "Epoch 65/140\n",
        "0s - loss: 0.8798 - acc: 0.2514 - val_loss: 0.8830 - val_acc: 0.2515\n"
       ]
      },
      {
       "output_type": "stream",
       "stream": "stdout",
       "text": [
        "Epoch 66/140\n",
        "0s - loss: 0.8791 - acc: 0.2514 - val_loss: 0.8823 - val_acc: 0.2515\n"
       ]
      },
      {
       "output_type": "stream",
       "stream": "stdout",
       "text": [
        "Epoch 67/140\n",
        "0s - loss: 0.8784 - acc: 0.2514 - val_loss: 0.8816 - val_acc: 0.2515\n"
       ]
      },
      {
       "output_type": "stream",
       "stream": "stdout",
       "text": [
        "Epoch 68/140\n",
        "0s - loss: 0.8777 - acc: 0.2514 - val_loss: 0.8809 - val_acc: 0.2515\n"
       ]
      },
      {
       "output_type": "stream",
       "stream": "stdout",
       "text": [
        "Epoch 69/140\n",
        "0s - loss: 0.8771 - acc: 0.2514 - val_loss: 0.8803 - val_acc: 0.2515\n"
       ]
      },
      {
       "output_type": "stream",
       "stream": "stdout",
       "text": [
        "Epoch 70/140\n",
        "0s - loss: 0.8764 - acc: 0.2514 - val_loss: 0.8796 - val_acc: 0.2515\n"
       ]
      },
      {
       "output_type": "stream",
       "stream": "stdout",
       "text": [
        "Epoch 71/140\n",
        "0s - loss: 0.8758 - acc: 0.2514 - val_loss: 0.8790 - val_acc: 0.2515\n"
       ]
      },
      {
       "output_type": "stream",
       "stream": "stdout",
       "text": [
        "Epoch 72/140\n",
        "0s - loss: 0.8752 - acc: 0.2514 - val_loss: 0.8784 - val_acc: 0.2515\n"
       ]
      },
      {
       "output_type": "stream",
       "stream": "stdout",
       "text": [
        "Epoch 73/140\n",
        "0s - loss: 0.8746 - acc: 0.2514 - val_loss: 0.8778 - val_acc: 0.2515\n"
       ]
      },
      {
       "output_type": "stream",
       "stream": "stdout",
       "text": [
        "Epoch 74/140\n",
        "0s - loss: 0.8740 - acc: 0.2514 - val_loss: 0.8772 - val_acc: 0.2515\n"
       ]
      },
      {
       "output_type": "stream",
       "stream": "stdout",
       "text": [
        "Epoch 75/140\n",
        "0s - loss: 0.8734 - acc: 0.2514 - val_loss: 0.8767 - val_acc: 0.2515\n"
       ]
      },
      {
       "output_type": "stream",
       "stream": "stdout",
       "text": [
        "Epoch 76/140\n",
        "0s - loss: 0.8728 - acc: 0.2514 - val_loss: 0.8761 - val_acc: 0.2515\n"
       ]
      },
      {
       "output_type": "stream",
       "stream": "stdout",
       "text": [
        "Epoch 77/140\n",
        "0s - loss: 0.8723 - acc: 0.2514 - val_loss: 0.8755 - val_acc: 0.2515\n"
       ]
      },
      {
       "output_type": "stream",
       "stream": "stdout",
       "text": [
        "Epoch 78/140\n",
        "0s - loss: 0.8717 - acc: 0.2514 - val_loss: 0.8750 - val_acc: 0.2515\n"
       ]
      },
      {
       "output_type": "stream",
       "stream": "stdout",
       "text": [
        "Epoch 79/140\n",
        "0s - loss: 0.8712 - acc: 0.2514 - val_loss: 0.8745 - val_acc: 0.2515\n"
       ]
      },
      {
       "output_type": "stream",
       "stream": "stdout",
       "text": [
        "Epoch 80/140\n",
        "0s - loss: 0.8707 - acc: 0.2514 - val_loss: 0.8740 - val_acc: 0.2515\n"
       ]
      },
      {
       "output_type": "stream",
       "stream": "stdout",
       "text": [
        "Epoch 81/140\n",
        "0s - loss: 0.8702 - acc: 0.2514 - val_loss: 0.8735 - val_acc: 0.2515\n"
       ]
      },
      {
       "output_type": "stream",
       "stream": "stdout",
       "text": [
        "Epoch 82/140\n",
        "0s - loss: 0.8697 - acc: 0.2514 - val_loss: 0.8730 - val_acc: 0.2515\n"
       ]
      },
      {
       "output_type": "stream",
       "stream": "stdout",
       "text": [
        "Epoch 83/140\n",
        "0s - loss: 0.8692 - acc: 0.2514 - val_loss: 0.8725 - val_acc: 0.2515\n"
       ]
      },
      {
       "output_type": "stream",
       "stream": "stdout",
       "text": [
        "Epoch 84/140\n",
        "0s - loss: 0.8687 - acc: 0.2514 - val_loss: 0.8720 - val_acc: 0.2515\n"
       ]
      },
      {
       "output_type": "stream",
       "stream": "stdout",
       "text": [
        "Epoch 85/140\n",
        "0s - loss: 0.8682 - acc: 0.2514 - val_loss: 0.8715 - val_acc: 0.2515\n"
       ]
      },
      {
       "output_type": "stream",
       "stream": "stdout",
       "text": [
        "Epoch 86/140\n",
        "0s - loss: 0.8678 - acc: 0.2514 - val_loss: 0.8710 - val_acc: 0.2515\n"
       ]
      },
      {
       "output_type": "stream",
       "stream": "stdout",
       "text": [
        "Epoch 87/140\n",
        "0s - loss: 0.8673 - acc: 0.2514 - val_loss: 0.8706 - val_acc: 0.2515\n"
       ]
      },
      {
       "output_type": "stream",
       "stream": "stdout",
       "text": [
        "Epoch 88/140\n",
        "0s - loss: 0.8669 - acc: 0.2514 - val_loss: 0.8702 - val_acc: 0.2515\n"
       ]
      },
      {
       "output_type": "stream",
       "stream": "stdout",
       "text": [
        "Epoch 89/140\n",
        "0s - loss: 0.8664 - acc: 0.2514 - val_loss: 0.8697 - val_acc: 0.2515\n"
       ]
      },
      {
       "output_type": "stream",
       "stream": "stdout",
       "text": [
        "Epoch 90/140\n",
        "0s - loss: 0.8660 - acc: 0.2514 - val_loss: 0.8693 - val_acc: 0.2515\n"
       ]
      },
      {
       "output_type": "stream",
       "stream": "stdout",
       "text": [
        "Epoch 91/140\n",
        "0s - loss: 0.8656 - acc: 0.2514 - val_loss: 0.8689 - val_acc: 0.2515\n"
       ]
      },
      {
       "output_type": "stream",
       "stream": "stdout",
       "text": [
        "Epoch 92/140\n",
        "0s - loss: 0.8652 - acc: 0.2514 - val_loss: 0.8684 - val_acc: 0.2515\n"
       ]
      },
      {
       "output_type": "stream",
       "stream": "stdout",
       "text": [
        "Epoch 93/140\n",
        "0s - loss: 0.8647 - acc: 0.2514 - val_loss: 0.8680 - val_acc: 0.2515\n"
       ]
      },
      {
       "output_type": "stream",
       "stream": "stdout",
       "text": [
        "Epoch 94/140\n",
        "0s - loss: 0.8643 - acc: 0.2514 - val_loss: 0.8676 - val_acc: 0.2515\n"
       ]
      },
      {
       "output_type": "stream",
       "stream": "stdout",
       "text": [
        "Epoch 95/140\n",
        "0s - loss: 0.8639 - acc: 0.2514 - val_loss: 0.8673 - val_acc: 0.2515\n"
       ]
      },
      {
       "output_type": "stream",
       "stream": "stdout",
       "text": [
        "Epoch 96/140\n",
        "0s - loss: 0.8636 - acc: 0.2514 - val_loss: 0.8669 - val_acc: 0.2515\n"
       ]
      },
      {
       "output_type": "stream",
       "stream": "stdout",
       "text": [
        "Epoch 97/140\n",
        "0s - loss: 0.8632 - acc: 0.2514 - val_loss: 0.8665 - val_acc: 0.2515\n"
       ]
      },
      {
       "output_type": "stream",
       "stream": "stdout",
       "text": [
        "Epoch 98/140\n",
        "0s - loss: 0.8628 - acc: 0.2514 - val_loss: 0.8661 - val_acc: 0.2515\n"
       ]
      },
      {
       "output_type": "stream",
       "stream": "stdout",
       "text": [
        "Epoch 99/140\n",
        "0s - loss: 0.8624 - acc: 0.2514 - val_loss: 0.8657 - val_acc: 0.2515\n"
       ]
      },
      {
       "output_type": "stream",
       "stream": "stdout",
       "text": [
        "Epoch 100/140\n",
        "0s - loss: 0.8621 - acc: 0.2514 - val_loss: 0.8654 - val_acc: 0.2515\n"
       ]
      },
      {
       "output_type": "stream",
       "stream": "stdout",
       "text": [
        "Epoch 101/140\n",
        "0s - loss: 0.8617 - acc: 0.2514 - val_loss: 0.8650 - val_acc: 0.2515\n"
       ]
      },
      {
       "output_type": "stream",
       "stream": "stdout",
       "text": [
        "Epoch 102/140\n",
        "0s - loss: 0.8614 - acc: 0.2514 - val_loss: 0.8647 - val_acc: 0.2515\n"
       ]
      },
      {
       "output_type": "stream",
       "stream": "stdout",
       "text": [
        "Epoch 103/140\n",
        "0s - loss: 0.8610 - acc: 0.2514 - val_loss: 0.8643 - val_acc: 0.2515\n"
       ]
      },
      {
       "output_type": "stream",
       "stream": "stdout",
       "text": [
        "Epoch 104/140\n",
        "0s - loss: 0.8607 - acc: 0.2514 - val_loss: 0.8640 - val_acc: 0.2515\n"
       ]
      },
      {
       "output_type": "stream",
       "stream": "stdout",
       "text": [
        "Epoch 105/140\n",
        "0s - loss: 0.8603 - acc: 0.2514 - val_loss: 0.8636 - val_acc: 0.2515\n"
       ]
      },
      {
       "output_type": "stream",
       "stream": "stdout",
       "text": [
        "Epoch 106/140\n",
        "0s - loss: 0.8600 - acc: 0.2514 - val_loss: 0.8633 - val_acc: 0.2515\n"
       ]
      },
      {
       "output_type": "stream",
       "stream": "stdout",
       "text": [
        "Epoch 107/140\n",
        "0s - loss: 0.8597 - acc: 0.2514 - val_loss: 0.8630 - val_acc: 0.2515\n"
       ]
      },
      {
       "output_type": "stream",
       "stream": "stdout",
       "text": [
        "Epoch 108/140\n",
        "0s - loss: 0.8594 - acc: 0.2514 - val_loss: 0.8627 - val_acc: 0.2515\n"
       ]
      },
      {
       "output_type": "stream",
       "stream": "stdout",
       "text": [
        "Epoch 109/140\n",
        "0s - loss: 0.8590 - acc: 0.2514 - val_loss: 0.8624 - val_acc: 0.2515\n"
       ]
      },
      {
       "output_type": "stream",
       "stream": "stdout",
       "text": [
        "Epoch 110/140\n",
        "0s - loss: 0.8587 - acc: 0.2514 - val_loss: 0.8621 - val_acc: 0.2515\n"
       ]
      },
      {
       "output_type": "stream",
       "stream": "stdout",
       "text": [
        "Epoch 111/140\n",
        "0s - loss: 0.8584 - acc: 0.2514 - val_loss: 0.8618 - val_acc: 0.2515\n"
       ]
      },
      {
       "output_type": "stream",
       "stream": "stdout",
       "text": [
        "Epoch 112/140\n",
        "0s - loss: 0.8581 - acc: 0.2514 - val_loss: 0.8615 - val_acc: 0.2515\n"
       ]
      },
      {
       "output_type": "stream",
       "stream": "stdout",
       "text": [
        "Epoch 113/140\n",
        "0s - loss: 0.8578 - acc: 0.2514 - val_loss: 0.8612 - val_acc: 0.2515\n"
       ]
      },
      {
       "output_type": "stream",
       "stream": "stdout",
       "text": [
        "Epoch 114/140\n",
        "0s - loss: 0.8575 - acc: 0.2514 - val_loss: 0.8609 - val_acc: 0.2515\n"
       ]
      },
      {
       "output_type": "stream",
       "stream": "stdout",
       "text": [
        "Epoch 115/140\n",
        "0s - loss: 0.8573 - acc: 0.2514 - val_loss: 0.8606 - val_acc: 0.2515\n"
       ]
      },
      {
       "output_type": "stream",
       "stream": "stdout",
       "text": [
        "Epoch 116/140\n",
        "0s - loss: 0.8570 - acc: 0.2514 - val_loss: 0.8603 - val_acc: 0.2515\n"
       ]
      },
      {
       "output_type": "stream",
       "stream": "stdout",
       "text": [
        "Epoch 117/140\n",
        "0s - loss: 0.8567 - acc: 0.2514 - val_loss: 0.8600 - val_acc: 0.2515\n"
       ]
      },
      {
       "output_type": "stream",
       "stream": "stdout",
       "text": [
        "Epoch 118/140\n",
        "0s - loss: 0.8564 - acc: 0.2514 - val_loss: 0.8597 - val_acc: 0.2515\n"
       ]
      },
      {
       "output_type": "stream",
       "stream": "stdout",
       "text": [
        "Epoch 119/140\n",
        "0s - loss: 0.8561 - acc: 0.2514 - val_loss: 0.8595 - val_acc: 0.2515\n"
       ]
      },
      {
       "output_type": "stream",
       "stream": "stdout",
       "text": [
        "Epoch 120/140\n",
        "0s - loss: 0.8559 - acc: 0.2514 - val_loss: 0.8592 - val_acc: 0.2515\n"
       ]
      },
      {
       "output_type": "stream",
       "stream": "stdout",
       "text": [
        "Epoch 121/140\n",
        "0s - loss: 0.8556 - acc: 0.2514 - val_loss: 0.8589 - val_acc: 0.2515\n"
       ]
      },
      {
       "output_type": "stream",
       "stream": "stdout",
       "text": [
        "Epoch 122/140\n",
        "0s - loss: 0.8553 - acc: 0.2514 - val_loss: 0.8587 - val_acc: 0.2515\n"
       ]
      },
      {
       "output_type": "stream",
       "stream": "stdout",
       "text": [
        "Epoch 123/140\n",
        "0s - loss: 0.8551 - acc: 0.2514 - val_loss: 0.8584 - val_acc: 0.2515\n"
       ]
      },
      {
       "output_type": "stream",
       "stream": "stdout",
       "text": [
        "Epoch 124/140\n",
        "0s - loss: 0.8548 - acc: 0.2514 - val_loss: 0.8582 - val_acc: 0.2515\n"
       ]
      },
      {
       "output_type": "stream",
       "stream": "stdout",
       "text": [
        "Epoch 125/140\n",
        "0s - loss: 0.8546 - acc: 0.2514 - val_loss: 0.8579 - val_acc: 0.2515\n"
       ]
      },
      {
       "output_type": "stream",
       "stream": "stdout",
       "text": [
        "Epoch 126/140\n",
        "0s - loss: 0.8543 - acc: 0.2514 - val_loss: 0.8577 - val_acc: 0.2515\n"
       ]
      },
      {
       "output_type": "stream",
       "stream": "stdout",
       "text": [
        "Epoch 127/140\n",
        "0s - loss: 0.8541 - acc: 0.2514 - val_loss: 0.8574 - val_acc: 0.2515\n"
       ]
      },
      {
       "output_type": "stream",
       "stream": "stdout",
       "text": [
        "Epoch 128/140\n",
        "0s - loss: 0.8539 - acc: 0.2514 - val_loss: 0.8572 - val_acc: 0.2515\n"
       ]
      },
      {
       "output_type": "stream",
       "stream": "stdout",
       "text": [
        "Epoch 129/140\n",
        "0s - loss: 0.8536 - acc: 0.2514 - val_loss: 0.8570 - val_acc: 0.2515\n"
       ]
      },
      {
       "output_type": "stream",
       "stream": "stdout",
       "text": [
        "Epoch 130/140\n",
        "0s - loss: 0.8534 - acc: 0.2514 - val_loss: 0.8567 - val_acc: 0.2515\n"
       ]
      },
      {
       "output_type": "stream",
       "stream": "stdout",
       "text": [
        "Epoch 131/140\n",
        "0s - loss: 0.8532 - acc: 0.2514 - val_loss: 0.8565 - val_acc: 0.2515\n"
       ]
      },
      {
       "output_type": "stream",
       "stream": "stdout",
       "text": [
        "Epoch 132/140\n",
        "0s - loss: 0.8529 - acc: 0.2514 - val_loss: 0.8563 - val_acc: 0.2515\n"
       ]
      },
      {
       "output_type": "stream",
       "stream": "stdout",
       "text": [
        "Epoch 133/140\n",
        "0s - loss: 0.8527 - acc: 0.2514 - val_loss: 0.8561 - val_acc: 0.2515\n"
       ]
      },
      {
       "output_type": "stream",
       "stream": "stdout",
       "text": [
        "Epoch 134/140\n",
        "0s - loss: 0.8525 - acc: 0.2514 - val_loss: 0.8558 - val_acc: 0.2515\n"
       ]
      },
      {
       "output_type": "stream",
       "stream": "stdout",
       "text": [
        "Epoch 135/140\n",
        "0s - loss: 0.8523 - acc: 0.2514 - val_loss: 0.8556 - val_acc: 0.2515\n"
       ]
      },
      {
       "output_type": "stream",
       "stream": "stdout",
       "text": [
        "Epoch 136/140\n",
        "0s - loss: 0.8521 - acc: 0.2514 - val_loss: 0.8554 - val_acc: 0.2515\n"
       ]
      },
      {
       "output_type": "stream",
       "stream": "stdout",
       "text": [
        "Epoch 137/140\n",
        "0s - loss: 0.8518 - acc: 0.2514 - val_loss: 0.8552 - val_acc: 0.2515\n"
       ]
      },
      {
       "output_type": "stream",
       "stream": "stdout",
       "text": [
        "Epoch 138/140\n",
        "0s - loss: 0.8516 - acc: 0.2514 - val_loss: 0.8550 - val_acc: 0.2515\n"
       ]
      },
      {
       "output_type": "stream",
       "stream": "stdout",
       "text": [
        "Epoch 139/140\n",
        "0s - loss: 0.8514 - acc: 0.2514 - val_loss: 0.8548 - val_acc: 0.2515\n"
       ]
      },
      {
       "output_type": "stream",
       "stream": "stdout",
       "text": [
        "Epoch 140/140\n",
        "0s - loss: 0.8512 - acc: 0.2514 - val_loss: 0.8546 - val_acc: 0.2515\n"
       ]
      },
      {
       "output_type": "stream",
       "stream": "stdout",
       "text": [
        "\r",
        " 5000/20000 [======>.......................] - ETA: 0s"
       ]
      },
      {
       "output_type": "stream",
       "stream": "stdout",
       "text": [
        "\b\b\b\b\b\b\b\b\b\b\b\b\b\b\b\b\b\b\b\b\b\b\b\b\b\b\b\b\b\b\b\b\b\b\b\b\b\b\b\b\b\b\b\b\b\b\b\b\b\b\b\b\b\b\r",
        "20000/20000 [==============================] - 0s     "
       ]
      },
      {
       "output_type": "stream",
       "stream": "stdout",
       "text": [
        "\n",
        "\r",
        " 5000/20000 [======>.......................] - ETA: 0s"
       ]
      },
      {
       "output_type": "stream",
       "stream": "stdout",
       "text": [
        "\b\b\b\b\b\b\b\b\b\b\b\b\b\b\b\b\b\b\b\b\b\b\b\b\b\b\b\b\b\b\b\b\b\b\b\b\b\b\b\b\b\b\b\b\b\b\b\b\b\b\b\b\b\b\r",
        "20000/20000 [==============================] - 0s     "
       ]
      },
      {
       "output_type": "stream",
       "stream": "stdout",
       "text": [
        "\n",
        "Train on 80000 samples, validate on 20000 samples\n",
        "Epoch 1/140\n",
        "0s - loss: 1.6528 - acc: 0.2490 - val_loss: 1.6439 - val_acc: 0.2524\n"
       ]
      },
      {
       "output_type": "stream",
       "stream": "stdout",
       "text": [
        "Epoch 2/140\n",
        "0s - loss: 1.6433 - acc: 0.2490 - val_loss: 1.6346 - val_acc: 0.2524\n"
       ]
      },
      {
       "output_type": "stream",
       "stream": "stdout",
       "text": [
        "Epoch 3/140\n",
        "0s - loss: 1.6340 - acc: 0.2490 - val_loss: 1.6255 - val_acc: 0.2524\n"
       ]
      },
      {
       "output_type": "stream",
       "stream": "stdout",
       "text": [
        "Epoch 4/140\n",
        "0s - loss: 1.6249 - acc: 0.2490 - val_loss: 1.6165 - val_acc: 0.2524\n"
       ]
      },
      {
       "output_type": "stream",
       "stream": "stdout",
       "text": [
        "Epoch 5/140\n",
        "0s - loss: 1.6159 - acc: 0.2490 - val_loss: 1.6078 - val_acc: 0.2524\n"
       ]
      },
      {
       "output_type": "stream",
       "stream": "stdout",
       "text": [
        "Epoch 6/140\n",
        "0s - loss: 1.6072 - acc: 0.2490 - val_loss: 1.5992 - val_acc: 0.2524\n"
       ]
      },
      {
       "output_type": "stream",
       "stream": "stdout",
       "text": [
        "Epoch 7/140\n",
        "0s - loss: 1.5987 - acc: 0.2490 - val_loss: 1.5909 - val_acc: 0.2524\n"
       ]
      },
      {
       "output_type": "stream",
       "stream": "stdout",
       "text": [
        "Epoch 8/140\n",
        "0s - loss: 1.5903 - acc: 0.2490 - val_loss: 1.5827 - val_acc: 0.2524\n"
       ]
      },
      {
       "output_type": "stream",
       "stream": "stdout",
       "text": [
        "Epoch 9/140\n",
        "0s - loss: 1.5822 - acc: 0.2490 - val_loss: 1.5748 - val_acc: 0.2524\n"
       ]
      },
      {
       "output_type": "stream",
       "stream": "stdout",
       "text": [
        "Epoch 10/140\n",
        "0s - loss: 1.5742 - acc: 0.2490 - val_loss: 1.5670 - val_acc: 0.2524\n"
       ]
      },
      {
       "output_type": "stream",
       "stream": "stdout",
       "text": [
        "Epoch 11/140\n",
        "0s - loss: 1.5665 - acc: 0.2490 - val_loss: 1.5594 - val_acc: 0.2524\n"
       ]
      },
      {
       "output_type": "stream",
       "stream": "stdout",
       "text": [
        "Epoch 12/140\n",
        "0s - loss: 1.5589 - acc: 0.2490 - val_loss: 1.5520 - val_acc: 0.2524\n"
       ]
      },
      {
       "output_type": "stream",
       "stream": "stdout",
       "text": [
        "Epoch 13/140\n",
        "0s - loss: 1.5515 - acc: 0.2490 - val_loss: 1.5449 - val_acc: 0.2524\n"
       ]
      },
      {
       "output_type": "stream",
       "stream": "stdout",
       "text": [
        "Epoch 14/140\n",
        "0s - loss: 1.5444 - acc: 0.2490 - val_loss: 1.5379 - val_acc: 0.2524\n"
       ]
      },
      {
       "output_type": "stream",
       "stream": "stdout",
       "text": [
        "Epoch 15/140\n",
        "0s - loss: 1.5374 - acc: 0.2490 - val_loss: 1.5311 - val_acc: 0.2524\n"
       ]
      },
      {
       "output_type": "stream",
       "stream": "stdout",
       "text": [
        "Epoch 16/140\n",
        "0s - loss: 1.5307 - acc: 0.2490 - val_loss: 1.5246 - val_acc: 0.2524\n"
       ]
      },
      {
       "output_type": "stream",
       "stream": "stdout",
       "text": [
        "Epoch 17/140\n",
        "0s - loss: 1.5242 - acc: 0.2490 - val_loss: 1.5182 - val_acc: 0.2524\n"
       ]
      },
      {
       "output_type": "stream",
       "stream": "stdout",
       "text": [
        "Epoch 18/140\n",
        "0s - loss: 1.5178 - acc: 0.2490 - val_loss: 1.5120 - val_acc: 0.2524\n"
       ]
      },
      {
       "output_type": "stream",
       "stream": "stdout",
       "text": [
        "Epoch 19/140\n",
        "0s - loss: 1.5117 - acc: 0.2490 - val_loss: 1.5061 - val_acc: 0.2524\n"
       ]
      },
      {
       "output_type": "stream",
       "stream": "stdout",
       "text": [
        "Epoch 20/140\n",
        "0s - loss: 1.5057 - acc: 0.2490 - val_loss: 1.5003 - val_acc: 0.2524\n"
       ]
      },
      {
       "output_type": "stream",
       "stream": "stdout",
       "text": [
        "Epoch 21/140\n",
        "0s - loss: 1.5000 - acc: 0.2490 - val_loss: 1.4947 - val_acc: 0.2524\n"
       ]
      },
      {
       "output_type": "stream",
       "stream": "stdout",
       "text": [
        "Epoch 22/140\n",
        "0s - loss: 1.4944 - acc: 0.2490 - val_loss: 1.4893 - val_acc: 0.2524\n"
       ]
      },
      {
       "output_type": "stream",
       "stream": "stdout",
       "text": [
        "Epoch 23/140\n",
        "0s - loss: 1.4891 - acc: 0.2490 - val_loss: 1.4842 - val_acc: 0.2524\n"
       ]
      },
      {
       "output_type": "stream",
       "stream": "stdout",
       "text": [
        "Epoch 24/140\n",
        "0s - loss: 1.4839 - acc: 0.2490 - val_loss: 1.4792 - val_acc: 0.2524\n"
       ]
      },
      {
       "output_type": "stream",
       "stream": "stdout",
       "text": [
        "Epoch 25/140\n",
        "0s - loss: 1.4790 - acc: 0.2490 - val_loss: 1.4744 - val_acc: 0.2524\n"
       ]
      },
      {
       "output_type": "stream",
       "stream": "stdout",
       "text": [
        "Epoch 26/140\n",
        "0s - loss: 1.4742 - acc: 0.2490 - val_loss: 1.4698 - val_acc: 0.2524\n"
       ]
      },
      {
       "output_type": "stream",
       "stream": "stdout",
       "text": [
        "Epoch 27/140\n",
        "0s - loss: 1.4696 - acc: 0.2490 - val_loss: 1.4653 - val_acc: 0.2524\n"
       ]
      },
      {
       "output_type": "stream",
       "stream": "stdout",
       "text": [
        "Epoch 28/140\n",
        "0s - loss: 1.4652 - acc: 0.2490 - val_loss: 1.4611 - val_acc: 0.2524\n"
       ]
      },
      {
       "output_type": "stream",
       "stream": "stdout",
       "text": [
        "Epoch 29/140\n",
        "0s - loss: 1.4610 - acc: 0.2490 - val_loss: 1.4570 - val_acc: 0.2524\n"
       ]
      },
      {
       "output_type": "stream",
       "stream": "stdout",
       "text": [
        "Epoch 30/140\n",
        "0s - loss: 1.4569 - acc: 0.2490 - val_loss: 1.4531 - val_acc: 0.2524\n"
       ]
      },
      {
       "output_type": "stream",
       "stream": "stdout",
       "text": [
        "Epoch 31/140\n",
        "0s - loss: 1.4531 - acc: 0.2490 - val_loss: 1.4494 - val_acc: 0.2524\n"
       ]
      },
      {
       "output_type": "stream",
       "stream": "stdout",
       "text": [
        "Epoch 32/140\n",
        "0s - loss: 1.4494 - acc: 0.2210 - val_loss: 1.4458 - val_acc: 0.2524\n"
       ]
      },
      {
       "output_type": "stream",
       "stream": "stdout",
       "text": [
        "Epoch 33/140\n",
        "0s - loss: 1.4458 - acc: 0.2376 - val_loss: 1.4424 - val_acc: 0.2444\n"
       ]
      },
      {
       "output_type": "stream",
       "stream": "stdout",
       "text": [
        "Epoch 34/140\n",
        "0s - loss: 1.4425 - acc: 0.2270 - val_loss: 1.4392 - val_acc: 0.2444\n"
       ]
      },
      {
       "output_type": "stream",
       "stream": "stdout",
       "text": [
        "Epoch 35/140\n",
        "0s - loss: 1.4392 - acc: 0.2503 - val_loss: 1.4361 - val_acc: 0.2444\n"
       ]
      },
      {
       "output_type": "stream",
       "stream": "stdout",
       "text": [
        "Epoch 36/140\n",
        "0s - loss: 1.4362 - acc: 0.2503 - val_loss: 1.4332 - val_acc: 0.2444\n"
       ]
      },
      {
       "output_type": "stream",
       "stream": "stdout",
       "text": [
        "Epoch 37/140\n",
        "0s - loss: 1.4333 - acc: 0.2503 - val_loss: 1.4304 - val_acc: 0.2444\n"
       ]
      },
      {
       "output_type": "stream",
       "stream": "stdout",
       "text": [
        "Epoch 38/140\n",
        "0s - loss: 1.4305 - acc: 0.2503 - val_loss: 1.4277 - val_acc: 0.2444\n"
       ]
      },
      {
       "output_type": "stream",
       "stream": "stdout",
       "text": [
        "Epoch 39/140\n",
        "0s - loss: 1.4279 - acc: 0.2503 - val_loss: 1.4252 - val_acc: 0.2444\n"
       ]
      },
      {
       "output_type": "stream",
       "stream": "stdout",
       "text": [
        "Epoch 40/140\n",
        "0s - loss: 1.4253 - acc: 0.2503 - val_loss: 1.4228 - val_acc: 0.2444\n"
       ]
      },
      {
       "output_type": "stream",
       "stream": "stdout",
       "text": [
        "Epoch 41/140\n",
        "0s - loss: 1.4230 - acc: 0.2503 - val_loss: 1.4205 - val_acc: 0.2444\n"
       ]
      },
      {
       "output_type": "stream",
       "stream": "stdout",
       "text": [
        "Epoch 42/140\n",
        "0s - loss: 1.4207 - acc: 0.2503 - val_loss: 1.4184 - val_acc: 0.2444\n"
       ]
      },
      {
       "output_type": "stream",
       "stream": "stdout",
       "text": [
        "Epoch 43/140\n",
        "0s - loss: 1.4186 - acc: 0.2503 - val_loss: 1.4164 - val_acc: 0.2444\n"
       ]
      },
      {
       "output_type": "stream",
       "stream": "stdout",
       "text": [
        "Epoch 44/140\n",
        "0s - loss: 1.4166 - acc: 0.2503 - val_loss: 1.4145 - val_acc: 0.2444\n"
       ]
      },
      {
       "output_type": "stream",
       "stream": "stdout",
       "text": [
        "Epoch 45/140\n",
        "0s - loss: 1.4147 - acc: 0.2503 - val_loss: 1.4126 - val_acc: 0.2444\n"
       ]
      },
      {
       "output_type": "stream",
       "stream": "stdout",
       "text": [
        "Epoch 46/140\n",
        "0s - loss: 1.4129 - acc: 0.2503 - val_loss: 1.4109 - val_acc: 0.2444\n"
       ]
      },
      {
       "output_type": "stream",
       "stream": "stdout",
       "text": [
        "Epoch 47/140\n",
        "0s - loss: 1.4112 - acc: 0.2503 - val_loss: 1.4093 - val_acc: 0.2444\n"
       ]
      },
      {
       "output_type": "stream",
       "stream": "stdout",
       "text": [
        "Epoch 48/140\n",
        "0s - loss: 1.4096 - acc: 0.2503 - val_loss: 1.4078 - val_acc: 0.2444\n"
       ]
      },
      {
       "output_type": "stream",
       "stream": "stdout",
       "text": [
        "Epoch 49/140\n",
        "0s - loss: 1.4081 - acc: 0.2503 - val_loss: 1.4064 - val_acc: 0.2444\n"
       ]
      },
      {
       "output_type": "stream",
       "stream": "stdout",
       "text": [
        "Epoch 50/140\n",
        "0s - loss: 1.4067 - acc: 0.2503 - val_loss: 1.4050 - val_acc: 0.2444\n"
       ]
      },
      {
       "output_type": "stream",
       "stream": "stdout",
       "text": [
        "Epoch 51/140\n",
        "0s - loss: 1.4053 - acc: 0.2503 - val_loss: 1.4038 - val_acc: 0.2444\n"
       ]
      },
      {
       "output_type": "stream",
       "stream": "stdout",
       "text": [
        "Epoch 52/140\n",
        "0s - loss: 1.4041 - acc: 0.2503 - val_loss: 1.4026 - val_acc: 0.2444\n"
       ]
      },
      {
       "output_type": "stream",
       "stream": "stdout",
       "text": [
        "Epoch 53/140\n",
        "0s - loss: 1.4029 - acc: 0.2503 - val_loss: 1.4015 - val_acc: 0.2444\n"
       ]
      },
      {
       "output_type": "stream",
       "stream": "stdout",
       "text": [
        "Epoch 54/140\n",
        "0s - loss: 1.4018 - acc: 0.2503 - val_loss: 1.4004 - val_acc: 0.2444\n"
       ]
      },
      {
       "output_type": "stream",
       "stream": "stdout",
       "text": [
        "Epoch 55/140\n",
        "0s - loss: 1.4007 - acc: 0.2503 - val_loss: 1.3995 - val_acc: 0.2444\n"
       ]
      },
      {
       "output_type": "stream",
       "stream": "stdout",
       "text": [
        "Epoch 56/140\n",
        "0s - loss: 1.3998 - acc: 0.2503 - val_loss: 1.3985 - val_acc: 0.2444\n"
       ]
      },
      {
       "output_type": "stream",
       "stream": "stdout",
       "text": [
        "Epoch 57/140\n",
        "0s - loss: 1.3988 - acc: 0.2503 - val_loss: 1.3977 - val_acc: 0.2444\n"
       ]
      },
      {
       "output_type": "stream",
       "stream": "stdout",
       "text": [
        "Epoch 58/140\n",
        "0s - loss: 1.3980 - acc: 0.2503 - val_loss: 1.3969 - val_acc: 0.2444\n"
       ]
      },
      {
       "output_type": "stream",
       "stream": "stdout",
       "text": [
        "Epoch 59/140\n",
        "0s - loss: 1.3972 - acc: 0.2503 - val_loss: 1.3961 - val_acc: 0.2444\n"
       ]
      },
      {
       "output_type": "stream",
       "stream": "stdout",
       "text": [
        "Epoch 60/140\n",
        "0s - loss: 1.3964 - acc: 0.2503 - val_loss: 1.3954 - val_acc: 0.2444\n"
       ]
      },
      {
       "output_type": "stream",
       "stream": "stdout",
       "text": [
        "Epoch 61/140\n",
        "0s - loss: 1.3957 - acc: 0.2503 - val_loss: 1.3948 - val_acc: 0.2444\n"
       ]
      },
      {
       "output_type": "stream",
       "stream": "stdout",
       "text": [
        "Epoch 62/140\n",
        "0s - loss: 1.3951 - acc: 0.2503 - val_loss: 1.3942 - val_acc: 0.2444\n"
       ]
      },
      {
       "output_type": "stream",
       "stream": "stdout",
       "text": [
        "Epoch 63/140\n",
        "0s - loss: 1.3944 - acc: 0.2503 - val_loss: 1.3936 - val_acc: 0.2444\n"
       ]
      },
      {
       "output_type": "stream",
       "stream": "stdout",
       "text": [
        "Epoch 64/140\n",
        "0s - loss: 1.3939 - acc: 0.2503 - val_loss: 1.3931 - val_acc: 0.2444\n"
       ]
      },
      {
       "output_type": "stream",
       "stream": "stdout",
       "text": [
        "Epoch 65/140\n",
        "0s - loss: 1.3933 - acc: 0.2503 - val_loss: 1.3926 - val_acc: 0.2444\n"
       ]
      },
      {
       "output_type": "stream",
       "stream": "stdout",
       "text": [
        "Epoch 66/140\n",
        "0s - loss: 1.3928 - acc: 0.2503 - val_loss: 1.3921 - val_acc: 0.2444\n"
       ]
      },
      {
       "output_type": "stream",
       "stream": "stdout",
       "text": [
        "Epoch 67/140\n",
        "0s - loss: 1.3924 - acc: 0.2503 - val_loss: 1.3917 - val_acc: 0.2444\n"
       ]
      },
      {
       "output_type": "stream",
       "stream": "stdout",
       "text": [
        "Epoch 68/140\n",
        "0s - loss: 1.3919 - acc: 0.2503 - val_loss: 1.3913 - val_acc: 0.2444\n"
       ]
      },
      {
       "output_type": "stream",
       "stream": "stdout",
       "text": [
        "Epoch 69/140\n",
        "0s - loss: 1.3915 - acc: 0.2503 - val_loss: 1.3909 - val_acc: 0.2444\n"
       ]
      },
      {
       "output_type": "stream",
       "stream": "stdout",
       "text": [
        "Epoch 70/140\n",
        "0s - loss: 1.3912 - acc: 0.2503 - val_loss: 1.3906 - val_acc: 0.2444\n"
       ]
      },
      {
       "output_type": "stream",
       "stream": "stdout",
       "text": [
        "Epoch 71/140\n",
        "0s - loss: 1.3908 - acc: 0.2503 - val_loss: 1.3902 - val_acc: 0.2444\n"
       ]
      },
      {
       "output_type": "stream",
       "stream": "stdout",
       "text": [
        "Epoch 72/140\n",
        "0s - loss: 1.3905 - acc: 0.2503 - val_loss: 1.3899 - val_acc: 0.2444\n"
       ]
      },
      {
       "output_type": "stream",
       "stream": "stdout",
       "text": [
        "Epoch 73/140\n",
        "0s - loss: 1.3902 - acc: 0.2503 - val_loss: 1.3897 - val_acc: 0.2444\n"
       ]
      },
      {
       "output_type": "stream",
       "stream": "stdout",
       "text": [
        "Epoch 74/140\n",
        "0s - loss: 1.3899 - acc: 0.2503 - val_loss: 1.3894 - val_acc: 0.2444\n"
       ]
      },
      {
       "output_type": "stream",
       "stream": "stdout",
       "text": [
        "Epoch 75/140\n",
        "0s - loss: 1.3896 - acc: 0.2503 - val_loss: 1.3892 - val_acc: 0.2444\n"
       ]
      },
      {
       "output_type": "stream",
       "stream": "stdout",
       "text": [
        "Epoch 76/140\n",
        "0s - loss: 1.3894 - acc: 0.2503 - val_loss: 1.3889 - val_acc: 0.2444\n"
       ]
      },
      {
       "output_type": "stream",
       "stream": "stdout",
       "text": [
        "Epoch 77/140\n",
        "0s - loss: 1.3892 - acc: 0.2503 - val_loss: 1.3887 - val_acc: 0.2444\n"
       ]
      },
      {
       "output_type": "stream",
       "stream": "stdout",
       "text": [
        "Epoch 78/140\n",
        "0s - loss: 1.3889 - acc: 0.2503 - val_loss: 1.3885 - val_acc: 0.2444\n"
       ]
      },
      {
       "output_type": "stream",
       "stream": "stdout",
       "text": [
        "Epoch 79/140\n",
        "0s - loss: 1.3888 - acc: 0.2503 - val_loss: 1.3884 - val_acc: 0.2444\n"
       ]
      },
      {
       "output_type": "stream",
       "stream": "stdout",
       "text": [
        "Epoch 80/140\n",
        "0s - loss: 1.3886 - acc: 0.2503 - val_loss: 1.3882 - val_acc: 0.2444\n"
       ]
      },
      {
       "output_type": "stream",
       "stream": "stdout",
       "text": [
        "Epoch 81/140\n",
        "0s - loss: 1.3884 - acc: 0.2503 - val_loss: 1.3881 - val_acc: 0.2444\n"
       ]
      },
      {
       "output_type": "stream",
       "stream": "stdout",
       "text": [
        "Epoch 82/140\n",
        "0s - loss: 1.3882 - acc: 0.2503 - val_loss: 1.3879 - val_acc: 0.2444\n"
       ]
      },
      {
       "output_type": "stream",
       "stream": "stdout",
       "text": [
        "Epoch 83/140\n",
        "0s - loss: 1.3881 - acc: 0.2503 - val_loss: 1.3878 - val_acc: 0.2444\n"
       ]
      },
      {
       "output_type": "stream",
       "stream": "stdout",
       "text": [
        "Epoch 84/140\n",
        "0s - loss: 1.3880 - acc: 0.2503 - val_loss: 1.3877 - val_acc: 0.2444\n"
       ]
      },
      {
       "output_type": "stream",
       "stream": "stdout",
       "text": [
        "Epoch 85/140\n",
        "0s - loss: 1.3878 - acc: 0.2503 - val_loss: 1.3876 - val_acc: 0.2444\n"
       ]
      },
      {
       "output_type": "stream",
       "stream": "stdout",
       "text": [
        "Epoch 86/140\n",
        "0s - loss: 1.3877 - acc: 0.2503 - val_loss: 1.3875 - val_acc: 0.2444\n"
       ]
      },
      {
       "output_type": "stream",
       "stream": "stdout",
       "text": [
        "Epoch 87/140\n",
        "0s - loss: 1.3876 - acc: 0.2503 - val_loss: 1.3874 - val_acc: 0.2444\n"
       ]
      },
      {
       "output_type": "stream",
       "stream": "stdout",
       "text": [
        "Epoch 88/140\n",
        "0s - loss: 1.3875 - acc: 0.2503 - val_loss: 1.3873 - val_acc: 0.2444\n"
       ]
      },
      {
       "output_type": "stream",
       "stream": "stdout",
       "text": [
        "Epoch 89/140\n",
        "0s - loss: 1.3874 - acc: 0.2503 - val_loss: 1.3872 - val_acc: 0.2444\n"
       ]
      },
      {
       "output_type": "stream",
       "stream": "stdout",
       "text": [
        "Epoch 90/140\n",
        "0s - loss: 1.3873 - acc: 0.2503 - val_loss: 1.3871 - val_acc: 0.2444\n"
       ]
      },
      {
       "output_type": "stream",
       "stream": "stdout",
       "text": [
        "Epoch 91/140\n",
        "0s - loss: 1.3873 - acc: 0.2503 - val_loss: 1.3871 - val_acc: 0.2444\n"
       ]
      },
      {
       "output_type": "stream",
       "stream": "stdout",
       "text": [
        "Epoch 92/140\n",
        "0s - loss: 1.3872 - acc: 0.2503 - val_loss: 1.3870 - val_acc: 0.2444\n"
       ]
      },
      {
       "output_type": "stream",
       "stream": "stdout",
       "text": [
        "Epoch 93/140\n",
        "0s - loss: 1.3871 - acc: 0.2503 - val_loss: 1.3869 - val_acc: 0.2444\n"
       ]
      },
      {
       "output_type": "stream",
       "stream": "stdout",
       "text": [
        "Epoch 94/140\n",
        "0s - loss: 1.3871 - acc: 0.2503 - val_loss: 1.3869 - val_acc: 0.2444\n"
       ]
      },
      {
       "output_type": "stream",
       "stream": "stdout",
       "text": [
        "Epoch 95/140\n",
        "0s - loss: 1.3870 - acc: 0.2503 - val_loss: 1.3868 - val_acc: 0.2444\n"
       ]
      },
      {
       "output_type": "stream",
       "stream": "stdout",
       "text": [
        "Epoch 96/140\n",
        "0s - loss: 1.3869 - acc: 0.2503 - val_loss: 1.3868 - val_acc: 0.2444\n"
       ]
      },
      {
       "output_type": "stream",
       "stream": "stdout",
       "text": [
        "Epoch 97/140\n",
        "0s - loss: 1.3869 - acc: 0.2503 - val_loss: 1.3867 - val_acc: 0.2444\n"
       ]
      },
      {
       "output_type": "stream",
       "stream": "stdout",
       "text": [
        "Epoch 98/140\n",
        "0s - loss: 1.3869 - acc: 0.2503 - val_loss: 1.3867 - val_acc: 0.2444\n"
       ]
      },
      {
       "output_type": "stream",
       "stream": "stdout",
       "text": [
        "Epoch 99/140\n",
        "0s - loss: 1.3868 - acc: 0.2503 - val_loss: 1.3867 - val_acc: 0.2444\n"
       ]
      },
      {
       "output_type": "stream",
       "stream": "stdout",
       "text": [
        "Epoch 100/140\n",
        "0s - loss: 1.3868 - acc: 0.2503 - val_loss: 1.3866 - val_acc: 0.2444\n"
       ]
      },
      {
       "output_type": "stream",
       "stream": "stdout",
       "text": [
        "Epoch 101/140\n",
        "0s - loss: 1.3867 - acc: 0.2503 - val_loss: 1.3866 - val_acc: 0.2444\n"
       ]
      },
      {
       "output_type": "stream",
       "stream": "stdout",
       "text": [
        "Epoch 102/140\n",
        "0s - loss: 1.3867 - acc: 0.2503 - val_loss: 1.3866 - val_acc: 0.2444\n"
       ]
      },
      {
       "output_type": "stream",
       "stream": "stdout",
       "text": [
        "Epoch 103/140\n",
        "0s - loss: 1.3867 - acc: 0.2503 - val_loss: 1.3866 - val_acc: 0.2444\n"
       ]
      },
      {
       "output_type": "stream",
       "stream": "stdout",
       "text": [
        "Epoch 104/140\n",
        "0s - loss: 1.3866 - acc: 0.2503 - val_loss: 1.3865 - val_acc: 0.2444\n"
       ]
      },
      {
       "output_type": "stream",
       "stream": "stdout",
       "text": [
        "Epoch 105/140\n",
        "0s - loss: 1.3866 - acc: 0.2503 - val_loss: 1.3865 - val_acc: 0.2444\n"
       ]
      },
      {
       "output_type": "stream",
       "stream": "stdout",
       "text": [
        "Epoch 106/140\n",
        "0s - loss: 1.3866 - acc: 0.2503 - val_loss: 1.3865 - val_acc: 0.2444\n"
       ]
      },
      {
       "output_type": "stream",
       "stream": "stdout",
       "text": [
        "Epoch 107/140\n",
        "0s - loss: 1.3866 - acc: 0.2503 - val_loss: 1.3865 - val_acc: 0.2444\n"
       ]
      },
      {
       "output_type": "stream",
       "stream": "stdout",
       "text": [
        "Epoch 108/140\n",
        "0s - loss: 1.3865 - acc: 0.2503 - val_loss: 1.3865 - val_acc: 0.2444\n"
       ]
      },
      {
       "output_type": "stream",
       "stream": "stdout",
       "text": [
        "Epoch 109/140\n",
        "0s - loss: 1.3865 - acc: 0.2503 - val_loss: 1.3864 - val_acc: 0.2444\n"
       ]
      },
      {
       "output_type": "stream",
       "stream": "stdout",
       "text": [
        "Epoch 110/140\n",
        "0s - loss: 1.3865 - acc: 0.2503 - val_loss: 1.3864 - val_acc: 0.2444\n"
       ]
      },
      {
       "output_type": "stream",
       "stream": "stdout",
       "text": [
        "Epoch 111/140\n",
        "0s - loss: 1.3865 - acc: 0.2503 - val_loss: 1.3864 - val_acc: 0.2444\n"
       ]
      },
      {
       "output_type": "stream",
       "stream": "stdout",
       "text": [
        "Epoch 112/140\n",
        "0s - loss: 1.3865 - acc: 0.2503 - val_loss: 1.3864 - val_acc: 0.2444\n"
       ]
      },
      {
       "output_type": "stream",
       "stream": "stdout",
       "text": [
        "Epoch 113/140\n",
        "0s - loss: 1.3865 - acc: 0.2503 - val_loss: 1.3864 - val_acc: 0.2444\n"
       ]
      },
      {
       "output_type": "stream",
       "stream": "stdout",
       "text": [
        "Epoch 114/140\n",
        "0s - loss: 1.3864 - acc: 0.2503 - val_loss: 1.3864 - val_acc: 0.2444\n"
       ]
      },
      {
       "output_type": "stream",
       "stream": "stdout",
       "text": [
        "Epoch 115/140\n",
        "0s - loss: 1.3864 - acc: 0.2503 - val_loss: 1.3864 - val_acc: 0.2444\n"
       ]
      },
      {
       "output_type": "stream",
       "stream": "stdout",
       "text": [
        "Epoch 116/140\n",
        "0s - loss: 1.3864 - acc: 0.2503 - val_loss: 1.3864 - val_acc: 0.2444\n"
       ]
      },
      {
       "output_type": "stream",
       "stream": "stdout",
       "text": [
        "Epoch 117/140\n",
        "0s - loss: 1.3864 - acc: 0.2503 - val_loss: 1.3864 - val_acc: 0.2444\n"
       ]
      },
      {
       "output_type": "stream",
       "stream": "stdout",
       "text": [
        "Epoch 118/140\n",
        "0s - loss: 1.3864 - acc: 0.2503 - val_loss: 1.3864 - val_acc: 0.2444\n"
       ]
      },
      {
       "output_type": "stream",
       "stream": "stdout",
       "text": [
        "Epoch 119/140\n",
        "0s - loss: 1.3864 - acc: 0.2503 - val_loss: 1.3863 - val_acc: 0.2444\n"
       ]
      },
      {
       "output_type": "stream",
       "stream": "stdout",
       "text": [
        "Epoch 120/140\n",
        "0s - loss: 1.3864 - acc: 0.2503 - val_loss: 1.3863 - val_acc: 0.2444\n"
       ]
      },
      {
       "output_type": "stream",
       "stream": "stdout",
       "text": [
        "Epoch 121/140\n",
        "0s - loss: 1.3864 - acc: 0.2503 - val_loss: 1.3863 - val_acc: 0.2444\n"
       ]
      },
      {
       "output_type": "stream",
       "stream": "stdout",
       "text": [
        "Epoch 122/140\n",
        "0s - loss: 1.3864 - acc: 0.2503 - val_loss: 1.3863 - val_acc: 0.2444\n"
       ]
      },
      {
       "output_type": "stream",
       "stream": "stdout",
       "text": [
        "Epoch 123/140\n",
        "0s - loss: 1.3864 - acc: 0.2503 - val_loss: 1.3863 - val_acc: 0.2444\n"
       ]
      },
      {
       "output_type": "stream",
       "stream": "stdout",
       "text": [
        "Epoch 124/140\n",
        "0s - loss: 1.3864 - acc: 0.2503 - val_loss: 1.3863 - val_acc: 0.2444\n"
       ]
      },
      {
       "output_type": "stream",
       "stream": "stdout",
       "text": [
        "Epoch 125/140\n",
        "0s - loss: 1.3864 - acc: 0.2503 - val_loss: 1.3863 - val_acc: 0.2444\n"
       ]
      },
      {
       "output_type": "stream",
       "stream": "stdout",
       "text": [
        "Epoch 126/140\n",
        "0s - loss: 1.3864 - acc: 0.2503 - val_loss: 1.3863 - val_acc: 0.2444\n"
       ]
      },
      {
       "output_type": "stream",
       "stream": "stdout",
       "text": [
        "Epoch 127/140\n",
        "0s - loss: 1.3863 - acc: 0.2503 - val_loss: 1.3863 - val_acc: 0.2444\n"
       ]
      },
      {
       "output_type": "stream",
       "stream": "stdout",
       "text": [
        "Epoch 128/140\n",
        "0s - loss: 1.3863 - acc: 0.2503 - val_loss: 1.3863 - val_acc: 0.2444\n"
       ]
      },
      {
       "output_type": "stream",
       "stream": "stdout",
       "text": [
        "Epoch 129/140\n",
        "0s - loss: 1.3863 - acc: 0.2503 - val_loss: 1.3863 - val_acc: 0.2444\n"
       ]
      },
      {
       "output_type": "stream",
       "stream": "stdout",
       "text": [
        "Epoch 130/140\n",
        "0s - loss: 1.3863 - acc: 0.2503 - val_loss: 1.3863 - val_acc: 0.2444\n"
       ]
      },
      {
       "output_type": "stream",
       "stream": "stdout",
       "text": [
        "Epoch 131/140\n",
        "0s - loss: 1.3863 - acc: 0.2503 - val_loss: 1.3863 - val_acc: 0.2444\n"
       ]
      },
      {
       "output_type": "stream",
       "stream": "stdout",
       "text": [
        "Epoch 132/140\n",
        "0s - loss: 1.3863 - acc: 0.2503 - val_loss: 1.3863 - val_acc: 0.2444\n"
       ]
      },
      {
       "output_type": "stream",
       "stream": "stdout",
       "text": [
        "Epoch 133/140\n",
        "0s - loss: 1.3863 - acc: 0.2503 - val_loss: 1.3863 - val_acc: 0.2444\n"
       ]
      },
      {
       "output_type": "stream",
       "stream": "stdout",
       "text": [
        "Epoch 134/140\n",
        "0s - loss: 1.3863 - acc: 0.2503 - val_loss: 1.3863 - val_acc: 0.2444\n"
       ]
      },
      {
       "output_type": "stream",
       "stream": "stdout",
       "text": [
        "Epoch 135/140\n",
        "0s - loss: 1.3863 - acc: 0.2503 - val_loss: 1.3863 - val_acc: 0.2444\n"
       ]
      },
      {
       "output_type": "stream",
       "stream": "stdout",
       "text": [
        "Epoch 136/140\n",
        "0s - loss: 1.3863 - acc: 0.2503 - val_loss: 1.3863 - val_acc: 0.2444\n"
       ]
      },
      {
       "output_type": "stream",
       "stream": "stdout",
       "text": [
        "Epoch 137/140\n",
        "0s - loss: 1.3863 - acc: 0.2503 - val_loss: 1.3863 - val_acc: 0.2444\n"
       ]
      },
      {
       "output_type": "stream",
       "stream": "stdout",
       "text": [
        "Epoch 138/140\n",
        "0s - loss: 1.3863 - acc: 0.2503 - val_loss: 1.3863 - val_acc: 0.2444\n"
       ]
      },
      {
       "output_type": "stream",
       "stream": "stdout",
       "text": [
        "Epoch 139/140\n",
        "0s - loss: 1.3863 - acc: 0.2503 - val_loss: 1.3863 - val_acc: 0.2444\n"
       ]
      },
      {
       "output_type": "stream",
       "stream": "stdout",
       "text": [
        "Epoch 140/140\n",
        "0s - loss: 1.3863 - acc: 0.2503 - val_loss: 1.3863 - val_acc: 0.2444\n"
       ]
      },
      {
       "output_type": "stream",
       "stream": "stdout",
       "text": [
        "\r",
        " 5000/20000 [======>.......................] - ETA: 0s"
       ]
      },
      {
       "output_type": "stream",
       "stream": "stdout",
       "text": [
        "\b\b\b\b\b\b\b\b\b\b\b\b\b\b\b\b\b\b\b\b\b\b\b\b\b\b\b\b\b\b\b\b\b\b\b\b\b\b\b\b\b\b\b\b\b\b\b\b\b\b\b\b\b\b\r",
        "20000/20000 [==============================] - 0s     "
       ]
      },
      {
       "output_type": "stream",
       "stream": "stdout",
       "text": [
        "\n",
        "\r",
        " 5000/20000 [======>.......................] - ETA: 0s"
       ]
      },
      {
       "output_type": "stream",
       "stream": "stdout",
       "text": [
        "\b\b\b\b\b\b\b\b\b\b\b\b\b\b\b\b\b\b\b\b\b\b\b\b\b\b\b\b\b\b\b\b\b\b\b\b\b\b\b\b\b\b\b\b\b\b\b\b\b\b\b\b\b\b\r",
        "20000/20000 [==============================] - 0s     "
       ]
      },
      {
       "output_type": "stream",
       "stream": "stdout",
       "text": [
        "\n",
        "Train on 80000 samples, validate on 20000 samples\n",
        "Epoch 1/150\n",
        "0s - loss: 1.0297 - acc: 0.2492 - val_loss: 1.0301 - val_acc: 0.2551\n"
       ]
      },
      {
       "output_type": "stream",
       "stream": "stdout",
       "text": [
        "Epoch 2/150\n",
        "0s - loss: 1.0227 - acc: 0.2492 - val_loss: 1.0233 - val_acc: 0.2551\n"
       ]
      },
      {
       "output_type": "stream",
       "stream": "stdout",
       "text": [
        "Epoch 3/150\n",
        "0s - loss: 1.0161 - acc: 0.2492 - val_loss: 1.0169 - val_acc: 0.2551\n"
       ]
      },
      {
       "output_type": "stream",
       "stream": "stdout",
       "text": [
        "Epoch 4/150\n",
        "0s - loss: 1.0098 - acc: 0.2492 - val_loss: 1.0108 - val_acc: 0.2551\n"
       ]
      },
      {
       "output_type": "stream",
       "stream": "stdout",
       "text": [
        "Epoch 5/150\n",
        "0s - loss: 1.0040 - acc: 0.2492 - val_loss: 1.0051 - val_acc: 0.2551\n"
       ]
      },
      {
       "output_type": "stream",
       "stream": "stdout",
       "text": [
        "Epoch 6/150\n",
        "0s - loss: 0.9984 - acc: 0.2492 - val_loss: 0.9996 - val_acc: 0.2551\n"
       ]
      },
      {
       "output_type": "stream",
       "stream": "stdout",
       "text": [
        "Epoch 7/150\n",
        "0s - loss: 0.9931 - acc: 0.2492 - val_loss: 0.9945 - val_acc: 0.2551\n"
       ]
      },
      {
       "output_type": "stream",
       "stream": "stdout",
       "text": [
        "Epoch 8/150\n",
        "0s - loss: 0.9881 - acc: 0.2492 - val_loss: 0.9896 - val_acc: 0.2551\n"
       ]
      },
      {
       "output_type": "stream",
       "stream": "stdout",
       "text": [
        "Epoch 9/150\n",
        "0s - loss: 0.9834 - acc: 0.2492 - val_loss: 0.9849 - val_acc: 0.2551\n"
       ]
      },
      {
       "output_type": "stream",
       "stream": "stdout",
       "text": [
        "Epoch 10/150\n",
        "0s - loss: 0.9788 - acc: 0.2454 - val_loss: 0.9805 - val_acc: 0.2515\n"
       ]
      },
      {
       "output_type": "stream",
       "stream": "stdout",
       "text": [
        "Epoch 11/150\n",
        "0s - loss: 0.9745 - acc: 0.2503 - val_loss: 0.9763 - val_acc: 0.2515\n"
       ]
      },
      {
       "output_type": "stream",
       "stream": "stdout",
       "text": [
        "Epoch 12/150\n",
        "0s - loss: 0.9705 - acc: 0.2514 - val_loss: 0.9723 - val_acc: 0.2515\n"
       ]
      },
      {
       "output_type": "stream",
       "stream": "stdout",
       "text": [
        "Epoch 13/150\n",
        "0s - loss: 0.9666 - acc: 0.2514 - val_loss: 0.9685 - val_acc: 0.2515\n"
       ]
      },
      {
       "output_type": "stream",
       "stream": "stdout",
       "text": [
        "Epoch 14/150\n",
        "0s - loss: 0.9629 - acc: 0.2514 - val_loss: 0.9649 - val_acc: 0.2515\n"
       ]
      },
      {
       "output_type": "stream",
       "stream": "stdout",
       "text": [
        "Epoch 15/150\n",
        "0s - loss: 0.9593 - acc: 0.2514 - val_loss: 0.9614 - val_acc: 0.2515\n"
       ]
      },
      {
       "output_type": "stream",
       "stream": "stdout",
       "text": [
        "Epoch 16/150\n",
        "0s - loss: 0.9559 - acc: 0.2514 - val_loss: 0.9581 - val_acc: 0.2515\n"
       ]
      },
      {
       "output_type": "stream",
       "stream": "stdout",
       "text": [
        "Epoch 17/150\n",
        "0s - loss: 0.9527 - acc: 0.2514 - val_loss: 0.9549 - val_acc: 0.2515\n"
       ]
      },
      {
       "output_type": "stream",
       "stream": "stdout",
       "text": [
        "Epoch 18/150\n",
        "0s - loss: 0.9496 - acc: 0.2514 - val_loss: 0.9519 - val_acc: 0.2515\n"
       ]
      },
      {
       "output_type": "stream",
       "stream": "stdout",
       "text": [
        "Epoch 19/150\n",
        "0s - loss: 0.9466 - acc: 0.2514 - val_loss: 0.9489 - val_acc: 0.2515\n"
       ]
      },
      {
       "output_type": "stream",
       "stream": "stdout",
       "text": [
        "Epoch 20/150\n",
        "0s - loss: 0.9438 - acc: 0.2514 - val_loss: 0.9461 - val_acc: 0.2515\n"
       ]
      },
      {
       "output_type": "stream",
       "stream": "stdout",
       "text": [
        "Epoch 21/150\n",
        "0s - loss: 0.9410 - acc: 0.2514 - val_loss: 0.9435 - val_acc: 0.2515\n"
       ]
      },
      {
       "output_type": "stream",
       "stream": "stdout",
       "text": [
        "Epoch 22/150\n",
        "0s - loss: 0.9384 - acc: 0.2514 - val_loss: 0.9409 - val_acc: 0.2515\n"
       ]
      },
      {
       "output_type": "stream",
       "stream": "stdout",
       "text": [
        "Epoch 23/150\n",
        "0s - loss: 0.9359 - acc: 0.2514 - val_loss: 0.9384 - val_acc: 0.2515\n"
       ]
      },
      {
       "output_type": "stream",
       "stream": "stdout",
       "text": [
        "Epoch 24/150\n",
        "0s - loss: 0.9335 - acc: 0.2514 - val_loss: 0.9360 - val_acc: 0.2515\n"
       ]
      },
      {
       "output_type": "stream",
       "stream": "stdout",
       "text": [
        "Epoch 25/150\n",
        "0s - loss: 0.9311 - acc: 0.2514 - val_loss: 0.9337 - val_acc: 0.2515\n"
       ]
      },
      {
       "output_type": "stream",
       "stream": "stdout",
       "text": [
        "Epoch 26/150\n",
        "0s - loss: 0.9289 - acc: 0.2514 - val_loss: 0.9315 - val_acc: 0.2515\n"
       ]
      },
      {
       "output_type": "stream",
       "stream": "stdout",
       "text": [
        "Epoch 27/150\n",
        "0s - loss: 0.9267 - acc: 0.2514 - val_loss: 0.9294 - val_acc: 0.2515\n"
       ]
      },
      {
       "output_type": "stream",
       "stream": "stdout",
       "text": [
        "Epoch 28/150\n",
        "0s - loss: 0.9247 - acc: 0.2514 - val_loss: 0.9273 - val_acc: 0.2515\n"
       ]
      },
      {
       "output_type": "stream",
       "stream": "stdout",
       "text": [
        "Epoch 29/150\n",
        "0s - loss: 0.9226 - acc: 0.2514 - val_loss: 0.9254 - val_acc: 0.2515\n"
       ]
      },
      {
       "output_type": "stream",
       "stream": "stdout",
       "text": [
        "Epoch 30/150\n",
        "0s - loss: 0.9207 - acc: 0.2514 - val_loss: 0.9235 - val_acc: 0.2515\n"
       ]
      },
      {
       "output_type": "stream",
       "stream": "stdout",
       "text": [
        "Epoch 31/150\n",
        "0s - loss: 0.9188 - acc: 0.2514 - val_loss: 0.9216 - val_acc: 0.2515\n"
       ]
      },
      {
       "output_type": "stream",
       "stream": "stdout",
       "text": [
        "Epoch 32/150\n",
        "0s - loss: 0.9170 - acc: 0.2514 - val_loss: 0.9198 - val_acc: 0.2515\n"
       ]
      },
      {
       "output_type": "stream",
       "stream": "stdout",
       "text": [
        "Epoch 33/150\n",
        "0s - loss: 0.9153 - acc: 0.2514 - val_loss: 0.9181 - val_acc: 0.2515\n"
       ]
      },
      {
       "output_type": "stream",
       "stream": "stdout",
       "text": [
        "Epoch 34/150\n",
        "0s - loss: 0.9136 - acc: 0.2514 - val_loss: 0.9165 - val_acc: 0.2515\n"
       ]
      },
      {
       "output_type": "stream",
       "stream": "stdout",
       "text": [
        "Epoch 35/150\n",
        "0s - loss: 0.9120 - acc: 0.2514 - val_loss: 0.9148 - val_acc: 0.2515\n"
       ]
      },
      {
       "output_type": "stream",
       "stream": "stdout",
       "text": [
        "Epoch 36/150\n",
        "0s - loss: 0.9104 - acc: 0.2514 - val_loss: 0.9133 - val_acc: 0.2515\n"
       ]
      },
      {
       "output_type": "stream",
       "stream": "stdout",
       "text": [
        "Epoch 37/150\n",
        "0s - loss: 0.9089 - acc: 0.2514 - val_loss: 0.9118 - val_acc: 0.2515\n"
       ]
      },
      {
       "output_type": "stream",
       "stream": "stdout",
       "text": [
        "Epoch 38/150\n",
        "0s - loss: 0.9074 - acc: 0.2514 - val_loss: 0.9103 - val_acc: 0.2515\n"
       ]
      },
      {
       "output_type": "stream",
       "stream": "stdout",
       "text": [
        "Epoch 39/150\n",
        "0s - loss: 0.9060 - acc: 0.2514 - val_loss: 0.9089 - val_acc: 0.2515\n"
       ]
      },
      {
       "output_type": "stream",
       "stream": "stdout",
       "text": [
        "Epoch 40/150\n",
        "0s - loss: 0.9046 - acc: 0.2514 - val_loss: 0.9075 - val_acc: 0.2515\n"
       ]
      },
      {
       "output_type": "stream",
       "stream": "stdout",
       "text": [
        "Epoch 41/150\n",
        "0s - loss: 0.9032 - acc: 0.2514 - val_loss: 0.9062 - val_acc: 0.2515\n"
       ]
      },
      {
       "output_type": "stream",
       "stream": "stdout",
       "text": [
        "Epoch 42/150\n",
        "0s - loss: 0.9019 - acc: 0.2514 - val_loss: 0.9049 - val_acc: 0.2515\n"
       ]
      },
      {
       "output_type": "stream",
       "stream": "stdout",
       "text": [
        "Epoch 43/150\n",
        "0s - loss: 0.9007 - acc: 0.2514 - val_loss: 0.9037 - val_acc: 0.2515\n"
       ]
      },
      {
       "output_type": "stream",
       "stream": "stdout",
       "text": [
        "Epoch 44/150\n",
        "0s - loss: 0.8994 - acc: 0.2514 - val_loss: 0.9024 - val_acc: 0.2515\n"
       ]
      },
      {
       "output_type": "stream",
       "stream": "stdout",
       "text": [
        "Epoch 45/150\n",
        "0s - loss: 0.8982 - acc: 0.2514 - val_loss: 0.9013 - val_acc: 0.2515\n"
       ]
      },
      {
       "output_type": "stream",
       "stream": "stdout",
       "text": [
        "Epoch 46/150\n",
        "0s - loss: 0.8971 - acc: 0.2514 - val_loss: 0.9001 - val_acc: 0.2515\n"
       ]
      },
      {
       "output_type": "stream",
       "stream": "stdout",
       "text": [
        "Epoch 47/150\n",
        "0s - loss: 0.8959 - acc: 0.2514 - val_loss: 0.8990 - val_acc: 0.2515\n"
       ]
      },
      {
       "output_type": "stream",
       "stream": "stdout",
       "text": [
        "Epoch 48/150\n",
        "0s - loss: 0.8948 - acc: 0.2514 - val_loss: 0.8979 - val_acc: 0.2515\n"
       ]
      },
      {
       "output_type": "stream",
       "stream": "stdout",
       "text": [
        "Epoch 49/150\n",
        "0s - loss: 0.8938 - acc: 0.2514 - val_loss: 0.8968 - val_acc: 0.2515\n"
       ]
      },
      {
       "output_type": "stream",
       "stream": "stdout",
       "text": [
        "Epoch 50/150\n",
        "0s - loss: 0.8927 - acc: 0.2514 - val_loss: 0.8958 - val_acc: 0.2515\n"
       ]
      },
      {
       "output_type": "stream",
       "stream": "stdout",
       "text": [
        "Epoch 51/150\n",
        "0s - loss: 0.8917 - acc: 0.2514 - val_loss: 0.8948 - val_acc: 0.2515\n"
       ]
      },
      {
       "output_type": "stream",
       "stream": "stdout",
       "text": [
        "Epoch 52/150\n",
        "0s - loss: 0.8907 - acc: 0.2514 - val_loss: 0.8938 - val_acc: 0.2515\n"
       ]
      },
      {
       "output_type": "stream",
       "stream": "stdout",
       "text": [
        "Epoch 53/150\n",
        "0s - loss: 0.8898 - acc: 0.2514 - val_loss: 0.8929 - val_acc: 0.2515\n"
       ]
      },
      {
       "output_type": "stream",
       "stream": "stdout",
       "text": [
        "Epoch 54/150\n",
        "0s - loss: 0.8888 - acc: 0.2514 - val_loss: 0.8919 - val_acc: 0.2515\n"
       ]
      },
      {
       "output_type": "stream",
       "stream": "stdout",
       "text": [
        "Epoch 55/150\n",
        "0s - loss: 0.8879 - acc: 0.2514 - val_loss: 0.8910 - val_acc: 0.2515\n"
       ]
      },
      {
       "output_type": "stream",
       "stream": "stdout",
       "text": [
        "Epoch 56/150\n",
        "0s - loss: 0.8870 - acc: 0.2514 - val_loss: 0.8902 - val_acc: 0.2515\n"
       ]
      },
      {
       "output_type": "stream",
       "stream": "stdout",
       "text": [
        "Epoch 57/150\n",
        "0s - loss: 0.8861 - acc: 0.2514 - val_loss: 0.8893 - val_acc: 0.2515\n"
       ]
      },
      {
       "output_type": "stream",
       "stream": "stdout",
       "text": [
        "Epoch 58/150\n",
        "0s - loss: 0.8853 - acc: 0.2514 - val_loss: 0.8885 - val_acc: 0.2515\n"
       ]
      },
      {
       "output_type": "stream",
       "stream": "stdout",
       "text": [
        "Epoch 59/150\n",
        "0s - loss: 0.8845 - acc: 0.2514 - val_loss: 0.8876 - val_acc: 0.2515\n"
       ]
      },
      {
       "output_type": "stream",
       "stream": "stdout",
       "text": [
        "Epoch 60/150\n",
        "0s - loss: 0.8837 - acc: 0.2514 - val_loss: 0.8868 - val_acc: 0.2515\n"
       ]
      },
      {
       "output_type": "stream",
       "stream": "stdout",
       "text": [
        "Epoch 61/150\n",
        "0s - loss: 0.8829 - acc: 0.2514 - val_loss: 0.8860 - val_acc: 0.2515\n"
       ]
      },
      {
       "output_type": "stream",
       "stream": "stdout",
       "text": [
        "Epoch 62/150\n",
        "0s - loss: 0.8821 - acc: 0.2514 - val_loss: 0.8853 - val_acc: 0.2515\n"
       ]
      },
      {
       "output_type": "stream",
       "stream": "stdout",
       "text": [
        "Epoch 63/150\n",
        "0s - loss: 0.8814 - acc: 0.2514 - val_loss: 0.8845 - val_acc: 0.2515\n"
       ]
      },
      {
       "output_type": "stream",
       "stream": "stdout",
       "text": [
        "Epoch 64/150\n",
        "0s - loss: 0.8806 - acc: 0.2514 - val_loss: 0.8838 - val_acc: 0.2515\n"
       ]
      },
      {
       "output_type": "stream",
       "stream": "stdout",
       "text": [
        "Epoch 65/150\n",
        "0s - loss: 0.8799 - acc: 0.2514 - val_loss: 0.8831 - val_acc: 0.2515\n"
       ]
      },
      {
       "output_type": "stream",
       "stream": "stdout",
       "text": [
        "Epoch 66/150\n",
        "0s - loss: 0.8792 - acc: 0.2514 - val_loss: 0.8824 - val_acc: 0.2515\n"
       ]
      },
      {
       "output_type": "stream",
       "stream": "stdout",
       "text": [
        "Epoch 67/150\n",
        "0s - loss: 0.8785 - acc: 0.2514 - val_loss: 0.8817 - val_acc: 0.2515\n"
       ]
      },
      {
       "output_type": "stream",
       "stream": "stdout",
       "text": [
        "Epoch 68/150\n",
        "0s - loss: 0.8778 - acc: 0.2514 - val_loss: 0.8811 - val_acc: 0.2515\n"
       ]
      },
      {
       "output_type": "stream",
       "stream": "stdout",
       "text": [
        "Epoch 69/150\n",
        "0s - loss: 0.8772 - acc: 0.2514 - val_loss: 0.8804 - val_acc: 0.2515\n"
       ]
      },
      {
       "output_type": "stream",
       "stream": "stdout",
       "text": [
        "Epoch 70/150\n",
        "0s - loss: 0.8765 - acc: 0.2514 - val_loss: 0.8798 - val_acc: 0.2515\n"
       ]
      },
      {
       "output_type": "stream",
       "stream": "stdout",
       "text": [
        "Epoch 71/150\n",
        "0s - loss: 0.8759 - acc: 0.2514 - val_loss: 0.8791 - val_acc: 0.2515\n"
       ]
      },
      {
       "output_type": "stream",
       "stream": "stdout",
       "text": [
        "Epoch 72/150\n",
        "0s - loss: 0.8753 - acc: 0.2514 - val_loss: 0.8785 - val_acc: 0.2515\n"
       ]
      },
      {
       "output_type": "stream",
       "stream": "stdout",
       "text": [
        "Epoch 73/150\n",
        "0s - loss: 0.8747 - acc: 0.2514 - val_loss: 0.8779 - val_acc: 0.2515\n"
       ]
      },
      {
       "output_type": "stream",
       "stream": "stdout",
       "text": [
        "Epoch 74/150\n",
        "0s - loss: 0.8741 - acc: 0.2514 - val_loss: 0.8774 - val_acc: 0.2515\n"
       ]
      },
      {
       "output_type": "stream",
       "stream": "stdout",
       "text": [
        "Epoch 75/150\n",
        "0s - loss: 0.8735 - acc: 0.2514 - val_loss: 0.8768 - val_acc: 0.2515\n"
       ]
      },
      {
       "output_type": "stream",
       "stream": "stdout",
       "text": [
        "Epoch 76/150\n",
        "0s - loss: 0.8730 - acc: 0.2514 - val_loss: 0.8762 - val_acc: 0.2515\n"
       ]
      },
      {
       "output_type": "stream",
       "stream": "stdout",
       "text": [
        "Epoch 77/150\n",
        "0s - loss: 0.8724 - acc: 0.2514 - val_loss: 0.8757 - val_acc: 0.2515\n"
       ]
      },
      {
       "output_type": "stream",
       "stream": "stdout",
       "text": [
        "Epoch 78/150\n",
        "0s - loss: 0.8719 - acc: 0.2514 - val_loss: 0.8751 - val_acc: 0.2515\n"
       ]
      },
      {
       "output_type": "stream",
       "stream": "stdout",
       "text": [
        "Epoch 79/150\n",
        "0s - loss: 0.8713 - acc: 0.2514 - val_loss: 0.8746 - val_acc: 0.2515\n"
       ]
      },
      {
       "output_type": "stream",
       "stream": "stdout",
       "text": [
        "Epoch 80/150\n",
        "0s - loss: 0.8708 - acc: 0.2514 - val_loss: 0.8741 - val_acc: 0.2515\n"
       ]
      },
      {
       "output_type": "stream",
       "stream": "stdout",
       "text": [
        "Epoch 81/150\n",
        "0s - loss: 0.8703 - acc: 0.2514 - val_loss: 0.8736 - val_acc: 0.2515\n"
       ]
      },
      {
       "output_type": "stream",
       "stream": "stdout",
       "text": [
        "Epoch 82/150\n",
        "0s - loss: 0.8698 - acc: 0.2514 - val_loss: 0.8731 - val_acc: 0.2515\n"
       ]
      },
      {
       "output_type": "stream",
       "stream": "stdout",
       "text": [
        "Epoch 83/150\n",
        "0s - loss: 0.8693 - acc: 0.2514 - val_loss: 0.8726 - val_acc: 0.2515\n"
       ]
      },
      {
       "output_type": "stream",
       "stream": "stdout",
       "text": [
        "Epoch 84/150\n",
        "0s - loss: 0.8688 - acc: 0.2514 - val_loss: 0.8721 - val_acc: 0.2515\n"
       ]
      },
      {
       "output_type": "stream",
       "stream": "stdout",
       "text": [
        "Epoch 85/150\n",
        "0s - loss: 0.8683 - acc: 0.2514 - val_loss: 0.8716 - val_acc: 0.2515\n"
       ]
      },
      {
       "output_type": "stream",
       "stream": "stdout",
       "text": [
        "Epoch 86/150\n",
        "0s - loss: 0.8679 - acc: 0.2514 - val_loss: 0.8712 - val_acc: 0.2515\n"
       ]
      },
      {
       "output_type": "stream",
       "stream": "stdout",
       "text": [
        "Epoch 87/150\n",
        "0s - loss: 0.8674 - acc: 0.2514 - val_loss: 0.8707 - val_acc: 0.2515\n"
       ]
      },
      {
       "output_type": "stream",
       "stream": "stdout",
       "text": [
        "Epoch 88/150\n",
        "0s - loss: 0.8670 - acc: 0.2514 - val_loss: 0.8703 - val_acc: 0.2515\n"
       ]
      },
      {
       "output_type": "stream",
       "stream": "stdout",
       "text": [
        "Epoch 89/150\n",
        "0s - loss: 0.8665 - acc: 0.2514 - val_loss: 0.8698 - val_acc: 0.2515\n"
       ]
      },
      {
       "output_type": "stream",
       "stream": "stdout",
       "text": [
        "Epoch 90/150\n",
        "0s - loss: 0.8661 - acc: 0.2514 - val_loss: 0.8694 - val_acc: 0.2515\n"
       ]
      },
      {
       "output_type": "stream",
       "stream": "stdout",
       "text": [
        "Epoch 91/150\n",
        "0s - loss: 0.8657 - acc: 0.2514 - val_loss: 0.8690 - val_acc: 0.2515\n"
       ]
      },
      {
       "output_type": "stream",
       "stream": "stdout",
       "text": [
        "Epoch 92/150\n",
        "0s - loss: 0.8653 - acc: 0.2514 - val_loss: 0.8685 - val_acc: 0.2515\n"
       ]
      },
      {
       "output_type": "stream",
       "stream": "stdout",
       "text": [
        "Epoch 93/150\n",
        "0s - loss: 0.8648 - acc: 0.2514 - val_loss: 0.8681 - val_acc: 0.2515\n"
       ]
      },
      {
       "output_type": "stream",
       "stream": "stdout",
       "text": [
        "Epoch 94/150\n",
        "0s - loss: 0.8644 - acc: 0.2514 - val_loss: 0.8677 - val_acc: 0.2515\n"
       ]
      },
      {
       "output_type": "stream",
       "stream": "stdout",
       "text": [
        "Epoch 95/150\n",
        "0s - loss: 0.8640 - acc: 0.2514 - val_loss: 0.8673 - val_acc: 0.2515\n"
       ]
      },
      {
       "output_type": "stream",
       "stream": "stdout",
       "text": [
        "Epoch 96/150\n",
        "0s - loss: 0.8637 - acc: 0.2514 - val_loss: 0.8670 - val_acc: 0.2515\n"
       ]
      },
      {
       "output_type": "stream",
       "stream": "stdout",
       "text": [
        "Epoch 97/150\n",
        "0s - loss: 0.8633 - acc: 0.2514 - val_loss: 0.8666 - val_acc: 0.2515\n"
       ]
      },
      {
       "output_type": "stream",
       "stream": "stdout",
       "text": [
        "Epoch 98/150\n",
        "0s - loss: 0.8629 - acc: 0.2514 - val_loss: 0.8662 - val_acc: 0.2515\n"
       ]
      },
      {
       "output_type": "stream",
       "stream": "stdout",
       "text": [
        "Epoch 99/150\n",
        "0s - loss: 0.8625 - acc: 0.2514 - val_loss: 0.8658 - val_acc: 0.2515\n"
       ]
      },
      {
       "output_type": "stream",
       "stream": "stdout",
       "text": [
        "Epoch 100/150\n",
        "0s - loss: 0.8622 - acc: 0.2514 - val_loss: 0.8655 - val_acc: 0.2515\n"
       ]
      },
      {
       "output_type": "stream",
       "stream": "stdout",
       "text": [
        "Epoch 101/150\n",
        "0s - loss: 0.8618 - acc: 0.2514 - val_loss: 0.8651 - val_acc: 0.2515\n"
       ]
      },
      {
       "output_type": "stream",
       "stream": "stdout",
       "text": [
        "Epoch 102/150\n",
        "0s - loss: 0.8615 - acc: 0.2514 - val_loss: 0.8648 - val_acc: 0.2515\n"
       ]
      },
      {
       "output_type": "stream",
       "stream": "stdout",
       "text": [
        "Epoch 103/150\n",
        "0s - loss: 0.8611 - acc: 0.2514 - val_loss: 0.8644 - val_acc: 0.2515\n"
       ]
      },
      {
       "output_type": "stream",
       "stream": "stdout",
       "text": [
        "Epoch 104/150\n",
        "0s - loss: 0.8608 - acc: 0.2514 - val_loss: 0.8641 - val_acc: 0.2515\n"
       ]
      },
      {
       "output_type": "stream",
       "stream": "stdout",
       "text": [
        "Epoch 105/150\n",
        "0s - loss: 0.8604 - acc: 0.2514 - val_loss: 0.8637 - val_acc: 0.2515\n"
       ]
      },
      {
       "output_type": "stream",
       "stream": "stdout",
       "text": [
        "Epoch 106/150\n",
        "0s - loss: 0.8601 - acc: 0.2514 - val_loss: 0.8634 - val_acc: 0.2515\n"
       ]
      },
      {
       "output_type": "stream",
       "stream": "stdout",
       "text": [
        "Epoch 107/150\n",
        "0s - loss: 0.8598 - acc: 0.2514 - val_loss: 0.8631 - val_acc: 0.2515\n"
       ]
      },
      {
       "output_type": "stream",
       "stream": "stdout",
       "text": [
        "Epoch 108/150\n",
        "0s - loss: 0.8595 - acc: 0.2514 - val_loss: 0.8628 - val_acc: 0.2515\n"
       ]
      },
      {
       "output_type": "stream",
       "stream": "stdout",
       "text": [
        "Epoch 109/150\n",
        "0s - loss: 0.8591 - acc: 0.2514 - val_loss: 0.8625 - val_acc: 0.2515\n"
       ]
      },
      {
       "output_type": "stream",
       "stream": "stdout",
       "text": [
        "Epoch 110/150\n",
        "0s - loss: 0.8588 - acc: 0.2514 - val_loss: 0.8621 - val_acc: 0.2515\n"
       ]
      },
      {
       "output_type": "stream",
       "stream": "stdout",
       "text": [
        "Epoch 111/150\n",
        "0s - loss: 0.8585 - acc: 0.2514 - val_loss: 0.8619 - val_acc: 0.2515\n"
       ]
      },
      {
       "output_type": "stream",
       "stream": "stdout",
       "text": [
        "Epoch 112/150\n",
        "0s - loss: 0.8582 - acc: 0.2514 - val_loss: 0.8615 - val_acc: 0.2515\n"
       ]
      },
      {
       "output_type": "stream",
       "stream": "stdout",
       "text": [
        "Epoch 113/150\n",
        "0s - loss: 0.8579 - acc: 0.2514 - val_loss: 0.8613 - val_acc: 0.2515\n"
       ]
      },
      {
       "output_type": "stream",
       "stream": "stdout",
       "text": [
        "Epoch 114/150\n",
        "0s - loss: 0.8576 - acc: 0.2514 - val_loss: 0.8610 - val_acc: 0.2515\n"
       ]
      },
      {
       "output_type": "stream",
       "stream": "stdout",
       "text": [
        "Epoch 115/150\n",
        "0s - loss: 0.8573 - acc: 0.2514 - val_loss: 0.8607 - val_acc: 0.2515\n"
       ]
      },
      {
       "output_type": "stream",
       "stream": "stdout",
       "text": [
        "Epoch 116/150\n",
        "0s - loss: 0.8571 - acc: 0.2514 - val_loss: 0.8604 - val_acc: 0.2515\n"
       ]
      },
      {
       "output_type": "stream",
       "stream": "stdout",
       "text": [
        "Epoch 117/150\n",
        "0s - loss: 0.8568 - acc: 0.2514 - val_loss: 0.8601 - val_acc: 0.2515\n"
       ]
      },
      {
       "output_type": "stream",
       "stream": "stdout",
       "text": [
        "Epoch 118/150\n",
        "0s - loss: 0.8565 - acc: 0.2514 - val_loss: 0.8598 - val_acc: 0.2515\n"
       ]
      },
      {
       "output_type": "stream",
       "stream": "stdout",
       "text": [
        "Epoch 119/150\n",
        "0s - loss: 0.8562 - acc: 0.2514 - val_loss: 0.8596 - val_acc: 0.2515\n"
       ]
      },
      {
       "output_type": "stream",
       "stream": "stdout",
       "text": [
        "Epoch 120/150\n",
        "0s - loss: 0.8560 - acc: 0.2514 - val_loss: 0.8593 - val_acc: 0.2515\n"
       ]
      },
      {
       "output_type": "stream",
       "stream": "stdout",
       "text": [
        "Epoch 121/150\n",
        "0s - loss: 0.8557 - acc: 0.2514 - val_loss: 0.8590 - val_acc: 0.2515\n"
       ]
      },
      {
       "output_type": "stream",
       "stream": "stdout",
       "text": [
        "Epoch 122/150\n",
        "0s - loss: 0.8554 - acc: 0.2514 - val_loss: 0.8588 - val_acc: 0.2515\n"
       ]
      },
      {
       "output_type": "stream",
       "stream": "stdout",
       "text": [
        "Epoch 123/150\n",
        "0s - loss: 0.8552 - acc: 0.2514 - val_loss: 0.8585 - val_acc: 0.2515\n"
       ]
      },
      {
       "output_type": "stream",
       "stream": "stdout",
       "text": [
        "Epoch 124/150\n",
        "0s - loss: 0.8549 - acc: 0.2514 - val_loss: 0.8583 - val_acc: 0.2515\n"
       ]
      },
      {
       "output_type": "stream",
       "stream": "stdout",
       "text": [
        "Epoch 125/150\n",
        "0s - loss: 0.8547 - acc: 0.2514 - val_loss: 0.8580 - val_acc: 0.2515\n"
       ]
      },
      {
       "output_type": "stream",
       "stream": "stdout",
       "text": [
        "Epoch 126/150\n",
        "0s - loss: 0.8544 - acc: 0.2514 - val_loss: 0.8578 - val_acc: 0.2515\n"
       ]
      },
      {
       "output_type": "stream",
       "stream": "stdout",
       "text": [
        "Epoch 127/150\n",
        "0s - loss: 0.8542 - acc: 0.2514 - val_loss: 0.8575 - val_acc: 0.2515\n"
       ]
      },
      {
       "output_type": "stream",
       "stream": "stdout",
       "text": [
        "Epoch 128/150\n",
        "0s - loss: 0.8540 - acc: 0.2514 - val_loss: 0.8573 - val_acc: 0.2515\n"
       ]
      },
      {
       "output_type": "stream",
       "stream": "stdout",
       "text": [
        "Epoch 129/150\n",
        "0s - loss: 0.8537 - acc: 0.2514 - val_loss: 0.8571 - val_acc: 0.2515\n"
       ]
      },
      {
       "output_type": "stream",
       "stream": "stdout",
       "text": [
        "Epoch 130/150\n",
        "0s - loss: 0.8535 - acc: 0.2514 - val_loss: 0.8568 - val_acc: 0.2515\n"
       ]
      },
      {
       "output_type": "stream",
       "stream": "stdout",
       "text": [
        "Epoch 131/150\n",
        "0s - loss: 0.8533 - acc: 0.2514 - val_loss: 0.8566 - val_acc: 0.2515\n"
       ]
      },
      {
       "output_type": "stream",
       "stream": "stdout",
       "text": [
        "Epoch 132/150\n",
        "0s - loss: 0.8530 - acc: 0.2514 - val_loss: 0.8564 - val_acc: 0.2515\n"
       ]
      },
      {
       "output_type": "stream",
       "stream": "stdout",
       "text": [
        "Epoch 133/150\n",
        "0s - loss: 0.8528 - acc: 0.2514 - val_loss: 0.8562 - val_acc: 0.2515\n"
       ]
      },
      {
       "output_type": "stream",
       "stream": "stdout",
       "text": [
        "Epoch 134/150\n",
        "0s - loss: 0.8526 - acc: 0.2514 - val_loss: 0.8559 - val_acc: 0.2515\n"
       ]
      },
      {
       "output_type": "stream",
       "stream": "stdout",
       "text": [
        "Epoch 135/150\n",
        "0s - loss: 0.8524 - acc: 0.2514 - val_loss: 0.8557 - val_acc: 0.2515\n"
       ]
      },
      {
       "output_type": "stream",
       "stream": "stdout",
       "text": [
        "Epoch 136/150\n",
        "0s - loss: 0.8522 - acc: 0.2514 - val_loss: 0.8555 - val_acc: 0.2515\n"
       ]
      },
      {
       "output_type": "stream",
       "stream": "stdout",
       "text": [
        "Epoch 137/150\n",
        "0s - loss: 0.8519 - acc: 0.2514 - val_loss: 0.8553 - val_acc: 0.2515\n"
       ]
      },
      {
       "output_type": "stream",
       "stream": "stdout",
       "text": [
        "Epoch 138/150\n",
        "0s - loss: 0.8517 - acc: 0.2514 - val_loss: 0.8551 - val_acc: 0.2515\n"
       ]
      },
      {
       "output_type": "stream",
       "stream": "stdout",
       "text": [
        "Epoch 139/150\n",
        "0s - loss: 0.8515 - acc: 0.2514 - val_loss: 0.8549 - val_acc: 0.2515\n"
       ]
      },
      {
       "output_type": "stream",
       "stream": "stdout",
       "text": [
        "Epoch 140/150\n",
        "0s - loss: 0.8513 - acc: 0.2514 - val_loss: 0.8547 - val_acc: 0.2515\n"
       ]
      },
      {
       "output_type": "stream",
       "stream": "stdout",
       "text": [
        "Epoch 141/150\n",
        "0s - loss: 0.8511 - acc: 0.2514 - val_loss: 0.8545 - val_acc: 0.2515\n"
       ]
      },
      {
       "output_type": "stream",
       "stream": "stdout",
       "text": [
        "Epoch 142/150\n",
        "0s - loss: 0.8509 - acc: 0.2514 - val_loss: 0.8543 - val_acc: 0.2515\n"
       ]
      },
      {
       "output_type": "stream",
       "stream": "stdout",
       "text": [
        "Epoch 143/150\n",
        "0s - loss: 0.8507 - acc: 0.2514 - val_loss: 0.8541 - val_acc: 0.2515\n"
       ]
      },
      {
       "output_type": "stream",
       "stream": "stdout",
       "text": [
        "Epoch 144/150\n",
        "0s - loss: 0.8505 - acc: 0.2514 - val_loss: 0.8539 - val_acc: 0.2515\n"
       ]
      },
      {
       "output_type": "stream",
       "stream": "stdout",
       "text": [
        "Epoch 145/150\n",
        "0s - loss: 0.8503 - acc: 0.2514 - val_loss: 0.8537 - val_acc: 0.2515\n"
       ]
      },
      {
       "output_type": "stream",
       "stream": "stdout",
       "text": [
        "Epoch 146/150\n",
        "0s - loss: 0.8501 - acc: 0.2514 - val_loss: 0.8535 - val_acc: 0.2515\n"
       ]
      },
      {
       "output_type": "stream",
       "stream": "stdout",
       "text": [
        "Epoch 147/150\n",
        "0s - loss: 0.8500 - acc: 0.2514 - val_loss: 0.8533 - val_acc: 0.2515\n"
       ]
      },
      {
       "output_type": "stream",
       "stream": "stdout",
       "text": [
        "Epoch 148/150\n",
        "0s - loss: 0.8498 - acc: 0.2514 - val_loss: 0.8531 - val_acc: 0.2515\n"
       ]
      },
      {
       "output_type": "stream",
       "stream": "stdout",
       "text": [
        "Epoch 149/150\n",
        "0s - loss: 0.8496 - acc: 0.2514 - val_loss: 0.8529 - val_acc: 0.2515\n"
       ]
      },
      {
       "output_type": "stream",
       "stream": "stdout",
       "text": [
        "Epoch 150/150\n",
        "0s - loss: 0.8494 - acc: 0.2514 - val_loss: 0.8528 - val_acc: 0.2515\n"
       ]
      },
      {
       "output_type": "stream",
       "stream": "stdout",
       "text": [
        "\r",
        " 5000/20000 [======>.......................] - ETA: 0s"
       ]
      },
      {
       "output_type": "stream",
       "stream": "stdout",
       "text": [
        "\b\b\b\b\b\b\b\b\b\b\b\b\b\b\b\b\b\b\b\b\b\b\b\b\b\b\b\b\b\b\b\b\b\b\b\b\b\b\b\b\b\b\b\b\b\b\b\b\b\b\b\b\b\b\r",
        "20000/20000 [==============================] - 0s     "
       ]
      },
      {
       "output_type": "stream",
       "stream": "stdout",
       "text": [
        "\n",
        "\r",
        " 5000/20000 [======>.......................] - ETA: 0s"
       ]
      },
      {
       "output_type": "stream",
       "stream": "stdout",
       "text": [
        "\b\b\b\b\b\b\b\b\b\b\b\b\b\b\b\b\b\b\b\b\b\b\b\b\b\b\b\b\b\b\b\b\b\b\b\b\b\b\b\b\b\b\b\b\b\b\b\b\b\b\b\b\b\b\r",
        "20000/20000 [==============================] - 0s     "
       ]
      },
      {
       "output_type": "stream",
       "stream": "stdout",
       "text": [
        "\n",
        "Train on 80000 samples, validate on 20000 samples\n",
        "Epoch 1/150\n",
        "0s - loss: 1.6656 - acc: 0.2490 - val_loss: 1.6565 - val_acc: 0.2524\n"
       ]
      },
      {
       "output_type": "stream",
       "stream": "stdout",
       "text": [
        "Epoch 2/150\n",
        "0s - loss: 1.6559 - acc: 0.2490 - val_loss: 1.6470 - val_acc: 0.2524\n"
       ]
      },
      {
       "output_type": "stream",
       "stream": "stdout",
       "text": [
        "Epoch 3/150\n",
        "0s - loss: 1.6465 - acc: 0.2490 - val_loss: 1.6377 - val_acc: 0.2524\n"
       ]
      },
      {
       "output_type": "stream",
       "stream": "stdout",
       "text": [
        "Epoch 4/150\n",
        "0s - loss: 1.6371 - acc: 0.2490 - val_loss: 1.6286 - val_acc: 0.2524\n"
       ]
      },
      {
       "output_type": "stream",
       "stream": "stdout",
       "text": [
        "Epoch 5/150\n",
        "0s - loss: 1.6280 - acc: 0.2490 - val_loss: 1.6196 - val_acc: 0.2524\n"
       ]
      },
      {
       "output_type": "stream",
       "stream": "stdout",
       "text": [
        "Epoch 6/150\n",
        "0s - loss: 1.6190 - acc: 0.2490 - val_loss: 1.6109 - val_acc: 0.2524\n"
       ]
      },
      {
       "output_type": "stream",
       "stream": "stdout",
       "text": [
        "Epoch 7/150\n",
        "0s - loss: 1.6103 - acc: 0.2490 - val_loss: 1.6023 - val_acc: 0.2524\n"
       ]
      },
      {
       "output_type": "stream",
       "stream": "stdout",
       "text": [
        "Epoch 8/150\n",
        "0s - loss: 1.6017 - acc: 0.2490 - val_loss: 1.5939 - val_acc: 0.2524\n"
       ]
      },
      {
       "output_type": "stream",
       "stream": "stdout",
       "text": [
        "Epoch 9/150\n",
        "0s - loss: 1.5933 - acc: 0.2490 - val_loss: 1.5857 - val_acc: 0.2524\n"
       ]
      },
      {
       "output_type": "stream",
       "stream": "stdout",
       "text": [
        "Epoch 10/150\n",
        "0s - loss: 1.5851 - acc: 0.2490 - val_loss: 1.5777 - val_acc: 0.2524\n"
       ]
      },
      {
       "output_type": "stream",
       "stream": "stdout",
       "text": [
        "Epoch 11/150\n",
        "0s - loss: 1.5771 - acc: 0.2490 - val_loss: 1.5698 - val_acc: 0.2524\n"
       ]
      },
      {
       "output_type": "stream",
       "stream": "stdout",
       "text": [
        "Epoch 12/150\n",
        "0s - loss: 1.5693 - acc: 0.2490 - val_loss: 1.5622 - val_acc: 0.2524\n"
       ]
      },
      {
       "output_type": "stream",
       "stream": "stdout",
       "text": [
        "Epoch 13/150\n",
        "0s - loss: 1.5617 - acc: 0.2490 - val_loss: 1.5548 - val_acc: 0.2524\n"
       ]
      },
      {
       "output_type": "stream",
       "stream": "stdout",
       "text": [
        "Epoch 14/150\n",
        "0s - loss: 1.5543 - acc: 0.2490 - val_loss: 1.5476 - val_acc: 0.2524\n"
       ]
      },
      {
       "output_type": "stream",
       "stream": "stdout",
       "text": [
        "Epoch 15/150\n",
        "0s - loss: 1.5471 - acc: 0.2490 - val_loss: 1.5405 - val_acc: 0.2524\n"
       ]
      },
      {
       "output_type": "stream",
       "stream": "stdout",
       "text": [
        "Epoch 16/150\n",
        "0s - loss: 1.5401 - acc: 0.2490 - val_loss: 1.5337 - val_acc: 0.2524\n"
       ]
      },
      {
       "output_type": "stream",
       "stream": "stdout",
       "text": [
        "Epoch 17/150\n",
        "0s - loss: 1.5333 - acc: 0.2490 - val_loss: 1.5271 - val_acc: 0.2524\n"
       ]
      },
      {
       "output_type": "stream",
       "stream": "stdout",
       "text": [
        "Epoch 18/150\n",
        "0s - loss: 1.5267 - acc: 0.2490 - val_loss: 1.5206 - val_acc: 0.2524\n"
       ]
      },
      {
       "output_type": "stream",
       "stream": "stdout",
       "text": [
        "Epoch 19/150\n",
        "0s - loss: 1.5202 - acc: 0.2490 - val_loss: 1.5144 - val_acc: 0.2524\n"
       ]
      },
      {
       "output_type": "stream",
       "stream": "stdout",
       "text": [
        "Epoch 20/150\n",
        "0s - loss: 1.5140 - acc: 0.2490 - val_loss: 1.5084 - val_acc: 0.2524\n"
       ]
      },
      {
       "output_type": "stream",
       "stream": "stdout",
       "text": [
        "Epoch 21/150\n",
        "0s - loss: 1.5080 - acc: 0.2490 - val_loss: 1.5025 - val_acc: 0.2524\n"
       ]
      },
      {
       "output_type": "stream",
       "stream": "stdout",
       "text": [
        "Epoch 22/150\n",
        "0s - loss: 1.5022 - acc: 0.2490 - val_loss: 1.4969 - val_acc: 0.2524\n"
       ]
      },
      {
       "output_type": "stream",
       "stream": "stdout",
       "text": [
        "Epoch 23/150\n",
        "0s - loss: 1.4966 - acc: 0.2490 - val_loss: 1.4914 - val_acc: 0.2524\n"
       ]
      },
      {
       "output_type": "stream",
       "stream": "stdout",
       "text": [
        "Epoch 24/150\n",
        "0s - loss: 1.4912 - acc: 0.2490 - val_loss: 1.4862 - val_acc: 0.2524\n"
       ]
      },
      {
       "output_type": "stream",
       "stream": "stdout",
       "text": [
        "Epoch 25/150\n",
        "0s - loss: 1.4860 - acc: 0.2490 - val_loss: 1.4811 - val_acc: 0.2524\n"
       ]
      },
      {
       "output_type": "stream",
       "stream": "stdout",
       "text": [
        "Epoch 26/150\n",
        "0s - loss: 1.4809 - acc: 0.2490 - val_loss: 1.4763 - val_acc: 0.2524\n"
       ]
      },
      {
       "output_type": "stream",
       "stream": "stdout",
       "text": [
        "Epoch 27/150\n",
        "0s - loss: 1.4761 - acc: 0.2490 - val_loss: 1.4716 - val_acc: 0.2524\n"
       ]
      },
      {
       "output_type": "stream",
       "stream": "stdout",
       "text": [
        "Epoch 28/150\n",
        "0s - loss: 1.4714 - acc: 0.2490 - val_loss: 1.4671 - val_acc: 0.2524\n"
       ]
      },
      {
       "output_type": "stream",
       "stream": "stdout",
       "text": [
        "Epoch 29/150\n",
        "0s - loss: 1.4670 - acc: 0.2490 - val_loss: 1.4628 - val_acc: 0.2524\n"
       ]
      },
      {
       "output_type": "stream",
       "stream": "stdout",
       "text": [
        "Epoch 30/150\n",
        "0s - loss: 1.4627 - acc: 0.2490 - val_loss: 1.4586 - val_acc: 0.2524\n"
       ]
      },
      {
       "output_type": "stream",
       "stream": "stdout",
       "text": [
        "Epoch 31/150\n",
        "0s - loss: 1.4586 - acc: 0.2490 - val_loss: 1.4547 - val_acc: 0.2524\n"
       ]
      },
      {
       "output_type": "stream",
       "stream": "stdout",
       "text": [
        "Epoch 32/150\n",
        "0s - loss: 1.4546 - acc: 0.2490 - val_loss: 1.4509 - val_acc: 0.2524\n"
       ]
      },
      {
       "output_type": "stream",
       "stream": "stdout",
       "text": [
        "Epoch 33/150\n",
        "0s - loss: 1.4508 - acc: 0.2490 - val_loss: 1.4472 - val_acc: 0.2524\n"
       ]
      },
      {
       "output_type": "stream",
       "stream": "stdout",
       "text": [
        "Epoch 34/150\n",
        "0s - loss: 1.4472 - acc: 0.2490 - val_loss: 1.4438 - val_acc: 0.2524\n"
       ]
      },
      {
       "output_type": "stream",
       "stream": "stdout",
       "text": [
        "Epoch 35/150\n",
        "0s - loss: 1.4438 - acc: 0.2490 - val_loss: 1.4405 - val_acc: 0.2524\n"
       ]
      },
      {
       "output_type": "stream",
       "stream": "stdout",
       "text": [
        "Epoch 36/150\n",
        "0s - loss: 1.4405 - acc: 0.2490 - val_loss: 1.4373 - val_acc: 0.2524\n"
       ]
      },
      {
       "output_type": "stream",
       "stream": "stdout",
       "text": [
        "Epoch 37/150\n",
        "0s - loss: 1.4374 - acc: 0.2490 - val_loss: 1.4343 - val_acc: 0.2524\n"
       ]
      },
      {
       "output_type": "stream",
       "stream": "stdout",
       "text": [
        "Epoch 38/150\n",
        "0s - loss: 1.4344 - acc: 0.2484 - val_loss: 1.4315 - val_acc: 0.2251\n"
       ]
      },
      {
       "output_type": "stream",
       "stream": "stdout",
       "text": [
        "Epoch 39/150\n",
        "0s - loss: 1.4316 - acc: 0.2490 - val_loss: 1.4288 - val_acc: 0.2444\n"
       ]
      },
      {
       "output_type": "stream",
       "stream": "stdout",
       "text": [
        "Epoch 40/150\n",
        "0s - loss: 1.4289 - acc: 0.2493 - val_loss: 1.4262 - val_acc: 0.2444\n"
       ]
      },
      {
       "output_type": "stream",
       "stream": "stdout",
       "text": [
        "Epoch 41/150\n",
        "0s - loss: 1.4263 - acc: 0.2503 - val_loss: 1.4238 - val_acc: 0.2444\n"
       ]
      },
      {
       "output_type": "stream",
       "stream": "stdout",
       "text": [
        "Epoch 42/150\n",
        "0s - loss: 1.4239 - acc: 0.2503 - val_loss: 1.4214 - val_acc: 0.2444\n"
       ]
      },
      {
       "output_type": "stream",
       "stream": "stdout",
       "text": [
        "Epoch 43/150\n",
        "0s - loss: 1.4216 - acc: 0.2503 - val_loss: 1.4193 - val_acc: 0.2444\n"
       ]
      },
      {
       "output_type": "stream",
       "stream": "stdout",
       "text": [
        "Epoch 44/150\n",
        "0s - loss: 1.4194 - acc: 0.2503 - val_loss: 1.4172 - val_acc: 0.2444\n"
       ]
      },
      {
       "output_type": "stream",
       "stream": "stdout",
       "text": [
        "Epoch 45/150\n",
        "0s - loss: 1.4174 - acc: 0.2503 - val_loss: 1.4152 - val_acc: 0.2444\n"
       ]
      },
      {
       "output_type": "stream",
       "stream": "stdout",
       "text": [
        "Epoch 46/150\n",
        "0s - loss: 1.4154 - acc: 0.2503 - val_loss: 1.4134 - val_acc: 0.2444\n"
       ]
      },
      {
       "output_type": "stream",
       "stream": "stdout",
       "text": [
        "Epoch 47/150\n",
        "0s - loss: 1.4136 - acc: 0.2503 - val_loss: 1.4116 - val_acc: 0.2444\n"
       ]
      },
      {
       "output_type": "stream",
       "stream": "stdout",
       "text": [
        "Epoch 48/150\n",
        "0s - loss: 1.4119 - acc: 0.2503 - val_loss: 1.4100 - val_acc: 0.2444\n"
       ]
      },
      {
       "output_type": "stream",
       "stream": "stdout",
       "text": [
        "Epoch 49/150\n",
        "0s - loss: 1.4102 - acc: 0.2503 - val_loss: 1.4084 - val_acc: 0.2444\n"
       ]
      },
      {
       "output_type": "stream",
       "stream": "stdout",
       "text": [
        "Epoch 50/150\n",
        "0s - loss: 1.4087 - acc: 0.2503 - val_loss: 1.4070 - val_acc: 0.2444\n"
       ]
      },
      {
       "output_type": "stream",
       "stream": "stdout",
       "text": [
        "Epoch 51/150\n",
        "0s - loss: 1.4072 - acc: 0.2503 - val_loss: 1.4056 - val_acc: 0.2444\n"
       ]
      },
      {
       "output_type": "stream",
       "stream": "stdout",
       "text": [
        "Epoch 52/150\n",
        "0s - loss: 1.4058 - acc: 0.2503 - val_loss: 1.4043 - val_acc: 0.2444\n"
       ]
      },
      {
       "output_type": "stream",
       "stream": "stdout",
       "text": [
        "Epoch 53/150\n",
        "0s - loss: 1.4046 - acc: 0.2503 - val_loss: 1.4031 - val_acc: 0.2444\n"
       ]
      },
      {
       "output_type": "stream",
       "stream": "stdout",
       "text": [
        "Epoch 54/150\n",
        "0s - loss: 1.4033 - acc: 0.2503 - val_loss: 1.4019 - val_acc: 0.2444\n"
       ]
      },
      {
       "output_type": "stream",
       "stream": "stdout",
       "text": [
        "Epoch 55/150\n",
        "0s - loss: 1.4022 - acc: 0.2503 - val_loss: 1.4009 - val_acc: 0.2444\n"
       ]
      },
      {
       "output_type": "stream",
       "stream": "stdout",
       "text": [
        "Epoch 56/150\n",
        "0s - loss: 1.4011 - acc: 0.2503 - val_loss: 1.3998 - val_acc: 0.2444\n"
       ]
      },
      {
       "output_type": "stream",
       "stream": "stdout",
       "text": [
        "Epoch 57/150\n",
        "0s - loss: 1.4001 - acc: 0.2503 - val_loss: 1.3989 - val_acc: 0.2444\n"
       ]
      },
      {
       "output_type": "stream",
       "stream": "stdout",
       "text": [
        "Epoch 58/150\n",
        "0s - loss: 1.3992 - acc: 0.2503 - val_loss: 1.3980 - val_acc: 0.2444\n"
       ]
      },
      {
       "output_type": "stream",
       "stream": "stdout",
       "text": [
        "Epoch 59/150\n",
        "0s - loss: 1.3983 - acc: 0.2503 - val_loss: 1.3972 - val_acc: 0.2444\n"
       ]
      },
      {
       "output_type": "stream",
       "stream": "stdout",
       "text": [
        "Epoch 60/150\n",
        "0s - loss: 1.3975 - acc: 0.2503 - val_loss: 1.3964 - val_acc: 0.2444\n"
       ]
      },
      {
       "output_type": "stream",
       "stream": "stdout",
       "text": [
        "Epoch 61/150\n",
        "0s - loss: 1.3967 - acc: 0.2503 - val_loss: 1.3957 - val_acc: 0.2444\n"
       ]
      },
      {
       "output_type": "stream",
       "stream": "stdout",
       "text": [
        "Epoch 62/150\n",
        "0s - loss: 1.3960 - acc: 0.2503 - val_loss: 1.3950 - val_acc: 0.2444\n"
       ]
      },
      {
       "output_type": "stream",
       "stream": "stdout",
       "text": [
        "Epoch 63/150\n",
        "0s - loss: 1.3953 - acc: 0.2503 - val_loss: 1.3944 - val_acc: 0.2444\n"
       ]
      },
      {
       "output_type": "stream",
       "stream": "stdout",
       "text": [
        "Epoch 64/150\n",
        "0s - loss: 1.3947 - acc: 0.2503 - val_loss: 1.3938 - val_acc: 0.2444\n"
       ]
      },
      {
       "output_type": "stream",
       "stream": "stdout",
       "text": [
        "Epoch 65/150\n",
        "0s - loss: 1.3941 - acc: 0.2503 - val_loss: 1.3933 - val_acc: 0.2444\n"
       ]
      },
      {
       "output_type": "stream",
       "stream": "stdout",
       "text": [
        "Epoch 66/150\n",
        "0s - loss: 1.3935 - acc: 0.2503 - val_loss: 1.3928 - val_acc: 0.2444\n"
       ]
      },
      {
       "output_type": "stream",
       "stream": "stdout",
       "text": [
        "Epoch 67/150\n",
        "0s - loss: 1.3930 - acc: 0.2503 - val_loss: 1.3923 - val_acc: 0.2444\n"
       ]
      },
      {
       "output_type": "stream",
       "stream": "stdout",
       "text": [
        "Epoch 68/150\n",
        "0s - loss: 1.3926 - acc: 0.2503 - val_loss: 1.3918 - val_acc: 0.2444\n"
       ]
      },
      {
       "output_type": "stream",
       "stream": "stdout",
       "text": [
        "Epoch 69/150\n",
        "0s - loss: 1.3921 - acc: 0.2503 - val_loss: 1.3914 - val_acc: 0.2444\n"
       ]
      },
      {
       "output_type": "stream",
       "stream": "stdout",
       "text": [
        "Epoch 70/150\n",
        "0s - loss: 1.3917 - acc: 0.2503 - val_loss: 1.3910 - val_acc: 0.2444\n"
       ]
      },
      {
       "output_type": "stream",
       "stream": "stdout",
       "text": [
        "Epoch 71/150\n",
        "0s - loss: 1.3913 - acc: 0.2503 - val_loss: 1.3907 - val_acc: 0.2444\n"
       ]
      },
      {
       "output_type": "stream",
       "stream": "stdout",
       "text": [
        "Epoch 72/150\n",
        "0s - loss: 1.3909 - acc: 0.2503 - val_loss: 1.3904 - val_acc: 0.2444\n"
       ]
      },
      {
       "output_type": "stream",
       "stream": "stdout",
       "text": [
        "Epoch 73/150\n",
        "0s - loss: 1.3906 - acc: 0.2503 - val_loss: 1.3900 - val_acc: 0.2444\n"
       ]
      },
      {
       "output_type": "stream",
       "stream": "stdout",
       "text": [
        "Epoch 74/150\n",
        "0s - loss: 1.3903 - acc: 0.2503 - val_loss: 1.3898 - val_acc: 0.2444\n"
       ]
      },
      {
       "output_type": "stream",
       "stream": "stdout",
       "text": [
        "Epoch 75/150\n",
        "0s - loss: 1.3900 - acc: 0.2503 - val_loss: 1.3895 - val_acc: 0.2444\n"
       ]
      },
      {
       "output_type": "stream",
       "stream": "stdout",
       "text": [
        "Epoch 76/150\n",
        "0s - loss: 1.3897 - acc: 0.2503 - val_loss: 1.3893 - val_acc: 0.2444\n"
       ]
      },
      {
       "output_type": "stream",
       "stream": "stdout",
       "text": [
        "Epoch 77/150\n",
        "0s - loss: 1.3895 - acc: 0.2503 - val_loss: 1.3890 - val_acc: 0.2444\n"
       ]
      },
      {
       "output_type": "stream",
       "stream": "stdout",
       "text": [
        "Epoch 78/150\n",
        "0s - loss: 1.3892 - acc: 0.2503 - val_loss: 1.3888 - val_acc: 0.2444\n"
       ]
      },
      {
       "output_type": "stream",
       "stream": "stdout",
       "text": [
        "Epoch 79/150\n",
        "0s - loss: 1.3890 - acc: 0.2503 - val_loss: 1.3886 - val_acc: 0.2444\n"
       ]
      },
      {
       "output_type": "stream",
       "stream": "stdout",
       "text": [
        "Epoch 80/150\n",
        "0s - loss: 1.3888 - acc: 0.2503 - val_loss: 1.3884 - val_acc: 0.2444\n"
       ]
      },
      {
       "output_type": "stream",
       "stream": "stdout",
       "text": [
        "Epoch 81/150\n",
        "0s - loss: 1.3886 - acc: 0.2503 - val_loss: 1.3883 - val_acc: 0.2444\n"
       ]
      },
      {
       "output_type": "stream",
       "stream": "stdout",
       "text": [
        "Epoch 82/150\n",
        "0s - loss: 1.3885 - acc: 0.2503 - val_loss: 1.3881 - val_acc: 0.2444\n"
       ]
      },
      {
       "output_type": "stream",
       "stream": "stdout",
       "text": [
        "Epoch 83/150\n",
        "0s - loss: 1.3883 - acc: 0.2503 - val_loss: 1.3880 - val_acc: 0.2444\n"
       ]
      },
      {
       "output_type": "stream",
       "stream": "stdout",
       "text": [
        "Epoch 84/150\n",
        "0s - loss: 1.3882 - acc: 0.2503 - val_loss: 1.3878 - val_acc: 0.2444\n"
       ]
      },
      {
       "output_type": "stream",
       "stream": "stdout",
       "text": [
        "Epoch 85/150\n",
        "0s - loss: 1.3880 - acc: 0.2503 - val_loss: 1.3877 - val_acc: 0.2444\n"
       ]
      },
      {
       "output_type": "stream",
       "stream": "stdout",
       "text": [
        "Epoch 86/150\n",
        "0s - loss: 1.3879 - acc: 0.2503 - val_loss: 1.3876 - val_acc: 0.2444\n"
       ]
      },
      {
       "output_type": "stream",
       "stream": "stdout",
       "text": [
        "Epoch 87/150\n",
        "0s - loss: 1.3878 - acc: 0.2503 - val_loss: 1.3875 - val_acc: 0.2444\n"
       ]
      },
      {
       "output_type": "stream",
       "stream": "stdout",
       "text": [
        "Epoch 88/150\n",
        "0s - loss: 1.3877 - acc: 0.2503 - val_loss: 1.3874 - val_acc: 0.2444\n"
       ]
      },
      {
       "output_type": "stream",
       "stream": "stdout",
       "text": [
        "Epoch 89/150\n",
        "0s - loss: 1.3876 - acc: 0.2503 - val_loss: 1.3873 - val_acc: 0.2444\n"
       ]
      },
      {
       "output_type": "stream",
       "stream": "stdout",
       "text": [
        "Epoch 90/150\n",
        "0s - loss: 1.3875 - acc: 0.2503 - val_loss: 1.3872 - val_acc: 0.2444\n"
       ]
      },
      {
       "output_type": "stream",
       "stream": "stdout",
       "text": [
        "Epoch 91/150\n",
        "0s - loss: 1.3874 - acc: 0.2503 - val_loss: 1.3871 - val_acc: 0.2444\n"
       ]
      },
      {
       "output_type": "stream",
       "stream": "stdout",
       "text": [
        "Epoch 92/150\n",
        "0s - loss: 1.3873 - acc: 0.2503 - val_loss: 1.3871 - val_acc: 0.2444\n"
       ]
      },
      {
       "output_type": "stream",
       "stream": "stdout",
       "text": [
        "Epoch 93/150\n",
        "0s - loss: 1.3872 - acc: 0.2503 - val_loss: 1.3870 - val_acc: 0.2444\n"
       ]
      },
      {
       "output_type": "stream",
       "stream": "stdout",
       "text": [
        "Epoch 94/150\n",
        "0s - loss: 1.3871 - acc: 0.2503 - val_loss: 1.3870 - val_acc: 0.2444\n"
       ]
      },
      {
       "output_type": "stream",
       "stream": "stdout",
       "text": [
        "Epoch 95/150\n",
        "0s - loss: 1.3871 - acc: 0.2503 - val_loss: 1.3869 - val_acc: 0.2444\n"
       ]
      },
      {
       "output_type": "stream",
       "stream": "stdout",
       "text": [
        "Epoch 96/150\n",
        "0s - loss: 1.3870 - acc: 0.2503 - val_loss: 1.3868 - val_acc: 0.2444\n"
       ]
      },
      {
       "output_type": "stream",
       "stream": "stdout",
       "text": [
        "Epoch 97/150\n",
        "0s - loss: 1.3870 - acc: 0.2503 - val_loss: 1.3868 - val_acc: 0.2444\n"
       ]
      },
      {
       "output_type": "stream",
       "stream": "stdout",
       "text": [
        "Epoch 98/150\n",
        "0s - loss: 1.3869 - acc: 0.2503 - val_loss: 1.3868 - val_acc: 0.2444\n"
       ]
      },
      {
       "output_type": "stream",
       "stream": "stdout",
       "text": [
        "Epoch 99/150\n",
        "0s - loss: 1.3869 - acc: 0.2503 - val_loss: 1.3867 - val_acc: 0.2444\n"
       ]
      },
      {
       "output_type": "stream",
       "stream": "stdout",
       "text": [
        "Epoch 100/150\n",
        "0s - loss: 1.3868 - acc: 0.2503 - val_loss: 1.3867 - val_acc: 0.2444\n"
       ]
      },
      {
       "output_type": "stream",
       "stream": "stdout",
       "text": [
        "Epoch 101/150\n",
        "0s - loss: 1.3868 - acc: 0.2503 - val_loss: 1.3866 - val_acc: 0.2444\n"
       ]
      },
      {
       "output_type": "stream",
       "stream": "stdout",
       "text": [
        "Epoch 102/150\n",
        "0s - loss: 1.3867 - acc: 0.2503 - val_loss: 1.3866 - val_acc: 0.2444\n"
       ]
      },
      {
       "output_type": "stream",
       "stream": "stdout",
       "text": [
        "Epoch 103/150\n",
        "0s - loss: 1.3867 - acc: 0.2503 - val_loss: 1.3866 - val_acc: 0.2444\n"
       ]
      },
      {
       "output_type": "stream",
       "stream": "stdout",
       "text": [
        "Epoch 104/150\n",
        "0s - loss: 1.3867 - acc: 0.2503 - val_loss: 1.3866 - val_acc: 0.2444\n"
       ]
      },
      {
       "output_type": "stream",
       "stream": "stdout",
       "text": [
        "Epoch 105/150\n",
        "0s - loss: 1.3866 - acc: 0.2503 - val_loss: 1.3865 - val_acc: 0.2444\n"
       ]
      },
      {
       "output_type": "stream",
       "stream": "stdout",
       "text": [
        "Epoch 106/150\n",
        "0s - loss: 1.3866 - acc: 0.2503 - val_loss: 1.3865 - val_acc: 0.2444\n"
       ]
      },
      {
       "output_type": "stream",
       "stream": "stdout",
       "text": [
        "Epoch 107/150\n",
        "0s - loss: 1.3866 - acc: 0.2503 - val_loss: 1.3865 - val_acc: 0.2444\n"
       ]
      },
      {
       "output_type": "stream",
       "stream": "stdout",
       "text": [
        "Epoch 108/150\n",
        "0s - loss: 1.3866 - acc: 0.2503 - val_loss: 1.3865 - val_acc: 0.2444\n"
       ]
      },
      {
       "output_type": "stream",
       "stream": "stdout",
       "text": [
        "Epoch 109/150\n",
        "0s - loss: 1.3866 - acc: 0.2503 - val_loss: 1.3865 - val_acc: 0.2444\n"
       ]
      },
      {
       "output_type": "stream",
       "stream": "stdout",
       "text": [
        "Epoch 110/150\n",
        "0s - loss: 1.3865 - acc: 0.2503 - val_loss: 1.3864 - val_acc: 0.2444\n"
       ]
      },
      {
       "output_type": "stream",
       "stream": "stdout",
       "text": [
        "Epoch 111/150\n",
        "0s - loss: 1.3865 - acc: 0.2503 - val_loss: 1.3864 - val_acc: 0.2444\n"
       ]
      },
      {
       "output_type": "stream",
       "stream": "stdout",
       "text": [
        "Epoch 112/150\n",
        "0s - loss: 1.3865 - acc: 0.2503 - val_loss: 1.3864 - val_acc: 0.2444\n"
       ]
      },
      {
       "output_type": "stream",
       "stream": "stdout",
       "text": [
        "Epoch 113/150\n",
        "0s - loss: 1.3865 - acc: 0.2503 - val_loss: 1.3864 - val_acc: 0.2444\n"
       ]
      },
      {
       "output_type": "stream",
       "stream": "stdout",
       "text": [
        "Epoch 114/150\n",
        "0s - loss: 1.3865 - acc: 0.2503 - val_loss: 1.3864 - val_acc: 0.2444\n"
       ]
      },
      {
       "output_type": "stream",
       "stream": "stdout",
       "text": [
        "Epoch 115/150\n",
        "0s - loss: 1.3865 - acc: 0.2503 - val_loss: 1.3864 - val_acc: 0.2444\n"
       ]
      },
      {
       "output_type": "stream",
       "stream": "stdout",
       "text": [
        "Epoch 116/150\n",
        "0s - loss: 1.3864 - acc: 0.2503 - val_loss: 1.3864 - val_acc: 0.2444\n"
       ]
      },
      {
       "output_type": "stream",
       "stream": "stdout",
       "text": [
        "Epoch 117/150\n",
        "0s - loss: 1.3864 - acc: 0.2503 - val_loss: 1.3864 - val_acc: 0.2444\n"
       ]
      },
      {
       "output_type": "stream",
       "stream": "stdout",
       "text": [
        "Epoch 118/150\n",
        "0s - loss: 1.3864 - acc: 0.2503 - val_loss: 1.3864 - val_acc: 0.2444\n"
       ]
      },
      {
       "output_type": "stream",
       "stream": "stdout",
       "text": [
        "Epoch 119/150\n",
        "0s - loss: 1.3864 - acc: 0.2503 - val_loss: 1.3864 - val_acc: 0.2444\n"
       ]
      },
      {
       "output_type": "stream",
       "stream": "stdout",
       "text": [
        "Epoch 120/150\n",
        "0s - loss: 1.3864 - acc: 0.2503 - val_loss: 1.3864 - val_acc: 0.2444\n"
       ]
      },
      {
       "output_type": "stream",
       "stream": "stdout",
       "text": [
        "Epoch 121/150\n",
        "0s - loss: 1.3864 - acc: 0.2503 - val_loss: 1.3863 - val_acc: 0.2444\n"
       ]
      },
      {
       "output_type": "stream",
       "stream": "stdout",
       "text": [
        "Epoch 122/150\n",
        "0s - loss: 1.3864 - acc: 0.2503 - val_loss: 1.3863 - val_acc: 0.2444\n"
       ]
      },
      {
       "output_type": "stream",
       "stream": "stdout",
       "text": [
        "Epoch 123/150\n",
        "0s - loss: 1.3864 - acc: 0.2503 - val_loss: 1.3863 - val_acc: 0.2444\n"
       ]
      },
      {
       "output_type": "stream",
       "stream": "stdout",
       "text": [
        "Epoch 124/150\n",
        "0s - loss: 1.3864 - acc: 0.2503 - val_loss: 1.3863 - val_acc: 0.2444\n"
       ]
      },
      {
       "output_type": "stream",
       "stream": "stdout",
       "text": [
        "Epoch 125/150\n",
        "0s - loss: 1.3864 - acc: 0.2503 - val_loss: 1.3863 - val_acc: 0.2444\n"
       ]
      },
      {
       "output_type": "stream",
       "stream": "stdout",
       "text": [
        "Epoch 126/150\n",
        "0s - loss: 1.3864 - acc: 0.2503 - val_loss: 1.3863 - val_acc: 0.2444\n"
       ]
      },
      {
       "output_type": "stream",
       "stream": "stdout",
       "text": [
        "Epoch 127/150\n",
        "0s - loss: 1.3864 - acc: 0.2503 - val_loss: 1.3863 - val_acc: 0.2444\n"
       ]
      },
      {
       "output_type": "stream",
       "stream": "stdout",
       "text": [
        "Epoch 128/150\n",
        "0s - loss: 1.3863 - acc: 0.2503 - val_loss: 1.3863 - val_acc: 0.2444\n"
       ]
      },
      {
       "output_type": "stream",
       "stream": "stdout",
       "text": [
        "Epoch 129/150\n",
        "0s - loss: 1.3863 - acc: 0.2503 - val_loss: 1.3863 - val_acc: 0.2444\n"
       ]
      },
      {
       "output_type": "stream",
       "stream": "stdout",
       "text": [
        "Epoch 130/150\n",
        "0s - loss: 1.3863 - acc: 0.2503 - val_loss: 1.3863 - val_acc: 0.2444\n"
       ]
      },
      {
       "output_type": "stream",
       "stream": "stdout",
       "text": [
        "Epoch 131/150\n",
        "0s - loss: 1.3863 - acc: 0.2503 - val_loss: 1.3863 - val_acc: 0.2444\n"
       ]
      },
      {
       "output_type": "stream",
       "stream": "stdout",
       "text": [
        "Epoch 132/150\n",
        "0s - loss: 1.3863 - acc: 0.2503 - val_loss: 1.3863 - val_acc: 0.2444\n"
       ]
      },
      {
       "output_type": "stream",
       "stream": "stdout",
       "text": [
        "Epoch 133/150\n",
        "0s - loss: 1.3863 - acc: 0.2503 - val_loss: 1.3863 - val_acc: 0.2444\n"
       ]
      },
      {
       "output_type": "stream",
       "stream": "stdout",
       "text": [
        "Epoch 134/150\n",
        "0s - loss: 1.3863 - acc: 0.2503 - val_loss: 1.3863 - val_acc: 0.2444\n"
       ]
      },
      {
       "output_type": "stream",
       "stream": "stdout",
       "text": [
        "Epoch 135/150\n",
        "0s - loss: 1.3863 - acc: 0.2503 - val_loss: 1.3863 - val_acc: 0.2444\n"
       ]
      },
      {
       "output_type": "stream",
       "stream": "stdout",
       "text": [
        "Epoch 136/150\n",
        "0s - loss: 1.3863 - acc: 0.2503 - val_loss: 1.3863 - val_acc: 0.2444\n"
       ]
      },
      {
       "output_type": "stream",
       "stream": "stdout",
       "text": [
        "Epoch 137/150\n",
        "0s - loss: 1.3863 - acc: 0.2503 - val_loss: 1.3863 - val_acc: 0.2444\n"
       ]
      },
      {
       "output_type": "stream",
       "stream": "stdout",
       "text": [
        "Epoch 138/150\n",
        "0s - loss: 1.3863 - acc: 0.2503 - val_loss: 1.3863 - val_acc: 0.2444\n"
       ]
      },
      {
       "output_type": "stream",
       "stream": "stdout",
       "text": [
        "Epoch 139/150\n",
        "0s - loss: 1.3863 - acc: 0.2503 - val_loss: 1.3863 - val_acc: 0.2444\n"
       ]
      },
      {
       "output_type": "stream",
       "stream": "stdout",
       "text": [
        "Epoch 140/150\n",
        "0s - loss: 1.3863 - acc: 0.2503 - val_loss: 1.3863 - val_acc: 0.2444\n"
       ]
      },
      {
       "output_type": "stream",
       "stream": "stdout",
       "text": [
        "Epoch 141/150\n",
        "0s - loss: 1.3863 - acc: 0.2503 - val_loss: 1.3863 - val_acc: 0.2444\n"
       ]
      },
      {
       "output_type": "stream",
       "stream": "stdout",
       "text": [
        "Epoch 142/150\n",
        "0s - loss: 1.3863 - acc: 0.2503 - val_loss: 1.3863 - val_acc: 0.2444\n"
       ]
      },
      {
       "output_type": "stream",
       "stream": "stdout",
       "text": [
        "Epoch 143/150\n",
        "0s - loss: 1.3863 - acc: 0.2503 - val_loss: 1.3863 - val_acc: 0.2444\n"
       ]
      },
      {
       "output_type": "stream",
       "stream": "stdout",
       "text": [
        "Epoch 144/150\n",
        "0s - loss: 1.3863 - acc: 0.2503 - val_loss: 1.3863 - val_acc: 0.2444\n"
       ]
      },
      {
       "output_type": "stream",
       "stream": "stdout",
       "text": [
        "Epoch 145/150\n",
        "0s - loss: 1.3863 - acc: 0.2503 - val_loss: 1.3863 - val_acc: 0.2444\n"
       ]
      },
      {
       "output_type": "stream",
       "stream": "stdout",
       "text": [
        "Epoch 146/150\n",
        "0s - loss: 1.3863 - acc: 0.2503 - val_loss: 1.3863 - val_acc: 0.2444\n"
       ]
      },
      {
       "output_type": "stream",
       "stream": "stdout",
       "text": [
        "Epoch 147/150\n",
        "0s - loss: 1.3863 - acc: 0.2503 - val_loss: 1.3863 - val_acc: 0.2444\n"
       ]
      },
      {
       "output_type": "stream",
       "stream": "stdout",
       "text": [
        "Epoch 148/150\n",
        "0s - loss: 1.3863 - acc: 0.2503 - val_loss: 1.3863 - val_acc: 0.2444\n"
       ]
      },
      {
       "output_type": "stream",
       "stream": "stdout",
       "text": [
        "Epoch 149/150\n",
        "0s - loss: 1.3863 - acc: 0.2503 - val_loss: 1.3863 - val_acc: 0.2444\n"
       ]
      },
      {
       "output_type": "stream",
       "stream": "stdout",
       "text": [
        "Epoch 150/150\n",
        "0s - loss: 1.3863 - acc: 0.2503 - val_loss: 1.3863 - val_acc: 0.2444\n"
       ]
      },
      {
       "output_type": "stream",
       "stream": "stdout",
       "text": [
        "\r",
        " 5000/20000 [======>.......................] - ETA: 0s"
       ]
      },
      {
       "output_type": "stream",
       "stream": "stdout",
       "text": [
        "\b\b\b\b\b\b\b\b\b\b\b\b\b\b\b\b\b\b\b\b\b\b\b\b\b\b\b\b\b\b\b\b\b\b\b\b\b\b\b\b\b\b\b\b\b\b\b\b\b\b\b\b\b\b\r",
        "20000/20000 [==============================] - 0s     "
       ]
      },
      {
       "output_type": "stream",
       "stream": "stdout",
       "text": [
        "\n",
        "\r",
        " 5000/20000 [======>.......................] - ETA: 0s"
       ]
      },
      {
       "output_type": "stream",
       "stream": "stdout",
       "text": [
        "\b\b\b\b\b\b\b\b\b\b\b\b\b\b\b\b\b\b\b\b\b\b\b\b\b\b\b\b\b\b\b\b\b\b\b\b\b\b\b\b\b\b\b\b\b\b\b\b\b\b\b\b\b\b\r",
        "20000/20000 [==============================] - 0s     "
       ]
      },
      {
       "output_type": "stream",
       "stream": "stdout",
       "text": [
        "\n",
        "Train on 80000 samples, validate on 20000 samples\n",
        "Epoch 1/160\n",
        "0s - loss: 1.0304 - acc: 0.2492 - val_loss: 1.0308 - val_acc: 0.2551\n"
       ]
      },
      {
       "output_type": "stream",
       "stream": "stdout",
       "text": [
        "Epoch 2/160\n",
        "0s - loss: 1.0234 - acc: 0.2492 - val_loss: 1.0240 - val_acc: 0.2551\n"
       ]
      },
      {
       "output_type": "stream",
       "stream": "stdout",
       "text": [
        "Epoch 3/160\n",
        "0s - loss: 1.0167 - acc: 0.2492 - val_loss: 1.0175 - val_acc: 0.2551\n"
       ]
      },
      {
       "output_type": "stream",
       "stream": "stdout",
       "text": [
        "Epoch 4/160\n",
        "0s - loss: 1.0104 - acc: 0.2492 - val_loss: 1.0114 - val_acc: 0.2551\n"
       ]
      },
      {
       "output_type": "stream",
       "stream": "stdout",
       "text": [
        "Epoch 5/160\n",
        "0s - loss: 1.0045 - acc: 0.2492 - val_loss: 1.0056 - val_acc: 0.2551\n"
       ]
      },
      {
       "output_type": "stream",
       "stream": "stdout",
       "text": [
        "Epoch 6/160\n",
        "0s - loss: 0.9989 - acc: 0.2492 - val_loss: 1.0001 - val_acc: 0.2551\n"
       ]
      },
      {
       "output_type": "stream",
       "stream": "stdout",
       "text": [
        "Epoch 7/160\n",
        "0s - loss: 0.9936 - acc: 0.2492 - val_loss: 0.9949 - val_acc: 0.2551\n"
       ]
      },
      {
       "output_type": "stream",
       "stream": "stdout",
       "text": [
        "Epoch 8/160\n",
        "0s - loss: 0.9886 - acc: 0.2492 - val_loss: 0.9900 - val_acc: 0.2551\n"
       ]
      },
      {
       "output_type": "stream",
       "stream": "stdout",
       "text": [
        "Epoch 9/160\n",
        "0s - loss: 0.9838 - acc: 0.2492 - val_loss: 0.9854 - val_acc: 0.2551\n"
       ]
      },
      {
       "output_type": "stream",
       "stream": "stdout",
       "text": [
        "Epoch 10/160\n",
        "0s - loss: 0.9792 - acc: 0.2492 - val_loss: 0.9809 - val_acc: 0.2515\n"
       ]
      },
      {
       "output_type": "stream",
       "stream": "stdout",
       "text": [
        "Epoch 11/160\n",
        "0s - loss: 0.9749 - acc: 0.2494 - val_loss: 0.9767 - val_acc: 0.2515\n"
       ]
      },
      {
       "output_type": "stream",
       "stream": "stdout",
       "text": [
        "Epoch 12/160\n",
        "0s - loss: 0.9708 - acc: 0.2514 - val_loss: 0.9727 - val_acc: 0.2515\n"
       ]
      },
      {
       "output_type": "stream",
       "stream": "stdout",
       "text": [
        "Epoch 13/160\n",
        "0s - loss: 0.9669 - acc: 0.2514 - val_loss: 0.9688 - val_acc: 0.2515\n"
       ]
      },
      {
       "output_type": "stream",
       "stream": "stdout",
       "text": [
        "Epoch 14/160\n",
        "0s - loss: 0.9632 - acc: 0.2514 - val_loss: 0.9652 - val_acc: 0.2515\n"
       ]
      },
      {
       "output_type": "stream",
       "stream": "stdout",
       "text": [
        "Epoch 15/160\n",
        "0s - loss: 0.9596 - acc: 0.2514 - val_loss: 0.9617 - val_acc: 0.2515\n"
       ]
      },
      {
       "output_type": "stream",
       "stream": "stdout",
       "text": [
        "Epoch 16/160\n",
        "0s - loss: 0.9562 - acc: 0.2514 - val_loss: 0.9584 - val_acc: 0.2515\n"
       ]
      },
      {
       "output_type": "stream",
       "stream": "stdout",
       "text": [
        "Epoch 17/160\n",
        "0s - loss: 0.9529 - acc: 0.2514 - val_loss: 0.9552 - val_acc: 0.2515\n"
       ]
      },
      {
       "output_type": "stream",
       "stream": "stdout",
       "text": [
        "Epoch 18/160\n",
        "0s - loss: 0.9498 - acc: 0.2514 - val_loss: 0.9521 - val_acc: 0.2515\n"
       ]
      },
      {
       "output_type": "stream",
       "stream": "stdout",
       "text": [
        "Epoch 19/160\n",
        "0s - loss: 0.9469 - acc: 0.2514 - val_loss: 0.9492 - val_acc: 0.2515\n"
       ]
      },
      {
       "output_type": "stream",
       "stream": "stdout",
       "text": [
        "Epoch 20/160\n",
        "0s - loss: 0.9440 - acc: 0.2514 - val_loss: 0.9464 - val_acc: 0.2515\n"
       ]
      },
      {
       "output_type": "stream",
       "stream": "stdout",
       "text": [
        "Epoch 21/160\n",
        "0s - loss: 0.9412 - acc: 0.2514 - val_loss: 0.9437 - val_acc: 0.2515\n"
       ]
      },
      {
       "output_type": "stream",
       "stream": "stdout",
       "text": [
        "Epoch 22/160\n",
        "0s - loss: 0.9386 - acc: 0.2514 - val_loss: 0.9411 - val_acc: 0.2515\n"
       ]
      },
      {
       "output_type": "stream",
       "stream": "stdout",
       "text": [
        "Epoch 23/160\n",
        "0s - loss: 0.9361 - acc: 0.2514 - val_loss: 0.9386 - val_acc: 0.2515\n"
       ]
      },
      {
       "output_type": "stream",
       "stream": "stdout",
       "text": [
        "Epoch 24/160\n",
        "0s - loss: 0.9337 - acc: 0.2514 - val_loss: 0.9362 - val_acc: 0.2515\n"
       ]
      },
      {
       "output_type": "stream",
       "stream": "stdout",
       "text": [
        "Epoch 25/160\n",
        "0s - loss: 0.9313 - acc: 0.2514 - val_loss: 0.9339 - val_acc: 0.2515\n"
       ]
      },
      {
       "output_type": "stream",
       "stream": "stdout",
       "text": [
        "Epoch 26/160\n",
        "0s - loss: 0.9291 - acc: 0.2514 - val_loss: 0.9317 - val_acc: 0.2515\n"
       ]
      },
      {
       "output_type": "stream",
       "stream": "stdout",
       "text": [
        "Epoch 27/160\n",
        "0s - loss: 0.9269 - acc: 0.2514 - val_loss: 0.9296 - val_acc: 0.2515\n"
       ]
      },
      {
       "output_type": "stream",
       "stream": "stdout",
       "text": [
        "Epoch 28/160\n",
        "0s - loss: 0.9248 - acc: 0.2514 - val_loss: 0.9275 - val_acc: 0.2515\n"
       ]
      },
      {
       "output_type": "stream",
       "stream": "stdout",
       "text": [
        "Epoch 29/160\n",
        "0s - loss: 0.9228 - acc: 0.2514 - val_loss: 0.9255 - val_acc: 0.2515\n"
       ]
      },
      {
       "output_type": "stream",
       "stream": "stdout",
       "text": [
        "Epoch 30/160\n",
        "0s - loss: 0.9209 - acc: 0.2514 - val_loss: 0.9236 - val_acc: 0.2515\n"
       ]
      },
      {
       "output_type": "stream",
       "stream": "stdout",
       "text": [
        "Epoch 31/160\n",
        "0s - loss: 0.9190 - acc: 0.2514 - val_loss: 0.9218 - val_acc: 0.2515\n"
       ]
      },
      {
       "output_type": "stream",
       "stream": "stdout",
       "text": [
        "Epoch 32/160\n",
        "0s - loss: 0.9172 - acc: 0.2514 - val_loss: 0.9200 - val_acc: 0.2515\n"
       ]
      },
      {
       "output_type": "stream",
       "stream": "stdout",
       "text": [
        "Epoch 33/160\n",
        "0s - loss: 0.9154 - acc: 0.2514 - val_loss: 0.9183 - val_acc: 0.2515\n"
       ]
      },
      {
       "output_type": "stream",
       "stream": "stdout",
       "text": [
        "Epoch 34/160\n",
        "0s - loss: 0.9137 - acc: 0.2514 - val_loss: 0.9166 - val_acc: 0.2515\n"
       ]
      },
      {
       "output_type": "stream",
       "stream": "stdout",
       "text": [
        "Epoch 35/160\n",
        "0s - loss: 0.9121 - acc: 0.2514 - val_loss: 0.9150 - val_acc: 0.2515\n"
       ]
      },
      {
       "output_type": "stream",
       "stream": "stdout",
       "text": [
        "Epoch 36/160\n",
        "0s - loss: 0.9105 - acc: 0.2514 - val_loss: 0.9134 - val_acc: 0.2515\n"
       ]
      },
      {
       "output_type": "stream",
       "stream": "stdout",
       "text": [
        "Epoch 37/160\n",
        "0s - loss: 0.9090 - acc: 0.2514 - val_loss: 0.9119 - val_acc: 0.2515\n"
       ]
      },
      {
       "output_type": "stream",
       "stream": "stdout",
       "text": [
        "Epoch 38/160\n",
        "0s - loss: 0.9075 - acc: 0.2514 - val_loss: 0.9104 - val_acc: 0.2515\n"
       ]
      },
      {
       "output_type": "stream",
       "stream": "stdout",
       "text": [
        "Epoch 39/160\n",
        "0s - loss: 0.9061 - acc: 0.2514 - val_loss: 0.9090 - val_acc: 0.2515\n"
       ]
      },
      {
       "output_type": "stream",
       "stream": "stdout",
       "text": [
        "Epoch 40/160\n",
        "0s - loss: 0.9047 - acc: 0.2514 - val_loss: 0.9076 - val_acc: 0.2515\n"
       ]
      },
      {
       "output_type": "stream",
       "stream": "stdout",
       "text": [
        "Epoch 41/160\n",
        "0s - loss: 0.9033 - acc: 0.2514 - val_loss: 0.9063 - val_acc: 0.2515\n"
       ]
      },
      {
       "output_type": "stream",
       "stream": "stdout",
       "text": [
        "Epoch 42/160\n",
        "0s - loss: 0.9020 - acc: 0.2514 - val_loss: 0.9050 - val_acc: 0.2515\n"
       ]
      },
      {
       "output_type": "stream",
       "stream": "stdout",
       "text": [
        "Epoch 43/160\n",
        "0s - loss: 0.9007 - acc: 0.2514 - val_loss: 0.9037 - val_acc: 0.2515\n"
       ]
      },
      {
       "output_type": "stream",
       "stream": "stdout",
       "text": [
        "Epoch 44/160\n",
        "0s - loss: 0.8995 - acc: 0.2514 - val_loss: 0.9025 - val_acc: 0.2515\n"
       ]
      },
      {
       "output_type": "stream",
       "stream": "stdout",
       "text": [
        "Epoch 45/160\n",
        "0s - loss: 0.8983 - acc: 0.2514 - val_loss: 0.9013 - val_acc: 0.2515\n"
       ]
      },
      {
       "output_type": "stream",
       "stream": "stdout",
       "text": [
        "Epoch 46/160\n",
        "0s - loss: 0.8971 - acc: 0.2514 - val_loss: 0.9002 - val_acc: 0.2515\n"
       ]
      },
      {
       "output_type": "stream",
       "stream": "stdout",
       "text": [
        "Epoch 47/160\n",
        "0s - loss: 0.8960 - acc: 0.2514 - val_loss: 0.8991 - val_acc: 0.2515\n"
       ]
      },
      {
       "output_type": "stream",
       "stream": "stdout",
       "text": [
        "Epoch 48/160\n",
        "0s - loss: 0.8949 - acc: 0.2514 - val_loss: 0.8980 - val_acc: 0.2515\n"
       ]
      },
      {
       "output_type": "stream",
       "stream": "stdout",
       "text": [
        "Epoch 49/160\n",
        "0s - loss: 0.8938 - acc: 0.2514 - val_loss: 0.8969 - val_acc: 0.2515\n"
       ]
      },
      {
       "output_type": "stream",
       "stream": "stdout",
       "text": [
        "Epoch 50/160\n",
        "0s - loss: 0.8928 - acc: 0.2514 - val_loss: 0.8959 - val_acc: 0.2515\n"
       ]
      },
      {
       "output_type": "stream",
       "stream": "stdout",
       "text": [
        "Epoch 51/160\n",
        "0s - loss: 0.8918 - acc: 0.2514 - val_loss: 0.8949 - val_acc: 0.2515\n"
       ]
      },
      {
       "output_type": "stream",
       "stream": "stdout",
       "text": [
        "Epoch 52/160\n",
        "0s - loss: 0.8908 - acc: 0.2514 - val_loss: 0.8939 - val_acc: 0.2515\n"
       ]
      },
      {
       "output_type": "stream",
       "stream": "stdout",
       "text": [
        "Epoch 53/160\n",
        "0s - loss: 0.8898 - acc: 0.2514 - val_loss: 0.8929 - val_acc: 0.2515\n"
       ]
      },
      {
       "output_type": "stream",
       "stream": "stdout",
       "text": [
        "Epoch 54/160\n",
        "0s - loss: 0.8889 - acc: 0.2514 - val_loss: 0.8920 - val_acc: 0.2515\n"
       ]
      },
      {
       "output_type": "stream",
       "stream": "stdout",
       "text": [
        "Epoch 55/160\n",
        "0s - loss: 0.8880 - acc: 0.2514 - val_loss: 0.8911 - val_acc: 0.2515\n"
       ]
      },
      {
       "output_type": "stream",
       "stream": "stdout",
       "text": [
        "Epoch 56/160\n",
        "0s - loss: 0.8871 - acc: 0.2514 - val_loss: 0.8902 - val_acc: 0.2515\n"
       ]
      },
      {
       "output_type": "stream",
       "stream": "stdout",
       "text": [
        "Epoch 57/160\n",
        "0s - loss: 0.8862 - acc: 0.2514 - val_loss: 0.8894 - val_acc: 0.2515\n"
       ]
      },
      {
       "output_type": "stream",
       "stream": "stdout",
       "text": [
        "Epoch 58/160\n",
        "0s - loss: 0.8854 - acc: 0.2514 - val_loss: 0.8885 - val_acc: 0.2515\n"
       ]
      },
      {
       "output_type": "stream",
       "stream": "stdout",
       "text": [
        "Epoch 59/160\n",
        "0s - loss: 0.8845 - acc: 0.2514 - val_loss: 0.8877 - val_acc: 0.2515\n"
       ]
      },
      {
       "output_type": "stream",
       "stream": "stdout",
       "text": [
        "Epoch 60/160\n",
        "0s - loss: 0.8837 - acc: 0.2514 - val_loss: 0.8869 - val_acc: 0.2515\n"
       ]
      },
      {
       "output_type": "stream",
       "stream": "stdout",
       "text": [
        "Epoch 61/160\n",
        "0s - loss: 0.8829 - acc: 0.2514 - val_loss: 0.8861 - val_acc: 0.2515\n"
       ]
      },
      {
       "output_type": "stream",
       "stream": "stdout",
       "text": [
        "Epoch 62/160\n",
        "0s - loss: 0.8822 - acc: 0.2514 - val_loss: 0.8853 - val_acc: 0.2515\n"
       ]
      },
      {
       "output_type": "stream",
       "stream": "stdout",
       "text": [
        "Epoch 63/160\n",
        "0s - loss: 0.8814 - acc: 0.2514 - val_loss: 0.8846 - val_acc: 0.2515\n"
       ]
      },
      {
       "output_type": "stream",
       "stream": "stdout",
       "text": [
        "Epoch 64/160\n",
        "0s - loss: 0.8807 - acc: 0.2514 - val_loss: 0.8839 - val_acc: 0.2515\n"
       ]
      },
      {
       "output_type": "stream",
       "stream": "stdout",
       "text": [
        "Epoch 65/160\n",
        "0s - loss: 0.8800 - acc: 0.2514 - val_loss: 0.8832 - val_acc: 0.2515\n"
       ]
      },
      {
       "output_type": "stream",
       "stream": "stdout",
       "text": [
        "Epoch 66/160\n",
        "0s - loss: 0.8793 - acc: 0.2514 - val_loss: 0.8825 - val_acc: 0.2515\n"
       ]
      },
      {
       "output_type": "stream",
       "stream": "stdout",
       "text": [
        "Epoch 67/160\n",
        "0s - loss: 0.8786 - acc: 0.2514 - val_loss: 0.8818 - val_acc: 0.2515\n"
       ]
      },
      {
       "output_type": "stream",
       "stream": "stdout",
       "text": [
        "Epoch 68/160\n",
        "0s - loss: 0.8779 - acc: 0.2514 - val_loss: 0.8811 - val_acc: 0.2515\n"
       ]
      },
      {
       "output_type": "stream",
       "stream": "stdout",
       "text": [
        "Epoch 69/160\n",
        "0s - loss: 0.8772 - acc: 0.2514 - val_loss: 0.8805 - val_acc: 0.2515\n"
       ]
      },
      {
       "output_type": "stream",
       "stream": "stdout",
       "text": [
        "Epoch 70/160\n",
        "0s - loss: 0.8766 - acc: 0.2514 - val_loss: 0.8798 - val_acc: 0.2515\n"
       ]
      },
      {
       "output_type": "stream",
       "stream": "stdout",
       "text": [
        "Epoch 71/160\n",
        "0s - loss: 0.8760 - acc: 0.2514 - val_loss: 0.8792 - val_acc: 0.2515\n"
       ]
      },
      {
       "output_type": "stream",
       "stream": "stdout",
       "text": [
        "Epoch 72/160\n",
        "0s - loss: 0.8753 - acc: 0.2514 - val_loss: 0.8786 - val_acc: 0.2515\n"
       ]
      },
      {
       "output_type": "stream",
       "stream": "stdout",
       "text": [
        "Epoch 73/160\n",
        "0s - loss: 0.8747 - acc: 0.2514 - val_loss: 0.8780 - val_acc: 0.2515\n"
       ]
      },
      {
       "output_type": "stream",
       "stream": "stdout",
       "text": [
        "Epoch 74/160\n",
        "0s - loss: 0.8742 - acc: 0.2514 - val_loss: 0.8774 - val_acc: 0.2515\n"
       ]
      },
      {
       "output_type": "stream",
       "stream": "stdout",
       "text": [
        "Epoch 75/160\n",
        "0s - loss: 0.8736 - acc: 0.2514 - val_loss: 0.8768 - val_acc: 0.2515\n"
       ]
      },
      {
       "output_type": "stream",
       "stream": "stdout",
       "text": [
        "Epoch 76/160\n",
        "0s - loss: 0.8730 - acc: 0.2514 - val_loss: 0.8763 - val_acc: 0.2515\n"
       ]
      },
      {
       "output_type": "stream",
       "stream": "stdout",
       "text": [
        "Epoch 77/160\n",
        "0s - loss: 0.8725 - acc: 0.2514 - val_loss: 0.8757 - val_acc: 0.2515\n"
       ]
      },
      {
       "output_type": "stream",
       "stream": "stdout",
       "text": [
        "Epoch 78/160\n",
        "0s - loss: 0.8719 - acc: 0.2514 - val_loss: 0.8752 - val_acc: 0.2515\n"
       ]
      },
      {
       "output_type": "stream",
       "stream": "stdout",
       "text": [
        "Epoch 79/160\n",
        "0s - loss: 0.8714 - acc: 0.2514 - val_loss: 0.8746 - val_acc: 0.2515\n"
       ]
      },
      {
       "output_type": "stream",
       "stream": "stdout",
       "text": [
        "Epoch 80/160\n",
        "0s - loss: 0.8708 - acc: 0.2514 - val_loss: 0.8741 - val_acc: 0.2515\n"
       ]
      },
      {
       "output_type": "stream",
       "stream": "stdout",
       "text": [
        "Epoch 81/160\n",
        "0s - loss: 0.8703 - acc: 0.2514 - val_loss: 0.8736 - val_acc: 0.2515\n"
       ]
      },
      {
       "output_type": "stream",
       "stream": "stdout",
       "text": [
        "Epoch 82/160\n",
        "0s - loss: 0.8698 - acc: 0.2514 - val_loss: 0.8731 - val_acc: 0.2515\n"
       ]
      },
      {
       "output_type": "stream",
       "stream": "stdout",
       "text": [
        "Epoch 83/160\n",
        "0s - loss: 0.8693 - acc: 0.2514 - val_loss: 0.8726 - val_acc: 0.2515\n"
       ]
      },
      {
       "output_type": "stream",
       "stream": "stdout",
       "text": [
        "Epoch 84/160\n",
        "0s - loss: 0.8689 - acc: 0.2514 - val_loss: 0.8721 - val_acc: 0.2515\n"
       ]
      },
      {
       "output_type": "stream",
       "stream": "stdout",
       "text": [
        "Epoch 85/160\n",
        "0s - loss: 0.8684 - acc: 0.2514 - val_loss: 0.8717 - val_acc: 0.2515\n"
       ]
      },
      {
       "output_type": "stream",
       "stream": "stdout",
       "text": [
        "Epoch 86/160\n",
        "0s - loss: 0.8679 - acc: 0.2514 - val_loss: 0.8712 - val_acc: 0.2515\n"
       ]
      },
      {
       "output_type": "stream",
       "stream": "stdout",
       "text": [
        "Epoch 87/160\n",
        "0s - loss: 0.8675 - acc: 0.2514 - val_loss: 0.8707 - val_acc: 0.2515\n"
       ]
      },
      {
       "output_type": "stream",
       "stream": "stdout",
       "text": [
        "Epoch 88/160\n",
        "0s - loss: 0.8670 - acc: 0.2514 - val_loss: 0.8703 - val_acc: 0.2515\n"
       ]
      },
      {
       "output_type": "stream",
       "stream": "stdout",
       "text": [
        "Epoch 89/160\n",
        "0s - loss: 0.8666 - acc: 0.2514 - val_loss: 0.8699 - val_acc: 0.2515\n"
       ]
      },
      {
       "output_type": "stream",
       "stream": "stdout",
       "text": [
        "Epoch 90/160\n",
        "0s - loss: 0.8661 - acc: 0.2514 - val_loss: 0.8694 - val_acc: 0.2515\n"
       ]
      },
      {
       "output_type": "stream",
       "stream": "stdout",
       "text": [
        "Epoch 91/160\n",
        "0s - loss: 0.8657 - acc: 0.2514 - val_loss: 0.8690 - val_acc: 0.2515\n"
       ]
      },
      {
       "output_type": "stream",
       "stream": "stdout",
       "text": [
        "Epoch 92/160\n",
        "0s - loss: 0.8653 - acc: 0.2514 - val_loss: 0.8686 - val_acc: 0.2515\n"
       ]
      },
      {
       "output_type": "stream",
       "stream": "stdout",
       "text": [
        "Epoch 93/160\n",
        "0s - loss: 0.8649 - acc: 0.2514 - val_loss: 0.8682 - val_acc: 0.2515\n"
       ]
      },
      {
       "output_type": "stream",
       "stream": "stdout",
       "text": [
        "Epoch 94/160\n",
        "0s - loss: 0.8645 - acc: 0.2514 - val_loss: 0.8678 - val_acc: 0.2515\n"
       ]
      },
      {
       "output_type": "stream",
       "stream": "stdout",
       "text": [
        "Epoch 95/160\n",
        "0s - loss: 0.8641 - acc: 0.2514 - val_loss: 0.8674 - val_acc: 0.2515\n"
       ]
      },
      {
       "output_type": "stream",
       "stream": "stdout",
       "text": [
        "Epoch 96/160\n",
        "0s - loss: 0.8637 - acc: 0.2514 - val_loss: 0.8670 - val_acc: 0.2515\n"
       ]
      },
      {
       "output_type": "stream",
       "stream": "stdout",
       "text": [
        "Epoch 97/160\n",
        "0s - loss: 0.8633 - acc: 0.2514 - val_loss: 0.8666 - val_acc: 0.2515\n"
       ]
      },
      {
       "output_type": "stream",
       "stream": "stdout",
       "text": [
        "Epoch 98/160\n",
        "0s - loss: 0.8629 - acc: 0.2514 - val_loss: 0.8662 - val_acc: 0.2515\n"
       ]
      },
      {
       "output_type": "stream",
       "stream": "stdout",
       "text": [
        "Epoch 99/160\n",
        "0s - loss: 0.8626 - acc: 0.2514 - val_loss: 0.8659 - val_acc: 0.2515\n"
       ]
      },
      {
       "output_type": "stream",
       "stream": "stdout",
       "text": [
        "Epoch 100/160\n",
        "0s - loss: 0.8622 - acc: 0.2514 - val_loss: 0.8655 - val_acc: 0.2515\n"
       ]
      },
      {
       "output_type": "stream",
       "stream": "stdout",
       "text": [
        "Epoch 101/160\n",
        "0s - loss: 0.8618 - acc: 0.2514 - val_loss: 0.8651 - val_acc: 0.2515\n"
       ]
      },
      {
       "output_type": "stream",
       "stream": "stdout",
       "text": [
        "Epoch 102/160\n",
        "0s - loss: 0.8615 - acc: 0.2514 - val_loss: 0.8648 - val_acc: 0.2515\n"
       ]
      },
      {
       "output_type": "stream",
       "stream": "stdout",
       "text": [
        "Epoch 103/160\n",
        "0s - loss: 0.8611 - acc: 0.2514 - val_loss: 0.8645 - val_acc: 0.2515\n"
       ]
      },
      {
       "output_type": "stream",
       "stream": "stdout",
       "text": [
        "Epoch 104/160\n",
        "0s - loss: 0.8608 - acc: 0.2514 - val_loss: 0.8641 - val_acc: 0.2515\n"
       ]
      },
      {
       "output_type": "stream",
       "stream": "stdout",
       "text": [
        "Epoch 105/160\n",
        "0s - loss: 0.8605 - acc: 0.2514 - val_loss: 0.8638 - val_acc: 0.2515\n"
       ]
      },
      {
       "output_type": "stream",
       "stream": "stdout",
       "text": [
        "Epoch 106/160\n",
        "0s - loss: 0.8601 - acc: 0.2514 - val_loss: 0.8635 - val_acc: 0.2515\n"
       ]
      },
      {
       "output_type": "stream",
       "stream": "stdout",
       "text": [
        "Epoch 107/160\n",
        "0s - loss: 0.8598 - acc: 0.2514 - val_loss: 0.8631 - val_acc: 0.2515\n"
       ]
      },
      {
       "output_type": "stream",
       "stream": "stdout",
       "text": [
        "Epoch 108/160\n",
        "0s - loss: 0.8595 - acc: 0.2514 - val_loss: 0.8628 - val_acc: 0.2515\n"
       ]
      },
      {
       "output_type": "stream",
       "stream": "stdout",
       "text": [
        "Epoch 109/160\n",
        "0s - loss: 0.8592 - acc: 0.2514 - val_loss: 0.8625 - val_acc: 0.2515\n"
       ]
      },
      {
       "output_type": "stream",
       "stream": "stdout",
       "text": [
        "Epoch 110/160\n",
        "0s - loss: 0.8589 - acc: 0.2514 - val_loss: 0.8622 - val_acc: 0.2515\n"
       ]
      },
      {
       "output_type": "stream",
       "stream": "stdout",
       "text": [
        "Epoch 111/160\n",
        "0s - loss: 0.8585 - acc: 0.2514 - val_loss: 0.8619 - val_acc: 0.2515\n"
       ]
      },
      {
       "output_type": "stream",
       "stream": "stdout",
       "text": [
        "Epoch 112/160\n",
        "0s - loss: 0.8582 - acc: 0.2514 - val_loss: 0.8616 - val_acc: 0.2515\n"
       ]
      },
      {
       "output_type": "stream",
       "stream": "stdout",
       "text": [
        "Epoch 113/160\n",
        "0s - loss: 0.8580 - acc: 0.2514 - val_loss: 0.8613 - val_acc: 0.2515\n"
       ]
      },
      {
       "output_type": "stream",
       "stream": "stdout",
       "text": [
        "Epoch 114/160\n",
        "0s - loss: 0.8577 - acc: 0.2514 - val_loss: 0.8610 - val_acc: 0.2515\n"
       ]
      },
      {
       "output_type": "stream",
       "stream": "stdout",
       "text": [
        "Epoch 115/160\n",
        "0s - loss: 0.8574 - acc: 0.2514 - val_loss: 0.8607 - val_acc: 0.2515\n"
       ]
      },
      {
       "output_type": "stream",
       "stream": "stdout",
       "text": [
        "Epoch 116/160\n",
        "0s - loss: 0.8571 - acc: 0.2514 - val_loss: 0.8604 - val_acc: 0.2515\n"
       ]
      },
      {
       "output_type": "stream",
       "stream": "stdout",
       "text": [
        "Epoch 117/160\n",
        "0s - loss: 0.8568 - acc: 0.2514 - val_loss: 0.8601 - val_acc: 0.2515\n"
       ]
      },
      {
       "output_type": "stream",
       "stream": "stdout",
       "text": [
        "Epoch 118/160\n",
        "0s - loss: 0.8565 - acc: 0.2514 - val_loss: 0.8599 - val_acc: 0.2515\n"
       ]
      },
      {
       "output_type": "stream",
       "stream": "stdout",
       "text": [
        "Epoch 119/160\n",
        "0s - loss: 0.8563 - acc: 0.2514 - val_loss: 0.8596 - val_acc: 0.2515\n"
       ]
      },
      {
       "output_type": "stream",
       "stream": "stdout",
       "text": [
        "Epoch 120/160\n",
        "0s - loss: 0.8560 - acc: 0.2514 - val_loss: 0.8593 - val_acc: 0.2515\n"
       ]
      },
      {
       "output_type": "stream",
       "stream": "stdout",
       "text": [
        "Epoch 121/160\n",
        "0s - loss: 0.8557 - acc: 0.2514 - val_loss: 0.8591 - val_acc: 0.2515\n"
       ]
      },
      {
       "output_type": "stream",
       "stream": "stdout",
       "text": [
        "Epoch 122/160\n",
        "0s - loss: 0.8555 - acc: 0.2514 - val_loss: 0.8588 - val_acc: 0.2515\n"
       ]
      },
      {
       "output_type": "stream",
       "stream": "stdout",
       "text": [
        "Epoch 123/160\n",
        "0s - loss: 0.8552 - acc: 0.2514 - val_loss: 0.8585 - val_acc: 0.2515\n"
       ]
      },
      {
       "output_type": "stream",
       "stream": "stdout",
       "text": [
        "Epoch 124/160\n",
        "0s - loss: 0.8550 - acc: 0.2514 - val_loss: 0.8583 - val_acc: 0.2515\n"
       ]
      },
      {
       "output_type": "stream",
       "stream": "stdout",
       "text": [
        "Epoch 125/160\n",
        "0s - loss: 0.8547 - acc: 0.2514 - val_loss: 0.8581 - val_acc: 0.2515\n"
       ]
      },
      {
       "output_type": "stream",
       "stream": "stdout",
       "text": [
        "Epoch 126/160\n",
        "0s - loss: 0.8545 - acc: 0.2514 - val_loss: 0.8578 - val_acc: 0.2515\n"
       ]
      },
      {
       "output_type": "stream",
       "stream": "stdout",
       "text": [
        "Epoch 127/160\n",
        "0s - loss: 0.8542 - acc: 0.2514 - val_loss: 0.8576 - val_acc: 0.2515\n"
       ]
      },
      {
       "output_type": "stream",
       "stream": "stdout",
       "text": [
        "Epoch 128/160\n",
        "0s - loss: 0.8540 - acc: 0.2514 - val_loss: 0.8573 - val_acc: 0.2515\n"
       ]
      },
      {
       "output_type": "stream",
       "stream": "stdout",
       "text": [
        "Epoch 129/160\n",
        "0s - loss: 0.8537 - acc: 0.2514 - val_loss: 0.8571 - val_acc: 0.2515\n"
       ]
      },
      {
       "output_type": "stream",
       "stream": "stdout",
       "text": [
        "Epoch 130/160\n",
        "0s - loss: 0.8535 - acc: 0.2514 - val_loss: 0.8569 - val_acc: 0.2515\n"
       ]
      },
      {
       "output_type": "stream",
       "stream": "stdout",
       "text": [
        "Epoch 131/160\n",
        "0s - loss: 0.8533 - acc: 0.2514 - val_loss: 0.8566 - val_acc: 0.2515\n"
       ]
      },
      {
       "output_type": "stream",
       "stream": "stdout",
       "text": [
        "Epoch 132/160\n",
        "0s - loss: 0.8531 - acc: 0.2514 - val_loss: 0.8564 - val_acc: 0.2515\n"
       ]
      },
      {
       "output_type": "stream",
       "stream": "stdout",
       "text": [
        "Epoch 133/160\n",
        "0s - loss: 0.8528 - acc: 0.2514 - val_loss: 0.8562 - val_acc: 0.2515\n"
       ]
      },
      {
       "output_type": "stream",
       "stream": "stdout",
       "text": [
        "Epoch 134/160\n",
        "0s - loss: 0.8526 - acc: 0.2514 - val_loss: 0.8560 - val_acc: 0.2515\n"
       ]
      },
      {
       "output_type": "stream",
       "stream": "stdout",
       "text": [
        "Epoch 135/160\n",
        "0s - loss: 0.8524 - acc: 0.2514 - val_loss: 0.8557 - val_acc: 0.2515\n"
       ]
      },
      {
       "output_type": "stream",
       "stream": "stdout",
       "text": [
        "Epoch 136/160\n",
        "0s - loss: 0.8522 - acc: 0.2514 - val_loss: 0.8555 - val_acc: 0.2515\n"
       ]
      },
      {
       "output_type": "stream",
       "stream": "stdout",
       "text": [
        "Epoch 137/160\n",
        "0s - loss: 0.8520 - acc: 0.2514 - val_loss: 0.8553 - val_acc: 0.2515\n"
       ]
      },
      {
       "output_type": "stream",
       "stream": "stdout",
       "text": [
        "Epoch 138/160\n",
        "0s - loss: 0.8518 - acc: 0.2514 - val_loss: 0.8551 - val_acc: 0.2515\n"
       ]
      },
      {
       "output_type": "stream",
       "stream": "stdout",
       "text": [
        "Epoch 139/160\n",
        "0s - loss: 0.8515 - acc: 0.2514 - val_loss: 0.8549 - val_acc: 0.2515\n"
       ]
      },
      {
       "output_type": "stream",
       "stream": "stdout",
       "text": [
        "Epoch 140/160\n",
        "0s - loss: 0.8513 - acc: 0.2514 - val_loss: 0.8547 - val_acc: 0.2515\n"
       ]
      },
      {
       "output_type": "stream",
       "stream": "stdout",
       "text": [
        "Epoch 141/160\n",
        "0s - loss: 0.8511 - acc: 0.2514 - val_loss: 0.8545 - val_acc: 0.2515\n"
       ]
      },
      {
       "output_type": "stream",
       "stream": "stdout",
       "text": [
        "Epoch 142/160\n",
        "0s - loss: 0.8509 - acc: 0.2514 - val_loss: 0.8543 - val_acc: 0.2515\n"
       ]
      },
      {
       "output_type": "stream",
       "stream": "stdout",
       "text": [
        "Epoch 143/160\n",
        "0s - loss: 0.8507 - acc: 0.2514 - val_loss: 0.8541 - val_acc: 0.2515\n"
       ]
      },
      {
       "output_type": "stream",
       "stream": "stdout",
       "text": [
        "Epoch 144/160\n",
        "0s - loss: 0.8506 - acc: 0.2514 - val_loss: 0.8539 - val_acc: 0.2515\n"
       ]
      },
      {
       "output_type": "stream",
       "stream": "stdout",
       "text": [
        "Epoch 145/160\n",
        "0s - loss: 0.8504 - acc: 0.2514 - val_loss: 0.8537 - val_acc: 0.2515\n"
       ]
      },
      {
       "output_type": "stream",
       "stream": "stdout",
       "text": [
        "Epoch 146/160\n",
        "0s - loss: 0.8502 - acc: 0.2514 - val_loss: 0.8535 - val_acc: 0.2515\n"
       ]
      },
      {
       "output_type": "stream",
       "stream": "stdout",
       "text": [
        "Epoch 147/160\n",
        "0s - loss: 0.8500 - acc: 0.2514 - val_loss: 0.8533 - val_acc: 0.2515\n"
       ]
      },
      {
       "output_type": "stream",
       "stream": "stdout",
       "text": [
        "Epoch 148/160\n",
        "0s - loss: 0.8498 - acc: 0.2514 - val_loss: 0.8531 - val_acc: 0.2515\n"
       ]
      },
      {
       "output_type": "stream",
       "stream": "stdout",
       "text": [
        "Epoch 149/160\n",
        "0s - loss: 0.8496 - acc: 0.2514 - val_loss: 0.8530 - val_acc: 0.2515\n"
       ]
      },
      {
       "output_type": "stream",
       "stream": "stdout",
       "text": [
        "Epoch 150/160\n",
        "0s - loss: 0.8494 - acc: 0.2514 - val_loss: 0.8528 - val_acc: 0.2515\n"
       ]
      },
      {
       "output_type": "stream",
       "stream": "stdout",
       "text": [
        "Epoch 151/160\n",
        "0s - loss: 0.8492 - acc: 0.2514 - val_loss: 0.8526 - val_acc: 0.2515\n"
       ]
      },
      {
       "output_type": "stream",
       "stream": "stdout",
       "text": [
        "Epoch 152/160\n",
        "0s - loss: 0.8491 - acc: 0.2514 - val_loss: 0.8524 - val_acc: 0.2515\n"
       ]
      },
      {
       "output_type": "stream",
       "stream": "stdout",
       "text": [
        "Epoch 153/160\n",
        "0s - loss: 0.8489 - acc: 0.2514 - val_loss: 0.8523 - val_acc: 0.2515\n"
       ]
      },
      {
       "output_type": "stream",
       "stream": "stdout",
       "text": [
        "Epoch 154/160\n",
        "0s - loss: 0.8487 - acc: 0.2514 - val_loss: 0.8521 - val_acc: 0.2515\n"
       ]
      },
      {
       "output_type": "stream",
       "stream": "stdout",
       "text": [
        "Epoch 155/160\n",
        "0s - loss: 0.8486 - acc: 0.2514 - val_loss: 0.8519 - val_acc: 0.2515\n"
       ]
      },
      {
       "output_type": "stream",
       "stream": "stdout",
       "text": [
        "Epoch 156/160\n",
        "0s - loss: 0.8484 - acc: 0.2514 - val_loss: 0.8517 - val_acc: 0.2515\n"
       ]
      },
      {
       "output_type": "stream",
       "stream": "stdout",
       "text": [
        "Epoch 157/160\n",
        "0s - loss: 0.8482 - acc: 0.2514 - val_loss: 0.8516 - val_acc: 0.2515\n"
       ]
      },
      {
       "output_type": "stream",
       "stream": "stdout",
       "text": [
        "Epoch 158/160\n",
        "0s - loss: 0.8481 - acc: 0.2514 - val_loss: 0.8514 - val_acc: 0.2515\n"
       ]
      },
      {
       "output_type": "stream",
       "stream": "stdout",
       "text": [
        "Epoch 159/160\n",
        "0s - loss: 0.8479 - acc: 0.2514 - val_loss: 0.8513 - val_acc: 0.2515\n"
       ]
      },
      {
       "output_type": "stream",
       "stream": "stdout",
       "text": [
        "Epoch 160/160\n",
        "0s - loss: 0.8477 - acc: 0.2514 - val_loss: 0.8511 - val_acc: 0.2515\n"
       ]
      },
      {
       "output_type": "stream",
       "stream": "stdout",
       "text": [
        "\r",
        " 5000/20000 [======>.......................] - ETA: 0s"
       ]
      },
      {
       "output_type": "stream",
       "stream": "stdout",
       "text": [
        "\b\b\b\b\b\b\b\b\b\b\b\b\b\b\b\b\b\b\b\b\b\b\b\b\b\b\b\b\b\b\b\b\b\b\b\b\b\b\b\b\b\b\b\b\b\b\b\b\b\b\b\b\b\b\r",
        "20000/20000 [==============================] - 0s     "
       ]
      },
      {
       "output_type": "stream",
       "stream": "stdout",
       "text": [
        "\n",
        "\r",
        " 5000/20000 [======>.......................] - ETA: 0s"
       ]
      },
      {
       "output_type": "stream",
       "stream": "stdout",
       "text": [
        "\b\b\b\b\b\b\b\b\b\b\b\b\b\b\b\b\b\b\b\b\b\b\b\b\b\b\b\b\b\b\b\b\b\b\b\b\b\b\b\b\b\b\b\b\b\b\b\b\b\b\b\b\b\b\r",
        "20000/20000 [==============================] - 0s     "
       ]
      },
      {
       "output_type": "stream",
       "stream": "stdout",
       "text": [
        "\n",
        "Train on 80000 samples, validate on 20000 samples\n",
        "Epoch 1/160\n",
        "0s - loss: 1.6783 - acc: 0.2490 - val_loss: 1.6690 - val_acc: 0.2524\n"
       ]
      },
      {
       "output_type": "stream",
       "stream": "stdout",
       "text": [
        "Epoch 2/160\n",
        "0s - loss: 1.6684 - acc: 0.2490 - val_loss: 1.6593 - val_acc: 0.2524\n"
       ]
      },
      {
       "output_type": "stream",
       "stream": "stdout",
       "text": [
        "Epoch 3/160\n",
        "0s - loss: 1.6587 - acc: 0.2490 - val_loss: 1.6498 - val_acc: 0.2524\n"
       ]
      },
      {
       "output_type": "stream",
       "stream": "stdout",
       "text": [
        "Epoch 4/160\n",
        "0s - loss: 1.6492 - acc: 0.2490 - val_loss: 1.6404 - val_acc: 0.2524\n"
       ]
      },
      {
       "output_type": "stream",
       "stream": "stdout",
       "text": [
        "Epoch 5/160\n",
        "0s - loss: 1.6398 - acc: 0.2490 - val_loss: 1.6312 - val_acc: 0.2524\n"
       ]
      },
      {
       "output_type": "stream",
       "stream": "stdout",
       "text": [
        "Epoch 6/160\n",
        "0s - loss: 1.6306 - acc: 0.2490 - val_loss: 1.6222 - val_acc: 0.2524\n"
       ]
      },
      {
       "output_type": "stream",
       "stream": "stdout",
       "text": [
        "Epoch 7/160\n",
        "0s - loss: 1.6216 - acc: 0.2490 - val_loss: 1.6134 - val_acc: 0.2524\n"
       ]
      },
      {
       "output_type": "stream",
       "stream": "stdout",
       "text": [
        "Epoch 8/160\n",
        "0s - loss: 1.6128 - acc: 0.2490 - val_loss: 1.6048 - val_acc: 0.2524\n"
       ]
      },
      {
       "output_type": "stream",
       "stream": "stdout",
       "text": [
        "Epoch 9/160\n",
        "0s - loss: 1.6042 - acc: 0.2490 - val_loss: 1.5963 - val_acc: 0.2524\n"
       ]
      },
      {
       "output_type": "stream",
       "stream": "stdout",
       "text": [
        "Epoch 10/160\n",
        "0s - loss: 1.5957 - acc: 0.2490 - val_loss: 1.5881 - val_acc: 0.2524\n"
       ]
      },
      {
       "output_type": "stream",
       "stream": "stdout",
       "text": [
        "Epoch 11/160\n",
        "0s - loss: 1.5875 - acc: 0.2490 - val_loss: 1.5800 - val_acc: 0.2524\n"
       ]
      },
      {
       "output_type": "stream",
       "stream": "stdout",
       "text": [
        "Epoch 12/160\n",
        "0s - loss: 1.5794 - acc: 0.2490 - val_loss: 1.5721 - val_acc: 0.2524\n"
       ]
      },
      {
       "output_type": "stream",
       "stream": "stdout",
       "text": [
        "Epoch 13/160\n",
        "0s - loss: 1.5716 - acc: 0.2490 - val_loss: 1.5644 - val_acc: 0.2524\n"
       ]
      },
      {
       "output_type": "stream",
       "stream": "stdout",
       "text": [
        "Epoch 14/160\n",
        "0s - loss: 1.5639 - acc: 0.2490 - val_loss: 1.5569 - val_acc: 0.2524\n"
       ]
      },
      {
       "output_type": "stream",
       "stream": "stdout",
       "text": [
        "Epoch 15/160\n",
        "0s - loss: 1.5565 - acc: 0.2490 - val_loss: 1.5497 - val_acc: 0.2524\n"
       ]
      },
      {
       "output_type": "stream",
       "stream": "stdout",
       "text": [
        "Epoch 16/160\n",
        "0s - loss: 1.5492 - acc: 0.2490 - val_loss: 1.5426 - val_acc: 0.2524\n"
       ]
      },
      {
       "output_type": "stream",
       "stream": "stdout",
       "text": [
        "Epoch 17/160\n",
        "0s - loss: 1.5421 - acc: 0.2490 - val_loss: 1.5357 - val_acc: 0.2524\n"
       ]
      },
      {
       "output_type": "stream",
       "stream": "stdout",
       "text": [
        "Epoch 18/160\n",
        "0s - loss: 1.5352 - acc: 0.2490 - val_loss: 1.5290 - val_acc: 0.2524\n"
       ]
      },
      {
       "output_type": "stream",
       "stream": "stdout",
       "text": [
        "Epoch 19/160\n",
        "0s - loss: 1.5286 - acc: 0.2490 - val_loss: 1.5225 - val_acc: 0.2524\n"
       ]
      },
      {
       "output_type": "stream",
       "stream": "stdout",
       "text": [
        "Epoch 20/160\n",
        "0s - loss: 1.5221 - acc: 0.2490 - val_loss: 1.5162 - val_acc: 0.2524\n"
       ]
      },
      {
       "output_type": "stream",
       "stream": "stdout",
       "text": [
        "Epoch 21/160\n",
        "0s - loss: 1.5158 - acc: 0.2490 - val_loss: 1.5101 - val_acc: 0.2524\n"
       ]
      },
      {
       "output_type": "stream",
       "stream": "stdout",
       "text": [
        "Epoch 22/160\n",
        "0s - loss: 1.5098 - acc: 0.2490 - val_loss: 1.5042 - val_acc: 0.2524\n"
       ]
      },
      {
       "output_type": "stream",
       "stream": "stdout",
       "text": [
        "Epoch 23/160\n",
        "0s - loss: 1.5039 - acc: 0.2490 - val_loss: 1.4985 - val_acc: 0.2524\n"
       ]
      },
      {
       "output_type": "stream",
       "stream": "stdout",
       "text": [
        "Epoch 24/160\n",
        "0s - loss: 1.4982 - acc: 0.2490 - val_loss: 1.4930 - val_acc: 0.2524\n"
       ]
      },
      {
       "output_type": "stream",
       "stream": "stdout",
       "text": [
        "Epoch 25/160\n",
        "0s - loss: 1.4928 - acc: 0.2490 - val_loss: 1.4877 - val_acc: 0.2524\n"
       ]
      },
      {
       "output_type": "stream",
       "stream": "stdout",
       "text": [
        "Epoch 26/160\n",
        "0s - loss: 1.4875 - acc: 0.2490 - val_loss: 1.4826 - val_acc: 0.2524\n"
       ]
      },
      {
       "output_type": "stream",
       "stream": "stdout",
       "text": [
        "Epoch 27/160\n",
        "0s - loss: 1.4824 - acc: 0.2490 - val_loss: 1.4777 - val_acc: 0.2524\n"
       ]
      },
      {
       "output_type": "stream",
       "stream": "stdout",
       "text": [
        "Epoch 28/160\n",
        "0s - loss: 1.4775 - acc: 0.2490 - val_loss: 1.4729 - val_acc: 0.2524\n"
       ]
      },
      {
       "output_type": "stream",
       "stream": "stdout",
       "text": [
        "Epoch 29/160\n",
        "0s - loss: 1.4728 - acc: 0.2490 - val_loss: 1.4684 - val_acc: 0.2524\n"
       ]
      },
      {
       "output_type": "stream",
       "stream": "stdout",
       "text": [
        "Epoch 30/160\n",
        "0s - loss: 1.4683 - acc: 0.2490 - val_loss: 1.4640 - val_acc: 0.2524\n"
       ]
      },
      {
       "output_type": "stream",
       "stream": "stdout",
       "text": [
        "Epoch 31/160\n",
        "0s - loss: 1.4639 - acc: 0.2490 - val_loss: 1.4598 - val_acc: 0.2524\n"
       ]
      },
      {
       "output_type": "stream",
       "stream": "stdout",
       "text": [
        "Epoch 32/160\n",
        "0s - loss: 1.4597 - acc: 0.2490 - val_loss: 1.4558 - val_acc: 0.2524\n"
       ]
      },
      {
       "output_type": "stream",
       "stream": "stdout",
       "text": [
        "Epoch 33/160\n",
        "0s - loss: 1.4558 - acc: 0.2490 - val_loss: 1.4520 - val_acc: 0.2524\n"
       ]
      },
      {
       "output_type": "stream",
       "stream": "stdout",
       "text": [
        "Epoch 34/160\n",
        "0s - loss: 1.4519 - acc: 0.2490 - val_loss: 1.4483 - val_acc: 0.2524\n"
       ]
      },
      {
       "output_type": "stream",
       "stream": "stdout",
       "text": [
        "Epoch 35/160\n",
        "0s - loss: 1.4483 - acc: 0.2490 - val_loss: 1.4448 - val_acc: 0.2524\n"
       ]
      },
      {
       "output_type": "stream",
       "stream": "stdout",
       "text": [
        "Epoch 36/160\n",
        "0s - loss: 1.4448 - acc: 0.2490 - val_loss: 1.4414 - val_acc: 0.2524\n"
       ]
      },
      {
       "output_type": "stream",
       "stream": "stdout",
       "text": [
        "Epoch 37/160\n",
        "0s - loss: 1.4415 - acc: 0.2490 - val_loss: 1.4382 - val_acc: 0.2524\n"
       ]
      },
      {
       "output_type": "stream",
       "stream": "stdout",
       "text": [
        "Epoch 38/160\n",
        "0s - loss: 1.4383 - acc: 0.2490 - val_loss: 1.4352 - val_acc: 0.2524\n"
       ]
      },
      {
       "output_type": "stream",
       "stream": "stdout",
       "text": [
        "Epoch 39/160\n",
        "0s - loss: 1.4353 - acc: 0.2489 - val_loss: 1.4323 - val_acc: 0.2444\n"
       ]
      },
      {
       "output_type": "stream",
       "stream": "stdout",
       "text": [
        "Epoch 40/160\n",
        "0s - loss: 1.4324 - acc: 0.2437 - val_loss: 1.4295 - val_acc: 0.2444\n"
       ]
      },
      {
       "output_type": "stream",
       "stream": "stdout",
       "text": [
        "Epoch 41/160\n",
        "0s - loss: 1.4297 - acc: 0.2503 - val_loss: 1.4269 - val_acc: 0.2444\n"
       ]
      },
      {
       "output_type": "stream",
       "stream": "stdout",
       "text": [
        "Epoch 42/160\n",
        "0s - loss: 1.4271 - acc: 0.2503 - val_loss: 1.4245 - val_acc: 0.2444\n"
       ]
      },
      {
       "output_type": "stream",
       "stream": "stdout",
       "text": [
        "Epoch 43/160\n",
        "0s - loss: 1.4246 - acc: 0.2503 - val_loss: 1.4221 - val_acc: 0.2444\n"
       ]
      },
      {
       "output_type": "stream",
       "stream": "stdout",
       "text": [
        "Epoch 44/160\n",
        "0s - loss: 1.4223 - acc: 0.2503 - val_loss: 1.4199 - val_acc: 0.2444\n"
       ]
      },
      {
       "output_type": "stream",
       "stream": "stdout",
       "text": [
        "Epoch 45/160\n",
        "0s - loss: 1.4201 - acc: 0.2503 - val_loss: 1.4178 - val_acc: 0.2444\n"
       ]
      },
      {
       "output_type": "stream",
       "stream": "stdout",
       "text": [
        "Epoch 46/160\n",
        "0s - loss: 1.4180 - acc: 0.2503 - val_loss: 1.4158 - val_acc: 0.2444\n"
       ]
      },
      {
       "output_type": "stream",
       "stream": "stdout",
       "text": [
        "Epoch 47/160\n",
        "0s - loss: 1.4160 - acc: 0.2503 - val_loss: 1.4139 - val_acc: 0.2444\n"
       ]
      },
      {
       "output_type": "stream",
       "stream": "stdout",
       "text": [
        "Epoch 48/160\n",
        "0s - loss: 1.4141 - acc: 0.2503 - val_loss: 1.4121 - val_acc: 0.2444\n"
       ]
      },
      {
       "output_type": "stream",
       "stream": "stdout",
       "text": [
        "Epoch 49/160\n",
        "0s - loss: 1.4123 - acc: 0.2503 - val_loss: 1.4104 - val_acc: 0.2444\n"
       ]
      },
      {
       "output_type": "stream",
       "stream": "stdout",
       "text": [
        "Epoch 50/160\n",
        "0s - loss: 1.4107 - acc: 0.2503 - val_loss: 1.4088 - val_acc: 0.2444\n"
       ]
      },
      {
       "output_type": "stream",
       "stream": "stdout",
       "text": [
        "Epoch 51/160\n",
        "0s - loss: 1.4091 - acc: 0.2503 - val_loss: 1.4074 - val_acc: 0.2444\n"
       ]
      },
      {
       "output_type": "stream",
       "stream": "stdout",
       "text": [
        "Epoch 52/160\n",
        "0s - loss: 1.4076 - acc: 0.2503 - val_loss: 1.4060 - val_acc: 0.2444\n"
       ]
      },
      {
       "output_type": "stream",
       "stream": "stdout",
       "text": [
        "Epoch 53/160\n",
        "0s - loss: 1.4062 - acc: 0.2503 - val_loss: 1.4046 - val_acc: 0.2444\n"
       ]
      },
      {
       "output_type": "stream",
       "stream": "stdout",
       "text": [
        "Epoch 54/160\n",
        "0s - loss: 1.4049 - acc: 0.2503 - val_loss: 1.4034 - val_acc: 0.2444\n"
       ]
      },
      {
       "output_type": "stream",
       "stream": "stdout",
       "text": [
        "Epoch 55/160\n",
        "0s - loss: 1.4037 - acc: 0.2503 - val_loss: 1.4022 - val_acc: 0.2444\n"
       ]
      },
      {
       "output_type": "stream",
       "stream": "stdout",
       "text": [
        "Epoch 56/160\n",
        "0s - loss: 1.4025 - acc: 0.2503 - val_loss: 1.4011 - val_acc: 0.2444\n"
       ]
      },
      {
       "output_type": "stream",
       "stream": "stdout",
       "text": [
        "Epoch 57/160\n",
        "0s - loss: 1.4014 - acc: 0.2503 - val_loss: 1.4001 - val_acc: 0.2444\n"
       ]
      },
      {
       "output_type": "stream",
       "stream": "stdout",
       "text": [
        "Epoch 58/160\n",
        "0s - loss: 1.4004 - acc: 0.2503 - val_loss: 1.3992 - val_acc: 0.2444\n"
       ]
      },
      {
       "output_type": "stream",
       "stream": "stdout",
       "text": [
        "Epoch 59/160\n",
        "0s - loss: 1.3995 - acc: 0.2503 - val_loss: 1.3983 - val_acc: 0.2444\n"
       ]
      },
      {
       "output_type": "stream",
       "stream": "stdout",
       "text": [
        "Epoch 60/160\n",
        "0s - loss: 1.3986 - acc: 0.2503 - val_loss: 1.3974 - val_acc: 0.2444\n"
       ]
      },
      {
       "output_type": "stream",
       "stream": "stdout",
       "text": [
        "Epoch 61/160\n",
        "0s - loss: 1.3977 - acc: 0.2503 - val_loss: 1.3966 - val_acc: 0.2444\n"
       ]
      },
      {
       "output_type": "stream",
       "stream": "stdout",
       "text": [
        "Epoch 62/160\n",
        "0s - loss: 1.3969 - acc: 0.2503 - val_loss: 1.3959 - val_acc: 0.2444\n"
       ]
      },
      {
       "output_type": "stream",
       "stream": "stdout",
       "text": [
        "Epoch 63/160\n",
        "0s - loss: 1.3962 - acc: 0.2503 - val_loss: 1.3952 - val_acc: 0.2444\n"
       ]
      },
      {
       "output_type": "stream",
       "stream": "stdout",
       "text": [
        "Epoch 64/160\n",
        "0s - loss: 1.3955 - acc: 0.2503 - val_loss: 1.3946 - val_acc: 0.2444\n"
       ]
      },
      {
       "output_type": "stream",
       "stream": "stdout",
       "text": [
        "Epoch 65/160\n",
        "0s - loss: 1.3949 - acc: 0.2503 - val_loss: 1.3940 - val_acc: 0.2444\n"
       ]
      },
      {
       "output_type": "stream",
       "stream": "stdout",
       "text": [
        "Epoch 66/160\n",
        "0s - loss: 1.3943 - acc: 0.2503 - val_loss: 1.3934 - val_acc: 0.2444\n"
       ]
      },
      {
       "output_type": "stream",
       "stream": "stdout",
       "text": [
        "Epoch 67/160\n",
        "0s - loss: 1.3937 - acc: 0.2503 - val_loss: 1.3929 - val_acc: 0.2444\n"
       ]
      },
      {
       "output_type": "stream",
       "stream": "stdout",
       "text": [
        "Epoch 68/160\n",
        "0s - loss: 1.3932 - acc: 0.2503 - val_loss: 1.3924 - val_acc: 0.2444\n"
       ]
      },
      {
       "output_type": "stream",
       "stream": "stdout",
       "text": [
        "Epoch 69/160\n",
        "0s - loss: 1.3927 - acc: 0.2503 - val_loss: 1.3920 - val_acc: 0.2444\n"
       ]
      },
      {
       "output_type": "stream",
       "stream": "stdout",
       "text": [
        "Epoch 70/160\n",
        "0s - loss: 1.3922 - acc: 0.2503 - val_loss: 1.3915 - val_acc: 0.2444\n"
       ]
      },
      {
       "output_type": "stream",
       "stream": "stdout",
       "text": [
        "Epoch 71/160\n",
        "0s - loss: 1.3918 - acc: 0.2503 - val_loss: 1.3911 - val_acc: 0.2444\n"
       ]
      },
      {
       "output_type": "stream",
       "stream": "stdout",
       "text": [
        "Epoch 72/160\n",
        "0s - loss: 1.3914 - acc: 0.2503 - val_loss: 1.3908 - val_acc: 0.2444\n"
       ]
      },
      {
       "output_type": "stream",
       "stream": "stdout",
       "text": [
        "Epoch 73/160\n",
        "0s - loss: 1.3910 - acc: 0.2503 - val_loss: 1.3904 - val_acc: 0.2444\n"
       ]
      },
      {
       "output_type": "stream",
       "stream": "stdout",
       "text": [
        "Epoch 74/160\n",
        "0s - loss: 1.3907 - acc: 0.2503 - val_loss: 1.3901 - val_acc: 0.2444\n"
       ]
      },
      {
       "output_type": "stream",
       "stream": "stdout",
       "text": [
        "Epoch 75/160\n",
        "0s - loss: 1.3904 - acc: 0.2503 - val_loss: 1.3898 - val_acc: 0.2444\n"
       ]
      },
      {
       "output_type": "stream",
       "stream": "stdout",
       "text": [
        "Epoch 76/160\n",
        "0s - loss: 1.3901 - acc: 0.2503 - val_loss: 1.3896 - val_acc: 0.2444\n"
       ]
      },
      {
       "output_type": "stream",
       "stream": "stdout",
       "text": [
        "Epoch 77/160\n",
        "0s - loss: 1.3898 - acc: 0.2503 - val_loss: 1.3893 - val_acc: 0.2444\n"
       ]
      },
      {
       "output_type": "stream",
       "stream": "stdout",
       "text": [
        "Epoch 78/160\n",
        "0s - loss: 1.3895 - acc: 0.2503 - val_loss: 1.3891 - val_acc: 0.2444\n"
       ]
      },
      {
       "output_type": "stream",
       "stream": "stdout",
       "text": [
        "Epoch 79/160\n",
        "0s - loss: 1.3893 - acc: 0.2503 - val_loss: 1.3889 - val_acc: 0.2444\n"
       ]
      },
      {
       "output_type": "stream",
       "stream": "stdout",
       "text": [
        "Epoch 80/160\n",
        "0s - loss: 1.3891 - acc: 0.2503 - val_loss: 1.3887 - val_acc: 0.2444\n"
       ]
      },
      {
       "output_type": "stream",
       "stream": "stdout",
       "text": [
        "Epoch 81/160\n",
        "0s - loss: 1.3889 - acc: 0.2503 - val_loss: 1.3885 - val_acc: 0.2444\n"
       ]
      },
      {
       "output_type": "stream",
       "stream": "stdout",
       "text": [
        "Epoch 82/160\n",
        "0s - loss: 1.3887 - acc: 0.2503 - val_loss: 1.3883 - val_acc: 0.2444\n"
       ]
      },
      {
       "output_type": "stream",
       "stream": "stdout",
       "text": [
        "Epoch 83/160\n",
        "0s - loss: 1.3885 - acc: 0.2503 - val_loss: 1.3881 - val_acc: 0.2444\n"
       ]
      },
      {
       "output_type": "stream",
       "stream": "stdout",
       "text": [
        "Epoch 84/160\n",
        "0s - loss: 1.3883 - acc: 0.2503 - val_loss: 1.3880 - val_acc: 0.2444\n"
       ]
      },
      {
       "output_type": "stream",
       "stream": "stdout",
       "text": [
        "Epoch 85/160\n",
        "0s - loss: 1.3882 - acc: 0.2503 - val_loss: 1.3879 - val_acc: 0.2444\n"
       ]
      },
      {
       "output_type": "stream",
       "stream": "stdout",
       "text": [
        "Epoch 86/160\n",
        "0s - loss: 1.3880 - acc: 0.2503 - val_loss: 1.3877 - val_acc: 0.2444\n"
       ]
      },
      {
       "output_type": "stream",
       "stream": "stdout",
       "text": [
        "Epoch 87/160\n",
        "0s - loss: 1.3879 - acc: 0.2503 - val_loss: 1.3876 - val_acc: 0.2444\n"
       ]
      },
      {
       "output_type": "stream",
       "stream": "stdout",
       "text": [
        "Epoch 88/160\n",
        "0s - loss: 1.3878 - acc: 0.2503 - val_loss: 1.3875 - val_acc: 0.2444\n"
       ]
      },
      {
       "output_type": "stream",
       "stream": "stdout",
       "text": [
        "Epoch 89/160\n",
        "0s - loss: 1.3877 - acc: 0.2503 - val_loss: 1.3874 - val_acc: 0.2444\n"
       ]
      },
      {
       "output_type": "stream",
       "stream": "stdout",
       "text": [
        "Epoch 90/160\n",
        "0s - loss: 1.3876 - acc: 0.2503 - val_loss: 1.3873 - val_acc: 0.2444\n"
       ]
      },
      {
       "output_type": "stream",
       "stream": "stdout",
       "text": [
        "Epoch 91/160\n",
        "0s - loss: 1.3875 - acc: 0.2503 - val_loss: 1.3872 - val_acc: 0.2444\n"
       ]
      },
      {
       "output_type": "stream",
       "stream": "stdout",
       "text": [
        "Epoch 92/160\n",
        "0s - loss: 1.3874 - acc: 0.2503 - val_loss: 1.3872 - val_acc: 0.2444\n"
       ]
      },
      {
       "output_type": "stream",
       "stream": "stdout",
       "text": [
        "Epoch 93/160\n",
        "0s - loss: 1.3873 - acc: 0.2503 - val_loss: 1.3871 - val_acc: 0.2444\n"
       ]
      },
      {
       "output_type": "stream",
       "stream": "stdout",
       "text": [
        "Epoch 94/160\n",
        "0s - loss: 1.3872 - acc: 0.2503 - val_loss: 1.3870 - val_acc: 0.2444\n"
       ]
      },
      {
       "output_type": "stream",
       "stream": "stdout",
       "text": [
        "Epoch 95/160\n",
        "0s - loss: 1.3872 - acc: 0.2503 - val_loss: 1.3870 - val_acc: 0.2444\n"
       ]
      },
      {
       "output_type": "stream",
       "stream": "stdout",
       "text": [
        "Epoch 96/160\n",
        "0s - loss: 1.3871 - acc: 0.2503 - val_loss: 1.3869 - val_acc: 0.2444\n"
       ]
      },
      {
       "output_type": "stream",
       "stream": "stdout",
       "text": [
        "Epoch 97/160\n",
        "0s - loss: 1.3870 - acc: 0.2503 - val_loss: 1.3869 - val_acc: 0.2444\n"
       ]
      },
      {
       "output_type": "stream",
       "stream": "stdout",
       "text": [
        "Epoch 98/160\n",
        "0s - loss: 1.3870 - acc: 0.2503 - val_loss: 1.3868 - val_acc: 0.2444\n"
       ]
      },
      {
       "output_type": "stream",
       "stream": "stdout",
       "text": [
        "Epoch 99/160\n",
        "0s - loss: 1.3869 - acc: 0.2503 - val_loss: 1.3868 - val_acc: 0.2444\n"
       ]
      },
      {
       "output_type": "stream",
       "stream": "stdout",
       "text": [
        "Epoch 100/160\n",
        "0s - loss: 1.3869 - acc: 0.2503 - val_loss: 1.3867 - val_acc: 0.2444\n"
       ]
      },
      {
       "output_type": "stream",
       "stream": "stdout",
       "text": [
        "Epoch 101/160\n",
        "0s - loss: 1.3868 - acc: 0.2503 - val_loss: 1.3867 - val_acc: 0.2444\n"
       ]
      },
      {
       "output_type": "stream",
       "stream": "stdout",
       "text": [
        "Epoch 102/160\n",
        "0s - loss: 1.3868 - acc: 0.2503 - val_loss: 1.3867 - val_acc: 0.2444\n"
       ]
      },
      {
       "output_type": "stream",
       "stream": "stdout",
       "text": [
        "Epoch 103/160\n",
        "0s - loss: 1.3868 - acc: 0.2503 - val_loss: 1.3866 - val_acc: 0.2444\n"
       ]
      },
      {
       "output_type": "stream",
       "stream": "stdout",
       "text": [
        "Epoch 104/160\n",
        "0s - loss: 1.3867 - acc: 0.2503 - val_loss: 1.3866 - val_acc: 0.2444\n"
       ]
      },
      {
       "output_type": "stream",
       "stream": "stdout",
       "text": [
        "Epoch 105/160\n",
        "0s - loss: 1.3867 - acc: 0.2503 - val_loss: 1.3866 - val_acc: 0.2444\n"
       ]
      },
      {
       "output_type": "stream",
       "stream": "stdout",
       "text": [
        "Epoch 106/160\n",
        "0s - loss: 1.3867 - acc: 0.2503 - val_loss: 1.3865 - val_acc: 0.2444\n"
       ]
      },
      {
       "output_type": "stream",
       "stream": "stdout",
       "text": [
        "Epoch 107/160\n",
        "0s - loss: 1.3866 - acc: 0.2503 - val_loss: 1.3865 - val_acc: 0.2444\n"
       ]
      },
      {
       "output_type": "stream",
       "stream": "stdout",
       "text": [
        "Epoch 108/160\n",
        "0s - loss: 1.3866 - acc: 0.2503 - val_loss: 1.3865 - val_acc: 0.2444\n"
       ]
      },
      {
       "output_type": "stream",
       "stream": "stdout",
       "text": [
        "Epoch 109/160\n",
        "0s - loss: 1.3866 - acc: 0.2503 - val_loss: 1.3865 - val_acc: 0.2444\n"
       ]
      },
      {
       "output_type": "stream",
       "stream": "stdout",
       "text": [
        "Epoch 110/160\n",
        "0s - loss: 1.3866 - acc: 0.2503 - val_loss: 1.3865 - val_acc: 0.2444\n"
       ]
      },
      {
       "output_type": "stream",
       "stream": "stdout",
       "text": [
        "Epoch 111/160\n",
        "0s - loss: 1.3865 - acc: 0.2503 - val_loss: 1.3864 - val_acc: 0.2444\n"
       ]
      },
      {
       "output_type": "stream",
       "stream": "stdout",
       "text": [
        "Epoch 112/160\n",
        "0s - loss: 1.3865 - acc: 0.2503 - val_loss: 1.3864 - val_acc: 0.2444\n"
       ]
      },
      {
       "output_type": "stream",
       "stream": "stdout",
       "text": [
        "Epoch 113/160\n",
        "0s - loss: 1.3865 - acc: 0.2503 - val_loss: 1.3864 - val_acc: 0.2444\n"
       ]
      },
      {
       "output_type": "stream",
       "stream": "stdout",
       "text": [
        "Epoch 114/160\n",
        "0s - loss: 1.3865 - acc: 0.2503 - val_loss: 1.3864 - val_acc: 0.2444\n"
       ]
      },
      {
       "output_type": "stream",
       "stream": "stdout",
       "text": [
        "Epoch 115/160\n",
        "0s - loss: 1.3865 - acc: 0.2503 - val_loss: 1.3864 - val_acc: 0.2444\n"
       ]
      },
      {
       "output_type": "stream",
       "stream": "stdout",
       "text": [
        "Epoch 116/160\n",
        "0s - loss: 1.3865 - acc: 0.2503 - val_loss: 1.3864 - val_acc: 0.2444\n"
       ]
      },
      {
       "output_type": "stream",
       "stream": "stdout",
       "text": [
        "Epoch 117/160\n",
        "0s - loss: 1.3864 - acc: 0.2503 - val_loss: 1.3864 - val_acc: 0.2444\n"
       ]
      },
      {
       "output_type": "stream",
       "stream": "stdout",
       "text": [
        "Epoch 118/160\n",
        "0s - loss: 1.3864 - acc: 0.2503 - val_loss: 1.3864 - val_acc: 0.2444\n"
       ]
      },
      {
       "output_type": "stream",
       "stream": "stdout",
       "text": [
        "Epoch 119/160\n",
        "0s - loss: 1.3864 - acc: 0.2503 - val_loss: 1.3864 - val_acc: 0.2444\n"
       ]
      },
      {
       "output_type": "stream",
       "stream": "stdout",
       "text": [
        "Epoch 120/160\n",
        "0s - loss: 1.3864 - acc: 0.2503 - val_loss: 1.3864 - val_acc: 0.2444\n"
       ]
      },
      {
       "output_type": "stream",
       "stream": "stdout",
       "text": [
        "Epoch 121/160\n",
        "0s - loss: 1.3864 - acc: 0.2503 - val_loss: 1.3864 - val_acc: 0.2444\n"
       ]
      },
      {
       "output_type": "stream",
       "stream": "stdout",
       "text": [
        "Epoch 122/160\n",
        "0s - loss: 1.3864 - acc: 0.2503 - val_loss: 1.3863 - val_acc: 0.2444\n"
       ]
      },
      {
       "output_type": "stream",
       "stream": "stdout",
       "text": [
        "Epoch 123/160\n",
        "0s - loss: 1.3864 - acc: 0.2503 - val_loss: 1.3863 - val_acc: 0.2444\n"
       ]
      },
      {
       "output_type": "stream",
       "stream": "stdout",
       "text": [
        "Epoch 124/160\n",
        "0s - loss: 1.3864 - acc: 0.2503 - val_loss: 1.3863 - val_acc: 0.2444\n"
       ]
      },
      {
       "output_type": "stream",
       "stream": "stdout",
       "text": [
        "Epoch 125/160\n",
        "0s - loss: 1.3864 - acc: 0.2503 - val_loss: 1.3863 - val_acc: 0.2444\n"
       ]
      },
      {
       "output_type": "stream",
       "stream": "stdout",
       "text": [
        "Epoch 126/160\n",
        "0s - loss: 1.3864 - acc: 0.2503 - val_loss: 1.3863 - val_acc: 0.2444\n"
       ]
      },
      {
       "output_type": "stream",
       "stream": "stdout",
       "text": [
        "Epoch 127/160\n",
        "0s - loss: 1.3864 - acc: 0.2503 - val_loss: 1.3863 - val_acc: 0.2444\n"
       ]
      },
      {
       "output_type": "stream",
       "stream": "stdout",
       "text": [
        "Epoch 128/160\n",
        "0s - loss: 1.3864 - acc: 0.2503 - val_loss: 1.3863 - val_acc: 0.2444\n"
       ]
      },
      {
       "output_type": "stream",
       "stream": "stdout",
       "text": [
        "Epoch 129/160\n",
        "0s - loss: 1.3863 - acc: 0.2503 - val_loss: 1.3863 - val_acc: 0.2444\n"
       ]
      },
      {
       "output_type": "stream",
       "stream": "stdout",
       "text": [
        "Epoch 130/160\n",
        "0s - loss: 1.3863 - acc: 0.2503 - val_loss: 1.3863 - val_acc: 0.2444\n"
       ]
      },
      {
       "output_type": "stream",
       "stream": "stdout",
       "text": [
        "Epoch 131/160\n",
        "0s - loss: 1.3863 - acc: 0.2503 - val_loss: 1.3863 - val_acc: 0.2444\n"
       ]
      },
      {
       "output_type": "stream",
       "stream": "stdout",
       "text": [
        "Epoch 132/160\n",
        "0s - loss: 1.3863 - acc: 0.2503 - val_loss: 1.3863 - val_acc: 0.2444\n"
       ]
      },
      {
       "output_type": "stream",
       "stream": "stdout",
       "text": [
        "Epoch 133/160\n",
        "0s - loss: 1.3863 - acc: 0.2503 - val_loss: 1.3863 - val_acc: 0.2444\n"
       ]
      },
      {
       "output_type": "stream",
       "stream": "stdout",
       "text": [
        "Epoch 134/160\n",
        "0s - loss: 1.3863 - acc: 0.2503 - val_loss: 1.3863 - val_acc: 0.2444\n"
       ]
      },
      {
       "output_type": "stream",
       "stream": "stdout",
       "text": [
        "Epoch 135/160\n",
        "0s - loss: 1.3863 - acc: 0.2503 - val_loss: 1.3863 - val_acc: 0.2444\n"
       ]
      },
      {
       "output_type": "stream",
       "stream": "stdout",
       "text": [
        "Epoch 136/160\n",
        "0s - loss: 1.3863 - acc: 0.2503 - val_loss: 1.3863 - val_acc: 0.2444\n"
       ]
      },
      {
       "output_type": "stream",
       "stream": "stdout",
       "text": [
        "Epoch 137/160\n",
        "0s - loss: 1.3863 - acc: 0.2503 - val_loss: 1.3863 - val_acc: 0.2444\n"
       ]
      },
      {
       "output_type": "stream",
       "stream": "stdout",
       "text": [
        "Epoch 138/160\n",
        "0s - loss: 1.3863 - acc: 0.2503 - val_loss: 1.3863 - val_acc: 0.2444\n"
       ]
      },
      {
       "output_type": "stream",
       "stream": "stdout",
       "text": [
        "Epoch 139/160\n",
        "0s - loss: 1.3863 - acc: 0.2503 - val_loss: 1.3863 - val_acc: 0.2444\n"
       ]
      },
      {
       "output_type": "stream",
       "stream": "stdout",
       "text": [
        "Epoch 140/160\n",
        "0s - loss: 1.3863 - acc: 0.2503 - val_loss: 1.3863 - val_acc: 0.2444\n"
       ]
      },
      {
       "output_type": "stream",
       "stream": "stdout",
       "text": [
        "Epoch 141/160\n",
        "0s - loss: 1.3863 - acc: 0.2503 - val_loss: 1.3863 - val_acc: 0.2444\n"
       ]
      },
      {
       "output_type": "stream",
       "stream": "stdout",
       "text": [
        "Epoch 142/160\n",
        "0s - loss: 1.3863 - acc: 0.2503 - val_loss: 1.3863 - val_acc: 0.2444\n"
       ]
      },
      {
       "output_type": "stream",
       "stream": "stdout",
       "text": [
        "Epoch 143/160\n",
        "0s - loss: 1.3863 - acc: 0.2503 - val_loss: 1.3863 - val_acc: 0.2444\n"
       ]
      },
      {
       "output_type": "stream",
       "stream": "stdout",
       "text": [
        "Epoch 144/160\n",
        "0s - loss: 1.3863 - acc: 0.2503 - val_loss: 1.3863 - val_acc: 0.2444\n"
       ]
      },
      {
       "output_type": "stream",
       "stream": "stdout",
       "text": [
        "Epoch 145/160\n",
        "0s - loss: 1.3863 - acc: 0.2503 - val_loss: 1.3863 - val_acc: 0.2444\n"
       ]
      },
      {
       "output_type": "stream",
       "stream": "stdout",
       "text": [
        "Epoch 146/160\n",
        "0s - loss: 1.3863 - acc: 0.2503 - val_loss: 1.3863 - val_acc: 0.2444\n"
       ]
      },
      {
       "output_type": "stream",
       "stream": "stdout",
       "text": [
        "Epoch 147/160\n",
        "0s - loss: 1.3863 - acc: 0.2503 - val_loss: 1.3863 - val_acc: 0.2444\n"
       ]
      },
      {
       "output_type": "stream",
       "stream": "stdout",
       "text": [
        "Epoch 148/160\n",
        "0s - loss: 1.3863 - acc: 0.2503 - val_loss: 1.3863 - val_acc: 0.2444\n"
       ]
      },
      {
       "output_type": "stream",
       "stream": "stdout",
       "text": [
        "Epoch 149/160\n",
        "0s - loss: 1.3863 - acc: 0.2503 - val_loss: 1.3863 - val_acc: 0.2444\n"
       ]
      },
      {
       "output_type": "stream",
       "stream": "stdout",
       "text": [
        "Epoch 150/160\n",
        "0s - loss: 1.3863 - acc: 0.2503 - val_loss: 1.3863 - val_acc: 0.2444\n"
       ]
      },
      {
       "output_type": "stream",
       "stream": "stdout",
       "text": [
        "Epoch 151/160\n",
        "0s - loss: 1.3863 - acc: 0.2503 - val_loss: 1.3863 - val_acc: 0.2444\n"
       ]
      },
      {
       "output_type": "stream",
       "stream": "stdout",
       "text": [
        "Epoch 152/160\n",
        "0s - loss: 1.3863 - acc: 0.2503 - val_loss: 1.3863 - val_acc: 0.2444\n"
       ]
      },
      {
       "output_type": "stream",
       "stream": "stdout",
       "text": [
        "Epoch 153/160\n",
        "0s - loss: 1.3863 - acc: 0.2503 - val_loss: 1.3863 - val_acc: 0.2444\n"
       ]
      },
      {
       "output_type": "stream",
       "stream": "stdout",
       "text": [
        "Epoch 154/160\n",
        "0s - loss: 1.3863 - acc: 0.2503 - val_loss: 1.3863 - val_acc: 0.2444\n"
       ]
      },
      {
       "output_type": "stream",
       "stream": "stdout",
       "text": [
        "Epoch 155/160\n",
        "0s - loss: 1.3863 - acc: 0.2503 - val_loss: 1.3863 - val_acc: 0.2444\n"
       ]
      },
      {
       "output_type": "stream",
       "stream": "stdout",
       "text": [
        "Epoch 156/160\n",
        "0s - loss: 1.3863 - acc: 0.2503 - val_loss: 1.3863 - val_acc: 0.2444\n"
       ]
      },
      {
       "output_type": "stream",
       "stream": "stdout",
       "text": [
        "Epoch 157/160\n",
        "0s - loss: 1.3863 - acc: 0.2503 - val_loss: 1.3863 - val_acc: 0.2444\n"
       ]
      },
      {
       "output_type": "stream",
       "stream": "stdout",
       "text": [
        "Epoch 158/160\n",
        "0s - loss: 1.3863 - acc: 0.2503 - val_loss: 1.3863 - val_acc: 0.2444\n"
       ]
      },
      {
       "output_type": "stream",
       "stream": "stdout",
       "text": [
        "Epoch 159/160\n",
        "0s - loss: 1.3863 - acc: 0.2503 - val_loss: 1.3863 - val_acc: 0.2444\n"
       ]
      },
      {
       "output_type": "stream",
       "stream": "stdout",
       "text": [
        "Epoch 160/160\n",
        "0s - loss: 1.3863 - acc: 0.2503 - val_loss: 1.3863 - val_acc: 0.2444\n"
       ]
      },
      {
       "output_type": "stream",
       "stream": "stdout",
       "text": [
        "\r",
        " 5000/20000 [======>.......................] - ETA: 0s"
       ]
      },
      {
       "output_type": "stream",
       "stream": "stdout",
       "text": [
        "\b\b\b\b\b\b\b\b\b\b\b\b\b\b\b\b\b\b\b\b\b\b\b\b\b\b\b\b\b\b\b\b\b\b\b\b\b\b\b\b\b\b\b\b\b\b\b\b\b\b\b\b\b\b\r",
        "20000/20000 [==============================] - 0s     "
       ]
      },
      {
       "output_type": "stream",
       "stream": "stdout",
       "text": [
        "\n",
        "\r",
        " 5000/20000 [======>.......................] - ETA: 0s"
       ]
      },
      {
       "output_type": "stream",
       "stream": "stdout",
       "text": [
        "\b\b\b\b\b\b\b\b\b\b\b\b\b\b\b\b\b\b\b\b\b\b\b\b\b\b\b\b\b\b\b\b\b\b\b\b\b\b\b\b\b\b\b\b\b\b\b\b\b\b\b\b\b\b\r",
        "20000/20000 [==============================] - 0s     "
       ]
      },
      {
       "output_type": "stream",
       "stream": "stdout",
       "text": [
        "\n",
        "Train on 80000 samples, validate on 20000 samples\n",
        "Epoch 1/170\n",
        "0s - loss: 1.0310 - acc: 0.2492 - val_loss: 1.0313 - val_acc: 0.2551\n"
       ]
      },
      {
       "output_type": "stream",
       "stream": "stdout",
       "text": [
        "Epoch 2/170\n",
        "0s - loss: 1.0239 - acc: 0.2492 - val_loss: 1.0244 - val_acc: 0.2551\n"
       ]
      },
      {
       "output_type": "stream",
       "stream": "stdout",
       "text": [
        "Epoch 3/170\n",
        "0s - loss: 1.0172 - acc: 0.2492 - val_loss: 1.0179 - val_acc: 0.2551\n"
       ]
      },
      {
       "output_type": "stream",
       "stream": "stdout",
       "text": [
        "Epoch 4/170\n",
        "0s - loss: 1.0109 - acc: 0.2492 - val_loss: 1.0118 - val_acc: 0.2551\n"
       ]
      },
      {
       "output_type": "stream",
       "stream": "stdout",
       "text": [
        "Epoch 5/170\n",
        "0s - loss: 1.0049 - acc: 0.2492 - val_loss: 1.0060 - val_acc: 0.2551\n"
       ]
      },
      {
       "output_type": "stream",
       "stream": "stdout",
       "text": [
        "Epoch 6/170\n",
        "0s - loss: 0.9993 - acc: 0.2492 - val_loss: 1.0005 - val_acc: 0.2551\n"
       ]
      },
      {
       "output_type": "stream",
       "stream": "stdout",
       "text": [
        "Epoch 7/170\n",
        "0s - loss: 0.9939 - acc: 0.2492 - val_loss: 0.9953 - val_acc: 0.2551\n"
       ]
      },
      {
       "output_type": "stream",
       "stream": "stdout",
       "text": [
        "Epoch 8/170\n",
        "0s - loss: 0.9889 - acc: 0.2492 - val_loss: 0.9903 - val_acc: 0.2551\n"
       ]
      },
      {
       "output_type": "stream",
       "stream": "stdout",
       "text": [
        "Epoch 9/170\n",
        "0s - loss: 0.9841 - acc: 0.2492 - val_loss: 0.9856 - val_acc: 0.2551\n"
       ]
      },
      {
       "output_type": "stream",
       "stream": "stdout",
       "text": [
        "Epoch 10/170\n",
        "0s - loss: 0.9795 - acc: 0.2481 - val_loss: 0.9812 - val_acc: 0.2515\n"
       ]
      },
      {
       "output_type": "stream",
       "stream": "stdout",
       "text": [
        "Epoch 11/170\n",
        "0s - loss: 0.9752 - acc: 0.2506 - val_loss: 0.9769 - val_acc: 0.2515\n"
       ]
      },
      {
       "output_type": "stream",
       "stream": "stdout",
       "text": [
        "Epoch 12/170\n",
        "0s - loss: 0.9711 - acc: 0.2514 - val_loss: 0.9729 - val_acc: 0.2515\n"
       ]
      },
      {
       "output_type": "stream",
       "stream": "stdout",
       "text": [
        "Epoch 13/170\n",
        "0s - loss: 0.9671 - acc: 0.2514 - val_loss: 0.9691 - val_acc: 0.2515\n"
       ]
      },
      {
       "output_type": "stream",
       "stream": "stdout",
       "text": [
        "Epoch 14/170\n",
        "0s - loss: 0.9634 - acc: 0.2514 - val_loss: 0.9654 - val_acc: 0.2515\n"
       ]
      },
      {
       "output_type": "stream",
       "stream": "stdout",
       "text": [
        "Epoch 15/170\n",
        "0s - loss: 0.9598 - acc: 0.2514 - val_loss: 0.9619 - val_acc: 0.2515\n"
       ]
      },
      {
       "output_type": "stream",
       "stream": "stdout",
       "text": [
        "Epoch 16/170\n",
        "0s - loss: 0.9564 - acc: 0.2514 - val_loss: 0.9585 - val_acc: 0.2515\n"
       ]
      },
      {
       "output_type": "stream",
       "stream": "stdout",
       "text": [
        "Epoch 17/170\n",
        "0s - loss: 0.9531 - acc: 0.2514 - val_loss: 0.9553 - val_acc: 0.2515\n"
       ]
      },
      {
       "output_type": "stream",
       "stream": "stdout",
       "text": [
        "Epoch 18/170\n",
        "0s - loss: 0.9500 - acc: 0.2514 - val_loss: 0.9523 - val_acc: 0.2515\n"
       ]
      },
      {
       "output_type": "stream",
       "stream": "stdout",
       "text": [
        "Epoch 19/170\n",
        "0s - loss: 0.9470 - acc: 0.2514 - val_loss: 0.9493 - val_acc: 0.2515\n"
       ]
      },
      {
       "output_type": "stream",
       "stream": "stdout",
       "text": [
        "Epoch 20/170\n",
        "0s - loss: 0.9441 - acc: 0.2514 - val_loss: 0.9465 - val_acc: 0.2515\n"
       ]
      },
      {
       "output_type": "stream",
       "stream": "stdout",
       "text": [
        "Epoch 21/170\n",
        "0s - loss: 0.9414 - acc: 0.2514 - val_loss: 0.9438 - val_acc: 0.2515\n"
       ]
      },
      {
       "output_type": "stream",
       "stream": "stdout",
       "text": [
        "Epoch 22/170\n",
        "0s - loss: 0.9387 - acc: 0.2514 - val_loss: 0.9412 - val_acc: 0.2515\n"
       ]
      },
      {
       "output_type": "stream",
       "stream": "stdout",
       "text": [
        "Epoch 23/170\n",
        "0s - loss: 0.9362 - acc: 0.2514 - val_loss: 0.9387 - val_acc: 0.2515\n"
       ]
      },
      {
       "output_type": "stream",
       "stream": "stdout",
       "text": [
        "Epoch 24/170\n",
        "0s - loss: 0.9338 - acc: 0.2514 - val_loss: 0.9363 - val_acc: 0.2515\n"
       ]
      },
      {
       "output_type": "stream",
       "stream": "stdout",
       "text": [
        "Epoch 25/170\n",
        "0s - loss: 0.9314 - acc: 0.2514 - val_loss: 0.9340 - val_acc: 0.2515\n"
       ]
      },
      {
       "output_type": "stream",
       "stream": "stdout",
       "text": [
        "Epoch 26/170\n",
        "0s - loss: 0.9292 - acc: 0.2514 - val_loss: 0.9318 - val_acc: 0.2515\n"
       ]
      },
      {
       "output_type": "stream",
       "stream": "stdout",
       "text": [
        "Epoch 27/170\n",
        "0s - loss: 0.9270 - acc: 0.2514 - val_loss: 0.9297 - val_acc: 0.2515\n"
       ]
      },
      {
       "output_type": "stream",
       "stream": "stdout",
       "text": [
        "Epoch 28/170\n",
        "0s - loss: 0.9249 - acc: 0.2514 - val_loss: 0.9276 - val_acc: 0.2515\n"
       ]
      },
      {
       "output_type": "stream",
       "stream": "stdout",
       "text": [
        "Epoch 29/170\n",
        "0s - loss: 0.9229 - acc: 0.2514 - val_loss: 0.9256 - val_acc: 0.2515\n"
       ]
      },
      {
       "output_type": "stream",
       "stream": "stdout",
       "text": [
        "Epoch 30/170\n",
        "0s - loss: 0.9210 - acc: 0.2514 - val_loss: 0.9237 - val_acc: 0.2515\n"
       ]
      },
      {
       "output_type": "stream",
       "stream": "stdout",
       "text": [
        "Epoch 31/170\n",
        "0s - loss: 0.9191 - acc: 0.2514 - val_loss: 0.9218 - val_acc: 0.2515\n"
       ]
      },
      {
       "output_type": "stream",
       "stream": "stdout",
       "text": [
        "Epoch 32/170\n",
        "0s - loss: 0.9173 - acc: 0.2514 - val_loss: 0.9201 - val_acc: 0.2515\n"
       ]
      },
      {
       "output_type": "stream",
       "stream": "stdout",
       "text": [
        "Epoch 33/170\n",
        "0s - loss: 0.9155 - acc: 0.2514 - val_loss: 0.9183 - val_acc: 0.2515\n"
       ]
      },
      {
       "output_type": "stream",
       "stream": "stdout",
       "text": [
        "Epoch 34/170\n",
        "0s - loss: 0.9138 - acc: 0.2514 - val_loss: 0.9167 - val_acc: 0.2515\n"
       ]
      },
      {
       "output_type": "stream",
       "stream": "stdout",
       "text": [
        "Epoch 35/170\n",
        "0s - loss: 0.9122 - acc: 0.2514 - val_loss: 0.9150 - val_acc: 0.2515\n"
       ]
      },
      {
       "output_type": "stream",
       "stream": "stdout",
       "text": [
        "Epoch 36/170\n",
        "0s - loss: 0.9106 - acc: 0.2514 - val_loss: 0.9135 - val_acc: 0.2515\n"
       ]
      },
      {
       "output_type": "stream",
       "stream": "stdout",
       "text": [
        "Epoch 37/170\n",
        "0s - loss: 0.9091 - acc: 0.2514 - val_loss: 0.9120 - val_acc: 0.2515\n"
       ]
      },
      {
       "output_type": "stream",
       "stream": "stdout",
       "text": [
        "Epoch 38/170\n",
        "0s - loss: 0.9076 - acc: 0.2514 - val_loss: 0.9105 - val_acc: 0.2515\n"
       ]
      },
      {
       "output_type": "stream",
       "stream": "stdout",
       "text": [
        "Epoch 39/170\n",
        "0s - loss: 0.9061 - acc: 0.2514 - val_loss: 0.9091 - val_acc: 0.2515\n"
       ]
      },
      {
       "output_type": "stream",
       "stream": "stdout",
       "text": [
        "Epoch 40/170\n",
        "0s - loss: 0.9047 - acc: 0.2514 - val_loss: 0.9077 - val_acc: 0.2515\n"
       ]
      },
      {
       "output_type": "stream",
       "stream": "stdout",
       "text": [
        "Epoch 41/170\n",
        "0s - loss: 0.9034 - acc: 0.2514 - val_loss: 0.9064 - val_acc: 0.2515\n"
       ]
      },
      {
       "output_type": "stream",
       "stream": "stdout",
       "text": [
        "Epoch 42/170\n",
        "0s - loss: 0.9021 - acc: 0.2514 - val_loss: 0.9051 - val_acc: 0.2515\n"
       ]
      },
      {
       "output_type": "stream",
       "stream": "stdout",
       "text": [
        "Epoch 43/170\n",
        "0s - loss: 0.9008 - acc: 0.2514 - val_loss: 0.9038 - val_acc: 0.2515\n"
       ]
      },
      {
       "output_type": "stream",
       "stream": "stdout",
       "text": [
        "Epoch 44/170\n",
        "0s - loss: 0.8996 - acc: 0.2514 - val_loss: 0.9026 - val_acc: 0.2515\n"
       ]
      },
      {
       "output_type": "stream",
       "stream": "stdout",
       "text": [
        "Epoch 45/170\n",
        "0s - loss: 0.8984 - acc: 0.2514 - val_loss: 0.9014 - val_acc: 0.2515\n"
       ]
      },
      {
       "output_type": "stream",
       "stream": "stdout",
       "text": [
        "Epoch 46/170\n",
        "0s - loss: 0.8972 - acc: 0.2514 - val_loss: 0.9002 - val_acc: 0.2515\n"
       ]
      },
      {
       "output_type": "stream",
       "stream": "stdout",
       "text": [
        "Epoch 47/170\n",
        "0s - loss: 0.8961 - acc: 0.2514 - val_loss: 0.8991 - val_acc: 0.2515\n"
       ]
      },
      {
       "output_type": "stream",
       "stream": "stdout",
       "text": [
        "Epoch 48/170\n",
        "0s - loss: 0.8950 - acc: 0.2514 - val_loss: 0.8980 - val_acc: 0.2515\n"
       ]
      },
      {
       "output_type": "stream",
       "stream": "stdout",
       "text": [
        "Epoch 49/170\n",
        "0s - loss: 0.8939 - acc: 0.2514 - val_loss: 0.8970 - val_acc: 0.2515\n"
       ]
      },
      {
       "output_type": "stream",
       "stream": "stdout",
       "text": [
        "Epoch 50/170\n",
        "0s - loss: 0.8928 - acc: 0.2514 - val_loss: 0.8959 - val_acc: 0.2515\n"
       ]
      },
      {
       "output_type": "stream",
       "stream": "stdout",
       "text": [
        "Epoch 51/170\n",
        "0s - loss: 0.8918 - acc: 0.2514 - val_loss: 0.8949 - val_acc: 0.2515\n"
       ]
      },
      {
       "output_type": "stream",
       "stream": "stdout",
       "text": [
        "Epoch 52/170\n",
        "0s - loss: 0.8908 - acc: 0.2514 - val_loss: 0.8939 - val_acc: 0.2515\n"
       ]
      },
      {
       "output_type": "stream",
       "stream": "stdout",
       "text": [
        "Epoch 53/170\n",
        "0s - loss: 0.8899 - acc: 0.2514 - val_loss: 0.8930 - val_acc: 0.2515\n"
       ]
      },
      {
       "output_type": "stream",
       "stream": "stdout",
       "text": [
        "Epoch 54/170\n",
        "0s - loss: 0.8889 - acc: 0.2514 - val_loss: 0.8920 - val_acc: 0.2515\n"
       ]
      },
      {
       "output_type": "stream",
       "stream": "stdout",
       "text": [
        "Epoch 55/170\n",
        "0s - loss: 0.8880 - acc: 0.2514 - val_loss: 0.8911 - val_acc: 0.2515\n"
       ]
      },
      {
       "output_type": "stream",
       "stream": "stdout",
       "text": [
        "Epoch 56/170\n",
        "0s - loss: 0.8871 - acc: 0.2514 - val_loss: 0.8903 - val_acc: 0.2515\n"
       ]
      },
      {
       "output_type": "stream",
       "stream": "stdout",
       "text": [
        "Epoch 57/170\n",
        "0s - loss: 0.8862 - acc: 0.2514 - val_loss: 0.8894 - val_acc: 0.2515\n"
       ]
      },
      {
       "output_type": "stream",
       "stream": "stdout",
       "text": [
        "Epoch 58/170\n",
        "0s - loss: 0.8854 - acc: 0.2514 - val_loss: 0.8886 - val_acc: 0.2515\n"
       ]
      },
      {
       "output_type": "stream",
       "stream": "stdout",
       "text": [
        "Epoch 59/170\n",
        "0s - loss: 0.8846 - acc: 0.2514 - val_loss: 0.8877 - val_acc: 0.2515\n"
       ]
      },
      {
       "output_type": "stream",
       "stream": "stdout",
       "text": [
        "Epoch 60/170\n",
        "0s - loss: 0.8838 - acc: 0.2514 - val_loss: 0.8869 - val_acc: 0.2515\n"
       ]
      },
      {
       "output_type": "stream",
       "stream": "stdout",
       "text": [
        "Epoch 61/170\n",
        "0s - loss: 0.8830 - acc: 0.2514 - val_loss: 0.8861 - val_acc: 0.2515\n"
       ]
      },
      {
       "output_type": "stream",
       "stream": "stdout",
       "text": [
        "Epoch 62/170\n",
        "0s - loss: 0.8822 - acc: 0.2514 - val_loss: 0.8854 - val_acc: 0.2515\n"
       ]
      },
      {
       "output_type": "stream",
       "stream": "stdout",
       "text": [
        "Epoch 63/170\n",
        "0s - loss: 0.8814 - acc: 0.2514 - val_loss: 0.8846 - val_acc: 0.2515\n"
       ]
      },
      {
       "output_type": "stream",
       "stream": "stdout",
       "text": [
        "Epoch 64/170\n",
        "0s - loss: 0.8807 - acc: 0.2514 - val_loss: 0.8839 - val_acc: 0.2515\n"
       ]
      },
      {
       "output_type": "stream",
       "stream": "stdout",
       "text": [
        "Epoch 65/170\n",
        "0s - loss: 0.8800 - acc: 0.2514 - val_loss: 0.8832 - val_acc: 0.2515\n"
       ]
      },
      {
       "output_type": "stream",
       "stream": "stdout",
       "text": [
        "Epoch 66/170\n",
        "0s - loss: 0.8793 - acc: 0.2514 - val_loss: 0.8825 - val_acc: 0.2515\n"
       ]
      },
      {
       "output_type": "stream",
       "stream": "stdout",
       "text": [
        "Epoch 67/170\n",
        "0s - loss: 0.8786 - acc: 0.2514 - val_loss: 0.8818 - val_acc: 0.2515\n"
       ]
      },
      {
       "output_type": "stream",
       "stream": "stdout",
       "text": [
        "Epoch 68/170\n",
        "0s - loss: 0.8779 - acc: 0.2514 - val_loss: 0.8811 - val_acc: 0.2515\n"
       ]
      },
      {
       "output_type": "stream",
       "stream": "stdout",
       "text": [
        "Epoch 69/170\n",
        "0s - loss: 0.8773 - acc: 0.2514 - val_loss: 0.8805 - val_acc: 0.2515\n"
       ]
      },
      {
       "output_type": "stream",
       "stream": "stdout",
       "text": [
        "Epoch 70/170\n",
        "0s - loss: 0.8766 - acc: 0.2514 - val_loss: 0.8798 - val_acc: 0.2515\n"
       ]
      },
      {
       "output_type": "stream",
       "stream": "stdout",
       "text": [
        "Epoch 71/170\n",
        "0s - loss: 0.8760 - acc: 0.2514 - val_loss: 0.8792 - val_acc: 0.2515\n"
       ]
      },
      {
       "output_type": "stream",
       "stream": "stdout",
       "text": [
        "Epoch 72/170\n",
        "0s - loss: 0.8754 - acc: 0.2514 - val_loss: 0.8786 - val_acc: 0.2515\n"
       ]
      },
      {
       "output_type": "stream",
       "stream": "stdout",
       "text": [
        "Epoch 73/170\n",
        "0s - loss: 0.8748 - acc: 0.2514 - val_loss: 0.8780 - val_acc: 0.2515\n"
       ]
      },
      {
       "output_type": "stream",
       "stream": "stdout",
       "text": [
        "Epoch 74/170\n",
        "0s - loss: 0.8742 - acc: 0.2514 - val_loss: 0.8774 - val_acc: 0.2515\n"
       ]
      },
      {
       "output_type": "stream",
       "stream": "stdout",
       "text": [
        "Epoch 75/170\n",
        "0s - loss: 0.8736 - acc: 0.2514 - val_loss: 0.8768 - val_acc: 0.2515\n"
       ]
      },
      {
       "output_type": "stream",
       "stream": "stdout",
       "text": [
        "Epoch 76/170\n",
        "0s - loss: 0.8730 - acc: 0.2514 - val_loss: 0.8763 - val_acc: 0.2515\n"
       ]
      },
      {
       "output_type": "stream",
       "stream": "stdout",
       "text": [
        "Epoch 77/170\n",
        "0s - loss: 0.8725 - acc: 0.2514 - val_loss: 0.8757 - val_acc: 0.2515\n"
       ]
      },
      {
       "output_type": "stream",
       "stream": "stdout",
       "text": [
        "Epoch 78/170\n",
        "0s - loss: 0.8719 - acc: 0.2514 - val_loss: 0.8752 - val_acc: 0.2515\n"
       ]
      },
      {
       "output_type": "stream",
       "stream": "stdout",
       "text": [
        "Epoch 79/170\n",
        "0s - loss: 0.8714 - acc: 0.2514 - val_loss: 0.8747 - val_acc: 0.2515\n"
       ]
      },
      {
       "output_type": "stream",
       "stream": "stdout",
       "text": [
        "Epoch 80/170\n",
        "0s - loss: 0.8709 - acc: 0.2514 - val_loss: 0.8741 - val_acc: 0.2515\n"
       ]
      },
      {
       "output_type": "stream",
       "stream": "stdout",
       "text": [
        "Epoch 81/170\n",
        "0s - loss: 0.8704 - acc: 0.2514 - val_loss: 0.8736 - val_acc: 0.2515\n"
       ]
      },
      {
       "output_type": "stream",
       "stream": "stdout",
       "text": [
        "Epoch 82/170\n",
        "0s - loss: 0.8699 - acc: 0.2514 - val_loss: 0.8731 - val_acc: 0.2515\n"
       ]
      },
      {
       "output_type": "stream",
       "stream": "stdout",
       "text": [
        "Epoch 83/170\n",
        "0s - loss: 0.8694 - acc: 0.2514 - val_loss: 0.8726 - val_acc: 0.2515\n"
       ]
      },
      {
       "output_type": "stream",
       "stream": "stdout",
       "text": [
        "Epoch 84/170\n",
        "0s - loss: 0.8689 - acc: 0.2514 - val_loss: 0.8721 - val_acc: 0.2515\n"
       ]
      },
      {
       "output_type": "stream",
       "stream": "stdout",
       "text": [
        "Epoch 85/170\n",
        "0s - loss: 0.8684 - acc: 0.2514 - val_loss: 0.8717 - val_acc: 0.2515\n"
       ]
      },
      {
       "output_type": "stream",
       "stream": "stdout",
       "text": [
        "Epoch 86/170\n",
        "0s - loss: 0.8679 - acc: 0.2514 - val_loss: 0.8712 - val_acc: 0.2515\n"
       ]
      },
      {
       "output_type": "stream",
       "stream": "stdout",
       "text": [
        "Epoch 87/170\n",
        "0s - loss: 0.8675 - acc: 0.2514 - val_loss: 0.8708 - val_acc: 0.2515\n"
       ]
      },
      {
       "output_type": "stream",
       "stream": "stdout",
       "text": [
        "Epoch 88/170\n",
        "0s - loss: 0.8670 - acc: 0.2514 - val_loss: 0.8703 - val_acc: 0.2515\n"
       ]
      },
      {
       "output_type": "stream",
       "stream": "stdout",
       "text": [
        "Epoch 89/170\n",
        "0s - loss: 0.8666 - acc: 0.2514 - val_loss: 0.8699 - val_acc: 0.2515\n"
       ]
      },
      {
       "output_type": "stream",
       "stream": "stdout",
       "text": [
        "Epoch 90/170\n",
        "0s - loss: 0.8662 - acc: 0.2514 - val_loss: 0.8694 - val_acc: 0.2515\n"
       ]
      },
      {
       "output_type": "stream",
       "stream": "stdout",
       "text": [
        "Epoch 91/170\n",
        "0s - loss: 0.8657 - acc: 0.2514 - val_loss: 0.8690 - val_acc: 0.2515\n"
       ]
      },
      {
       "output_type": "stream",
       "stream": "stdout",
       "text": [
        "Epoch 92/170\n",
        "0s - loss: 0.8653 - acc: 0.2514 - val_loss: 0.8686 - val_acc: 0.2515\n"
       ]
      },
      {
       "output_type": "stream",
       "stream": "stdout",
       "text": [
        "Epoch 93/170\n",
        "0s - loss: 0.8649 - acc: 0.2514 - val_loss: 0.8682 - val_acc: 0.2515\n"
       ]
      },
      {
       "output_type": "stream",
       "stream": "stdout",
       "text": [
        "Epoch 94/170\n",
        "0s - loss: 0.8645 - acc: 0.2514 - val_loss: 0.8678 - val_acc: 0.2515\n"
       ]
      },
      {
       "output_type": "stream",
       "stream": "stdout",
       "text": [
        "Epoch 95/170\n",
        "0s - loss: 0.8641 - acc: 0.2514 - val_loss: 0.8674 - val_acc: 0.2515\n"
       ]
      },
      {
       "output_type": "stream",
       "stream": "stdout",
       "text": [
        "Epoch 96/170\n",
        "0s - loss: 0.8637 - acc: 0.2514 - val_loss: 0.8670 - val_acc: 0.2515\n"
       ]
      },
      {
       "output_type": "stream",
       "stream": "stdout",
       "text": [
        "Epoch 97/170\n",
        "0s - loss: 0.8633 - acc: 0.2514 - val_loss: 0.8666 - val_acc: 0.2515\n"
       ]
      },
      {
       "output_type": "stream",
       "stream": "stdout",
       "text": [
        "Epoch 98/170\n",
        "0s - loss: 0.8629 - acc: 0.2514 - val_loss: 0.8663 - val_acc: 0.2515\n"
       ]
      },
      {
       "output_type": "stream",
       "stream": "stdout",
       "text": [
        "Epoch 99/170\n",
        "0s - loss: 0.8626 - acc: 0.2514 - val_loss: 0.8659 - val_acc: 0.2515\n"
       ]
      },
      {
       "output_type": "stream",
       "stream": "stdout",
       "text": [
        "Epoch 100/170\n",
        "0s - loss: 0.8622 - acc: 0.2514 - val_loss: 0.8655 - val_acc: 0.2515\n"
       ]
      },
      {
       "output_type": "stream",
       "stream": "stdout",
       "text": [
        "Epoch 101/170\n",
        "0s - loss: 0.8619 - acc: 0.2514 - val_loss: 0.8652 - val_acc: 0.2515\n"
       ]
      },
      {
       "output_type": "stream",
       "stream": "stdout",
       "text": [
        "Epoch 102/170\n",
        "0s - loss: 0.8615 - acc: 0.2514 - val_loss: 0.8648 - val_acc: 0.2515\n"
       ]
      },
      {
       "output_type": "stream",
       "stream": "stdout",
       "text": [
        "Epoch 103/170\n",
        "0s - loss: 0.8612 - acc: 0.2514 - val_loss: 0.8645 - val_acc: 0.2515\n"
       ]
      },
      {
       "output_type": "stream",
       "stream": "stdout",
       "text": [
        "Epoch 104/170\n",
        "0s - loss: 0.8608 - acc: 0.2514 - val_loss: 0.8641 - val_acc: 0.2515\n"
       ]
      },
      {
       "output_type": "stream",
       "stream": "stdout",
       "text": [
        "Epoch 105/170\n",
        "0s - loss: 0.8605 - acc: 0.2514 - val_loss: 0.8638 - val_acc: 0.2515\n"
       ]
      },
      {
       "output_type": "stream",
       "stream": "stdout",
       "text": [
        "Epoch 106/170\n",
        "0s - loss: 0.8601 - acc: 0.2514 - val_loss: 0.8635 - val_acc: 0.2515\n"
       ]
      },
      {
       "output_type": "stream",
       "stream": "stdout",
       "text": [
        "Epoch 107/170\n",
        "0s - loss: 0.8598 - acc: 0.2514 - val_loss: 0.8631 - val_acc: 0.2515\n"
       ]
      },
      {
       "output_type": "stream",
       "stream": "stdout",
       "text": [
        "Epoch 108/170\n",
        "0s - loss: 0.8595 - acc: 0.2514 - val_loss: 0.8628 - val_acc: 0.2515\n"
       ]
      },
      {
       "output_type": "stream",
       "stream": "stdout",
       "text": [
        "Epoch 109/170\n",
        "0s - loss: 0.8592 - acc: 0.2514 - val_loss: 0.8625 - val_acc: 0.2515\n"
       ]
      },
      {
       "output_type": "stream",
       "stream": "stdout",
       "text": [
        "Epoch 110/170\n",
        "0s - loss: 0.8589 - acc: 0.2514 - val_loss: 0.8622 - val_acc: 0.2515\n"
       ]
      },
      {
       "output_type": "stream",
       "stream": "stdout",
       "text": [
        "Epoch 111/170\n",
        "0s - loss: 0.8586 - acc: 0.2514 - val_loss: 0.8619 - val_acc: 0.2515\n"
       ]
      },
      {
       "output_type": "stream",
       "stream": "stdout",
       "text": [
        "Epoch 112/170\n",
        "0s - loss: 0.8583 - acc: 0.2514 - val_loss: 0.8616 - val_acc: 0.2515\n"
       ]
      },
      {
       "output_type": "stream",
       "stream": "stdout",
       "text": [
        "Epoch 113/170\n",
        "0s - loss: 0.8580 - acc: 0.2514 - val_loss: 0.8613 - val_acc: 0.2515\n"
       ]
      },
      {
       "output_type": "stream",
       "stream": "stdout",
       "text": [
        "Epoch 114/170\n",
        "0s - loss: 0.8577 - acc: 0.2514 - val_loss: 0.8610 - val_acc: 0.2515\n"
       ]
      },
      {
       "output_type": "stream",
       "stream": "stdout",
       "text": [
        "Epoch 115/170\n",
        "0s - loss: 0.8574 - acc: 0.2514 - val_loss: 0.8607 - val_acc: 0.2515\n"
       ]
      },
      {
       "output_type": "stream",
       "stream": "stdout",
       "text": [
        "Epoch 116/170\n",
        "0s - loss: 0.8571 - acc: 0.2514 - val_loss: 0.8604 - val_acc: 0.2515\n"
       ]
      },
      {
       "output_type": "stream",
       "stream": "stdout",
       "text": [
        "Epoch 117/170\n",
        "0s - loss: 0.8568 - acc: 0.2514 - val_loss: 0.8602 - val_acc: 0.2515\n"
       ]
      },
      {
       "output_type": "stream",
       "stream": "stdout",
       "text": [
        "Epoch 118/170\n",
        "0s - loss: 0.8566 - acc: 0.2514 - val_loss: 0.8599 - val_acc: 0.2515\n"
       ]
      },
      {
       "output_type": "stream",
       "stream": "stdout",
       "text": [
        "Epoch 119/170\n",
        "0s - loss: 0.8563 - acc: 0.2514 - val_loss: 0.8596 - val_acc: 0.2515\n"
       ]
      },
      {
       "output_type": "stream",
       "stream": "stdout",
       "text": [
        "Epoch 120/170\n",
        "0s - loss: 0.8560 - acc: 0.2514 - val_loss: 0.8594 - val_acc: 0.2515\n"
       ]
      },
      {
       "output_type": "stream",
       "stream": "stdout",
       "text": [
        "Epoch 121/170\n",
        "0s - loss: 0.8557 - acc: 0.2514 - val_loss: 0.8591 - val_acc: 0.2515\n"
       ]
      },
      {
       "output_type": "stream",
       "stream": "stdout",
       "text": [
        "Epoch 122/170\n",
        "0s - loss: 0.8555 - acc: 0.2514 - val_loss: 0.8588 - val_acc: 0.2515\n"
       ]
      },
      {
       "output_type": "stream",
       "stream": "stdout",
       "text": [
        "Epoch 123/170\n",
        "0s - loss: 0.8552 - acc: 0.2514 - val_loss: 0.8586 - val_acc: 0.2515\n"
       ]
      },
      {
       "output_type": "stream",
       "stream": "stdout",
       "text": [
        "Epoch 124/170\n",
        "0s - loss: 0.8550 - acc: 0.2514 - val_loss: 0.8583 - val_acc: 0.2515\n"
       ]
      },
      {
       "output_type": "stream",
       "stream": "stdout",
       "text": [
        "Epoch 125/170\n",
        "0s - loss: 0.8547 - acc: 0.2514 - val_loss: 0.8581 - val_acc: 0.2515\n"
       ]
      },
      {
       "output_type": "stream",
       "stream": "stdout",
       "text": [
        "Epoch 126/170\n",
        "0s - loss: 0.8545 - acc: 0.2514 - val_loss: 0.8578 - val_acc: 0.2515\n"
       ]
      },
      {
       "output_type": "stream",
       "stream": "stdout",
       "text": [
        "Epoch 127/170\n",
        "0s - loss: 0.8542 - acc: 0.2514 - val_loss: 0.8576 - val_acc: 0.2515\n"
       ]
      },
      {
       "output_type": "stream",
       "stream": "stdout",
       "text": [
        "Epoch 128/170\n",
        "0s - loss: 0.8540 - acc: 0.2514 - val_loss: 0.8573 - val_acc: 0.2515\n"
       ]
      },
      {
       "output_type": "stream",
       "stream": "stdout",
       "text": [
        "Epoch 129/170\n",
        "0s - loss: 0.8538 - acc: 0.2514 - val_loss: 0.8571 - val_acc: 0.2515\n"
       ]
      },
      {
       "output_type": "stream",
       "stream": "stdout",
       "text": [
        "Epoch 130/170\n",
        "0s - loss: 0.8535 - acc: 0.2514 - val_loss: 0.8569 - val_acc: 0.2515\n"
       ]
      },
      {
       "output_type": "stream",
       "stream": "stdout",
       "text": [
        "Epoch 131/170\n",
        "0s - loss: 0.8533 - acc: 0.2514 - val_loss: 0.8566 - val_acc: 0.2515\n"
       ]
      },
      {
       "output_type": "stream",
       "stream": "stdout",
       "text": [
        "Epoch 132/170\n",
        "0s - loss: 0.8531 - acc: 0.2514 - val_loss: 0.8564 - val_acc: 0.2515\n"
       ]
      },
      {
       "output_type": "stream",
       "stream": "stdout",
       "text": [
        "Epoch 133/170\n",
        "0s - loss: 0.8528 - acc: 0.2514 - val_loss: 0.8562 - val_acc: 0.2515\n"
       ]
      },
      {
       "output_type": "stream",
       "stream": "stdout",
       "text": [
        "Epoch 134/170\n",
        "0s - loss: 0.8526 - acc: 0.2514 - val_loss: 0.8560 - val_acc: 0.2515\n"
       ]
      },
      {
       "output_type": "stream",
       "stream": "stdout",
       "text": [
        "Epoch 135/170\n",
        "0s - loss: 0.8524 - acc: 0.2514 - val_loss: 0.8558 - val_acc: 0.2515\n"
       ]
      },
      {
       "output_type": "stream",
       "stream": "stdout",
       "text": [
        "Epoch 136/170\n",
        "0s - loss: 0.8522 - acc: 0.2514 - val_loss: 0.8555 - val_acc: 0.2515\n"
       ]
      },
      {
       "output_type": "stream",
       "stream": "stdout",
       "text": [
        "Epoch 137/170\n",
        "0s - loss: 0.8520 - acc: 0.2514 - val_loss: 0.8553 - val_acc: 0.2515\n"
       ]
      },
      {
       "output_type": "stream",
       "stream": "stdout",
       "text": [
        "Epoch 138/170\n",
        "0s - loss: 0.8518 - acc: 0.2514 - val_loss: 0.8551 - val_acc: 0.2515\n"
       ]
      },
      {
       "output_type": "stream",
       "stream": "stdout",
       "text": [
        "Epoch 139/170\n",
        "0s - loss: 0.8516 - acc: 0.2514 - val_loss: 0.8549 - val_acc: 0.2515\n"
       ]
      },
      {
       "output_type": "stream",
       "stream": "stdout",
       "text": [
        "Epoch 140/170\n",
        "0s - loss: 0.8514 - acc: 0.2514 - val_loss: 0.8547 - val_acc: 0.2515\n"
       ]
      },
      {
       "output_type": "stream",
       "stream": "stdout",
       "text": [
        "Epoch 141/170\n",
        "0s - loss: 0.8512 - acc: 0.2514 - val_loss: 0.8545 - val_acc: 0.2515\n"
       ]
      },
      {
       "output_type": "stream",
       "stream": "stdout",
       "text": [
        "Epoch 142/170\n",
        "0s - loss: 0.8510 - acc: 0.2514 - val_loss: 0.8543 - val_acc: 0.2515\n"
       ]
      },
      {
       "output_type": "stream",
       "stream": "stdout",
       "text": [
        "Epoch 143/170\n",
        "0s - loss: 0.8508 - acc: 0.2514 - val_loss: 0.8541 - val_acc: 0.2515\n"
       ]
      },
      {
       "output_type": "stream",
       "stream": "stdout",
       "text": [
        "Epoch 144/170\n",
        "0s - loss: 0.8506 - acc: 0.2514 - val_loss: 0.8539 - val_acc: 0.2515\n"
       ]
      },
      {
       "output_type": "stream",
       "stream": "stdout",
       "text": [
        "Epoch 145/170\n",
        "0s - loss: 0.8504 - acc: 0.2514 - val_loss: 0.8537 - val_acc: 0.2515\n"
       ]
      },
      {
       "output_type": "stream",
       "stream": "stdout",
       "text": [
        "Epoch 146/170\n",
        "0s - loss: 0.8502 - acc: 0.2514 - val_loss: 0.8535 - val_acc: 0.2515\n"
       ]
      },
      {
       "output_type": "stream",
       "stream": "stdout",
       "text": [
        "Epoch 147/170\n",
        "0s - loss: 0.8500 - acc: 0.2514 - val_loss: 0.8534 - val_acc: 0.2515\n"
       ]
      },
      {
       "output_type": "stream",
       "stream": "stdout",
       "text": [
        "Epoch 148/170\n",
        "0s - loss: 0.8498 - acc: 0.2514 - val_loss: 0.8532 - val_acc: 0.2515\n"
       ]
      },
      {
       "output_type": "stream",
       "stream": "stdout",
       "text": [
        "Epoch 149/170\n",
        "0s - loss: 0.8496 - acc: 0.2514 - val_loss: 0.8530 - val_acc: 0.2515\n"
       ]
      },
      {
       "output_type": "stream",
       "stream": "stdout",
       "text": [
        "Epoch 150/170\n",
        "0s - loss: 0.8494 - acc: 0.2514 - val_loss: 0.8528 - val_acc: 0.2515\n"
       ]
      },
      {
       "output_type": "stream",
       "stream": "stdout",
       "text": [
        "Epoch 151/170\n",
        "0s - loss: 0.8493 - acc: 0.2514 - val_loss: 0.8526 - val_acc: 0.2515\n"
       ]
      },
      {
       "output_type": "stream",
       "stream": "stdout",
       "text": [
        "Epoch 152/170\n",
        "0s - loss: 0.8491 - acc: 0.2514 - val_loss: 0.8524 - val_acc: 0.2515\n"
       ]
      },
      {
       "output_type": "stream",
       "stream": "stdout",
       "text": [
        "Epoch 153/170\n",
        "0s - loss: 0.8489 - acc: 0.2514 - val_loss: 0.8523 - val_acc: 0.2515\n"
       ]
      },
      {
       "output_type": "stream",
       "stream": "stdout",
       "text": [
        "Epoch 154/170\n",
        "0s - loss: 0.8487 - acc: 0.2514 - val_loss: 0.8521 - val_acc: 0.2515\n"
       ]
      },
      {
       "output_type": "stream",
       "stream": "stdout",
       "text": [
        "Epoch 155/170\n",
        "0s - loss: 0.8486 - acc: 0.2514 - val_loss: 0.8519 - val_acc: 0.2515\n"
       ]
      },
      {
       "output_type": "stream",
       "stream": "stdout",
       "text": [
        "Epoch 156/170\n",
        "0s - loss: 0.8484 - acc: 0.2514 - val_loss: 0.8518 - val_acc: 0.2515\n"
       ]
      },
      {
       "output_type": "stream",
       "stream": "stdout",
       "text": [
        "Epoch 157/170\n",
        "0s - loss: 0.8482 - acc: 0.2514 - val_loss: 0.8516 - val_acc: 0.2515\n"
       ]
      },
      {
       "output_type": "stream",
       "stream": "stdout",
       "text": [
        "Epoch 158/170\n",
        "0s - loss: 0.8481 - acc: 0.2514 - val_loss: 0.8514 - val_acc: 0.2515\n"
       ]
      },
      {
       "output_type": "stream",
       "stream": "stdout",
       "text": [
        "Epoch 159/170\n",
        "0s - loss: 0.8479 - acc: 0.2514 - val_loss: 0.8513 - val_acc: 0.2515\n"
       ]
      },
      {
       "output_type": "stream",
       "stream": "stdout",
       "text": [
        "Epoch 160/170\n",
        "0s - loss: 0.8477 - acc: 0.2514 - val_loss: 0.8511 - val_acc: 0.2515\n"
       ]
      },
      {
       "output_type": "stream",
       "stream": "stdout",
       "text": [
        "Epoch 161/170\n",
        "0s - loss: 0.8476 - acc: 0.2514 - val_loss: 0.8509 - val_acc: 0.2515\n"
       ]
      },
      {
       "output_type": "stream",
       "stream": "stdout",
       "text": [
        "Epoch 162/170\n",
        "0s - loss: 0.8474 - acc: 0.2514 - val_loss: 0.8508 - val_acc: 0.2515\n"
       ]
      },
      {
       "output_type": "stream",
       "stream": "stdout",
       "text": [
        "Epoch 163/170\n",
        "0s - loss: 0.8473 - acc: 0.2514 - val_loss: 0.8506 - val_acc: 0.2515\n"
       ]
      },
      {
       "output_type": "stream",
       "stream": "stdout",
       "text": [
        "Epoch 164/170\n",
        "0s - loss: 0.8471 - acc: 0.2514 - val_loss: 0.8505 - val_acc: 0.2515\n"
       ]
      },
      {
       "output_type": "stream",
       "stream": "stdout",
       "text": [
        "Epoch 165/170\n",
        "0s - loss: 0.8470 - acc: 0.2514 - val_loss: 0.8503 - val_acc: 0.2515\n"
       ]
      },
      {
       "output_type": "stream",
       "stream": "stdout",
       "text": [
        "Epoch 166/170\n",
        "0s - loss: 0.8468 - acc: 0.2514 - val_loss: 0.8502 - val_acc: 0.2515\n"
       ]
      },
      {
       "output_type": "stream",
       "stream": "stdout",
       "text": [
        "Epoch 167/170\n",
        "0s - loss: 0.8467 - acc: 0.2514 - val_loss: 0.8500 - val_acc: 0.2515\n"
       ]
      },
      {
       "output_type": "stream",
       "stream": "stdout",
       "text": [
        "Epoch 168/170\n",
        "0s - loss: 0.8465 - acc: 0.2514 - val_loss: 0.8499 - val_acc: 0.2515\n"
       ]
      },
      {
       "output_type": "stream",
       "stream": "stdout",
       "text": [
        "Epoch 169/170\n",
        "0s - loss: 0.8464 - acc: 0.2514 - val_loss: 0.8497 - val_acc: 0.2515\n"
       ]
      },
      {
       "output_type": "stream",
       "stream": "stdout",
       "text": [
        "Epoch 170/170\n",
        "0s - loss: 0.8462 - acc: 0.2514 - val_loss: 0.8496 - val_acc: 0.2515\n"
       ]
      },
      {
       "output_type": "stream",
       "stream": "stdout",
       "text": [
        "\r",
        " 5000/20000 [======>.......................] - ETA: 0s"
       ]
      },
      {
       "output_type": "stream",
       "stream": "stdout",
       "text": [
        "\b\b\b\b\b\b\b\b\b\b\b\b\b\b\b\b\b\b\b\b\b\b\b\b\b\b\b\b\b\b\b\b\b\b\b\b\b\b\b\b\b\b\b\b\b\b\b\b\b\b\b\b\b\b\r",
        "20000/20000 [==============================] - 0s     "
       ]
      },
      {
       "output_type": "stream",
       "stream": "stdout",
       "text": [
        "\n",
        "\r",
        " 5000/20000 [======>.......................] - ETA: 0s"
       ]
      },
      {
       "output_type": "stream",
       "stream": "stdout",
       "text": [
        "\b\b\b\b\b\b\b\b\b\b\b\b\b\b\b\b\b\b\b\b\b\b\b\b\b\b\b\b\b\b\b\b\b\b\b\b\b\b\b\b\b\b\b\b\b\b\b\b\b\b\b\b\b\b\r",
        "20000/20000 [==============================] - 0s     "
       ]
      },
      {
       "output_type": "stream",
       "stream": "stdout",
       "text": [
        "\n",
        "Train on 80000 samples, validate on 20000 samples\n",
        "Epoch 1/170\n",
        "0s - loss: 1.6905 - acc: 0.2490 - val_loss: 1.6810 - val_acc: 0.2524\n"
       ]
      },
      {
       "output_type": "stream",
       "stream": "stdout",
       "text": [
        "Epoch 2/170\n",
        "0s - loss: 1.6804 - acc: 0.2490 - val_loss: 1.6710 - val_acc: 0.2524\n"
       ]
      },
      {
       "output_type": "stream",
       "stream": "stdout",
       "text": [
        "Epoch 3/170\n",
        "0s - loss: 1.6705 - acc: 0.2490 - val_loss: 1.6613 - val_acc: 0.2524\n"
       ]
      },
      {
       "output_type": "stream",
       "stream": "stdout",
       "text": [
        "Epoch 4/170\n",
        "0s - loss: 1.6607 - acc: 0.2490 - val_loss: 1.6517 - val_acc: 0.2524\n"
       ]
      },
      {
       "output_type": "stream",
       "stream": "stdout",
       "text": [
        "Epoch 5/170\n",
        "0s - loss: 1.6512 - acc: 0.2490 - val_loss: 1.6423 - val_acc: 0.2524\n"
       ]
      },
      {
       "output_type": "stream",
       "stream": "stdout",
       "text": [
        "Epoch 6/170\n",
        "0s - loss: 1.6418 - acc: 0.2490 - val_loss: 1.6331 - val_acc: 0.2524\n"
       ]
      },
      {
       "output_type": "stream",
       "stream": "stdout",
       "text": [
        "Epoch 7/170\n",
        "0s - loss: 1.6326 - acc: 0.2490 - val_loss: 1.6241 - val_acc: 0.2524\n"
       ]
      },
      {
       "output_type": "stream",
       "stream": "stdout",
       "text": [
        "Epoch 8/170\n",
        "0s - loss: 1.6235 - acc: 0.2490 - val_loss: 1.6152 - val_acc: 0.2524\n"
       ]
      },
      {
       "output_type": "stream",
       "stream": "stdout",
       "text": [
        "Epoch 9/170\n",
        "0s - loss: 1.6147 - acc: 0.2490 - val_loss: 1.6066 - val_acc: 0.2524\n"
       ]
      },
      {
       "output_type": "stream",
       "stream": "stdout",
       "text": [
        "Epoch 10/170\n",
        "0s - loss: 1.6060 - acc: 0.2490 - val_loss: 1.5981 - val_acc: 0.2524\n"
       ]
      },
      {
       "output_type": "stream",
       "stream": "stdout",
       "text": [
        "Epoch 11/170\n",
        "0s - loss: 1.5975 - acc: 0.2490 - val_loss: 1.5898 - val_acc: 0.2524\n"
       ]
      },
      {
       "output_type": "stream",
       "stream": "stdout",
       "text": [
        "Epoch 12/170\n",
        "0s - loss: 1.5893 - acc: 0.2490 - val_loss: 1.5817 - val_acc: 0.2524\n"
       ]
      },
      {
       "output_type": "stream",
       "stream": "stdout",
       "text": [
        "Epoch 13/170\n",
        "0s - loss: 1.5812 - acc: 0.2490 - val_loss: 1.5738 - val_acc: 0.2524\n"
       ]
      },
      {
       "output_type": "stream",
       "stream": "stdout",
       "text": [
        "Epoch 14/170\n",
        "0s - loss: 1.5733 - acc: 0.2490 - val_loss: 1.5661 - val_acc: 0.2524\n"
       ]
      },
      {
       "output_type": "stream",
       "stream": "stdout",
       "text": [
        "Epoch 15/170\n",
        "0s - loss: 1.5656 - acc: 0.2490 - val_loss: 1.5586 - val_acc: 0.2524\n"
       ]
      },
      {
       "output_type": "stream",
       "stream": "stdout",
       "text": [
        "Epoch 16/170\n",
        "0s - loss: 1.5581 - acc: 0.2490 - val_loss: 1.5512 - val_acc: 0.2524\n"
       ]
      },
      {
       "output_type": "stream",
       "stream": "stdout",
       "text": [
        "Epoch 17/170\n",
        "0s - loss: 1.5507 - acc: 0.2490 - val_loss: 1.5441 - val_acc: 0.2524\n"
       ]
      },
      {
       "output_type": "stream",
       "stream": "stdout",
       "text": [
        "Epoch 18/170\n",
        "0s - loss: 1.5436 - acc: 0.2490 - val_loss: 1.5372 - val_acc: 0.2524\n"
       ]
      },
      {
       "output_type": "stream",
       "stream": "stdout",
       "text": [
        "Epoch 19/170\n",
        "0s - loss: 1.5367 - acc: 0.2490 - val_loss: 1.5304 - val_acc: 0.2524\n"
       ]
      },
      {
       "output_type": "stream",
       "stream": "stdout",
       "text": [
        "Epoch 20/170\n",
        "0s - loss: 1.5300 - acc: 0.2490 - val_loss: 1.5239 - val_acc: 0.2524\n"
       ]
      },
      {
       "output_type": "stream",
       "stream": "stdout",
       "text": [
        "Epoch 21/170\n",
        "0s - loss: 1.5235 - acc: 0.2490 - val_loss: 1.5176 - val_acc: 0.2524\n"
       ]
      },
      {
       "output_type": "stream",
       "stream": "stdout",
       "text": [
        "Epoch 22/170\n",
        "0s - loss: 1.5172 - acc: 0.2490 - val_loss: 1.5114 - val_acc: 0.2524\n"
       ]
      },
      {
       "output_type": "stream",
       "stream": "stdout",
       "text": [
        "Epoch 23/170\n",
        "0s - loss: 1.5111 - acc: 0.2490 - val_loss: 1.5055 - val_acc: 0.2524\n"
       ]
      },
      {
       "output_type": "stream",
       "stream": "stdout",
       "text": [
        "Epoch 24/170\n",
        "0s - loss: 1.5052 - acc: 0.2490 - val_loss: 1.4997 - val_acc: 0.2524\n"
       ]
      },
      {
       "output_type": "stream",
       "stream": "stdout",
       "text": [
        "Epoch 25/170\n",
        "0s - loss: 1.4994 - acc: 0.2490 - val_loss: 1.4942 - val_acc: 0.2524\n"
       ]
      },
      {
       "output_type": "stream",
       "stream": "stdout",
       "text": [
        "Epoch 26/170\n",
        "0s - loss: 1.4939 - acc: 0.2490 - val_loss: 1.4889 - val_acc: 0.2524\n"
       ]
      },
      {
       "output_type": "stream",
       "stream": "stdout",
       "text": [
        "Epoch 27/170\n",
        "0s - loss: 1.4886 - acc: 0.2490 - val_loss: 1.4837 - val_acc: 0.2524\n"
       ]
      },
      {
       "output_type": "stream",
       "stream": "stdout",
       "text": [
        "Epoch 28/170\n",
        "0s - loss: 1.4835 - acc: 0.2490 - val_loss: 1.4787 - val_acc: 0.2524\n"
       ]
      },
      {
       "output_type": "stream",
       "stream": "stdout",
       "text": [
        "Epoch 29/170\n",
        "0s - loss: 1.4785 - acc: 0.2490 - val_loss: 1.4739 - val_acc: 0.2524\n"
       ]
      },
      {
       "output_type": "stream",
       "stream": "stdout",
       "text": [
        "Epoch 30/170\n",
        "0s - loss: 1.4738 - acc: 0.2490 - val_loss: 1.4694 - val_acc: 0.2524\n"
       ]
      },
      {
       "output_type": "stream",
       "stream": "stdout",
       "text": [
        "Epoch 31/170\n",
        "0s - loss: 1.4692 - acc: 0.2490 - val_loss: 1.4649 - val_acc: 0.2524\n"
       ]
      },
      {
       "output_type": "stream",
       "stream": "stdout",
       "text": [
        "Epoch 32/170\n",
        "0s - loss: 1.4648 - acc: 0.2490 - val_loss: 1.4607 - val_acc: 0.2524\n"
       ]
      },
      {
       "output_type": "stream",
       "stream": "stdout",
       "text": [
        "Epoch 33/170\n",
        "0s - loss: 1.4606 - acc: 0.2490 - val_loss: 1.4567 - val_acc: 0.2524\n"
       ]
      },
      {
       "output_type": "stream",
       "stream": "stdout",
       "text": [
        "Epoch 34/170\n",
        "0s - loss: 1.4566 - acc: 0.2490 - val_loss: 1.4528 - val_acc: 0.2524\n"
       ]
      },
      {
       "output_type": "stream",
       "stream": "stdout",
       "text": [
        "Epoch 35/170\n",
        "0s - loss: 1.4527 - acc: 0.2490 - val_loss: 1.4491 - val_acc: 0.2524\n"
       ]
      },
      {
       "output_type": "stream",
       "stream": "stdout",
       "text": [
        "Epoch 36/170\n",
        "0s - loss: 1.4491 - acc: 0.2490 - val_loss: 1.4455 - val_acc: 0.2524\n"
       ]
      },
      {
       "output_type": "stream",
       "stream": "stdout",
       "text": [
        "Epoch 37/170\n",
        "0s - loss: 1.4455 - acc: 0.2490 - val_loss: 1.4421 - val_acc: 0.2524\n"
       ]
      },
      {
       "output_type": "stream",
       "stream": "stdout",
       "text": [
        "Epoch 38/170\n",
        "0s - loss: 1.4422 - acc: 0.2491 - val_loss: 1.4389 - val_acc: 0.2524\n"
       ]
      },
      {
       "output_type": "stream",
       "stream": "stdout",
       "text": [
        "Epoch 39/170\n",
        "0s - loss: 1.4390 - acc: 0.2490 - val_loss: 1.4358 - val_acc: 0.2524\n"
       ]
      },
      {
       "output_type": "stream",
       "stream": "stdout",
       "text": [
        "Epoch 40/170\n",
        "0s - loss: 1.4359 - acc: 0.2256 - val_loss: 1.4329 - val_acc: 0.2444\n"
       ]
      },
      {
       "output_type": "stream",
       "stream": "stdout",
       "text": [
        "Epoch 41/170\n",
        "0s - loss: 1.4330 - acc: 0.2506 - val_loss: 1.4301 - val_acc: 0.2444\n"
       ]
      },
      {
       "output_type": "stream",
       "stream": "stdout",
       "text": [
        "Epoch 42/170\n",
        "0s - loss: 1.4302 - acc: 0.2389 - val_loss: 1.4275 - val_acc: 0.2444\n"
       ]
      },
      {
       "output_type": "stream",
       "stream": "stdout",
       "text": [
        "Epoch 43/170\n",
        "0s - loss: 1.4276 - acc: 0.2503 - val_loss: 1.4250 - val_acc: 0.2444\n"
       ]
      },
      {
       "output_type": "stream",
       "stream": "stdout",
       "text": [
        "Epoch 44/170\n",
        "0s - loss: 1.4251 - acc: 0.2503 - val_loss: 1.4226 - val_acc: 0.2444\n"
       ]
      },
      {
       "output_type": "stream",
       "stream": "stdout",
       "text": [
        "Epoch 45/170\n",
        "0s - loss: 1.4228 - acc: 0.2503 - val_loss: 1.4203 - val_acc: 0.2444\n"
       ]
      },
      {
       "output_type": "stream",
       "stream": "stdout",
       "text": [
        "Epoch 46/170\n",
        "0s - loss: 1.4205 - acc: 0.2503 - val_loss: 1.4182 - val_acc: 0.2444\n"
       ]
      },
      {
       "output_type": "stream",
       "stream": "stdout",
       "text": [
        "Epoch 47/170\n",
        "0s - loss: 1.4184 - acc: 0.2503 - val_loss: 1.4162 - val_acc: 0.2444\n"
       ]
      },
      {
       "output_type": "stream",
       "stream": "stdout",
       "text": [
        "Epoch 48/170\n",
        "0s - loss: 1.4164 - acc: 0.2503 - val_loss: 1.4143 - val_acc: 0.2444\n"
       ]
      },
      {
       "output_type": "stream",
       "stream": "stdout",
       "text": [
        "Epoch 49/170\n",
        "0s - loss: 1.4145 - acc: 0.2503 - val_loss: 1.4125 - val_acc: 0.2444\n"
       ]
      },
      {
       "output_type": "stream",
       "stream": "stdout",
       "text": [
        "Epoch 50/170\n",
        "0s - loss: 1.4127 - acc: 0.2503 - val_loss: 1.4108 - val_acc: 0.2444\n"
       ]
      },
      {
       "output_type": "stream",
       "stream": "stdout",
       "text": [
        "Epoch 51/170\n",
        "0s - loss: 1.4110 - acc: 0.2503 - val_loss: 1.4092 - val_acc: 0.2444\n"
       ]
      },
      {
       "output_type": "stream",
       "stream": "stdout",
       "text": [
        "Epoch 52/170\n",
        "0s - loss: 1.4094 - acc: 0.2503 - val_loss: 1.4077 - val_acc: 0.2444\n"
       ]
      },
      {
       "output_type": "stream",
       "stream": "stdout",
       "text": [
        "Epoch 53/170\n",
        "0s - loss: 1.4079 - acc: 0.2503 - val_loss: 1.4062 - val_acc: 0.2444\n"
       ]
      },
      {
       "output_type": "stream",
       "stream": "stdout",
       "text": [
        "Epoch 54/170\n",
        "0s - loss: 1.4065 - acc: 0.2503 - val_loss: 1.4049 - val_acc: 0.2444\n"
       ]
      },
      {
       "output_type": "stream",
       "stream": "stdout",
       "text": [
        "Epoch 55/170\n",
        "0s - loss: 1.4052 - acc: 0.2503 - val_loss: 1.4036 - val_acc: 0.2444\n"
       ]
      },
      {
       "output_type": "stream",
       "stream": "stdout",
       "text": [
        "Epoch 56/170\n",
        "0s - loss: 1.4039 - acc: 0.2503 - val_loss: 1.4025 - val_acc: 0.2444\n"
       ]
      },
      {
       "output_type": "stream",
       "stream": "stdout",
       "text": [
        "Epoch 57/170\n",
        "0s - loss: 1.4027 - acc: 0.2503 - val_loss: 1.4014 - val_acc: 0.2444\n"
       ]
      },
      {
       "output_type": "stream",
       "stream": "stdout",
       "text": [
        "Epoch 58/170\n",
        "0s - loss: 1.4016 - acc: 0.2503 - val_loss: 1.4003 - val_acc: 0.2444\n"
       ]
      },
      {
       "output_type": "stream",
       "stream": "stdout",
       "text": [
        "Epoch 59/170\n",
        "0s - loss: 1.4006 - acc: 0.2503 - val_loss: 1.3993 - val_acc: 0.2444\n"
       ]
      },
      {
       "output_type": "stream",
       "stream": "stdout",
       "text": [
        "Epoch 60/170\n",
        "0s - loss: 1.3996 - acc: 0.2503 - val_loss: 1.3984 - val_acc: 0.2444\n"
       ]
      },
      {
       "output_type": "stream",
       "stream": "stdout",
       "text": [
        "Epoch 61/170\n",
        "0s - loss: 1.3987 - acc: 0.2503 - val_loss: 1.3976 - val_acc: 0.2444\n"
       ]
      },
      {
       "output_type": "stream",
       "stream": "stdout",
       "text": [
        "Epoch 62/170\n",
        "0s - loss: 1.3979 - acc: 0.2503 - val_loss: 1.3968 - val_acc: 0.2444\n"
       ]
      },
      {
       "output_type": "stream",
       "stream": "stdout",
       "text": [
        "Epoch 63/170\n",
        "0s - loss: 1.3971 - acc: 0.2503 - val_loss: 1.3960 - val_acc: 0.2444\n"
       ]
      },
      {
       "output_type": "stream",
       "stream": "stdout",
       "text": [
        "Epoch 64/170\n",
        "0s - loss: 1.3963 - acc: 0.2503 - val_loss: 1.3953 - val_acc: 0.2444\n"
       ]
      },
      {
       "output_type": "stream",
       "stream": "stdout",
       "text": [
        "Epoch 65/170\n",
        "0s - loss: 1.3956 - acc: 0.2503 - val_loss: 1.3947 - val_acc: 0.2444\n"
       ]
      },
      {
       "output_type": "stream",
       "stream": "stdout",
       "text": [
        "Epoch 66/170\n",
        "0s - loss: 1.3950 - acc: 0.2503 - val_loss: 1.3941 - val_acc: 0.2444\n"
       ]
      },
      {
       "output_type": "stream",
       "stream": "stdout",
       "text": [
        "Epoch 67/170\n",
        "0s - loss: 1.3944 - acc: 0.2503 - val_loss: 1.3935 - val_acc: 0.2444\n"
       ]
      },
      {
       "output_type": "stream",
       "stream": "stdout",
       "text": [
        "Epoch 68/170\n",
        "0s - loss: 1.3938 - acc: 0.2503 - val_loss: 1.3930 - val_acc: 0.2444\n"
       ]
      },
      {
       "output_type": "stream",
       "stream": "stdout",
       "text": [
        "Epoch 69/170\n",
        "0s - loss: 1.3933 - acc: 0.2503 - val_loss: 1.3925 - val_acc: 0.2444\n"
       ]
      },
      {
       "output_type": "stream",
       "stream": "stdout",
       "text": [
        "Epoch 70/170\n",
        "0s - loss: 1.3928 - acc: 0.2503 - val_loss: 1.3920 - val_acc: 0.2444\n"
       ]
      },
      {
       "output_type": "stream",
       "stream": "stdout",
       "text": [
        "Epoch 71/170\n",
        "0s - loss: 1.3923 - acc: 0.2503 - val_loss: 1.3916 - val_acc: 0.2444\n"
       ]
      },
      {
       "output_type": "stream",
       "stream": "stdout",
       "text": [
        "Epoch 72/170\n",
        "0s - loss: 1.3919 - acc: 0.2503 - val_loss: 1.3912 - val_acc: 0.2444\n"
       ]
      },
      {
       "output_type": "stream",
       "stream": "stdout",
       "text": [
        "Epoch 73/170\n",
        "0s - loss: 1.3915 - acc: 0.2503 - val_loss: 1.3908 - val_acc: 0.2444\n"
       ]
      },
      {
       "output_type": "stream",
       "stream": "stdout",
       "text": [
        "Epoch 74/170\n",
        "0s - loss: 1.3911 - acc: 0.2503 - val_loss: 1.3905 - val_acc: 0.2444\n"
       ]
      },
      {
       "output_type": "stream",
       "stream": "stdout",
       "text": [
        "Epoch 75/170\n",
        "0s - loss: 1.3907 - acc: 0.2503 - val_loss: 1.3902 - val_acc: 0.2444\n"
       ]
      },
      {
       "output_type": "stream",
       "stream": "stdout",
       "text": [
        "Epoch 76/170\n",
        "0s - loss: 1.3904 - acc: 0.2503 - val_loss: 1.3899 - val_acc: 0.2444\n"
       ]
      },
      {
       "output_type": "stream",
       "stream": "stdout",
       "text": [
        "Epoch 77/170\n",
        "0s - loss: 1.3901 - acc: 0.2503 - val_loss: 1.3896 - val_acc: 0.2444\n"
       ]
      },
      {
       "output_type": "stream",
       "stream": "stdout",
       "text": [
        "Epoch 78/170\n",
        "0s - loss: 1.3898 - acc: 0.2503 - val_loss: 1.3894 - val_acc: 0.2444\n"
       ]
      },
      {
       "output_type": "stream",
       "stream": "stdout",
       "text": [
        "Epoch 79/170\n",
        "0s - loss: 1.3896 - acc: 0.2503 - val_loss: 1.3891 - val_acc: 0.2444\n"
       ]
      },
      {
       "output_type": "stream",
       "stream": "stdout",
       "text": [
        "Epoch 80/170\n",
        "0s - loss: 1.3893 - acc: 0.2503 - val_loss: 1.3889 - val_acc: 0.2444\n"
       ]
      },
      {
       "output_type": "stream",
       "stream": "stdout",
       "text": [
        "Epoch 81/170\n",
        "0s - loss: 1.3891 - acc: 0.2503 - val_loss: 1.3887 - val_acc: 0.2444\n"
       ]
      },
      {
       "output_type": "stream",
       "stream": "stdout",
       "text": [
        "Epoch 82/170\n",
        "0s - loss: 1.3889 - acc: 0.2503 - val_loss: 1.3885 - val_acc: 0.2444\n"
       ]
      },
      {
       "output_type": "stream",
       "stream": "stdout",
       "text": [
        "Epoch 83/170\n",
        "0s - loss: 1.3887 - acc: 0.2503 - val_loss: 1.3883 - val_acc: 0.2444\n"
       ]
      },
      {
       "output_type": "stream",
       "stream": "stdout",
       "text": [
        "Epoch 84/170\n",
        "0s - loss: 1.3885 - acc: 0.2503 - val_loss: 1.3882 - val_acc: 0.2444\n"
       ]
      },
      {
       "output_type": "stream",
       "stream": "stdout",
       "text": [
        "Epoch 85/170\n",
        "0s - loss: 1.3884 - acc: 0.2503 - val_loss: 1.3880 - val_acc: 0.2444\n"
       ]
      },
      {
       "output_type": "stream",
       "stream": "stdout",
       "text": [
        "Epoch 86/170\n",
        "0s - loss: 1.3882 - acc: 0.2503 - val_loss: 1.3879 - val_acc: 0.2444\n"
       ]
      },
      {
       "output_type": "stream",
       "stream": "stdout",
       "text": [
        "Epoch 87/170\n",
        "0s - loss: 1.3881 - acc: 0.2503 - val_loss: 1.3878 - val_acc: 0.2444\n"
       ]
      },
      {
       "output_type": "stream",
       "stream": "stdout",
       "text": [
        "Epoch 88/170\n",
        "0s - loss: 1.3879 - acc: 0.2503 - val_loss: 1.3876 - val_acc: 0.2444\n"
       ]
      },
      {
       "output_type": "stream",
       "stream": "stdout",
       "text": [
        "Epoch 89/170\n",
        "0s - loss: 1.3878 - acc: 0.2503 - val_loss: 1.3875 - val_acc: 0.2444\n"
       ]
      },
      {
       "output_type": "stream",
       "stream": "stdout",
       "text": [
        "Epoch 90/170\n",
        "0s - loss: 1.3877 - acc: 0.2503 - val_loss: 1.3874 - val_acc: 0.2444\n"
       ]
      },
      {
       "output_type": "stream",
       "stream": "stdout",
       "text": [
        "Epoch 91/170\n",
        "0s - loss: 1.3876 - acc: 0.2503 - val_loss: 1.3873 - val_acc: 0.2444\n"
       ]
      },
      {
       "output_type": "stream",
       "stream": "stdout",
       "text": [
        "Epoch 92/170\n",
        "0s - loss: 1.3875 - acc: 0.2503 - val_loss: 1.3873 - val_acc: 0.2444\n"
       ]
      },
      {
       "output_type": "stream",
       "stream": "stdout",
       "text": [
        "Epoch 93/170\n",
        "0s - loss: 1.3874 - acc: 0.2503 - val_loss: 1.3872 - val_acc: 0.2444\n"
       ]
      },
      {
       "output_type": "stream",
       "stream": "stdout",
       "text": [
        "Epoch 94/170\n",
        "0s - loss: 1.3873 - acc: 0.2503 - val_loss: 1.3871 - val_acc: 0.2444\n"
       ]
      },
      {
       "output_type": "stream",
       "stream": "stdout",
       "text": [
        "Epoch 95/170\n",
        "0s - loss: 1.3872 - acc: 0.2503 - val_loss: 1.3870 - val_acc: 0.2444\n"
       ]
      },
      {
       "output_type": "stream",
       "stream": "stdout",
       "text": [
        "Epoch 96/170\n",
        "0s - loss: 1.3872 - acc: 0.2503 - val_loss: 1.3870 - val_acc: 0.2444\n"
       ]
      },
      {
       "output_type": "stream",
       "stream": "stdout",
       "text": [
        "Epoch 97/170\n",
        "0s - loss: 1.3871 - acc: 0.2503 - val_loss: 1.3869 - val_acc: 0.2444\n"
       ]
      },
      {
       "output_type": "stream",
       "stream": "stdout",
       "text": [
        "Epoch 98/170\n",
        "0s - loss: 1.3870 - acc: 0.2503 - val_loss: 1.3869 - val_acc: 0.2444\n"
       ]
      },
      {
       "output_type": "stream",
       "stream": "stdout",
       "text": [
        "Epoch 99/170\n",
        "0s - loss: 1.3870 - acc: 0.2503 - val_loss: 1.3868 - val_acc: 0.2444\n"
       ]
      },
      {
       "output_type": "stream",
       "stream": "stdout",
       "text": [
        "Epoch 100/170\n",
        "0s - loss: 1.3869 - acc: 0.2503 - val_loss: 1.3868 - val_acc: 0.2444\n"
       ]
      },
      {
       "output_type": "stream",
       "stream": "stdout",
       "text": [
        "Epoch 101/170\n",
        "0s - loss: 1.3869 - acc: 0.2503 - val_loss: 1.3867 - val_acc: 0.2444\n"
       ]
      },
      {
       "output_type": "stream",
       "stream": "stdout",
       "text": [
        "Epoch 102/170\n",
        "0s - loss: 1.3868 - acc: 0.2503 - val_loss: 1.3867 - val_acc: 0.2444\n"
       ]
      },
      {
       "output_type": "stream",
       "stream": "stdout",
       "text": [
        "Epoch 103/170\n",
        "0s - loss: 1.3868 - acc: 0.2503 - val_loss: 1.3867 - val_acc: 0.2444\n"
       ]
      },
      {
       "output_type": "stream",
       "stream": "stdout",
       "text": [
        "Epoch 104/170\n",
        "0s - loss: 1.3868 - acc: 0.2503 - val_loss: 1.3866 - val_acc: 0.2444\n"
       ]
      },
      {
       "output_type": "stream",
       "stream": "stdout",
       "text": [
        "Epoch 105/170\n",
        "0s - loss: 1.3867 - acc: 0.2503 - val_loss: 1.3866 - val_acc: 0.2444\n"
       ]
      },
      {
       "output_type": "stream",
       "stream": "stdout",
       "text": [
        "Epoch 106/170\n",
        "0s - loss: 1.3867 - acc: 0.2503 - val_loss: 1.3866 - val_acc: 0.2444\n"
       ]
      },
      {
       "output_type": "stream",
       "stream": "stdout",
       "text": [
        "Epoch 107/170\n",
        "0s - loss: 1.3867 - acc: 0.2503 - val_loss: 1.3865 - val_acc: 0.2444\n"
       ]
      },
      {
       "output_type": "stream",
       "stream": "stdout",
       "text": [
        "Epoch 108/170\n",
        "0s - loss: 1.3866 - acc: 0.2503 - val_loss: 1.3865 - val_acc: 0.2444\n"
       ]
      },
      {
       "output_type": "stream",
       "stream": "stdout",
       "text": [
        "Epoch 109/170\n",
        "0s - loss: 1.3866 - acc: 0.2503 - val_loss: 1.3865 - val_acc: 0.2444\n"
       ]
      },
      {
       "output_type": "stream",
       "stream": "stdout",
       "text": [
        "Epoch 110/170\n",
        "0s - loss: 1.3866 - acc: 0.2503 - val_loss: 1.3865 - val_acc: 0.2444\n"
       ]
      },
      {
       "output_type": "stream",
       "stream": "stdout",
       "text": [
        "Epoch 111/170\n",
        "0s - loss: 1.3866 - acc: 0.2503 - val_loss: 1.3865 - val_acc: 0.2444\n"
       ]
      },
      {
       "output_type": "stream",
       "stream": "stdout",
       "text": [
        "Epoch 112/170\n",
        "0s - loss: 1.3865 - acc: 0.2503 - val_loss: 1.3864 - val_acc: 0.2444\n"
       ]
      },
      {
       "output_type": "stream",
       "stream": "stdout",
       "text": [
        "Epoch 113/170\n",
        "0s - loss: 1.3865 - acc: 0.2503 - val_loss: 1.3864 - val_acc: 0.2444\n"
       ]
      },
      {
       "output_type": "stream",
       "stream": "stdout",
       "text": [
        "Epoch 114/170\n",
        "0s - loss: 1.3865 - acc: 0.2503 - val_loss: 1.3864 - val_acc: 0.2444\n"
       ]
      },
      {
       "output_type": "stream",
       "stream": "stdout",
       "text": [
        "Epoch 115/170\n",
        "0s - loss: 1.3865 - acc: 0.2503 - val_loss: 1.3864 - val_acc: 0.2444\n"
       ]
      },
      {
       "output_type": "stream",
       "stream": "stdout",
       "text": [
        "Epoch 116/170\n",
        "0s - loss: 1.3865 - acc: 0.2503 - val_loss: 1.3864 - val_acc: 0.2444\n"
       ]
      },
      {
       "output_type": "stream",
       "stream": "stdout",
       "text": [
        "Epoch 117/170\n",
        "0s - loss: 1.3865 - acc: 0.2503 - val_loss: 1.3864 - val_acc: 0.2444\n"
       ]
      },
      {
       "output_type": "stream",
       "stream": "stdout",
       "text": [
        "Epoch 118/170\n",
        "0s - loss: 1.3864 - acc: 0.2503 - val_loss: 1.3864 - val_acc: 0.2444\n"
       ]
      },
      {
       "output_type": "stream",
       "stream": "stdout",
       "text": [
        "Epoch 119/170\n",
        "0s - loss: 1.3864 - acc: 0.2503 - val_loss: 1.3864 - val_acc: 0.2444\n"
       ]
      },
      {
       "output_type": "stream",
       "stream": "stdout",
       "text": [
        "Epoch 120/170\n",
        "0s - loss: 1.3864 - acc: 0.2503 - val_loss: 1.3864 - val_acc: 0.2444\n"
       ]
      },
      {
       "output_type": "stream",
       "stream": "stdout",
       "text": [
        "Epoch 121/170\n",
        "0s - loss: 1.3864 - acc: 0.2503 - val_loss: 1.3864 - val_acc: 0.2444\n"
       ]
      },
      {
       "output_type": "stream",
       "stream": "stdout",
       "text": [
        "Epoch 122/170\n",
        "0s - loss: 1.3864 - acc: 0.2503 - val_loss: 1.3864 - val_acc: 0.2444\n"
       ]
      },
      {
       "output_type": "stream",
       "stream": "stdout",
       "text": [
        "Epoch 123/170\n",
        "0s - loss: 1.3864 - acc: 0.2503 - val_loss: 1.3863 - val_acc: 0.2444\n"
       ]
      },
      {
       "output_type": "stream",
       "stream": "stdout",
       "text": [
        "Epoch 124/170\n",
        "0s - loss: 1.3864 - acc: 0.2503 - val_loss: 1.3863 - val_acc: 0.2444\n"
       ]
      },
      {
       "output_type": "stream",
       "stream": "stdout",
       "text": [
        "Epoch 125/170\n",
        "0s - loss: 1.3864 - acc: 0.2503 - val_loss: 1.3863 - val_acc: 0.2444\n"
       ]
      },
      {
       "output_type": "stream",
       "stream": "stdout",
       "text": [
        "Epoch 126/170\n",
        "0s - loss: 1.3864 - acc: 0.2503 - val_loss: 1.3863 - val_acc: 0.2444\n"
       ]
      },
      {
       "output_type": "stream",
       "stream": "stdout",
       "text": [
        "Epoch 127/170\n",
        "0s - loss: 1.3864 - acc: 0.2503 - val_loss: 1.3863 - val_acc: 0.2444\n"
       ]
      },
      {
       "output_type": "stream",
       "stream": "stdout",
       "text": [
        "Epoch 128/170\n",
        "0s - loss: 1.3864 - acc: 0.2503 - val_loss: 1.3863 - val_acc: 0.2444\n"
       ]
      },
      {
       "output_type": "stream",
       "stream": "stdout",
       "text": [
        "Epoch 129/170\n",
        "0s - loss: 1.3864 - acc: 0.2503 - val_loss: 1.3863 - val_acc: 0.2444\n"
       ]
      },
      {
       "output_type": "stream",
       "stream": "stdout",
       "text": [
        "Epoch 130/170\n",
        "0s - loss: 1.3863 - acc: 0.2503 - val_loss: 1.3863 - val_acc: 0.2444\n"
       ]
      },
      {
       "output_type": "stream",
       "stream": "stdout",
       "text": [
        "Epoch 131/170\n",
        "0s - loss: 1.3863 - acc: 0.2503 - val_loss: 1.3863 - val_acc: 0.2444\n"
       ]
      },
      {
       "output_type": "stream",
       "stream": "stdout",
       "text": [
        "Epoch 132/170\n",
        "0s - loss: 1.3863 - acc: 0.2503 - val_loss: 1.3863 - val_acc: 0.2444\n"
       ]
      },
      {
       "output_type": "stream",
       "stream": "stdout",
       "text": [
        "Epoch 133/170\n",
        "0s - loss: 1.3863 - acc: 0.2503 - val_loss: 1.3863 - val_acc: 0.2444\n"
       ]
      },
      {
       "output_type": "stream",
       "stream": "stdout",
       "text": [
        "Epoch 134/170\n",
        "0s - loss: 1.3863 - acc: 0.2503 - val_loss: 1.3863 - val_acc: 0.2444\n"
       ]
      },
      {
       "output_type": "stream",
       "stream": "stdout",
       "text": [
        "Epoch 135/170\n",
        "0s - loss: 1.3863 - acc: 0.2503 - val_loss: 1.3863 - val_acc: 0.2444\n"
       ]
      },
      {
       "output_type": "stream",
       "stream": "stdout",
       "text": [
        "Epoch 136/170\n",
        "0s - loss: 1.3863 - acc: 0.2503 - val_loss: 1.3863 - val_acc: 0.2444\n"
       ]
      },
      {
       "output_type": "stream",
       "stream": "stdout",
       "text": [
        "Epoch 137/170\n",
        "0s - loss: 1.3863 - acc: 0.2503 - val_loss: 1.3863 - val_acc: 0.2444\n"
       ]
      },
      {
       "output_type": "stream",
       "stream": "stdout",
       "text": [
        "Epoch 138/170\n",
        "0s - loss: 1.3863 - acc: 0.2503 - val_loss: 1.3863 - val_acc: 0.2444\n"
       ]
      },
      {
       "output_type": "stream",
       "stream": "stdout",
       "text": [
        "Epoch 139/170\n",
        "0s - loss: 1.3863 - acc: 0.2503 - val_loss: 1.3863 - val_acc: 0.2444\n"
       ]
      },
      {
       "output_type": "stream",
       "stream": "stdout",
       "text": [
        "Epoch 140/170\n",
        "0s - loss: 1.3863 - acc: 0.2503 - val_loss: 1.3863 - val_acc: 0.2444\n"
       ]
      },
      {
       "output_type": "stream",
       "stream": "stdout",
       "text": [
        "Epoch 141/170\n",
        "0s - loss: 1.3863 - acc: 0.2503 - val_loss: 1.3863 - val_acc: 0.2444\n"
       ]
      },
      {
       "output_type": "stream",
       "stream": "stdout",
       "text": [
        "Epoch 142/170\n",
        "0s - loss: 1.3863 - acc: 0.2503 - val_loss: 1.3863 - val_acc: 0.2444\n"
       ]
      },
      {
       "output_type": "stream",
       "stream": "stdout",
       "text": [
        "Epoch 143/170\n",
        "0s - loss: 1.3863 - acc: 0.2503 - val_loss: 1.3863 - val_acc: 0.2444\n"
       ]
      },
      {
       "output_type": "stream",
       "stream": "stdout",
       "text": [
        "Epoch 144/170\n",
        "0s - loss: 1.3863 - acc: 0.2503 - val_loss: 1.3863 - val_acc: 0.2444\n"
       ]
      },
      {
       "output_type": "stream",
       "stream": "stdout",
       "text": [
        "Epoch 145/170\n",
        "0s - loss: 1.3863 - acc: 0.2503 - val_loss: 1.3863 - val_acc: 0.2444\n"
       ]
      },
      {
       "output_type": "stream",
       "stream": "stdout",
       "text": [
        "Epoch 146/170\n",
        "0s - loss: 1.3863 - acc: 0.2503 - val_loss: 1.3863 - val_acc: 0.2444\n"
       ]
      },
      {
       "output_type": "stream",
       "stream": "stdout",
       "text": [
        "Epoch 147/170\n",
        "0s - loss: 1.3863 - acc: 0.2503 - val_loss: 1.3863 - val_acc: 0.2444\n"
       ]
      },
      {
       "output_type": "stream",
       "stream": "stdout",
       "text": [
        "Epoch 148/170\n",
        "0s - loss: 1.3863 - acc: 0.2503 - val_loss: 1.3863 - val_acc: 0.2444\n"
       ]
      },
      {
       "output_type": "stream",
       "stream": "stdout",
       "text": [
        "Epoch 149/170\n",
        "0s - loss: 1.3863 - acc: 0.2503 - val_loss: 1.3863 - val_acc: 0.2444\n"
       ]
      },
      {
       "output_type": "stream",
       "stream": "stdout",
       "text": [
        "Epoch 150/170\n",
        "0s - loss: 1.3863 - acc: 0.2503 - val_loss: 1.3863 - val_acc: 0.2444\n"
       ]
      },
      {
       "output_type": "stream",
       "stream": "stdout",
       "text": [
        "Epoch 151/170\n",
        "0s - loss: 1.3863 - acc: 0.2503 - val_loss: 1.3863 - val_acc: 0.2444\n"
       ]
      },
      {
       "output_type": "stream",
       "stream": "stdout",
       "text": [
        "Epoch 152/170\n",
        "0s - loss: 1.3863 - acc: 0.2503 - val_loss: 1.3863 - val_acc: 0.2444\n"
       ]
      },
      {
       "output_type": "stream",
       "stream": "stdout",
       "text": [
        "Epoch 153/170\n",
        "0s - loss: 1.3863 - acc: 0.2503 - val_loss: 1.3863 - val_acc: 0.2444\n"
       ]
      },
      {
       "output_type": "stream",
       "stream": "stdout",
       "text": [
        "Epoch 154/170\n",
        "0s - loss: 1.3863 - acc: 0.2503 - val_loss: 1.3863 - val_acc: 0.2444\n"
       ]
      },
      {
       "output_type": "stream",
       "stream": "stdout",
       "text": [
        "Epoch 155/170\n",
        "0s - loss: 1.3863 - acc: 0.2503 - val_loss: 1.3863 - val_acc: 0.2444\n"
       ]
      },
      {
       "output_type": "stream",
       "stream": "stdout",
       "text": [
        "Epoch 156/170\n",
        "0s - loss: 1.3863 - acc: 0.2503 - val_loss: 1.3863 - val_acc: 0.2444\n"
       ]
      },
      {
       "output_type": "stream",
       "stream": "stdout",
       "text": [
        "Epoch 157/170\n",
        "0s - loss: 1.3863 - acc: 0.2503 - val_loss: 1.3863 - val_acc: 0.2444\n"
       ]
      },
      {
       "output_type": "stream",
       "stream": "stdout",
       "text": [
        "Epoch 158/170\n",
        "0s - loss: 1.3863 - acc: 0.2503 - val_loss: 1.3863 - val_acc: 0.2444\n"
       ]
      },
      {
       "output_type": "stream",
       "stream": "stdout",
       "text": [
        "Epoch 159/170\n",
        "0s - loss: 1.3863 - acc: 0.2503 - val_loss: 1.3863 - val_acc: 0.2444\n"
       ]
      },
      {
       "output_type": "stream",
       "stream": "stdout",
       "text": [
        "Epoch 160/170\n",
        "0s - loss: 1.3863 - acc: 0.2503 - val_loss: 1.3863 - val_acc: 0.2444\n"
       ]
      },
      {
       "output_type": "stream",
       "stream": "stdout",
       "text": [
        "Epoch 161/170\n",
        "0s - loss: 1.3863 - acc: 0.2503 - val_loss: 1.3863 - val_acc: 0.2444\n"
       ]
      },
      {
       "output_type": "stream",
       "stream": "stdout",
       "text": [
        "Epoch 162/170\n",
        "0s - loss: 1.3863 - acc: 0.2503 - val_loss: 1.3863 - val_acc: 0.2444\n"
       ]
      },
      {
       "output_type": "stream",
       "stream": "stdout",
       "text": [
        "Epoch 163/170\n",
        "0s - loss: 1.3863 - acc: 0.2503 - val_loss: 1.3863 - val_acc: 0.2444\n"
       ]
      },
      {
       "output_type": "stream",
       "stream": "stdout",
       "text": [
        "Epoch 164/170\n",
        "0s - loss: 1.3863 - acc: 0.2503 - val_loss: 1.3863 - val_acc: 0.2444\n"
       ]
      },
      {
       "output_type": "stream",
       "stream": "stdout",
       "text": [
        "Epoch 165/170\n",
        "0s - loss: 1.3863 - acc: 0.2503 - val_loss: 1.3863 - val_acc: 0.2444\n"
       ]
      },
      {
       "output_type": "stream",
       "stream": "stdout",
       "text": [
        "Epoch 166/170\n",
        "0s - loss: 1.3863 - acc: 0.2503 - val_loss: 1.3863 - val_acc: 0.2444\n"
       ]
      },
      {
       "output_type": "stream",
       "stream": "stdout",
       "text": [
        "Epoch 167/170\n",
        "0s - loss: 1.3863 - acc: 0.2503 - val_loss: 1.3863 - val_acc: 0.2444\n"
       ]
      },
      {
       "output_type": "stream",
       "stream": "stdout",
       "text": [
        "Epoch 168/170\n",
        "0s - loss: 1.3863 - acc: 0.2503 - val_loss: 1.3863 - val_acc: 0.2444\n"
       ]
      },
      {
       "output_type": "stream",
       "stream": "stdout",
       "text": [
        "Epoch 169/170\n",
        "0s - loss: 1.3863 - acc: 0.2503 - val_loss: 1.3863 - val_acc: 0.2444\n"
       ]
      },
      {
       "output_type": "stream",
       "stream": "stdout",
       "text": [
        "Epoch 170/170\n",
        "0s - loss: 1.3863 - acc: 0.2503 - val_loss: 1.3863 - val_acc: 0.2444\n"
       ]
      },
      {
       "output_type": "stream",
       "stream": "stdout",
       "text": [
        "\r",
        " 5000/20000 [======>.......................] - ETA: 0s"
       ]
      },
      {
       "output_type": "stream",
       "stream": "stdout",
       "text": [
        "\b\b\b\b\b\b\b\b\b\b\b\b\b\b\b\b\b\b\b\b\b\b\b\b\b\b\b\b\b\b\b\b\b\b\b\b\b\b\b\b\b\b\b\b\b\b\b\b\b\b\b\b\b\b\r",
        "20000/20000 [==============================] - 0s     "
       ]
      },
      {
       "output_type": "stream",
       "stream": "stdout",
       "text": [
        "\n",
        "\r",
        " 5000/20000 [======>.......................] - ETA: 0s"
       ]
      },
      {
       "output_type": "stream",
       "stream": "stdout",
       "text": [
        "\b\b\b\b\b\b\b\b\b\b\b\b\b\b\b\b\b\b\b\b\b\b\b\b\b\b\b\b\b\b\b\b\b\b\b\b\b\b\b\b\b\b\b\b\b\b\b\b\b\b\b\b\b\b\r",
        "20000/20000 [==============================] - 0s     "
       ]
      },
      {
       "output_type": "stream",
       "stream": "stdout",
       "text": [
        "\n",
        "Train on 80000 samples, validate on 20000 samples\n",
        "Epoch 1/180\n",
        "0s - loss: 1.0313 - acc: 0.2492 - val_loss: 1.0317 - val_acc: 0.2551\n"
       ]
      },
      {
       "output_type": "stream",
       "stream": "stdout",
       "text": [
        "Epoch 2/180\n",
        "0s - loss: 1.0242 - acc: 0.2492 - val_loss: 1.0248 - val_acc: 0.2551\n"
       ]
      },
      {
       "output_type": "stream",
       "stream": "stdout",
       "text": [
        "Epoch 3/180\n",
        "0s - loss: 1.0175 - acc: 0.2492 - val_loss: 1.0182 - val_acc: 0.2551\n"
       ]
      },
      {
       "output_type": "stream",
       "stream": "stdout",
       "text": [
        "Epoch 4/180\n",
        "0s - loss: 1.0111 - acc: 0.2492 - val_loss: 1.0120 - val_acc: 0.2551\n"
       ]
      },
      {
       "output_type": "stream",
       "stream": "stdout",
       "text": [
        "Epoch 5/180\n",
        "0s - loss: 1.0052 - acc: 0.2492 - val_loss: 1.0062 - val_acc: 0.2551\n"
       ]
      },
      {
       "output_type": "stream",
       "stream": "stdout",
       "text": [
        "Epoch 6/180\n",
        "0s - loss: 0.9995 - acc: 0.2492 - val_loss: 1.0007 - val_acc: 0.2551\n"
       ]
      },
      {
       "output_type": "stream",
       "stream": "stdout",
       "text": [
        "Epoch 7/180\n",
        "0s - loss: 0.9941 - acc: 0.2492 - val_loss: 0.9955 - val_acc: 0.2551\n"
       ]
      },
      {
       "output_type": "stream",
       "stream": "stdout",
       "text": [
        "Epoch 8/180\n",
        "0s - loss: 0.9891 - acc: 0.2492 - val_loss: 0.9905 - val_acc: 0.2551\n"
       ]
      },
      {
       "output_type": "stream",
       "stream": "stdout",
       "text": [
        "Epoch 9/180\n",
        "0s - loss: 0.9842 - acc: 0.2492 - val_loss: 0.9858 - val_acc: 0.2551\n"
       ]
      },
      {
       "output_type": "stream",
       "stream": "stdout",
       "text": [
        "Epoch 10/180\n",
        "0s - loss: 0.9797 - acc: 0.2484 - val_loss: 0.9813 - val_acc: 0.2515\n"
       ]
      },
      {
       "output_type": "stream",
       "stream": "stdout",
       "text": [
        "Epoch 11/180\n",
        "0s - loss: 0.9753 - acc: 0.2514 - val_loss: 0.9771 - val_acc: 0.2515\n"
       ]
      },
      {
       "output_type": "stream",
       "stream": "stdout",
       "text": [
        "Epoch 12/180\n",
        "0s - loss: 0.9712 - acc: 0.2514 - val_loss: 0.9730 - val_acc: 0.2515\n"
       ]
      },
      {
       "output_type": "stream",
       "stream": "stdout",
       "text": [
        "Epoch 13/180\n",
        "0s - loss: 0.9673 - acc: 0.2514 - val_loss: 0.9692 - val_acc: 0.2515\n"
       ]
      },
      {
       "output_type": "stream",
       "stream": "stdout",
       "text": [
        "Epoch 14/180\n",
        "0s - loss: 0.9635 - acc: 0.2514 - val_loss: 0.9655 - val_acc: 0.2515\n"
       ]
      },
      {
       "output_type": "stream",
       "stream": "stdout",
       "text": [
        "Epoch 15/180\n",
        "0s - loss: 0.9599 - acc: 0.2514 - val_loss: 0.9620 - val_acc: 0.2515\n"
       ]
      },
      {
       "output_type": "stream",
       "stream": "stdout",
       "text": [
        "Epoch 16/180\n",
        "0s - loss: 0.9565 - acc: 0.2514 - val_loss: 0.9586 - val_acc: 0.2515\n"
       ]
      },
      {
       "output_type": "stream",
       "stream": "stdout",
       "text": [
        "Epoch 17/180\n",
        "0s - loss: 0.9532 - acc: 0.2514 - val_loss: 0.9554 - val_acc: 0.2515\n"
       ]
      },
      {
       "output_type": "stream",
       "stream": "stdout",
       "text": [
        "Epoch 18/180\n",
        "0s - loss: 0.9501 - acc: 0.2514 - val_loss: 0.9523 - val_acc: 0.2515\n"
       ]
      },
      {
       "output_type": "stream",
       "stream": "stdout",
       "text": [
        "Epoch 19/180\n",
        "0s - loss: 0.9471 - acc: 0.2514 - val_loss: 0.9494 - val_acc: 0.2515\n"
       ]
      },
      {
       "output_type": "stream",
       "stream": "stdout",
       "text": [
        "Epoch 20/180\n",
        "0s - loss: 0.9442 - acc: 0.2514 - val_loss: 0.9466 - val_acc: 0.2515\n"
       ]
      },
      {
       "output_type": "stream",
       "stream": "stdout",
       "text": [
        "Epoch 21/180\n",
        "0s - loss: 0.9415 - acc: 0.2514 - val_loss: 0.9439 - val_acc: 0.2515\n"
       ]
      },
      {
       "output_type": "stream",
       "stream": "stdout",
       "text": [
        "Epoch 22/180\n",
        "0s - loss: 0.9388 - acc: 0.2514 - val_loss: 0.9413 - val_acc: 0.2515\n"
       ]
      },
      {
       "output_type": "stream",
       "stream": "stdout",
       "text": [
        "Epoch 23/180\n",
        "0s - loss: 0.9363 - acc: 0.2514 - val_loss: 0.9388 - val_acc: 0.2515\n"
       ]
      },
      {
       "output_type": "stream",
       "stream": "stdout",
       "text": [
        "Epoch 24/180\n",
        "0s - loss: 0.9338 - acc: 0.2514 - val_loss: 0.9364 - val_acc: 0.2515\n"
       ]
      },
      {
       "output_type": "stream",
       "stream": "stdout",
       "text": [
        "Epoch 25/180\n",
        "0s - loss: 0.9315 - acc: 0.2514 - val_loss: 0.9341 - val_acc: 0.2515\n"
       ]
      },
      {
       "output_type": "stream",
       "stream": "stdout",
       "text": [
        "Epoch 26/180\n",
        "0s - loss: 0.9292 - acc: 0.2514 - val_loss: 0.9318 - val_acc: 0.2515\n"
       ]
      },
      {
       "output_type": "stream",
       "stream": "stdout",
       "text": [
        "Epoch 27/180\n",
        "0s - loss: 0.9271 - acc: 0.2514 - val_loss: 0.9297 - val_acc: 0.2515\n"
       ]
      },
      {
       "output_type": "stream",
       "stream": "stdout",
       "text": [
        "Epoch 28/180\n",
        "0s - loss: 0.9250 - acc: 0.2514 - val_loss: 0.9276 - val_acc: 0.2515\n"
       ]
      },
      {
       "output_type": "stream",
       "stream": "stdout",
       "text": [
        "Epoch 29/180\n",
        "0s - loss: 0.9229 - acc: 0.2514 - val_loss: 0.9257 - val_acc: 0.2515\n"
       ]
      },
      {
       "output_type": "stream",
       "stream": "stdout",
       "text": [
        "Epoch 30/180\n",
        "0s - loss: 0.9210 - acc: 0.2514 - val_loss: 0.9237 - val_acc: 0.2515\n"
       ]
      },
      {
       "output_type": "stream",
       "stream": "stdout",
       "text": [
        "Epoch 31/180\n",
        "0s - loss: 0.9191 - acc: 0.2514 - val_loss: 0.9219 - val_acc: 0.2515\n"
       ]
      },
      {
       "output_type": "stream",
       "stream": "stdout",
       "text": [
        "Epoch 32/180\n",
        "0s - loss: 0.9173 - acc: 0.2514 - val_loss: 0.9201 - val_acc: 0.2515\n"
       ]
      },
      {
       "output_type": "stream",
       "stream": "stdout",
       "text": [
        "Epoch 33/180\n",
        "0s - loss: 0.9155 - acc: 0.2514 - val_loss: 0.9184 - val_acc: 0.2515\n"
       ]
      },
      {
       "output_type": "stream",
       "stream": "stdout",
       "text": [
        "Epoch 34/180\n",
        "0s - loss: 0.9138 - acc: 0.2514 - val_loss: 0.9167 - val_acc: 0.2515\n"
       ]
      },
      {
       "output_type": "stream",
       "stream": "stdout",
       "text": [
        "Epoch 35/180\n",
        "0s - loss: 0.9122 - acc: 0.2514 - val_loss: 0.9151 - val_acc: 0.2515\n"
       ]
      },
      {
       "output_type": "stream",
       "stream": "stdout",
       "text": [
        "Epoch 36/180\n",
        "0s - loss: 0.9106 - acc: 0.2514 - val_loss: 0.9135 - val_acc: 0.2515\n"
       ]
      },
      {
       "output_type": "stream",
       "stream": "stdout",
       "text": [
        "Epoch 37/180\n",
        "0s - loss: 0.9091 - acc: 0.2514 - val_loss: 0.9120 - val_acc: 0.2515\n"
       ]
      },
      {
       "output_type": "stream",
       "stream": "stdout",
       "text": [
        "Epoch 38/180\n",
        "0s - loss: 0.9076 - acc: 0.2514 - val_loss: 0.9105 - val_acc: 0.2515\n"
       ]
      },
      {
       "output_type": "stream",
       "stream": "stdout",
       "text": [
        "Epoch 39/180\n",
        "0s - loss: 0.9062 - acc: 0.2514 - val_loss: 0.9091 - val_acc: 0.2515\n"
       ]
      },
      {
       "output_type": "stream",
       "stream": "stdout",
       "text": [
        "Epoch 40/180\n",
        "0s - loss: 0.9048 - acc: 0.2514 - val_loss: 0.9077 - val_acc: 0.2515\n"
       ]
      },
      {
       "output_type": "stream",
       "stream": "stdout",
       "text": [
        "Epoch 41/180\n",
        "0s - loss: 0.9034 - acc: 0.2514 - val_loss: 0.9064 - val_acc: 0.2515\n"
       ]
      },
      {
       "output_type": "stream",
       "stream": "stdout",
       "text": [
        "Epoch 42/180\n",
        "0s - loss: 0.9021 - acc: 0.2514 - val_loss: 0.9051 - val_acc: 0.2515\n"
       ]
      },
      {
       "output_type": "stream",
       "stream": "stdout",
       "text": [
        "Epoch 43/180\n",
        "0s - loss: 0.9008 - acc: 0.2514 - val_loss: 0.9038 - val_acc: 0.2515\n"
       ]
      },
      {
       "output_type": "stream",
       "stream": "stdout",
       "text": [
        "Epoch 44/180\n",
        "0s - loss: 0.8996 - acc: 0.2514 - val_loss: 0.9026 - val_acc: 0.2515\n"
       ]
      },
      {
       "output_type": "stream",
       "stream": "stdout",
       "text": [
        "Epoch 45/180\n",
        "0s - loss: 0.8984 - acc: 0.2514 - val_loss: 0.9014 - val_acc: 0.2515\n"
       ]
      },
      {
       "output_type": "stream",
       "stream": "stdout",
       "text": [
        "Epoch 46/180\n",
        "0s - loss: 0.8972 - acc: 0.2514 - val_loss: 0.9003 - val_acc: 0.2515\n"
       ]
      },
      {
       "output_type": "stream",
       "stream": "stdout",
       "text": [
        "Epoch 47/180\n",
        "0s - loss: 0.8961 - acc: 0.2514 - val_loss: 0.8991 - val_acc: 0.2515\n"
       ]
      },
      {
       "output_type": "stream",
       "stream": "stdout",
       "text": [
        "Epoch 48/180\n",
        "0s - loss: 0.8950 - acc: 0.2514 - val_loss: 0.8980 - val_acc: 0.2515\n"
       ]
      },
      {
       "output_type": "stream",
       "stream": "stdout",
       "text": [
        "Epoch 49/180\n",
        "0s - loss: 0.8939 - acc: 0.2514 - val_loss: 0.8970 - val_acc: 0.2515\n"
       ]
      },
      {
       "output_type": "stream",
       "stream": "stdout",
       "text": [
        "Epoch 50/180\n",
        "0s - loss: 0.8928 - acc: 0.2514 - val_loss: 0.8959 - val_acc: 0.2515\n"
       ]
      },
      {
       "output_type": "stream",
       "stream": "stdout",
       "text": [
        "Epoch 51/180\n",
        "0s - loss: 0.8918 - acc: 0.2514 - val_loss: 0.8949 - val_acc: 0.2515\n"
       ]
      },
      {
       "output_type": "stream",
       "stream": "stdout",
       "text": [
        "Epoch 52/180\n",
        "0s - loss: 0.8908 - acc: 0.2514 - val_loss: 0.8939 - val_acc: 0.2515\n"
       ]
      },
      {
       "output_type": "stream",
       "stream": "stdout",
       "text": [
        "Epoch 53/180\n",
        "0s - loss: 0.8899 - acc: 0.2514 - val_loss: 0.8930 - val_acc: 0.2515\n"
       ]
      },
      {
       "output_type": "stream",
       "stream": "stdout",
       "text": [
        "Epoch 54/180\n",
        "0s - loss: 0.8889 - acc: 0.2514 - val_loss: 0.8921 - val_acc: 0.2515\n"
       ]
      },
      {
       "output_type": "stream",
       "stream": "stdout",
       "text": [
        "Epoch 55/180\n",
        "0s - loss: 0.8880 - acc: 0.2514 - val_loss: 0.8912 - val_acc: 0.2515\n"
       ]
      },
      {
       "output_type": "stream",
       "stream": "stdout",
       "text": [
        "Epoch 56/180\n",
        "0s - loss: 0.8871 - acc: 0.2514 - val_loss: 0.8903 - val_acc: 0.2515\n"
       ]
      },
      {
       "output_type": "stream",
       "stream": "stdout",
       "text": [
        "Epoch 57/180\n",
        "0s - loss: 0.8863 - acc: 0.2514 - val_loss: 0.8894 - val_acc: 0.2515\n"
       ]
      },
      {
       "output_type": "stream",
       "stream": "stdout",
       "text": [
        "Epoch 58/180\n",
        "0s - loss: 0.8854 - acc: 0.2514 - val_loss: 0.8886 - val_acc: 0.2515\n"
       ]
      },
      {
       "output_type": "stream",
       "stream": "stdout",
       "text": [
        "Epoch 59/180\n",
        "0s - loss: 0.8846 - acc: 0.2514 - val_loss: 0.8877 - val_acc: 0.2515\n"
       ]
      },
      {
       "output_type": "stream",
       "stream": "stdout",
       "text": [
        "Epoch 60/180\n",
        "0s - loss: 0.8838 - acc: 0.2514 - val_loss: 0.8869 - val_acc: 0.2515\n"
       ]
      },
      {
       "output_type": "stream",
       "stream": "stdout",
       "text": [
        "Epoch 61/180\n",
        "0s - loss: 0.8830 - acc: 0.2514 - val_loss: 0.8862 - val_acc: 0.2515\n"
       ]
      },
      {
       "output_type": "stream",
       "stream": "stdout",
       "text": [
        "Epoch 62/180\n",
        "0s - loss: 0.8822 - acc: 0.2514 - val_loss: 0.8854 - val_acc: 0.2515\n"
       ]
      },
      {
       "output_type": "stream",
       "stream": "stdout",
       "text": [
        "Epoch 63/180\n",
        "0s - loss: 0.8814 - acc: 0.2514 - val_loss: 0.8846 - val_acc: 0.2515\n"
       ]
      },
      {
       "output_type": "stream",
       "stream": "stdout",
       "text": [
        "Epoch 64/180\n",
        "0s - loss: 0.8807 - acc: 0.2514 - val_loss: 0.8839 - val_acc: 0.2515\n"
       ]
      },
      {
       "output_type": "stream",
       "stream": "stdout",
       "text": [
        "Epoch 65/180\n",
        "0s - loss: 0.8800 - acc: 0.2514 - val_loss: 0.8832 - val_acc: 0.2515\n"
       ]
      },
      {
       "output_type": "stream",
       "stream": "stdout",
       "text": [
        "Epoch 66/180\n",
        "0s - loss: 0.8793 - acc: 0.2514 - val_loss: 0.8825 - val_acc: 0.2515\n"
       ]
      },
      {
       "output_type": "stream",
       "stream": "stdout",
       "text": [
        "Epoch 67/180\n",
        "0s - loss: 0.8786 - acc: 0.2514 - val_loss: 0.8818 - val_acc: 0.2515\n"
       ]
      },
      {
       "output_type": "stream",
       "stream": "stdout",
       "text": [
        "Epoch 68/180\n",
        "0s - loss: 0.8779 - acc: 0.2514 - val_loss: 0.8811 - val_acc: 0.2515\n"
       ]
      },
      {
       "output_type": "stream",
       "stream": "stdout",
       "text": [
        "Epoch 69/180\n",
        "0s - loss: 0.8773 - acc: 0.2514 - val_loss: 0.8805 - val_acc: 0.2515\n"
       ]
      },
      {
       "output_type": "stream",
       "stream": "stdout",
       "text": [
        "Epoch 70/180\n",
        "0s - loss: 0.8766 - acc: 0.2514 - val_loss: 0.8799 - val_acc: 0.2515\n"
       ]
      },
      {
       "output_type": "stream",
       "stream": "stdout",
       "text": [
        "Epoch 71/180\n",
        "0s - loss: 0.8760 - acc: 0.2514 - val_loss: 0.8792 - val_acc: 0.2515\n"
       ]
      },
      {
       "output_type": "stream",
       "stream": "stdout",
       "text": [
        "Epoch 72/180\n",
        "0s - loss: 0.8754 - acc: 0.2514 - val_loss: 0.8786 - val_acc: 0.2515\n"
       ]
      },
      {
       "output_type": "stream",
       "stream": "stdout",
       "text": [
        "Epoch 73/180\n",
        "0s - loss: 0.8748 - acc: 0.2514 - val_loss: 0.8780 - val_acc: 0.2515\n"
       ]
      },
      {
       "output_type": "stream",
       "stream": "stdout",
       "text": [
        "Epoch 74/180\n",
        "0s - loss: 0.8742 - acc: 0.2514 - val_loss: 0.8774 - val_acc: 0.2515\n"
       ]
      },
      {
       "output_type": "stream",
       "stream": "stdout",
       "text": [
        "Epoch 75/180\n",
        "0s - loss: 0.8736 - acc: 0.2514 - val_loss: 0.8769 - val_acc: 0.2515\n"
       ]
      },
      {
       "output_type": "stream",
       "stream": "stdout",
       "text": [
        "Epoch 76/180\n",
        "0s - loss: 0.8730 - acc: 0.2514 - val_loss: 0.8763 - val_acc: 0.2515\n"
       ]
      },
      {
       "output_type": "stream",
       "stream": "stdout",
       "text": [
        "Epoch 77/180\n",
        "0s - loss: 0.8725 - acc: 0.2514 - val_loss: 0.8757 - val_acc: 0.2515\n"
       ]
      },
      {
       "output_type": "stream",
       "stream": "stdout",
       "text": [
        "Epoch 78/180\n",
        "0s - loss: 0.8719 - acc: 0.2514 - val_loss: 0.8752 - val_acc: 0.2515\n"
       ]
      },
      {
       "output_type": "stream",
       "stream": "stdout",
       "text": [
        "Epoch 79/180\n",
        "0s - loss: 0.8714 - acc: 0.2514 - val_loss: 0.8747 - val_acc: 0.2515\n"
       ]
      },
      {
       "output_type": "stream",
       "stream": "stdout",
       "text": [
        "Epoch 80/180\n",
        "0s - loss: 0.8709 - acc: 0.2514 - val_loss: 0.8741 - val_acc: 0.2515\n"
       ]
      },
      {
       "output_type": "stream",
       "stream": "stdout",
       "text": [
        "Epoch 81/180\n",
        "0s - loss: 0.8704 - acc: 0.2514 - val_loss: 0.8736 - val_acc: 0.2515\n"
       ]
      },
      {
       "output_type": "stream",
       "stream": "stdout",
       "text": [
        "Epoch 82/180\n",
        "0s - loss: 0.8699 - acc: 0.2514 - val_loss: 0.8731 - val_acc: 0.2515\n"
       ]
      },
      {
       "output_type": "stream",
       "stream": "stdout",
       "text": [
        "Epoch 83/180\n",
        "0s - loss: 0.8694 - acc: 0.2514 - val_loss: 0.8726 - val_acc: 0.2515\n"
       ]
      },
      {
       "output_type": "stream",
       "stream": "stdout",
       "text": [
        "Epoch 84/180\n",
        "0s - loss: 0.8689 - acc: 0.2514 - val_loss: 0.8722 - val_acc: 0.2515\n"
       ]
      },
      {
       "output_type": "stream",
       "stream": "stdout",
       "text": [
        "Epoch 85/180\n",
        "0s - loss: 0.8684 - acc: 0.2514 - val_loss: 0.8717 - val_acc: 0.2515\n"
       ]
      },
      {
       "output_type": "stream",
       "stream": "stdout",
       "text": [
        "Epoch 86/180\n",
        "0s - loss: 0.8679 - acc: 0.2514 - val_loss: 0.8712 - val_acc: 0.2515\n"
       ]
      },
      {
       "output_type": "stream",
       "stream": "stdout",
       "text": [
        "Epoch 87/180\n",
        "0s - loss: 0.8675 - acc: 0.2514 - val_loss: 0.8708 - val_acc: 0.2515\n"
       ]
      },
      {
       "output_type": "stream",
       "stream": "stdout",
       "text": [
        "Epoch 88/180\n",
        "0s - loss: 0.8670 - acc: 0.2514 - val_loss: 0.8703 - val_acc: 0.2515\n"
       ]
      },
      {
       "output_type": "stream",
       "stream": "stdout",
       "text": [
        "Epoch 89/180\n",
        "0s - loss: 0.8666 - acc: 0.2514 - val_loss: 0.8699 - val_acc: 0.2515\n"
       ]
      },
      {
       "output_type": "stream",
       "stream": "stdout",
       "text": [
        "Epoch 90/180\n",
        "0s - loss: 0.8662 - acc: 0.2514 - val_loss: 0.8694 - val_acc: 0.2515\n"
       ]
      },
      {
       "output_type": "stream",
       "stream": "stdout",
       "text": [
        "Epoch 91/180\n",
        "0s - loss: 0.8657 - acc: 0.2514 - val_loss: 0.8690 - val_acc: 0.2515\n"
       ]
      },
      {
       "output_type": "stream",
       "stream": "stdout",
       "text": [
        "Epoch 92/180\n",
        "0s - loss: 0.8653 - acc: 0.2514 - val_loss: 0.8686 - val_acc: 0.2515\n"
       ]
      },
      {
       "output_type": "stream",
       "stream": "stdout",
       "text": [
        "Epoch 93/180\n",
        "0s - loss: 0.8649 - acc: 0.2514 - val_loss: 0.8682 - val_acc: 0.2515\n"
       ]
      },
      {
       "output_type": "stream",
       "stream": "stdout",
       "text": [
        "Epoch 94/180\n",
        "0s - loss: 0.8645 - acc: 0.2514 - val_loss: 0.8678 - val_acc: 0.2515\n"
       ]
      },
      {
       "output_type": "stream",
       "stream": "stdout",
       "text": [
        "Epoch 95/180\n",
        "0s - loss: 0.8641 - acc: 0.2514 - val_loss: 0.8674 - val_acc: 0.2515\n"
       ]
      },
      {
       "output_type": "stream",
       "stream": "stdout",
       "text": [
        "Epoch 96/180\n",
        "0s - loss: 0.8637 - acc: 0.2514 - val_loss: 0.8670 - val_acc: 0.2515\n"
       ]
      },
      {
       "output_type": "stream",
       "stream": "stdout",
       "text": [
        "Epoch 97/180\n",
        "0s - loss: 0.8633 - acc: 0.2514 - val_loss: 0.8666 - val_acc: 0.2515\n"
       ]
      },
      {
       "output_type": "stream",
       "stream": "stdout",
       "text": [
        "Epoch 98/180\n",
        "0s - loss: 0.8630 - acc: 0.2514 - val_loss: 0.8663 - val_acc: 0.2515\n"
       ]
      },
      {
       "output_type": "stream",
       "stream": "stdout",
       "text": [
        "Epoch 99/180\n",
        "0s - loss: 0.8626 - acc: 0.2514 - val_loss: 0.8659 - val_acc: 0.2515\n"
       ]
      },
      {
       "output_type": "stream",
       "stream": "stdout",
       "text": [
        "Epoch 100/180\n",
        "0s - loss: 0.8622 - acc: 0.2514 - val_loss: 0.8655 - val_acc: 0.2515\n"
       ]
      },
      {
       "output_type": "stream",
       "stream": "stdout",
       "text": [
        "Epoch 101/180\n",
        "0s - loss: 0.8619 - acc: 0.2514 - val_loss: 0.8652 - val_acc: 0.2515\n"
       ]
      },
      {
       "output_type": "stream",
       "stream": "stdout",
       "text": [
        "Epoch 102/180\n",
        "0s - loss: 0.8615 - acc: 0.2514 - val_loss: 0.8648 - val_acc: 0.2515\n"
       ]
      },
      {
       "output_type": "stream",
       "stream": "stdout",
       "text": [
        "Epoch 103/180\n",
        "0s - loss: 0.8612 - acc: 0.2514 - val_loss: 0.8645 - val_acc: 0.2515\n"
       ]
      },
      {
       "output_type": "stream",
       "stream": "stdout",
       "text": [
        "Epoch 104/180\n",
        "0s - loss: 0.8608 - acc: 0.2514 - val_loss: 0.8641 - val_acc: 0.2515\n"
       ]
      },
      {
       "output_type": "stream",
       "stream": "stdout",
       "text": [
        "Epoch 105/180\n",
        "0s - loss: 0.8605 - acc: 0.2514 - val_loss: 0.8638 - val_acc: 0.2515\n"
       ]
      },
      {
       "output_type": "stream",
       "stream": "stdout",
       "text": [
        "Epoch 106/180\n",
        "0s - loss: 0.8602 - acc: 0.2514 - val_loss: 0.8635 - val_acc: 0.2515\n"
       ]
      },
      {
       "output_type": "stream",
       "stream": "stdout",
       "text": [
        "Epoch 107/180\n",
        "0s - loss: 0.8598 - acc: 0.2514 - val_loss: 0.8631 - val_acc: 0.2515\n"
       ]
      },
      {
       "output_type": "stream",
       "stream": "stdout",
       "text": [
        "Epoch 108/180\n",
        "0s - loss: 0.8595 - acc: 0.2514 - val_loss: 0.8628 - val_acc: 0.2515\n"
       ]
      },
      {
       "output_type": "stream",
       "stream": "stdout",
       "text": [
        "Epoch 109/180\n",
        "0s - loss: 0.8592 - acc: 0.2514 - val_loss: 0.8625 - val_acc: 0.2515\n"
       ]
      },
      {
       "output_type": "stream",
       "stream": "stdout",
       "text": [
        "Epoch 110/180\n",
        "0s - loss: 0.8589 - acc: 0.2514 - val_loss: 0.8622 - val_acc: 0.2515\n"
       ]
      },
      {
       "output_type": "stream",
       "stream": "stdout",
       "text": [
        "Epoch 111/180\n",
        "0s - loss: 0.8586 - acc: 0.2514 - val_loss: 0.8619 - val_acc: 0.2515\n"
       ]
      },
      {
       "output_type": "stream",
       "stream": "stdout",
       "text": [
        "Epoch 112/180\n",
        "0s - loss: 0.8583 - acc: 0.2514 - val_loss: 0.8616 - val_acc: 0.2515\n"
       ]
      },
      {
       "output_type": "stream",
       "stream": "stdout",
       "text": [
        "Epoch 113/180\n",
        "0s - loss: 0.8580 - acc: 0.2514 - val_loss: 0.8613 - val_acc: 0.2515\n"
       ]
      },
      {
       "output_type": "stream",
       "stream": "stdout",
       "text": [
        "Epoch 114/180\n",
        "0s - loss: 0.8577 - acc: 0.2514 - val_loss: 0.8610 - val_acc: 0.2515\n"
       ]
      },
      {
       "output_type": "stream",
       "stream": "stdout",
       "text": [
        "Epoch 115/180\n",
        "0s - loss: 0.8574 - acc: 0.2514 - val_loss: 0.8607 - val_acc: 0.2515\n"
       ]
      },
      {
       "output_type": "stream",
       "stream": "stdout",
       "text": [
        "Epoch 116/180\n",
        "0s - loss: 0.8571 - acc: 0.2514 - val_loss: 0.8604 - val_acc: 0.2515\n"
       ]
      },
      {
       "output_type": "stream",
       "stream": "stdout",
       "text": [
        "Epoch 117/180\n",
        "0s - loss: 0.8568 - acc: 0.2514 - val_loss: 0.8602 - val_acc: 0.2515\n"
       ]
      },
      {
       "output_type": "stream",
       "stream": "stdout",
       "text": [
        "Epoch 118/180\n",
        "0s - loss: 0.8566 - acc: 0.2514 - val_loss: 0.8599 - val_acc: 0.2515\n"
       ]
      },
      {
       "output_type": "stream",
       "stream": "stdout",
       "text": [
        "Epoch 119/180\n",
        "0s - loss: 0.8563 - acc: 0.2514 - val_loss: 0.8596 - val_acc: 0.2515\n"
       ]
      },
      {
       "output_type": "stream",
       "stream": "stdout",
       "text": [
        "Epoch 120/180\n",
        "0s - loss: 0.8560 - acc: 0.2514 - val_loss: 0.8594 - val_acc: 0.2515\n"
       ]
      },
      {
       "output_type": "stream",
       "stream": "stdout",
       "text": [
        "Epoch 121/180\n",
        "0s - loss: 0.8558 - acc: 0.2514 - val_loss: 0.8591 - val_acc: 0.2515\n"
       ]
      },
      {
       "output_type": "stream",
       "stream": "stdout",
       "text": [
        "Epoch 122/180\n",
        "0s - loss: 0.8555 - acc: 0.2514 - val_loss: 0.8588 - val_acc: 0.2515\n"
       ]
      },
      {
       "output_type": "stream",
       "stream": "stdout",
       "text": [
        "Epoch 123/180\n",
        "0s - loss: 0.8552 - acc: 0.2514 - val_loss: 0.8586 - val_acc: 0.2515\n"
       ]
      },
      {
       "output_type": "stream",
       "stream": "stdout",
       "text": [
        "Epoch 124/180\n",
        "0s - loss: 0.8550 - acc: 0.2514 - val_loss: 0.8583 - val_acc: 0.2515\n"
       ]
      },
      {
       "output_type": "stream",
       "stream": "stdout",
       "text": [
        "Epoch 125/180\n",
        "0s - loss: 0.8547 - acc: 0.2514 - val_loss: 0.8581 - val_acc: 0.2515\n"
       ]
      },
      {
       "output_type": "stream",
       "stream": "stdout",
       "text": [
        "Epoch 126/180\n",
        "0s - loss: 0.8545 - acc: 0.2514 - val_loss: 0.8578 - val_acc: 0.2515\n"
       ]
      },
      {
       "output_type": "stream",
       "stream": "stdout",
       "text": [
        "Epoch 127/180\n",
        "0s - loss: 0.8542 - acc: 0.2514 - val_loss: 0.8576 - val_acc: 0.2515\n"
       ]
      },
      {
       "output_type": "stream",
       "stream": "stdout",
       "text": [
        "Epoch 128/180\n",
        "0s - loss: 0.8540 - acc: 0.2514 - val_loss: 0.8574 - val_acc: 0.2515\n"
       ]
      },
      {
       "output_type": "stream",
       "stream": "stdout",
       "text": [
        "Epoch 129/180\n",
        "0s - loss: 0.8538 - acc: 0.2514 - val_loss: 0.8571 - val_acc: 0.2515\n"
       ]
      },
      {
       "output_type": "stream",
       "stream": "stdout",
       "text": [
        "Epoch 130/180\n",
        "0s - loss: 0.8535 - acc: 0.2514 - val_loss: 0.8569 - val_acc: 0.2515\n"
       ]
      },
      {
       "output_type": "stream",
       "stream": "stdout",
       "text": [
        "Epoch 131/180\n",
        "0s - loss: 0.8533 - acc: 0.2514 - val_loss: 0.8567 - val_acc: 0.2515\n"
       ]
      },
      {
       "output_type": "stream",
       "stream": "stdout",
       "text": [
        "Epoch 132/180\n",
        "0s - loss: 0.8531 - acc: 0.2514 - val_loss: 0.8564 - val_acc: 0.2515\n"
       ]
      },
      {
       "output_type": "stream",
       "stream": "stdout",
       "text": [
        "Epoch 133/180\n",
        "0s - loss: 0.8529 - acc: 0.2514 - val_loss: 0.8562 - val_acc: 0.2515\n"
       ]
      },
      {
       "output_type": "stream",
       "stream": "stdout",
       "text": [
        "Epoch 134/180\n",
        "0s - loss: 0.8526 - acc: 0.2514 - val_loss: 0.8560 - val_acc: 0.2515\n"
       ]
      },
      {
       "output_type": "stream",
       "stream": "stdout",
       "text": [
        "Epoch 135/180\n",
        "0s - loss: 0.8524 - acc: 0.2514 - val_loss: 0.8558 - val_acc: 0.2515\n"
       ]
      },
      {
       "output_type": "stream",
       "stream": "stdout",
       "text": [
        "Epoch 136/180\n",
        "0s - loss: 0.8522 - acc: 0.2514 - val_loss: 0.8556 - val_acc: 0.2515\n"
       ]
      },
      {
       "output_type": "stream",
       "stream": "stdout",
       "text": [
        "Epoch 137/180\n",
        "0s - loss: 0.8520 - acc: 0.2514 - val_loss: 0.8553 - val_acc: 0.2515\n"
       ]
      },
      {
       "output_type": "stream",
       "stream": "stdout",
       "text": [
        "Epoch 138/180\n",
        "0s - loss: 0.8518 - acc: 0.2514 - val_loss: 0.8551 - val_acc: 0.2515\n"
       ]
      },
      {
       "output_type": "stream",
       "stream": "stdout",
       "text": [
        "Epoch 139/180\n",
        "0s - loss: 0.8516 - acc: 0.2514 - val_loss: 0.8549 - val_acc: 0.2515\n"
       ]
      },
      {
       "output_type": "stream",
       "stream": "stdout",
       "text": [
        "Epoch 140/180\n",
        "0s - loss: 0.8514 - acc: 0.2514 - val_loss: 0.8547 - val_acc: 0.2515\n"
       ]
      },
      {
       "output_type": "stream",
       "stream": "stdout",
       "text": [
        "Epoch 141/180\n",
        "0s - loss: 0.8512 - acc: 0.2514 - val_loss: 0.8545 - val_acc: 0.2515\n"
       ]
      },
      {
       "output_type": "stream",
       "stream": "stdout",
       "text": [
        "Epoch 142/180\n",
        "0s - loss: 0.8510 - acc: 0.2514 - val_loss: 0.8543 - val_acc: 0.2515\n"
       ]
      },
      {
       "output_type": "stream",
       "stream": "stdout",
       "text": [
        "Epoch 143/180\n",
        "0s - loss: 0.8508 - acc: 0.2514 - val_loss: 0.8541 - val_acc: 0.2515\n"
       ]
      },
      {
       "output_type": "stream",
       "stream": "stdout",
       "text": [
        "Epoch 144/180\n",
        "0s - loss: 0.8506 - acc: 0.2514 - val_loss: 0.8539 - val_acc: 0.2515\n"
       ]
      },
      {
       "output_type": "stream",
       "stream": "stdout",
       "text": [
        "Epoch 145/180\n",
        "0s - loss: 0.8504 - acc: 0.2514 - val_loss: 0.8537 - val_acc: 0.2515\n"
       ]
      },
      {
       "output_type": "stream",
       "stream": "stdout",
       "text": [
        "Epoch 146/180\n",
        "0s - loss: 0.8502 - acc: 0.2514 - val_loss: 0.8535 - val_acc: 0.2515\n"
       ]
      },
      {
       "output_type": "stream",
       "stream": "stdout",
       "text": [
        "Epoch 147/180\n",
        "0s - loss: 0.8500 - acc: 0.2514 - val_loss: 0.8534 - val_acc: 0.2515\n"
       ]
      },
      {
       "output_type": "stream",
       "stream": "stdout",
       "text": [
        "Epoch 148/180\n",
        "0s - loss: 0.8498 - acc: 0.2514 - val_loss: 0.8532 - val_acc: 0.2515\n"
       ]
      },
      {
       "output_type": "stream",
       "stream": "stdout",
       "text": [
        "Epoch 149/180\n",
        "0s - loss: 0.8496 - acc: 0.2514 - val_loss: 0.8530 - val_acc: 0.2515\n"
       ]
      },
      {
       "output_type": "stream",
       "stream": "stdout",
       "text": [
        "Epoch 150/180\n",
        "0s - loss: 0.8495 - acc: 0.2514 - val_loss: 0.8528 - val_acc: 0.2515\n"
       ]
      },
      {
       "output_type": "stream",
       "stream": "stdout",
       "text": [
        "Epoch 151/180\n",
        "0s - loss: 0.8493 - acc: 0.2514 - val_loss: 0.8526 - val_acc: 0.2515\n"
       ]
      },
      {
       "output_type": "stream",
       "stream": "stdout",
       "text": [
        "Epoch 152/180\n",
        "0s - loss: 0.8491 - acc: 0.2514 - val_loss: 0.8525 - val_acc: 0.2515\n"
       ]
      },
      {
       "output_type": "stream",
       "stream": "stdout",
       "text": [
        "Epoch 153/180\n",
        "0s - loss: 0.8489 - acc: 0.2514 - val_loss: 0.8523 - val_acc: 0.2515\n"
       ]
      },
      {
       "output_type": "stream",
       "stream": "stdout",
       "text": [
        "Epoch 154/180\n",
        "0s - loss: 0.8488 - acc: 0.2514 - val_loss: 0.8521 - val_acc: 0.2515\n"
       ]
      },
      {
       "output_type": "stream",
       "stream": "stdout",
       "text": [
        "Epoch 155/180\n",
        "0s - loss: 0.8486 - acc: 0.2514 - val_loss: 0.8519 - val_acc: 0.2515\n"
       ]
      },
      {
       "output_type": "stream",
       "stream": "stdout",
       "text": [
        "Epoch 156/180\n",
        "0s - loss: 0.8484 - acc: 0.2514 - val_loss: 0.8518 - val_acc: 0.2515\n"
       ]
      },
      {
       "output_type": "stream",
       "stream": "stdout",
       "text": [
        "Epoch 157/180\n",
        "0s - loss: 0.8482 - acc: 0.2514 - val_loss: 0.8516 - val_acc: 0.2515\n"
       ]
      },
      {
       "output_type": "stream",
       "stream": "stdout",
       "text": [
        "Epoch 158/180\n",
        "0s - loss: 0.8481 - acc: 0.2514 - val_loss: 0.8514 - val_acc: 0.2515\n"
       ]
      },
      {
       "output_type": "stream",
       "stream": "stdout",
       "text": [
        "Epoch 159/180\n",
        "0s - loss: 0.8479 - acc: 0.2514 - val_loss: 0.8513 - val_acc: 0.2515\n"
       ]
      },
      {
       "output_type": "stream",
       "stream": "stdout",
       "text": [
        "Epoch 160/180\n",
        "0s - loss: 0.8478 - acc: 0.2514 - val_loss: 0.8511 - val_acc: 0.2515\n"
       ]
      },
      {
       "output_type": "stream",
       "stream": "stdout",
       "text": [
        "Epoch 161/180\n",
        "0s - loss: 0.8476 - acc: 0.2514 - val_loss: 0.8510 - val_acc: 0.2515\n"
       ]
      },
      {
       "output_type": "stream",
       "stream": "stdout",
       "text": [
        "Epoch 162/180\n",
        "0s - loss: 0.8474 - acc: 0.2514 - val_loss: 0.8508 - val_acc: 0.2515\n"
       ]
      },
      {
       "output_type": "stream",
       "stream": "stdout",
       "text": [
        "Epoch 163/180\n",
        "0s - loss: 0.8473 - acc: 0.2514 - val_loss: 0.8506 - val_acc: 0.2515\n"
       ]
      },
      {
       "output_type": "stream",
       "stream": "stdout",
       "text": [
        "Epoch 164/180\n",
        "0s - loss: 0.8471 - acc: 0.2514 - val_loss: 0.8505 - val_acc: 0.2515\n"
       ]
      },
      {
       "output_type": "stream",
       "stream": "stdout",
       "text": [
        "Epoch 165/180\n",
        "0s - loss: 0.8470 - acc: 0.2514 - val_loss: 0.8503 - val_acc: 0.2515\n"
       ]
      },
      {
       "output_type": "stream",
       "stream": "stdout",
       "text": [
        "Epoch 166/180\n",
        "0s - loss: 0.8468 - acc: 0.2514 - val_loss: 0.8502 - val_acc: 0.2515\n"
       ]
      },
      {
       "output_type": "stream",
       "stream": "stdout",
       "text": [
        "Epoch 167/180\n",
        "0s - loss: 0.8467 - acc: 0.2514 - val_loss: 0.8500 - val_acc: 0.2515\n"
       ]
      },
      {
       "output_type": "stream",
       "stream": "stdout",
       "text": [
        "Epoch 168/180\n",
        "0s - loss: 0.8465 - acc: 0.2514 - val_loss: 0.8499 - val_acc: 0.2515\n"
       ]
      },
      {
       "output_type": "stream",
       "stream": "stdout",
       "text": [
        "Epoch 169/180\n",
        "0s - loss: 0.8464 - acc: 0.2514 - val_loss: 0.8497 - val_acc: 0.2515\n"
       ]
      },
      {
       "output_type": "stream",
       "stream": "stdout",
       "text": [
        "Epoch 170/180\n",
        "0s - loss: 0.8462 - acc: 0.2514 - val_loss: 0.8496 - val_acc: 0.2515\n"
       ]
      },
      {
       "output_type": "stream",
       "stream": "stdout",
       "text": [
        "Epoch 171/180\n",
        "0s - loss: 0.8461 - acc: 0.2514 - val_loss: 0.8495 - val_acc: 0.2515\n"
       ]
      },
      {
       "output_type": "stream",
       "stream": "stdout",
       "text": [
        "Epoch 172/180\n",
        "0s - loss: 0.8460 - acc: 0.2514 - val_loss: 0.8493 - val_acc: 0.2515\n"
       ]
      },
      {
       "output_type": "stream",
       "stream": "stdout",
       "text": [
        "Epoch 173/180\n",
        "0s - loss: 0.8458 - acc: 0.2514 - val_loss: 0.8492 - val_acc: 0.2515\n"
       ]
      },
      {
       "output_type": "stream",
       "stream": "stdout",
       "text": [
        "Epoch 174/180\n",
        "0s - loss: 0.8457 - acc: 0.2514 - val_loss: 0.8490 - val_acc: 0.2515\n"
       ]
      },
      {
       "output_type": "stream",
       "stream": "stdout",
       "text": [
        "Epoch 175/180\n",
        "0s - loss: 0.8455 - acc: 0.2514 - val_loss: 0.8489 - val_acc: 0.2515\n"
       ]
      },
      {
       "output_type": "stream",
       "stream": "stdout",
       "text": [
        "Epoch 176/180\n",
        "0s - loss: 0.8454 - acc: 0.2514 - val_loss: 0.8488 - val_acc: 0.2515\n"
       ]
      },
      {
       "output_type": "stream",
       "stream": "stdout",
       "text": [
        "Epoch 177/180\n",
        "0s - loss: 0.8453 - acc: 0.2514 - val_loss: 0.8486 - val_acc: 0.2515\n"
       ]
      },
      {
       "output_type": "stream",
       "stream": "stdout",
       "text": [
        "Epoch 178/180\n",
        "0s - loss: 0.8451 - acc: 0.2514 - val_loss: 0.8485 - val_acc: 0.2515\n"
       ]
      },
      {
       "output_type": "stream",
       "stream": "stdout",
       "text": [
        "Epoch 179/180\n",
        "0s - loss: 0.8450 - acc: 0.2514 - val_loss: 0.8484 - val_acc: 0.2515\n"
       ]
      },
      {
       "output_type": "stream",
       "stream": "stdout",
       "text": [
        "Epoch 180/180\n",
        "0s - loss: 0.8449 - acc: 0.2514 - val_loss: 0.8482 - val_acc: 0.2515\n"
       ]
      },
      {
       "output_type": "stream",
       "stream": "stdout",
       "text": [
        "\r",
        " 5000/20000 [======>.......................] - ETA: 0s"
       ]
      },
      {
       "output_type": "stream",
       "stream": "stdout",
       "text": [
        "\b\b\b\b\b\b\b\b\b\b\b\b\b\b\b\b\b\b\b\b\b\b\b\b\b\b\b\b\b\b\b\b\b\b\b\b\b\b\b\b\b\b\b\b\b\b\b\b\b\b\b\b\b\b\r",
        "20000/20000 [==============================] - 0s     "
       ]
      },
      {
       "output_type": "stream",
       "stream": "stdout",
       "text": [
        "\n",
        "\r",
        " 5000/20000 [======>.......................] - ETA: 0s"
       ]
      },
      {
       "output_type": "stream",
       "stream": "stdout",
       "text": [
        "\b\b\b\b\b\b\b\b\b\b\b\b\b\b\b\b\b\b\b\b\b\b\b\b\b\b\b\b\b\b\b\b\b\b\b\b\b\b\b\b\b\b\b\b\b\b\b\b\b\b\b\b\b\b\r",
        "20000/20000 [==============================] - 0s     "
       ]
      },
      {
       "output_type": "stream",
       "stream": "stdout",
       "text": [
        "\n",
        "Train on 80000 samples, validate on 20000 samples\n",
        "Epoch 1/180\n",
        "0s - loss: 1.7022 - acc: 0.2490 - val_loss: 1.6924 - val_acc: 0.2524\n"
       ]
      },
      {
       "output_type": "stream",
       "stream": "stdout",
       "text": [
        "Epoch 2/180\n",
        "0s - loss: 1.6919 - acc: 0.2490 - val_loss: 1.6823 - val_acc: 0.2524\n"
       ]
      },
      {
       "output_type": "stream",
       "stream": "stdout",
       "text": [
        "Epoch 3/180\n",
        "0s - loss: 1.6818 - acc: 0.2490 - val_loss: 1.6724 - val_acc: 0.2524\n"
       ]
      },
      {
       "output_type": "stream",
       "stream": "stdout",
       "text": [
        "Epoch 4/180\n",
        "0s - loss: 1.6719 - acc: 0.2490 - val_loss: 1.6627 - val_acc: 0.2524\n"
       ]
      },
      {
       "output_type": "stream",
       "stream": "stdout",
       "text": [
        "Epoch 5/180\n",
        "0s - loss: 1.6621 - acc: 0.2490 - val_loss: 1.6531 - val_acc: 0.2524\n"
       ]
      },
      {
       "output_type": "stream",
       "stream": "stdout",
       "text": [
        "Epoch 6/180\n",
        "0s - loss: 1.6525 - acc: 0.2490 - val_loss: 1.6437 - val_acc: 0.2524\n"
       ]
      },
      {
       "output_type": "stream",
       "stream": "stdout",
       "text": [
        "Epoch 7/180\n",
        "0s - loss: 1.6431 - acc: 0.2490 - val_loss: 1.6344 - val_acc: 0.2524\n"
       ]
      },
      {
       "output_type": "stream",
       "stream": "stdout",
       "text": [
        "Epoch 8/180\n",
        "0s - loss: 1.6339 - acc: 0.2490 - val_loss: 1.6254 - val_acc: 0.2524\n"
       ]
      },
      {
       "output_type": "stream",
       "stream": "stdout",
       "text": [
        "Epoch 9/180\n",
        "0s - loss: 1.6248 - acc: 0.2490 - val_loss: 1.6165 - val_acc: 0.2524\n"
       ]
      },
      {
       "output_type": "stream",
       "stream": "stdout",
       "text": [
        "Epoch 10/180\n",
        "0s - loss: 1.6159 - acc: 0.2490 - val_loss: 1.6078 - val_acc: 0.2524\n"
       ]
      },
      {
       "output_type": "stream",
       "stream": "stdout",
       "text": [
        "Epoch 11/180\n",
        "0s - loss: 1.6073 - acc: 0.2490 - val_loss: 1.5993 - val_acc: 0.2524\n"
       ]
      },
      {
       "output_type": "stream",
       "stream": "stdout",
       "text": [
        "Epoch 12/180\n",
        "0s - loss: 1.5988 - acc: 0.2490 - val_loss: 1.5910 - val_acc: 0.2524\n"
       ]
      },
      {
       "output_type": "stream",
       "stream": "stdout",
       "text": [
        "Epoch 13/180\n",
        "0s - loss: 1.5905 - acc: 0.2490 - val_loss: 1.5829 - val_acc: 0.2524\n"
       ]
      },
      {
       "output_type": "stream",
       "stream": "stdout",
       "text": [
        "Epoch 14/180\n",
        "0s - loss: 1.5823 - acc: 0.2490 - val_loss: 1.5749 - val_acc: 0.2524\n"
       ]
      },
      {
       "output_type": "stream",
       "stream": "stdout",
       "text": [
        "Epoch 15/180\n",
        "0s - loss: 1.5744 - acc: 0.2490 - val_loss: 1.5672 - val_acc: 0.2524\n"
       ]
      },
      {
       "output_type": "stream",
       "stream": "stdout",
       "text": [
        "Epoch 16/180\n",
        "0s - loss: 1.5667 - acc: 0.2490 - val_loss: 1.5596 - val_acc: 0.2524\n"
       ]
      },
      {
       "output_type": "stream",
       "stream": "stdout",
       "text": [
        "Epoch 17/180\n",
        "0s - loss: 1.5591 - acc: 0.2490 - val_loss: 1.5523 - val_acc: 0.2524\n"
       ]
      },
      {
       "output_type": "stream",
       "stream": "stdout",
       "text": [
        "Epoch 18/180\n",
        "0s - loss: 1.5518 - acc: 0.2490 - val_loss: 1.5451 - val_acc: 0.2524\n"
       ]
      },
      {
       "output_type": "stream",
       "stream": "stdout",
       "text": [
        "Epoch 19/180\n",
        "0s - loss: 1.5447 - acc: 0.2490 - val_loss: 1.5382 - val_acc: 0.2524\n"
       ]
      },
      {
       "output_type": "stream",
       "stream": "stdout",
       "text": [
        "Epoch 20/180\n",
        "0s - loss: 1.5377 - acc: 0.2490 - val_loss: 1.5314 - val_acc: 0.2524\n"
       ]
      },
      {
       "output_type": "stream",
       "stream": "stdout",
       "text": [
        "Epoch 21/180\n",
        "0s - loss: 1.5310 - acc: 0.2490 - val_loss: 1.5248 - val_acc: 0.2524\n"
       ]
      },
      {
       "output_type": "stream",
       "stream": "stdout",
       "text": [
        "Epoch 22/180\n",
        "0s - loss: 1.5244 - acc: 0.2490 - val_loss: 1.5185 - val_acc: 0.2524\n"
       ]
      },
      {
       "output_type": "stream",
       "stream": "stdout",
       "text": [
        "Epoch 23/180\n",
        "0s - loss: 1.5181 - acc: 0.2490 - val_loss: 1.5123 - val_acc: 0.2524\n"
       ]
      },
      {
       "output_type": "stream",
       "stream": "stdout",
       "text": [
        "Epoch 24/180\n",
        "0s - loss: 1.5120 - acc: 0.2490 - val_loss: 1.5063 - val_acc: 0.2524\n"
       ]
      },
      {
       "output_type": "stream",
       "stream": "stdout",
       "text": [
        "Epoch 25/180\n",
        "0s - loss: 1.5060 - acc: 0.2490 - val_loss: 1.5006 - val_acc: 0.2524\n"
       ]
      },
      {
       "output_type": "stream",
       "stream": "stdout",
       "text": [
        "Epoch 26/180\n",
        "0s - loss: 1.5003 - acc: 0.2490 - val_loss: 1.4950 - val_acc: 0.2524\n"
       ]
      },
      {
       "output_type": "stream",
       "stream": "stdout",
       "text": [
        "Epoch 27/180\n",
        "0s - loss: 1.4947 - acc: 0.2490 - val_loss: 1.4896 - val_acc: 0.2524\n"
       ]
      },
      {
       "output_type": "stream",
       "stream": "stdout",
       "text": [
        "Epoch 28/180\n",
        "0s - loss: 1.4894 - acc: 0.2490 - val_loss: 1.4844 - val_acc: 0.2524\n"
       ]
      },
      {
       "output_type": "stream",
       "stream": "stdout",
       "text": [
        "Epoch 29/180\n",
        "0s - loss: 1.4842 - acc: 0.2490 - val_loss: 1.4794 - val_acc: 0.2524\n"
       ]
      },
      {
       "output_type": "stream",
       "stream": "stdout",
       "text": [
        "Epoch 30/180\n",
        "0s - loss: 1.4792 - acc: 0.2490 - val_loss: 1.4746 - val_acc: 0.2524\n"
       ]
      },
      {
       "output_type": "stream",
       "stream": "stdout",
       "text": [
        "Epoch 31/180\n",
        "0s - loss: 1.4745 - acc: 0.2490 - val_loss: 1.4700 - val_acc: 0.2524\n"
       ]
      },
      {
       "output_type": "stream",
       "stream": "stdout",
       "text": [
        "Epoch 32/180\n",
        "0s - loss: 1.4699 - acc: 0.2490 - val_loss: 1.4656 - val_acc: 0.2524\n"
       ]
      },
      {
       "output_type": "stream",
       "stream": "stdout",
       "text": [
        "Epoch 33/180\n",
        "0s - loss: 1.4654 - acc: 0.2490 - val_loss: 1.4613 - val_acc: 0.2524\n"
       ]
      },
      {
       "output_type": "stream",
       "stream": "stdout",
       "text": [
        "Epoch 34/180\n",
        "0s - loss: 1.4612 - acc: 0.2490 - val_loss: 1.4572 - val_acc: 0.2524\n"
       ]
      },
      {
       "output_type": "stream",
       "stream": "stdout",
       "text": [
        "Epoch 35/180\n",
        "0s - loss: 1.4572 - acc: 0.2490 - val_loss: 1.4533 - val_acc: 0.2524\n"
       ]
      },
      {
       "output_type": "stream",
       "stream": "stdout",
       "text": [
        "Epoch 36/180\n",
        "0s - loss: 1.4533 - acc: 0.2490 - val_loss: 1.4496 - val_acc: 0.2524\n"
       ]
      },
      {
       "output_type": "stream",
       "stream": "stdout",
       "text": [
        "Epoch 37/180\n",
        "0s - loss: 1.4496 - acc: 0.2490 - val_loss: 1.4460 - val_acc: 0.2524\n"
       ]
      },
      {
       "output_type": "stream",
       "stream": "stdout",
       "text": [
        "Epoch 38/180\n",
        "0s - loss: 1.4460 - acc: 0.2490 - val_loss: 1.4426 - val_acc: 0.2524\n"
       ]
      },
      {
       "output_type": "stream",
       "stream": "stdout",
       "text": [
        "Epoch 39/180\n",
        "0s - loss: 1.4426 - acc: 0.2490 - val_loss: 1.4394 - val_acc: 0.2524\n"
       ]
      },
      {
       "output_type": "stream",
       "stream": "stdout",
       "text": [
        "Epoch 40/180\n",
        "0s - loss: 1.4394 - acc: 0.2490 - val_loss: 1.4363 - val_acc: 0.2524\n"
       ]
      },
      {
       "output_type": "stream",
       "stream": "stdout",
       "text": [
        "Epoch 41/180\n",
        "0s - loss: 1.4363 - acc: 0.2484 - val_loss: 1.4333 - val_acc: 0.2444\n"
       ]
      },
      {
       "output_type": "stream",
       "stream": "stdout",
       "text": [
        "Epoch 42/180\n",
        "0s - loss: 1.4334 - acc: 0.2486 - val_loss: 1.4305 - val_acc: 0.2444\n"
       ]
      },
      {
       "output_type": "stream",
       "stream": "stdout",
       "text": [
        "Epoch 43/180\n",
        "0s - loss: 1.4306 - acc: 0.2503 - val_loss: 1.4278 - val_acc: 0.2444\n"
       ]
      },
      {
       "output_type": "stream",
       "stream": "stdout",
       "text": [
        "Epoch 44/180\n",
        "0s - loss: 1.4280 - acc: 0.2503 - val_loss: 1.4253 - val_acc: 0.2444\n"
       ]
      },
      {
       "output_type": "stream",
       "stream": "stdout",
       "text": [
        "Epoch 45/180\n",
        "0s - loss: 1.4254 - acc: 0.2503 - val_loss: 1.4229 - val_acc: 0.2444\n"
       ]
      },
      {
       "output_type": "stream",
       "stream": "stdout",
       "text": [
        "Epoch 46/180\n",
        "0s - loss: 1.4231 - acc: 0.2503 - val_loss: 1.4206 - val_acc: 0.2444\n"
       ]
      },
      {
       "output_type": "stream",
       "stream": "stdout",
       "text": [
        "Epoch 47/180\n",
        "0s - loss: 1.4208 - acc: 0.2503 - val_loss: 1.4185 - val_acc: 0.2444\n"
       ]
      },
      {
       "output_type": "stream",
       "stream": "stdout",
       "text": [
        "Epoch 48/180\n",
        "0s - loss: 1.4187 - acc: 0.2503 - val_loss: 1.4164 - val_acc: 0.2444\n"
       ]
      },
      {
       "output_type": "stream",
       "stream": "stdout",
       "text": [
        "Epoch 49/180\n",
        "0s - loss: 1.4166 - acc: 0.2503 - val_loss: 1.4145 - val_acc: 0.2444\n"
       ]
      },
      {
       "output_type": "stream",
       "stream": "stdout",
       "text": [
        "Epoch 50/180\n",
        "0s - loss: 1.4147 - acc: 0.2503 - val_loss: 1.4127 - val_acc: 0.2444\n"
       ]
      },
      {
       "output_type": "stream",
       "stream": "stdout",
       "text": [
        "Epoch 51/180\n",
        "0s - loss: 1.4129 - acc: 0.2503 - val_loss: 1.4110 - val_acc: 0.2444\n"
       ]
      },
      {
       "output_type": "stream",
       "stream": "stdout",
       "text": [
        "Epoch 52/180\n",
        "0s - loss: 1.4112 - acc: 0.2503 - val_loss: 1.4094 - val_acc: 0.2444\n"
       ]
      },
      {
       "output_type": "stream",
       "stream": "stdout",
       "text": [
        "Epoch 53/180\n",
        "0s - loss: 1.4096 - acc: 0.2503 - val_loss: 1.4078 - val_acc: 0.2444\n"
       ]
      },
      {
       "output_type": "stream",
       "stream": "stdout",
       "text": [
        "Epoch 54/180\n",
        "0s - loss: 1.4081 - acc: 0.2503 - val_loss: 1.4064 - val_acc: 0.2444\n"
       ]
      },
      {
       "output_type": "stream",
       "stream": "stdout",
       "text": [
        "Epoch 55/180\n",
        "0s - loss: 1.4067 - acc: 0.2503 - val_loss: 1.4051 - val_acc: 0.2444\n"
       ]
      },
      {
       "output_type": "stream",
       "stream": "stdout",
       "text": [
        "Epoch 56/180\n",
        "0s - loss: 1.4053 - acc: 0.2503 - val_loss: 1.4038 - val_acc: 0.2444\n"
       ]
      },
      {
       "output_type": "stream",
       "stream": "stdout",
       "text": [
        "Epoch 57/180\n",
        "0s - loss: 1.4041 - acc: 0.2503 - val_loss: 1.4026 - val_acc: 0.2444\n"
       ]
      },
      {
       "output_type": "stream",
       "stream": "stdout",
       "text": [
        "Epoch 58/180\n",
        "0s - loss: 1.4029 - acc: 0.2503 - val_loss: 1.4015 - val_acc: 0.2444\n"
       ]
      },
      {
       "output_type": "stream",
       "stream": "stdout",
       "text": [
        "Epoch 59/180\n",
        "0s - loss: 1.4018 - acc: 0.2503 - val_loss: 1.4004 - val_acc: 0.2444\n"
       ]
      },
      {
       "output_type": "stream",
       "stream": "stdout",
       "text": [
        "Epoch 60/180\n",
        "0s - loss: 1.4007 - acc: 0.2503 - val_loss: 1.3995 - val_acc: 0.2444\n"
       ]
      },
      {
       "output_type": "stream",
       "stream": "stdout",
       "text": [
        "Epoch 61/180\n",
        "0s - loss: 1.3997 - acc: 0.2503 - val_loss: 1.3985 - val_acc: 0.2444\n"
       ]
      },
      {
       "output_type": "stream",
       "stream": "stdout",
       "text": [
        "Epoch 62/180\n",
        "0s - loss: 1.3988 - acc: 0.2503 - val_loss: 1.3977 - val_acc: 0.2444\n"
       ]
      },
      {
       "output_type": "stream",
       "stream": "stdout",
       "text": [
        "Epoch 63/180\n",
        "0s - loss: 1.3980 - acc: 0.2503 - val_loss: 1.3969 - val_acc: 0.2444\n"
       ]
      },
      {
       "output_type": "stream",
       "stream": "stdout",
       "text": [
        "Epoch 64/180\n",
        "0s - loss: 1.3972 - acc: 0.2503 - val_loss: 1.3961 - val_acc: 0.2444\n"
       ]
      },
      {
       "output_type": "stream",
       "stream": "stdout",
       "text": [
        "Epoch 65/180\n",
        "0s - loss: 1.3964 - acc: 0.2503 - val_loss: 1.3954 - val_acc: 0.2444\n"
       ]
      },
      {
       "output_type": "stream",
       "stream": "stdout",
       "text": [
        "Epoch 66/180\n",
        "0s - loss: 1.3957 - acc: 0.2503 - val_loss: 1.3948 - val_acc: 0.2444\n"
       ]
      },
      {
       "output_type": "stream",
       "stream": "stdout",
       "text": [
        "Epoch 67/180\n",
        "0s - loss: 1.3950 - acc: 0.2503 - val_loss: 1.3941 - val_acc: 0.2444\n"
       ]
      },
      {
       "output_type": "stream",
       "stream": "stdout",
       "text": [
        "Epoch 68/180\n",
        "0s - loss: 1.3944 - acc: 0.2503 - val_loss: 1.3936 - val_acc: 0.2444\n"
       ]
      },
      {
       "output_type": "stream",
       "stream": "stdout",
       "text": [
        "Epoch 69/180\n",
        "0s - loss: 1.3939 - acc: 0.2503 - val_loss: 1.3930 - val_acc: 0.2444\n"
       ]
      },
      {
       "output_type": "stream",
       "stream": "stdout",
       "text": [
        "Epoch 70/180\n",
        "0s - loss: 1.3933 - acc: 0.2503 - val_loss: 1.3925 - val_acc: 0.2444\n"
       ]
      },
      {
       "output_type": "stream",
       "stream": "stdout",
       "text": [
        "Epoch 71/180\n",
        "0s - loss: 1.3928 - acc: 0.2503 - val_loss: 1.3921 - val_acc: 0.2444\n"
       ]
      },
      {
       "output_type": "stream",
       "stream": "stdout",
       "text": [
        "Epoch 72/180\n",
        "0s - loss: 1.3923 - acc: 0.2503 - val_loss: 1.3916 - val_acc: 0.2444\n"
       ]
      },
      {
       "output_type": "stream",
       "stream": "stdout",
       "text": [
        "Epoch 73/180\n",
        "0s - loss: 1.3919 - acc: 0.2503 - val_loss: 1.3912 - val_acc: 0.2444\n"
       ]
      },
      {
       "output_type": "stream",
       "stream": "stdout",
       "text": [
        "Epoch 74/180\n",
        "0s - loss: 1.3915 - acc: 0.2503 - val_loss: 1.3909 - val_acc: 0.2444\n"
       ]
      },
      {
       "output_type": "stream",
       "stream": "stdout",
       "text": [
        "Epoch 75/180\n",
        "0s - loss: 1.3911 - acc: 0.2503 - val_loss: 1.3905 - val_acc: 0.2444\n"
       ]
      },
      {
       "output_type": "stream",
       "stream": "stdout",
       "text": [
        "Epoch 76/180\n",
        "0s - loss: 1.3908 - acc: 0.2503 - val_loss: 1.3902 - val_acc: 0.2444\n"
       ]
      },
      {
       "output_type": "stream",
       "stream": "stdout",
       "text": [
        "Epoch 77/180\n",
        "0s - loss: 1.3905 - acc: 0.2503 - val_loss: 1.3899 - val_acc: 0.2444\n"
       ]
      },
      {
       "output_type": "stream",
       "stream": "stdout",
       "text": [
        "Epoch 78/180\n",
        "0s - loss: 1.3902 - acc: 0.2503 - val_loss: 1.3896 - val_acc: 0.2444\n"
       ]
      },
      {
       "output_type": "stream",
       "stream": "stdout",
       "text": [
        "Epoch 79/180\n",
        "0s - loss: 1.3899 - acc: 0.2503 - val_loss: 1.3894 - val_acc: 0.2444\n"
       ]
      },
      {
       "output_type": "stream",
       "stream": "stdout",
       "text": [
        "Epoch 80/180\n",
        "0s - loss: 1.3896 - acc: 0.2503 - val_loss: 1.3891 - val_acc: 0.2444\n"
       ]
      },
      {
       "output_type": "stream",
       "stream": "stdout",
       "text": [
        "Epoch 81/180\n",
        "0s - loss: 1.3894 - acc: 0.2503 - val_loss: 1.3889 - val_acc: 0.2444\n"
       ]
      },
      {
       "output_type": "stream",
       "stream": "stdout",
       "text": [
        "Epoch 82/180\n",
        "0s - loss: 1.3891 - acc: 0.2503 - val_loss: 1.3887 - val_acc: 0.2444\n"
       ]
      },
      {
       "output_type": "stream",
       "stream": "stdout",
       "text": [
        "Epoch 83/180\n",
        "0s - loss: 1.3889 - acc: 0.2503 - val_loss: 1.3885 - val_acc: 0.2444\n"
       ]
      },
      {
       "output_type": "stream",
       "stream": "stdout",
       "text": [
        "Epoch 84/180\n",
        "0s - loss: 1.3887 - acc: 0.2503 - val_loss: 1.3883 - val_acc: 0.2444\n"
       ]
      },
      {
       "output_type": "stream",
       "stream": "stdout",
       "text": [
        "Epoch 85/180\n",
        "0s - loss: 1.3885 - acc: 0.2503 - val_loss: 1.3882 - val_acc: 0.2444\n"
       ]
      },
      {
       "output_type": "stream",
       "stream": "stdout",
       "text": [
        "Epoch 86/180\n",
        "0s - loss: 1.3884 - acc: 0.2503 - val_loss: 1.3880 - val_acc: 0.2444\n"
       ]
      },
      {
       "output_type": "stream",
       "stream": "stdout",
       "text": [
        "Epoch 87/180\n",
        "0s - loss: 1.3882 - acc: 0.2503 - val_loss: 1.3879 - val_acc: 0.2444\n"
       ]
      },
      {
       "output_type": "stream",
       "stream": "stdout",
       "text": [
        "Epoch 88/180\n",
        "0s - loss: 1.3881 - acc: 0.2503 - val_loss: 1.3878 - val_acc: 0.2444\n"
       ]
      },
      {
       "output_type": "stream",
       "stream": "stdout",
       "text": [
        "Epoch 89/180\n",
        "0s - loss: 1.3879 - acc: 0.2503 - val_loss: 1.3876 - val_acc: 0.2444\n"
       ]
      },
      {
       "output_type": "stream",
       "stream": "stdout",
       "text": [
        "Epoch 90/180\n",
        "0s - loss: 1.3878 - acc: 0.2503 - val_loss: 1.3875 - val_acc: 0.2444\n"
       ]
      },
      {
       "output_type": "stream",
       "stream": "stdout",
       "text": [
        "Epoch 91/180\n",
        "0s - loss: 1.3877 - acc: 0.2503 - val_loss: 1.3874 - val_acc: 0.2444\n"
       ]
      },
      {
       "output_type": "stream",
       "stream": "stdout",
       "text": [
        "Epoch 92/180\n",
        "0s - loss: 1.3876 - acc: 0.2503 - val_loss: 1.3873 - val_acc: 0.2444\n"
       ]
      },
      {
       "output_type": "stream",
       "stream": "stdout",
       "text": [
        "Epoch 93/180\n",
        "0s - loss: 1.3875 - acc: 0.2503 - val_loss: 1.3873 - val_acc: 0.2444\n"
       ]
      },
      {
       "output_type": "stream",
       "stream": "stdout",
       "text": [
        "Epoch 94/180\n",
        "0s - loss: 1.3874 - acc: 0.2503 - val_loss: 1.3872 - val_acc: 0.2444\n"
       ]
      },
      {
       "output_type": "stream",
       "stream": "stdout",
       "text": [
        "Epoch 95/180\n",
        "0s - loss: 1.3873 - acc: 0.2503 - val_loss: 1.3871 - val_acc: 0.2444\n"
       ]
      },
      {
       "output_type": "stream",
       "stream": "stdout",
       "text": [
        "Epoch 96/180\n",
        "0s - loss: 1.3872 - acc: 0.2503 - val_loss: 1.3870 - val_acc: 0.2444\n"
       ]
      },
      {
       "output_type": "stream",
       "stream": "stdout",
       "text": [
        "Epoch 97/180\n",
        "0s - loss: 1.3872 - acc: 0.2503 - val_loss: 1.3870 - val_acc: 0.2444\n"
       ]
      },
      {
       "output_type": "stream",
       "stream": "stdout",
       "text": [
        "Epoch 98/180\n",
        "0s - loss: 1.3871 - acc: 0.2503 - val_loss: 1.3869 - val_acc: 0.2444\n"
       ]
      },
      {
       "output_type": "stream",
       "stream": "stdout",
       "text": [
        "Epoch 99/180\n",
        "0s - loss: 1.3870 - acc: 0.2503 - val_loss: 1.3869 - val_acc: 0.2444\n"
       ]
      },
      {
       "output_type": "stream",
       "stream": "stdout",
       "text": [
        "Epoch 100/180\n",
        "0s - loss: 1.3870 - acc: 0.2503 - val_loss: 1.3868 - val_acc: 0.2444\n"
       ]
      },
      {
       "output_type": "stream",
       "stream": "stdout",
       "text": [
        "Epoch 101/180\n",
        "0s - loss: 1.3869 - acc: 0.2503 - val_loss: 1.3868 - val_acc: 0.2444\n"
       ]
      },
      {
       "output_type": "stream",
       "stream": "stdout",
       "text": [
        "Epoch 102/180\n",
        "0s - loss: 1.3869 - acc: 0.2503 - val_loss: 1.3867 - val_acc: 0.2444\n"
       ]
      },
      {
       "output_type": "stream",
       "stream": "stdout",
       "text": [
        "Epoch 103/180\n",
        "0s - loss: 1.3868 - acc: 0.2503 - val_loss: 1.3867 - val_acc: 0.2444\n"
       ]
      },
      {
       "output_type": "stream",
       "stream": "stdout",
       "text": [
        "Epoch 104/180\n",
        "0s - loss: 1.3868 - acc: 0.2503 - val_loss: 1.3867 - val_acc: 0.2444\n"
       ]
      },
      {
       "output_type": "stream",
       "stream": "stdout",
       "text": [
        "Epoch 105/180\n",
        "0s - loss: 1.3868 - acc: 0.2503 - val_loss: 1.3866 - val_acc: 0.2444\n"
       ]
      },
      {
       "output_type": "stream",
       "stream": "stdout",
       "text": [
        "Epoch 106/180\n",
        "0s - loss: 1.3867 - acc: 0.2503 - val_loss: 1.3866 - val_acc: 0.2444\n"
       ]
      },
      {
       "output_type": "stream",
       "stream": "stdout",
       "text": [
        "Epoch 107/180\n",
        "0s - loss: 1.3867 - acc: 0.2503 - val_loss: 1.3866 - val_acc: 0.2444\n"
       ]
      },
      {
       "output_type": "stream",
       "stream": "stdout",
       "text": [
        "Epoch 108/180\n",
        "0s - loss: 1.3867 - acc: 0.2503 - val_loss: 1.3865 - val_acc: 0.2444\n"
       ]
      },
      {
       "output_type": "stream",
       "stream": "stdout",
       "text": [
        "Epoch 109/180\n",
        "0s - loss: 1.3866 - acc: 0.2503 - val_loss: 1.3865 - val_acc: 0.2444\n"
       ]
      },
      {
       "output_type": "stream",
       "stream": "stdout",
       "text": [
        "Epoch 110/180\n",
        "0s - loss: 1.3866 - acc: 0.2503 - val_loss: 1.3865 - val_acc: 0.2444\n"
       ]
      },
      {
       "output_type": "stream",
       "stream": "stdout",
       "text": [
        "Epoch 111/180\n",
        "0s - loss: 1.3866 - acc: 0.2503 - val_loss: 1.3865 - val_acc: 0.2444\n"
       ]
      },
      {
       "output_type": "stream",
       "stream": "stdout",
       "text": [
        "Epoch 112/180\n",
        "0s - loss: 1.3866 - acc: 0.2503 - val_loss: 1.3865 - val_acc: 0.2444\n"
       ]
      },
      {
       "output_type": "stream",
       "stream": "stdout",
       "text": [
        "Epoch 113/180\n",
        "0s - loss: 1.3865 - acc: 0.2503 - val_loss: 1.3864 - val_acc: 0.2444\n"
       ]
      },
      {
       "output_type": "stream",
       "stream": "stdout",
       "text": [
        "Epoch 114/180\n",
        "0s - loss: 1.3865 - acc: 0.2503 - val_loss: 1.3864 - val_acc: 0.2444\n"
       ]
      },
      {
       "output_type": "stream",
       "stream": "stdout",
       "text": [
        "Epoch 115/180\n",
        "0s - loss: 1.3865 - acc: 0.2503 - val_loss: 1.3864 - val_acc: 0.2444\n"
       ]
      },
      {
       "output_type": "stream",
       "stream": "stdout",
       "text": [
        "Epoch 116/180\n",
        "0s - loss: 1.3865 - acc: 0.2503 - val_loss: 1.3864 - val_acc: 0.2444\n"
       ]
      },
      {
       "output_type": "stream",
       "stream": "stdout",
       "text": [
        "Epoch 117/180\n",
        "0s - loss: 1.3865 - acc: 0.2503 - val_loss: 1.3864 - val_acc: 0.2444\n"
       ]
      },
      {
       "output_type": "stream",
       "stream": "stdout",
       "text": [
        "Epoch 118/180\n",
        "0s - loss: 1.3865 - acc: 0.2503 - val_loss: 1.3864 - val_acc: 0.2444\n"
       ]
      },
      {
       "output_type": "stream",
       "stream": "stdout",
       "text": [
        "Epoch 119/180\n",
        "0s - loss: 1.3864 - acc: 0.2503 - val_loss: 1.3864 - val_acc: 0.2444\n"
       ]
      },
      {
       "output_type": "stream",
       "stream": "stdout",
       "text": [
        "Epoch 120/180\n",
        "0s - loss: 1.3864 - acc: 0.2503 - val_loss: 1.3864 - val_acc: 0.2444\n"
       ]
      },
      {
       "output_type": "stream",
       "stream": "stdout",
       "text": [
        "Epoch 121/180\n",
        "0s - loss: 1.3864 - acc: 0.2503 - val_loss: 1.3864 - val_acc: 0.2444\n"
       ]
      },
      {
       "output_type": "stream",
       "stream": "stdout",
       "text": [
        "Epoch 122/180\n",
        "0s - loss: 1.3864 - acc: 0.2503 - val_loss: 1.3864 - val_acc: 0.2444\n"
       ]
      },
      {
       "output_type": "stream",
       "stream": "stdout",
       "text": [
        "Epoch 123/180\n",
        "0s - loss: 1.3864 - acc: 0.2503 - val_loss: 1.3864 - val_acc: 0.2444\n"
       ]
      },
      {
       "output_type": "stream",
       "stream": "stdout",
       "text": [
        "Epoch 124/180\n",
        "0s - loss: 1.3864 - acc: 0.2503 - val_loss: 1.3863 - val_acc: 0.2444\n"
       ]
      },
      {
       "output_type": "stream",
       "stream": "stdout",
       "text": [
        "Epoch 125/180\n",
        "0s - loss: 1.3864 - acc: 0.2503 - val_loss: 1.3863 - val_acc: 0.2444\n"
       ]
      },
      {
       "output_type": "stream",
       "stream": "stdout",
       "text": [
        "Epoch 126/180\n",
        "0s - loss: 1.3864 - acc: 0.2503 - val_loss: 1.3863 - val_acc: 0.2444\n"
       ]
      },
      {
       "output_type": "stream",
       "stream": "stdout",
       "text": [
        "Epoch 127/180\n",
        "0s - loss: 1.3864 - acc: 0.2503 - val_loss: 1.3863 - val_acc: 0.2444\n"
       ]
      },
      {
       "output_type": "stream",
       "stream": "stdout",
       "text": [
        "Epoch 128/180\n",
        "0s - loss: 1.3864 - acc: 0.2503 - val_loss: 1.3863 - val_acc: 0.2444\n"
       ]
      },
      {
       "output_type": "stream",
       "stream": "stdout",
       "text": [
        "Epoch 129/180\n",
        "0s - loss: 1.3864 - acc: 0.2503 - val_loss: 1.3863 - val_acc: 0.2444\n"
       ]
      },
      {
       "output_type": "stream",
       "stream": "stdout",
       "text": [
        "Epoch 130/180\n",
        "0s - loss: 1.3864 - acc: 0.2503 - val_loss: 1.3863 - val_acc: 0.2444\n"
       ]
      },
      {
       "output_type": "stream",
       "stream": "stdout",
       "text": [
        "Epoch 131/180\n",
        "0s - loss: 1.3863 - acc: 0.2503 - val_loss: 1.3863 - val_acc: 0.2444\n"
       ]
      },
      {
       "output_type": "stream",
       "stream": "stdout",
       "text": [
        "Epoch 132/180\n",
        "0s - loss: 1.3863 - acc: 0.2503 - val_loss: 1.3863 - val_acc: 0.2444\n"
       ]
      },
      {
       "output_type": "stream",
       "stream": "stdout",
       "text": [
        "Epoch 133/180\n",
        "0s - loss: 1.3863 - acc: 0.2503 - val_loss: 1.3863 - val_acc: 0.2444\n"
       ]
      },
      {
       "output_type": "stream",
       "stream": "stdout",
       "text": [
        "Epoch 134/180\n",
        "0s - loss: 1.3863 - acc: 0.2503 - val_loss: 1.3863 - val_acc: 0.2444\n"
       ]
      },
      {
       "output_type": "stream",
       "stream": "stdout",
       "text": [
        "Epoch 135/180\n",
        "0s - loss: 1.3863 - acc: 0.2503 - val_loss: 1.3863 - val_acc: 0.2444\n"
       ]
      },
      {
       "output_type": "stream",
       "stream": "stdout",
       "text": [
        "Epoch 136/180\n",
        "0s - loss: 1.3863 - acc: 0.2503 - val_loss: 1.3863 - val_acc: 0.2444\n"
       ]
      },
      {
       "output_type": "stream",
       "stream": "stdout",
       "text": [
        "Epoch 137/180\n",
        "0s - loss: 1.3863 - acc: 0.2503 - val_loss: 1.3863 - val_acc: 0.2444\n"
       ]
      },
      {
       "output_type": "stream",
       "stream": "stdout",
       "text": [
        "Epoch 138/180\n",
        "0s - loss: 1.3863 - acc: 0.2503 - val_loss: 1.3863 - val_acc: 0.2444\n"
       ]
      },
      {
       "output_type": "stream",
       "stream": "stdout",
       "text": [
        "Epoch 139/180\n",
        "0s - loss: 1.3863 - acc: 0.2503 - val_loss: 1.3863 - val_acc: 0.2444\n"
       ]
      },
      {
       "output_type": "stream",
       "stream": "stdout",
       "text": [
        "Epoch 140/180\n",
        "0s - loss: 1.3863 - acc: 0.2503 - val_loss: 1.3863 - val_acc: 0.2444\n"
       ]
      },
      {
       "output_type": "stream",
       "stream": "stdout",
       "text": [
        "Epoch 141/180\n",
        "0s - loss: 1.3863 - acc: 0.2503 - val_loss: 1.3863 - val_acc: 0.2444\n"
       ]
      },
      {
       "output_type": "stream",
       "stream": "stdout",
       "text": [
        "Epoch 142/180\n",
        "0s - loss: 1.3863 - acc: 0.2503 - val_loss: 1.3863 - val_acc: 0.2444\n"
       ]
      },
      {
       "output_type": "stream",
       "stream": "stdout",
       "text": [
        "Epoch 143/180\n",
        "0s - loss: 1.3863 - acc: 0.2503 - val_loss: 1.3863 - val_acc: 0.2444\n"
       ]
      },
      {
       "output_type": "stream",
       "stream": "stdout",
       "text": [
        "Epoch 144/180\n",
        "0s - loss: 1.3863 - acc: 0.2503 - val_loss: 1.3863 - val_acc: 0.2444\n"
       ]
      },
      {
       "output_type": "stream",
       "stream": "stdout",
       "text": [
        "Epoch 145/180\n",
        "0s - loss: 1.3863 - acc: 0.2503 - val_loss: 1.3863 - val_acc: 0.2444\n"
       ]
      },
      {
       "output_type": "stream",
       "stream": "stdout",
       "text": [
        "Epoch 146/180\n",
        "0s - loss: 1.3863 - acc: 0.2503 - val_loss: 1.3863 - val_acc: 0.2444\n"
       ]
      },
      {
       "output_type": "stream",
       "stream": "stdout",
       "text": [
        "Epoch 147/180\n",
        "0s - loss: 1.3863 - acc: 0.2503 - val_loss: 1.3863 - val_acc: 0.2444\n"
       ]
      },
      {
       "output_type": "stream",
       "stream": "stdout",
       "text": [
        "Epoch 148/180\n",
        "0s - loss: 1.3863 - acc: 0.2503 - val_loss: 1.3863 - val_acc: 0.2444\n"
       ]
      },
      {
       "output_type": "stream",
       "stream": "stdout",
       "text": [
        "Epoch 149/180\n",
        "0s - loss: 1.3863 - acc: 0.2503 - val_loss: 1.3863 - val_acc: 0.2444\n"
       ]
      },
      {
       "output_type": "stream",
       "stream": "stdout",
       "text": [
        "Epoch 150/180\n",
        "0s - loss: 1.3863 - acc: 0.2503 - val_loss: 1.3863 - val_acc: 0.2444\n"
       ]
      },
      {
       "output_type": "stream",
       "stream": "stdout",
       "text": [
        "Epoch 151/180\n",
        "0s - loss: 1.3863 - acc: 0.2503 - val_loss: 1.3863 - val_acc: 0.2444\n"
       ]
      },
      {
       "output_type": "stream",
       "stream": "stdout",
       "text": [
        "Epoch 152/180\n",
        "0s - loss: 1.3863 - acc: 0.2503 - val_loss: 1.3863 - val_acc: 0.2444\n"
       ]
      },
      {
       "output_type": "stream",
       "stream": "stdout",
       "text": [
        "Epoch 153/180\n",
        "0s - loss: 1.3863 - acc: 0.2503 - val_loss: 1.3863 - val_acc: 0.2444\n"
       ]
      },
      {
       "output_type": "stream",
       "stream": "stdout",
       "text": [
        "Epoch 154/180\n",
        "0s - loss: 1.3863 - acc: 0.2503 - val_loss: 1.3863 - val_acc: 0.2444\n"
       ]
      },
      {
       "output_type": "stream",
       "stream": "stdout",
       "text": [
        "Epoch 155/180\n",
        "0s - loss: 1.3863 - acc: 0.2503 - val_loss: 1.3863 - val_acc: 0.2444\n"
       ]
      },
      {
       "output_type": "stream",
       "stream": "stdout",
       "text": [
        "Epoch 156/180\n",
        "0s - loss: 1.3863 - acc: 0.2503 - val_loss: 1.3863 - val_acc: 0.2444\n"
       ]
      },
      {
       "output_type": "stream",
       "stream": "stdout",
       "text": [
        "Epoch 157/180\n",
        "0s - loss: 1.3863 - acc: 0.2503 - val_loss: 1.3863 - val_acc: 0.2444\n"
       ]
      },
      {
       "output_type": "stream",
       "stream": "stdout",
       "text": [
        "Epoch 158/180\n",
        "0s - loss: 1.3863 - acc: 0.2503 - val_loss: 1.3863 - val_acc: 0.2444\n"
       ]
      },
      {
       "output_type": "stream",
       "stream": "stdout",
       "text": [
        "Epoch 159/180\n",
        "0s - loss: 1.3863 - acc: 0.2503 - val_loss: 1.3863 - val_acc: 0.2444\n"
       ]
      },
      {
       "output_type": "stream",
       "stream": "stdout",
       "text": [
        "Epoch 160/180\n",
        "0s - loss: 1.3863 - acc: 0.2503 - val_loss: 1.3863 - val_acc: 0.2444\n"
       ]
      },
      {
       "output_type": "stream",
       "stream": "stdout",
       "text": [
        "Epoch 161/180\n",
        "0s - loss: 1.3863 - acc: 0.2503 - val_loss: 1.3863 - val_acc: 0.2444\n"
       ]
      },
      {
       "output_type": "stream",
       "stream": "stdout",
       "text": [
        "Epoch 162/180\n",
        "0s - loss: 1.3863 - acc: 0.2503 - val_loss: 1.3863 - val_acc: 0.2444\n"
       ]
      },
      {
       "output_type": "stream",
       "stream": "stdout",
       "text": [
        "Epoch 163/180\n",
        "0s - loss: 1.3863 - acc: 0.2503 - val_loss: 1.3863 - val_acc: 0.2444\n"
       ]
      },
      {
       "output_type": "stream",
       "stream": "stdout",
       "text": [
        "Epoch 164/180\n",
        "0s - loss: 1.3863 - acc: 0.2503 - val_loss: 1.3863 - val_acc: 0.2444\n"
       ]
      },
      {
       "output_type": "stream",
       "stream": "stdout",
       "text": [
        "Epoch 165/180\n",
        "0s - loss: 1.3863 - acc: 0.2503 - val_loss: 1.3863 - val_acc: 0.2444\n"
       ]
      },
      {
       "output_type": "stream",
       "stream": "stdout",
       "text": [
        "Epoch 166/180\n",
        "0s - loss: 1.3863 - acc: 0.2503 - val_loss: 1.3863 - val_acc: 0.2444\n"
       ]
      },
      {
       "output_type": "stream",
       "stream": "stdout",
       "text": [
        "Epoch 167/180\n",
        "0s - loss: 1.3863 - acc: 0.2503 - val_loss: 1.3863 - val_acc: 0.2444\n"
       ]
      },
      {
       "output_type": "stream",
       "stream": "stdout",
       "text": [
        "Epoch 168/180\n",
        "0s - loss: 1.3863 - acc: 0.2503 - val_loss: 1.3863 - val_acc: 0.2444\n"
       ]
      },
      {
       "output_type": "stream",
       "stream": "stdout",
       "text": [
        "Epoch 169/180\n",
        "0s - loss: 1.3863 - acc: 0.2503 - val_loss: 1.3863 - val_acc: 0.2444\n"
       ]
      },
      {
       "output_type": "stream",
       "stream": "stdout",
       "text": [
        "Epoch 170/180\n",
        "0s - loss: 1.3863 - acc: 0.2503 - val_loss: 1.3863 - val_acc: 0.2444\n"
       ]
      },
      {
       "output_type": "stream",
       "stream": "stdout",
       "text": [
        "Epoch 171/180\n",
        "0s - loss: 1.3863 - acc: 0.2503 - val_loss: 1.3863 - val_acc: 0.2444\n"
       ]
      },
      {
       "output_type": "stream",
       "stream": "stdout",
       "text": [
        "Epoch 172/180\n",
        "0s - loss: 1.3863 - acc: 0.2503 - val_loss: 1.3863 - val_acc: 0.2444\n"
       ]
      },
      {
       "output_type": "stream",
       "stream": "stdout",
       "text": [
        "Epoch 173/180\n",
        "0s - loss: 1.3863 - acc: 0.2503 - val_loss: 1.3863 - val_acc: 0.2444\n"
       ]
      },
      {
       "output_type": "stream",
       "stream": "stdout",
       "text": [
        "Epoch 174/180\n",
        "0s - loss: 1.3863 - acc: 0.2503 - val_loss: 1.3863 - val_acc: 0.2444\n"
       ]
      },
      {
       "output_type": "stream",
       "stream": "stdout",
       "text": [
        "Epoch 175/180\n",
        "0s - loss: 1.3863 - acc: 0.2503 - val_loss: 1.3863 - val_acc: 0.2444\n"
       ]
      },
      {
       "output_type": "stream",
       "stream": "stdout",
       "text": [
        "Epoch 176/180\n",
        "0s - loss: 1.3863 - acc: 0.2503 - val_loss: 1.3863 - val_acc: 0.2444\n"
       ]
      },
      {
       "output_type": "stream",
       "stream": "stdout",
       "text": [
        "Epoch 177/180\n",
        "0s - loss: 1.3863 - acc: 0.2503 - val_loss: 1.3863 - val_acc: 0.2444\n"
       ]
      },
      {
       "output_type": "stream",
       "stream": "stdout",
       "text": [
        "Epoch 178/180\n",
        "0s - loss: 1.3863 - acc: 0.2503 - val_loss: 1.3863 - val_acc: 0.2444\n"
       ]
      },
      {
       "output_type": "stream",
       "stream": "stdout",
       "text": [
        "Epoch 179/180\n",
        "0s - loss: 1.3863 - acc: 0.2503 - val_loss: 1.3863 - val_acc: 0.2444\n"
       ]
      },
      {
       "output_type": "stream",
       "stream": "stdout",
       "text": [
        "Epoch 180/180\n",
        "0s - loss: 1.3863 - acc: 0.2503 - val_loss: 1.3863 - val_acc: 0.2444\n"
       ]
      },
      {
       "output_type": "stream",
       "stream": "stdout",
       "text": [
        "\r",
        " 5000/20000 [======>.......................] - ETA: 0s"
       ]
      },
      {
       "output_type": "stream",
       "stream": "stdout",
       "text": [
        "\b\b\b\b\b\b\b\b\b\b\b\b\b\b\b\b\b\b\b\b\b\b\b\b\b\b\b\b\b\b\b\b\b\b\b\b\b\b\b\b\b\b\b\b\b\b\b\b\b\b\b\b\b\b\r",
        "20000/20000 [==============================] - 0s     "
       ]
      },
      {
       "output_type": "stream",
       "stream": "stdout",
       "text": [
        "\n",
        "\r",
        " 5000/20000 [======>.......................] - ETA: 0s"
       ]
      },
      {
       "output_type": "stream",
       "stream": "stdout",
       "text": [
        "\b\b\b\b\b\b\b\b\b\b\b\b\b\b\b\b\b\b\b\b\b\b\b\b\b\b\b\b\b\b\b\b\b\b\b\b\b\b\b\b\b\b\b\b\b\b\b\b\b\b\b\b\b\b\r",
        "20000/20000 [==============================] - 0s     "
       ]
      },
      {
       "output_type": "stream",
       "stream": "stdout",
       "text": [
        "\n",
        "Train on 80000 samples, validate on 20000 samples\n",
        "Epoch 1/190\n",
        "0s - loss: 1.0316 - acc: 0.2492 - val_loss: 1.0319 - val_acc: 0.2551\n"
       ]
      },
      {
       "output_type": "stream",
       "stream": "stdout",
       "text": [
        "Epoch 2/190\n",
        "0s - loss: 1.0244 - acc: 0.2492 - val_loss: 1.0250 - val_acc: 0.2551\n"
       ]
      },
      {
       "output_type": "stream",
       "stream": "stdout",
       "text": [
        "Epoch 3/190\n",
        "0s - loss: 1.0177 - acc: 0.2492 - val_loss: 1.0184 - val_acc: 0.2551\n"
       ]
      },
      {
       "output_type": "stream",
       "stream": "stdout",
       "text": [
        "Epoch 4/190\n",
        "0s - loss: 1.0113 - acc: 0.2492 - val_loss: 1.0122 - val_acc: 0.2551\n"
       ]
      },
      {
       "output_type": "stream",
       "stream": "stdout",
       "text": [
        "Epoch 5/190\n",
        "0s - loss: 1.0053 - acc: 0.2492 - val_loss: 1.0063 - val_acc: 0.2551\n"
       ]
      },
      {
       "output_type": "stream",
       "stream": "stdout",
       "text": [
        "Epoch 6/190\n",
        "0s - loss: 0.9996 - acc: 0.2492 - val_loss: 1.0008 - val_acc: 0.2551\n"
       ]
      },
      {
       "output_type": "stream",
       "stream": "stdout",
       "text": [
        "Epoch 7/190\n",
        "0s - loss: 0.9943 - acc: 0.2492 - val_loss: 0.9956 - val_acc: 0.2551\n"
       ]
      },
      {
       "output_type": "stream",
       "stream": "stdout",
       "text": [
        "Epoch 8/190\n",
        "0s - loss: 0.9892 - acc: 0.2492 - val_loss: 0.9906 - val_acc: 0.2551\n"
       ]
      },
      {
       "output_type": "stream",
       "stream": "stdout",
       "text": [
        "Epoch 9/190\n",
        "0s - loss: 0.9843 - acc: 0.2492 - val_loss: 0.9859 - val_acc: 0.2551\n"
       ]
      },
      {
       "output_type": "stream",
       "stream": "stdout",
       "text": [
        "Epoch 10/190\n",
        "0s - loss: 0.9797 - acc: 0.2496 - val_loss: 0.9814 - val_acc: 0.2515\n"
       ]
      },
      {
       "output_type": "stream",
       "stream": "stdout",
       "text": [
        "Epoch 11/190\n",
        "0s - loss: 0.9754 - acc: 0.2514 - val_loss: 0.9771 - val_acc: 0.2515\n"
       ]
      },
      {
       "output_type": "stream",
       "stream": "stdout",
       "text": [
        "Epoch 12/190\n",
        "0s - loss: 0.9712 - acc: 0.2514 - val_loss: 0.9731 - val_acc: 0.2515\n"
       ]
      },
      {
       "output_type": "stream",
       "stream": "stdout",
       "text": [
        "Epoch 13/190\n",
        "0s - loss: 0.9673 - acc: 0.2514 - val_loss: 0.9692 - val_acc: 0.2515\n"
       ]
      },
      {
       "output_type": "stream",
       "stream": "stdout",
       "text": [
        "Epoch 14/190\n",
        "0s - loss: 0.9635 - acc: 0.2514 - val_loss: 0.9655 - val_acc: 0.2515\n"
       ]
      },
      {
       "output_type": "stream",
       "stream": "stdout",
       "text": [
        "Epoch 15/190\n",
        "0s - loss: 0.9599 - acc: 0.2514 - val_loss: 0.9620 - val_acc: 0.2515\n"
       ]
      },
      {
       "output_type": "stream",
       "stream": "stdout",
       "text": [
        "Epoch 16/190\n",
        "0s - loss: 0.9565 - acc: 0.2514 - val_loss: 0.9587 - val_acc: 0.2515\n"
       ]
      },
      {
       "output_type": "stream",
       "stream": "stdout",
       "text": [
        "Epoch 17/190\n",
        "0s - loss: 0.9532 - acc: 0.2514 - val_loss: 0.9554 - val_acc: 0.2515\n"
       ]
      },
      {
       "output_type": "stream",
       "stream": "stdout",
       "text": [
        "Epoch 18/190\n",
        "0s - loss: 0.9501 - acc: 0.2514 - val_loss: 0.9524 - val_acc: 0.2515\n"
       ]
      },
      {
       "output_type": "stream",
       "stream": "stdout",
       "text": [
        "Epoch 19/190\n",
        "0s - loss: 0.9471 - acc: 0.2514 - val_loss: 0.9494 - val_acc: 0.2515\n"
       ]
      },
      {
       "output_type": "stream",
       "stream": "stdout",
       "text": [
        "Epoch 20/190\n",
        "0s - loss: 0.9442 - acc: 0.2514 - val_loss: 0.9466 - val_acc: 0.2515\n"
       ]
      },
      {
       "output_type": "stream",
       "stream": "stdout",
       "text": [
        "Epoch 21/190\n",
        "0s - loss: 0.9415 - acc: 0.2514 - val_loss: 0.9439 - val_acc: 0.2515\n"
       ]
      },
      {
       "output_type": "stream",
       "stream": "stdout",
       "text": [
        "Epoch 22/190\n",
        "0s - loss: 0.9388 - acc: 0.2514 - val_loss: 0.9413 - val_acc: 0.2515\n"
       ]
      },
      {
       "output_type": "stream",
       "stream": "stdout",
       "text": [
        "Epoch 23/190\n",
        "0s - loss: 0.9363 - acc: 0.2514 - val_loss: 0.9388 - val_acc: 0.2515\n"
       ]
      },
      {
       "output_type": "stream",
       "stream": "stdout",
       "text": [
        "Epoch 24/190\n",
        "0s - loss: 0.9338 - acc: 0.2514 - val_loss: 0.9364 - val_acc: 0.2515\n"
       ]
      },
      {
       "output_type": "stream",
       "stream": "stdout",
       "text": [
        "Epoch 25/190\n",
        "0s - loss: 0.9315 - acc: 0.2514 - val_loss: 0.9341 - val_acc: 0.2515\n"
       ]
      },
      {
       "output_type": "stream",
       "stream": "stdout",
       "text": [
        "Epoch 26/190\n",
        "0s - loss: 0.9292 - acc: 0.2514 - val_loss: 0.9318 - val_acc: 0.2515\n"
       ]
      },
      {
       "output_type": "stream",
       "stream": "stdout",
       "text": [
        "Epoch 27/190\n",
        "0s - loss: 0.9271 - acc: 0.2514 - val_loss: 0.9297 - val_acc: 0.2515\n"
       ]
      },
      {
       "output_type": "stream",
       "stream": "stdout",
       "text": [
        "Epoch 28/190\n",
        "0s - loss: 0.9250 - acc: 0.2514 - val_loss: 0.9276 - val_acc: 0.2515\n"
       ]
      },
      {
       "output_type": "stream",
       "stream": "stdout",
       "text": [
        "Epoch 29/190\n",
        "0s - loss: 0.9229 - acc: 0.2514 - val_loss: 0.9257 - val_acc: 0.2515\n"
       ]
      },
      {
       "output_type": "stream",
       "stream": "stdout",
       "text": [
        "Epoch 30/190\n",
        "0s - loss: 0.9210 - acc: 0.2514 - val_loss: 0.9237 - val_acc: 0.2515\n"
       ]
      },
      {
       "output_type": "stream",
       "stream": "stdout",
       "text": [
        "Epoch 31/190\n",
        "0s - loss: 0.9191 - acc: 0.2514 - val_loss: 0.9219 - val_acc: 0.2515\n"
       ]
      },
      {
       "output_type": "stream",
       "stream": "stdout",
       "text": [
        "Epoch 32/190\n",
        "0s - loss: 0.9173 - acc: 0.2514 - val_loss: 0.9201 - val_acc: 0.2515\n"
       ]
      },
      {
       "output_type": "stream",
       "stream": "stdout",
       "text": [
        "Epoch 33/190\n",
        "0s - loss: 0.9155 - acc: 0.2514 - val_loss: 0.9184 - val_acc: 0.2515\n"
       ]
      },
      {
       "output_type": "stream",
       "stream": "stdout",
       "text": [
        "Epoch 34/190\n",
        "0s - loss: 0.9138 - acc: 0.2514 - val_loss: 0.9167 - val_acc: 0.2515\n"
       ]
      },
      {
       "output_type": "stream",
       "stream": "stdout",
       "text": [
        "Epoch 35/190\n",
        "0s - loss: 0.9122 - acc: 0.2514 - val_loss: 0.9151 - val_acc: 0.2515\n"
       ]
      },
      {
       "output_type": "stream",
       "stream": "stdout",
       "text": [
        "Epoch 36/190\n",
        "0s - loss: 0.9106 - acc: 0.2514 - val_loss: 0.9135 - val_acc: 0.2515\n"
       ]
      },
      {
       "output_type": "stream",
       "stream": "stdout",
       "text": [
        "Epoch 37/190\n",
        "0s - loss: 0.9091 - acc: 0.2514 - val_loss: 0.9120 - val_acc: 0.2515\n"
       ]
      },
      {
       "output_type": "stream",
       "stream": "stdout",
       "text": [
        "Epoch 38/190\n",
        "0s - loss: 0.9076 - acc: 0.2514 - val_loss: 0.9105 - val_acc: 0.2515\n"
       ]
      },
      {
       "output_type": "stream",
       "stream": "stdout",
       "text": [
        "Epoch 39/190\n",
        "0s - loss: 0.9061 - acc: 0.2514 - val_loss: 0.9091 - val_acc: 0.2515\n"
       ]
      },
      {
       "output_type": "stream",
       "stream": "stdout",
       "text": [
        "Epoch 40/190\n",
        "0s - loss: 0.9048 - acc: 0.2514 - val_loss: 0.9077 - val_acc: 0.2515\n"
       ]
      },
      {
       "output_type": "stream",
       "stream": "stdout",
       "text": [
        "Epoch 41/190\n",
        "0s - loss: 0.9034 - acc: 0.2514 - val_loss: 0.9064 - val_acc: 0.2515\n"
       ]
      },
      {
       "output_type": "stream",
       "stream": "stdout",
       "text": [
        "Epoch 42/190\n",
        "0s - loss: 0.9021 - acc: 0.2514 - val_loss: 0.9051 - val_acc: 0.2515\n"
       ]
      },
      {
       "output_type": "stream",
       "stream": "stdout",
       "text": [
        "Epoch 43/190\n",
        "0s - loss: 0.9008 - acc: 0.2514 - val_loss: 0.9038 - val_acc: 0.2515\n"
       ]
      },
      {
       "output_type": "stream",
       "stream": "stdout",
       "text": [
        "Epoch 44/190\n",
        "0s - loss: 0.8996 - acc: 0.2514 - val_loss: 0.9026 - val_acc: 0.2515\n"
       ]
      },
      {
       "output_type": "stream",
       "stream": "stdout",
       "text": [
        "Epoch 45/190\n",
        "0s - loss: 0.8984 - acc: 0.2514 - val_loss: 0.9014 - val_acc: 0.2515\n"
       ]
      },
      {
       "output_type": "stream",
       "stream": "stdout",
       "text": [
        "Epoch 46/190\n",
        "0s - loss: 0.8972 - acc: 0.2514 - val_loss: 0.9002 - val_acc: 0.2515\n"
       ]
      },
      {
       "output_type": "stream",
       "stream": "stdout",
       "text": [
        "Epoch 47/190\n",
        "0s - loss: 0.8961 - acc: 0.2514 - val_loss: 0.8991 - val_acc: 0.2515\n"
       ]
      },
      {
       "output_type": "stream",
       "stream": "stdout",
       "text": [
        "Epoch 48/190\n",
        "0s - loss: 0.8950 - acc: 0.2514 - val_loss: 0.8980 - val_acc: 0.2515\n"
       ]
      },
      {
       "output_type": "stream",
       "stream": "stdout",
       "text": [
        "Epoch 49/190\n",
        "0s - loss: 0.8939 - acc: 0.2514 - val_loss: 0.8970 - val_acc: 0.2515\n"
       ]
      },
      {
       "output_type": "stream",
       "stream": "stdout",
       "text": [
        "Epoch 50/190\n",
        "0s - loss: 0.8928 - acc: 0.2514 - val_loss: 0.8959 - val_acc: 0.2515\n"
       ]
      },
      {
       "output_type": "stream",
       "stream": "stdout",
       "text": [
        "Epoch 51/190\n",
        "0s - loss: 0.8918 - acc: 0.2514 - val_loss: 0.8949 - val_acc: 0.2515\n"
       ]
      },
      {
       "output_type": "stream",
       "stream": "stdout",
       "text": [
        "Epoch 52/190\n",
        "0s - loss: 0.8908 - acc: 0.2514 - val_loss: 0.8939 - val_acc: 0.2515\n"
       ]
      },
      {
       "output_type": "stream",
       "stream": "stdout",
       "text": [
        "Epoch 53/190\n",
        "0s - loss: 0.8899 - acc: 0.2514 - val_loss: 0.8930 - val_acc: 0.2515\n"
       ]
      },
      {
       "output_type": "stream",
       "stream": "stdout",
       "text": [
        "Epoch 54/190\n",
        "0s - loss: 0.8889 - acc: 0.2514 - val_loss: 0.8920 - val_acc: 0.2515\n"
       ]
      },
      {
       "output_type": "stream",
       "stream": "stdout",
       "text": [
        "Epoch 55/190\n",
        "0s - loss: 0.8880 - acc: 0.2514 - val_loss: 0.8911 - val_acc: 0.2515\n"
       ]
      },
      {
       "output_type": "stream",
       "stream": "stdout",
       "text": [
        "Epoch 56/190\n",
        "0s - loss: 0.8871 - acc: 0.2514 - val_loss: 0.8903 - val_acc: 0.2515\n"
       ]
      },
      {
       "output_type": "stream",
       "stream": "stdout",
       "text": [
        "Epoch 57/190\n",
        "0s - loss: 0.8862 - acc: 0.2514 - val_loss: 0.8894 - val_acc: 0.2515\n"
       ]
      },
      {
       "output_type": "stream",
       "stream": "stdout",
       "text": [
        "Epoch 58/190\n",
        "0s - loss: 0.8854 - acc: 0.2514 - val_loss: 0.8886 - val_acc: 0.2515\n"
       ]
      },
      {
       "output_type": "stream",
       "stream": "stdout",
       "text": [
        "Epoch 59/190\n",
        "0s - loss: 0.8846 - acc: 0.2514 - val_loss: 0.8877 - val_acc: 0.2515\n"
       ]
      },
      {
       "output_type": "stream",
       "stream": "stdout",
       "text": [
        "Epoch 60/190\n",
        "0s - loss: 0.8838 - acc: 0.2514 - val_loss: 0.8869 - val_acc: 0.2515\n"
       ]
      },
      {
       "output_type": "stream",
       "stream": "stdout",
       "text": [
        "Epoch 61/190\n",
        "0s - loss: 0.8830 - acc: 0.2514 - val_loss: 0.8861 - val_acc: 0.2515\n"
       ]
      },
      {
       "output_type": "stream",
       "stream": "stdout",
       "text": [
        "Epoch 62/190\n",
        "0s - loss: 0.8822 - acc: 0.2514 - val_loss: 0.8854 - val_acc: 0.2515\n"
       ]
      },
      {
       "output_type": "stream",
       "stream": "stdout",
       "text": [
        "Epoch 63/190\n",
        "0s - loss: 0.8814 - acc: 0.2514 - val_loss: 0.8846 - val_acc: 0.2515\n"
       ]
      },
      {
       "output_type": "stream",
       "stream": "stdout",
       "text": [
        "Epoch 64/190\n",
        "0s - loss: 0.8807 - acc: 0.2514 - val_loss: 0.8839 - val_acc: 0.2515\n"
       ]
      },
      {
       "output_type": "stream",
       "stream": "stdout",
       "text": [
        "Epoch 65/190\n",
        "0s - loss: 0.8800 - acc: 0.2514 - val_loss: 0.8832 - val_acc: 0.2515\n"
       ]
      },
      {
       "output_type": "stream",
       "stream": "stdout",
       "text": [
        "Epoch 66/190\n",
        "0s - loss: 0.8793 - acc: 0.2514 - val_loss: 0.8825 - val_acc: 0.2515\n"
       ]
      },
      {
       "output_type": "stream",
       "stream": "stdout",
       "text": [
        "Epoch 67/190\n",
        "0s - loss: 0.8786 - acc: 0.2514 - val_loss: 0.8818 - val_acc: 0.2515\n"
       ]
      },
      {
       "output_type": "stream",
       "stream": "stdout",
       "text": [
        "Epoch 68/190\n",
        "0s - loss: 0.8779 - acc: 0.2514 - val_loss: 0.8811 - val_acc: 0.2515\n"
       ]
      },
      {
       "output_type": "stream",
       "stream": "stdout",
       "text": [
        "Epoch 69/190\n",
        "0s - loss: 0.8773 - acc: 0.2514 - val_loss: 0.8805 - val_acc: 0.2515\n"
       ]
      },
      {
       "output_type": "stream",
       "stream": "stdout",
       "text": [
        "Epoch 70/190\n",
        "0s - loss: 0.8766 - acc: 0.2514 - val_loss: 0.8798 - val_acc: 0.2515\n"
       ]
      },
      {
       "output_type": "stream",
       "stream": "stdout",
       "text": [
        "Epoch 71/190\n",
        "0s - loss: 0.8760 - acc: 0.2514 - val_loss: 0.8792 - val_acc: 0.2515\n"
       ]
      },
      {
       "output_type": "stream",
       "stream": "stdout",
       "text": [
        "Epoch 72/190\n",
        "0s - loss: 0.8754 - acc: 0.2514 - val_loss: 0.8786 - val_acc: 0.2515\n"
       ]
      },
      {
       "output_type": "stream",
       "stream": "stdout",
       "text": [
        "Epoch 73/190\n",
        "0s - loss: 0.8748 - acc: 0.2514 - val_loss: 0.8780 - val_acc: 0.2515\n"
       ]
      },
      {
       "output_type": "stream",
       "stream": "stdout",
       "text": [
        "Epoch 74/190\n",
        "0s - loss: 0.8742 - acc: 0.2514 - val_loss: 0.8774 - val_acc: 0.2515\n"
       ]
      },
      {
       "output_type": "stream",
       "stream": "stdout",
       "text": [
        "Epoch 75/190\n",
        "0s - loss: 0.8736 - acc: 0.2514 - val_loss: 0.8768 - val_acc: 0.2515\n"
       ]
      },
      {
       "output_type": "stream",
       "stream": "stdout",
       "text": [
        "Epoch 76/190\n",
        "0s - loss: 0.8730 - acc: 0.2514 - val_loss: 0.8763 - val_acc: 0.2515\n"
       ]
      },
      {
       "output_type": "stream",
       "stream": "stdout",
       "text": [
        "Epoch 77/190\n",
        "0s - loss: 0.8725 - acc: 0.2514 - val_loss: 0.8757 - val_acc: 0.2515\n"
       ]
      },
      {
       "output_type": "stream",
       "stream": "stdout",
       "text": [
        "Epoch 78/190\n",
        "0s - loss: 0.8719 - acc: 0.2514 - val_loss: 0.8752 - val_acc: 0.2515\n"
       ]
      },
      {
       "output_type": "stream",
       "stream": "stdout",
       "text": [
        "Epoch 79/190\n",
        "0s - loss: 0.8714 - acc: 0.2514 - val_loss: 0.8747 - val_acc: 0.2515\n"
       ]
      },
      {
       "output_type": "stream",
       "stream": "stdout",
       "text": [
        "Epoch 80/190\n",
        "0s - loss: 0.8709 - acc: 0.2514 - val_loss: 0.8741 - val_acc: 0.2515\n"
       ]
      },
      {
       "output_type": "stream",
       "stream": "stdout",
       "text": [
        "Epoch 81/190\n",
        "0s - loss: 0.8704 - acc: 0.2514 - val_loss: 0.8736 - val_acc: 0.2515\n"
       ]
      },
      {
       "output_type": "stream",
       "stream": "stdout",
       "text": [
        "Epoch 82/190\n",
        "0s - loss: 0.8699 - acc: 0.2514 - val_loss: 0.8731 - val_acc: 0.2515\n"
       ]
      },
      {
       "output_type": "stream",
       "stream": "stdout",
       "text": [
        "Epoch 83/190\n",
        "0s - loss: 0.8694 - acc: 0.2514 - val_loss: 0.8726 - val_acc: 0.2515\n"
       ]
      },
      {
       "output_type": "stream",
       "stream": "stdout",
       "text": [
        "Epoch 84/190\n",
        "0s - loss: 0.8689 - acc: 0.2514 - val_loss: 0.8722 - val_acc: 0.2515\n"
       ]
      },
      {
       "output_type": "stream",
       "stream": "stdout",
       "text": [
        "Epoch 85/190\n",
        "0s - loss: 0.8684 - acc: 0.2514 - val_loss: 0.8717 - val_acc: 0.2515\n"
       ]
      },
      {
       "output_type": "stream",
       "stream": "stdout",
       "text": [
        "Epoch 86/190\n",
        "0s - loss: 0.8679 - acc: 0.2514 - val_loss: 0.8712 - val_acc: 0.2515\n"
       ]
      },
      {
       "output_type": "stream",
       "stream": "stdout",
       "text": [
        "Epoch 87/190\n",
        "0s - loss: 0.8675 - acc: 0.2514 - val_loss: 0.8708 - val_acc: 0.2515\n"
       ]
      },
      {
       "output_type": "stream",
       "stream": "stdout",
       "text": [
        "Epoch 88/190\n",
        "0s - loss: 0.8670 - acc: 0.2514 - val_loss: 0.8703 - val_acc: 0.2515\n"
       ]
      },
      {
       "output_type": "stream",
       "stream": "stdout",
       "text": [
        "Epoch 89/190\n",
        "0s - loss: 0.8666 - acc: 0.2514 - val_loss: 0.8699 - val_acc: 0.2515\n"
       ]
      },
      {
       "output_type": "stream",
       "stream": "stdout",
       "text": [
        "Epoch 90/190\n",
        "0s - loss: 0.8662 - acc: 0.2514 - val_loss: 0.8695 - val_acc: 0.2515\n"
       ]
      },
      {
       "output_type": "stream",
       "stream": "stdout",
       "text": [
        "Epoch 91/190\n",
        "0s - loss: 0.8657 - acc: 0.2514 - val_loss: 0.8690 - val_acc: 0.2515\n"
       ]
      },
      {
       "output_type": "stream",
       "stream": "stdout",
       "text": [
        "Epoch 92/190\n",
        "0s - loss: 0.8653 - acc: 0.2514 - val_loss: 0.8686 - val_acc: 0.2515\n"
       ]
      },
      {
       "output_type": "stream",
       "stream": "stdout",
       "text": [
        "Epoch 93/190\n",
        "0s - loss: 0.8649 - acc: 0.2514 - val_loss: 0.8682 - val_acc: 0.2515\n"
       ]
      },
      {
       "output_type": "stream",
       "stream": "stdout",
       "text": [
        "Epoch 94/190\n",
        "0s - loss: 0.8645 - acc: 0.2514 - val_loss: 0.8678 - val_acc: 0.2515\n"
       ]
      },
      {
       "output_type": "stream",
       "stream": "stdout",
       "text": [
        "Epoch 95/190\n",
        "0s - loss: 0.8641 - acc: 0.2514 - val_loss: 0.8674 - val_acc: 0.2515\n"
       ]
      },
      {
       "output_type": "stream",
       "stream": "stdout",
       "text": [
        "Epoch 96/190\n",
        "0s - loss: 0.8637 - acc: 0.2514 - val_loss: 0.8670 - val_acc: 0.2515\n"
       ]
      },
      {
       "output_type": "stream",
       "stream": "stdout",
       "text": [
        "Epoch 97/190\n",
        "0s - loss: 0.8633 - acc: 0.2514 - val_loss: 0.8666 - val_acc: 0.2515\n"
       ]
      },
      {
       "output_type": "stream",
       "stream": "stdout",
       "text": [
        "Epoch 98/190\n",
        "0s - loss: 0.8630 - acc: 0.2514 - val_loss: 0.8663 - val_acc: 0.2515\n"
       ]
      },
      {
       "output_type": "stream",
       "stream": "stdout",
       "text": [
        "Epoch 99/190\n",
        "0s - loss: 0.8626 - acc: 0.2514 - val_loss: 0.8659 - val_acc: 0.2515\n"
       ]
      },
      {
       "output_type": "stream",
       "stream": "stdout",
       "text": [
        "Epoch 100/190\n",
        "0s - loss: 0.8622 - acc: 0.2514 - val_loss: 0.8655 - val_acc: 0.2515\n"
       ]
      },
      {
       "output_type": "stream",
       "stream": "stdout",
       "text": [
        "Epoch 101/190\n",
        "0s - loss: 0.8619 - acc: 0.2514 - val_loss: 0.8652 - val_acc: 0.2515\n"
       ]
      },
      {
       "output_type": "stream",
       "stream": "stdout",
       "text": [
        "Epoch 102/190\n",
        "0s - loss: 0.8615 - acc: 0.2514 - val_loss: 0.8648 - val_acc: 0.2515\n"
       ]
      },
      {
       "output_type": "stream",
       "stream": "stdout",
       "text": [
        "Epoch 103/190\n",
        "0s - loss: 0.8612 - acc: 0.2514 - val_loss: 0.8645 - val_acc: 0.2515\n"
       ]
      },
      {
       "output_type": "stream",
       "stream": "stdout",
       "text": [
        "Epoch 104/190\n",
        "0s - loss: 0.8608 - acc: 0.2514 - val_loss: 0.8641 - val_acc: 0.2515\n"
       ]
      },
      {
       "output_type": "stream",
       "stream": "stdout",
       "text": [
        "Epoch 105/190\n",
        "0s - loss: 0.8605 - acc: 0.2514 - val_loss: 0.8638 - val_acc: 0.2515\n"
       ]
      },
      {
       "output_type": "stream",
       "stream": "stdout",
       "text": [
        "Epoch 106/190\n",
        "0s - loss: 0.8602 - acc: 0.2514 - val_loss: 0.8635 - val_acc: 0.2515\n"
       ]
      },
      {
       "output_type": "stream",
       "stream": "stdout",
       "text": [
        "Epoch 107/190\n",
        "0s - loss: 0.8598 - acc: 0.2514 - val_loss: 0.8632 - val_acc: 0.2515\n"
       ]
      },
      {
       "output_type": "stream",
       "stream": "stdout",
       "text": [
        "Epoch 108/190\n",
        "0s - loss: 0.8595 - acc: 0.2514 - val_loss: 0.8628 - val_acc: 0.2515\n"
       ]
      },
      {
       "output_type": "stream",
       "stream": "stdout",
       "text": [
        "Epoch 109/190\n",
        "0s - loss: 0.8592 - acc: 0.2514 - val_loss: 0.8625 - val_acc: 0.2515\n"
       ]
      },
      {
       "output_type": "stream",
       "stream": "stdout",
       "text": [
        "Epoch 110/190\n",
        "0s - loss: 0.8589 - acc: 0.2514 - val_loss: 0.8622 - val_acc: 0.2515\n"
       ]
      },
      {
       "output_type": "stream",
       "stream": "stdout",
       "text": [
        "Epoch 111/190\n",
        "0s - loss: 0.8586 - acc: 0.2514 - val_loss: 0.8619 - val_acc: 0.2515\n"
       ]
      },
      {
       "output_type": "stream",
       "stream": "stdout",
       "text": [
        "Epoch 112/190\n",
        "0s - loss: 0.8583 - acc: 0.2514 - val_loss: 0.8616 - val_acc: 0.2515\n"
       ]
      },
      {
       "output_type": "stream",
       "stream": "stdout",
       "text": [
        "Epoch 113/190\n",
        "0s - loss: 0.8580 - acc: 0.2514 - val_loss: 0.8613 - val_acc: 0.2515\n"
       ]
      },
      {
       "output_type": "stream",
       "stream": "stdout",
       "text": [
        "Epoch 114/190\n",
        "0s - loss: 0.8577 - acc: 0.2514 - val_loss: 0.8610 - val_acc: 0.2515\n"
       ]
      },
      {
       "output_type": "stream",
       "stream": "stdout",
       "text": [
        "Epoch 115/190\n",
        "0s - loss: 0.8574 - acc: 0.2514 - val_loss: 0.8607 - val_acc: 0.2515\n"
       ]
      },
      {
       "output_type": "stream",
       "stream": "stdout",
       "text": [
        "Epoch 116/190\n",
        "0s - loss: 0.8571 - acc: 0.2514 - val_loss: 0.8605 - val_acc: 0.2515\n"
       ]
      },
      {
       "output_type": "stream",
       "stream": "stdout",
       "text": [
        "Epoch 117/190\n",
        "0s - loss: 0.8568 - acc: 0.2514 - val_loss: 0.8602 - val_acc: 0.2515\n"
       ]
      },
      {
       "output_type": "stream",
       "stream": "stdout",
       "text": [
        "Epoch 118/190\n",
        "0s - loss: 0.8566 - acc: 0.2514 - val_loss: 0.8599 - val_acc: 0.2515\n"
       ]
      },
      {
       "output_type": "stream",
       "stream": "stdout",
       "text": [
        "Epoch 119/190\n",
        "0s - loss: 0.8563 - acc: 0.2514 - val_loss: 0.8596 - val_acc: 0.2515\n"
       ]
      },
      {
       "output_type": "stream",
       "stream": "stdout",
       "text": [
        "Epoch 120/190\n",
        "0s - loss: 0.8560 - acc: 0.2514 - val_loss: 0.8594 - val_acc: 0.2515\n"
       ]
      },
      {
       "output_type": "stream",
       "stream": "stdout",
       "text": [
        "Epoch 121/190\n",
        "0s - loss: 0.8558 - acc: 0.2514 - val_loss: 0.8591 - val_acc: 0.2515\n"
       ]
      },
      {
       "output_type": "stream",
       "stream": "stdout",
       "text": [
        "Epoch 122/190\n",
        "0s - loss: 0.8555 - acc: 0.2514 - val_loss: 0.8588 - val_acc: 0.2515\n"
       ]
      },
      {
       "output_type": "stream",
       "stream": "stdout",
       "text": [
        "Epoch 123/190\n",
        "0s - loss: 0.8552 - acc: 0.2514 - val_loss: 0.8586 - val_acc: 0.2515\n"
       ]
      },
      {
       "output_type": "stream",
       "stream": "stdout",
       "text": [
        "Epoch 124/190\n",
        "0s - loss: 0.8550 - acc: 0.2514 - val_loss: 0.8583 - val_acc: 0.2515\n"
       ]
      },
      {
       "output_type": "stream",
       "stream": "stdout",
       "text": [
        "Epoch 125/190\n",
        "0s - loss: 0.8547 - acc: 0.2514 - val_loss: 0.8581 - val_acc: 0.2515\n"
       ]
      },
      {
       "output_type": "stream",
       "stream": "stdout",
       "text": [
        "Epoch 126/190\n",
        "0s - loss: 0.8545 - acc: 0.2514 - val_loss: 0.8578 - val_acc: 0.2515\n"
       ]
      },
      {
       "output_type": "stream",
       "stream": "stdout",
       "text": [
        "Epoch 127/190\n",
        "0s - loss: 0.8542 - acc: 0.2514 - val_loss: 0.8576 - val_acc: 0.2515\n"
       ]
      },
      {
       "output_type": "stream",
       "stream": "stdout",
       "text": [
        "Epoch 128/190\n",
        "0s - loss: 0.8540 - acc: 0.2514 - val_loss: 0.8573 - val_acc: 0.2515\n"
       ]
      },
      {
       "output_type": "stream",
       "stream": "stdout",
       "text": [
        "Epoch 129/190\n",
        "0s - loss: 0.8538 - acc: 0.2514 - val_loss: 0.8571 - val_acc: 0.2515\n"
       ]
      },
      {
       "output_type": "stream",
       "stream": "stdout",
       "text": [
        "Epoch 130/190\n",
        "0s - loss: 0.8535 - acc: 0.2514 - val_loss: 0.8569 - val_acc: 0.2515\n"
       ]
      },
      {
       "output_type": "stream",
       "stream": "stdout",
       "text": [
        "Epoch 131/190\n",
        "0s - loss: 0.8533 - acc: 0.2514 - val_loss: 0.8566 - val_acc: 0.2515\n"
       ]
      },
      {
       "output_type": "stream",
       "stream": "stdout",
       "text": [
        "Epoch 132/190\n",
        "0s - loss: 0.8531 - acc: 0.2514 - val_loss: 0.8564 - val_acc: 0.2515\n"
       ]
      },
      {
       "output_type": "stream",
       "stream": "stdout",
       "text": [
        "Epoch 133/190\n",
        "0s - loss: 0.8529 - acc: 0.2514 - val_loss: 0.8562 - val_acc: 0.2515\n"
       ]
      },
      {
       "output_type": "stream",
       "stream": "stdout",
       "text": [
        "Epoch 134/190\n",
        "0s - loss: 0.8526 - acc: 0.2514 - val_loss: 0.8560 - val_acc: 0.2515\n"
       ]
      },
      {
       "output_type": "stream",
       "stream": "stdout",
       "text": [
        "Epoch 135/190\n",
        "0s - loss: 0.8524 - acc: 0.2514 - val_loss: 0.8558 - val_acc: 0.2515\n"
       ]
      },
      {
       "output_type": "stream",
       "stream": "stdout",
       "text": [
        "Epoch 136/190\n",
        "0s - loss: 0.8522 - acc: 0.2514 - val_loss: 0.8556 - val_acc: 0.2515\n"
       ]
      },
      {
       "output_type": "stream",
       "stream": "stdout",
       "text": [
        "Epoch 137/190\n",
        "0s - loss: 0.8520 - acc: 0.2514 - val_loss: 0.8553 - val_acc: 0.2515\n"
       ]
      },
      {
       "output_type": "stream",
       "stream": "stdout",
       "text": [
        "Epoch 138/190\n",
        "0s - loss: 0.8518 - acc: 0.2514 - val_loss: 0.8551 - val_acc: 0.2515\n"
       ]
      },
      {
       "output_type": "stream",
       "stream": "stdout",
       "text": [
        "Epoch 139/190\n",
        "0s - loss: 0.8516 - acc: 0.2514 - val_loss: 0.8549 - val_acc: 0.2515\n"
       ]
      },
      {
       "output_type": "stream",
       "stream": "stdout",
       "text": [
        "Epoch 140/190\n",
        "0s - loss: 0.8514 - acc: 0.2514 - val_loss: 0.8547 - val_acc: 0.2515\n"
       ]
      },
      {
       "output_type": "stream",
       "stream": "stdout",
       "text": [
        "Epoch 141/190\n",
        "0s - loss: 0.8512 - acc: 0.2514 - val_loss: 0.8545 - val_acc: 0.2515\n"
       ]
      },
      {
       "output_type": "stream",
       "stream": "stdout",
       "text": [
        "Epoch 142/190\n",
        "0s - loss: 0.8510 - acc: 0.2514 - val_loss: 0.8543 - val_acc: 0.2515\n"
       ]
      },
      {
       "output_type": "stream",
       "stream": "stdout",
       "text": [
        "Epoch 143/190\n",
        "0s - loss: 0.8508 - acc: 0.2514 - val_loss: 0.8541 - val_acc: 0.2515\n"
       ]
      },
      {
       "output_type": "stream",
       "stream": "stdout",
       "text": [
        "Epoch 144/190\n",
        "0s - loss: 0.8506 - acc: 0.2514 - val_loss: 0.8539 - val_acc: 0.2515\n"
       ]
      },
      {
       "output_type": "stream",
       "stream": "stdout",
       "text": [
        "Epoch 145/190\n",
        "0s - loss: 0.8504 - acc: 0.2514 - val_loss: 0.8537 - val_acc: 0.2515\n"
       ]
      },
      {
       "output_type": "stream",
       "stream": "stdout",
       "text": [
        "Epoch 146/190\n",
        "0s - loss: 0.8502 - acc: 0.2514 - val_loss: 0.8535 - val_acc: 0.2515\n"
       ]
      },
      {
       "output_type": "stream",
       "stream": "stdout",
       "text": [
        "Epoch 147/190\n",
        "0s - loss: 0.8500 - acc: 0.2514 - val_loss: 0.8534 - val_acc: 0.2515\n"
       ]
      },
      {
       "output_type": "stream",
       "stream": "stdout",
       "text": [
        "Epoch 148/190\n",
        "0s - loss: 0.8498 - acc: 0.2514 - val_loss: 0.8532 - val_acc: 0.2515\n"
       ]
      },
      {
       "output_type": "stream",
       "stream": "stdout",
       "text": [
        "Epoch 149/190\n",
        "0s - loss: 0.8496 - acc: 0.2514 - val_loss: 0.8530 - val_acc: 0.2515\n"
       ]
      },
      {
       "output_type": "stream",
       "stream": "stdout",
       "text": [
        "Epoch 150/190\n",
        "0s - loss: 0.8495 - acc: 0.2514 - val_loss: 0.8528 - val_acc: 0.2515\n"
       ]
      },
      {
       "output_type": "stream",
       "stream": "stdout",
       "text": [
        "Epoch 151/190\n",
        "0s - loss: 0.8493 - acc: 0.2514 - val_loss: 0.8526 - val_acc: 0.2515\n"
       ]
      },
      {
       "output_type": "stream",
       "stream": "stdout",
       "text": [
        "Epoch 152/190\n",
        "0s - loss: 0.8491 - acc: 0.2514 - val_loss: 0.8525 - val_acc: 0.2515\n"
       ]
      },
      {
       "output_type": "stream",
       "stream": "stdout",
       "text": [
        "Epoch 153/190\n",
        "0s - loss: 0.8489 - acc: 0.2514 - val_loss: 0.8523 - val_acc: 0.2515\n"
       ]
      },
      {
       "output_type": "stream",
       "stream": "stdout",
       "text": [
        "Epoch 154/190\n",
        "0s - loss: 0.8488 - acc: 0.2514 - val_loss: 0.8521 - val_acc: 0.2515\n"
       ]
      },
      {
       "output_type": "stream",
       "stream": "stdout",
       "text": [
        "Epoch 155/190\n",
        "0s - loss: 0.8486 - acc: 0.2514 - val_loss: 0.8519 - val_acc: 0.2515\n"
       ]
      },
      {
       "output_type": "stream",
       "stream": "stdout",
       "text": [
        "Epoch 156/190\n",
        "0s - loss: 0.8484 - acc: 0.2514 - val_loss: 0.8518 - val_acc: 0.2515\n"
       ]
      },
      {
       "output_type": "stream",
       "stream": "stdout",
       "text": [
        "Epoch 157/190\n",
        "0s - loss: 0.8482 - acc: 0.2514 - val_loss: 0.8516 - val_acc: 0.2515\n"
       ]
      },
      {
       "output_type": "stream",
       "stream": "stdout",
       "text": [
        "Epoch 158/190\n",
        "0s - loss: 0.8481 - acc: 0.2514 - val_loss: 0.8514 - val_acc: 0.2515\n"
       ]
      },
      {
       "output_type": "stream",
       "stream": "stdout",
       "text": [
        "Epoch 159/190\n",
        "0s - loss: 0.8479 - acc: 0.2514 - val_loss: 0.8513 - val_acc: 0.2515\n"
       ]
      },
      {
       "output_type": "stream",
       "stream": "stdout",
       "text": [
        "Epoch 160/190\n",
        "0s - loss: 0.8478 - acc: 0.2514 - val_loss: 0.8511 - val_acc: 0.2515\n"
       ]
      },
      {
       "output_type": "stream",
       "stream": "stdout",
       "text": [
        "Epoch 161/190\n",
        "0s - loss: 0.8476 - acc: 0.2514 - val_loss: 0.8510 - val_acc: 0.2515\n"
       ]
      },
      {
       "output_type": "stream",
       "stream": "stdout",
       "text": [
        "Epoch 162/190\n",
        "0s - loss: 0.8474 - acc: 0.2514 - val_loss: 0.8508 - val_acc: 0.2515\n"
       ]
      },
      {
       "output_type": "stream",
       "stream": "stdout",
       "text": [
        "Epoch 163/190\n",
        "0s - loss: 0.8473 - acc: 0.2514 - val_loss: 0.8506 - val_acc: 0.2515\n"
       ]
      },
      {
       "output_type": "stream",
       "stream": "stdout",
       "text": [
        "Epoch 164/190\n",
        "0s - loss: 0.8471 - acc: 0.2514 - val_loss: 0.8505 - val_acc: 0.2515\n"
       ]
      },
      {
       "output_type": "stream",
       "stream": "stdout",
       "text": [
        "Epoch 165/190\n",
        "0s - loss: 0.8470 - acc: 0.2514 - val_loss: 0.8503 - val_acc: 0.2515\n"
       ]
      },
      {
       "output_type": "stream",
       "stream": "stdout",
       "text": [
        "Epoch 166/190\n",
        "0s - loss: 0.8468 - acc: 0.2514 - val_loss: 0.8502 - val_acc: 0.2515\n"
       ]
      },
      {
       "output_type": "stream",
       "stream": "stdout",
       "text": [
        "Epoch 167/190\n",
        "0s - loss: 0.8467 - acc: 0.2514 - val_loss: 0.8500 - val_acc: 0.2515\n"
       ]
      },
      {
       "output_type": "stream",
       "stream": "stdout",
       "text": [
        "Epoch 168/190\n",
        "0s - loss: 0.8465 - acc: 0.2514 - val_loss: 0.8499 - val_acc: 0.2515\n"
       ]
      },
      {
       "output_type": "stream",
       "stream": "stdout",
       "text": [
        "Epoch 169/190\n",
        "0s - loss: 0.8464 - acc: 0.2514 - val_loss: 0.8497 - val_acc: 0.2515\n"
       ]
      },
      {
       "output_type": "stream",
       "stream": "stdout",
       "text": [
        "Epoch 170/190\n",
        "0s - loss: 0.8462 - acc: 0.2514 - val_loss: 0.8496 - val_acc: 0.2515\n"
       ]
      },
      {
       "output_type": "stream",
       "stream": "stdout",
       "text": [
        "Epoch 171/190\n",
        "0s - loss: 0.8461 - acc: 0.2514 - val_loss: 0.8495 - val_acc: 0.2515\n"
       ]
      },
      {
       "output_type": "stream",
       "stream": "stdout",
       "text": [
        "Epoch 172/190\n",
        "0s - loss: 0.8460 - acc: 0.2514 - val_loss: 0.8493 - val_acc: 0.2515\n"
       ]
      },
      {
       "output_type": "stream",
       "stream": "stdout",
       "text": [
        "Epoch 173/190\n",
        "0s - loss: 0.8458 - acc: 0.2514 - val_loss: 0.8492 - val_acc: 0.2515\n"
       ]
      },
      {
       "output_type": "stream",
       "stream": "stdout",
       "text": [
        "Epoch 174/190\n",
        "0s - loss: 0.8457 - acc: 0.2514 - val_loss: 0.8490 - val_acc: 0.2515\n"
       ]
      },
      {
       "output_type": "stream",
       "stream": "stdout",
       "text": [
        "Epoch 175/190\n",
        "0s - loss: 0.8455 - acc: 0.2514 - val_loss: 0.8489 - val_acc: 0.2515\n"
       ]
      },
      {
       "output_type": "stream",
       "stream": "stdout",
       "text": [
        "Epoch 176/190\n",
        "0s - loss: 0.8454 - acc: 0.2514 - val_loss: 0.8488 - val_acc: 0.2515\n"
       ]
      },
      {
       "output_type": "stream",
       "stream": "stdout",
       "text": [
        "Epoch 177/190\n",
        "0s - loss: 0.8453 - acc: 0.2514 - val_loss: 0.8486 - val_acc: 0.2515\n"
       ]
      },
      {
       "output_type": "stream",
       "stream": "stdout",
       "text": [
        "Epoch 178/190\n",
        "0s - loss: 0.8451 - acc: 0.2514 - val_loss: 0.8485 - val_acc: 0.2515\n"
       ]
      },
      {
       "output_type": "stream",
       "stream": "stdout",
       "text": [
        "Epoch 179/190\n",
        "0s - loss: 0.8450 - acc: 0.2514 - val_loss: 0.8484 - val_acc: 0.2515\n"
       ]
      },
      {
       "output_type": "stream",
       "stream": "stdout",
       "text": [
        "Epoch 180/190\n",
        "0s - loss: 0.8449 - acc: 0.2514 - val_loss: 0.8482 - val_acc: 0.2515\n"
       ]
      },
      {
       "output_type": "stream",
       "stream": "stdout",
       "text": [
        "Epoch 181/190\n",
        "0s - loss: 0.8447 - acc: 0.2514 - val_loss: 0.8481 - val_acc: 0.2515\n"
       ]
      },
      {
       "output_type": "stream",
       "stream": "stdout",
       "text": [
        "Epoch 182/190\n",
        "0s - loss: 0.8446 - acc: 0.2514 - val_loss: 0.8480 - val_acc: 0.2515\n"
       ]
      },
      {
       "output_type": "stream",
       "stream": "stdout",
       "text": [
        "Epoch 183/190\n",
        "0s - loss: 0.8445 - acc: 0.2514 - val_loss: 0.8479 - val_acc: 0.2515\n"
       ]
      },
      {
       "output_type": "stream",
       "stream": "stdout",
       "text": [
        "Epoch 184/190\n",
        "0s - loss: 0.8444 - acc: 0.2514 - val_loss: 0.8477 - val_acc: 0.2515\n"
       ]
      },
      {
       "output_type": "stream",
       "stream": "stdout",
       "text": [
        "Epoch 185/190\n",
        "0s - loss: 0.8442 - acc: 0.2514 - val_loss: 0.8476 - val_acc: 0.2515\n"
       ]
      },
      {
       "output_type": "stream",
       "stream": "stdout",
       "text": [
        "Epoch 186/190\n",
        "0s - loss: 0.8441 - acc: 0.2514 - val_loss: 0.8475 - val_acc: 0.2515\n"
       ]
      },
      {
       "output_type": "stream",
       "stream": "stdout",
       "text": [
        "Epoch 187/190\n",
        "0s - loss: 0.8440 - acc: 0.2514 - val_loss: 0.8474 - val_acc: 0.2515\n"
       ]
      },
      {
       "output_type": "stream",
       "stream": "stdout",
       "text": [
        "Epoch 188/190\n",
        "0s - loss: 0.8439 - acc: 0.2514 - val_loss: 0.8472 - val_acc: 0.2515\n"
       ]
      },
      {
       "output_type": "stream",
       "stream": "stdout",
       "text": [
        "Epoch 189/190\n",
        "0s - loss: 0.8438 - acc: 0.2514 - val_loss: 0.8471 - val_acc: 0.2515\n"
       ]
      },
      {
       "output_type": "stream",
       "stream": "stdout",
       "text": [
        "Epoch 190/190\n",
        "0s - loss: 0.8436 - acc: 0.2514 - val_loss: 0.8470 - val_acc: 0.2515\n"
       ]
      },
      {
       "output_type": "stream",
       "stream": "stdout",
       "text": [
        "\r",
        " 5000/20000 [======>.......................] - ETA: 0s"
       ]
      },
      {
       "output_type": "stream",
       "stream": "stdout",
       "text": [
        "\b\b\b\b\b\b\b\b\b\b\b\b\b\b\b\b\b\b\b\b\b\b\b\b\b\b\b\b\b\b\b\b\b\b\b\b\b\b\b\b\b\b\b\b\b\b\b\b\b\b\b\b\b\b\r",
        "20000/20000 [==============================] - 0s     "
       ]
      },
      {
       "output_type": "stream",
       "stream": "stdout",
       "text": [
        "\n",
        "\r",
        " 5000/20000 [======>.......................] - ETA: 0s"
       ]
      },
      {
       "output_type": "stream",
       "stream": "stdout",
       "text": [
        "\b\b\b\b\b\b\b\b\b\b\b\b\b\b\b\b\b\b\b\b\b\b\b\b\b\b\b\b\b\b\b\b\b\b\b\b\b\b\b\b\b\b\b\b\b\b\b\b\b\b\b\b\b\b\r",
        "20000/20000 [==============================] - 0s     "
       ]
      },
      {
       "output_type": "stream",
       "stream": "stdout",
       "text": [
        "\n",
        "Train on 80000 samples, validate on 20000 samples\n",
        "Epoch 1/190\n",
        "0s - loss: 1.7134 - acc: 0.2490 - val_loss: 1.7035 - val_acc: 0.2524\n"
       ]
      },
      {
       "output_type": "stream",
       "stream": "stdout",
       "text": [
        "Epoch 2/190\n",
        "0s - loss: 1.7029 - acc: 0.2490 - val_loss: 1.6932 - val_acc: 0.2524\n"
       ]
      },
      {
       "output_type": "stream",
       "stream": "stdout",
       "text": [
        "Epoch 3/190\n",
        "0s - loss: 1.6927 - acc: 0.2490 - val_loss: 1.6831 - val_acc: 0.2524\n"
       ]
      },
      {
       "output_type": "stream",
       "stream": "stdout",
       "text": [
        "Epoch 4/190\n",
        "0s - loss: 1.6826 - acc: 0.2490 - val_loss: 1.6732 - val_acc: 0.2524\n"
       ]
      },
      {
       "output_type": "stream",
       "stream": "stdout",
       "text": [
        "Epoch 5/190\n",
        "0s - loss: 1.6726 - acc: 0.2490 - val_loss: 1.6634 - val_acc: 0.2524\n"
       ]
      },
      {
       "output_type": "stream",
       "stream": "stdout",
       "text": [
        "Epoch 6/190\n",
        "0s - loss: 1.6629 - acc: 0.2490 - val_loss: 1.6538 - val_acc: 0.2524\n"
       ]
      },
      {
       "output_type": "stream",
       "stream": "stdout",
       "text": [
        "Epoch 7/190\n",
        "0s - loss: 1.6533 - acc: 0.2490 - val_loss: 1.6444 - val_acc: 0.2524\n"
       ]
      },
      {
       "output_type": "stream",
       "stream": "stdout",
       "text": [
        "Epoch 8/190\n",
        "0s - loss: 1.6439 - acc: 0.2490 - val_loss: 1.6352 - val_acc: 0.2524\n"
       ]
      },
      {
       "output_type": "stream",
       "stream": "stdout",
       "text": [
        "Epoch 9/190\n",
        "0s - loss: 1.6346 - acc: 0.2490 - val_loss: 1.6261 - val_acc: 0.2524\n"
       ]
      },
      {
       "output_type": "stream",
       "stream": "stdout",
       "text": [
        "Epoch 10/190\n",
        "0s - loss: 1.6255 - acc: 0.2490 - val_loss: 1.6172 - val_acc: 0.2524\n"
       ]
      },
      {
       "output_type": "stream",
       "stream": "stdout",
       "text": [
        "Epoch 11/190\n",
        "0s - loss: 1.6167 - acc: 0.2490 - val_loss: 1.6085 - val_acc: 0.2524\n"
       ]
      },
      {
       "output_type": "stream",
       "stream": "stdout",
       "text": [
        "Epoch 12/190\n",
        "0s - loss: 1.6080 - acc: 0.2490 - val_loss: 1.6000 - val_acc: 0.2524\n"
       ]
      },
      {
       "output_type": "stream",
       "stream": "stdout",
       "text": [
        "Epoch 13/190\n",
        "0s - loss: 1.5995 - acc: 0.2490 - val_loss: 1.5917 - val_acc: 0.2524\n"
       ]
      },
      {
       "output_type": "stream",
       "stream": "stdout",
       "text": [
        "Epoch 14/190\n",
        "0s - loss: 1.5911 - acc: 0.2490 - val_loss: 1.5835 - val_acc: 0.2524\n"
       ]
      },
      {
       "output_type": "stream",
       "stream": "stdout",
       "text": [
        "Epoch 15/190\n",
        "0s - loss: 1.5830 - acc: 0.2490 - val_loss: 1.5756 - val_acc: 0.2524\n"
       ]
      },
      {
       "output_type": "stream",
       "stream": "stdout",
       "text": [
        "Epoch 16/190\n",
        "0s - loss: 1.5751 - acc: 0.2490 - val_loss: 1.5678 - val_acc: 0.2524\n"
       ]
      },
      {
       "output_type": "stream",
       "stream": "stdout",
       "text": [
        "Epoch 17/190\n",
        "0s - loss: 1.5673 - acc: 0.2490 - val_loss: 1.5603 - val_acc: 0.2524\n"
       ]
      },
      {
       "output_type": "stream",
       "stream": "stdout",
       "text": [
        "Epoch 18/190\n",
        "0s - loss: 1.5598 - acc: 0.2490 - val_loss: 1.5529 - val_acc: 0.2524\n"
       ]
      },
      {
       "output_type": "stream",
       "stream": "stdout",
       "text": [
        "Epoch 19/190\n",
        "0s - loss: 1.5524 - acc: 0.2490 - val_loss: 1.5457 - val_acc: 0.2524\n"
       ]
      },
      {
       "output_type": "stream",
       "stream": "stdout",
       "text": [
        "Epoch 20/190\n",
        "0s - loss: 1.5453 - acc: 0.2490 - val_loss: 1.5387 - val_acc: 0.2524\n"
       ]
      },
      {
       "output_type": "stream",
       "stream": "stdout",
       "text": [
        "Epoch 21/190\n",
        "0s - loss: 1.5383 - acc: 0.2490 - val_loss: 1.5320 - val_acc: 0.2524\n"
       ]
      },
      {
       "output_type": "stream",
       "stream": "stdout",
       "text": [
        "Epoch 22/190\n",
        "0s - loss: 1.5315 - acc: 0.2490 - val_loss: 1.5254 - val_acc: 0.2524\n"
       ]
      },
      {
       "output_type": "stream",
       "stream": "stdout",
       "text": [
        "Epoch 23/190\n",
        "0s - loss: 1.5250 - acc: 0.2490 - val_loss: 1.5190 - val_acc: 0.2524\n"
       ]
      },
      {
       "output_type": "stream",
       "stream": "stdout",
       "text": [
        "Epoch 24/190\n",
        "0s - loss: 1.5186 - acc: 0.2490 - val_loss: 1.5128 - val_acc: 0.2524\n"
       ]
      },
      {
       "output_type": "stream",
       "stream": "stdout",
       "text": [
        "Epoch 25/190\n",
        "0s - loss: 1.5125 - acc: 0.2490 - val_loss: 1.5068 - val_acc: 0.2524\n"
       ]
      },
      {
       "output_type": "stream",
       "stream": "stdout",
       "text": [
        "Epoch 26/190\n",
        "0s - loss: 1.5065 - acc: 0.2490 - val_loss: 1.5010 - val_acc: 0.2524\n"
       ]
      },
      {
       "output_type": "stream",
       "stream": "stdout",
       "text": [
        "Epoch 27/190\n",
        "0s - loss: 1.5007 - acc: 0.2490 - val_loss: 1.4955 - val_acc: 0.2524\n"
       ]
      },
      {
       "output_type": "stream",
       "stream": "stdout",
       "text": [
        "Epoch 28/190\n",
        "0s - loss: 1.4952 - acc: 0.2490 - val_loss: 1.4901 - val_acc: 0.2524\n"
       ]
      },
      {
       "output_type": "stream",
       "stream": "stdout",
       "text": [
        "Epoch 29/190\n",
        "0s - loss: 1.4898 - acc: 0.2490 - val_loss: 1.4849 - val_acc: 0.2524\n"
       ]
      },
      {
       "output_type": "stream",
       "stream": "stdout",
       "text": [
        "Epoch 30/190\n",
        "0s - loss: 1.4846 - acc: 0.2490 - val_loss: 1.4798 - val_acc: 0.2524\n"
       ]
      },
      {
       "output_type": "stream",
       "stream": "stdout",
       "text": [
        "Epoch 31/190\n",
        "0s - loss: 1.4796 - acc: 0.2490 - val_loss: 1.4750 - val_acc: 0.2524\n"
       ]
      },
      {
       "output_type": "stream",
       "stream": "stdout",
       "text": [
        "Epoch 32/190\n",
        "0s - loss: 1.4748 - acc: 0.2490 - val_loss: 1.4704 - val_acc: 0.2524\n"
       ]
      },
      {
       "output_type": "stream",
       "stream": "stdout",
       "text": [
        "Epoch 33/190\n",
        "0s - loss: 1.4702 - acc: 0.2490 - val_loss: 1.4659 - val_acc: 0.2524\n"
       ]
      },
      {
       "output_type": "stream",
       "stream": "stdout",
       "text": [
        "Epoch 34/190\n",
        "0s - loss: 1.4658 - acc: 0.2490 - val_loss: 1.4616 - val_acc: 0.2524\n"
       ]
      },
      {
       "output_type": "stream",
       "stream": "stdout",
       "text": [
        "Epoch 35/190\n",
        "0s - loss: 1.4615 - acc: 0.2490 - val_loss: 1.4575 - val_acc: 0.2524\n"
       ]
      },
      {
       "output_type": "stream",
       "stream": "stdout",
       "text": [
        "Epoch 36/190\n",
        "0s - loss: 1.4575 - acc: 0.2490 - val_loss: 1.4536 - val_acc: 0.2524\n"
       ]
      },
      {
       "output_type": "stream",
       "stream": "stdout",
       "text": [
        "Epoch 37/190\n",
        "0s - loss: 1.4536 - acc: 0.2490 - val_loss: 1.4499 - val_acc: 0.2524\n"
       ]
      },
      {
       "output_type": "stream",
       "stream": "stdout",
       "text": [
        "Epoch 38/190\n",
        "0s - loss: 1.4499 - acc: 0.2490 - val_loss: 1.4463 - val_acc: 0.2524\n"
       ]
      },
      {
       "output_type": "stream",
       "stream": "stdout",
       "text": [
        "Epoch 39/190\n",
        "0s - loss: 1.4463 - acc: 0.2490 - val_loss: 1.4429 - val_acc: 0.2524\n"
       ]
      },
      {
       "output_type": "stream",
       "stream": "stdout",
       "text": [
        "Epoch 40/190\n",
        "0s - loss: 1.4429 - acc: 0.2407 - val_loss: 1.4396 - val_acc: 0.2524\n"
       ]
      },
      {
       "output_type": "stream",
       "stream": "stdout",
       "text": [
        "Epoch 41/190\n",
        "0s - loss: 1.4396 - acc: 0.2490 - val_loss: 1.4365 - val_acc: 0.2444\n"
       ]
      },
      {
       "output_type": "stream",
       "stream": "stdout",
       "text": [
        "Epoch 42/190\n",
        "0s - loss: 1.4366 - acc: 0.2494 - val_loss: 1.4335 - val_acc: 0.2444\n"
       ]
      },
      {
       "output_type": "stream",
       "stream": "stdout",
       "text": [
        "Epoch 43/190\n",
        "0s - loss: 1.4336 - acc: 0.2384 - val_loss: 1.4307 - val_acc: 0.2444\n"
       ]
      },
      {
       "output_type": "stream",
       "stream": "stdout",
       "text": [
        "Epoch 44/190\n",
        "0s - loss: 1.4308 - acc: 0.2503 - val_loss: 1.4280 - val_acc: 0.2444\n"
       ]
      },
      {
       "output_type": "stream",
       "stream": "stdout",
       "text": [
        "Epoch 45/190\n",
        "0s - loss: 1.4282 - acc: 0.2503 - val_loss: 1.4255 - val_acc: 0.2444\n"
       ]
      },
      {
       "output_type": "stream",
       "stream": "stdout",
       "text": [
        "Epoch 46/190\n",
        "0s - loss: 1.4256 - acc: 0.2503 - val_loss: 1.4231 - val_acc: 0.2444\n"
       ]
      },
      {
       "output_type": "stream",
       "stream": "stdout",
       "text": [
        "Epoch 47/190\n",
        "0s - loss: 1.4232 - acc: 0.2503 - val_loss: 1.4208 - val_acc: 0.2444\n"
       ]
      },
      {
       "output_type": "stream",
       "stream": "stdout",
       "text": [
        "Epoch 48/190\n",
        "0s - loss: 1.4210 - acc: 0.2503 - val_loss: 1.4186 - val_acc: 0.2444\n"
       ]
      },
      {
       "output_type": "stream",
       "stream": "stdout",
       "text": [
        "Epoch 49/190\n",
        "0s - loss: 1.4188 - acc: 0.2503 - val_loss: 1.4166 - val_acc: 0.2444\n"
       ]
      },
      {
       "output_type": "stream",
       "stream": "stdout",
       "text": [
        "Epoch 50/190\n",
        "0s - loss: 1.4168 - acc: 0.2503 - val_loss: 1.4146 - val_acc: 0.2444\n"
       ]
      },
      {
       "output_type": "stream",
       "stream": "stdout",
       "text": [
        "Epoch 51/190\n",
        "0s - loss: 1.4149 - acc: 0.2503 - val_loss: 1.4128 - val_acc: 0.2444\n"
       ]
      },
      {
       "output_type": "stream",
       "stream": "stdout",
       "text": [
        "Epoch 52/190\n",
        "0s - loss: 1.4130 - acc: 0.2503 - val_loss: 1.4111 - val_acc: 0.2444\n"
       ]
      },
      {
       "output_type": "stream",
       "stream": "stdout",
       "text": [
        "Epoch 53/190\n",
        "0s - loss: 1.4113 - acc: 0.2503 - val_loss: 1.4095 - val_acc: 0.2444\n"
       ]
      },
      {
       "output_type": "stream",
       "stream": "stdout",
       "text": [
        "Epoch 54/190\n",
        "0s - loss: 1.4097 - acc: 0.2503 - val_loss: 1.4079 - val_acc: 0.2444\n"
       ]
      },
      {
       "output_type": "stream",
       "stream": "stdout",
       "text": [
        "Epoch 55/190\n",
        "0s - loss: 1.4082 - acc: 0.2503 - val_loss: 1.4065 - val_acc: 0.2444\n"
       ]
      },
      {
       "output_type": "stream",
       "stream": "stdout",
       "text": [
        "Epoch 56/190\n",
        "0s - loss: 1.4068 - acc: 0.2503 - val_loss: 1.4051 - val_acc: 0.2444\n"
       ]
      },
      {
       "output_type": "stream",
       "stream": "stdout",
       "text": [
        "Epoch 57/190\n",
        "0s - loss: 1.4054 - acc: 0.2503 - val_loss: 1.4039 - val_acc: 0.2444\n"
       ]
      },
      {
       "output_type": "stream",
       "stream": "stdout",
       "text": [
        "Epoch 58/190\n",
        "0s - loss: 1.4041 - acc: 0.2503 - val_loss: 1.4027 - val_acc: 0.2444\n"
       ]
      },
      {
       "output_type": "stream",
       "stream": "stdout",
       "text": [
        "Epoch 59/190\n",
        "0s - loss: 1.4029 - acc: 0.2503 - val_loss: 1.4015 - val_acc: 0.2444\n"
       ]
      },
      {
       "output_type": "stream",
       "stream": "stdout",
       "text": [
        "Epoch 60/190\n",
        "0s - loss: 1.4018 - acc: 0.2503 - val_loss: 1.4005 - val_acc: 0.2444\n"
       ]
      },
      {
       "output_type": "stream",
       "stream": "stdout",
       "text": [
        "Epoch 61/190\n",
        "0s - loss: 1.4008 - acc: 0.2503 - val_loss: 1.3995 - val_acc: 0.2444\n"
       ]
      },
      {
       "output_type": "stream",
       "stream": "stdout",
       "text": [
        "Epoch 62/190\n",
        "0s - loss: 1.3998 - acc: 0.2503 - val_loss: 1.3986 - val_acc: 0.2444\n"
       ]
      },
      {
       "output_type": "stream",
       "stream": "stdout",
       "text": [
        "Epoch 63/190\n",
        "0s - loss: 1.3989 - acc: 0.2503 - val_loss: 1.3977 - val_acc: 0.2444\n"
       ]
      },
      {
       "output_type": "stream",
       "stream": "stdout",
       "text": [
        "Epoch 64/190\n",
        "0s - loss: 1.3980 - acc: 0.2503 - val_loss: 1.3969 - val_acc: 0.2444\n"
       ]
      },
      {
       "output_type": "stream",
       "stream": "stdout",
       "text": [
        "Epoch 65/190\n",
        "0s - loss: 1.3972 - acc: 0.2503 - val_loss: 1.3961 - val_acc: 0.2444\n"
       ]
      },
      {
       "output_type": "stream",
       "stream": "stdout",
       "text": [
        "Epoch 66/190\n",
        "0s - loss: 1.3964 - acc: 0.2503 - val_loss: 1.3954 - val_acc: 0.2444\n"
       ]
      },
      {
       "output_type": "stream",
       "stream": "stdout",
       "text": [
        "Epoch 67/190\n",
        "0s - loss: 1.3957 - acc: 0.2503 - val_loss: 1.3948 - val_acc: 0.2444\n"
       ]
      },
      {
       "output_type": "stream",
       "stream": "stdout",
       "text": [
        "Epoch 68/190\n",
        "0s - loss: 1.3951 - acc: 0.2503 - val_loss: 1.3942 - val_acc: 0.2444\n"
       ]
      },
      {
       "output_type": "stream",
       "stream": "stdout",
       "text": [
        "Epoch 69/190\n",
        "0s - loss: 1.3944 - acc: 0.2503 - val_loss: 1.3936 - val_acc: 0.2444\n"
       ]
      },
      {
       "output_type": "stream",
       "stream": "stdout",
       "text": [
        "Epoch 70/190\n",
        "0s - loss: 1.3939 - acc: 0.2503 - val_loss: 1.3931 - val_acc: 0.2444\n"
       ]
      },
      {
       "output_type": "stream",
       "stream": "stdout",
       "text": [
        "Epoch 71/190\n",
        "0s - loss: 1.3933 - acc: 0.2503 - val_loss: 1.3926 - val_acc: 0.2444\n"
       ]
      },
      {
       "output_type": "stream",
       "stream": "stdout",
       "text": [
        "Epoch 72/190\n",
        "0s - loss: 1.3928 - acc: 0.2503 - val_loss: 1.3921 - val_acc: 0.2444\n"
       ]
      },
      {
       "output_type": "stream",
       "stream": "stdout",
       "text": [
        "Epoch 73/190\n",
        "0s - loss: 1.3924 - acc: 0.2503 - val_loss: 1.3917 - val_acc: 0.2444\n"
       ]
      },
      {
       "output_type": "stream",
       "stream": "stdout",
       "text": [
        "Epoch 74/190\n",
        "0s - loss: 1.3919 - acc: 0.2503 - val_loss: 1.3913 - val_acc: 0.2444\n"
       ]
      },
      {
       "output_type": "stream",
       "stream": "stdout",
       "text": [
        "Epoch 75/190\n",
        "0s - loss: 1.3915 - acc: 0.2503 - val_loss: 1.3909 - val_acc: 0.2444\n"
       ]
      },
      {
       "output_type": "stream",
       "stream": "stdout",
       "text": [
        "Epoch 76/190\n",
        "0s - loss: 1.3911 - acc: 0.2503 - val_loss: 1.3905 - val_acc: 0.2444\n"
       ]
      },
      {
       "output_type": "stream",
       "stream": "stdout",
       "text": [
        "Epoch 77/190\n",
        "0s - loss: 1.3908 - acc: 0.2503 - val_loss: 1.3902 - val_acc: 0.2444\n"
       ]
      },
      {
       "output_type": "stream",
       "stream": "stdout",
       "text": [
        "Epoch 78/190\n",
        "0s - loss: 1.3905 - acc: 0.2503 - val_loss: 1.3899 - val_acc: 0.2444\n"
       ]
      },
      {
       "output_type": "stream",
       "stream": "stdout",
       "text": [
        "Epoch 79/190\n",
        "0s - loss: 1.3902 - acc: 0.2503 - val_loss: 1.3896 - val_acc: 0.2444\n"
       ]
      },
      {
       "output_type": "stream",
       "stream": "stdout",
       "text": [
        "Epoch 80/190\n",
        "0s - loss: 1.3899 - acc: 0.2503 - val_loss: 1.3894 - val_acc: 0.2444\n"
       ]
      },
      {
       "output_type": "stream",
       "stream": "stdout",
       "text": [
        "Epoch 81/190\n",
        "0s - loss: 1.3896 - acc: 0.2503 - val_loss: 1.3891 - val_acc: 0.2444\n"
       ]
      },
      {
       "output_type": "stream",
       "stream": "stdout",
       "text": [
        "Epoch 82/190\n",
        "0s - loss: 1.3894 - acc: 0.2503 - val_loss: 1.3889 - val_acc: 0.2444\n"
       ]
      },
      {
       "output_type": "stream",
       "stream": "stdout",
       "text": [
        "Epoch 83/190\n",
        "0s - loss: 1.3891 - acc: 0.2503 - val_loss: 1.3887 - val_acc: 0.2444\n"
       ]
      },
      {
       "output_type": "stream",
       "stream": "stdout",
       "text": [
        "Epoch 84/190\n",
        "0s - loss: 1.3889 - acc: 0.2503 - val_loss: 1.3885 - val_acc: 0.2444\n"
       ]
      },
      {
       "output_type": "stream",
       "stream": "stdout",
       "text": [
        "Epoch 85/190\n",
        "0s - loss: 1.3887 - acc: 0.2503 - val_loss: 1.3883 - val_acc: 0.2444\n"
       ]
      },
      {
       "output_type": "stream",
       "stream": "stdout",
       "text": [
        "Epoch 86/190\n",
        "0s - loss: 1.3885 - acc: 0.2503 - val_loss: 1.3882 - val_acc: 0.2444\n"
       ]
      },
      {
       "output_type": "stream",
       "stream": "stdout",
       "text": [
        "Epoch 87/190\n",
        "0s - loss: 1.3884 - acc: 0.2503 - val_loss: 1.3880 - val_acc: 0.2444\n"
       ]
      },
      {
       "output_type": "stream",
       "stream": "stdout",
       "text": [
        "Epoch 88/190\n",
        "0s - loss: 1.3882 - acc: 0.2503 - val_loss: 1.3879 - val_acc: 0.2444\n"
       ]
      },
      {
       "output_type": "stream",
       "stream": "stdout",
       "text": [
        "Epoch 89/190\n",
        "0s - loss: 1.3881 - acc: 0.2503 - val_loss: 1.3878 - val_acc: 0.2444\n"
       ]
      },
      {
       "output_type": "stream",
       "stream": "stdout",
       "text": [
        "Epoch 90/190\n",
        "0s - loss: 1.3879 - acc: 0.2503 - val_loss: 1.3876 - val_acc: 0.2444\n"
       ]
      },
      {
       "output_type": "stream",
       "stream": "stdout",
       "text": [
        "Epoch 91/190\n",
        "0s - loss: 1.3878 - acc: 0.2503 - val_loss: 1.3875 - val_acc: 0.2444\n"
       ]
      },
      {
       "output_type": "stream",
       "stream": "stdout",
       "text": [
        "Epoch 92/190\n",
        "0s - loss: 1.3877 - acc: 0.2503 - val_loss: 1.3874 - val_acc: 0.2444\n"
       ]
      },
      {
       "output_type": "stream",
       "stream": "stdout",
       "text": [
        "Epoch 93/190\n",
        "0s - loss: 1.3876 - acc: 0.2503 - val_loss: 1.3873 - val_acc: 0.2444\n"
       ]
      },
      {
       "output_type": "stream",
       "stream": "stdout",
       "text": [
        "Epoch 94/190\n",
        "0s - loss: 1.3875 - acc: 0.2503 - val_loss: 1.3873 - val_acc: 0.2444\n"
       ]
      },
      {
       "output_type": "stream",
       "stream": "stdout",
       "text": [
        "Epoch 95/190\n",
        "0s - loss: 1.3874 - acc: 0.2503 - val_loss: 1.3872 - val_acc: 0.2444\n"
       ]
      },
      {
       "output_type": "stream",
       "stream": "stdout",
       "text": [
        "Epoch 96/190\n",
        "0s - loss: 1.3873 - acc: 0.2503 - val_loss: 1.3871 - val_acc: 0.2444\n"
       ]
      },
      {
       "output_type": "stream",
       "stream": "stdout",
       "text": [
        "Epoch 97/190\n",
        "0s - loss: 1.3872 - acc: 0.2503 - val_loss: 1.3870 - val_acc: 0.2444\n"
       ]
      },
      {
       "output_type": "stream",
       "stream": "stdout",
       "text": [
        "Epoch 98/190\n",
        "0s - loss: 1.3872 - acc: 0.2503 - val_loss: 1.3870 - val_acc: 0.2444\n"
       ]
      },
      {
       "output_type": "stream",
       "stream": "stdout",
       "text": [
        "Epoch 99/190\n",
        "0s - loss: 1.3871 - acc: 0.2503 - val_loss: 1.3869 - val_acc: 0.2444\n"
       ]
      },
      {
       "output_type": "stream",
       "stream": "stdout",
       "text": [
        "Epoch 100/190\n",
        "0s - loss: 1.3870 - acc: 0.2503 - val_loss: 1.3869 - val_acc: 0.2444\n"
       ]
      },
      {
       "output_type": "stream",
       "stream": "stdout",
       "text": [
        "Epoch 101/190\n",
        "0s - loss: 1.3870 - acc: 0.2503 - val_loss: 1.3868 - val_acc: 0.2444\n"
       ]
      },
      {
       "output_type": "stream",
       "stream": "stdout",
       "text": [
        "Epoch 102/190\n",
        "0s - loss: 1.3869 - acc: 0.2503 - val_loss: 1.3868 - val_acc: 0.2444\n"
       ]
      },
      {
       "output_type": "stream",
       "stream": "stdout",
       "text": [
        "Epoch 103/190\n",
        "0s - loss: 1.3869 - acc: 0.2503 - val_loss: 1.3867 - val_acc: 0.2444\n"
       ]
      },
      {
       "output_type": "stream",
       "stream": "stdout",
       "text": [
        "Epoch 104/190\n",
        "0s - loss: 1.3868 - acc: 0.2503 - val_loss: 1.3867 - val_acc: 0.2444\n"
       ]
      },
      {
       "output_type": "stream",
       "stream": "stdout",
       "text": [
        "Epoch 105/190\n",
        "0s - loss: 1.3868 - acc: 0.2503 - val_loss: 1.3867 - val_acc: 0.2444\n"
       ]
      },
      {
       "output_type": "stream",
       "stream": "stdout",
       "text": [
        "Epoch 106/190\n",
        "0s - loss: 1.3868 - acc: 0.2503 - val_loss: 1.3866 - val_acc: 0.2444\n"
       ]
      },
      {
       "output_type": "stream",
       "stream": "stdout",
       "text": [
        "Epoch 107/190\n",
        "0s - loss: 1.3867 - acc: 0.2503 - val_loss: 1.3866 - val_acc: 0.2444\n"
       ]
      },
      {
       "output_type": "stream",
       "stream": "stdout",
       "text": [
        "Epoch 108/190\n",
        "0s - loss: 1.3867 - acc: 0.2503 - val_loss: 1.3866 - val_acc: 0.2444\n"
       ]
      },
      {
       "output_type": "stream",
       "stream": "stdout",
       "text": [
        "Epoch 109/190\n",
        "0s - loss: 1.3867 - acc: 0.2503 - val_loss: 1.3865 - val_acc: 0.2444\n"
       ]
      },
      {
       "output_type": "stream",
       "stream": "stdout",
       "text": [
        "Epoch 110/190\n",
        "0s - loss: 1.3866 - acc: 0.2503 - val_loss: 1.3865 - val_acc: 0.2444\n"
       ]
      },
      {
       "output_type": "stream",
       "stream": "stdout",
       "text": [
        "Epoch 111/190\n",
        "0s - loss: 1.3866 - acc: 0.2503 - val_loss: 1.3865 - val_acc: 0.2444\n"
       ]
      },
      {
       "output_type": "stream",
       "stream": "stdout",
       "text": [
        "Epoch 112/190\n",
        "0s - loss: 1.3866 - acc: 0.2503 - val_loss: 1.3865 - val_acc: 0.2444\n"
       ]
      },
      {
       "output_type": "stream",
       "stream": "stdout",
       "text": [
        "Epoch 113/190\n",
        "0s - loss: 1.3866 - acc: 0.2503 - val_loss: 1.3865 - val_acc: 0.2444\n"
       ]
      },
      {
       "output_type": "stream",
       "stream": "stdout",
       "text": [
        "Epoch 114/190\n",
        "0s - loss: 1.3865 - acc: 0.2503 - val_loss: 1.3864 - val_acc: 0.2444\n"
       ]
      },
      {
       "output_type": "stream",
       "stream": "stdout",
       "text": [
        "Epoch 115/190\n",
        "0s - loss: 1.3865 - acc: 0.2503 - val_loss: 1.3864 - val_acc: 0.2444\n"
       ]
      },
      {
       "output_type": "stream",
       "stream": "stdout",
       "text": [
        "Epoch 116/190\n",
        "0s - loss: 1.3865 - acc: 0.2503 - val_loss: 1.3864 - val_acc: 0.2444\n"
       ]
      },
      {
       "output_type": "stream",
       "stream": "stdout",
       "text": [
        "Epoch 117/190\n",
        "0s - loss: 1.3865 - acc: 0.2503 - val_loss: 1.3864 - val_acc: 0.2444\n"
       ]
      },
      {
       "output_type": "stream",
       "stream": "stdout",
       "text": [
        "Epoch 118/190\n",
        "0s - loss: 1.3865 - acc: 0.2503 - val_loss: 1.3864 - val_acc: 0.2444\n"
       ]
      },
      {
       "output_type": "stream",
       "stream": "stdout",
       "text": [
        "Epoch 119/190\n",
        "0s - loss: 1.3865 - acc: 0.2503 - val_loss: 1.3864 - val_acc: 0.2444\n"
       ]
      },
      {
       "output_type": "stream",
       "stream": "stdout",
       "text": [
        "Epoch 120/190\n",
        "0s - loss: 1.3864 - acc: 0.2503 - val_loss: 1.3864 - val_acc: 0.2444\n"
       ]
      },
      {
       "output_type": "stream",
       "stream": "stdout",
       "text": [
        "Epoch 121/190\n",
        "0s - loss: 1.3864 - acc: 0.2503 - val_loss: 1.3864 - val_acc: 0.2444\n"
       ]
      },
      {
       "output_type": "stream",
       "stream": "stdout",
       "text": [
        "Epoch 122/190\n",
        "0s - loss: 1.3864 - acc: 0.2503 - val_loss: 1.3864 - val_acc: 0.2444\n"
       ]
      },
      {
       "output_type": "stream",
       "stream": "stdout",
       "text": [
        "Epoch 123/190\n",
        "0s - loss: 1.3864 - acc: 0.2503 - val_loss: 1.3864 - val_acc: 0.2444\n"
       ]
      },
      {
       "output_type": "stream",
       "stream": "stdout",
       "text": [
        "Epoch 124/190\n",
        "0s - loss: 1.3864 - acc: 0.2503 - val_loss: 1.3863 - val_acc: 0.2444\n"
       ]
      },
      {
       "output_type": "stream",
       "stream": "stdout",
       "text": [
        "Epoch 125/190\n",
        "0s - loss: 1.3864 - acc: 0.2503 - val_loss: 1.3863 - val_acc: 0.2444\n"
       ]
      },
      {
       "output_type": "stream",
       "stream": "stdout",
       "text": [
        "Epoch 126/190\n",
        "0s - loss: 1.3864 - acc: 0.2503 - val_loss: 1.3863 - val_acc: 0.2444\n"
       ]
      },
      {
       "output_type": "stream",
       "stream": "stdout",
       "text": [
        "Epoch 127/190\n",
        "0s - loss: 1.3864 - acc: 0.2503 - val_loss: 1.3863 - val_acc: 0.2444\n"
       ]
      },
      {
       "output_type": "stream",
       "stream": "stdout",
       "text": [
        "Epoch 128/190\n",
        "0s - loss: 1.3864 - acc: 0.2503 - val_loss: 1.3863 - val_acc: 0.2444\n"
       ]
      },
      {
       "output_type": "stream",
       "stream": "stdout",
       "text": [
        "Epoch 129/190\n",
        "0s - loss: 1.3864 - acc: 0.2503 - val_loss: 1.3863 - val_acc: 0.2444\n"
       ]
      },
      {
       "output_type": "stream",
       "stream": "stdout",
       "text": [
        "Epoch 130/190\n",
        "0s - loss: 1.3864 - acc: 0.2503 - val_loss: 1.3863 - val_acc: 0.2444\n"
       ]
      },
      {
       "output_type": "stream",
       "stream": "stdout",
       "text": [
        "Epoch 131/190\n",
        "0s - loss: 1.3864 - acc: 0.2503 - val_loss: 1.3863 - val_acc: 0.2444\n"
       ]
      },
      {
       "output_type": "stream",
       "stream": "stdout",
       "text": [
        "Epoch 132/190\n",
        "0s - loss: 1.3863 - acc: 0.2503 - val_loss: 1.3863 - val_acc: 0.2444\n"
       ]
      },
      {
       "output_type": "stream",
       "stream": "stdout",
       "text": [
        "Epoch 133/190\n",
        "0s - loss: 1.3863 - acc: 0.2503 - val_loss: 1.3863 - val_acc: 0.2444\n"
       ]
      },
      {
       "output_type": "stream",
       "stream": "stdout",
       "text": [
        "Epoch 134/190\n",
        "0s - loss: 1.3863 - acc: 0.2503 - val_loss: 1.3863 - val_acc: 0.2444\n"
       ]
      },
      {
       "output_type": "stream",
       "stream": "stdout",
       "text": [
        "Epoch 135/190\n",
        "0s - loss: 1.3863 - acc: 0.2503 - val_loss: 1.3863 - val_acc: 0.2444\n"
       ]
      },
      {
       "output_type": "stream",
       "stream": "stdout",
       "text": [
        "Epoch 136/190\n",
        "0s - loss: 1.3863 - acc: 0.2503 - val_loss: 1.3863 - val_acc: 0.2444\n"
       ]
      },
      {
       "output_type": "stream",
       "stream": "stdout",
       "text": [
        "Epoch 137/190\n",
        "0s - loss: 1.3863 - acc: 0.2503 - val_loss: 1.3863 - val_acc: 0.2444\n"
       ]
      },
      {
       "output_type": "stream",
       "stream": "stdout",
       "text": [
        "Epoch 138/190\n",
        "0s - loss: 1.3863 - acc: 0.2503 - val_loss: 1.3863 - val_acc: 0.2444\n"
       ]
      },
      {
       "output_type": "stream",
       "stream": "stdout",
       "text": [
        "Epoch 139/190\n",
        "0s - loss: 1.3863 - acc: 0.2503 - val_loss: 1.3863 - val_acc: 0.2444\n"
       ]
      },
      {
       "output_type": "stream",
       "stream": "stdout",
       "text": [
        "Epoch 140/190\n",
        "0s - loss: 1.3863 - acc: 0.2503 - val_loss: 1.3863 - val_acc: 0.2444\n"
       ]
      },
      {
       "output_type": "stream",
       "stream": "stdout",
       "text": [
        "Epoch 141/190\n",
        "0s - loss: 1.3863 - acc: 0.2503 - val_loss: 1.3863 - val_acc: 0.2444\n"
       ]
      },
      {
       "output_type": "stream",
       "stream": "stdout",
       "text": [
        "Epoch 142/190\n",
        "0s - loss: 1.3863 - acc: 0.2503 - val_loss: 1.3863 - val_acc: 0.2444\n"
       ]
      },
      {
       "output_type": "stream",
       "stream": "stdout",
       "text": [
        "Epoch 143/190\n",
        "0s - loss: 1.3863 - acc: 0.2503 - val_loss: 1.3863 - val_acc: 0.2444\n"
       ]
      },
      {
       "output_type": "stream",
       "stream": "stdout",
       "text": [
        "Epoch 144/190\n",
        "0s - loss: 1.3863 - acc: 0.2503 - val_loss: 1.3863 - val_acc: 0.2444\n"
       ]
      },
      {
       "output_type": "stream",
       "stream": "stdout",
       "text": [
        "Epoch 145/190\n",
        "0s - loss: 1.3863 - acc: 0.2503 - val_loss: 1.3863 - val_acc: 0.2444\n"
       ]
      },
      {
       "output_type": "stream",
       "stream": "stdout",
       "text": [
        "Epoch 146/190\n",
        "0s - loss: 1.3863 - acc: 0.2503 - val_loss: 1.3863 - val_acc: 0.2444\n"
       ]
      },
      {
       "output_type": "stream",
       "stream": "stdout",
       "text": [
        "Epoch 147/190\n",
        "0s - loss: 1.3863 - acc: 0.2503 - val_loss: 1.3863 - val_acc: 0.2444\n"
       ]
      },
      {
       "output_type": "stream",
       "stream": "stdout",
       "text": [
        "Epoch 148/190\n",
        "0s - loss: 1.3863 - acc: 0.2503 - val_loss: 1.3863 - val_acc: 0.2444\n"
       ]
      },
      {
       "output_type": "stream",
       "stream": "stdout",
       "text": [
        "Epoch 149/190\n",
        "0s - loss: 1.3863 - acc: 0.2503 - val_loss: 1.3863 - val_acc: 0.2444\n"
       ]
      },
      {
       "output_type": "stream",
       "stream": "stdout",
       "text": [
        "Epoch 150/190\n",
        "0s - loss: 1.3863 - acc: 0.2503 - val_loss: 1.3863 - val_acc: 0.2444\n"
       ]
      },
      {
       "output_type": "stream",
       "stream": "stdout",
       "text": [
        "Epoch 151/190\n",
        "0s - loss: 1.3863 - acc: 0.2503 - val_loss: 1.3863 - val_acc: 0.2444\n"
       ]
      },
      {
       "output_type": "stream",
       "stream": "stdout",
       "text": [
        "Epoch 152/190\n",
        "0s - loss: 1.3863 - acc: 0.2503 - val_loss: 1.3863 - val_acc: 0.2444\n"
       ]
      },
      {
       "output_type": "stream",
       "stream": "stdout",
       "text": [
        "Epoch 153/190\n",
        "0s - loss: 1.3863 - acc: 0.2503 - val_loss: 1.3863 - val_acc: 0.2444\n"
       ]
      },
      {
       "output_type": "stream",
       "stream": "stdout",
       "text": [
        "Epoch 154/190\n",
        "0s - loss: 1.3863 - acc: 0.2503 - val_loss: 1.3863 - val_acc: 0.2444\n"
       ]
      },
      {
       "output_type": "stream",
       "stream": "stdout",
       "text": [
        "Epoch 155/190\n",
        "0s - loss: 1.3863 - acc: 0.2503 - val_loss: 1.3863 - val_acc: 0.2444\n"
       ]
      },
      {
       "output_type": "stream",
       "stream": "stdout",
       "text": [
        "Epoch 156/190\n",
        "0s - loss: 1.3863 - acc: 0.2503 - val_loss: 1.3863 - val_acc: 0.2444\n"
       ]
      },
      {
       "output_type": "stream",
       "stream": "stdout",
       "text": [
        "Epoch 157/190\n",
        "0s - loss: 1.3863 - acc: 0.2503 - val_loss: 1.3863 - val_acc: 0.2444\n"
       ]
      },
      {
       "output_type": "stream",
       "stream": "stdout",
       "text": [
        "Epoch 158/190\n",
        "0s - loss: 1.3863 - acc: 0.2503 - val_loss: 1.3863 - val_acc: 0.2444\n"
       ]
      },
      {
       "output_type": "stream",
       "stream": "stdout",
       "text": [
        "Epoch 159/190\n",
        "0s - loss: 1.3863 - acc: 0.2503 - val_loss: 1.3863 - val_acc: 0.2444\n"
       ]
      },
      {
       "output_type": "stream",
       "stream": "stdout",
       "text": [
        "Epoch 160/190\n",
        "0s - loss: 1.3863 - acc: 0.2503 - val_loss: 1.3863 - val_acc: 0.2444\n"
       ]
      },
      {
       "output_type": "stream",
       "stream": "stdout",
       "text": [
        "Epoch 161/190\n",
        "0s - loss: 1.3863 - acc: 0.2503 - val_loss: 1.3863 - val_acc: 0.2444\n"
       ]
      },
      {
       "output_type": "stream",
       "stream": "stdout",
       "text": [
        "Epoch 162/190\n",
        "0s - loss: 1.3863 - acc: 0.2503 - val_loss: 1.3863 - val_acc: 0.2444\n"
       ]
      },
      {
       "output_type": "stream",
       "stream": "stdout",
       "text": [
        "Epoch 163/190\n",
        "0s - loss: 1.3863 - acc: 0.2503 - val_loss: 1.3863 - val_acc: 0.2444\n"
       ]
      },
      {
       "output_type": "stream",
       "stream": "stdout",
       "text": [
        "Epoch 164/190\n",
        "0s - loss: 1.3863 - acc: 0.2503 - val_loss: 1.3863 - val_acc: 0.2444\n"
       ]
      },
      {
       "output_type": "stream",
       "stream": "stdout",
       "text": [
        "Epoch 165/190\n",
        "0s - loss: 1.3863 - acc: 0.2503 - val_loss: 1.3863 - val_acc: 0.2444\n"
       ]
      },
      {
       "output_type": "stream",
       "stream": "stdout",
       "text": [
        "Epoch 166/190\n",
        "0s - loss: 1.3863 - acc: 0.2503 - val_loss: 1.3863 - val_acc: 0.2444\n"
       ]
      },
      {
       "output_type": "stream",
       "stream": "stdout",
       "text": [
        "Epoch 167/190\n",
        "0s - loss: 1.3863 - acc: 0.2503 - val_loss: 1.3863 - val_acc: 0.2444\n"
       ]
      },
      {
       "output_type": "stream",
       "stream": "stdout",
       "text": [
        "Epoch 168/190\n",
        "0s - loss: 1.3863 - acc: 0.2503 - val_loss: 1.3863 - val_acc: 0.2444\n"
       ]
      },
      {
       "output_type": "stream",
       "stream": "stdout",
       "text": [
        "Epoch 169/190\n",
        "0s - loss: 1.3863 - acc: 0.2503 - val_loss: 1.3863 - val_acc: 0.2444\n"
       ]
      },
      {
       "output_type": "stream",
       "stream": "stdout",
       "text": [
        "Epoch 170/190\n",
        "0s - loss: 1.3863 - acc: 0.2503 - val_loss: 1.3863 - val_acc: 0.2444\n"
       ]
      },
      {
       "output_type": "stream",
       "stream": "stdout",
       "text": [
        "Epoch 171/190\n",
        "0s - loss: 1.3863 - acc: 0.2503 - val_loss: 1.3863 - val_acc: 0.2444\n"
       ]
      },
      {
       "output_type": "stream",
       "stream": "stdout",
       "text": [
        "Epoch 172/190\n",
        "0s - loss: 1.3863 - acc: 0.2503 - val_loss: 1.3863 - val_acc: 0.2444\n"
       ]
      },
      {
       "output_type": "stream",
       "stream": "stdout",
       "text": [
        "Epoch 173/190\n",
        "0s - loss: 1.3863 - acc: 0.2503 - val_loss: 1.3863 - val_acc: 0.2444\n"
       ]
      },
      {
       "output_type": "stream",
       "stream": "stdout",
       "text": [
        "Epoch 174/190\n",
        "0s - loss: 1.3863 - acc: 0.2503 - val_loss: 1.3863 - val_acc: 0.2444\n"
       ]
      },
      {
       "output_type": "stream",
       "stream": "stdout",
       "text": [
        "Epoch 175/190\n",
        "0s - loss: 1.3863 - acc: 0.2503 - val_loss: 1.3863 - val_acc: 0.2444\n"
       ]
      },
      {
       "output_type": "stream",
       "stream": "stdout",
       "text": [
        "Epoch 176/190\n",
        "0s - loss: 1.3863 - acc: 0.2503 - val_loss: 1.3863 - val_acc: 0.2444\n"
       ]
      },
      {
       "output_type": "stream",
       "stream": "stdout",
       "text": [
        "Epoch 177/190\n",
        "0s - loss: 1.3863 - acc: 0.2503 - val_loss: 1.3863 - val_acc: 0.2444\n"
       ]
      },
      {
       "output_type": "stream",
       "stream": "stdout",
       "text": [
        "Epoch 178/190\n",
        "0s - loss: 1.3863 - acc: 0.2503 - val_loss: 1.3863 - val_acc: 0.2444\n"
       ]
      },
      {
       "output_type": "stream",
       "stream": "stdout",
       "text": [
        "Epoch 179/190\n",
        "0s - loss: 1.3863 - acc: 0.2503 - val_loss: 1.3863 - val_acc: 0.2444\n"
       ]
      },
      {
       "output_type": "stream",
       "stream": "stdout",
       "text": [
        "Epoch 180/190\n",
        "0s - loss: 1.3863 - acc: 0.2503 - val_loss: 1.3863 - val_acc: 0.2444\n"
       ]
      },
      {
       "output_type": "stream",
       "stream": "stdout",
       "text": [
        "Epoch 181/190\n",
        "0s - loss: 1.3863 - acc: 0.2503 - val_loss: 1.3863 - val_acc: 0.2444\n"
       ]
      },
      {
       "output_type": "stream",
       "stream": "stdout",
       "text": [
        "Epoch 182/190\n",
        "0s - loss: 1.3863 - acc: 0.2503 - val_loss: 1.3863 - val_acc: 0.2444\n"
       ]
      },
      {
       "output_type": "stream",
       "stream": "stdout",
       "text": [
        "Epoch 183/190\n",
        "0s - loss: 1.3863 - acc: 0.2503 - val_loss: 1.3863 - val_acc: 0.2444\n"
       ]
      },
      {
       "output_type": "stream",
       "stream": "stdout",
       "text": [
        "Epoch 184/190\n",
        "0s - loss: 1.3863 - acc: 0.2503 - val_loss: 1.3863 - val_acc: 0.2444\n"
       ]
      },
      {
       "output_type": "stream",
       "stream": "stdout",
       "text": [
        "Epoch 185/190\n",
        "0s - loss: 1.3863 - acc: 0.2503 - val_loss: 1.3863 - val_acc: 0.2444\n"
       ]
      },
      {
       "output_type": "stream",
       "stream": "stdout",
       "text": [
        "Epoch 186/190\n",
        "0s - loss: 1.3863 - acc: 0.2503 - val_loss: 1.3863 - val_acc: 0.2444\n"
       ]
      },
      {
       "output_type": "stream",
       "stream": "stdout",
       "text": [
        "Epoch 187/190\n",
        "0s - loss: 1.3863 - acc: 0.2503 - val_loss: 1.3863 - val_acc: 0.2444\n"
       ]
      },
      {
       "output_type": "stream",
       "stream": "stdout",
       "text": [
        "Epoch 188/190\n",
        "0s - loss: 1.3863 - acc: 0.2503 - val_loss: 1.3863 - val_acc: 0.2444\n"
       ]
      },
      {
       "output_type": "stream",
       "stream": "stdout",
       "text": [
        "Epoch 189/190\n",
        "0s - loss: 1.3863 - acc: 0.2503 - val_loss: 1.3863 - val_acc: 0.2444\n"
       ]
      },
      {
       "output_type": "stream",
       "stream": "stdout",
       "text": [
        "Epoch 190/190\n",
        "0s - loss: 1.3863 - acc: 0.2824 - val_loss: 1.3863 - val_acc: 0.2444\n"
       ]
      },
      {
       "output_type": "stream",
       "stream": "stdout",
       "text": [
        "\r",
        " 5000/20000 [======>.......................] - ETA: 0s"
       ]
      },
      {
       "output_type": "stream",
       "stream": "stdout",
       "text": [
        "\b\b\b\b\b\b\b\b\b\b\b\b\b\b\b\b\b\b\b\b\b\b\b\b\b\b\b\b\b\b\b\b\b\b\b\b\b\b\b\b\b\b\b\b\b\b\b\b\b\b\b\b\b\b\r",
        "20000/20000 [==============================] - 0s     "
       ]
      },
      {
       "output_type": "stream",
       "stream": "stdout",
       "text": [
        "\n",
        "\r",
        " 5000/20000 [======>.......................] - ETA: 0s"
       ]
      },
      {
       "output_type": "stream",
       "stream": "stdout",
       "text": [
        "\b\b\b\b\b\b\b\b\b\b\b\b\b\b\b\b\b\b\b\b\b\b\b\b\b\b\b\b\b\b\b\b\b\b\b\b\b\b\b\b\b\b\b\b\b\b\b\b\b\b\b\b\b\b\r",
        "20000/20000 [==============================] - 0s     "
       ]
      },
      {
       "output_type": "stream",
       "stream": "stdout",
       "text": [
        "\n"
       ]
      }
     ],
     "prompt_number": 12
    },
    {
     "cell_type": "code",
     "collapsed": false,
     "input": [
      "plt.plot(epochs, train_on_soft_evaluate_on_hard, label='TS-EH')\n",
      "plt.plot(epochs, train_on_hard_evaluate_on_hard, label='TH-EH') #Traditional Approach\n",
      "plt.title(\"Train on soft/hard and Evaluate on Hard\")\n",
      "plt.legend()\n",
      "plt.show()"
     ],
     "language": "python",
     "metadata": {},
     "outputs": [
      {
       "metadata": {},
       "output_type": "display_data",
       "png": "[encoded data removed]",
       "text": [
        "<matplotlib.figure.Figure at 0x119ac5c50>"
       ]
      }
     ],
     "prompt_number": 19
    },
    {
     "cell_type": "markdown",
     "metadata": {},
     "source": [
      "TS-EH = Train on Soft, Evaluate on Hard\n",
      "TH-EH = Train on Hard, Evaluate on Hard\n"
     ]
    },
    {
     "cell_type": "code",
     "collapsed": false,
     "input": [
      "plt.plot(epochs, train_on_soft_evaluate_on_soft, label='TS-ES')\n",
      "plt.plot(epochs, train_on_hard_evaluate_on_soft, label='TH-ES')\n",
      "plt.title(\"Train on soft/hard and Evaluate on Soft\")\n",
      "plt.legend()\n",
      "plt.show()"
     ],
     "language": "python",
     "metadata": {},
     "outputs": [
      {
       "metadata": {},
       "output_type": "display_data",
       "png": "[encoded data removed]",
       "text": [
        "<matplotlib.figure.Figure at 0x11932b710>"
       ]
      }
     ],
     "prompt_number": 20
    },
    {
     "cell_type": "markdown",
     "metadata": {},
     "source": [
      "TS-ES = Train on Soft, Evaluate on Soft\n",
      "TH-ES = Train on Hard, Evaluate on Soft"
     ]
    },
    {
     "cell_type": "code",
     "collapsed": false,
     "input": [
      "plt.plot(epochs, train_on_soft_evaluate_on_hard, label='TS-EH')\n",
      "plt.plot(epochs, train_on_soft_evaluate_on_soft, label='TS-ES')\n",
      "plt.title(\"Train on Soft and Evaluate on soft/hard\")\n",
      "plt.legend()\n",
      "plt.show()"
     ],
     "language": "python",
     "metadata": {},
     "outputs": [
      {
       "metadata": {},
       "output_type": "display_data",
       "png": "[encoded data removed]",
       "text": [
        "<matplotlib.figure.Figure at 0x11b157610>"
       ]
      }
     ],
     "prompt_number": 23
    },
    {
     "cell_type": "code",
     "collapsed": false,
     "input": [
      "plt.plot(epochs, train_on_hard_evaluate_on_soft, label='TH-ES')\n",
      "plt.plot(epochs, train_on_hard_evaluate_on_hard, label='TH-EH') #Traditional Approach\n",
      "plt.title(\"Train on Hard and Evaluate on soft/hard\")\n",
      "plt.legend()\n",
      "plt.show()"
     ],
     "language": "python",
     "metadata": {},
     "outputs": [
      {
       "metadata": {},
       "output_type": "display_data",
       "png": "[encoded data removed]",
       "text": [
        "<matplotlib.figure.Figure at 0x1195aab90>"
       ]
      }
     ],
     "prompt_number": 25
    },
    {
     "cell_type": "code",
     "collapsed": false,
     "input": [],
     "language": "python",
     "metadata": {},
     "outputs": []
    }
   ],
   "metadata": {}
  }
 ]
}