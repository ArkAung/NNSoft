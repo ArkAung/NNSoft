{
 "metadata": {
  "name": "",
  "signature": "sha256:118572ffd9c966b6542208962b4360bb3dfe53145037ce9d7826a78845655d03"
 },
 "nbformat": 3,
 "nbformat_minor": 0,
 "worksheets": [
  {
   "cells": [
    {
     "cell_type": "markdown",
     "metadata": {},
     "source": [
      "#Cost report on training with soft labels and hard labels"
     ]
    },
    {
     "cell_type": "code",
     "collapsed": false,
     "input": [
      "%matplotlib inline\n",
      "\n",
      "from sklearn.model_selection import train_test_split\n",
      "from keras.models import Sequential\n",
      "from keras.layers import Dense, Dropout, Activation\n",
      "from keras.optimizers import SGD\n",
      "from keras.optimizers import RMSprop\n",
      "from keras.utils import np_utils\n",
      "\n",
      "import matplotlib.pyplot as plt\n",
      "import numpy as np\n",
      "import pandas as pd\n",
      "import csv\n",
      "\n",
      "df = pd.read_csv('combined_classes.csv')\n",
      "x = np.array(df[[\"p1\", \"p2\"]])\n",
      "y_soft = np.array(df[[\"soft_a\", \"soft_b\", \"soft_c\", \"soft_d\"]])\n",
      "y_hard = np.array(df[[\"hard_a\", \"hard_b\", \"hard_c\", \"hard_d\"]])\n",
      "y_all = np.append(y_soft, y_hard, axis=1)\n",
      "# y_hard = np.array(df[[\"hard_classes\"]])\n",
      "# Y_hard = np_utils.to_categorical(y_hard, 4)\n",
      "\n",
      "X_train, X_test, y_train, y_test = train_test_split(x, y_all, test_size=0.2, random_state=42)\n",
      "y_train_soft = y_train[:, 0:4]\n",
      "y_train_hard = y_train[:, 4:8]\n",
      "y_test_soft = y_test[:, 0:4]\n",
      "y_test_hard = y_test[:, 4:8]\n",
      "\n",
      "epochs = range(10, 150, 10)\n",
      "batch_size = 200\n",
      "\n",
      "soft_costs_on_hard = np.array([])\n",
      "soft_costs_on_soft = np.array([])\n",
      "hard_costs_on_hard = np.array([])\n",
      "hard_costs_on_soft = np.array([])\n",
      "\n",
      "model = Sequential()\n",
      "model.add(Dense(output_dim=10, input_dim=2, init='uniform'))\n",
      "model.add(Activation('relu'))\n",
      "model.add(Dense(output_dim=10, init='uniform'))\n",
      "model.add(Activation('relu'))\n",
      "model.add(Dense(output_dim=10, init='uniform'))\n",
      "model.add(Activation('relu'))\n",
      "model.add(Dense(output_dim=4, init='uniform'))\n",
      "model.add(Activation('softmax'))\n",
      "\n",
      "model.summary()\n",
      "\n",
      "# sgd = SGD(lr=0.1, decay=1e-3, momentum=0.9, nesterov=True)\n",
      "# model.compile(loss='categorical_crossentropy',optimizer=sgd,metrics=['accuracy'])\n",
      "model.compile(loss='categorical_crossentropy',\n",
      "              optimizer='sgd',\n",
      "              metrics=['accuracy'])\n",
      "\n",
      "with open('stats_epochs.csv', 'wb') as f:\n",
      "    writer = csv.DictWriter(f, fieldnames=[\"Epochs\", \"Train on\", \"Evaluate on Hard\", \"Evaluate on Soft\"], delimiter=',')\n",
      "    writer.writeheader()\n",
      "    writer = csv.writer(f, quoting=csv.QUOTE_NONE)\n",
      "    for e in epochs:\n",
      "        for i in xrange(2):\n",
      "            if i == 0:\n",
      "                paradigm = \"Hard\"\n",
      "                paradigm_train = y_train_hard\n",
      "                paradigm_test = y_test_hard\n",
      "            else:\n",
      "                paradigm = \"Soft\"\n",
      "                paradigm_train = y_train_soft\n",
      "                paradigm_test = y_test_soft\n",
      "\n",
      "            model.fit(X_train, paradigm_train,\n",
      "                      nb_epoch=e,\n",
      "                      batch_size=batch_size,\n",
      "                      verbose=2,\n",
      "                      validation_data=(X_test, paradigm_test))\n",
      "\n",
      "            score_on_hard, acc_on_hard = model.evaluate(X_test, y_test_hard, batch_size=batch_size)\n",
      "            score_on_soft, acc_on_soft = model.evaluate(X_test, y_test_soft, batch_size=batch_size)\n",
      "\n",
      "            if i == 0:\n",
      "                soft_costs_on_hard = np.append(soft_costs_on_hard , score_on_soft)\n",
      "                hard_costs_on_hard = np.append(hard_costs_on_hard , score_on_hard)\n",
      "            else:\n",
      "                soft_costs_on_soft = np.append(soft_costs_on_soft, score_on_soft)\n",
      "                hard_costs_on_soft = np.append(hard_costs_on_soft, score_on_hard)\n",
      "\n",
      "            writer.writerow([e, paradigm, score_on_hard, score_on_soft])\n",
      "\n"
     ],
     "language": "python",
     "metadata": {},
     "outputs": [
      {
       "output_type": "stream",
       "stream": "stdout",
       "text": [
        "____________________________________________________________________________________________________\n",
        "Layer (type)                     Output Shape          Param #     Connected to                     \n",
        "====================================================================================================\n",
        "dense_1 (Dense)                  (None, 10)            30          dense_input_1[0][0]              \n",
        "____________________________________________________________________________________________________\n",
        "activation_1 (Activation)        (None, 10)            0           dense_1[0][0]                    \n",
        "____________________________________________________________________________________________________\n",
        "dense_2 (Dense)                  (None, 10)            110         activation_1[0][0]               \n",
        "____________________________________________________________________________________________________\n",
        "activation_2 (Activation)        (None, 10)            0           dense_2[0][0]                    \n",
        "____________________________________________________________________________________________________\n",
        "dense_3 (Dense)                  (None, 10)            110         activation_2[0][0]               \n",
        "____________________________________________________________________________________________________\n",
        "activation_3 (Activation)        (None, 10)            0           dense_3[0][0]                    \n",
        "____________________________________________________________________________________________________\n",
        "dense_4 (Dense)                  (None, 4)             44          activation_3[0][0]               \n",
        "____________________________________________________________________________________________________\n",
        "activation_4 (Activation)        (None, 4)             0           dense_4[0][0]                    \n",
        "====================================================================================================\n",
        "Total params: 294\n",
        "Trainable params: 294\n",
        "Non-trainable params: 0\n",
        "____________________________________________________________________________________________________\n",
        "Train on 4000 samples, validate on 1000 samples"
       ]
      },
      {
       "output_type": "stream",
       "stream": "stdout",
       "text": [
        "\n",
        "Epoch 1/10\n",
        "0s - loss: 1.0292 - acc: 0.4100 - val_loss: 1.0280 - val_acc: 0.2420\n"
       ]
      },
      {
       "output_type": "stream",
       "stream": "stdout",
       "text": [
        "Epoch 2/10\n",
        "0s - loss: 1.0205 - acc: 0.2748 - val_loss: 1.0196 - val_acc: 0.2420\n",
        "Epoch 3/10\n",
        "0s - loss: 1.0124 - acc: 0.2552 - val_loss: 1.0118 - val_acc: 0.2420\n"
       ]
      },
      {
       "output_type": "stream",
       "stream": "stdout",
       "text": [
        "Epoch 4/10\n",
        "0s - loss: 1.0049 - acc: 0.2552 - val_loss: 1.0046 - val_acc: 0.2420\n",
        "Epoch 5/10\n",
        "0s - loss: 0.9979 - acc: 0.2552 - val_loss: 0.9978 - val_acc: 0.2420\n"
       ]
      },
      {
       "output_type": "stream",
       "stream": "stdout",
       "text": [
        "Epoch 6/10\n",
        "0s - loss: 0.9913 - acc: 0.2553 - val_loss: 0.9915 - val_acc: 0.2420\n",
        "Epoch 7/10\n",
        "0s - loss: 0.9851 - acc: 0.2552 - val_loss: 0.9855 - val_acc: 0.2420\n"
       ]
      },
      {
       "output_type": "stream",
       "stream": "stdout",
       "text": [
        "Epoch 8/10\n",
        "0s - loss: 0.9794 - acc: 0.2552 - val_loss: 0.9800 - val_acc: 0.2420\n",
        "Epoch 9/10\n",
        "0s - loss: 0.9739 - acc: 0.2552 - val_loss: 0.9747 - val_acc: 0.2420\n"
       ]
      },
      {
       "output_type": "stream",
       "stream": "stdout",
       "text": [
        "Epoch 10/10\n",
        "0s - loss: 0.9688 - acc: 0.2552 - val_loss: 0.9698 - val_acc: 0.2420\n",
        "\r",
        " 200/1000 [=====>........................] - ETA: 0s"
       ]
      },
      {
       "output_type": "stream",
       "stream": "stdout",
       "text": [
        "\r",
        " 200/1000 [=====>........................] - ETA: 0s"
       ]
      },
      {
       "output_type": "stream",
       "stream": "stdout",
       "text": [
        "Train on 4000 samples, validate on 1000 samples\n",
        "Epoch 1/10\n",
        "0s - loss: 1.4017 - acc: 0.2395 - val_loss: 1.3958 - val_acc: 0.2510\n",
        "Epoch 2/10\n",
        "0s - loss: 1.4004 - acc: 0.2395 - val_loss: 1.3948 - val_acc: 0.2510\n"
       ]
      },
      {
       "output_type": "stream",
       "stream": "stdout",
       "text": [
        "Epoch 3/10\n",
        "0s - loss: 1.3992 - acc: 0.2528 - val_loss: 1.3939 - val_acc: 0.2700\n",
        "Epoch 4/10\n",
        "0s - loss: 1.3981 - acc: 0.2598 - val_loss: 1.3931 - val_acc: 0.2700\n"
       ]
      },
      {
       "output_type": "stream",
       "stream": "stdout",
       "text": [
        "Epoch 5/10\n",
        "0s - loss: 1.3971 - acc: 0.2597 - val_loss: 1.3923 - val_acc: 0.2700\n",
        "Epoch 6/10\n",
        "0s - loss: 1.3962 - acc: 0.2597 - val_loss: 1.3916 - val_acc: 0.2700\n"
       ]
      },
      {
       "output_type": "stream",
       "stream": "stdout",
       "text": [
        "Epoch 7/10\n",
        "0s - loss: 1.3953 - acc: 0.2597 - val_loss: 1.3910 - val_acc: 0.2700\n",
        "Epoch 8/10\n",
        "0s - loss: 1.3945 - acc: 0.2597 - val_loss: 1.3904 - val_acc: 0.2700\n"
       ]
      },
      {
       "output_type": "stream",
       "stream": "stdout",
       "text": [
        "Epoch 9/10\n",
        "0s - loss: 1.3938 - acc: 0.2597 - val_loss: 1.3899 - val_acc: 0.2700\n",
        "Epoch 10/10\n",
        "0s - loss: 1.3931 - acc: 0.2597 - val_loss: 1.3894 - val_acc: 0.2700\n"
       ]
      },
      {
       "output_type": "stream",
       "stream": "stdout",
       "text": [
        "\r",
        " 200/1000 [=====>........................] - ETA: 0s"
       ]
      },
      {
       "output_type": "stream",
       "stream": "stdout",
       "text": [
        "\r",
        " 200/1000 [=====>........................] - ETA: 0s"
       ]
      },
      {
       "output_type": "stream",
       "stream": "stdout",
       "text": [
        "Train on 4000 samples, validate on 1000 samples\n",
        "Epoch 1/20\n",
        "0s - loss: 0.9860 - acc: 0.5068 - val_loss: 0.9862 - val_acc: 0.5100\n",
        "Epoch 2/20\n",
        "0s - loss: 0.9802 - acc: 0.5068 - val_loss: 0.9805 - val_acc: 0.5100\n"
       ]
      },
      {
       "output_type": "stream",
       "stream": "stdout",
       "text": [
        "Epoch 3/20\n",
        "0s - loss: 0.9747 - acc: 0.5067 - val_loss: 0.9752 - val_acc: 0.5100\n",
        "Epoch 4/20\n",
        "0s - loss: 0.9695 - acc: 0.5067 - val_loss: 0.9703 - val_acc: 0.5100\n"
       ]
      },
      {
       "output_type": "stream",
       "stream": "stdout",
       "text": [
        "Epoch 5/20\n",
        "0s - loss: 0.9647 - acc: 0.5067 - val_loss: 0.9656 - val_acc: 0.5100\n",
        "Epoch 6/20\n",
        "0s - loss: 0.9601 - acc: 0.5067 - val_loss: 0.9612 - val_acc: 0.5100\n"
       ]
      },
      {
       "output_type": "stream",
       "stream": "stdout",
       "text": [
        "Epoch 7/20\n",
        "0s - loss: 0.9558 - acc: 0.5068 - val_loss: 0.9570 - val_acc: 0.5100\n",
        "Epoch 8/20\n",
        "0s - loss: 0.9517 - acc: 0.5067 - val_loss: 0.9530 - val_acc: 0.5100\n"
       ]
      },
      {
       "output_type": "stream",
       "stream": "stdout",
       "text": [
        "Epoch 9/20\n",
        "0s - loss: 0.9478 - acc: 0.5067 - val_loss: 0.9493 - val_acc: 0.5100\n",
        "Epoch 10/20\n",
        "0s - loss: 0.9442 - acc: 0.5067 - val_loss: 0.9457 - val_acc: 0.5100\n"
       ]
      },
      {
       "output_type": "stream",
       "stream": "stdout",
       "text": [
        "Epoch 11/20\n",
        "0s - loss: 0.9407 - acc: 0.5067 - val_loss: 0.9423 - val_acc: 0.5100\n",
        "Epoch 12/20\n",
        "0s - loss: 0.9374 - acc: 0.5067 - val_loss: 0.9391 - val_acc: 0.5100\n"
       ]
      },
      {
       "output_type": "stream",
       "stream": "stdout",
       "text": [
        "Epoch 13/20\n",
        "0s - loss: 0.9342 - acc: 0.5067 - val_loss: 0.9360 - val_acc: 0.5100\n",
        "Epoch 14/20\n",
        "0s - loss: 0.9312 - acc: 0.5067 - val_loss: 0.9331 - val_acc: 0.5100\n"
       ]
      },
      {
       "output_type": "stream",
       "stream": "stdout",
       "text": [
        "Epoch 15/20\n",
        "0s - loss: 0.9283 - acc: 0.5067 - val_loss: 0.9304 - val_acc: 0.5100\n",
        "Epoch 16/20\n",
        "0s - loss: 0.9256 - acc: 0.4910 - val_loss: 0.9277 - val_acc: 0.5100\n"
       ]
      },
      {
       "output_type": "stream",
       "stream": "stdout",
       "text": [
        "Epoch 17/20\n",
        "0s - loss: 0.9230 - acc: 0.4795 - val_loss: 0.9252 - val_acc: 0.5100\n",
        "Epoch 18/20\n",
        "0s - loss: 0.9205 - acc: 0.3030 - val_loss: 0.9228 - val_acc: 0.2420\n"
       ]
      },
      {
       "output_type": "stream",
       "stream": "stdout",
       "text": [
        "Epoch 19/20\n",
        "0s - loss: 0.9182 - acc: 0.2552 - val_loss: 0.9204 - val_acc: 0.2420\n",
        "Epoch 20/20\n",
        "0s - loss: 0.9159 - acc: 0.2740 - val_loss: 0.9182 - val_acc: 0.2420\n"
       ]
      },
      {
       "output_type": "stream",
       "stream": "stdout",
       "text": [
        "\r",
        " 200/1000 [=====>........................] - ETA: 0s"
       ]
      },
      {
       "output_type": "stream",
       "stream": "stdout",
       "text": [
        "\r",
        " 200/1000 [=====>........................] - ETA: 0s"
       ]
      },
      {
       "output_type": "stream",
       "stream": "stdout",
       "text": [
        "Train on 4000 samples, validate on 1000 samples\n",
        "Epoch 1/20\n",
        "0s - loss: 1.4481 - acc: 0.2485 - val_loss: 1.4347 - val_acc: 0.2700\n",
        "Epoch 2/20\n",
        "0s - loss: 1.4437 - acc: 0.2597 - val_loss: 1.4310 - val_acc: 0.2700\n"
       ]
      },
      {
       "output_type": "stream",
       "stream": "stdout",
       "text": [
        "Epoch 3/20\n",
        "0s - loss: 1.4396 - acc: 0.2597 - val_loss: 1.4274 - val_acc: 0.2700\n",
        "Epoch 4/20\n",
        "0s - loss: 1.4358 - acc: 0.2597 - val_loss: 1.4241 - val_acc: 0.2700\n"
       ]
      },
      {
       "output_type": "stream",
       "stream": "stdout",
       "text": [
        "Epoch 5/20\n",
        "0s - loss: 1.4321 - acc: 0.2597 - val_loss: 1.4210 - val_acc: 0.2700\n",
        "Epoch 6/20\n",
        "0s - loss: 1.4288 - acc: 0.2597 - val_loss: 1.4181 - val_acc: 0.2700\n"
       ]
      },
      {
       "output_type": "stream",
       "stream": "stdout",
       "text": [
        "Epoch 7/20\n",
        "0s - loss: 1.4256 - acc: 0.2597 - val_loss: 1.4154 - val_acc: 0.2700\n",
        "Epoch 8/20\n",
        "0s - loss: 1.4226 - acc: 0.2597 - val_loss: 1.4129 - val_acc: 0.2700\n"
       ]
      },
      {
       "output_type": "stream",
       "stream": "stdout",
       "text": [
        "Epoch 9/20\n",
        "0s - loss: 1.4198 - acc: 0.2597 - val_loss: 1.4106 - val_acc: 0.2700\n",
        "Epoch 10/20\n",
        "0s - loss: 1.4172 - acc: 0.2597 - val_loss: 1.4084 - val_acc: 0.2700\n"
       ]
      },
      {
       "output_type": "stream",
       "stream": "stdout",
       "text": [
        "Epoch 11/20\n",
        "0s - loss: 1.4148 - acc: 0.2597 - val_loss: 1.4064 - val_acc: 0.2700\n",
        "Epoch 12/20\n",
        "0s - loss: 1.4126 - acc: 0.2597 - val_loss: 1.4046 - val_acc: 0.2700\n"
       ]
      },
      {
       "output_type": "stream",
       "stream": "stdout",
       "text": [
        "Epoch 13/20\n",
        "0s - loss: 1.4105 - acc: 0.2597 - val_loss: 1.4029 - val_acc: 0.2700\n",
        "Epoch 14/20\n",
        "0s - loss: 1.4085 - acc: 0.2597 - val_loss: 1.4013 - val_acc: 0.2700\n"
       ]
      },
      {
       "output_type": "stream",
       "stream": "stdout",
       "text": [
        "Epoch 15/20\n",
        "0s - loss: 1.4067 - acc: 0.2597 - val_loss: 1.3999 - val_acc: 0.2700\n",
        "Epoch 16/20\n",
        "0s - loss: 1.4051 - acc: 0.2597 - val_loss: 1.3985 - val_acc: 0.2700\n"
       ]
      },
      {
       "output_type": "stream",
       "stream": "stdout",
       "text": [
        "Epoch 17/20\n",
        "0s - loss: 1.4035 - acc: 0.2597 - val_loss: 1.3973 - val_acc: 0.2700\n",
        "Epoch 18/20\n",
        "0s - loss: 1.4021 - acc: 0.2598 - val_loss: 1.3962 - val_acc: 0.2700\n"
       ]
      },
      {
       "output_type": "stream",
       "stream": "stdout",
       "text": [
        "Epoch 19/20\n",
        "0s - loss: 1.4008 - acc: 0.2598 - val_loss: 1.3952 - val_acc: 0.2700\n",
        "Epoch 20/20\n",
        "0s - loss: 1.3995 - acc: 0.2597 - val_loss: 1.3942 - val_acc: 0.2700\n"
       ]
      },
      {
       "output_type": "stream",
       "stream": "stdout",
       "text": [
        "\r",
        " 200/1000 [=====>........................] - ETA: 0s"
       ]
      },
      {
       "output_type": "stream",
       "stream": "stdout",
       "text": [
        "\r",
        " 200/1000 [=====>........................] - ETA: 0s"
       ]
      },
      {
       "output_type": "stream",
       "stream": "stdout",
       "text": [
        "Train on 4000 samples, validate on 1000 samples\n",
        "Epoch 1/30\n",
        "0s - loss: 0.9705 - acc: 0.5067 - val_loss: 0.9710 - val_acc: 0.5100\n",
        "Epoch 2/30\n",
        "0s - loss: 0.9656 - acc: 0.5067 - val_loss: 0.9662 - val_acc: 0.5100\n"
       ]
      },
      {
       "output_type": "stream",
       "stream": "stdout",
       "text": [
        "Epoch 3/30\n",
        "0s - loss: 0.9610 - acc: 0.5068 - val_loss: 0.9618 - val_acc: 0.5100\n",
        "Epoch 4/30\n",
        "0s - loss: 0.9566 - acc: 0.5067 - val_loss: 0.9575 - val_acc: 0.5100\n"
       ]
      },
      {
       "output_type": "stream",
       "stream": "stdout",
       "text": [
        "Epoch 5/30\n",
        "0s - loss: 0.9524 - acc: 0.5067 - val_loss: 0.9535 - val_acc: 0.5100\n",
        "Epoch 6/30\n",
        "0s - loss: 0.9485 - acc: 0.5067 - val_loss: 0.9498 - val_acc: 0.5100\n"
       ]
      },
      {
       "output_type": "stream",
       "stream": "stdout",
       "text": [
        "Epoch 7/30\n",
        "0s - loss: 0.9448 - acc: 0.5068 - val_loss: 0.9462 - val_acc: 0.5100\n",
        "Epoch 8/30\n",
        "0s - loss: 0.9413 - acc: 0.5067 - val_loss: 0.9428 - val_acc: 0.5100\n"
       ]
      },
      {
       "output_type": "stream",
       "stream": "stdout",
       "text": [
        "Epoch 9/30\n",
        "0s - loss: 0.9379 - acc: 0.5067 - val_loss: 0.9395 - val_acc: 0.5100\n",
        "Epoch 10/30\n",
        "0s - loss: 0.9348 - acc: 0.5067 - val_loss: 0.9364 - val_acc: 0.5100\n"
       ]
      },
      {
       "output_type": "stream",
       "stream": "stdout",
       "text": [
        "Epoch 11/30\n",
        "0s - loss: 0.9317 - acc: 0.5068 - val_loss: 0.9335 - val_acc: 0.5100\n",
        "Epoch 12/30\n",
        "0s - loss: 0.9289 - acc: 0.5068 - val_loss: 0.9307 - val_acc: 0.5100\n"
       ]
      },
      {
       "output_type": "stream",
       "stream": "stdout",
       "text": [
        "Epoch 13/30\n",
        "0s - loss: 0.9261 - acc: 0.5068 - val_loss: 0.9280 - val_acc: 0.5100\n",
        "Epoch 14/30\n",
        "0s - loss: 0.9235 - acc: 0.5067 - val_loss: 0.9255 - val_acc: 0.5100\n"
       ]
      },
      {
       "output_type": "stream",
       "stream": "stdout",
       "text": [
        "Epoch 15/30\n",
        "0s - loss: 0.9210 - acc: 0.5067 - val_loss: 0.9231 - val_acc: 0.5100\n",
        "Epoch 16/30\n",
        "0s - loss: 0.9186 - acc: 0.5068 - val_loss: 0.9207 - val_acc: 0.5100\n"
       ]
      },
      {
       "output_type": "stream",
       "stream": "stdout",
       "text": [
        "Epoch 17/30\n",
        "0s - loss: 0.9163 - acc: 0.5067 - val_loss: 0.9185 - val_acc: 0.5100\n",
        "Epoch 18/30\n",
        "0s - loss: 0.9141 - acc: 0.5067 - val_loss: 0.9163 - val_acc: 0.5100\n"
       ]
      },
      {
       "output_type": "stream",
       "stream": "stdout",
       "text": [
        "Epoch 19/30\n",
        "0s - loss: 0.9119 - acc: 0.5067 - val_loss: 0.9143 - val_acc: 0.5100\n",
        "Epoch 20/30\n",
        "0s - loss: 0.9099 - acc: 0.5067 - val_loss: 0.9123 - val_acc: 0.5100\n"
       ]
      },
      {
       "output_type": "stream",
       "stream": "stdout",
       "text": [
        "Epoch 21/30\n",
        "0s - loss: 0.9080 - acc: 0.5068 - val_loss: 0.9104 - val_acc: 0.5100\n",
        "Epoch 22/30\n",
        "0s - loss: 0.9061 - acc: 0.5067 - val_loss: 0.9086 - val_acc: 0.5100\n"
       ]
      },
      {
       "output_type": "stream",
       "stream": "stdout",
       "text": [
        "Epoch 23/30\n",
        "0s - loss: 0.9043 - acc: 0.4885 - val_loss: 0.9069 - val_acc: 0.5100\n",
        "Epoch 24/30\n",
        "0s - loss: 0.9026 - acc: 0.4305 - val_loss: 0.9052 - val_acc: 0.5100\n"
       ]
      },
      {
       "output_type": "stream",
       "stream": "stdout",
       "text": [
        "Epoch 25/30\n",
        "0s - loss: 0.9009 - acc: 0.4807 - val_loss: 0.9036 - val_acc: 0.5100\n",
        "Epoch 26/30\n",
        "0s - loss: 0.8993 - acc: 0.4502 - val_loss: 0.9020 - val_acc: 0.2420\n"
       ]
      },
      {
       "output_type": "stream",
       "stream": "stdout",
       "text": [
        "Epoch 27/30\n",
        "0s - loss: 0.8978 - acc: 0.2553 - val_loss: 0.9005 - val_acc: 0.2420\n",
        "Epoch 28/30\n",
        "0s - loss: 0.8963 - acc: 0.2897 - val_loss: 0.8990 - val_acc: 0.2420\n"
       ]
      },
      {
       "output_type": "stream",
       "stream": "stdout",
       "text": [
        "Epoch 29/30\n",
        "0s - loss: 0.8949 - acc: 0.2552 - val_loss: 0.8976 - val_acc: 0.2420\n",
        "Epoch 30/30\n",
        "0s - loss: 0.8935 - acc: 0.2552 - val_loss: 0.8963 - val_acc: 0.2420\n"
       ]
      },
      {
       "output_type": "stream",
       "stream": "stdout",
       "text": [
        "\r",
        " 200/1000 [=====>........................] - ETA: 0s"
       ]
      },
      {
       "output_type": "stream",
       "stream": "stdout",
       "text": [
        "\r",
        " 200/1000 [=====>........................] - ETA: 0s"
       ]
      },
      {
       "output_type": "stream",
       "stream": "stdout",
       "text": [
        "Train on 4000 samples, validate on 1000 samples\n",
        "Epoch 1/30\n",
        "0s - loss: 1.4867 - acc: 0.2395 - val_loss: 1.4688 - val_acc: 0.2510\n",
        "Epoch 2/30\n",
        "0s - loss: 1.4803 - acc: 0.2618 - val_loss: 1.4632 - val_acc: 0.2700\n"
       ]
      },
      {
       "output_type": "stream",
       "stream": "stdout",
       "text": [
        "Epoch 3/30\n",
        "0s - loss: 1.4743 - acc: 0.2598 - val_loss: 1.4578 - val_acc: 0.2700\n",
        "Epoch 4/30\n",
        "0s - loss: 1.4685 - acc: 0.2597 - val_loss: 1.4527 - val_acc: 0.2700\n"
       ]
      },
      {
       "output_type": "stream",
       "stream": "stdout",
       "text": [
        "Epoch 5/30\n",
        "0s - loss: 1.4631 - acc: 0.2597 - val_loss: 1.4479 - val_acc: 0.2700\n",
        "Epoch 6/30\n",
        "0s - loss: 1.4579 - acc: 0.2598 - val_loss: 1.4434 - val_acc: 0.2700\n"
       ]
      },
      {
       "output_type": "stream",
       "stream": "stdout",
       "text": [
        "Epoch 7/30\n",
        "0s - loss: 1.4530 - acc: 0.2598 - val_loss: 1.4391 - val_acc: 0.2700\n",
        "Epoch 8/30\n",
        "0s - loss: 1.4484 - acc: 0.2597 - val_loss: 1.4351 - val_acc: 0.2700\n"
       ]
      },
      {
       "output_type": "stream",
       "stream": "stdout",
       "text": [
        "Epoch 9/30\n",
        "0s - loss: 1.4440 - acc: 0.2597 - val_loss: 1.4313 - val_acc: 0.2700\n",
        "Epoch 10/30\n",
        "0s - loss: 1.4399 - acc: 0.2597 - val_loss: 1.4278 - val_acc: 0.2700\n"
       ]
      },
      {
       "output_type": "stream",
       "stream": "stdout",
       "text": [
        "Epoch 11/30\n",
        "0s - loss: 1.4361 - acc: 0.2597 - val_loss: 1.4244 - val_acc: 0.2700\n",
        "Epoch 12/30\n",
        "0s - loss: 1.4324 - acc: 0.2597 - val_loss: 1.4213 - val_acc: 0.2700\n"
       ]
      },
      {
       "output_type": "stream",
       "stream": "stdout",
       "text": [
        "Epoch 13/30\n",
        "0s - loss: 1.4290 - acc: 0.2597 - val_loss: 1.4184 - val_acc: 0.2700\n",
        "Epoch 14/30\n",
        "0s - loss: 1.4258 - acc: 0.2598 - val_loss: 1.4157 - val_acc: 0.2700\n"
       ]
      },
      {
       "output_type": "stream",
       "stream": "stdout",
       "text": [
        "Epoch 15/30\n",
        "0s - loss: 1.4228 - acc: 0.2597 - val_loss: 1.4132 - val_acc: 0.2700\n",
        "Epoch 16/30\n",
        "0s - loss: 1.4201 - acc: 0.2597 - val_loss: 1.4109 - val_acc: 0.2700\n"
       ]
      },
      {
       "output_type": "stream",
       "stream": "stdout",
       "text": [
        "Epoch 17/30\n",
        "0s - loss: 1.4174 - acc: 0.2597 - val_loss: 1.4087 - val_acc: 0.2700\n",
        "Epoch 18/30\n",
        "0s - loss: 1.4150 - acc: 0.2597 - val_loss: 1.4067 - val_acc: 0.2700\n"
       ]
      },
      {
       "output_type": "stream",
       "stream": "stdout",
       "text": [
        "Epoch 19/30\n",
        "0s - loss: 1.4128 - acc: 0.2598 - val_loss: 1.4048 - val_acc: 0.2700\n",
        "Epoch 20/30\n",
        "0s - loss: 1.4107 - acc: 0.2598 - val_loss: 1.4031 - val_acc: 0.2700\n"
       ]
      },
      {
       "output_type": "stream",
       "stream": "stdout",
       "text": [
        "Epoch 21/30\n",
        "0s - loss: 1.4087 - acc: 0.2598 - val_loss: 1.4015 - val_acc: 0.2700\n",
        "Epoch 22/30\n",
        "0s - loss: 1.4069 - acc: 0.2597 - val_loss: 1.4000 - val_acc: 0.2700\n"
       ]
      },
      {
       "output_type": "stream",
       "stream": "stdout",
       "text": [
        "Epoch 23/30\n",
        "0s - loss: 1.4052 - acc: 0.2597 - val_loss: 1.3987 - val_acc: 0.2700\n",
        "Epoch 24/30\n",
        "0s - loss: 1.4037 - acc: 0.2597 - val_loss: 1.3974 - val_acc: 0.2700\n"
       ]
      },
      {
       "output_type": "stream",
       "stream": "stdout",
       "text": [
        "Epoch 25/30\n",
        "0s - loss: 1.4022 - acc: 0.2598 - val_loss: 1.3963 - val_acc: 0.2700\n",
        "Epoch 26/30\n",
        "0s - loss: 1.4009 - acc: 0.2597 - val_loss: 1.3953 - val_acc: 0.2700\n"
       ]
      },
      {
       "output_type": "stream",
       "stream": "stdout",
       "text": [
        "Epoch 27/30\n",
        "0s - loss: 1.3997 - acc: 0.2598 - val_loss: 1.3943 - val_acc: 0.2700\n",
        "Epoch 28/30\n",
        "0s - loss: 1.3985 - acc: 0.2597 - val_loss: 1.3935 - val_acc: 0.2700\n"
       ]
      },
      {
       "output_type": "stream",
       "stream": "stdout",
       "text": [
        "Epoch 29/30\n",
        "0s - loss: 1.3975 - acc: 0.2597 - val_loss: 1.3927 - val_acc: 0.2700\n",
        "Epoch 30/30\n",
        "0s - loss: 1.3965 - acc: 0.2597 - val_loss: 1.3920 - val_acc: 0.2700\n"
       ]
      },
      {
       "output_type": "stream",
       "stream": "stdout",
       "text": [
        "\r",
        " 200/1000 [=====>........................] - ETA: 0s"
       ]
      },
      {
       "output_type": "stream",
       "stream": "stdout",
       "text": [
        "\r",
        " 200/1000 [=====>........................] - ETA: 0s"
       ]
      },
      {
       "output_type": "stream",
       "stream": "stdout",
       "text": [
        "Train on 4000 samples, validate on 1000 samples\n",
        "Epoch 1/40\n",
        "0s - loss: 0.9771 - acc: 0.5067 - val_loss: 0.9773 - val_acc: 0.5100\n",
        "Epoch 2/40\n",
        "0s - loss: 0.9718 - acc: 0.5067 - val_loss: 0.9722 - val_acc: 0.5100\n"
       ]
      },
      {
       "output_type": "stream",
       "stream": "stdout",
       "text": [
        "Epoch 3/40\n",
        "0s - loss: 0.9668 - acc: 0.5067 - val_loss: 0.9673 - val_acc: 0.5100\n",
        "Epoch 4/40\n",
        "0s - loss: 0.9621 - acc: 0.5067 - val_loss: 0.9628 - val_acc: 0.5100\n"
       ]
      },
      {
       "output_type": "stream",
       "stream": "stdout",
       "text": [
        "Epoch 5/40\n",
        "0s - loss: 0.9577 - acc: 0.5067 - val_loss: 0.9585 - val_acc: 0.5100\n",
        "Epoch 6/40\n",
        "0s - loss: 0.9535 - acc: 0.5067 - val_loss: 0.9545 - val_acc: 0.5100\n"
       ]
      },
      {
       "output_type": "stream",
       "stream": "stdout",
       "text": [
        "Epoch 7/40\n",
        "0s - loss: 0.9495 - acc: 0.5068 - val_loss: 0.9506 - val_acc: 0.5100\n",
        "Epoch 8/40\n",
        "0s - loss: 0.9457 - acc: 0.5067 - val_loss: 0.9470 - val_acc: 0.5100\n"
       ]
      },
      {
       "output_type": "stream",
       "stream": "stdout",
       "text": [
        "Epoch 9/40\n",
        "0s - loss: 0.9422 - acc: 0.5067 - val_loss: 0.9435 - val_acc: 0.5100\n",
        "Epoch 10/40\n",
        "0s - loss: 0.9388 - acc: 0.5068 - val_loss: 0.9403 - val_acc: 0.5100\n"
       ]
      },
      {
       "output_type": "stream",
       "stream": "stdout",
       "text": [
        "Epoch 11/40\n",
        "0s - loss: 0.9355 - acc: 0.5068 - val_loss: 0.9371 - val_acc: 0.5100\n",
        "Epoch 12/40\n",
        "0s - loss: 0.9325 - acc: 0.5067 - val_loss: 0.9342 - val_acc: 0.5100\n"
       ]
      },
      {
       "output_type": "stream",
       "stream": "stdout",
       "text": [
        "Epoch 13/40\n",
        "0s - loss: 0.9296 - acc: 0.5067 - val_loss: 0.9313 - val_acc: 0.5100\n",
        "Epoch 14/40\n",
        "0s - loss: 0.9268 - acc: 0.5067 - val_loss: 0.9286 - val_acc: 0.5100\n"
       ]
      },
      {
       "output_type": "stream",
       "stream": "stdout",
       "text": [
        "Epoch 15/40\n",
        "0s - loss: 0.9241 - acc: 0.5067 - val_loss: 0.9261 - val_acc: 0.5100\n",
        "Epoch 16/40\n",
        "0s - loss: 0.9216 - acc: 0.5068 - val_loss: 0.9236 - val_acc: 0.5100\n"
       ]
      },
      {
       "output_type": "stream",
       "stream": "stdout",
       "text": [
        "Epoch 17/40\n",
        "0s - loss: 0.9191 - acc: 0.5067 - val_loss: 0.9213 - val_acc: 0.5100\n",
        "Epoch 18/40\n",
        "0s - loss: 0.9168 - acc: 0.5067 - val_loss: 0.9190 - val_acc: 0.5100\n"
       ]
      },
      {
       "output_type": "stream",
       "stream": "stdout",
       "text": [
        "Epoch 19/40\n",
        "0s - loss: 0.9146 - acc: 0.5067 - val_loss: 0.9168 - val_acc: 0.5100\n",
        "Epoch 20/40\n",
        "0s - loss: 0.9125 - acc: 0.5068 - val_loss: 0.9148 - val_acc: 0.5100\n"
       ]
      },
      {
       "output_type": "stream",
       "stream": "stdout",
       "text": [
        "Epoch 21/40\n",
        "0s - loss: 0.9104 - acc: 0.5067 - val_loss: 0.9128 - val_acc: 0.5100\n",
        "Epoch 22/40\n",
        "0s - loss: 0.9085 - acc: 0.5067 - val_loss: 0.9109 - val_acc: 0.5100\n"
       ]
      },
      {
       "output_type": "stream",
       "stream": "stdout",
       "text": [
        "Epoch 23/40\n",
        "0s - loss: 0.9066 - acc: 0.5067 - val_loss: 0.9090 - val_acc: 0.5100\n",
        "Epoch 24/40\n",
        "0s - loss: 0.9048 - acc: 0.5067 - val_loss: 0.9073 - val_acc: 0.5100\n"
       ]
      },
      {
       "output_type": "stream",
       "stream": "stdout",
       "text": [
        "Epoch 25/40\n",
        "0s - loss: 0.9030 - acc: 0.5067 - val_loss: 0.9056 - val_acc: 0.5100\n",
        "Epoch 26/40\n",
        "0s - loss: 0.9013 - acc: 0.5067 - val_loss: 0.9039 - val_acc: 0.5100\n"
       ]
      },
      {
       "output_type": "stream",
       "stream": "stdout",
       "text": [
        "Epoch 27/40\n",
        "0s - loss: 0.8997 - acc: 0.4282 - val_loss: 0.9024 - val_acc: 0.5100\n",
        "Epoch 28/40\n",
        "0s - loss: 0.8982 - acc: 0.3730 - val_loss: 0.9008 - val_acc: 0.5100\n"
       ]
      },
      {
       "output_type": "stream",
       "stream": "stdout",
       "text": [
        "Epoch 29/40\n",
        "0s - loss: 0.8967 - acc: 0.4717 - val_loss: 0.8994 - val_acc: 0.2420\n",
        "Epoch 30/40\n",
        "0s - loss: 0.8952 - acc: 0.3015 - val_loss: 0.8980 - val_acc: 0.2420\n"
       ]
      },
      {
       "output_type": "stream",
       "stream": "stdout",
       "text": [
        "Epoch 31/40\n",
        "0s - loss: 0.8938 - acc: 0.2552 - val_loss: 0.8966 - val_acc: 0.2420\n",
        "Epoch 32/40\n",
        "0s - loss: 0.8925 - acc: 0.2553 - val_loss: 0.8953 - val_acc: 0.2420\n"
       ]
      },
      {
       "output_type": "stream",
       "stream": "stdout",
       "text": [
        "Epoch 33/40\n",
        "0s - loss: 0.8912 - acc: 0.2552 - val_loss: 0.8940 - val_acc: 0.2420\n",
        "Epoch 34/40\n",
        "0s - loss: 0.8899 - acc: 0.2553 - val_loss: 0.8928 - val_acc: 0.2420\n"
       ]
      },
      {
       "output_type": "stream",
       "stream": "stdout",
       "text": [
        "Epoch 35/40\n",
        "0s - loss: 0.8887 - acc: 0.2552 - val_loss: 0.8916 - val_acc: 0.2420\n",
        "Epoch 36/40\n",
        "0s - loss: 0.8875 - acc: 0.2552 - val_loss: 0.8904 - val_acc: 0.2420\n"
       ]
      },
      {
       "output_type": "stream",
       "stream": "stdout",
       "text": [
        "Epoch 37/40\n",
        "0s - loss: 0.8863 - acc: 0.2552 - val_loss: 0.8893 - val_acc: 0.2420\n",
        "Epoch 38/40\n",
        "0s - loss: 0.8852 - acc: 0.2552 - val_loss: 0.8882 - val_acc: 0.2420\n"
       ]
      },
      {
       "output_type": "stream",
       "stream": "stdout",
       "text": [
        "Epoch 39/40\n",
        "0s - loss: 0.8842 - acc: 0.2552 - val_loss: 0.8871 - val_acc: 0.2420\n",
        "Epoch 40/40\n",
        "0s - loss: 0.8831 - acc: 0.2552 - val_loss: 0.8861 - val_acc: 0.2420\n"
       ]
      },
      {
       "output_type": "stream",
       "stream": "stdout",
       "text": [
        "\r",
        " 200/1000 [=====>........................] - ETA: 0s"
       ]
      },
      {
       "output_type": "stream",
       "stream": "stdout",
       "text": [
        "\r",
        " 200/1000 [=====>........................] - ETA: 0s"
       ]
      },
      {
       "output_type": "stream",
       "stream": "stdout",
       "text": [
        "Train on 4000 samples, validate on 1000 samples\n",
        "Epoch 1/40\n",
        "0s - loss: 1.5114 - acc: 0.2395 - val_loss: 1.4911 - val_acc: 0.2510\n",
        "Epoch 2/40\n",
        "0s - loss: 1.5040 - acc: 0.2395 - val_loss: 1.4844 - val_acc: 0.2510\n"
       ]
      },
      {
       "output_type": "stream",
       "stream": "stdout",
       "text": [
        "Epoch 3/40\n",
        "0s - loss: 1.4968 - acc: 0.2550 - val_loss: 1.4780 - val_acc: 0.2700\n",
        "Epoch 4/40\n",
        "0s - loss: 1.4900 - acc: 0.2597 - val_loss: 1.4719 - val_acc: 0.2700\n"
       ]
      },
      {
       "output_type": "stream",
       "stream": "stdout",
       "text": [
        "Epoch 5/40\n",
        "0s - loss: 1.4835 - acc: 0.2597 - val_loss: 1.4661 - val_acc: 0.2700\n",
        "Epoch 6/40\n",
        "0s - loss: 1.4773 - acc: 0.2597 - val_loss: 1.4606 - val_acc: 0.2700\n"
       ]
      },
      {
       "output_type": "stream",
       "stream": "stdout",
       "text": [
        "Epoch 7/40\n",
        "0s - loss: 1.4714 - acc: 0.2597 - val_loss: 1.4553 - val_acc: 0.2700\n",
        "Epoch 8/40\n",
        "0s - loss: 1.4658 - acc: 0.2597 - val_loss: 1.4504 - val_acc: 0.2700\n"
       ]
      },
      {
       "output_type": "stream",
       "stream": "stdout",
       "text": [
        "Epoch 9/40\n",
        "0s - loss: 1.4605 - acc: 0.2598 - val_loss: 1.4457 - val_acc: 0.2700\n",
        "Epoch 10/40\n",
        "0s - loss: 1.4554 - acc: 0.2597 - val_loss: 1.4413 - val_acc: 0.2700\n"
       ]
      },
      {
       "output_type": "stream",
       "stream": "stdout",
       "text": [
        "Epoch 11/40\n",
        "0s - loss: 1.4507 - acc: 0.2597 - val_loss: 1.4371 - val_acc: 0.2700\n",
        "Epoch 12/40\n",
        "0s - loss: 1.4462 - acc: 0.2597 - val_loss: 1.4332 - val_acc: 0.2700\n"
       ]
      },
      {
       "output_type": "stream",
       "stream": "stdout",
       "text": [
        "Epoch 13/40\n",
        "0s - loss: 1.4419 - acc: 0.2597 - val_loss: 1.4295 - val_acc: 0.2700\n",
        "Epoch 14/40\n",
        "0s - loss: 1.4380 - acc: 0.2597 - val_loss: 1.4261 - val_acc: 0.2700\n"
       ]
      },
      {
       "output_type": "stream",
       "stream": "stdout",
       "text": [
        "Epoch 15/40\n",
        "0s - loss: 1.4342 - acc: 0.2597 - val_loss: 1.4229 - val_acc: 0.2700\n",
        "Epoch 16/40\n",
        "0s - loss: 1.4307 - acc: 0.2597 - val_loss: 1.4199 - val_acc: 0.2700\n"
       ]
      },
      {
       "output_type": "stream",
       "stream": "stdout",
       "text": [
        "Epoch 17/40\n",
        "0s - loss: 1.4274 - acc: 0.2597 - val_loss: 1.4171 - val_acc: 0.2700\n",
        "Epoch 18/40\n",
        "0s - loss: 1.4243 - acc: 0.2597 - val_loss: 1.4144 - val_acc: 0.2700\n"
       ]
      },
      {
       "output_type": "stream",
       "stream": "stdout",
       "text": [
        "Epoch 19/40\n",
        "0s - loss: 1.4214 - acc: 0.2597 - val_loss: 1.4120 - val_acc: 0.2700\n",
        "Epoch 20/40\n",
        "0s - loss: 1.4187 - acc: 0.2597 - val_loss: 1.4097 - val_acc: 0.2700\n"
       ]
      },
      {
       "output_type": "stream",
       "stream": "stdout",
       "text": [
        "Epoch 21/40\n",
        "0s - loss: 1.4162 - acc: 0.2597 - val_loss: 1.4076 - val_acc: 0.2700\n",
        "Epoch 22/40\n",
        "0s - loss: 1.4138 - acc: 0.2597 - val_loss: 1.4057 - val_acc: 0.2700\n"
       ]
      },
      {
       "output_type": "stream",
       "stream": "stdout",
       "text": [
        "Epoch 23/40\n",
        "0s - loss: 1.4117 - acc: 0.2597 - val_loss: 1.4039 - val_acc: 0.2700\n",
        "Epoch 24/40\n",
        "0s - loss: 1.4096 - acc: 0.2597 - val_loss: 1.4023 - val_acc: 0.2700\n"
       ]
      },
      {
       "output_type": "stream",
       "stream": "stdout",
       "text": [
        "Epoch 25/40\n",
        "0s - loss: 1.4077 - acc: 0.2597 - val_loss: 1.4007 - val_acc: 0.2700\n",
        "Epoch 26/40\n",
        "0s - loss: 1.4060 - acc: 0.2597 - val_loss: 1.3993 - val_acc: 0.2700\n"
       ]
      },
      {
       "output_type": "stream",
       "stream": "stdout",
       "text": [
        "Epoch 27/40\n",
        "0s - loss: 1.4044 - acc: 0.2597 - val_loss: 1.3980 - val_acc: 0.2700\n",
        "Epoch 28/40\n",
        "0s - loss: 1.4029 - acc: 0.2597 - val_loss: 1.3969 - val_acc: 0.2700\n"
       ]
      },
      {
       "output_type": "stream",
       "stream": "stdout",
       "text": [
        "Epoch 29/40\n",
        "0s - loss: 1.4015 - acc: 0.2597 - val_loss: 1.3958 - val_acc: 0.2700\n",
        "Epoch 30/40\n",
        "0s - loss: 1.4002 - acc: 0.2597 - val_loss: 1.3948 - val_acc: 0.2700\n"
       ]
      },
      {
       "output_type": "stream",
       "stream": "stdout",
       "text": [
        "Epoch 31/40\n",
        "0s - loss: 1.3990 - acc: 0.2598 - val_loss: 1.3939 - val_acc: 0.2700\n",
        "Epoch 32/40\n",
        "0s - loss: 1.3979 - acc: 0.2597 - val_loss: 1.3930 - val_acc: 0.2700\n"
       ]
      },
      {
       "output_type": "stream",
       "stream": "stdout",
       "text": [
        "Epoch 33/40\n",
        "0s - loss: 1.3969 - acc: 0.2598 - val_loss: 1.3923 - val_acc: 0.2700\n",
        "Epoch 34/40\n",
        "0s - loss: 1.3960 - acc: 0.2598 - val_loss: 1.3916 - val_acc: 0.2700\n"
       ]
      },
      {
       "output_type": "stream",
       "stream": "stdout",
       "text": [
        "Epoch 35/40\n",
        "0s - loss: 1.3952 - acc: 0.2597 - val_loss: 1.3910 - val_acc: 0.2700\n",
        "Epoch 36/40\n",
        "0s - loss: 1.3944 - acc: 0.2598 - val_loss: 1.3904 - val_acc: 0.2700\n"
       ]
      },
      {
       "output_type": "stream",
       "stream": "stdout",
       "text": [
        "Epoch 37/40\n",
        "0s - loss: 1.3937 - acc: 0.2597 - val_loss: 1.3899 - val_acc: 0.2700\n",
        "Epoch 38/40\n",
        "0s - loss: 1.3930 - acc: 0.2597 - val_loss: 1.3895 - val_acc: 0.2700\n"
       ]
      },
      {
       "output_type": "stream",
       "stream": "stdout",
       "text": [
        "Epoch 39/40\n",
        "0s - loss: 1.3924 - acc: 0.2597 - val_loss: 1.3890 - val_acc: 0.2700\n",
        "Epoch 40/40\n",
        "0s - loss: 1.3919 - acc: 0.2598 - val_loss: 1.3887 - val_acc: 0.2700\n"
       ]
      },
      {
       "output_type": "stream",
       "stream": "stdout",
       "text": [
        "\r",
        " 200/1000 [=====>........................] - ETA: 0s"
       ]
      },
      {
       "output_type": "stream",
       "stream": "stdout",
       "text": [
        "\r",
        " 200/1000 [=====>........................] - ETA: 0s"
       ]
      },
      {
       "output_type": "stream",
       "stream": "stdout",
       "text": [
        "Train on 4000 samples, validate on 1000 samples\n",
        "Epoch 1/50\n",
        "0s - loss: 0.9899 - acc: 0.5067 - val_loss: 0.9896 - val_acc: 0.5100\n",
        "Epoch 2/50\n",
        "0s - loss: 0.9838 - acc: 0.5068 - val_loss: 0.9838 - val_acc: 0.5100\n"
       ]
      },
      {
       "output_type": "stream",
       "stream": "stdout",
       "text": [
        "Epoch 3/50\n",
        "0s - loss: 0.9781 - acc: 0.5068 - val_loss: 0.9782 - val_acc: 0.5100\n",
        "Epoch 4/50\n",
        "0s - loss: 0.9727 - acc: 0.5067 - val_loss: 0.9731 - val_acc: 0.5100\n"
       ]
      },
      {
       "output_type": "stream",
       "stream": "stdout",
       "text": [
        "Epoch 5/50\n",
        "0s - loss: 0.9677 - acc: 0.5068 - val_loss: 0.9682 - val_acc: 0.5100\n",
        "Epoch 6/50\n",
        "0s - loss: 0.9629 - acc: 0.5067 - val_loss: 0.9636 - val_acc: 0.5100\n"
       ]
      },
      {
       "output_type": "stream",
       "stream": "stdout",
       "text": [
        "Epoch 7/50\n",
        "0s - loss: 0.9584 - acc: 0.5067 - val_loss: 0.9593 - val_acc: 0.5100\n",
        "Epoch 8/50\n",
        "0s - loss: 0.9541 - acc: 0.5067 - val_loss: 0.9552 - val_acc: 0.5100\n"
       ]
      },
      {
       "output_type": "stream",
       "stream": "stdout",
       "text": [
        "Epoch 9/50\n",
        "0s - loss: 0.9501 - acc: 0.5068 - val_loss: 0.9513 - val_acc: 0.5100\n",
        "Epoch 10/50\n",
        "0s - loss: 0.9463 - acc: 0.5068 - val_loss: 0.9476 - val_acc: 0.5100\n"
       ]
      },
      {
       "output_type": "stream",
       "stream": "stdout",
       "text": [
        "Epoch 11/50\n",
        "0s - loss: 0.9427 - acc: 0.5067 - val_loss: 0.9441 - val_acc: 0.5100\n",
        "Epoch 12/50\n",
        "0s - loss: 0.9393 - acc: 0.5068 - val_loss: 0.9408 - val_acc: 0.5100\n"
       ]
      },
      {
       "output_type": "stream",
       "stream": "stdout",
       "text": [
        "Epoch 13/50\n",
        "0s - loss: 0.9360 - acc: 0.5067 - val_loss: 0.9376 - val_acc: 0.5100\n",
        "Epoch 14/50\n",
        "0s - loss: 0.9329 - acc: 0.5068 - val_loss: 0.9346 - val_acc: 0.5100\n"
       ]
      },
      {
       "output_type": "stream",
       "stream": "stdout",
       "text": [
        "Epoch 15/50\n",
        "0s - loss: 0.9300 - acc: 0.5067 - val_loss: 0.9318 - val_acc: 0.5100\n",
        "Epoch 16/50\n",
        "0s - loss: 0.9272 - acc: 0.5067 - val_loss: 0.9291 - val_acc: 0.5100\n"
       ]
      },
      {
       "output_type": "stream",
       "stream": "stdout",
       "text": [
        "Epoch 17/50\n",
        "0s - loss: 0.9245 - acc: 0.5067 - val_loss: 0.9265 - val_acc: 0.5100\n",
        "Epoch 18/50\n",
        "0s - loss: 0.9219 - acc: 0.5067 - val_loss: 0.9240 - val_acc: 0.5100\n"
       ]
      },
      {
       "output_type": "stream",
       "stream": "stdout",
       "text": [
        "Epoch 19/50\n",
        "0s - loss: 0.9195 - acc: 0.5068 - val_loss: 0.9216 - val_acc: 0.5100\n",
        "Epoch 20/50\n",
        "0s - loss: 0.9171 - acc: 0.5067 - val_loss: 0.9193 - val_acc: 0.5100\n"
       ]
      },
      {
       "output_type": "stream",
       "stream": "stdout",
       "text": [
        "Epoch 21/50\n",
        "0s - loss: 0.9149 - acc: 0.5067 - val_loss: 0.9172 - val_acc: 0.5100\n",
        "Epoch 22/50\n",
        "0s - loss: 0.9127 - acc: 0.5067 - val_loss: 0.9151 - val_acc: 0.5100\n"
       ]
      },
      {
       "output_type": "stream",
       "stream": "stdout",
       "text": [
        "Epoch 23/50\n",
        "0s - loss: 0.9107 - acc: 0.5067 - val_loss: 0.9131 - val_acc: 0.5100\n",
        "Epoch 24/50\n",
        "0s - loss: 0.9087 - acc: 0.5067 - val_loss: 0.9111 - val_acc: 0.5100\n"
       ]
      },
      {
       "output_type": "stream",
       "stream": "stdout",
       "text": [
        "Epoch 25/50\n",
        "0s - loss: 0.9068 - acc: 0.5067 - val_loss: 0.9093 - val_acc: 0.5100\n",
        "Epoch 26/50\n",
        "0s - loss: 0.9050 - acc: 0.5067 - val_loss: 0.9075 - val_acc: 0.5100\n"
       ]
      },
      {
       "output_type": "stream",
       "stream": "stdout",
       "text": [
        "Epoch 27/50\n",
        "0s - loss: 0.9032 - acc: 0.4777 - val_loss: 0.9058 - val_acc: 0.5100\n",
        "Epoch 28/50\n",
        "0s - loss: 0.9015 - acc: 0.5067 - val_loss: 0.9042 - val_acc: 0.5100\n"
       ]
      },
      {
       "output_type": "stream",
       "stream": "stdout",
       "text": [
        "Epoch 29/50\n",
        "0s - loss: 0.8999 - acc: 0.3157 - val_loss: 0.9026 - val_acc: 0.2420\n",
        "Epoch 30/50\n",
        "0s - loss: 0.8984 - acc: 0.2790 - val_loss: 0.9010 - val_acc: 0.2420\n"
       ]
      },
      {
       "output_type": "stream",
       "stream": "stdout",
       "text": [
        "Epoch 31/50\n",
        "0s - loss: 0.8968 - acc: 0.2552 - val_loss: 0.8996 - val_acc: 0.2420\n",
        "Epoch 32/50\n",
        "0s - loss: 0.8954 - acc: 0.2968 - val_loss: 0.8982 - val_acc: 0.2420\n"
       ]
      },
      {
       "output_type": "stream",
       "stream": "stdout",
       "text": [
        "Epoch 33/50\n",
        "0s - loss: 0.8940 - acc: 0.2552 - val_loss: 0.8968 - val_acc: 0.2420\n",
        "Epoch 34/50\n",
        "0s - loss: 0.8926 - acc: 0.2552 - val_loss: 0.8954 - val_acc: 0.2420\n"
       ]
      },
      {
       "output_type": "stream",
       "stream": "stdout",
       "text": [
        "Epoch 35/50\n",
        "0s - loss: 0.8913 - acc: 0.2552 - val_loss: 0.8942 - val_acc: 0.2420\n",
        "Epoch 36/50\n",
        "0s - loss: 0.8900 - acc: 0.2552 - val_loss: 0.8929 - val_acc: 0.2420\n"
       ]
      },
      {
       "output_type": "stream",
       "stream": "stdout",
       "text": [
        "Epoch 37/50\n",
        "0s - loss: 0.8888 - acc: 0.2552 - val_loss: 0.8917 - val_acc: 0.2420\n",
        "Epoch 38/50\n",
        "0s - loss: 0.8876 - acc: 0.2552 - val_loss: 0.8906 - val_acc: 0.2420\n"
       ]
      },
      {
       "output_type": "stream",
       "stream": "stdout",
       "text": [
        "Epoch 39/50\n",
        "0s - loss: 0.8865 - acc: 0.2552 - val_loss: 0.8894 - val_acc: 0.2420\n",
        "Epoch 40/50\n",
        "0s - loss: 0.8854 - acc: 0.2552 - val_loss: 0.8883 - val_acc: 0.2420\n"
       ]
      },
      {
       "output_type": "stream",
       "stream": "stdout",
       "text": [
        "Epoch 41/50\n",
        "0s - loss: 0.8843 - acc: 0.2552 - val_loss: 0.8873 - val_acc: 0.2420\n",
        "Epoch 42/50\n",
        "0s - loss: 0.8832 - acc: 0.2552 - val_loss: 0.8863 - val_acc: 0.2420\n"
       ]
      },
      {
       "output_type": "stream",
       "stream": "stdout",
       "text": [
        "Epoch 43/50\n",
        "0s - loss: 0.8822 - acc: 0.2552 - val_loss: 0.8853 - val_acc: 0.2420\n",
        "Epoch 44/50\n",
        "0s - loss: 0.8812 - acc: 0.2552 - val_loss: 0.8843 - val_acc: 0.2420\n"
       ]
      },
      {
       "output_type": "stream",
       "stream": "stdout",
       "text": [
        "Epoch 45/50\n",
        "0s - loss: 0.8803 - acc: 0.2552 - val_loss: 0.8834 - val_acc: 0.2420\n",
        "Epoch 46/50\n",
        "0s - loss: 0.8793 - acc: 0.2552 - val_loss: 0.8824 - val_acc: 0.2420\n"
       ]
      },
      {
       "output_type": "stream",
       "stream": "stdout",
       "text": [
        "Epoch 47/50\n",
        "0s - loss: 0.8784 - acc: 0.2552 - val_loss: 0.8816 - val_acc: 0.2420\n",
        "Epoch 48/50\n",
        "0s - loss: 0.8776 - acc: 0.2552 - val_loss: 0.8807 - val_acc: 0.2420\n"
       ]
      },
      {
       "output_type": "stream",
       "stream": "stdout",
       "text": [
        "Epoch 49/50\n",
        "0s - loss: 0.8767 - acc: 0.2553 - val_loss: 0.8799 - val_acc: 0.2420\n",
        "Epoch 50/50\n",
        "0s - loss: 0.8759 - acc: 0.2552 - val_loss: 0.8790 - val_acc: 0.2420\n"
       ]
      },
      {
       "output_type": "stream",
       "stream": "stdout",
       "text": [
        "\r",
        " 200/1000 [=====>........................] - ETA: 0s"
       ]
      },
      {
       "output_type": "stream",
       "stream": "stdout",
       "text": [
        "\r",
        " 200/1000 [=====>........................] - ETA: 0s"
       ]
      },
      {
       "output_type": "stream",
       "stream": "stdout",
       "text": [
        "Train on 4000 samples, validate on 1000 samples\n",
        "Epoch 1/50\n",
        "0s - loss: 1.5324 - acc: 0.2395 - val_loss: 1.5101 - val_acc: 0.2510\n",
        "Epoch 2/50\n",
        "0s - loss: 1.5241 - acc: 0.2395 - val_loss: 1.5026 - val_acc: 0.2510\n"
       ]
      },
      {
       "output_type": "stream",
       "stream": "stdout",
       "text": [
        "Epoch 3/50\n",
        "0s - loss: 1.5161 - acc: 0.2395 - val_loss: 1.4953 - val_acc: 0.2510\n",
        "Epoch 4/50\n",
        "0s - loss: 1.5084 - acc: 0.2530 - val_loss: 1.4884 - val_acc: 0.2700\n"
       ]
      },
      {
       "output_type": "stream",
       "stream": "stdout",
       "text": [
        "Epoch 5/50\n",
        "0s - loss: 1.5011 - acc: 0.2597 - val_loss: 1.4819 - val_acc: 0.2700\n",
        "Epoch 6/50\n",
        "0s - loss: 1.4941 - acc: 0.2598 - val_loss: 1.4756 - val_acc: 0.2700\n"
       ]
      },
      {
       "output_type": "stream",
       "stream": "stdout",
       "text": [
        "Epoch 7/50\n",
        "0s - loss: 1.4874 - acc: 0.2597 - val_loss: 1.4696 - val_acc: 0.2700\n",
        "Epoch 8/50\n",
        "0s - loss: 1.4810 - acc: 0.2597 - val_loss: 1.4639 - val_acc: 0.2700\n"
       ]
      },
      {
       "output_type": "stream",
       "stream": "stdout",
       "text": [
        "Epoch 9/50\n",
        "0s - loss: 1.4749 - acc: 0.2597 - val_loss: 1.4585 - val_acc: 0.2700\n",
        "Epoch 10/50\n",
        "0s - loss: 1.4692 - acc: 0.2598 - val_loss: 1.4534 - val_acc: 0.2700\n"
       ]
      },
      {
       "output_type": "stream",
       "stream": "stdout",
       "text": [
        "Epoch 11/50\n",
        "0s - loss: 1.4637 - acc: 0.2597 - val_loss: 1.4485 - val_acc: 0.2700\n",
        "Epoch 12/50\n",
        "0s - loss: 1.4585 - acc: 0.2597 - val_loss: 1.4440 - val_acc: 0.2700\n"
       ]
      },
      {
       "output_type": "stream",
       "stream": "stdout",
       "text": [
        "Epoch 13/50\n",
        "0s - loss: 1.4535 - acc: 0.2597 - val_loss: 1.4397 - val_acc: 0.2700\n",
        "Epoch 14/50\n",
        "0s - loss: 1.4489 - acc: 0.2597 - val_loss: 1.4356 - val_acc: 0.2700\n"
       ]
      },
      {
       "output_type": "stream",
       "stream": "stdout",
       "text": [
        "Epoch 15/50\n",
        "0s - loss: 1.4445 - acc: 0.2598 - val_loss: 1.4318 - val_acc: 0.2700\n",
        "Epoch 16/50\n",
        "0s - loss: 1.4404 - acc: 0.2597 - val_loss: 1.4282 - val_acc: 0.2700\n"
       ]
      },
      {
       "output_type": "stream",
       "stream": "stdout",
       "text": [
        "Epoch 17/50\n",
        "0s - loss: 1.4365 - acc: 0.2597 - val_loss: 1.4248 - val_acc: 0.2700\n",
        "Epoch 18/50\n",
        "0s - loss: 1.4328 - acc: 0.2597 - val_loss: 1.4217 - val_acc: 0.2700\n"
       ]
      },
      {
       "output_type": "stream",
       "stream": "stdout",
       "text": [
        "Epoch 19/50\n",
        "0s - loss: 1.4294 - acc: 0.2597 - val_loss: 1.4188 - val_acc: 0.2700\n",
        "Epoch 20/50\n",
        "0s - loss: 1.4262 - acc: 0.2597 - val_loss: 1.4160 - val_acc: 0.2700\n"
       ]
      },
      {
       "output_type": "stream",
       "stream": "stdout",
       "text": [
        "Epoch 21/50\n",
        "0s - loss: 1.4231 - acc: 0.2597 - val_loss: 1.4135 - val_acc: 0.2700\n",
        "Epoch 22/50\n",
        "0s - loss: 1.4203 - acc: 0.2598 - val_loss: 1.4111 - val_acc: 0.2700\n"
       ]
      },
      {
       "output_type": "stream",
       "stream": "stdout",
       "text": [
        "Epoch 23/50\n",
        "0s - loss: 1.4177 - acc: 0.2597 - val_loss: 1.4089 - val_acc: 0.2700\n",
        "Epoch 24/50\n",
        "0s - loss: 1.4152 - acc: 0.2597 - val_loss: 1.4069 - val_acc: 0.2700\n"
       ]
      },
      {
       "output_type": "stream",
       "stream": "stdout",
       "text": [
        "Epoch 25/50\n",
        "0s - loss: 1.4130 - acc: 0.2597 - val_loss: 1.4050 - val_acc: 0.2700\n",
        "Epoch 26/50\n",
        "0s - loss: 1.4108 - acc: 0.2597 - val_loss: 1.4033 - val_acc: 0.2700\n"
       ]
      },
      {
       "output_type": "stream",
       "stream": "stdout",
       "text": [
        "Epoch 27/50\n",
        "0s - loss: 1.4089 - acc: 0.2597 - val_loss: 1.4016 - val_acc: 0.2700\n",
        "Epoch 28/50\n",
        "0s - loss: 1.4070 - acc: 0.2597 - val_loss: 1.4002 - val_acc: 0.2700\n"
       ]
      },
      {
       "output_type": "stream",
       "stream": "stdout",
       "text": [
        "Epoch 29/50\n",
        "0s - loss: 1.4053 - acc: 0.2597 - val_loss: 1.3988 - val_acc: 0.2700\n",
        "Epoch 30/50\n",
        "0s - loss: 1.4038 - acc: 0.2597 - val_loss: 1.3976 - val_acc: 0.2700\n"
       ]
      },
      {
       "output_type": "stream",
       "stream": "stdout",
       "text": [
        "Epoch 31/50\n",
        "0s - loss: 1.4023 - acc: 0.2598 - val_loss: 1.3964 - val_acc: 0.2700\n",
        "Epoch 32/50\n",
        "0s - loss: 1.4010 - acc: 0.2597 - val_loss: 1.3954 - val_acc: 0.2700\n"
       ]
      },
      {
       "output_type": "stream",
       "stream": "stdout",
       "text": [
        "Epoch 33/50\n",
        "0s - loss: 1.3997 - acc: 0.2598 - val_loss: 1.3944 - val_acc: 0.2700\n",
        "Epoch 34/50\n",
        "0s - loss: 1.3986 - acc: 0.2597 - val_loss: 1.3935 - val_acc: 0.2700\n"
       ]
      },
      {
       "output_type": "stream",
       "stream": "stdout",
       "text": [
        "Epoch 35/50\n",
        "0s - loss: 1.3975 - acc: 0.2597 - val_loss: 1.3927 - val_acc: 0.2700\n",
        "Epoch 36/50\n",
        "0s - loss: 1.3966 - acc: 0.2597 - val_loss: 1.3920 - val_acc: 0.2700\n"
       ]
      },
      {
       "output_type": "stream",
       "stream": "stdout",
       "text": [
        "Epoch 37/50\n",
        "0s - loss: 1.3957 - acc: 0.2597 - val_loss: 1.3914 - val_acc: 0.2700\n",
        "Epoch 38/50\n",
        "0s - loss: 1.3948 - acc: 0.2597 - val_loss: 1.3908 - val_acc: 0.2700\n"
       ]
      },
      {
       "output_type": "stream",
       "stream": "stdout",
       "text": [
        "Epoch 39/50\n",
        "0s - loss: 1.3941 - acc: 0.2597 - val_loss: 1.3902 - val_acc: 0.2700\n",
        "Epoch 40/50\n",
        "0s - loss: 1.3934 - acc: 0.2597 - val_loss: 1.3897 - val_acc: 0.2700\n"
       ]
      },
      {
       "output_type": "stream",
       "stream": "stdout",
       "text": [
        "Epoch 41/50\n",
        "0s - loss: 1.3928 - acc: 0.2598 - val_loss: 1.3893 - val_acc: 0.2700\n",
        "Epoch 42/50\n",
        "0s - loss: 1.3922 - acc: 0.2597 - val_loss: 1.3889 - val_acc: 0.2700\n"
       ]
      },
      {
       "output_type": "stream",
       "stream": "stdout",
       "text": [
        "Epoch 43/50\n",
        "0s - loss: 1.3917 - acc: 0.2597 - val_loss: 1.3885 - val_acc: 0.2700\n",
        "Epoch 44/50\n",
        "0s - loss: 1.3912 - acc: 0.2597 - val_loss: 1.3882 - val_acc: 0.2700\n"
       ]
      },
      {
       "output_type": "stream",
       "stream": "stdout",
       "text": [
        "Epoch 45/50\n",
        "0s - loss: 1.3907 - acc: 0.2597 - val_loss: 1.3879 - val_acc: 0.2700\n",
        "Epoch 46/50\n",
        "0s - loss: 1.3903 - acc: 0.2597 - val_loss: 1.3877 - val_acc: 0.2700\n"
       ]
      },
      {
       "output_type": "stream",
       "stream": "stdout",
       "text": [
        "Epoch 47/50\n",
        "0s - loss: 1.3899 - acc: 0.2597 - val_loss: 1.3874 - val_acc: 0.2700\n",
        "Epoch 48/50\n",
        "0s - loss: 1.3896 - acc: 0.2597 - val_loss: 1.3872 - val_acc: 0.2700\n"
       ]
      },
      {
       "output_type": "stream",
       "stream": "stdout",
       "text": [
        "Epoch 49/50\n",
        "0s - loss: 1.3893 - acc: 0.2597 - val_loss: 1.3870 - val_acc: 0.2700\n",
        "Epoch 50/50\n",
        "0s - loss: 1.3890 - acc: 0.2598 - val_loss: 1.3869 - val_acc: 0.2700\n"
       ]
      },
      {
       "output_type": "stream",
       "stream": "stdout",
       "text": [
        "\r",
        " 200/1000 [=====>........................] - ETA: 0s"
       ]
      },
      {
       "output_type": "stream",
       "stream": "stdout",
       "text": [
        "\r",
        " 200/1000 [=====>........................] - ETA: 0s"
       ]
      },
      {
       "output_type": "stream",
       "stream": "stdout",
       "text": [
        "Train on 4000 samples, validate on 1000 samples\n",
        "Epoch 1/60\n",
        "0s - loss: 1.0013 - acc: 0.5067 - val_loss: 1.0006 - val_acc: 0.5100\n",
        "Epoch 2/60\n",
        "0s - loss: 0.9945 - acc: 0.5068 - val_loss: 0.9940 - val_acc: 0.5100\n"
       ]
      },
      {
       "output_type": "stream",
       "stream": "stdout",
       "text": [
        "Epoch 3/60\n",
        "0s - loss: 0.9881 - acc: 0.5067 - val_loss: 0.9879 - val_acc: 0.5100\n",
        "Epoch 4/60\n",
        "0s - loss: 0.9821 - acc: 0.5068 - val_loss: 0.9821 - val_acc: 0.5100\n"
       ]
      },
      {
       "output_type": "stream",
       "stream": "stdout",
       "text": [
        "Epoch 5/60\n",
        "0s - loss: 0.9764 - acc: 0.5067 - val_loss: 0.9767 - val_acc: 0.5100\n",
        "Epoch 6/60\n",
        "0s - loss: 0.9712 - acc: 0.5068 - val_loss: 0.9716 - val_acc: 0.5100\n"
       ]
      },
      {
       "output_type": "stream",
       "stream": "stdout",
       "text": [
        "Epoch 7/60\n",
        "0s - loss: 0.9662 - acc: 0.5067 - val_loss: 0.9668 - val_acc: 0.5100\n",
        "Epoch 8/60\n",
        "0s - loss: 0.9615 - acc: 0.5067 - val_loss: 0.9623 - val_acc: 0.5100\n"
       ]
      },
      {
       "output_type": "stream",
       "stream": "stdout",
       "text": [
        "Epoch 9/60\n",
        "0s - loss: 0.9571 - acc: 0.5068 - val_loss: 0.9580 - val_acc: 0.5100\n",
        "Epoch 10/60\n",
        "0s - loss: 0.9529 - acc: 0.5067 - val_loss: 0.9540 - val_acc: 0.5100\n"
       ]
      },
      {
       "output_type": "stream",
       "stream": "stdout",
       "text": [
        "Epoch 11/60\n",
        "0s - loss: 0.9489 - acc: 0.5068 - val_loss: 0.9501 - val_acc: 0.5100\n",
        "Epoch 12/60\n",
        "0s - loss: 0.9452 - acc: 0.5067 - val_loss: 0.9465 - val_acc: 0.5100\n"
       ]
      },
      {
       "output_type": "stream",
       "stream": "stdout",
       "text": [
        "Epoch 13/60\n",
        "0s - loss: 0.9416 - acc: 0.5067 - val_loss: 0.9431 - val_acc: 0.5100\n",
        "Epoch 14/60\n",
        "0s - loss: 0.9383 - acc: 0.5068 - val_loss: 0.9398 - val_acc: 0.5100\n"
       ]
      },
      {
       "output_type": "stream",
       "stream": "stdout",
       "text": [
        "Epoch 15/60\n",
        "0s - loss: 0.9351 - acc: 0.5067 - val_loss: 0.9367 - val_acc: 0.5100\n",
        "Epoch 16/60\n",
        "0s - loss: 0.9320 - acc: 0.5067 - val_loss: 0.9338 - val_acc: 0.5100\n"
       ]
      },
      {
       "output_type": "stream",
       "stream": "stdout",
       "text": [
        "Epoch 17/60\n",
        "0s - loss: 0.9291 - acc: 0.5067 - val_loss: 0.9309 - val_acc: 0.5100\n",
        "Epoch 18/60\n",
        "0s - loss: 0.9263 - acc: 0.5067 - val_loss: 0.9283 - val_acc: 0.5100\n"
       ]
      },
      {
       "output_type": "stream",
       "stream": "stdout",
       "text": [
        "Epoch 19/60\n",
        "0s - loss: 0.9237 - acc: 0.5067 - val_loss: 0.9257 - val_acc: 0.5100\n",
        "Epoch 20/60\n",
        "0s - loss: 0.9212 - acc: 0.5068 - val_loss: 0.9232 - val_acc: 0.5100\n"
       ]
      },
      {
       "output_type": "stream",
       "stream": "stdout",
       "text": [
        "Epoch 21/60\n",
        "0s - loss: 0.9187 - acc: 0.5067 - val_loss: 0.9209 - val_acc: 0.5100\n",
        "Epoch 22/60\n",
        "0s - loss: 0.9164 - acc: 0.5067 - val_loss: 0.9187 - val_acc: 0.5100\n"
       ]
      },
      {
       "output_type": "stream",
       "stream": "stdout",
       "text": [
        "Epoch 23/60\n",
        "0s - loss: 0.9142 - acc: 0.5068 - val_loss: 0.9165 - val_acc: 0.5100\n",
        "Epoch 24/60\n",
        "0s - loss: 0.9121 - acc: 0.5067 - val_loss: 0.9144 - val_acc: 0.5100\n"
       ]
      },
      {
       "output_type": "stream",
       "stream": "stdout",
       "text": [
        "Epoch 25/60\n",
        "0s - loss: 0.9101 - acc: 0.5067 - val_loss: 0.9125 - val_acc: 0.5100\n",
        "Epoch 26/60\n",
        "0s - loss: 0.9081 - acc: 0.5068 - val_loss: 0.9106 - val_acc: 0.5100\n"
       ]
      },
      {
       "output_type": "stream",
       "stream": "stdout",
       "text": [
        "Epoch 27/60\n",
        "0s - loss: 0.9062 - acc: 0.5067 - val_loss: 0.9087 - val_acc: 0.5100\n",
        "Epoch 28/60\n",
        "0s - loss: 0.9044 - acc: 0.5067 - val_loss: 0.9070 - val_acc: 0.5100\n"
       ]
      },
      {
       "output_type": "stream",
       "stream": "stdout",
       "text": [
        "Epoch 29/60\n",
        "0s - loss: 0.9027 - acc: 0.5067 - val_loss: 0.9053 - val_acc: 0.5100\n",
        "Epoch 30/60\n",
        "0s - loss: 0.9010 - acc: 0.3495 - val_loss: 0.9037 - val_acc: 0.2420\n"
       ]
      },
      {
       "output_type": "stream",
       "stream": "stdout",
       "text": [
        "Epoch 31/60\n",
        "0s - loss: 0.8994 - acc: 0.3567 - val_loss: 0.9021 - val_acc: 0.2420\n",
        "Epoch 32/60\n",
        "0s - loss: 0.8979 - acc: 0.2552 - val_loss: 0.9006 - val_acc: 0.2420\n"
       ]
      },
      {
       "output_type": "stream",
       "stream": "stdout",
       "text": [
        "Epoch 33/60\n",
        "0s - loss: 0.8964 - acc: 0.3113 - val_loss: 0.8991 - val_acc: 0.2420\n",
        "Epoch 34/60\n",
        "0s - loss: 0.8949 - acc: 0.2552 - val_loss: 0.8977 - val_acc: 0.2420\n"
       ]
      },
      {
       "output_type": "stream",
       "stream": "stdout",
       "text": [
        "Epoch 35/60\n",
        "0s - loss: 0.8935 - acc: 0.2552 - val_loss: 0.8964 - val_acc: 0.2420\n",
        "Epoch 36/60\n",
        "0s - loss: 0.8922 - acc: 0.2552 - val_loss: 0.8950 - val_acc: 0.2420\n"
       ]
      },
      {
       "output_type": "stream",
       "stream": "stdout",
       "text": [
        "Epoch 37/60\n",
        "0s - loss: 0.8909 - acc: 0.2552 - val_loss: 0.8938 - val_acc: 0.2420\n",
        "Epoch 38/60\n",
        "0s - loss: 0.8896 - acc: 0.2552 - val_loss: 0.8925 - val_acc: 0.2420\n"
       ]
      },
      {
       "output_type": "stream",
       "stream": "stdout",
       "text": [
        "Epoch 39/60\n",
        "0s - loss: 0.8884 - acc: 0.2552 - val_loss: 0.8914 - val_acc: 0.2420\n",
        "Epoch 40/60\n",
        "0s - loss: 0.8872 - acc: 0.2552 - val_loss: 0.8902 - val_acc: 0.2420\n"
       ]
      },
      {
       "output_type": "stream",
       "stream": "stdout",
       "text": [
        "Epoch 41/60\n",
        "0s - loss: 0.8861 - acc: 0.2553 - val_loss: 0.8891 - val_acc: 0.2420\n",
        "Epoch 42/60\n",
        "0s - loss: 0.8850 - acc: 0.2553 - val_loss: 0.8880 - val_acc: 0.2420\n"
       ]
      },
      {
       "output_type": "stream",
       "stream": "stdout",
       "text": [
        "Epoch 43/60\n",
        "0s - loss: 0.8839 - acc: 0.2552 - val_loss: 0.8870 - val_acc: 0.2420\n",
        "Epoch 44/60\n",
        "0s - loss: 0.8829 - acc: 0.2552 - val_loss: 0.8859 - val_acc: 0.2420\n"
       ]
      },
      {
       "output_type": "stream",
       "stream": "stdout",
       "text": [
        "Epoch 45/60\n",
        "0s - loss: 0.8819 - acc: 0.2552 - val_loss: 0.8849 - val_acc: 0.2420\n",
        "Epoch 46/60\n",
        "0s - loss: 0.8809 - acc: 0.2552 - val_loss: 0.8840 - val_acc: 0.2420\n"
       ]
      },
      {
       "output_type": "stream",
       "stream": "stdout",
       "text": [
        "Epoch 47/60\n",
        "0s - loss: 0.8800 - acc: 0.2552 - val_loss: 0.8831 - val_acc: 0.2420\n",
        "Epoch 48/60\n",
        "0s - loss: 0.8790 - acc: 0.2553 - val_loss: 0.8822 - val_acc: 0.2420\n"
       ]
      },
      {
       "output_type": "stream",
       "stream": "stdout",
       "text": [
        "Epoch 49/60\n",
        "0s - loss: 0.8782 - acc: 0.2553 - val_loss: 0.8813 - val_acc: 0.2420\n",
        "Epoch 50/60\n",
        "0s - loss: 0.8773 - acc: 0.2552 - val_loss: 0.8804 - val_acc: 0.2420\n"
       ]
      },
      {
       "output_type": "stream",
       "stream": "stdout",
       "text": [
        "Epoch 51/60\n",
        "0s - loss: 0.8764 - acc: 0.2552 - val_loss: 0.8796 - val_acc: 0.2420\n",
        "Epoch 52/60\n",
        "0s - loss: 0.8756 - acc: 0.2552 - val_loss: 0.8788 - val_acc: 0.2420\n"
       ]
      },
      {
       "output_type": "stream",
       "stream": "stdout",
       "text": [
        "Epoch 53/60\n",
        "0s - loss: 0.8748 - acc: 0.2552 - val_loss: 0.8780 - val_acc: 0.2420\n",
        "Epoch 54/60\n",
        "0s - loss: 0.8740 - acc: 0.2553 - val_loss: 0.8772 - val_acc: 0.2420\n"
       ]
      },
      {
       "output_type": "stream",
       "stream": "stdout",
       "text": [
        "Epoch 55/60\n",
        "0s - loss: 0.8733 - acc: 0.2552 - val_loss: 0.8765 - val_acc: 0.2420\n",
        "Epoch 56/60\n",
        "0s - loss: 0.8725 - acc: 0.2552 - val_loss: 0.8757 - val_acc: 0.2420\n"
       ]
      },
      {
       "output_type": "stream",
       "stream": "stdout",
       "text": [
        "Epoch 57/60\n",
        "0s - loss: 0.8718 - acc: 0.2552 - val_loss: 0.8750 - val_acc: 0.2420\n",
        "Epoch 58/60\n",
        "0s - loss: 0.8711 - acc: 0.2552 - val_loss: 0.8743 - val_acc: 0.2420\n"
       ]
      },
      {
       "output_type": "stream",
       "stream": "stdout",
       "text": [
        "Epoch 59/60\n",
        "0s - loss: 0.8704 - acc: 0.2552 - val_loss: 0.8737 - val_acc: 0.2420\n",
        "Epoch 60/60\n",
        "0s - loss: 0.8698 - acc: 0.2552 - val_loss: 0.8730 - val_acc: 0.2420\n"
       ]
      },
      {
       "output_type": "stream",
       "stream": "stdout",
       "text": [
        "\r",
        " 200/1000 [=====>........................] - ETA: 0s"
       ]
      },
      {
       "output_type": "stream",
       "stream": "stdout",
       "text": [
        "\r",
        " 200/1000 [=====>........................] - ETA: 0s"
       ]
      },
      {
       "output_type": "stream",
       "stream": "stdout",
       "text": [
        "Train on 4000 samples, validate on 1000 samples\n",
        "Epoch 1/60\n",
        "0s - loss: 1.5533 - acc: 0.2395 - val_loss: 1.5291 - val_acc: 0.2510\n",
        "Epoch 2/60\n",
        "0s - loss: 1.5442 - acc: 0.2395 - val_loss: 1.5208 - val_acc: 0.2510\n"
       ]
      },
      {
       "output_type": "stream",
       "stream": "stdout",
       "text": [
        "Epoch 3/60\n",
        "0s - loss: 1.5354 - acc: 0.2395 - val_loss: 1.5129 - val_acc: 0.2510\n",
        "Epoch 4/60\n",
        "0s - loss: 1.5270 - acc: 0.2310 - val_loss: 1.5052 - val_acc: 0.2700\n"
       ]
      },
      {
       "output_type": "stream",
       "stream": "stdout",
       "text": [
        "Epoch 5/60\n",
        "0s - loss: 1.5189 - acc: 0.2597 - val_loss: 1.4979 - val_acc: 0.2700\n",
        "Epoch 6/60\n",
        "0s - loss: 1.5111 - acc: 0.2597 - val_loss: 1.4909 - val_acc: 0.2700\n"
       ]
      },
      {
       "output_type": "stream",
       "stream": "stdout",
       "text": [
        "Epoch 7/60\n",
        "0s - loss: 1.5037 - acc: 0.2597 - val_loss: 1.4842 - val_acc: 0.2700\n",
        "Epoch 8/60\n",
        "0s - loss: 1.4966 - acc: 0.2597 - val_loss: 1.4778 - val_acc: 0.2700\n"
       ]
      },
      {
       "output_type": "stream",
       "stream": "stdout",
       "text": [
        "Epoch 9/60\n",
        "0s - loss: 1.4898 - acc: 0.2597 - val_loss: 1.4717 - val_acc: 0.2700\n",
        "Epoch 10/60\n",
        "0s - loss: 1.4833 - acc: 0.2597 - val_loss: 1.4659 - val_acc: 0.2700\n"
       ]
      },
      {
       "output_type": "stream",
       "stream": "stdout",
       "text": [
        "Epoch 11/60\n",
        "0s - loss: 1.4771 - acc: 0.2597 - val_loss: 1.4604 - val_acc: 0.2700\n",
        "Epoch 12/60\n",
        "0s - loss: 1.4712 - acc: 0.2597 - val_loss: 1.4552 - val_acc: 0.2700\n"
       ]
      },
      {
       "output_type": "stream",
       "stream": "stdout",
       "text": [
        "Epoch 13/60\n",
        "0s - loss: 1.4656 - acc: 0.2597 - val_loss: 1.4503 - val_acc: 0.2700\n",
        "Epoch 14/60\n",
        "0s - loss: 1.4603 - acc: 0.2597 - val_loss: 1.4456 - val_acc: 0.2700\n"
       ]
      },
      {
       "output_type": "stream",
       "stream": "stdout",
       "text": [
        "Epoch 15/60\n",
        "0s - loss: 1.4553 - acc: 0.2597 - val_loss: 1.4412 - val_acc: 0.2700\n",
        "Epoch 16/60\n",
        "0s - loss: 1.4505 - acc: 0.2597 - val_loss: 1.4371 - val_acc: 0.2700\n"
       ]
      },
      {
       "output_type": "stream",
       "stream": "stdout",
       "text": [
        "Epoch 17/60\n",
        "0s - loss: 1.4461 - acc: 0.2598 - val_loss: 1.4331 - val_acc: 0.2700\n",
        "Epoch 18/60\n",
        "0s - loss: 1.4418 - acc: 0.2597 - val_loss: 1.4295 - val_acc: 0.2700\n"
       ]
      },
      {
       "output_type": "stream",
       "stream": "stdout",
       "text": [
        "Epoch 19/60\n",
        "0s - loss: 1.4378 - acc: 0.2597 - val_loss: 1.4260 - val_acc: 0.2700\n",
        "Epoch 20/60\n",
        "0s - loss: 1.4341 - acc: 0.2597 - val_loss: 1.4228 - val_acc: 0.2700\n"
       ]
      },
      {
       "output_type": "stream",
       "stream": "stdout",
       "text": [
        "Epoch 21/60\n",
        "0s - loss: 1.4306 - acc: 0.2597 - val_loss: 1.4198 - val_acc: 0.2700\n",
        "Epoch 22/60\n",
        "0s - loss: 1.4273 - acc: 0.2597 - val_loss: 1.4170 - val_acc: 0.2700\n"
       ]
      },
      {
       "output_type": "stream",
       "stream": "stdout",
       "text": [
        "Epoch 23/60\n",
        "0s - loss: 1.4242 - acc: 0.2598 - val_loss: 1.4144 - val_acc: 0.2700\n",
        "Epoch 24/60\n",
        "0s - loss: 1.4213 - acc: 0.2598 - val_loss: 1.4120 - val_acc: 0.2700\n"
       ]
      },
      {
       "output_type": "stream",
       "stream": "stdout",
       "text": [
        "Epoch 25/60\n",
        "0s - loss: 1.4186 - acc: 0.2597 - val_loss: 1.4097 - val_acc: 0.2700\n",
        "Epoch 26/60\n",
        "0s - loss: 1.4161 - acc: 0.2598 - val_loss: 1.4076 - val_acc: 0.2700\n"
       ]
      },
      {
       "output_type": "stream",
       "stream": "stdout",
       "text": [
        "Epoch 27/60\n",
        "0s - loss: 1.4138 - acc: 0.2597 - val_loss: 1.4057 - val_acc: 0.2700\n",
        "Epoch 28/60\n",
        "0s - loss: 1.4116 - acc: 0.2597 - val_loss: 1.4039 - val_acc: 0.2700\n"
       ]
      },
      {
       "output_type": "stream",
       "stream": "stdout",
       "text": [
        "Epoch 29/60\n",
        "0s - loss: 1.4095 - acc: 0.2597 - val_loss: 1.4022 - val_acc: 0.2700\n",
        "Epoch 30/60\n",
        "0s - loss: 1.4077 - acc: 0.2598 - val_loss: 1.4007 - val_acc: 0.2700\n"
       ]
      },
      {
       "output_type": "stream",
       "stream": "stdout",
       "text": [
        "Epoch 31/60\n",
        "0s - loss: 1.4059 - acc: 0.2598 - val_loss: 1.3993 - val_acc: 0.2700\n",
        "Epoch 32/60\n",
        "0s - loss: 1.4043 - acc: 0.2597 - val_loss: 1.3980 - val_acc: 0.2700\n"
       ]
      },
      {
       "output_type": "stream",
       "stream": "stdout",
       "text": [
        "Epoch 33/60\n",
        "0s - loss: 1.4028 - acc: 0.2597 - val_loss: 1.3968 - val_acc: 0.2700\n",
        "Epoch 34/60\n",
        "0s - loss: 1.4014 - acc: 0.2597 - val_loss: 1.3957 - val_acc: 0.2700\n"
       ]
      },
      {
       "output_type": "stream",
       "stream": "stdout",
       "text": [
        "Epoch 35/60\n",
        "0s - loss: 1.4001 - acc: 0.2597 - val_loss: 1.3947 - val_acc: 0.2700\n",
        "Epoch 36/60\n",
        "0s - loss: 1.3990 - acc: 0.2598 - val_loss: 1.3938 - val_acc: 0.2700\n"
       ]
      },
      {
       "output_type": "stream",
       "stream": "stdout",
       "text": [
        "Epoch 37/60\n",
        "0s - loss: 1.3979 - acc: 0.2597 - val_loss: 1.3930 - val_acc: 0.2700\n",
        "Epoch 38/60\n",
        "0s - loss: 1.3969 - acc: 0.2597 - val_loss: 1.3923 - val_acc: 0.2700\n"
       ]
      },
      {
       "output_type": "stream",
       "stream": "stdout",
       "text": [
        "Epoch 39/60\n",
        "0s - loss: 1.3960 - acc: 0.2598 - val_loss: 1.3916 - val_acc: 0.2700\n",
        "Epoch 40/60\n",
        "0s - loss: 1.3951 - acc: 0.2597 - val_loss: 1.3910 - val_acc: 0.2700\n"
       ]
      },
      {
       "output_type": "stream",
       "stream": "stdout",
       "text": [
        "Epoch 41/60\n",
        "0s - loss: 1.3943 - acc: 0.2597 - val_loss: 1.3904 - val_acc: 0.2700\n",
        "Epoch 42/60\n",
        "0s - loss: 1.3936 - acc: 0.2598 - val_loss: 1.3899 - val_acc: 0.2700\n"
       ]
      },
      {
       "output_type": "stream",
       "stream": "stdout",
       "text": [
        "Epoch 43/60\n",
        "0s - loss: 1.3930 - acc: 0.2597 - val_loss: 1.3894 - val_acc: 0.2700\n",
        "Epoch 44/60\n",
        "0s - loss: 1.3924 - acc: 0.2597 - val_loss: 1.3890 - val_acc: 0.2700\n"
       ]
      },
      {
       "output_type": "stream",
       "stream": "stdout",
       "text": [
        "Epoch 45/60\n",
        "0s - loss: 1.3918 - acc: 0.2597 - val_loss: 1.3886 - val_acc: 0.2700\n",
        "Epoch 46/60\n",
        "0s - loss: 1.3913 - acc: 0.2598 - val_loss: 1.3883 - val_acc: 0.2700\n"
       ]
      },
      {
       "output_type": "stream",
       "stream": "stdout",
       "text": [
        "Epoch 47/60\n",
        "0s - loss: 1.3909 - acc: 0.2597 - val_loss: 1.3880 - val_acc: 0.2700\n",
        "Epoch 48/60\n",
        "0s - loss: 1.3904 - acc: 0.2597 - val_loss: 1.3877 - val_acc: 0.2700\n"
       ]
      },
      {
       "output_type": "stream",
       "stream": "stdout",
       "text": [
        "Epoch 49/60\n",
        "0s - loss: 1.3901 - acc: 0.2598 - val_loss: 1.3875 - val_acc: 0.2700\n",
        "Epoch 50/60\n",
        "0s - loss: 1.3897 - acc: 0.2597 - val_loss: 1.3873 - val_acc: 0.2700\n"
       ]
      },
      {
       "output_type": "stream",
       "stream": "stdout",
       "text": [
        "Epoch 51/60\n",
        "0s - loss: 1.3894 - acc: 0.2597 - val_loss: 1.3871 - val_acc: 0.2700\n",
        "Epoch 52/60\n",
        "0s - loss: 1.3891 - acc: 0.2597 - val_loss: 1.3869 - val_acc: 0.2700\n"
       ]
      },
      {
       "output_type": "stream",
       "stream": "stdout",
       "text": [
        "Epoch 53/60\n",
        "0s - loss: 1.3888 - acc: 0.2597 - val_loss: 1.3868 - val_acc: 0.2700\n",
        "Epoch 54/60\n",
        "0s - loss: 1.3886 - acc: 0.2598 - val_loss: 1.3867 - val_acc: 0.2700\n"
       ]
      },
      {
       "output_type": "stream",
       "stream": "stdout",
       "text": [
        "Epoch 55/60\n",
        "0s - loss: 1.3884 - acc: 0.2597 - val_loss: 1.3865 - val_acc: 0.2700\n",
        "Epoch 56/60\n",
        "0s - loss: 1.3882 - acc: 0.2597 - val_loss: 1.3864 - val_acc: 0.2700\n"
       ]
      },
      {
       "output_type": "stream",
       "stream": "stdout",
       "text": [
        "Epoch 57/60\n",
        "0s - loss: 1.3880 - acc: 0.2598 - val_loss: 1.3864 - val_acc: 0.2700\n",
        "Epoch 58/60\n",
        "0s - loss: 1.3878 - acc: 0.2597 - val_loss: 1.3863 - val_acc: 0.2700\n"
       ]
      },
      {
       "output_type": "stream",
       "stream": "stdout",
       "text": [
        "Epoch 59/60\n",
        "0s - loss: 1.3877 - acc: 0.2598 - val_loss: 1.3862 - val_acc: 0.2700\n",
        "Epoch 60/60\n",
        "0s - loss: 1.3875 - acc: 0.2598 - val_loss: 1.3862 - val_acc: 0.2700\n"
       ]
      },
      {
       "output_type": "stream",
       "stream": "stdout",
       "text": [
        "\r",
        " 200/1000 [=====>........................] - ETA: 0s"
       ]
      },
      {
       "output_type": "stream",
       "stream": "stdout",
       "text": [
        "\r",
        " 200/1000 [=====>........................] - ETA: 0s"
       ]
      },
      {
       "output_type": "stream",
       "stream": "stdout",
       "text": [
        "Train on 4000 samples, validate on 1000 samples\n",
        "Epoch 1/70\n",
        "0s - loss: 1.0101 - acc: 0.5067 - val_loss: 1.0090 - val_acc: 0.5100\n",
        "Epoch 2/70\n",
        "0s - loss: 1.0026 - acc: 0.5068 - val_loss: 1.0019 - val_acc: 0.5100\n"
       ]
      },
      {
       "output_type": "stream",
       "stream": "stdout",
       "text": [
        "Epoch 3/70\n",
        "0s - loss: 0.9957 - acc: 0.5068 - val_loss: 0.9952 - val_acc: 0.5100\n",
        "Epoch 4/70\n",
        "0s - loss: 0.9892 - acc: 0.5067 - val_loss: 0.9890 - val_acc: 0.5100\n"
       ]
      },
      {
       "output_type": "stream",
       "stream": "stdout",
       "text": [
        "Epoch 5/70\n",
        "0s - loss: 0.9831 - acc: 0.5067 - val_loss: 0.9831 - val_acc: 0.5100\n",
        "Epoch 6/70\n",
        "0s - loss: 0.9774 - acc: 0.5067 - val_loss: 0.9777 - val_acc: 0.5100\n"
       ]
      },
      {
       "output_type": "stream",
       "stream": "stdout",
       "text": [
        "Epoch 7/70\n",
        "0s - loss: 0.9721 - acc: 0.5067 - val_loss: 0.9725 - val_acc: 0.5100\n",
        "Epoch 8/70\n",
        "0s - loss: 0.9671 - acc: 0.5067 - val_loss: 0.9676 - val_acc: 0.5100\n"
       ]
      },
      {
       "output_type": "stream",
       "stream": "stdout",
       "text": [
        "Epoch 9/70\n",
        "0s - loss: 0.9623 - acc: 0.5067 - val_loss: 0.9631 - val_acc: 0.5100\n",
        "Epoch 10/70\n",
        "0s - loss: 0.9578 - acc: 0.5068 - val_loss: 0.9588 - val_acc: 0.5100\n"
       ]
      },
      {
       "output_type": "stream",
       "stream": "stdout",
       "text": [
        "Epoch 11/70\n",
        "0s - loss: 0.9536 - acc: 0.5067 - val_loss: 0.9547 - val_acc: 0.5100\n",
        "Epoch 12/70\n",
        "0s - loss: 0.9496 - acc: 0.5067 - val_loss: 0.9508 - val_acc: 0.5100\n"
       ]
      },
      {
       "output_type": "stream",
       "stream": "stdout",
       "text": [
        "Epoch 13/70\n",
        "0s - loss: 0.9458 - acc: 0.5067 - val_loss: 0.9472 - val_acc: 0.5100\n",
        "Epoch 14/70\n",
        "0s - loss: 0.9422 - acc: 0.5068 - val_loss: 0.9437 - val_acc: 0.5100\n"
       ]
      },
      {
       "output_type": "stream",
       "stream": "stdout",
       "text": [
        "Epoch 15/70\n",
        "0s - loss: 0.9388 - acc: 0.5067 - val_loss: 0.9404 - val_acc: 0.5100\n",
        "Epoch 16/70\n",
        "0s - loss: 0.9356 - acc: 0.5068 - val_loss: 0.9373 - val_acc: 0.5100\n"
       ]
      },
      {
       "output_type": "stream",
       "stream": "stdout",
       "text": [
        "Epoch 17/70\n",
        "0s - loss: 0.9325 - acc: 0.5067 - val_loss: 0.9343 - val_acc: 0.5100\n",
        "Epoch 18/70\n",
        "0s - loss: 0.9296 - acc: 0.5068 - val_loss: 0.9314 - val_acc: 0.5100\n"
       ]
      },
      {
       "output_type": "stream",
       "stream": "stdout",
       "text": [
        "Epoch 19/70\n",
        "0s - loss: 0.9268 - acc: 0.5067 - val_loss: 0.9287 - val_acc: 0.5100\n",
        "Epoch 20/70\n",
        "0s - loss: 0.9241 - acc: 0.5067 - val_loss: 0.9261 - val_acc: 0.5100\n"
       ]
      },
      {
       "output_type": "stream",
       "stream": "stdout",
       "text": [
        "Epoch 21/70\n",
        "0s - loss: 0.9216 - acc: 0.5067 - val_loss: 0.9237 - val_acc: 0.5100\n",
        "Epoch 22/70\n",
        "0s - loss: 0.9191 - acc: 0.5067 - val_loss: 0.9213 - val_acc: 0.5100\n"
       ]
      },
      {
       "output_type": "stream",
       "stream": "stdout",
       "text": [
        "Epoch 23/70\n",
        "0s - loss: 0.9168 - acc: 0.5068 - val_loss: 0.9190 - val_acc: 0.5100\n",
        "Epoch 24/70\n",
        "0s - loss: 0.9146 - acc: 0.5068 - val_loss: 0.9169 - val_acc: 0.5100\n"
       ]
      },
      {
       "output_type": "stream",
       "stream": "stdout",
       "text": [
        "Epoch 25/70\n",
        "0s - loss: 0.9124 - acc: 0.5067 - val_loss: 0.9148 - val_acc: 0.5100\n",
        "Epoch 26/70\n",
        "0s - loss: 0.9104 - acc: 0.5067 - val_loss: 0.9128 - val_acc: 0.5100\n"
       ]
      },
      {
       "output_type": "stream",
       "stream": "stdout",
       "text": [
        "Epoch 27/70\n",
        "0s - loss: 0.9084 - acc: 0.5068 - val_loss: 0.9109 - val_acc: 0.5100\n",
        "Epoch 28/70\n",
        "0s - loss: 0.9065 - acc: 0.5067 - val_loss: 0.9090 - val_acc: 0.5100\n"
       ]
      },
      {
       "output_type": "stream",
       "stream": "stdout",
       "text": [
        "Epoch 29/70\n",
        "0s - loss: 0.9047 - acc: 0.4910 - val_loss: 0.9073 - val_acc: 0.5100\n",
        "Epoch 30/70\n",
        "0s - loss: 0.9030 - acc: 0.3407 - val_loss: 0.9056 - val_acc: 0.5100\n"
       ]
      },
      {
       "output_type": "stream",
       "stream": "stdout",
       "text": [
        "Epoch 31/70\n",
        "0s - loss: 0.9013 - acc: 0.3347 - val_loss: 0.9039 - val_acc: 0.2420\n",
        "Epoch 32/70\n",
        "0s - loss: 0.8997 - acc: 0.3020 - val_loss: 0.9024 - val_acc: 0.2420\n"
       ]
      },
      {
       "output_type": "stream",
       "stream": "stdout",
       "text": [
        "Epoch 33/70\n",
        "0s - loss: 0.8981 - acc: 0.2552 - val_loss: 0.9008 - val_acc: 0.2420\n",
        "Epoch 34/70\n",
        "0s - loss: 0.8966 - acc: 0.2797 - val_loss: 0.8994 - val_acc: 0.2420\n"
       ]
      },
      {
       "output_type": "stream",
       "stream": "stdout",
       "text": [
        "Epoch 35/70\n",
        "0s - loss: 0.8952 - acc: 0.2552 - val_loss: 0.8980 - val_acc: 0.2420\n",
        "Epoch 36/70\n",
        "0s - loss: 0.8938 - acc: 0.2552 - val_loss: 0.8966 - val_acc: 0.2420\n"
       ]
      },
      {
       "output_type": "stream",
       "stream": "stdout",
       "text": [
        "Epoch 37/70\n",
        "0s - loss: 0.8924 - acc: 0.2553 - val_loss: 0.8953 - val_acc: 0.2420\n",
        "Epoch 38/70\n",
        "0s - loss: 0.8911 - acc: 0.2553 - val_loss: 0.8940 - val_acc: 0.2420\n"
       ]
      },
      {
       "output_type": "stream",
       "stream": "stdout",
       "text": [
        "Epoch 39/70\n",
        "0s - loss: 0.8898 - acc: 0.2553 - val_loss: 0.8927 - val_acc: 0.2420\n",
        "Epoch 40/70\n",
        "0s - loss: 0.8886 - acc: 0.2553 - val_loss: 0.8916 - val_acc: 0.2420\n"
       ]
      },
      {
       "output_type": "stream",
       "stream": "stdout",
       "text": [
        "Epoch 41/70\n",
        "0s - loss: 0.8874 - acc: 0.2553 - val_loss: 0.8904 - val_acc: 0.2420\n",
        "Epoch 42/70\n",
        "0s - loss: 0.8863 - acc: 0.2552 - val_loss: 0.8893 - val_acc: 0.2420\n"
       ]
      },
      {
       "output_type": "stream",
       "stream": "stdout",
       "text": [
        "Epoch 43/70\n",
        "0s - loss: 0.8852 - acc: 0.2552 - val_loss: 0.8882 - val_acc: 0.2420\n",
        "Epoch 44/70\n",
        "0s - loss: 0.8841 - acc: 0.2552 - val_loss: 0.8871 - val_acc: 0.2420\n"
       ]
      },
      {
       "output_type": "stream",
       "stream": "stdout",
       "text": [
        "Epoch 45/70\n",
        "0s - loss: 0.8831 - acc: 0.2552 - val_loss: 0.8861 - val_acc: 0.2420\n",
        "Epoch 46/70\n",
        "0s - loss: 0.8820 - acc: 0.2552 - val_loss: 0.8851 - val_acc: 0.2420\n"
       ]
      },
      {
       "output_type": "stream",
       "stream": "stdout",
       "text": [
        "Epoch 47/70\n",
        "0s - loss: 0.8811 - acc: 0.2552 - val_loss: 0.8841 - val_acc: 0.2420\n",
        "Epoch 48/70\n",
        "0s - loss: 0.8801 - acc: 0.2552 - val_loss: 0.8832 - val_acc: 0.2420\n"
       ]
      },
      {
       "output_type": "stream",
       "stream": "stdout",
       "text": [
        "Epoch 49/70\n",
        "0s - loss: 0.8792 - acc: 0.2552 - val_loss: 0.8823 - val_acc: 0.2420\n",
        "Epoch 50/70\n",
        "0s - loss: 0.8783 - acc: 0.2552 - val_loss: 0.8814 - val_acc: 0.2420\n"
       ]
      },
      {
       "output_type": "stream",
       "stream": "stdout",
       "text": [
        "Epoch 51/70\n",
        "0s - loss: 0.8774 - acc: 0.2552 - val_loss: 0.8806 - val_acc: 0.2420\n",
        "Epoch 52/70\n",
        "0s - loss: 0.8766 - acc: 0.2552 - val_loss: 0.8797 - val_acc: 0.2420\n"
       ]
      },
      {
       "output_type": "stream",
       "stream": "stdout",
       "text": [
        "Epoch 53/70\n",
        "0s - loss: 0.8757 - acc: 0.2553 - val_loss: 0.8789 - val_acc: 0.2420\n",
        "Epoch 54/70\n",
        "0s - loss: 0.8749 - acc: 0.2552 - val_loss: 0.8781 - val_acc: 0.2420\n"
       ]
      },
      {
       "output_type": "stream",
       "stream": "stdout",
       "text": [
        "Epoch 55/70\n",
        "0s - loss: 0.8741 - acc: 0.2552 - val_loss: 0.8773 - val_acc: 0.2420\n",
        "Epoch 56/70\n",
        "0s - loss: 0.8734 - acc: 0.2552 - val_loss: 0.8766 - val_acc: 0.2420\n"
       ]
      },
      {
       "output_type": "stream",
       "stream": "stdout",
       "text": [
        "Epoch 57/70\n",
        "0s - loss: 0.8726 - acc: 0.2552 - val_loss: 0.8759 - val_acc: 0.2420\n",
        "Epoch 58/70\n",
        "0s - loss: 0.8719 - acc: 0.2552 - val_loss: 0.8751 - val_acc: 0.2420\n"
       ]
      },
      {
       "output_type": "stream",
       "stream": "stdout",
       "text": [
        "Epoch 59/70\n",
        "0s - loss: 0.8712 - acc: 0.2552 - val_loss: 0.8744 - val_acc: 0.2420\n",
        "Epoch 60/70\n",
        "0s - loss: 0.8705 - acc: 0.2552 - val_loss: 0.8738 - val_acc: 0.2420\n"
       ]
      },
      {
       "output_type": "stream",
       "stream": "stdout",
       "text": [
        "Epoch 61/70\n",
        "0s - loss: 0.8698 - acc: 0.2552 - val_loss: 0.8731 - val_acc: 0.2420\n",
        "Epoch 62/70\n",
        "0s - loss: 0.8692 - acc: 0.2552 - val_loss: 0.8725 - val_acc: 0.2420\n"
       ]
      },
      {
       "output_type": "stream",
       "stream": "stdout",
       "text": [
        "Epoch 63/70\n",
        "0s - loss: 0.8686 - acc: 0.2553 - val_loss: 0.8718 - val_acc: 0.2420\n",
        "Epoch 64/70\n",
        "0s - loss: 0.8679 - acc: 0.2552 - val_loss: 0.8712 - val_acc: 0.2420\n"
       ]
      },
      {
       "output_type": "stream",
       "stream": "stdout",
       "text": [
        "Epoch 65/70\n",
        "0s - loss: 0.8673 - acc: 0.2552 - val_loss: 0.8706 - val_acc: 0.2420\n",
        "Epoch 66/70\n",
        "0s - loss: 0.8667 - acc: 0.2552 - val_loss: 0.8700 - val_acc: 0.2420\n"
       ]
      },
      {
       "output_type": "stream",
       "stream": "stdout",
       "text": [
        "Epoch 67/70\n",
        "0s - loss: 0.8661 - acc: 0.2552 - val_loss: 0.8695 - val_acc: 0.2420\n",
        "Epoch 68/70\n",
        "0s - loss: 0.8656 - acc: 0.2552 - val_loss: 0.8689 - val_acc: 0.2420\n"
       ]
      },
      {
       "output_type": "stream",
       "stream": "stdout",
       "text": [
        "Epoch 69/70\n",
        "0s - loss: 0.8650 - acc: 0.2552 - val_loss: 0.8683 - val_acc: 0.2420\n",
        "Epoch 70/70\n",
        "0s - loss: 0.8645 - acc: 0.2552 - val_loss: 0.8678 - val_acc: 0.2420\n"
       ]
      },
      {
       "output_type": "stream",
       "stream": "stdout",
       "text": [
        "\r",
        " 200/1000 [=====>........................] - ETA: 0s"
       ]
      },
      {
       "output_type": "stream",
       "stream": "stdout",
       "text": [
        "\r",
        " 200/1000 [=====>........................] - ETA: 0s"
       ]
      },
      {
       "output_type": "stream",
       "stream": "stdout",
       "text": [
        "Train on 4000 samples, validate on 1000 samples\n",
        "Epoch 1/70\n",
        "0s - loss: 1.5741 - acc: 0.2395 - val_loss: 1.5481 - val_acc: 0.2510\n",
        "Epoch 2/70\n",
        "0s - loss: 1.5643 - acc: 0.2395 - val_loss: 1.5391 - val_acc: 0.2510\n"
       ]
      },
      {
       "output_type": "stream",
       "stream": "stdout",
       "text": [
        "Epoch 3/70\n",
        "0s - loss: 1.5548 - acc: 0.2395 - val_loss: 1.5305 - val_acc: 0.2510\n",
        "Epoch 4/70\n",
        "0s - loss: 1.5456 - acc: 0.2395 - val_loss: 1.5222 - val_acc: 0.2510\n"
       ]
      },
      {
       "output_type": "stream",
       "stream": "stdout",
       "text": [
        "Epoch 5/70\n",
        "0s - loss: 1.5368 - acc: 0.2547 - val_loss: 1.5142 - val_acc: 0.2700\n",
        "Epoch 6/70\n",
        "0s - loss: 1.5284 - acc: 0.2597 - val_loss: 1.5065 - val_acc: 0.2700\n"
       ]
      },
      {
       "output_type": "stream",
       "stream": "stdout",
       "text": [
        "Epoch 7/70\n",
        "0s - loss: 1.5202 - acc: 0.2598 - val_loss: 1.4991 - val_acc: 0.2700\n",
        "Epoch 8/70\n",
        "0s - loss: 1.5124 - acc: 0.2598 - val_loss: 1.4921 - val_acc: 0.2700\n"
       ]
      },
      {
       "output_type": "stream",
       "stream": "stdout",
       "text": [
        "Epoch 9/70\n",
        "0s - loss: 1.5049 - acc: 0.2597 - val_loss: 1.4853 - val_acc: 0.2700\n",
        "Epoch 10/70\n",
        "0s - loss: 1.4977 - acc: 0.2597 - val_loss: 1.4789 - val_acc: 0.2700\n"
       ]
      },
      {
       "output_type": "stream",
       "stream": "stdout",
       "text": [
        "Epoch 11/70\n",
        "0s - loss: 1.4909 - acc: 0.2597 - val_loss: 1.4728 - val_acc: 0.2700\n",
        "Epoch 12/70\n",
        "0s - loss: 1.4843 - acc: 0.2597 - val_loss: 1.4669 - val_acc: 0.2700\n"
       ]
      },
      {
       "output_type": "stream",
       "stream": "stdout",
       "text": [
        "Epoch 13/70\n",
        "0s - loss: 1.4781 - acc: 0.2597 - val_loss: 1.4614 - val_acc: 0.2700\n",
        "Epoch 14/70\n",
        "0s - loss: 1.4722 - acc: 0.2597 - val_loss: 1.4561 - val_acc: 0.2700\n"
       ]
      },
      {
       "output_type": "stream",
       "stream": "stdout",
       "text": [
        "Epoch 15/70\n",
        "0s - loss: 1.4665 - acc: 0.2597 - val_loss: 1.4511 - val_acc: 0.2700\n",
        "Epoch 16/70\n",
        "0s - loss: 1.4612 - acc: 0.2598 - val_loss: 1.4464 - val_acc: 0.2700\n"
       ]
      },
      {
       "output_type": "stream",
       "stream": "stdout",
       "text": [
        "Epoch 17/70\n",
        "0s - loss: 1.4561 - acc: 0.2597 - val_loss: 1.4420 - val_acc: 0.2700\n",
        "Epoch 18/70\n",
        "0s - loss: 1.4513 - acc: 0.2597 - val_loss: 1.4378 - val_acc: 0.2700\n"
       ]
      },
      {
       "output_type": "stream",
       "stream": "stdout",
       "text": [
        "Epoch 19/70\n",
        "0s - loss: 1.4468 - acc: 0.2598 - val_loss: 1.4338 - val_acc: 0.2700\n",
        "Epoch 20/70\n",
        "0s - loss: 1.4425 - acc: 0.2597 - val_loss: 1.4301 - val_acc: 0.2700\n"
       ]
      },
      {
       "output_type": "stream",
       "stream": "stdout",
       "text": [
        "Epoch 21/70\n",
        "0s - loss: 1.4385 - acc: 0.2597 - val_loss: 1.4266 - val_acc: 0.2700\n",
        "Epoch 22/70\n",
        "0s - loss: 1.4347 - acc: 0.2598 - val_loss: 1.4234 - val_acc: 0.2700\n"
       ]
      },
      {
       "output_type": "stream",
       "stream": "stdout",
       "text": [
        "Epoch 23/70\n",
        "0s - loss: 1.4311 - acc: 0.2597 - val_loss: 1.4203 - val_acc: 0.2700\n",
        "Epoch 24/70\n",
        "0s - loss: 1.4278 - acc: 0.2597 - val_loss: 1.4175 - val_acc: 0.2700\n"
       ]
      },
      {
       "output_type": "stream",
       "stream": "stdout",
       "text": [
        "Epoch 25/70\n",
        "0s - loss: 1.4247 - acc: 0.2597 - val_loss: 1.4148 - val_acc: 0.2700\n",
        "Epoch 26/70\n",
        "0s - loss: 1.4218 - acc: 0.2597 - val_loss: 1.4123 - val_acc: 0.2700\n"
       ]
      },
      {
       "output_type": "stream",
       "stream": "stdout",
       "text": [
        "Epoch 27/70\n",
        "0s - loss: 1.4190 - acc: 0.2597 - val_loss: 1.4101 - val_acc: 0.2700\n",
        "Epoch 28/70\n",
        "0s - loss: 1.4165 - acc: 0.2598 - val_loss: 1.4079 - val_acc: 0.2700\n"
       ]
      },
      {
       "output_type": "stream",
       "stream": "stdout",
       "text": [
        "Epoch 29/70\n",
        "0s - loss: 1.4141 - acc: 0.2597 - val_loss: 1.4060 - val_acc: 0.2700\n",
        "Epoch 30/70\n",
        "0s - loss: 1.4119 - acc: 0.2598 - val_loss: 1.4041 - val_acc: 0.2700\n"
       ]
      },
      {
       "output_type": "stream",
       "stream": "stdout",
       "text": [
        "Epoch 31/70\n",
        "0s - loss: 1.4099 - acc: 0.2598 - val_loss: 1.4025 - val_acc: 0.2700\n",
        "Epoch 32/70\n",
        "0s - loss: 1.4079 - acc: 0.2597 - val_loss: 1.4009 - val_acc: 0.2700\n"
       ]
      },
      {
       "output_type": "stream",
       "stream": "stdout",
       "text": [
        "Epoch 33/70\n",
        "0s - loss: 1.4062 - acc: 0.2597 - val_loss: 1.3995 - val_acc: 0.2700\n",
        "Epoch 34/70\n",
        "0s - loss: 1.4045 - acc: 0.2597 - val_loss: 1.3982 - val_acc: 0.2700\n"
       ]
      },
      {
       "output_type": "stream",
       "stream": "stdout",
       "text": [
        "Epoch 35/70\n",
        "0s - loss: 1.4030 - acc: 0.2597 - val_loss: 1.3970 - val_acc: 0.2700\n",
        "Epoch 36/70\n",
        "0s - loss: 1.4016 - acc: 0.2597 - val_loss: 1.3959 - val_acc: 0.2700\n"
       ]
      },
      {
       "output_type": "stream",
       "stream": "stdout",
       "text": [
        "Epoch 37/70\n",
        "0s - loss: 1.4003 - acc: 0.2597 - val_loss: 1.3949 - val_acc: 0.2700\n",
        "Epoch 38/70\n",
        "0s - loss: 1.3991 - acc: 0.2597 - val_loss: 1.3940 - val_acc: 0.2700\n"
       ]
      },
      {
       "output_type": "stream",
       "stream": "stdout",
       "text": [
        "Epoch 39/70\n",
        "0s - loss: 1.3980 - acc: 0.2597 - val_loss: 1.3931 - val_acc: 0.2700\n",
        "Epoch 40/70\n",
        "0s - loss: 1.3970 - acc: 0.2597 - val_loss: 1.3924 - val_acc: 0.2700\n"
       ]
      },
      {
       "output_type": "stream",
       "stream": "stdout",
       "text": [
        "Epoch 41/70\n",
        "0s - loss: 1.3961 - acc: 0.2598 - val_loss: 1.3917 - val_acc: 0.2700\n",
        "Epoch 42/70\n",
        "0s - loss: 1.3952 - acc: 0.2597 - val_loss: 1.3910 - val_acc: 0.2700\n"
       ]
      },
      {
       "output_type": "stream",
       "stream": "stdout",
       "text": [
        "Epoch 43/70\n",
        "0s - loss: 1.3944 - acc: 0.2597 - val_loss: 1.3905 - val_acc: 0.2700\n",
        "Epoch 44/70\n",
        "0s - loss: 1.3937 - acc: 0.2598 - val_loss: 1.3900 - val_acc: 0.2700\n"
       ]
      },
      {
       "output_type": "stream",
       "stream": "stdout",
       "text": [
        "Epoch 45/70\n",
        "0s - loss: 1.3931 - acc: 0.2598 - val_loss: 1.3895 - val_acc: 0.2700\n",
        "Epoch 46/70\n",
        "0s - loss: 1.3925 - acc: 0.2597 - val_loss: 1.3891 - val_acc: 0.2700\n"
       ]
      },
      {
       "output_type": "stream",
       "stream": "stdout",
       "text": [
        "Epoch 47/70\n",
        "0s - loss: 1.3919 - acc: 0.2598 - val_loss: 1.3887 - val_acc: 0.2700\n",
        "Epoch 48/70\n",
        "0s - loss: 1.3914 - acc: 0.2597 - val_loss: 1.3884 - val_acc: 0.2700\n"
       ]
      },
      {
       "output_type": "stream",
       "stream": "stdout",
       "text": [
        "Epoch 49/70\n",
        "0s - loss: 1.3909 - acc: 0.2597 - val_loss: 1.3881 - val_acc: 0.2700\n",
        "Epoch 50/70\n",
        "0s - loss: 1.3905 - acc: 0.2598 - val_loss: 1.3878 - val_acc: 0.2700\n"
       ]
      },
      {
       "output_type": "stream",
       "stream": "stdout",
       "text": [
        "Epoch 51/70\n",
        "0s - loss: 1.3901 - acc: 0.2597 - val_loss: 1.3875 - val_acc: 0.2700\n",
        "Epoch 52/70\n",
        "0s - loss: 1.3897 - acc: 0.2597 - val_loss: 1.3873 - val_acc: 0.2700\n"
       ]
      },
      {
       "output_type": "stream",
       "stream": "stdout",
       "text": [
        "Epoch 53/70\n",
        "0s - loss: 1.3894 - acc: 0.2597 - val_loss: 1.3871 - val_acc: 0.2700\n",
        "Epoch 54/70\n",
        "0s - loss: 1.3891 - acc: 0.2597 - val_loss: 1.3870 - val_acc: 0.2700\n"
       ]
      },
      {
       "output_type": "stream",
       "stream": "stdout",
       "text": [
        "Epoch 55/70\n",
        "0s - loss: 1.3889 - acc: 0.2597 - val_loss: 1.3868 - val_acc: 0.2700\n",
        "Epoch 56/70\n",
        "0s - loss: 1.3886 - acc: 0.2598 - val_loss: 1.3867 - val_acc: 0.2700\n"
       ]
      },
      {
       "output_type": "stream",
       "stream": "stdout",
       "text": [
        "Epoch 57/70\n",
        "0s - loss: 1.3884 - acc: 0.2597 - val_loss: 1.3866 - val_acc: 0.2700\n",
        "Epoch 58/70\n",
        "0s - loss: 1.3882 - acc: 0.2597 - val_loss: 1.3865 - val_acc: 0.2700\n"
       ]
      },
      {
       "output_type": "stream",
       "stream": "stdout",
       "text": [
        "Epoch 59/70\n",
        "0s - loss: 1.3880 - acc: 0.2597 - val_loss: 1.3864 - val_acc: 0.2700\n",
        "Epoch 60/70\n",
        "0s - loss: 1.3878 - acc: 0.2597 - val_loss: 1.3863 - val_acc: 0.2700\n"
       ]
      },
      {
       "output_type": "stream",
       "stream": "stdout",
       "text": [
        "Epoch 61/70\n",
        "0s - loss: 1.3877 - acc: 0.2597 - val_loss: 1.3862 - val_acc: 0.2700\n",
        "Epoch 62/70\n",
        "0s - loss: 1.3875 - acc: 0.2598 - val_loss: 1.3862 - val_acc: 0.2700\n"
       ]
      },
      {
       "output_type": "stream",
       "stream": "stdout",
       "text": [
        "Epoch 63/70\n",
        "0s - loss: 1.3874 - acc: 0.2597 - val_loss: 1.3861 - val_acc: 0.2700\n"
       ]
      },
      {
       "output_type": "stream",
       "stream": "stdout",
       "text": [
        "Epoch 64/70\n",
        "0s - loss: 1.3873 - acc: 0.2597 - val_loss: 1.3861 - val_acc: 0.2700\n",
        "Epoch 65/70\n",
        "0s - loss: 1.3872 - acc: 0.2597 - val_loss: 1.3860 - val_acc: 0.2700\n"
       ]
      },
      {
       "output_type": "stream",
       "stream": "stdout",
       "text": [
        "Epoch 66/70\n",
        "0s - loss: 1.3871 - acc: 0.2597 - val_loss: 1.3860 - val_acc: 0.2700\n",
        "Epoch 67/70\n",
        "0s - loss: 1.3870 - acc: 0.2597 - val_loss: 1.3860 - val_acc: 0.2700\n"
       ]
      },
      {
       "output_type": "stream",
       "stream": "stdout",
       "text": [
        "Epoch 68/70\n",
        "0s - loss: 1.3869 - acc: 0.2597 - val_loss: 1.3860 - val_acc: 0.2700\n",
        "Epoch 69/70\n",
        "0s - loss: 1.3869 - acc: 0.2597 - val_loss: 1.3860 - val_acc: 0.2700\n"
       ]
      },
      {
       "output_type": "stream",
       "stream": "stdout",
       "text": [
        "Epoch 70/70\n",
        "0s - loss: 1.3868 - acc: 0.2597 - val_loss: 1.3860 - val_acc: 0.2700\n",
        "\r",
        " 200/1000 [=====>........................] - ETA: 0s"
       ]
      },
      {
       "output_type": "stream",
       "stream": "stdout",
       "text": [
        "\r",
        " 200/1000 [=====>........................] - ETA: 0s"
       ]
      },
      {
       "output_type": "stream",
       "stream": "stdout",
       "text": [
        "Train on 4000 samples, validate on 1000 samples\n",
        "Epoch 1/80\n",
        "0s - loss: 1.0165 - acc: 0.5068 - val_loss: 1.0152 - val_acc: 0.5100\n",
        "Epoch 2/80\n",
        "0s - loss: 1.0086 - acc: 0.5067 - val_loss: 1.0077 - val_acc: 0.5100\n"
       ]
      },
      {
       "output_type": "stream",
       "stream": "stdout",
       "text": [
        "Epoch 3/80\n",
        "0s - loss: 1.0013 - acc: 0.5067 - val_loss: 1.0006 - val_acc: 0.5100\n",
        "Epoch 4/80\n",
        "0s - loss: 0.9944 - acc: 0.5067 - val_loss: 0.9940 - val_acc: 0.5100\n"
       ]
      },
      {
       "output_type": "stream",
       "stream": "stdout",
       "text": [
        "Epoch 5/80\n",
        "0s - loss: 0.9880 - acc: 0.5067 - val_loss: 0.9879 - val_acc: 0.5100\n",
        "Epoch 6/80\n",
        "0s - loss: 0.9820 - acc: 0.5067 - val_loss: 0.9821 - val_acc: 0.5100\n"
       ]
      },
      {
       "output_type": "stream",
       "stream": "stdout",
       "text": [
        "Epoch 7/80\n",
        "0s - loss: 0.9764 - acc: 0.5067 - val_loss: 0.9767 - val_acc: 0.5100\n",
        "Epoch 8/80\n",
        "0s - loss: 0.9711 - acc: 0.5067 - val_loss: 0.9716 - val_acc: 0.5100\n"
       ]
      },
      {
       "output_type": "stream",
       "stream": "stdout",
       "text": [
        "Epoch 9/80\n",
        "0s - loss: 0.9661 - acc: 0.5067 - val_loss: 0.9668 - val_acc: 0.5100\n",
        "Epoch 10/80\n",
        "0s - loss: 0.9614 - acc: 0.5067 - val_loss: 0.9623 - val_acc: 0.5100\n"
       ]
      },
      {
       "output_type": "stream",
       "stream": "stdout",
       "text": [
        "Epoch 11/80\n",
        "0s - loss: 0.9570 - acc: 0.5067 - val_loss: 0.9580 - val_acc: 0.5100\n",
        "Epoch 12/80\n",
        "0s - loss: 0.9528 - acc: 0.5067 - val_loss: 0.9540 - val_acc: 0.5100\n"
       ]
      },
      {
       "output_type": "stream",
       "stream": "stdout",
       "text": [
        "Epoch 13/80\n",
        "0s - loss: 0.9489 - acc: 0.5067 - val_loss: 0.9501 - val_acc: 0.5100\n"
       ]
      },
      {
       "output_type": "stream",
       "stream": "stdout",
       "text": [
        "Epoch 14/80\n",
        "0s - loss: 0.9452 - acc: 0.5067 - val_loss: 0.9465 - val_acc: 0.5100\n",
        "Epoch 15/80\n",
        "0s - loss: 0.9416 - acc: 0.5067 - val_loss: 0.9431 - val_acc: 0.5100\n"
       ]
      },
      {
       "output_type": "stream",
       "stream": "stdout",
       "text": [
        "Epoch 16/80\n",
        "0s - loss: 0.9382 - acc: 0.5068 - val_loss: 0.9398 - val_acc: 0.5100\n"
       ]
      },
      {
       "output_type": "stream",
       "stream": "stdout",
       "text": [
        "Epoch 17/80\n",
        "0s - loss: 0.9350 - acc: 0.5067 - val_loss: 0.9367 - val_acc: 0.5100\n"
       ]
      },
      {
       "output_type": "stream",
       "stream": "stdout",
       "text": [
        "Epoch 18/80\n",
        "0s - loss: 0.9320 - acc: 0.5068 - val_loss: 0.9338 - val_acc: 0.5100\n"
       ]
      },
      {
       "output_type": "stream",
       "stream": "stdout",
       "text": [
        "Epoch 19/80\n",
        "0s - loss: 0.9291 - acc: 0.5067 - val_loss: 0.9310 - val_acc: 0.5100\n",
        "Epoch 20/80\n",
        "0s - loss: 0.9263 - acc: 0.5068 - val_loss: 0.9283 - val_acc: 0.5100\n"
       ]
      },
      {
       "output_type": "stream",
       "stream": "stdout",
       "text": [
        "Epoch 21/80\n",
        "0s - loss: 0.9237 - acc: 0.5067 - val_loss: 0.9257 - val_acc: 0.5100\n",
        "Epoch 22/80\n",
        "0s - loss: 0.9212 - acc: 0.5067 - val_loss: 0.9233 - val_acc: 0.5100\n"
       ]
      },
      {
       "output_type": "stream",
       "stream": "stdout",
       "text": [
        "Epoch 23/80\n",
        "0s - loss: 0.9187 - acc: 0.5067 - val_loss: 0.9209 - val_acc: 0.5100\n",
        "Epoch 24/80\n",
        "0s - loss: 0.9164 - acc: 0.5068 - val_loss: 0.9187 - val_acc: 0.5100\n"
       ]
      },
      {
       "output_type": "stream",
       "stream": "stdout",
       "text": [
        "Epoch 25/80\n",
        "0s - loss: 0.9142 - acc: 0.5067 - val_loss: 0.9165 - val_acc: 0.5100\n",
        "Epoch 26/80\n",
        "0s - loss: 0.9121 - acc: 0.5068 - val_loss: 0.9145 - val_acc: 0.5100\n"
       ]
      },
      {
       "output_type": "stream",
       "stream": "stdout",
       "text": [
        "Epoch 27/80\n",
        "0s - loss: 0.9101 - acc: 0.5067 - val_loss: 0.9125 - val_acc: 0.5100\n",
        "Epoch 28/80\n",
        "0s - loss: 0.9081 - acc: 0.5067 - val_loss: 0.9106 - val_acc: 0.5100\n"
       ]
      },
      {
       "output_type": "stream",
       "stream": "stdout",
       "text": [
        "Epoch 29/80\n",
        "0s - loss: 0.9063 - acc: 0.5067 - val_loss: 0.9088 - val_acc: 0.5100\n",
        "Epoch 30/80\n",
        "0s - loss: 0.9045 - acc: 0.2922 - val_loss: 0.9070 - val_acc: 0.2420\n"
       ]
      },
      {
       "output_type": "stream",
       "stream": "stdout",
       "text": [
        "Epoch 31/80\n",
        "0s - loss: 0.9027 - acc: 0.3185 - val_loss: 0.9053 - val_acc: 0.2420\n",
        "Epoch 32/80\n",
        "0s - loss: 0.9011 - acc: 0.2845 - val_loss: 0.9037 - val_acc: 0.2420\n"
       ]
      },
      {
       "output_type": "stream",
       "stream": "stdout",
       "text": [
        "Epoch 33/80\n",
        "0s - loss: 0.8995 - acc: 0.2553 - val_loss: 0.9022 - val_acc: 0.2420\n",
        "Epoch 34/80\n",
        "0s - loss: 0.8979 - acc: 0.2552 - val_loss: 0.9006 - val_acc: 0.2420\n"
       ]
      },
      {
       "output_type": "stream",
       "stream": "stdout",
       "text": [
        "Epoch 35/80\n",
        "0s - loss: 0.8964 - acc: 0.2552 - val_loss: 0.8992 - val_acc: 0.2420\n",
        "Epoch 36/80\n",
        "0s - loss: 0.8950 - acc: 0.2552 - val_loss: 0.8978 - val_acc: 0.2420\n"
       ]
      },
      {
       "output_type": "stream",
       "stream": "stdout",
       "text": [
        "Epoch 37/80\n",
        "0s - loss: 0.8936 - acc: 0.2552 - val_loss: 0.8964 - val_acc: 0.2420\n",
        "Epoch 38/80\n",
        "0s - loss: 0.8923 - acc: 0.2552 - val_loss: 0.8951 - val_acc: 0.2420\n"
       ]
      },
      {
       "output_type": "stream",
       "stream": "stdout",
       "text": [
        "Epoch 39/80\n",
        "0s - loss: 0.8910 - acc: 0.2552 - val_loss: 0.8938 - val_acc: 0.2420\n",
        "Epoch 40/80\n",
        "0s - loss: 0.8897 - acc: 0.2552 - val_loss: 0.8926 - val_acc: 0.2420\n"
       ]
      },
      {
       "output_type": "stream",
       "stream": "stdout",
       "text": [
        "Epoch 41/80\n",
        "0s - loss: 0.8885 - acc: 0.2552 - val_loss: 0.8914 - val_acc: 0.2420\n",
        "Epoch 42/80\n",
        "0s - loss: 0.8873 - acc: 0.2552 - val_loss: 0.8903 - val_acc: 0.2420\n"
       ]
      },
      {
       "output_type": "stream",
       "stream": "stdout",
       "text": [
        "Epoch 43/80\n",
        "0s - loss: 0.8862 - acc: 0.2552 - val_loss: 0.8892 - val_acc: 0.2420\n",
        "Epoch 44/80\n",
        "0s - loss: 0.8851 - acc: 0.2552 - val_loss: 0.8881 - val_acc: 0.2420\n"
       ]
      },
      {
       "output_type": "stream",
       "stream": "stdout",
       "text": [
        "Epoch 45/80\n",
        "0s - loss: 0.8840 - acc: 0.2552 - val_loss: 0.8870 - val_acc: 0.2420\n",
        "Epoch 46/80\n",
        "0s - loss: 0.8830 - acc: 0.2552 - val_loss: 0.8860 - val_acc: 0.2420\n"
       ]
      },
      {
       "output_type": "stream",
       "stream": "stdout",
       "text": [
        "Epoch 47/80\n",
        "0s - loss: 0.8820 - acc: 0.2552 - val_loss: 0.8850 - val_acc: 0.2420\n",
        "Epoch 48/80\n",
        "0s - loss: 0.8810 - acc: 0.2552 - val_loss: 0.8841 - val_acc: 0.2420\n"
       ]
      },
      {
       "output_type": "stream",
       "stream": "stdout",
       "text": [
        "Epoch 49/80\n",
        "0s - loss: 0.8801 - acc: 0.2552 - val_loss: 0.8832 - val_acc: 0.2420\n",
        "Epoch 50/80\n",
        "0s - loss: 0.8791 - acc: 0.2552 - val_loss: 0.8823 - val_acc: 0.2420\n"
       ]
      },
      {
       "output_type": "stream",
       "stream": "stdout",
       "text": [
        "Epoch 51/80\n",
        "0s - loss: 0.8782 - acc: 0.2552 - val_loss: 0.8814 - val_acc: 0.2420\n",
        "Epoch 52/80\n",
        "0s - loss: 0.8774 - acc: 0.2552 - val_loss: 0.8805 - val_acc: 0.2420\n"
       ]
      },
      {
       "output_type": "stream",
       "stream": "stdout",
       "text": [
        "Epoch 53/80\n",
        "0s - loss: 0.8765 - acc: 0.2552 - val_loss: 0.8797 - val_acc: 0.2420\n",
        "Epoch 54/80\n",
        "0s - loss: 0.8757 - acc: 0.2552 - val_loss: 0.8789 - val_acc: 0.2420\n"
       ]
      },
      {
       "output_type": "stream",
       "stream": "stdout",
       "text": [
        "Epoch 55/80\n",
        "0s - loss: 0.8749 - acc: 0.2552 - val_loss: 0.8781 - val_acc: 0.2420\n",
        "Epoch 56/80\n",
        "0s - loss: 0.8741 - acc: 0.2552 - val_loss: 0.8773 - val_acc: 0.2420\n"
       ]
      },
      {
       "output_type": "stream",
       "stream": "stdout",
       "text": [
        "Epoch 57/80\n",
        "0s - loss: 0.8734 - acc: 0.2552 - val_loss: 0.8766 - val_acc: 0.2420\n",
        "Epoch 58/80\n",
        "0s - loss: 0.8726 - acc: 0.2552 - val_loss: 0.8759 - val_acc: 0.2420\n"
       ]
      },
      {
       "output_type": "stream",
       "stream": "stdout",
       "text": [
        "Epoch 59/80\n",
        "0s - loss: 0.8719 - acc: 0.2552 - val_loss: 0.8751 - val_acc: 0.2420\n",
        "Epoch 60/80\n",
        "0s - loss: 0.8712 - acc: 0.2552 - val_loss: 0.8745 - val_acc: 0.2420\n"
       ]
      },
      {
       "output_type": "stream",
       "stream": "stdout",
       "text": [
        "Epoch 61/80\n",
        "0s - loss: 0.8705 - acc: 0.2552 - val_loss: 0.8738 - val_acc: 0.2420\n",
        "Epoch 62/80\n",
        "0s - loss: 0.8699 - acc: 0.2552 - val_loss: 0.8731 - val_acc: 0.2420\n"
       ]
      },
      {
       "output_type": "stream",
       "stream": "stdout",
       "text": [
        "Epoch 63/80\n",
        "0s - loss: 0.8692 - acc: 0.2552 - val_loss: 0.8725 - val_acc: 0.2420\n",
        "Epoch 64/80\n",
        "0s - loss: 0.8686 - acc: 0.2552 - val_loss: 0.8719 - val_acc: 0.2420\n"
       ]
      },
      {
       "output_type": "stream",
       "stream": "stdout",
       "text": [
        "Epoch 65/80\n",
        "0s - loss: 0.8680 - acc: 0.2552 - val_loss: 0.8712 - val_acc: 0.2420\n",
        "Epoch 66/80\n",
        "0s - loss: 0.8674 - acc: 0.2552 - val_loss: 0.8707 - val_acc: 0.2420\n"
       ]
      },
      {
       "output_type": "stream",
       "stream": "stdout",
       "text": [
        "Epoch 67/80\n",
        "0s - loss: 0.8668 - acc: 0.2552 - val_loss: 0.8701 - val_acc: 0.2420\n",
        "Epoch 68/80\n",
        "0s - loss: 0.8662 - acc: 0.2552 - val_loss: 0.8695 - val_acc: 0.2420\n"
       ]
      },
      {
       "output_type": "stream",
       "stream": "stdout",
       "text": [
        "Epoch 69/80\n",
        "0s - loss: 0.8656 - acc: 0.2553 - val_loss: 0.8689 - val_acc: 0.2420\n",
        "Epoch 70/80\n",
        "0s - loss: 0.8651 - acc: 0.2553 - val_loss: 0.8684 - val_acc: 0.2420\n"
       ]
      },
      {
       "output_type": "stream",
       "stream": "stdout",
       "text": [
        "Epoch 71/80\n",
        "0s - loss: 0.8645 - acc: 0.2552 - val_loss: 0.8679 - val_acc: 0.2420\n",
        "Epoch 72/80\n",
        "0s - loss: 0.8640 - acc: 0.2552 - val_loss: 0.8673 - val_acc: 0.2420\n"
       ]
      },
      {
       "output_type": "stream",
       "stream": "stdout",
       "text": [
        "Epoch 73/80\n",
        "0s - loss: 0.8635 - acc: 0.2552 - val_loss: 0.8668 - val_acc: 0.2420\n",
        "Epoch 74/80\n",
        "0s - loss: 0.8630 - acc: 0.2552 - val_loss: 0.8663 - val_acc: 0.2420\n"
       ]
      },
      {
       "output_type": "stream",
       "stream": "stdout",
       "text": [
        "Epoch 75/80\n",
        "0s - loss: 0.8625 - acc: 0.2552 - val_loss: 0.8658 - val_acc: 0.2420\n",
        "Epoch 76/80\n",
        "0s - loss: 0.8620 - acc: 0.2552 - val_loss: 0.8654 - val_acc: 0.2420\n"
       ]
      },
      {
       "output_type": "stream",
       "stream": "stdout",
       "text": [
        "Epoch 77/80\n",
        "0s - loss: 0.8615 - acc: 0.2552 - val_loss: 0.8649 - val_acc: 0.2420\n",
        "Epoch 78/80\n",
        "0s - loss: 0.8611 - acc: 0.2552 - val_loss: 0.8644 - val_acc: 0.2420\n"
       ]
      },
      {
       "output_type": "stream",
       "stream": "stdout",
       "text": [
        "Epoch 79/80\n",
        "0s - loss: 0.8606 - acc: 0.2552 - val_loss: 0.8640 - val_acc: 0.2420\n",
        "Epoch 80/80\n",
        "0s - loss: 0.8602 - acc: 0.2552 - val_loss: 0.8636 - val_acc: 0.2420\n"
       ]
      },
      {
       "output_type": "stream",
       "stream": "stdout",
       "text": [
        "\r",
        " 200/1000 [=====>........................] - ETA: 0s"
       ]
      },
      {
       "output_type": "stream",
       "stream": "stdout",
       "text": [
        "\r",
        " 200/1000 [=====>........................] - ETA: 0s"
       ]
      },
      {
       "output_type": "stream",
       "stream": "stdout",
       "text": [
        "Train on 4000 samples, validate on 1000 samples\n",
        "Epoch 1/80\n",
        "0s - loss: 1.5934 - acc: 0.2395 - val_loss: 1.5659 - val_acc: 0.2510\n",
        "Epoch 2/80\n",
        "0s - loss: 1.5831 - acc: 0.2395 - val_loss: 1.5565 - val_acc: 0.2510\n"
       ]
      },
      {
       "output_type": "stream",
       "stream": "stdout",
       "text": [
        "Epoch 3/80\n",
        "0s - loss: 1.5731 - acc: 0.2395 - val_loss: 1.5474 - val_acc: 0.2510\n",
        "Epoch 4/80\n",
        "0s - loss: 1.5635 - acc: 0.2395 - val_loss: 1.5385 - val_acc: 0.2510\n"
       ]
      },
      {
       "output_type": "stream",
       "stream": "stdout",
       "text": [
        "Epoch 5/80\n",
        "0s - loss: 1.5541 - acc: 0.2440 - val_loss: 1.5300 - val_acc: 0.2700\n",
        "Epoch 6/80\n",
        "0s - loss: 1.5451 - acc: 0.2597 - val_loss: 1.5218 - val_acc: 0.2700\n"
       ]
      },
      {
       "output_type": "stream",
       "stream": "stdout",
       "text": [
        "Epoch 7/80\n",
        "0s - loss: 1.5364 - acc: 0.2597 - val_loss: 1.5139 - val_acc: 0.2700\n",
        "Epoch 8/80\n",
        "0s - loss: 1.5280 - acc: 0.2597 - val_loss: 1.5062 - val_acc: 0.2700\n"
       ]
      },
      {
       "output_type": "stream",
       "stream": "stdout",
       "text": [
        "Epoch 9/80\n",
        "0s - loss: 1.5199 - acc: 0.2597 - val_loss: 1.4989 - val_acc: 0.2700\n",
        "Epoch 10/80\n",
        "0s - loss: 1.5122 - acc: 0.2598 - val_loss: 1.4919 - val_acc: 0.2700\n"
       ]
      },
      {
       "output_type": "stream",
       "stream": "stdout",
       "text": [
        "Epoch 11/80\n",
        "0s - loss: 1.5047 - acc: 0.2597 - val_loss: 1.4852 - val_acc: 0.2700\n",
        "Epoch 12/80\n",
        "0s - loss: 1.4976 - acc: 0.2598 - val_loss: 1.4788 - val_acc: 0.2700\n"
       ]
      },
      {
       "output_type": "stream",
       "stream": "stdout",
       "text": [
        "Epoch 13/80\n",
        "0s - loss: 1.4908 - acc: 0.2597 - val_loss: 1.4727 - val_acc: 0.2700\n",
        "Epoch 14/80\n",
        "0s - loss: 1.4843 - acc: 0.2597 - val_loss: 1.4669 - val_acc: 0.2700\n"
       ]
      },
      {
       "output_type": "stream",
       "stream": "stdout",
       "text": [
        "Epoch 15/80\n",
        "0s - loss: 1.4781 - acc: 0.2597 - val_loss: 1.4614 - val_acc: 0.2700\n",
        "Epoch 16/80\n",
        "0s - loss: 1.4722 - acc: 0.2597 - val_loss: 1.4561 - val_acc: 0.2700\n"
       ]
      },
      {
       "output_type": "stream",
       "stream": "stdout",
       "text": [
        "Epoch 17/80\n",
        "0s - loss: 1.4665 - acc: 0.2597 - val_loss: 1.4512 - val_acc: 0.2700\n",
        "Epoch 18/80\n",
        "0s - loss: 1.4612 - acc: 0.2597 - val_loss: 1.4465 - val_acc: 0.2700\n"
       ]
      },
      {
       "output_type": "stream",
       "stream": "stdout",
       "text": [
        "Epoch 19/80\n",
        "0s - loss: 1.4562 - acc: 0.2597 - val_loss: 1.4420 - val_acc: 0.2700\n",
        "Epoch 20/80\n",
        "0s - loss: 1.4514 - acc: 0.2597 - val_loss: 1.4378 - val_acc: 0.2700\n"
       ]
      },
      {
       "output_type": "stream",
       "stream": "stdout",
       "text": [
        "Epoch 21/80\n",
        "0s - loss: 1.4468 - acc: 0.2597 - val_loss: 1.4339 - val_acc: 0.2700\n",
        "Epoch 22/80\n",
        "0s - loss: 1.4426 - acc: 0.2598 - val_loss: 1.4302 - val_acc: 0.2700\n"
       ]
      },
      {
       "output_type": "stream",
       "stream": "stdout",
       "text": [
        "Epoch 23/80\n",
        "0s - loss: 1.4386 - acc: 0.2598 - val_loss: 1.4267 - val_acc: 0.2700\n",
        "Epoch 24/80\n",
        "0s - loss: 1.4348 - acc: 0.2597 - val_loss: 1.4234 - val_acc: 0.2700\n"
       ]
      },
      {
       "output_type": "stream",
       "stream": "stdout",
       "text": [
        "Epoch 25/80\n",
        "0s - loss: 1.4312 - acc: 0.2597 - val_loss: 1.4204 - val_acc: 0.2700\n",
        "Epoch 26/80\n",
        "0s - loss: 1.4279 - acc: 0.2597 - val_loss: 1.4175 - val_acc: 0.2700\n"
       ]
      },
      {
       "output_type": "stream",
       "stream": "stdout",
       "text": [
        "Epoch 27/80\n",
        "0s - loss: 1.4248 - acc: 0.2597 - val_loss: 1.4149 - val_acc: 0.2700\n",
        "Epoch 28/80\n",
        "0s - loss: 1.4218 - acc: 0.2597 - val_loss: 1.4124 - val_acc: 0.2700\n"
       ]
      },
      {
       "output_type": "stream",
       "stream": "stdout",
       "text": [
        "Epoch 29/80\n",
        "0s - loss: 1.4191 - acc: 0.2597 - val_loss: 1.4101 - val_acc: 0.2700\n",
        "Epoch 30/80\n",
        "0s - loss: 1.4166 - acc: 0.2597 - val_loss: 1.4080 - val_acc: 0.2700\n"
       ]
      },
      {
       "output_type": "stream",
       "stream": "stdout",
       "text": [
        "Epoch 31/80\n",
        "0s - loss: 1.4142 - acc: 0.2598 - val_loss: 1.4060 - val_acc: 0.2700\n",
        "Epoch 32/80\n",
        "0s - loss: 1.4120 - acc: 0.2597 - val_loss: 1.4042 - val_acc: 0.2700\n"
       ]
      },
      {
       "output_type": "stream",
       "stream": "stdout",
       "text": [
        "Epoch 33/80\n",
        "0s - loss: 1.4099 - acc: 0.2597 - val_loss: 1.4025 - val_acc: 0.2700\n",
        "Epoch 34/80\n",
        "0s - loss: 1.4080 - acc: 0.2598 - val_loss: 1.4010 - val_acc: 0.2700\n"
       ]
      },
      {
       "output_type": "stream",
       "stream": "stdout",
       "text": [
        "Epoch 35/80\n",
        "0s - loss: 1.4062 - acc: 0.2597 - val_loss: 1.3995 - val_acc: 0.2700\n",
        "Epoch 36/80\n",
        "0s - loss: 1.4046 - acc: 0.2597 - val_loss: 1.3982 - val_acc: 0.2700\n"
       ]
      },
      {
       "output_type": "stream",
       "stream": "stdout",
       "text": [
        "Epoch 37/80\n",
        "0s - loss: 1.4031 - acc: 0.2597 - val_loss: 1.3970 - val_acc: 0.2700\n",
        "Epoch 38/80\n",
        "0s - loss: 1.4017 - acc: 0.2597 - val_loss: 1.3959 - val_acc: 0.2700\n"
       ]
      },
      {
       "output_type": "stream",
       "stream": "stdout",
       "text": [
        "Epoch 39/80\n",
        "0s - loss: 1.4004 - acc: 0.2597 - val_loss: 1.3949 - val_acc: 0.2700\n",
        "Epoch 40/80\n",
        "0s - loss: 1.3992 - acc: 0.2597 - val_loss: 1.3940 - val_acc: 0.2700\n"
       ]
      },
      {
       "output_type": "stream",
       "stream": "stdout",
       "text": [
        "Epoch 41/80\n",
        "0s - loss: 1.3981 - acc: 0.2597 - val_loss: 1.3932 - val_acc: 0.2700\n",
        "Epoch 42/80\n",
        "0s - loss: 1.3970 - acc: 0.2597 - val_loss: 1.3924 - val_acc: 0.2700\n"
       ]
      },
      {
       "output_type": "stream",
       "stream": "stdout",
       "text": [
        "Epoch 43/80\n",
        "0s - loss: 1.3961 - acc: 0.2598 - val_loss: 1.3917 - val_acc: 0.2700\n",
        "Epoch 44/80\n",
        "0s - loss: 1.3953 - acc: 0.2597 - val_loss: 1.3911 - val_acc: 0.2700\n"
       ]
      },
      {
       "output_type": "stream",
       "stream": "stdout",
       "text": [
        "Epoch 45/80\n",
        "0s - loss: 1.3945 - acc: 0.2597 - val_loss: 1.3905 - val_acc: 0.2700\n",
        "Epoch 46/80\n",
        "0s - loss: 1.3937 - acc: 0.2597 - val_loss: 1.3900 - val_acc: 0.2700\n"
       ]
      },
      {
       "output_type": "stream",
       "stream": "stdout",
       "text": [
        "Epoch 47/80\n",
        "0s - loss: 1.3931 - acc: 0.2598 - val_loss: 1.3895 - val_acc: 0.2700\n",
        "Epoch 48/80\n",
        "0s - loss: 1.3925 - acc: 0.2597 - val_loss: 1.3891 - val_acc: 0.2700\n"
       ]
      },
      {
       "output_type": "stream",
       "stream": "stdout",
       "text": [
        "Epoch 49/80\n",
        "0s - loss: 1.3919 - acc: 0.2597 - val_loss: 1.3887 - val_acc: 0.2700\n",
        "Epoch 50/80\n",
        "0s - loss: 1.3914 - acc: 0.2597 - val_loss: 1.3884 - val_acc: 0.2700\n"
       ]
      },
      {
       "output_type": "stream",
       "stream": "stdout",
       "text": [
        "Epoch 51/80\n",
        "0s - loss: 1.3909 - acc: 0.2597 - val_loss: 1.3881 - val_acc: 0.2700\n",
        "Epoch 52/80\n",
        "0s - loss: 1.3905 - acc: 0.2597 - val_loss: 1.3878 - val_acc: 0.2700\n"
       ]
      },
      {
       "output_type": "stream",
       "stream": "stdout",
       "text": [
        "Epoch 53/80\n",
        "0s - loss: 1.3901 - acc: 0.2597 - val_loss: 1.3875 - val_acc: 0.2700\n",
        "Epoch 54/80\n",
        "0s - loss: 1.3898 - acc: 0.2597 - val_loss: 1.3873 - val_acc: 0.2700\n"
       ]
      },
      {
       "output_type": "stream",
       "stream": "stdout",
       "text": [
        "Epoch 55/80\n",
        "0s - loss: 1.3894 - acc: 0.2597 - val_loss: 1.3871 - val_acc: 0.2700\n",
        "Epoch 56/80\n",
        "0s - loss: 1.3891 - acc: 0.2597 - val_loss: 1.3870 - val_acc: 0.2700\n"
       ]
      },
      {
       "output_type": "stream",
       "stream": "stdout",
       "text": [
        "Epoch 57/80\n",
        "0s - loss: 1.3889 - acc: 0.2597 - val_loss: 1.3868 - val_acc: 0.2700\n",
        "Epoch 58/80\n",
        "0s - loss: 1.3886 - acc: 0.2597 - val_loss: 1.3867 - val_acc: 0.2700\n"
       ]
      },
      {
       "output_type": "stream",
       "stream": "stdout",
       "text": [
        "Epoch 59/80\n",
        "0s - loss: 1.3884 - acc: 0.2597 - val_loss: 1.3866 - val_acc: 0.2700\n",
        "Epoch 60/80\n",
        "0s - loss: 1.3882 - acc: 0.2597 - val_loss: 1.3865 - val_acc: 0.2700\n"
       ]
      },
      {
       "output_type": "stream",
       "stream": "stdout",
       "text": [
        "Epoch 61/80\n",
        "0s - loss: 1.3880 - acc: 0.2598 - val_loss: 1.3864 - val_acc: 0.2700\n",
        "Epoch 62/80\n",
        "0s - loss: 1.3878 - acc: 0.2597 - val_loss: 1.3863 - val_acc: 0.2700\n"
       ]
      },
      {
       "output_type": "stream",
       "stream": "stdout",
       "text": [
        "Epoch 63/80\n",
        "0s - loss: 1.3877 - acc: 0.2597 - val_loss: 1.3862 - val_acc: 0.2700\n",
        "Epoch 64/80\n",
        "0s - loss: 1.3875 - acc: 0.2597 - val_loss: 1.3862 - val_acc: 0.2700\n"
       ]
      },
      {
       "output_type": "stream",
       "stream": "stdout",
       "text": [
        "Epoch 65/80\n",
        "0s - loss: 1.3874 - acc: 0.2597 - val_loss: 1.3861 - val_acc: 0.2700\n",
        "Epoch 66/80\n",
        "0s - loss: 1.3873 - acc: 0.2597 - val_loss: 1.3861 - val_acc: 0.2700\n"
       ]
      },
      {
       "output_type": "stream",
       "stream": "stdout",
       "text": [
        "Epoch 67/80\n",
        "0s - loss: 1.3872 - acc: 0.2597 - val_loss: 1.3860 - val_acc: 0.2700\n",
        "Epoch 68/80\n",
        "0s - loss: 1.3871 - acc: 0.2597 - val_loss: 1.3860 - val_acc: 0.2700\n"
       ]
      },
      {
       "output_type": "stream",
       "stream": "stdout",
       "text": [
        "Epoch 69/80\n",
        "0s - loss: 1.3870 - acc: 0.2597 - val_loss: 1.3860 - val_acc: 0.2700\n",
        "Epoch 70/80\n",
        "0s - loss: 1.3869 - acc: 0.2597 - val_loss: 1.3860 - val_acc: 0.2700\n"
       ]
      },
      {
       "output_type": "stream",
       "stream": "stdout",
       "text": [
        "Epoch 71/80\n",
        "0s - loss: 1.3868 - acc: 0.2597 - val_loss: 1.3860 - val_acc: 0.2700\n",
        "Epoch 72/80\n",
        "0s - loss: 1.3868 - acc: 0.2597 - val_loss: 1.3860 - val_acc: 0.2700\n"
       ]
      },
      {
       "output_type": "stream",
       "stream": "stdout",
       "text": [
        "Epoch 73/80\n",
        "0s - loss: 1.3867 - acc: 0.2597 - val_loss: 1.3860 - val_acc: 0.2700\n",
        "Epoch 74/80\n",
        "0s - loss: 1.3867 - acc: 0.2597 - val_loss: 1.3860 - val_acc: 0.2700\n"
       ]
      },
      {
       "output_type": "stream",
       "stream": "stdout",
       "text": [
        "Epoch 75/80\n",
        "0s - loss: 1.3866 - acc: 0.2597 - val_loss: 1.3859 - val_acc: 0.2700\n",
        "Epoch 76/80\n",
        "0s - loss: 1.3866 - acc: 0.2597 - val_loss: 1.3860 - val_acc: 0.2700\n"
       ]
      },
      {
       "output_type": "stream",
       "stream": "stdout",
       "text": [
        "Epoch 77/80\n",
        "0s - loss: 1.3865 - acc: 0.2597 - val_loss: 1.3860 - val_acc: 0.2700\n",
        "Epoch 78/80\n",
        "0s - loss: 1.3865 - acc: 0.2597 - val_loss: 1.3860 - val_acc: 0.2700\n"
       ]
      },
      {
       "output_type": "stream",
       "stream": "stdout",
       "text": [
        "Epoch 79/80\n",
        "0s - loss: 1.3865 - acc: 0.2597 - val_loss: 1.3860 - val_acc: 0.2700\n",
        "Epoch 80/80\n",
        "0s - loss: 1.3864 - acc: 0.2598 - val_loss: 1.3860 - val_acc: 0.2700\n"
       ]
      },
      {
       "output_type": "stream",
       "stream": "stdout",
       "text": [
        "\r",
        " 200/1000 [=====>........................] - ETA: 0s"
       ]
      },
      {
       "output_type": "stream",
       "stream": "stdout",
       "text": [
        "\r",
        " 200/1000 [=====>........................] - ETA: 0s"
       ]
      },
      {
       "output_type": "stream",
       "stream": "stdout",
       "text": [
        "Train on 4000 samples, validate on 1000 samples\n",
        "Epoch 1/90\n",
        "0s - loss: 1.0210 - acc: 0.5067 - val_loss: 1.0196 - val_acc: 0.5100\n",
        "Epoch 2/90\n",
        "0s - loss: 1.0128 - acc: 0.5068 - val_loss: 1.0117 - val_acc: 0.5100\n"
       ]
      },
      {
       "output_type": "stream",
       "stream": "stdout",
       "text": [
        "Epoch 3/90\n",
        "0s - loss: 1.0052 - acc: 0.5067 - val_loss: 1.0043 - val_acc: 0.5100\n",
        "Epoch 4/90\n",
        "0s - loss: 0.9980 - acc: 0.5067 - val_loss: 0.9975 - val_acc: 0.5100\n"
       ]
      },
      {
       "output_type": "stream",
       "stream": "stdout",
       "text": [
        "Epoch 5/90\n",
        "0s - loss: 0.9914 - acc: 0.5067 - val_loss: 0.9911 - val_acc: 0.5100\n",
        "Epoch 6/90\n",
        "0s - loss: 0.9852 - acc: 0.5067 - val_loss: 0.9851 - val_acc: 0.5100\n"
       ]
      },
      {
       "output_type": "stream",
       "stream": "stdout",
       "text": [
        "Epoch 7/90\n",
        "0s - loss: 0.9793 - acc: 0.5067 - val_loss: 0.9795 - val_acc: 0.5100\n",
        "Epoch 8/90\n",
        "0s - loss: 0.9738 - acc: 0.5067 - val_loss: 0.9742 - val_acc: 0.5100\n"
       ]
      },
      {
       "output_type": "stream",
       "stream": "stdout",
       "text": [
        "Epoch 9/90\n",
        "0s - loss: 0.9687 - acc: 0.5067 - val_loss: 0.9693 - val_acc: 0.5100\n",
        "Epoch 10/90\n",
        "0s - loss: 0.9639 - acc: 0.5068 - val_loss: 0.9646 - val_acc: 0.5100\n"
       ]
      },
      {
       "output_type": "stream",
       "stream": "stdout",
       "text": [
        "Epoch 11/90\n",
        "0s - loss: 0.9593 - acc: 0.5067 - val_loss: 0.9602 - val_acc: 0.5100\n",
        "Epoch 12/90\n",
        "0s - loss: 0.9550 - acc: 0.5067 - val_loss: 0.9560 - val_acc: 0.5100\n"
       ]
      },
      {
       "output_type": "stream",
       "stream": "stdout",
       "text": [
        "Epoch 13/90\n",
        "0s - loss: 0.9509 - acc: 0.5067 - val_loss: 0.9521 - val_acc: 0.5100\n",
        "Epoch 14/90\n",
        "0s - loss: 0.9471 - acc: 0.5067 - val_loss: 0.9484 - val_acc: 0.5100\n"
       ]
      },
      {
       "output_type": "stream",
       "stream": "stdout",
       "text": [
        "Epoch 15/90\n",
        "0s - loss: 0.9434 - acc: 0.5067 - val_loss: 0.9448 - val_acc: 0.5100\n",
        "Epoch 16/90\n",
        "0s - loss: 0.9399 - acc: 0.5068 - val_loss: 0.9415 - val_acc: 0.5100\n"
       ]
      },
      {
       "output_type": "stream",
       "stream": "stdout",
       "text": [
        "Epoch 17/90\n",
        "0s - loss: 0.9367 - acc: 0.5067 - val_loss: 0.9383 - val_acc: 0.5100\n",
        "Epoch 18/90\n",
        "0s - loss: 0.9335 - acc: 0.5067 - val_loss: 0.9353 - val_acc: 0.5100\n"
       ]
      },
      {
       "output_type": "stream",
       "stream": "stdout",
       "text": [
        "Epoch 19/90\n",
        "0s - loss: 0.9305 - acc: 0.5067 - val_loss: 0.9324 - val_acc: 0.5100\n",
        "Epoch 20/90\n",
        "0s - loss: 0.9277 - acc: 0.5067 - val_loss: 0.9296 - val_acc: 0.5100\n"
       ]
      },
      {
       "output_type": "stream",
       "stream": "stdout",
       "text": [
        "Epoch 21/90\n",
        "0s - loss: 0.9250 - acc: 0.5067 - val_loss: 0.9270 - val_acc: 0.5100\n",
        "Epoch 22/90\n",
        "0s - loss: 0.9224 - acc: 0.5067 - val_loss: 0.9245 - val_acc: 0.5100\n"
       ]
      },
      {
       "output_type": "stream",
       "stream": "stdout",
       "text": [
        "Epoch 23/90\n",
        "0s - loss: 0.9199 - acc: 0.5067 - val_loss: 0.9221 - val_acc: 0.5100\n",
        "Epoch 24/90\n",
        "0s - loss: 0.9176 - acc: 0.5067 - val_loss: 0.9198 - val_acc: 0.5100\n"
       ]
      },
      {
       "output_type": "stream",
       "stream": "stdout",
       "text": [
        "Epoch 25/90\n",
        "0s - loss: 0.9153 - acc: 0.5068 - val_loss: 0.9176 - val_acc: 0.5100\n",
        "Epoch 26/90\n",
        "0s - loss: 0.9132 - acc: 0.5067 - val_loss: 0.9155 - val_acc: 0.5100\n"
       ]
      },
      {
       "output_type": "stream",
       "stream": "stdout",
       "text": [
        "Epoch 27/90\n",
        "0s - loss: 0.9111 - acc: 0.5067 - val_loss: 0.9135 - val_acc: 0.5100\n",
        "Epoch 28/90\n",
        "0s - loss: 0.9091 - acc: 0.5067 - val_loss: 0.9116 - val_acc: 0.5100\n"
       ]
      },
      {
       "output_type": "stream",
       "stream": "stdout",
       "text": [
        "Epoch 29/90\n",
        "0s - loss: 0.9072 - acc: 0.3247 - val_loss: 0.9097 - val_acc: 0.5100\n",
        "Epoch 30/90\n",
        "0s - loss: 0.9054 - acc: 0.4413 - val_loss: 0.9079 - val_acc: 0.3900\n"
       ]
      },
      {
       "output_type": "stream",
       "stream": "stdout",
       "text": [
        "Epoch 31/90\n",
        "0s - loss: 0.9036 - acc: 0.3882 - val_loss: 0.9062 - val_acc: 0.2420\n",
        "Epoch 32/90\n",
        "0s - loss: 0.9019 - acc: 0.3355 - val_loss: 0.9045 - val_acc: 0.2420\n"
       ]
      },
      {
       "output_type": "stream",
       "stream": "stdout",
       "text": [
        "Epoch 33/90\n",
        "0s - loss: 0.9003 - acc: 0.2552 - val_loss: 0.9029 - val_acc: 0.2420\n",
        "Epoch 34/90\n",
        "0s - loss: 0.8987 - acc: 0.2552 - val_loss: 0.9014 - val_acc: 0.2420\n"
       ]
      },
      {
       "output_type": "stream",
       "stream": "stdout",
       "text": [
        "Epoch 35/90\n",
        "0s - loss: 0.8972 - acc: 0.2552 - val_loss: 0.8999 - val_acc: 0.2420\n",
        "Epoch 36/90\n",
        "0s - loss: 0.8957 - acc: 0.2552 - val_loss: 0.8985 - val_acc: 0.2420\n"
       ]
      },
      {
       "output_type": "stream",
       "stream": "stdout",
       "text": [
        "Epoch 37/90\n",
        "0s - loss: 0.8943 - acc: 0.2552 - val_loss: 0.8971 - val_acc: 0.2420\n",
        "Epoch 38/90\n",
        "0s - loss: 0.8929 - acc: 0.2552 - val_loss: 0.8958 - val_acc: 0.2420\n"
       ]
      },
      {
       "output_type": "stream",
       "stream": "stdout",
       "text": [
        "Epoch 39/90\n",
        "0s - loss: 0.8916 - acc: 0.2552 - val_loss: 0.8945 - val_acc: 0.2420\n",
        "Epoch 40/90\n",
        "0s - loss: 0.8903 - acc: 0.2553 - val_loss: 0.8932 - val_acc: 0.2420\n"
       ]
      },
      {
       "output_type": "stream",
       "stream": "stdout",
       "text": [
        "Epoch 41/90\n",
        "0s - loss: 0.8891 - acc: 0.2552 - val_loss: 0.8920 - val_acc: 0.2420\n",
        "Epoch 42/90\n",
        "0s - loss: 0.8879 - acc: 0.2552 - val_loss: 0.8908 - val_acc: 0.2420\n"
       ]
      },
      {
       "output_type": "stream",
       "stream": "stdout",
       "text": [
        "Epoch 43/90\n",
        "0s - loss: 0.8867 - acc: 0.2552 - val_loss: 0.8897 - val_acc: 0.2420\n",
        "Epoch 44/90\n",
        "0s - loss: 0.8856 - acc: 0.2552 - val_loss: 0.8886 - val_acc: 0.2420\n"
       ]
      },
      {
       "output_type": "stream",
       "stream": "stdout",
       "text": [
        "Epoch 45/90\n",
        "0s - loss: 0.8845 - acc: 0.2552 - val_loss: 0.8876 - val_acc: 0.2420\n",
        "Epoch 46/90\n",
        "0s - loss: 0.8835 - acc: 0.2552 - val_loss: 0.8865 - val_acc: 0.2420\n"
       ]
      },
      {
       "output_type": "stream",
       "stream": "stdout",
       "text": [
        "Epoch 47/90\n",
        "0s - loss: 0.8825 - acc: 0.2552 - val_loss: 0.8855 - val_acc: 0.2420\n"
       ]
      },
      {
       "output_type": "stream",
       "stream": "stdout",
       "text": [
        "Epoch 48/90\n",
        "0s - loss: 0.8815 - acc: 0.2553 - val_loss: 0.8846 - val_acc: 0.2420\n",
        "Epoch 49/90\n",
        "0s - loss: 0.8805 - acc: 0.2552 - val_loss: 0.8836 - val_acc: 0.2420\n"
       ]
      },
      {
       "output_type": "stream",
       "stream": "stdout",
       "text": [
        "Epoch 50/90\n",
        "0s - loss: 0.8796 - acc: 0.2553 - val_loss: 0.8827 - val_acc: 0.2420\n",
        "Epoch 51/90\n",
        "0s - loss: 0.8787 - acc: 0.2552 - val_loss: 0.8818 - val_acc: 0.2420\n"
       ]
      },
      {
       "output_type": "stream",
       "stream": "stdout",
       "text": [
        "Epoch 52/90\n",
        "0s - loss: 0.8778 - acc: 0.2552 - val_loss: 0.8809 - val_acc: 0.2420\n",
        "Epoch 53/90\n",
        "0s - loss: 0.8769 - acc: 0.2552 - val_loss: 0.8801 - val_acc: 0.2420\n"
       ]
      },
      {
       "output_type": "stream",
       "stream": "stdout",
       "text": [
        "Epoch 54/90\n",
        "0s - loss: 0.8761 - acc: 0.2552 - val_loss: 0.8793 - val_acc: 0.2420\n",
        "Epoch 55/90\n",
        "0s - loss: 0.8753 - acc: 0.2553 - val_loss: 0.8785 - val_acc: 0.2420\n"
       ]
      },
      {
       "output_type": "stream",
       "stream": "stdout",
       "text": [
        "Epoch 56/90\n",
        "0s - loss: 0.8745 - acc: 0.2552 - val_loss: 0.8777 - val_acc: 0.2420\n",
        "Epoch 57/90\n",
        "0s - loss: 0.8737 - acc: 0.2552 - val_loss: 0.8769 - val_acc: 0.2420\n"
       ]
      },
      {
       "output_type": "stream",
       "stream": "stdout",
       "text": [
        "Epoch 58/90\n",
        "0s - loss: 0.8730 - acc: 0.2552 - val_loss: 0.8762 - val_acc: 0.2420\n",
        "Epoch 59/90\n",
        "0s - loss: 0.8723 - acc: 0.2552 - val_loss: 0.8755 - val_acc: 0.2420\n"
       ]
      },
      {
       "output_type": "stream",
       "stream": "stdout",
       "text": [
        "Epoch 60/90\n",
        "0s - loss: 0.8716 - acc: 0.2552 - val_loss: 0.8748 - val_acc: 0.2420\n",
        "Epoch 61/90\n",
        "0s - loss: 0.8709 - acc: 0.2552 - val_loss: 0.8741 - val_acc: 0.2420\n"
       ]
      },
      {
       "output_type": "stream",
       "stream": "stdout",
       "text": [
        "Epoch 62/90\n",
        "0s - loss: 0.8702 - acc: 0.2553 - val_loss: 0.8734 - val_acc: 0.2420\n",
        "Epoch 63/90\n",
        "0s - loss: 0.8695 - acc: 0.2552 - val_loss: 0.8728 - val_acc: 0.2420\n"
       ]
      },
      {
       "output_type": "stream",
       "stream": "stdout",
       "text": [
        "Epoch 64/90\n",
        "0s - loss: 0.8689 - acc: 0.2552 - val_loss: 0.8722 - val_acc: 0.2420\n",
        "Epoch 65/90\n",
        "0s - loss: 0.8683 - acc: 0.2552 - val_loss: 0.8715 - val_acc: 0.2420\n"
       ]
      },
      {
       "output_type": "stream",
       "stream": "stdout",
       "text": [
        "Epoch 66/90\n",
        "0s - loss: 0.8677 - acc: 0.2552 - val_loss: 0.8709 - val_acc: 0.2420\n",
        "Epoch 67/90\n",
        "0s - loss: 0.8671 - acc: 0.2553 - val_loss: 0.8704 - val_acc: 0.2420\n"
       ]
      },
      {
       "output_type": "stream",
       "stream": "stdout",
       "text": [
        "Epoch 68/90\n",
        "0s - loss: 0.8665 - acc: 0.2552 - val_loss: 0.8698 - val_acc: 0.2420\n",
        "Epoch 69/90\n",
        "0s - loss: 0.8659 - acc: 0.2552 - val_loss: 0.8692 - val_acc: 0.2420\n"
       ]
      },
      {
       "output_type": "stream",
       "stream": "stdout",
       "text": [
        "Epoch 70/90\n",
        "0s - loss: 0.8653 - acc: 0.2552 - val_loss: 0.8687 - val_acc: 0.2420\n"
       ]
      },
      {
       "output_type": "stream",
       "stream": "stdout",
       "text": [
        "Epoch 71/90\n",
        "0s - loss: 0.8648 - acc: 0.2552 - val_loss: 0.8681 - val_acc: 0.2420\n"
       ]
      },
      {
       "output_type": "stream",
       "stream": "stdout",
       "text": [
        "Epoch 72/90\n",
        "0s - loss: 0.8643 - acc: 0.2552 - val_loss: 0.8676 - val_acc: 0.2420\n",
        "Epoch 73/90\n",
        "0s - loss: 0.8637 - acc: 0.2552 - val_loss: 0.8671 - val_acc: 0.2420\n"
       ]
      },
      {
       "output_type": "stream",
       "stream": "stdout",
       "text": [
        "Epoch 74/90\n",
        "0s - loss: 0.8632 - acc: 0.2552 - val_loss: 0.8666 - val_acc: 0.2420\n",
        "Epoch 75/90\n",
        "0s - loss: 0.8627 - acc: 0.2552 - val_loss: 0.8661 - val_acc: 0.2420\n"
       ]
      },
      {
       "output_type": "stream",
       "stream": "stdout",
       "text": [
        "Epoch 76/90\n",
        "0s - loss: 0.8622 - acc: 0.2552 - val_loss: 0.8656 - val_acc: 0.2420\n"
       ]
      },
      {
       "output_type": "stream",
       "stream": "stdout",
       "text": [
        "Epoch 77/90\n",
        "0s - loss: 0.8618 - acc: 0.2552 - val_loss: 0.8651 - val_acc: 0.2420\n",
        "Epoch 78/90\n",
        "0s - loss: 0.8613 - acc: 0.2552 - val_loss: 0.8647 - val_acc: 0.2420\n"
       ]
      },
      {
       "output_type": "stream",
       "stream": "stdout",
       "text": [
        "Epoch 79/90\n",
        "0s - loss: 0.8608 - acc: 0.2553 - val_loss: 0.8642 - val_acc: 0.2420\n",
        "Epoch 80/90\n",
        "0s - loss: 0.8604 - acc: 0.2552 - val_loss: 0.8638 - val_acc: 0.2420\n"
       ]
      },
      {
       "output_type": "stream",
       "stream": "stdout",
       "text": [
        "Epoch 81/90\n",
        "0s - loss: 0.8600 - acc: 0.2552 - val_loss: 0.8633 - val_acc: 0.2420\n",
        "Epoch 82/90\n",
        "0s - loss: 0.8595 - acc: 0.2552 - val_loss: 0.8629 - val_acc: 0.2420\n"
       ]
      },
      {
       "output_type": "stream",
       "stream": "stdout",
       "text": [
        "Epoch 83/90\n",
        "0s - loss: 0.8591 - acc: 0.2553 - val_loss: 0.8625 - val_acc: 0.2420\n",
        "Epoch 84/90\n",
        "0s - loss: 0.8587 - acc: 0.2552 - val_loss: 0.8621 - val_acc: 0.2420\n"
       ]
      },
      {
       "output_type": "stream",
       "stream": "stdout",
       "text": [
        "Epoch 85/90\n",
        "0s - loss: 0.8583 - acc: 0.2552 - val_loss: 0.8617 - val_acc: 0.2420\n",
        "Epoch 86/90\n",
        "0s - loss: 0.8579 - acc: 0.2552 - val_loss: 0.8613 - val_acc: 0.2420\n"
       ]
      },
      {
       "output_type": "stream",
       "stream": "stdout",
       "text": [
        "Epoch 87/90\n",
        "0s - loss: 0.8575 - acc: 0.2552 - val_loss: 0.8609 - val_acc: 0.2420\n",
        "Epoch 88/90\n",
        "0s - loss: 0.8571 - acc: 0.2552 - val_loss: 0.8605 - val_acc: 0.2420\n"
       ]
      },
      {
       "output_type": "stream",
       "stream": "stdout",
       "text": [
        "Epoch 89/90\n",
        "0s - loss: 0.8567 - acc: 0.2552 - val_loss: 0.8601 - val_acc: 0.2420\n",
        "Epoch 90/90\n",
        "0s - loss: 0.8564 - acc: 0.2552 - val_loss: 0.8598 - val_acc: 0.2420\n"
       ]
      },
      {
       "output_type": "stream",
       "stream": "stdout",
       "text": [
        "\r",
        " 200/1000 [=====>........................] - ETA: 0s"
       ]
      },
      {
       "output_type": "stream",
       "stream": "stdout",
       "text": [
        "\r",
        " 200/1000 [=====>........................] - ETA: 0s"
       ]
      },
      {
       "output_type": "stream",
       "stream": "stdout",
       "text": [
        "Train on 4000 samples, validate on 1000 samples\n",
        "Epoch 1/90\n",
        "0s - loss: 1.6128 - acc: 0.2395 - val_loss: 1.5838 - val_acc: 0.2510\n",
        "Epoch 2/90\n",
        "0s - loss: 1.6020 - acc: 0.2395 - val_loss: 1.5739 - val_acc: 0.2510\n"
       ]
      },
      {
       "output_type": "stream",
       "stream": "stdout",
       "text": [
        "Epoch 3/90\n",
        "0s - loss: 1.5915 - acc: 0.2395 - val_loss: 1.5642 - val_acc: 0.2510\n",
        "Epoch 4/90\n",
        "0s - loss: 1.5812 - acc: 0.2395 - val_loss: 1.5548 - val_acc: 0.2510\n"
       ]
      },
      {
       "output_type": "stream",
       "stream": "stdout",
       "text": [
        "Epoch 5/90\n",
        "0s - loss: 1.5713 - acc: 0.2545 - val_loss: 1.5457 - val_acc: 0.2700\n",
        "Epoch 6/90\n",
        "0s - loss: 1.5617 - acc: 0.2597 - val_loss: 1.5370 - val_acc: 0.2700\n"
       ]
      },
      {
       "output_type": "stream",
       "stream": "stdout",
       "text": [
        "Epoch 7/90\n",
        "0s - loss: 1.5524 - acc: 0.2597 - val_loss: 1.5285 - val_acc: 0.2700\n",
        "Epoch 8/90\n",
        "0s - loss: 1.5435 - acc: 0.2598 - val_loss: 1.5203 - val_acc: 0.2700\n"
       ]
      },
      {
       "output_type": "stream",
       "stream": "stdout",
       "text": [
        "Epoch 9/90\n",
        "0s - loss: 1.5348 - acc: 0.2597 - val_loss: 1.5125 - val_acc: 0.2700\n",
        "Epoch 10/90\n",
        "0s - loss: 1.5265 - acc: 0.2597 - val_loss: 1.5049 - val_acc: 0.2700\n"
       ]
      },
      {
       "output_type": "stream",
       "stream": "stdout",
       "text": [
        "Epoch 11/90\n",
        "0s - loss: 1.5185 - acc: 0.2597 - val_loss: 1.4976 - val_acc: 0.2700\n"
       ]
      },
      {
       "output_type": "stream",
       "stream": "stdout",
       "text": [
        "Epoch 12/90\n",
        "0s - loss: 1.5108 - acc: 0.2597 - val_loss: 1.4907 - val_acc: 0.2700\n"
       ]
      },
      {
       "output_type": "stream",
       "stream": "stdout",
       "text": [
        "Epoch 13/90\n",
        "0s - loss: 1.5034 - acc: 0.2597 - val_loss: 1.4841 - val_acc: 0.2700\n",
        "Epoch 14/90\n",
        "0s - loss: 1.4963 - acc: 0.2597 - val_loss: 1.4777 - val_acc: 0.2700\n"
       ]
      },
      {
       "output_type": "stream",
       "stream": "stdout",
       "text": [
        "Epoch 15/90\n",
        "0s - loss: 1.4896 - acc: 0.2598 - val_loss: 1.4716 - val_acc: 0.2700\n",
        "Epoch 16/90\n",
        "0s - loss: 1.4831 - acc: 0.2598 - val_loss: 1.4659 - val_acc: 0.2700\n"
       ]
      },
      {
       "output_type": "stream",
       "stream": "stdout",
       "text": [
        "Epoch 17/90\n",
        "0s - loss: 1.4770 - acc: 0.2597 - val_loss: 1.4604 - val_acc: 0.2700\n",
        "Epoch 18/90\n",
        "0s - loss: 1.4711 - acc: 0.2597 - val_loss: 1.4552 - val_acc: 0.2700\n"
       ]
      },
      {
       "output_type": "stream",
       "stream": "stdout",
       "text": [
        "Epoch 19/90\n",
        "0s - loss: 1.4655 - acc: 0.2598 - val_loss: 1.4503 - val_acc: 0.2700\n",
        "Epoch 20/90\n",
        "0s - loss: 1.4602 - acc: 0.2597 - val_loss: 1.4456 - val_acc: 0.2700\n"
       ]
      },
      {
       "output_type": "stream",
       "stream": "stdout",
       "text": [
        "Epoch 21/90\n",
        "0s - loss: 1.4552 - acc: 0.2598 - val_loss: 1.4412 - val_acc: 0.2700\n",
        "Epoch 22/90\n",
        "0s - loss: 1.4505 - acc: 0.2597 - val_loss: 1.4371 - val_acc: 0.2700\n"
       ]
      },
      {
       "output_type": "stream",
       "stream": "stdout",
       "text": [
        "Epoch 23/90\n",
        "0s - loss: 1.4460 - acc: 0.2597 - val_loss: 1.4332 - val_acc: 0.2700\n",
        "Epoch 24/90\n",
        "0s - loss: 1.4418 - acc: 0.2597 - val_loss: 1.4295 - val_acc: 0.2700\n"
       ]
      },
      {
       "output_type": "stream",
       "stream": "stdout",
       "text": [
        "Epoch 25/90\n",
        "0s - loss: 1.4378 - acc: 0.2598 - val_loss: 1.4261 - val_acc: 0.2700\n",
        "Epoch 26/90\n",
        "0s - loss: 1.4341 - acc: 0.2597 - val_loss: 1.4228 - val_acc: 0.2700\n"
       ]
      },
      {
       "output_type": "stream",
       "stream": "stdout",
       "text": [
        "Epoch 27/90\n",
        "0s - loss: 1.4306 - acc: 0.2597 - val_loss: 1.4198 - val_acc: 0.2700\n"
       ]
      },
      {
       "output_type": "stream",
       "stream": "stdout",
       "text": [
        "Epoch 28/90\n",
        "0s - loss: 1.4273 - acc: 0.2597 - val_loss: 1.4170 - val_acc: 0.2700\n"
       ]
      },
      {
       "output_type": "stream",
       "stream": "stdout",
       "text": [
        "Epoch 29/90\n",
        "0s - loss: 1.4242 - acc: 0.2597 - val_loss: 1.4144 - val_acc: 0.2700\n"
       ]
      },
      {
       "output_type": "stream",
       "stream": "stdout",
       "text": [
        "Epoch 30/90\n",
        "0s - loss: 1.4213 - acc: 0.2598 - val_loss: 1.4120 - val_acc: 0.2700\n"
       ]
      },
      {
       "output_type": "stream",
       "stream": "stdout",
       "text": [
        "Epoch 31/90\n",
        "0s - loss: 1.4186 - acc: 0.2597 - val_loss: 1.4097 - val_acc: 0.2700\n"
       ]
      },
      {
       "output_type": "stream",
       "stream": "stdout",
       "text": [
        "Epoch 32/90\n",
        "0s - loss: 1.4161 - acc: 0.2597 - val_loss: 1.4076 - val_acc: 0.2700\n"
       ]
      },
      {
       "output_type": "stream",
       "stream": "stdout",
       "text": [
        "Epoch 33/90\n",
        "0s - loss: 1.4137 - acc: 0.2598 - val_loss: 1.4056 - val_acc: 0.2700\n"
       ]
      },
      {
       "output_type": "stream",
       "stream": "stdout",
       "text": [
        "Epoch 34/90\n",
        "0s - loss: 1.4115 - acc: 0.2598 - val_loss: 1.4039 - val_acc: 0.2700\n"
       ]
      },
      {
       "output_type": "stream",
       "stream": "stdout",
       "text": [
        "Epoch 35/90\n",
        "0s - loss: 1.4095 - acc: 0.2597 - val_loss: 1.4022 - val_acc: 0.2700\n",
        "Epoch 36/90\n",
        "0s - loss: 1.4076 - acc: 0.2597 - val_loss: 1.4007 - val_acc: 0.2700\n"
       ]
      },
      {
       "output_type": "stream",
       "stream": "stdout",
       "text": [
        "Epoch 37/90\n",
        "0s - loss: 1.4059 - acc: 0.2597 - val_loss: 1.3993 - val_acc: 0.2700\n"
       ]
      },
      {
       "output_type": "stream",
       "stream": "stdout",
       "text": [
        "Epoch 38/90\n",
        "0s - loss: 1.4043 - acc: 0.2597 - val_loss: 1.3980 - val_acc: 0.2700\n"
       ]
      },
      {
       "output_type": "stream",
       "stream": "stdout",
       "text": [
        "Epoch 39/90\n",
        "0s - loss: 1.4028 - acc: 0.2598 - val_loss: 1.3968 - val_acc: 0.2700\n"
       ]
      },
      {
       "output_type": "stream",
       "stream": "stdout",
       "text": [
        "Epoch 40/90\n",
        "0s - loss: 1.4014 - acc: 0.2597 - val_loss: 1.3957 - val_acc: 0.2700\n",
        "Epoch 41/90\n",
        "0s - loss: 1.4001 - acc: 0.2597 - val_loss: 1.3947 - val_acc: 0.2700\n"
       ]
      },
      {
       "output_type": "stream",
       "stream": "stdout",
       "text": [
        "Epoch 42/90\n",
        "0s - loss: 1.3989 - acc: 0.2597 - val_loss: 1.3938 - val_acc: 0.2700\n"
       ]
      },
      {
       "output_type": "stream",
       "stream": "stdout",
       "text": [
        "Epoch 43/90\n",
        "0s - loss: 1.3978 - acc: 0.2597 - val_loss: 1.3930 - val_acc: 0.2700\n"
       ]
      },
      {
       "output_type": "stream",
       "stream": "stdout",
       "text": [
        "Epoch 44/90\n",
        "0s - loss: 1.3968 - acc: 0.2597 - val_loss: 1.3922 - val_acc: 0.2700\n",
        "Epoch 45/90\n",
        "0s - loss: 1.3959 - acc: 0.2597 - val_loss: 1.3915 - val_acc: 0.2700\n"
       ]
      },
      {
       "output_type": "stream",
       "stream": "stdout",
       "text": [
        "Epoch 46/90\n",
        "0s - loss: 1.3951 - acc: 0.2597 - val_loss: 1.3909 - val_acc: 0.2700\n"
       ]
      },
      {
       "output_type": "stream",
       "stream": "stdout",
       "text": [
        "Epoch 47/90\n",
        "0s - loss: 1.3943 - acc: 0.2597 - val_loss: 1.3904 - val_acc: 0.2700\n"
       ]
      },
      {
       "output_type": "stream",
       "stream": "stdout",
       "text": [
        "Epoch 48/90\n",
        "0s - loss: 1.3936 - acc: 0.2597 - val_loss: 1.3899 - val_acc: 0.2700\n"
       ]
      },
      {
       "output_type": "stream",
       "stream": "stdout",
       "text": [
        "Epoch 49/90\n",
        "0s - loss: 1.3929 - acc: 0.2597 - val_loss: 1.3894 - val_acc: 0.2700\n"
       ]
      },
      {
       "output_type": "stream",
       "stream": "stdout",
       "text": [
        "Epoch 50/90\n",
        "0s - loss: 1.3923 - acc: 0.2597 - val_loss: 1.3890 - val_acc: 0.2700\n",
        "Epoch 51/90\n",
        "0s - loss: 1.3918 - acc: 0.2597 - val_loss: 1.3886 - val_acc: 0.2700\n"
       ]
      },
      {
       "output_type": "stream",
       "stream": "stdout",
       "text": [
        "Epoch 52/90\n",
        "0s - loss: 1.3913 - acc: 0.2597 - val_loss: 1.3883 - val_acc: 0.2700\n",
        "Epoch 53/90\n",
        "0s - loss: 1.3908 - acc: 0.2597 - val_loss: 1.3880 - val_acc: 0.2700\n"
       ]
      },
      {
       "output_type": "stream",
       "stream": "stdout",
       "text": [
        "Epoch 54/90\n",
        "0s - loss: 1.3904 - acc: 0.2597 - val_loss: 1.3877 - val_acc: 0.2700\n",
        "Epoch 55/90\n",
        "0s - loss: 1.3900 - acc: 0.2597 - val_loss: 1.3875 - val_acc: 0.2700\n"
       ]
      },
      {
       "output_type": "stream",
       "stream": "stdout",
       "text": [
        "Epoch 56/90\n",
        "0s - loss: 1.3897 - acc: 0.2597 - val_loss: 1.3873 - val_acc: 0.2700\n",
        "Epoch 57/90\n",
        "0s - loss: 1.3893 - acc: 0.2598 - val_loss: 1.3871 - val_acc: 0.2700\n"
       ]
      },
      {
       "output_type": "stream",
       "stream": "stdout",
       "text": [
        "Epoch 58/90\n",
        "0s - loss: 1.3891 - acc: 0.2597 - val_loss: 1.3869 - val_acc: 0.2700\n",
        "Epoch 59/90\n",
        "0s - loss: 1.3888 - acc: 0.2598 - val_loss: 1.3868 - val_acc: 0.2700\n"
       ]
      },
      {
       "output_type": "stream",
       "stream": "stdout",
       "text": [
        "Epoch 60/90\n",
        "0s - loss: 1.3885 - acc: 0.2597 - val_loss: 1.3866 - val_acc: 0.2700\n",
        "Epoch 61/90\n",
        "0s - loss: 1.3883 - acc: 0.2597 - val_loss: 1.3865 - val_acc: 0.2700\n"
       ]
      },
      {
       "output_type": "stream",
       "stream": "stdout",
       "text": [
        "Epoch 62/90\n",
        "0s - loss: 1.3881 - acc: 0.2597 - val_loss: 1.3864 - val_acc: 0.2700\n",
        "Epoch 63/90\n",
        "0s - loss: 1.3879 - acc: 0.2597 - val_loss: 1.3863 - val_acc: 0.2700\n"
       ]
      },
      {
       "output_type": "stream",
       "stream": "stdout",
       "text": [
        "Epoch 64/90\n",
        "0s - loss: 1.3878 - acc: 0.2597 - val_loss: 1.3863 - val_acc: 0.2700\n",
        "Epoch 65/90\n",
        "0s - loss: 1.3876 - acc: 0.2597 - val_loss: 1.3862 - val_acc: 0.2700\n"
       ]
      },
      {
       "output_type": "stream",
       "stream": "stdout",
       "text": [
        "Epoch 66/90\n",
        "0s - loss: 1.3875 - acc: 0.2597 - val_loss: 1.3862 - val_acc: 0.2700\n",
        "Epoch 67/90\n",
        "0s - loss: 1.3874 - acc: 0.2597 - val_loss: 1.3861 - val_acc: 0.2700\n"
       ]
      },
      {
       "output_type": "stream",
       "stream": "stdout",
       "text": [
        "Epoch 68/90\n",
        "0s - loss: 1.3873 - acc: 0.2597 - val_loss: 1.3861 - val_acc: 0.2700\n",
        "Epoch 69/90\n",
        "0s - loss: 1.3872 - acc: 0.2597 - val_loss: 1.3860 - val_acc: 0.2700\n"
       ]
      },
      {
       "output_type": "stream",
       "stream": "stdout",
       "text": [
        "Epoch 70/90\n",
        "0s - loss: 1.3871 - acc: 0.2597 - val_loss: 1.3860 - val_acc: 0.2700\n",
        "Epoch 71/90\n",
        "0s - loss: 1.3870 - acc: 0.2597 - val_loss: 1.3860 - val_acc: 0.2700\n"
       ]
      },
      {
       "output_type": "stream",
       "stream": "stdout",
       "text": [
        "Epoch 72/90\n",
        "0s - loss: 1.3869 - acc: 0.2597 - val_loss: 1.3860 - val_acc: 0.2700\n",
        "Epoch 73/90\n",
        "0s - loss: 1.3868 - acc: 0.2597 - val_loss: 1.3860 - val_acc: 0.2700\n"
       ]
      },
      {
       "output_type": "stream",
       "stream": "stdout",
       "text": [
        "Epoch 74/90\n",
        "0s - loss: 1.3868 - acc: 0.2597 - val_loss: 1.3860 - val_acc: 0.2700\n",
        "Epoch 75/90\n",
        "0s - loss: 1.3867 - acc: 0.2597 - val_loss: 1.3860 - val_acc: 0.2700\n"
       ]
      },
      {
       "output_type": "stream",
       "stream": "stdout",
       "text": [
        "Epoch 76/90\n",
        "0s - loss: 1.3867 - acc: 0.2597 - val_loss: 1.3860 - val_acc: 0.2700\n",
        "Epoch 77/90\n",
        "0s - loss: 1.3866 - acc: 0.2598 - val_loss: 1.3860 - val_acc: 0.2700\n"
       ]
      },
      {
       "output_type": "stream",
       "stream": "stdout",
       "text": [
        "Epoch 78/90\n",
        "0s - loss: 1.3866 - acc: 0.2597 - val_loss: 1.3860 - val_acc: 0.2700\n",
        "Epoch 79/90\n",
        "0s - loss: 1.3865 - acc: 0.2597 - val_loss: 1.3860 - val_acc: 0.2700\n"
       ]
      },
      {
       "output_type": "stream",
       "stream": "stdout",
       "text": [
        "Epoch 80/90\n",
        "0s - loss: 1.3865 - acc: 0.2597 - val_loss: 1.3860 - val_acc: 0.2700\n",
        "Epoch 81/90\n",
        "0s - loss: 1.3865 - acc: 0.2597 - val_loss: 1.3860 - val_acc: 0.2700\n"
       ]
      },
      {
       "output_type": "stream",
       "stream": "stdout",
       "text": [
        "Epoch 82/90\n",
        "0s - loss: 1.3864 - acc: 0.2597 - val_loss: 1.3860 - val_acc: 0.2700\n",
        "Epoch 83/90\n",
        "0s - loss: 1.3864 - acc: 0.2598 - val_loss: 1.3860 - val_acc: 0.2700\n"
       ]
      },
      {
       "output_type": "stream",
       "stream": "stdout",
       "text": [
        "Epoch 84/90\n",
        "0s - loss: 1.3864 - acc: 0.2597 - val_loss: 1.3860 - val_acc: 0.2700\n",
        "Epoch 85/90\n",
        "0s - loss: 1.3864 - acc: 0.2597 - val_loss: 1.3860 - val_acc: 0.2700\n"
       ]
      },
      {
       "output_type": "stream",
       "stream": "stdout",
       "text": [
        "Epoch 86/90\n",
        "0s - loss: 1.3863 - acc: 0.2597 - val_loss: 1.3860 - val_acc: 0.2700\n",
        "Epoch 87/90\n",
        "0s - loss: 1.3863 - acc: 0.2598 - val_loss: 1.3860 - val_acc: 0.2700\n"
       ]
      },
      {
       "output_type": "stream",
       "stream": "stdout",
       "text": [
        "Epoch 88/90\n",
        "0s - loss: 1.3863 - acc: 0.2597 - val_loss: 1.3860 - val_acc: 0.2700\n",
        "Epoch 89/90\n",
        "0s - loss: 1.3863 - acc: 0.2597 - val_loss: 1.3860 - val_acc: 0.2700\n"
       ]
      },
      {
       "output_type": "stream",
       "stream": "stdout",
       "text": [
        "Epoch 90/90\n",
        "0s - loss: 1.3863 - acc: 0.2597 - val_loss: 1.3861 - val_acc: 0.2700\n",
        "\r",
        " 200/1000 [=====>........................] - ETA: 0s"
       ]
      },
      {
       "output_type": "stream",
       "stream": "stdout",
       "text": [
        "\r",
        " 200/1000 [=====>........................] - ETA: 0s"
       ]
      },
      {
       "output_type": "stream",
       "stream": "stdout",
       "text": [
        "Train on 4000 samples, validate on 1000 samples\n",
        "Epoch 1/100\n",
        "0s - loss: 1.0243 - acc: 0.5067 - val_loss: 1.0227 - val_acc: 0.5100\n",
        "Epoch 2/100\n",
        "0s - loss: 1.0158 - acc: 0.5067 - val_loss: 1.0145 - val_acc: 0.5100\n"
       ]
      },
      {
       "output_type": "stream",
       "stream": "stdout",
       "text": [
        "Epoch 3/100\n",
        "0s - loss: 1.0079 - acc: 0.5067 - val_loss: 1.0070 - val_acc: 0.5100\n",
        "Epoch 4/100\n",
        "0s - loss: 1.0006 - acc: 0.5067 - val_loss: 0.9999 - val_acc: 0.5100\n"
       ]
      },
      {
       "output_type": "stream",
       "stream": "stdout",
       "text": [
        "Epoch 5/100\n",
        "0s - loss: 0.9937 - acc: 0.5068 - val_loss: 0.9934 - val_acc: 0.5100\n",
        "Epoch 6/100\n",
        "0s - loss: 0.9873 - acc: 0.5067 - val_loss: 0.9872 - val_acc: 0.5100\n"
       ]
      },
      {
       "output_type": "stream",
       "stream": "stdout",
       "text": [
        "Epoch 7/100\n",
        "0s - loss: 0.9814 - acc: 0.5067 - val_loss: 0.9815 - val_acc: 0.5100\n",
        "Epoch 8/100\n",
        "0s - loss: 0.9757 - acc: 0.5067 - val_loss: 0.9760 - val_acc: 0.5100\n"
       ]
      },
      {
       "output_type": "stream",
       "stream": "stdout",
       "text": [
        "Epoch 9/100\n",
        "0s - loss: 0.9705 - acc: 0.5068 - val_loss: 0.9710 - val_acc: 0.5100\n",
        "Epoch 10/100\n",
        "0s - loss: 0.9655 - acc: 0.5068 - val_loss: 0.9662 - val_acc: 0.5100\n"
       ]
      },
      {
       "output_type": "stream",
       "stream": "stdout",
       "text": [
        "Epoch 11/100\n",
        "0s - loss: 0.9609 - acc: 0.5067 - val_loss: 0.9617 - val_acc: 0.5100\n",
        "Epoch 12/100\n",
        "0s - loss: 0.9564 - acc: 0.5067 - val_loss: 0.9574 - val_acc: 0.5100\n"
       ]
      },
      {
       "output_type": "stream",
       "stream": "stdout",
       "text": [
        "Epoch 13/100\n",
        "0s - loss: 0.9523 - acc: 0.5067 - val_loss: 0.9534 - val_acc: 0.5100\n",
        "Epoch 14/100\n",
        "0s - loss: 0.9484 - acc: 0.5067 - val_loss: 0.9496 - val_acc: 0.5100\n"
       ]
      },
      {
       "output_type": "stream",
       "stream": "stdout",
       "text": [
        "Epoch 15/100\n",
        "0s - loss: 0.9446 - acc: 0.5068 - val_loss: 0.9460 - val_acc: 0.5100\n",
        "Epoch 16/100\n",
        "0s - loss: 0.9411 - acc: 0.5068 - val_loss: 0.9426 - val_acc: 0.5100\n"
       ]
      },
      {
       "output_type": "stream",
       "stream": "stdout",
       "text": [
        "Epoch 17/100\n",
        "0s - loss: 0.9377 - acc: 0.5067 - val_loss: 0.9394 - val_acc: 0.5100\n",
        "Epoch 18/100\n",
        "0s - loss: 0.9346 - acc: 0.5067 - val_loss: 0.9363 - val_acc: 0.5100\n"
       ]
      },
      {
       "output_type": "stream",
       "stream": "stdout",
       "text": [
        "Epoch 19/100\n",
        "0s - loss: 0.9315 - acc: 0.5068 - val_loss: 0.9333 - val_acc: 0.5100\n",
        "Epoch 20/100\n",
        "0s - loss: 0.9286 - acc: 0.5067 - val_loss: 0.9305 - val_acc: 0.5100\n"
       ]
      },
      {
       "output_type": "stream",
       "stream": "stdout",
       "text": [
        "Epoch 21/100\n",
        "0s - loss: 0.9259 - acc: 0.5067 - val_loss: 0.9279 - val_acc: 0.5100\n",
        "Epoch 22/100\n",
        "0s - loss: 0.9233 - acc: 0.5067 - val_loss: 0.9253 - val_acc: 0.5100\n"
       ]
      },
      {
       "output_type": "stream",
       "stream": "stdout",
       "text": [
        "Epoch 23/100\n",
        "0s - loss: 0.9207 - acc: 0.5067 - val_loss: 0.9229 - val_acc: 0.5100\n",
        "Epoch 24/100\n",
        "0s - loss: 0.9184 - acc: 0.5067 - val_loss: 0.9206 - val_acc: 0.5100\n"
       ]
      },
      {
       "output_type": "stream",
       "stream": "stdout",
       "text": [
        "Epoch 25/100\n",
        "0s - loss: 0.9161 - acc: 0.5067 - val_loss: 0.9183 - val_acc: 0.5100\n",
        "Epoch 26/100\n",
        "0s - loss: 0.9139 - acc: 0.5068 - val_loss: 0.9162 - val_acc: 0.5100\n"
       ]
      },
      {
       "output_type": "stream",
       "stream": "stdout",
       "text": [
        "Epoch 27/100\n",
        "0s - loss: 0.9118 - acc: 0.5068 - val_loss: 0.9141 - val_acc: 0.5100\n",
        "Epoch 28/100\n",
        "0s - loss: 0.9097 - acc: 0.5067 - val_loss: 0.9122 - val_acc: 0.5100\n"
       ]
      },
      {
       "output_type": "stream",
       "stream": "stdout",
       "text": [
        "Epoch 29/100\n",
        "0s - loss: 0.9078 - acc: 0.5068 - val_loss: 0.9103 - val_acc: 0.5100\n",
        "Epoch 30/100\n",
        "0s - loss: 0.9059 - acc: 0.5067 - val_loss: 0.9085 - val_acc: 0.5100\n"
       ]
      },
      {
       "output_type": "stream",
       "stream": "stdout",
       "text": [
        "Epoch 31/100\n",
        "0s - loss: 0.9042 - acc: 0.3930 - val_loss: 0.9067 - val_acc: 0.2420\n",
        "Epoch 32/100\n",
        "0s - loss: 0.9024 - acc: 0.2930 - val_loss: 0.9051 - val_acc: 0.2420\n"
       ]
      },
      {
       "output_type": "stream",
       "stream": "stdout",
       "text": [
        "Epoch 33/100\n",
        "0s - loss: 0.9008 - acc: 0.2865 - val_loss: 0.9034 - val_acc: 0.2420\n",
        "Epoch 34/100\n",
        "0s - loss: 0.8992 - acc: 0.2552 - val_loss: 0.9019 - val_acc: 0.2420\n"
       ]
      },
      {
       "output_type": "stream",
       "stream": "stdout",
       "text": [
        "Epoch 35/100\n",
        "0s - loss: 0.8976 - acc: 0.2553 - val_loss: 0.9004 - val_acc: 0.2420\n",
        "Epoch 36/100\n",
        "0s - loss: 0.8962 - acc: 0.2553 - val_loss: 0.8989 - val_acc: 0.2420\n"
       ]
      },
      {
       "output_type": "stream",
       "stream": "stdout",
       "text": [
        "Epoch 37/100\n",
        "0s - loss: 0.8947 - acc: 0.2552 - val_loss: 0.8975 - val_acc: 0.2420\n",
        "Epoch 38/100\n",
        "0s - loss: 0.8933 - acc: 0.2552 - val_loss: 0.8962 - val_acc: 0.2420\n"
       ]
      },
      {
       "output_type": "stream",
       "stream": "stdout",
       "text": [
        "Epoch 39/100\n",
        "0s - loss: 0.8920 - acc: 0.2552 - val_loss: 0.8949 - val_acc: 0.2420\n",
        "Epoch 40/100\n",
        "0s - loss: 0.8907 - acc: 0.2552 - val_loss: 0.8936 - val_acc: 0.2420\n"
       ]
      },
      {
       "output_type": "stream",
       "stream": "stdout",
       "text": [
        "Epoch 41/100\n",
        "0s - loss: 0.8895 - acc: 0.2552 - val_loss: 0.8924 - val_acc: 0.2420\n",
        "Epoch 42/100\n",
        "0s - loss: 0.8883 - acc: 0.2552 - val_loss: 0.8912 - val_acc: 0.2420\n"
       ]
      },
      {
       "output_type": "stream",
       "stream": "stdout",
       "text": [
        "Epoch 43/100\n",
        "0s - loss: 0.8871 - acc: 0.2552 - val_loss: 0.8901 - val_acc: 0.2420\n",
        "Epoch 44/100\n",
        "0s - loss: 0.8860 - acc: 0.2552 - val_loss: 0.8890 - val_acc: 0.2420\n"
       ]
      },
      {
       "output_type": "stream",
       "stream": "stdout",
       "text": [
        "Epoch 45/100\n",
        "0s - loss: 0.8849 - acc: 0.2552 - val_loss: 0.8879 - val_acc: 0.2420\n",
        "Epoch 46/100\n",
        "0s - loss: 0.8838 - acc: 0.2552 - val_loss: 0.8868 - val_acc: 0.2420\n"
       ]
      },
      {
       "output_type": "stream",
       "stream": "stdout",
       "text": [
        "Epoch 47/100\n",
        "0s - loss: 0.8828 - acc: 0.2552 - val_loss: 0.8858 - val_acc: 0.2420\n",
        "Epoch 48/100\n",
        "0s - loss: 0.8818 - acc: 0.2552 - val_loss: 0.8848 - val_acc: 0.2420\n"
       ]
      },
      {
       "output_type": "stream",
       "stream": "stdout",
       "text": [
        "Epoch 49/100\n",
        "0s - loss: 0.8808 - acc: 0.2552 - val_loss: 0.8839 - val_acc: 0.2420\n",
        "Epoch 50/100\n",
        "0s - loss: 0.8799 - acc: 0.2552 - val_loss: 0.8830 - val_acc: 0.2420\n"
       ]
      },
      {
       "output_type": "stream",
       "stream": "stdout",
       "text": [
        "Epoch 51/100\n",
        "0s - loss: 0.8790 - acc: 0.2552 - val_loss: 0.8821 - val_acc: 0.2420\n",
        "Epoch 52/100\n",
        "0s - loss: 0.8781 - acc: 0.2553 - val_loss: 0.8812 - val_acc: 0.2420\n"
       ]
      },
      {
       "output_type": "stream",
       "stream": "stdout",
       "text": [
        "Epoch 53/100\n",
        "0s - loss: 0.8772 - acc: 0.2552 - val_loss: 0.8803 - val_acc: 0.2420\n",
        "Epoch 54/100\n",
        "0s - loss: 0.8764 - acc: 0.2552 - val_loss: 0.8795 - val_acc: 0.2420\n"
       ]
      },
      {
       "output_type": "stream",
       "stream": "stdout",
       "text": [
        "Epoch 55/100\n",
        "0s - loss: 0.8755 - acc: 0.2552 - val_loss: 0.8787 - val_acc: 0.2420\n",
        "Epoch 56/100\n",
        "0s - loss: 0.8747 - acc: 0.2552 - val_loss: 0.8779 - val_acc: 0.2420\n"
       ]
      },
      {
       "output_type": "stream",
       "stream": "stdout",
       "text": [
        "Epoch 57/100\n",
        "0s - loss: 0.8740 - acc: 0.2553 - val_loss: 0.8772 - val_acc: 0.2420\n",
        "Epoch 58/100\n",
        "0s - loss: 0.8732 - acc: 0.2552 - val_loss: 0.8764 - val_acc: 0.2420\n"
       ]
      },
      {
       "output_type": "stream",
       "stream": "stdout",
       "text": [
        "Epoch 59/100\n",
        "0s - loss: 0.8725 - acc: 0.2552 - val_loss: 0.8757 - val_acc: 0.2420\n",
        "Epoch 60/100\n",
        "0s - loss: 0.8718 - acc: 0.2552 - val_loss: 0.8750 - val_acc: 0.2420\n"
       ]
      },
      {
       "output_type": "stream",
       "stream": "stdout",
       "text": [
        "Epoch 61/100\n",
        "0s - loss: 0.8711 - acc: 0.2552 - val_loss: 0.8743 - val_acc: 0.2420\n",
        "Epoch 62/100\n",
        "0s - loss: 0.8704 - acc: 0.2552 - val_loss: 0.8736 - val_acc: 0.2420\n"
       ]
      },
      {
       "output_type": "stream",
       "stream": "stdout",
       "text": [
        "Epoch 63/100\n",
        "0s - loss: 0.8697 - acc: 0.2552 - val_loss: 0.8730 - val_acc: 0.2420\n",
        "Epoch 64/100\n",
        "0s - loss: 0.8691 - acc: 0.2553 - val_loss: 0.8723 - val_acc: 0.2420\n"
       ]
      },
      {
       "output_type": "stream",
       "stream": "stdout",
       "text": [
        "Epoch 65/100\n",
        "0s - loss: 0.8684 - acc: 0.2553 - val_loss: 0.8717 - val_acc: 0.2420\n",
        "Epoch 66/100\n",
        "0s - loss: 0.8678 - acc: 0.2552 - val_loss: 0.8711 - val_acc: 0.2420\n"
       ]
      },
      {
       "output_type": "stream",
       "stream": "stdout",
       "text": [
        "Epoch 67/100\n",
        "0s - loss: 0.8672 - acc: 0.2552 - val_loss: 0.8705 - val_acc: 0.2420\n",
        "Epoch 68/100\n",
        "0s - loss: 0.8666 - acc: 0.2553 - val_loss: 0.8699 - val_acc: 0.2420\n"
       ]
      },
      {
       "output_type": "stream",
       "stream": "stdout",
       "text": [
        "Epoch 69/100\n",
        "0s - loss: 0.8660 - acc: 0.2552 - val_loss: 0.8694 - val_acc: 0.2420\n",
        "Epoch 70/100\n",
        "0s - loss: 0.8655 - acc: 0.2553 - val_loss: 0.8688 - val_acc: 0.2420\n"
       ]
      },
      {
       "output_type": "stream",
       "stream": "stdout",
       "text": [
        "Epoch 71/100\n",
        "0s - loss: 0.8649 - acc: 0.2553 - val_loss: 0.8683 - val_acc: 0.2420\n",
        "Epoch 72/100\n",
        "0s - loss: 0.8644 - acc: 0.2553 - val_loss: 0.8677 - val_acc: 0.2420\n"
       ]
      },
      {
       "output_type": "stream",
       "stream": "stdout",
       "text": [
        "Epoch 73/100\n",
        "0s - loss: 0.8639 - acc: 0.2552 - val_loss: 0.8672 - val_acc: 0.2420\n",
        "Epoch 74/100\n",
        "0s - loss: 0.8634 - acc: 0.2552 - val_loss: 0.8667 - val_acc: 0.2420\n"
       ]
      },
      {
       "output_type": "stream",
       "stream": "stdout",
       "text": [
        "Epoch 75/100\n",
        "0s - loss: 0.8629 - acc: 0.2552 - val_loss: 0.8662 - val_acc: 0.2420\n",
        "Epoch 76/100\n",
        "0s - loss: 0.8624 - acc: 0.2552 - val_loss: 0.8657 - val_acc: 0.2420\n"
       ]
      },
      {
       "output_type": "stream",
       "stream": "stdout",
       "text": [
        "Epoch 77/100\n",
        "0s - loss: 0.8619 - acc: 0.2553 - val_loss: 0.8652 - val_acc: 0.2420\n",
        "Epoch 78/100\n",
        "0s - loss: 0.8614 - acc: 0.2552 - val_loss: 0.8648 - val_acc: 0.2420\n"
       ]
      },
      {
       "output_type": "stream",
       "stream": "stdout",
       "text": [
        "Epoch 79/100\n",
        "0s - loss: 0.8610 - acc: 0.2552 - val_loss: 0.8643 - val_acc: 0.2420\n",
        "Epoch 80/100\n",
        "0s - loss: 0.8605 - acc: 0.2552 - val_loss: 0.8639 - val_acc: 0.2420\n"
       ]
      },
      {
       "output_type": "stream",
       "stream": "stdout",
       "text": [
        "Epoch 81/100\n",
        "0s - loss: 0.8601 - acc: 0.2552 - val_loss: 0.8634 - val_acc: 0.2420\n",
        "Epoch 82/100\n",
        "0s - loss: 0.8596 - acc: 0.2552 - val_loss: 0.8630 - val_acc: 0.2420\n"
       ]
      },
      {
       "output_type": "stream",
       "stream": "stdout",
       "text": [
        "Epoch 83/100\n",
        "0s - loss: 0.8592 - acc: 0.2552 - val_loss: 0.8626 - val_acc: 0.2420\n",
        "Epoch 84/100\n",
        "0s - loss: 0.8588 - acc: 0.2553 - val_loss: 0.8622 - val_acc: 0.2420\n"
       ]
      },
      {
       "output_type": "stream",
       "stream": "stdout",
       "text": [
        "Epoch 85/100\n",
        "0s - loss: 0.8584 - acc: 0.2552 - val_loss: 0.8618 - val_acc: 0.2420\n",
        "Epoch 86/100\n",
        "0s - loss: 0.8580 - acc: 0.2552 - val_loss: 0.8614 - val_acc: 0.2420\n"
       ]
      },
      {
       "output_type": "stream",
       "stream": "stdout",
       "text": [
        "Epoch 87/100\n",
        "0s - loss: 0.8576 - acc: 0.2552 - val_loss: 0.8610 - val_acc: 0.2420\n",
        "Epoch 88/100\n",
        "0s - loss: 0.8572 - acc: 0.2552 - val_loss: 0.8606 - val_acc: 0.2420\n"
       ]
      },
      {
       "output_type": "stream",
       "stream": "stdout",
       "text": [
        "Epoch 89/100\n",
        "0s - loss: 0.8568 - acc: 0.2553 - val_loss: 0.8602 - val_acc: 0.2420\n",
        "Epoch 90/100\n",
        "0s - loss: 0.8565 - acc: 0.2552 - val_loss: 0.8599 - val_acc: 0.2420\n"
       ]
      },
      {
       "output_type": "stream",
       "stream": "stdout",
       "text": [
        "Epoch 91/100\n",
        "0s - loss: 0.8561 - acc: 0.2553 - val_loss: 0.8595 - val_acc: 0.2420\n",
        "Epoch 92/100\n",
        "0s - loss: 0.8557 - acc: 0.2552 - val_loss: 0.8591 - val_acc: 0.2420\n"
       ]
      },
      {
       "output_type": "stream",
       "stream": "stdout",
       "text": [
        "Epoch 93/100\n",
        "0s - loss: 0.8554 - acc: 0.2552 - val_loss: 0.8588 - val_acc: 0.2420\n",
        "Epoch 94/100\n",
        "0s - loss: 0.8550 - acc: 0.2552 - val_loss: 0.8585 - val_acc: 0.2420\n"
       ]
      },
      {
       "output_type": "stream",
       "stream": "stdout",
       "text": [
        "Epoch 95/100\n",
        "0s - loss: 0.8547 - acc: 0.2552 - val_loss: 0.8581 - val_acc: 0.2420\n",
        "Epoch 96/100\n",
        "0s - loss: 0.8544 - acc: 0.2552 - val_loss: 0.8578 - val_acc: 0.2420\n"
       ]
      },
      {
       "output_type": "stream",
       "stream": "stdout",
       "text": [
        "Epoch 97/100\n",
        "0s - loss: 0.8540 - acc: 0.2552 - val_loss: 0.8575 - val_acc: 0.2420\n",
        "Epoch 98/100\n",
        "0s - loss: 0.8537 - acc: 0.2552 - val_loss: 0.8571 - val_acc: 0.2420\n"
       ]
      },
      {
       "output_type": "stream",
       "stream": "stdout",
       "text": [
        "Epoch 99/100\n",
        "0s - loss: 0.8534 - acc: 0.2552 - val_loss: 0.8568 - val_acc: 0.2420\n",
        "Epoch 100/100\n",
        "0s - loss: 0.8531 - acc: 0.2552 - val_loss: 0.8565 - val_acc: 0.2420\n"
       ]
      },
      {
       "output_type": "stream",
       "stream": "stdout",
       "text": [
        "\r",
        " 200/1000 [=====>........................] - ETA: 0s"
       ]
      },
      {
       "output_type": "stream",
       "stream": "stdout",
       "text": [
        "\r",
        " 200/1000 [=====>........................] - ETA: 0s"
       ]
      },
      {
       "output_type": "stream",
       "stream": "stdout",
       "text": [
        "Train on 4000 samples, validate on 1000 samples\n",
        "Epoch 1/100\n",
        "0s - loss: 1.6315 - acc: 0.2395 - val_loss: 1.6011 - val_acc: 0.2510\n",
        "Epoch 2/100\n",
        "0s - loss: 1.6202 - acc: 0.2395 - val_loss: 1.5906 - val_acc: 0.2510\n"
       ]
      },
      {
       "output_type": "stream",
       "stream": "stdout",
       "text": [
        "Epoch 3/100\n",
        "0s - loss: 1.6091 - acc: 0.2395 - val_loss: 1.5804 - val_acc: 0.2510\n",
        "Epoch 4/100\n",
        "0s - loss: 1.5984 - acc: 0.2395 - val_loss: 1.5706 - val_acc: 0.2510\n"
       ]
      },
      {
       "output_type": "stream",
       "stream": "stdout",
       "text": [
        "Epoch 5/100\n",
        "0s - loss: 1.5879 - acc: 0.2505 - val_loss: 1.5610 - val_acc: 0.2700\n",
        "Epoch 6/100\n",
        "0s - loss: 1.5778 - acc: 0.2597 - val_loss: 1.5517 - val_acc: 0.2700\n"
       ]
      },
      {
       "output_type": "stream",
       "stream": "stdout",
       "text": [
        "Epoch 7/100\n",
        "0s - loss: 1.5680 - acc: 0.2597 - val_loss: 1.5427 - val_acc: 0.2700\n",
        "Epoch 8/100\n",
        "0s - loss: 1.5585 - acc: 0.2597 - val_loss: 1.5340 - val_acc: 0.2700\n"
       ]
      },
      {
       "output_type": "stream",
       "stream": "stdout",
       "text": [
        "Epoch 9/100\n",
        "0s - loss: 1.5493 - acc: 0.2597 - val_loss: 1.5256 - val_acc: 0.2700\n",
        "Epoch 10/100\n",
        "0s - loss: 1.5404 - acc: 0.2597 - val_loss: 1.5175 - val_acc: 0.2700\n"
       ]
      },
      {
       "output_type": "stream",
       "stream": "stdout",
       "text": [
        "Epoch 11/100\n",
        "0s - loss: 1.5319 - acc: 0.2597 - val_loss: 1.5098 - val_acc: 0.2700\n",
        "Epoch 12/100\n",
        "0s - loss: 1.5236 - acc: 0.2597 - val_loss: 1.5023 - val_acc: 0.2700\n"
       ]
      },
      {
       "output_type": "stream",
       "stream": "stdout",
       "text": [
        "Epoch 13/100\n",
        "0s - loss: 1.5157 - acc: 0.2597 - val_loss: 1.4952 - val_acc: 0.2700\n",
        "Epoch 14/100\n",
        "0s - loss: 1.5081 - acc: 0.2597 - val_loss: 1.4883 - val_acc: 0.2700\n"
       ]
      },
      {
       "output_type": "stream",
       "stream": "stdout",
       "text": [
        "Epoch 15/100\n",
        "0s - loss: 1.5009 - acc: 0.2597 - val_loss: 1.4818 - val_acc: 0.2700\n",
        "Epoch 16/100\n",
        "0s - loss: 1.4939 - acc: 0.2597 - val_loss: 1.4755 - val_acc: 0.2700\n"
       ]
      },
      {
       "output_type": "stream",
       "stream": "stdout",
       "text": [
        "Epoch 17/100\n",
        "0s - loss: 1.4872 - acc: 0.2597 - val_loss: 1.4696 - val_acc: 0.2700\n",
        "Epoch 18/100\n",
        "0s - loss: 1.4809 - acc: 0.2598 - val_loss: 1.4639 - val_acc: 0.2700\n"
       ]
      },
      {
       "output_type": "stream",
       "stream": "stdout",
       "text": [
        "Epoch 19/100\n",
        "0s - loss: 1.4748 - acc: 0.2597 - val_loss: 1.4585 - val_acc: 0.2700\n",
        "Epoch 20/100\n",
        "0s - loss: 1.4691 - acc: 0.2597 - val_loss: 1.4534 - val_acc: 0.2700\n"
       ]
      },
      {
       "output_type": "stream",
       "stream": "stdout",
       "text": [
        "Epoch 21/100\n",
        "0s - loss: 1.4636 - acc: 0.2598 - val_loss: 1.4486 - val_acc: 0.2700\n",
        "Epoch 22/100\n",
        "0s - loss: 1.4584 - acc: 0.2597 - val_loss: 1.4440 - val_acc: 0.2700\n"
       ]
      },
      {
       "output_type": "stream",
       "stream": "stdout",
       "text": [
        "Epoch 23/100\n",
        "0s - loss: 1.4535 - acc: 0.2598 - val_loss: 1.4397 - val_acc: 0.2700\n",
        "Epoch 24/100\n",
        "0s - loss: 1.4488 - acc: 0.2597 - val_loss: 1.4356 - val_acc: 0.2700\n"
       ]
      },
      {
       "output_type": "stream",
       "stream": "stdout",
       "text": [
        "Epoch 25/100\n",
        "0s - loss: 1.4444 - acc: 0.2598 - val_loss: 1.4318 - val_acc: 0.2700\n",
        "Epoch 26/100\n",
        "0s - loss: 1.4403 - acc: 0.2597 - val_loss: 1.4282 - val_acc: 0.2700\n"
       ]
      },
      {
       "output_type": "stream",
       "stream": "stdout",
       "text": [
        "Epoch 27/100\n",
        "0s - loss: 1.4364 - acc: 0.2597 - val_loss: 1.4249 - val_acc: 0.2700\n",
        "Epoch 28/100\n",
        "0s - loss: 1.4327 - acc: 0.2597 - val_loss: 1.4217 - val_acc: 0.2700\n"
       ]
      },
      {
       "output_type": "stream",
       "stream": "stdout",
       "text": [
        "Epoch 29/100\n",
        "0s - loss: 1.4293 - acc: 0.2597 - val_loss: 1.4188 - val_acc: 0.2700\n",
        "Epoch 30/100\n",
        "0s - loss: 1.4261 - acc: 0.2597 - val_loss: 1.4160 - val_acc: 0.2700\n"
       ]
      },
      {
       "output_type": "stream",
       "stream": "stdout",
       "text": [
        "Epoch 31/100\n",
        "0s - loss: 1.4231 - acc: 0.2598 - val_loss: 1.4135 - val_acc: 0.2700\n",
        "Epoch 32/100\n",
        "0s - loss: 1.4202 - acc: 0.2597 - val_loss: 1.4111 - val_acc: 0.2700\n"
       ]
      },
      {
       "output_type": "stream",
       "stream": "stdout",
       "text": [
        "Epoch 33/100\n",
        "0s - loss: 1.4176 - acc: 0.2597 - val_loss: 1.4089 - val_acc: 0.2700\n",
        "Epoch 34/100\n",
        "0s - loss: 1.4151 - acc: 0.2597 - val_loss: 1.4068 - val_acc: 0.2700\n"
       ]
      },
      {
       "output_type": "stream",
       "stream": "stdout",
       "text": [
        "Epoch 35/100\n",
        "0s - loss: 1.4129 - acc: 0.2597 - val_loss: 1.4049 - val_acc: 0.2700\n",
        "Epoch 36/100\n",
        "0s - loss: 1.4107 - acc: 0.2597 - val_loss: 1.4032 - val_acc: 0.2700\n"
       ]
      },
      {
       "output_type": "stream",
       "stream": "stdout",
       "text": [
        "Epoch 37/100\n",
        "0s - loss: 1.4088 - acc: 0.2597 - val_loss: 1.4016 - val_acc: 0.2700\n",
        "Epoch 38/100\n",
        "0s - loss: 1.4069 - acc: 0.2597 - val_loss: 1.4001 - val_acc: 0.2700\n"
       ]
      },
      {
       "output_type": "stream",
       "stream": "stdout",
       "text": [
        "Epoch 39/100\n",
        "0s - loss: 1.4052 - acc: 0.2598 - val_loss: 1.3987 - val_acc: 0.2700\n",
        "Epoch 40/100\n",
        "0s - loss: 1.4037 - acc: 0.2597 - val_loss: 1.3975 - val_acc: 0.2700\n"
       ]
      },
      {
       "output_type": "stream",
       "stream": "stdout",
       "text": [
        "Epoch 41/100\n",
        "0s - loss: 1.4022 - acc: 0.2598 - val_loss: 1.3963 - val_acc: 0.2700\n",
        "Epoch 42/100\n",
        "0s - loss: 1.4009 - acc: 0.2597 - val_loss: 1.3953 - val_acc: 0.2700\n"
       ]
      },
      {
       "output_type": "stream",
       "stream": "stdout",
       "text": [
        "Epoch 43/100\n",
        "0s - loss: 1.3996 - acc: 0.2598 - val_loss: 1.3943 - val_acc: 0.2700\n",
        "Epoch 44/100\n",
        "0s - loss: 1.3985 - acc: 0.2597 - val_loss: 1.3935 - val_acc: 0.2700\n"
       ]
      },
      {
       "output_type": "stream",
       "stream": "stdout",
       "text": [
        "Epoch 45/100\n",
        "0s - loss: 1.3974 - acc: 0.2597 - val_loss: 1.3927 - val_acc: 0.2700\n",
        "Epoch 46/100\n",
        "0s - loss: 1.3964 - acc: 0.2597 - val_loss: 1.3919 - val_acc: 0.2700\n"
       ]
      },
      {
       "output_type": "stream",
       "stream": "stdout",
       "text": [
        "Epoch 47/100\n",
        "0s - loss: 1.3956 - acc: 0.2597 - val_loss: 1.3913 - val_acc: 0.2700\n",
        "Epoch 48/100\n",
        "0s - loss: 1.3947 - acc: 0.2597 - val_loss: 1.3907 - val_acc: 0.2700\n"
       ]
      },
      {
       "output_type": "stream",
       "stream": "stdout",
       "text": [
        "Epoch 49/100\n",
        "0s - loss: 1.3940 - acc: 0.2597 - val_loss: 1.3902 - val_acc: 0.2700\n",
        "Epoch 50/100\n",
        "0s - loss: 1.3933 - acc: 0.2597 - val_loss: 1.3897 - val_acc: 0.2700\n"
       ]
      },
      {
       "output_type": "stream",
       "stream": "stdout",
       "text": [
        "Epoch 51/100\n",
        "0s - loss: 1.3927 - acc: 0.2597 - val_loss: 1.3892 - val_acc: 0.2700\n",
        "Epoch 52/100\n",
        "0s - loss: 1.3921 - acc: 0.2598 - val_loss: 1.3888 - val_acc: 0.2700\n"
       ]
      },
      {
       "output_type": "stream",
       "stream": "stdout",
       "text": [
        "Epoch 53/100\n",
        "0s - loss: 1.3916 - acc: 0.2598 - val_loss: 1.3885 - val_acc: 0.2700\n",
        "Epoch 54/100\n",
        "0s - loss: 1.3911 - acc: 0.2597 - val_loss: 1.3882 - val_acc: 0.2700\n"
       ]
      },
      {
       "output_type": "stream",
       "stream": "stdout",
       "text": [
        "Epoch 55/100\n",
        "0s - loss: 1.3906 - acc: 0.2597 - val_loss: 1.3879 - val_acc: 0.2700\n",
        "Epoch 56/100\n",
        "0s - loss: 1.3902 - acc: 0.2597 - val_loss: 1.3876 - val_acc: 0.2700\n"
       ]
      },
      {
       "output_type": "stream",
       "stream": "stdout",
       "text": [
        "Epoch 57/100\n",
        "0s - loss: 1.3899 - acc: 0.2597 - val_loss: 1.3874 - val_acc: 0.2700\n",
        "Epoch 58/100\n",
        "0s - loss: 1.3895 - acc: 0.2597 - val_loss: 1.3872 - val_acc: 0.2700\n"
       ]
      },
      {
       "output_type": "stream",
       "stream": "stdout",
       "text": [
        "Epoch 59/100\n",
        "0s - loss: 1.3892 - acc: 0.2597 - val_loss: 1.3870 - val_acc: 0.2700\n",
        "Epoch 60/100\n",
        "0s - loss: 1.3889 - acc: 0.2597 - val_loss: 1.3869 - val_acc: 0.2700\n"
       ]
      },
      {
       "output_type": "stream",
       "stream": "stdout",
       "text": [
        "Epoch 61/100\n",
        "0s - loss: 1.3887 - acc: 0.2597 - val_loss: 1.3867 - val_acc: 0.2700\n",
        "Epoch 62/100\n",
        "0s - loss: 1.3884 - acc: 0.2597 - val_loss: 1.3866 - val_acc: 0.2700\n"
       ]
      },
      {
       "output_type": "stream",
       "stream": "stdout",
       "text": [
        "Epoch 63/100\n",
        "0s - loss: 1.3882 - acc: 0.2597 - val_loss: 1.3865 - val_acc: 0.2700\n",
        "Epoch 64/100\n",
        "0s - loss: 1.3880 - acc: 0.2597 - val_loss: 1.3864 - val_acc: 0.2700\n"
       ]
      },
      {
       "output_type": "stream",
       "stream": "stdout",
       "text": [
        "Epoch 65/100\n",
        "0s - loss: 1.3879 - acc: 0.2597 - val_loss: 1.3863 - val_acc: 0.2700\n",
        "Epoch 66/100\n",
        "0s - loss: 1.3877 - acc: 0.2598 - val_loss: 1.3862 - val_acc: 0.2700\n"
       ]
      },
      {
       "output_type": "stream",
       "stream": "stdout",
       "text": [
        "Epoch 67/100\n",
        "0s - loss: 1.3876 - acc: 0.2597 - val_loss: 1.3862 - val_acc: 0.2700\n",
        "Epoch 68/100\n",
        "0s - loss: 1.3874 - acc: 0.2597 - val_loss: 1.3861 - val_acc: 0.2700\n"
       ]
      },
      {
       "output_type": "stream",
       "stream": "stdout",
       "text": [
        "Epoch 69/100\n",
        "0s - loss: 1.3873 - acc: 0.2598 - val_loss: 1.3861 - val_acc: 0.2700\n",
        "Epoch 70/100\n",
        "0s - loss: 1.3872 - acc: 0.2597 - val_loss: 1.3861 - val_acc: 0.2700\n"
       ]
      },
      {
       "output_type": "stream",
       "stream": "stdout",
       "text": [
        "Epoch 71/100\n",
        "0s - loss: 1.3871 - acc: 0.2597 - val_loss: 1.3860 - val_acc: 0.2700\n",
        "Epoch 72/100\n",
        "0s - loss: 1.3870 - acc: 0.2597 - val_loss: 1.3860 - val_acc: 0.2700\n"
       ]
      },
      {
       "output_type": "stream",
       "stream": "stdout",
       "text": [
        "Epoch 73/100\n",
        "0s - loss: 1.3869 - acc: 0.2597 - val_loss: 1.3860 - val_acc: 0.2700\n",
        "Epoch 74/100\n",
        "0s - loss: 1.3869 - acc: 0.2597 - val_loss: 1.3860 - val_acc: 0.2700\n"
       ]
      },
      {
       "output_type": "stream",
       "stream": "stdout",
       "text": [
        "Epoch 75/100\n",
        "0s - loss: 1.3868 - acc: 0.2597 - val_loss: 1.3860 - val_acc: 0.2700\n"
       ]
      },
      {
       "output_type": "stream",
       "stream": "stdout",
       "text": [
        "Epoch 76/100\n",
        "0s - loss: 1.3867 - acc: 0.2597 - val_loss: 1.3860 - val_acc: 0.2700\n",
        "Epoch 77/100\n",
        "0s - loss: 1.3867 - acc: 0.2597 - val_loss: 1.3860 - val_acc: 0.2700\n"
       ]
      },
      {
       "output_type": "stream",
       "stream": "stdout",
       "text": [
        "Epoch 78/100\n",
        "0s - loss: 1.3866 - acc: 0.2597 - val_loss: 1.3860 - val_acc: 0.2700\n",
        "Epoch 79/100\n",
        "0s - loss: 1.3866 - acc: 0.2597 - val_loss: 1.3860 - val_acc: 0.2700\n"
       ]
      },
      {
       "output_type": "stream",
       "stream": "stdout",
       "text": [
        "Epoch 80/100\n",
        "0s - loss: 1.3865 - acc: 0.2598 - val_loss: 1.3860 - val_acc: 0.2700\n",
        "Epoch 81/100\n",
        "0s - loss: 1.3865 - acc: 0.2597 - val_loss: 1.3860 - val_acc: 0.2700\n"
       ]
      },
      {
       "output_type": "stream",
       "stream": "stdout",
       "text": [
        "Epoch 82/100\n",
        "0s - loss: 1.3865 - acc: 0.2598 - val_loss: 1.3860 - val_acc: 0.2700\n",
        "Epoch 83/100\n",
        "0s - loss: 1.3864 - acc: 0.2597 - val_loss: 1.3860 - val_acc: 0.2700\n"
       ]
      },
      {
       "output_type": "stream",
       "stream": "stdout",
       "text": [
        "Epoch 84/100\n",
        "0s - loss: 1.3864 - acc: 0.2597 - val_loss: 1.3860 - val_acc: 0.2700\n",
        "Epoch 85/100\n",
        "0s - loss: 1.3864 - acc: 0.2598 - val_loss: 1.3860 - val_acc: 0.2700\n"
       ]
      },
      {
       "output_type": "stream",
       "stream": "stdout",
       "text": [
        "Epoch 86/100\n",
        "0s - loss: 1.3864 - acc: 0.2598 - val_loss: 1.3860 - val_acc: 0.2700\n",
        "Epoch 87/100\n",
        "0s - loss: 1.3864 - acc: 0.2598 - val_loss: 1.3860 - val_acc: 0.2700\n"
       ]
      },
      {
       "output_type": "stream",
       "stream": "stdout",
       "text": [
        "Epoch 88/100\n",
        "0s - loss: 1.3863 - acc: 0.2598 - val_loss: 1.3860 - val_acc: 0.2700\n",
        "Epoch 89/100\n",
        "0s - loss: 1.3863 - acc: 0.2597 - val_loss: 1.3860 - val_acc: 0.2700\n"
       ]
      },
      {
       "output_type": "stream",
       "stream": "stdout",
       "text": [
        "Epoch 90/100\n",
        "0s - loss: 1.3863 - acc: 0.2598 - val_loss: 1.3860 - val_acc: 0.2700\n",
        "Epoch 91/100\n",
        "0s - loss: 1.3863 - acc: 0.2597 - val_loss: 1.3861 - val_acc: 0.2700\n"
       ]
      },
      {
       "output_type": "stream",
       "stream": "stdout",
       "text": [
        "Epoch 92/100\n",
        "0s - loss: 1.3863 - acc: 0.2597 - val_loss: 1.3861 - val_acc: 0.2700\n",
        "Epoch 93/100\n",
        "0s - loss: 1.3863 - acc: 0.2597 - val_loss: 1.3861 - val_acc: 0.2700\n"
       ]
      },
      {
       "output_type": "stream",
       "stream": "stdout",
       "text": [
        "Epoch 94/100\n",
        "0s - loss: 1.3863 - acc: 0.2598 - val_loss: 1.3861 - val_acc: 0.2700\n",
        "Epoch 95/100\n",
        "0s - loss: 1.3862 - acc: 0.2597 - val_loss: 1.3861 - val_acc: 0.2700\n"
       ]
      },
      {
       "output_type": "stream",
       "stream": "stdout",
       "text": [
        "Epoch 96/100\n",
        "0s - loss: 1.3862 - acc: 0.2597 - val_loss: 1.3861 - val_acc: 0.2700\n",
        "Epoch 97/100\n",
        "0s - loss: 1.3862 - acc: 0.2597 - val_loss: 1.3861 - val_acc: 0.2700\n"
       ]
      },
      {
       "output_type": "stream",
       "stream": "stdout",
       "text": [
        "Epoch 98/100\n",
        "0s - loss: 1.3862 - acc: 0.2597 - val_loss: 1.3861 - val_acc: 0.2700\n",
        "Epoch 99/100\n",
        "0s - loss: 1.3862 - acc: 0.2597 - val_loss: 1.3861 - val_acc: 0.2700\n"
       ]
      },
      {
       "output_type": "stream",
       "stream": "stdout",
       "text": [
        "Epoch 100/100\n",
        "0s - loss: 1.3862 - acc: 0.2597 - val_loss: 1.3862 - val_acc: 0.2700\n",
        "\r",
        " 200/1000 [=====>........................] - ETA: 0s"
       ]
      },
      {
       "output_type": "stream",
       "stream": "stdout",
       "text": [
        "\r",
        " 200/1000 [=====>........................] - ETA: 0s"
       ]
      },
      {
       "output_type": "stream",
       "stream": "stdout",
       "text": [
        "Train on 4000 samples, validate on 1000 samples\n",
        "Epoch 1/110\n",
        "0s - loss: 1.0264 - acc: 0.5067 - val_loss: 1.0247 - val_acc: 0.5100\n",
        "Epoch 2/110\n",
        "0s - loss: 1.0178 - acc: 0.5067 - val_loss: 1.0164 - val_acc: 0.5100\n"
       ]
      },
      {
       "output_type": "stream",
       "stream": "stdout",
       "text": [
        "Epoch 3/110\n",
        "0s - loss: 1.0097 - acc: 0.5067 - val_loss: 1.0087 - val_acc: 0.5100\n",
        "Epoch 4/110\n",
        "0s - loss: 1.0022 - acc: 0.5067 - val_loss: 1.0015 - val_acc: 0.5100\n"
       ]
      },
      {
       "output_type": "stream",
       "stream": "stdout",
       "text": [
        "Epoch 5/110\n",
        "0s - loss: 0.9952 - acc: 0.5067 - val_loss: 0.9948 - val_acc: 0.5100\n",
        "Epoch 6/110\n",
        "0s - loss: 0.9887 - acc: 0.5067 - val_loss: 0.9885 - val_acc: 0.5100\n"
       ]
      },
      {
       "output_type": "stream",
       "stream": "stdout",
       "text": [
        "Epoch 7/110\n",
        "0s - loss: 0.9826 - acc: 0.5067 - val_loss: 0.9827 - val_acc: 0.5100\n",
        "Epoch 8/110\n",
        "0s - loss: 0.9769 - acc: 0.5067 - val_loss: 0.9772 - val_acc: 0.5100\n"
       ]
      },
      {
       "output_type": "stream",
       "stream": "stdout",
       "text": [
        "Epoch 9/110\n",
        "0s - loss: 0.9716 - acc: 0.5067 - val_loss: 0.9720 - val_acc: 0.5100\n",
        "Epoch 10/110\n",
        "0s - loss: 0.9665 - acc: 0.5067 - val_loss: 0.9672 - val_acc: 0.5100\n"
       ]
      },
      {
       "output_type": "stream",
       "stream": "stdout",
       "text": [
        "Epoch 11/110\n",
        "0s - loss: 0.9618 - acc: 0.5067 - val_loss: 0.9626 - val_acc: 0.5100\n",
        "Epoch 12/110\n",
        "0s - loss: 0.9573 - acc: 0.5067 - val_loss: 0.9583 - val_acc: 0.5100\n"
       ]
      },
      {
       "output_type": "stream",
       "stream": "stdout",
       "text": [
        "Epoch 13/110\n",
        "0s - loss: 0.9531 - acc: 0.5067 - val_loss: 0.9542 - val_acc: 0.5100\n",
        "Epoch 14/110\n",
        "0s - loss: 0.9491 - acc: 0.5067 - val_loss: 0.9504 - val_acc: 0.5100\n"
       ]
      },
      {
       "output_type": "stream",
       "stream": "stdout",
       "text": [
        "Epoch 15/110\n",
        "0s - loss: 0.9454 - acc: 0.5067 - val_loss: 0.9467 - val_acc: 0.5100\n",
        "Epoch 16/110\n",
        "0s - loss: 0.9418 - acc: 0.5067 - val_loss: 0.9433 - val_acc: 0.5100\n"
       ]
      },
      {
       "output_type": "stream",
       "stream": "stdout",
       "text": [
        "Epoch 17/110\n",
        "0s - loss: 0.9384 - acc: 0.5068 - val_loss: 0.9400 - val_acc: 0.5100\n",
        "Epoch 18/110\n",
        "0s - loss: 0.9352 - acc: 0.5067 - val_loss: 0.9369 - val_acc: 0.5100\n"
       ]
      },
      {
       "output_type": "stream",
       "stream": "stdout",
       "text": [
        "Epoch 19/110\n",
        "0s - loss: 0.9321 - acc: 0.5068 - val_loss: 0.9339 - val_acc: 0.5100\n",
        "Epoch 20/110\n",
        "0s - loss: 0.9292 - acc: 0.5067 - val_loss: 0.9311 - val_acc: 0.5100\n"
       ]
      },
      {
       "output_type": "stream",
       "stream": "stdout",
       "text": [
        "Epoch 21/110\n",
        "0s - loss: 0.9264 - acc: 0.5068 - val_loss: 0.9284 - val_acc: 0.5100\n",
        "Epoch 22/110\n",
        "0s - loss: 0.9237 - acc: 0.5067 - val_loss: 0.9258 - val_acc: 0.5100\n"
       ]
      },
      {
       "output_type": "stream",
       "stream": "stdout",
       "text": [
        "Epoch 23/110\n",
        "0s - loss: 0.9212 - acc: 0.5068 - val_loss: 0.9233 - val_acc: 0.5100\n",
        "Epoch 24/110\n",
        "0s - loss: 0.9188 - acc: 0.5068 - val_loss: 0.9210 - val_acc: 0.5100\n"
       ]
      },
      {
       "output_type": "stream",
       "stream": "stdout",
       "text": [
        "Epoch 25/110\n",
        "0s - loss: 0.9165 - acc: 0.5067 - val_loss: 0.9187 - val_acc: 0.5100\n",
        "Epoch 26/110\n",
        "0s - loss: 0.9143 - acc: 0.5067 - val_loss: 0.9166 - val_acc: 0.5100\n"
       ]
      },
      {
       "output_type": "stream",
       "stream": "stdout",
       "text": [
        "Epoch 27/110\n",
        "0s - loss: 0.9121 - acc: 0.5068 - val_loss: 0.9145 - val_acc: 0.5100\n",
        "Epoch 28/110\n",
        "0s - loss: 0.9101 - acc: 0.4845 - val_loss: 0.9125 - val_acc: 0.5100\n"
       ]
      },
      {
       "output_type": "stream",
       "stream": "stdout",
       "text": [
        "Epoch 29/110\n",
        "0s - loss: 0.9081 - acc: 0.4273 - val_loss: 0.9106 - val_acc: 0.5100\n",
        "Epoch 30/110\n",
        "0s - loss: 0.9063 - acc: 0.4950 - val_loss: 0.9088 - val_acc: 0.2420\n"
       ]
      },
      {
       "output_type": "stream",
       "stream": "stdout",
       "text": [
        "Epoch 31/110\n",
        "0s - loss: 0.9045 - acc: 0.4517 - val_loss: 0.9070 - val_acc: 0.2420\n",
        "Epoch 32/110\n",
        "0s - loss: 0.9027 - acc: 0.2552 - val_loss: 0.9053 - val_acc: 0.2420\n"
       ]
      },
      {
       "output_type": "stream",
       "stream": "stdout",
       "text": [
        "Epoch 33/110\n",
        "0s - loss: 0.9011 - acc: 0.2552 - val_loss: 0.9037 - val_acc: 0.2420\n",
        "Epoch 34/110\n",
        "0s - loss: 0.8995 - acc: 0.2552 - val_loss: 0.9022 - val_acc: 0.2420\n"
       ]
      },
      {
       "output_type": "stream",
       "stream": "stdout",
       "text": [
        "Epoch 35/110\n",
        "0s - loss: 0.8979 - acc: 0.2552 - val_loss: 0.9006 - val_acc: 0.2420\n",
        "Epoch 36/110\n",
        "0s - loss: 0.8964 - acc: 0.2552 - val_loss: 0.8992 - val_acc: 0.2420\n"
       ]
      },
      {
       "output_type": "stream",
       "stream": "stdout",
       "text": [
        "Epoch 37/110\n",
        "0s - loss: 0.8950 - acc: 0.2553 - val_loss: 0.8978 - val_acc: 0.2420\n",
        "Epoch 38/110\n",
        "0s - loss: 0.8936 - acc: 0.2552 - val_loss: 0.8964 - val_acc: 0.2420\n"
       ]
      },
      {
       "output_type": "stream",
       "stream": "stdout",
       "text": [
        "Epoch 39/110\n",
        "0s - loss: 0.8922 - acc: 0.2552 - val_loss: 0.8951 - val_acc: 0.2420\n",
        "Epoch 40/110\n",
        "0s - loss: 0.8909 - acc: 0.2553 - val_loss: 0.8938 - val_acc: 0.2420\n"
       ]
      },
      {
       "output_type": "stream",
       "stream": "stdout",
       "text": [
        "Epoch 41/110\n",
        "0s - loss: 0.8897 - acc: 0.2553 - val_loss: 0.8926 - val_acc: 0.2420\n",
        "Epoch 42/110\n",
        "0s - loss: 0.8885 - acc: 0.2553 - val_loss: 0.8914 - val_acc: 0.2420\n"
       ]
      },
      {
       "output_type": "stream",
       "stream": "stdout",
       "text": [
        "Epoch 43/110\n",
        "0s - loss: 0.8873 - acc: 0.2553 - val_loss: 0.8903 - val_acc: 0.2420\n",
        "Epoch 44/110\n",
        "0s - loss: 0.8862 - acc: 0.2553 - val_loss: 0.8891 - val_acc: 0.2420\n"
       ]
      },
      {
       "output_type": "stream",
       "stream": "stdout",
       "text": [
        "Epoch 45/110\n",
        "0s - loss: 0.8851 - acc: 0.2552 - val_loss: 0.8881 - val_acc: 0.2420\n",
        "Epoch 46/110\n",
        "0s - loss: 0.8840 - acc: 0.2552 - val_loss: 0.8870 - val_acc: 0.2420\n"
       ]
      },
      {
       "output_type": "stream",
       "stream": "stdout",
       "text": [
        "Epoch 47/110\n",
        "0s - loss: 0.8829 - acc: 0.2552 - val_loss: 0.8860 - val_acc: 0.2420\n",
        "Epoch 48/110\n",
        "0s - loss: 0.8819 - acc: 0.2552 - val_loss: 0.8850 - val_acc: 0.2420\n"
       ]
      },
      {
       "output_type": "stream",
       "stream": "stdout",
       "text": [
        "Epoch 49/110\n",
        "0s - loss: 0.8810 - acc: 0.2552 - val_loss: 0.8841 - val_acc: 0.2420\n",
        "Epoch 50/110\n",
        "0s - loss: 0.8800 - acc: 0.2552 - val_loss: 0.8831 - val_acc: 0.2420\n"
       ]
      },
      {
       "output_type": "stream",
       "stream": "stdout",
       "text": [
        "Epoch 51/110\n",
        "0s - loss: 0.8791 - acc: 0.2552 - val_loss: 0.8822 - val_acc: 0.2420\n",
        "Epoch 52/110\n",
        "0s - loss: 0.8782 - acc: 0.2553 - val_loss: 0.8813 - val_acc: 0.2420\n"
       ]
      },
      {
       "output_type": "stream",
       "stream": "stdout",
       "text": [
        "Epoch 53/110\n",
        "0s - loss: 0.8773 - acc: 0.2552 - val_loss: 0.8805 - val_acc: 0.2420\n",
        "Epoch 54/110\n",
        "0s - loss: 0.8765 - acc: 0.2552 - val_loss: 0.8797 - val_acc: 0.2420\n"
       ]
      },
      {
       "output_type": "stream",
       "stream": "stdout",
       "text": [
        "Epoch 55/110\n",
        "0s - loss: 0.8757 - acc: 0.2552 - val_loss: 0.8788 - val_acc: 0.2420\n",
        "Epoch 56/110\n",
        "0s - loss: 0.8749 - acc: 0.2552 - val_loss: 0.8781 - val_acc: 0.2420\n"
       ]
      },
      {
       "output_type": "stream",
       "stream": "stdout",
       "text": [
        "Epoch 57/110\n",
        "0s - loss: 0.8741 - acc: 0.2552 - val_loss: 0.8773 - val_acc: 0.2420\n",
        "Epoch 58/110\n",
        "0s - loss: 0.8733 - acc: 0.2552 - val_loss: 0.8766 - val_acc: 0.2420\n"
       ]
      },
      {
       "output_type": "stream",
       "stream": "stdout",
       "text": [
        "Epoch 59/110\n",
        "0s - loss: 0.8726 - acc: 0.2552 - val_loss: 0.8758 - val_acc: 0.2420\n",
        "Epoch 60/110\n",
        "0s - loss: 0.8719 - acc: 0.2552 - val_loss: 0.8751 - val_acc: 0.2420\n"
       ]
      },
      {
       "output_type": "stream",
       "stream": "stdout",
       "text": [
        "Epoch 61/110\n",
        "0s - loss: 0.8712 - acc: 0.2552 - val_loss: 0.8744 - val_acc: 0.2420\n"
       ]
      },
      {
       "output_type": "stream",
       "stream": "stdout",
       "text": [
        "Epoch 62/110\n",
        "0s - loss: 0.8705 - acc: 0.2552 - val_loss: 0.8737 - val_acc: 0.2420\n",
        "Epoch 63/110\n",
        "0s - loss: 0.8698 - acc: 0.2552 - val_loss: 0.8731 - val_acc: 0.2420\n"
       ]
      },
      {
       "output_type": "stream",
       "stream": "stdout",
       "text": [
        "Epoch 64/110\n",
        "0s - loss: 0.8692 - acc: 0.2552 - val_loss: 0.8725 - val_acc: 0.2420\n",
        "Epoch 65/110\n",
        "0s - loss: 0.8685 - acc: 0.2552 - val_loss: 0.8718 - val_acc: 0.2420\n"
       ]
      },
      {
       "output_type": "stream",
       "stream": "stdout",
       "text": [
        "Epoch 66/110\n",
        "0s - loss: 0.8679 - acc: 0.2553 - val_loss: 0.8712 - val_acc: 0.2420\n",
        "Epoch 67/110\n",
        "0s - loss: 0.8673 - acc: 0.2552 - val_loss: 0.8706 - val_acc: 0.2420\n"
       ]
      },
      {
       "output_type": "stream",
       "stream": "stdout",
       "text": [
        "Epoch 68/110\n",
        "0s - loss: 0.8667 - acc: 0.2552 - val_loss: 0.8700 - val_acc: 0.2420\n",
        "Epoch 69/110\n",
        "0s - loss: 0.8662 - acc: 0.2552 - val_loss: 0.8695 - val_acc: 0.2420\n"
       ]
      },
      {
       "output_type": "stream",
       "stream": "stdout",
       "text": [
        "Epoch 70/110\n",
        "0s - loss: 0.8656 - acc: 0.2552 - val_loss: 0.8689 - val_acc: 0.2420\n",
        "Epoch 71/110\n",
        "0s - loss: 0.8650 - acc: 0.2553 - val_loss: 0.8684 - val_acc: 0.2420\n"
       ]
      },
      {
       "output_type": "stream",
       "stream": "stdout",
       "text": [
        "Epoch 72/110\n",
        "0s - loss: 0.8645 - acc: 0.2552 - val_loss: 0.8678 - val_acc: 0.2420\n"
       ]
      },
      {
       "output_type": "stream",
       "stream": "stdout",
       "text": [
        "Epoch 73/110\n",
        "0s - loss: 0.8640 - acc: 0.2552 - val_loss: 0.8673 - val_acc: 0.2420\n"
       ]
      },
      {
       "output_type": "stream",
       "stream": "stdout",
       "text": [
        "Epoch 74/110\n",
        "0s - loss: 0.8635 - acc: 0.2552 - val_loss: 0.8668 - val_acc: 0.2420\n"
       ]
      },
      {
       "output_type": "stream",
       "stream": "stdout",
       "text": [
        "Epoch 75/110\n",
        "0s - loss: 0.8630 - acc: 0.2552 - val_loss: 0.8663 - val_acc: 0.2420\n"
       ]
      },
      {
       "output_type": "stream",
       "stream": "stdout",
       "text": [
        "Epoch 76/110\n",
        "0s - loss: 0.8625 - acc: 0.2552 - val_loss: 0.8658 - val_acc: 0.2420\n"
       ]
      },
      {
       "output_type": "stream",
       "stream": "stdout",
       "text": [
        "Epoch 77/110\n",
        "0s - loss: 0.8620 - acc: 0.2552 - val_loss: 0.8653 - val_acc: 0.2420\n"
       ]
      },
      {
       "output_type": "stream",
       "stream": "stdout",
       "text": [
        "Epoch 78/110\n",
        "0s - loss: 0.8615 - acc: 0.2553 - val_loss: 0.8649 - val_acc: 0.2420\n"
       ]
      },
      {
       "output_type": "stream",
       "stream": "stdout",
       "text": [
        "Epoch 79/110\n",
        "0s - loss: 0.8610 - acc: 0.2552 - val_loss: 0.8644 - val_acc: 0.2420\n"
       ]
      },
      {
       "output_type": "stream",
       "stream": "stdout",
       "text": [
        "Epoch 80/110\n",
        "0s - loss: 0.8606 - acc: 0.2552 - val_loss: 0.8639 - val_acc: 0.2420\n",
        "Epoch 81/110\n",
        "0s - loss: 0.8601 - acc: 0.2552 - val_loss: 0.8635 - val_acc: 0.2420\n"
       ]
      },
      {
       "output_type": "stream",
       "stream": "stdout",
       "text": [
        "Epoch 82/110\n",
        "0s - loss: 0.8597 - acc: 0.2552 - val_loss: 0.8631 - val_acc: 0.2420\n"
       ]
      },
      {
       "output_type": "stream",
       "stream": "stdout",
       "text": [
        "Epoch 83/110\n",
        "0s - loss: 0.8593 - acc: 0.2552 - val_loss: 0.8627 - val_acc: 0.2420\n"
       ]
      },
      {
       "output_type": "stream",
       "stream": "stdout",
       "text": [
        "Epoch 84/110\n",
        "0s - loss: 0.8589 - acc: 0.2552 - val_loss: 0.8622 - val_acc: 0.2420\n"
       ]
      },
      {
       "output_type": "stream",
       "stream": "stdout",
       "text": [
        "Epoch 85/110\n",
        "0s - loss: 0.8585 - acc: 0.2552 - val_loss: 0.8618 - val_acc: 0.2420\n"
       ]
      },
      {
       "output_type": "stream",
       "stream": "stdout",
       "text": [
        "Epoch 86/110\n",
        "0s - loss: 0.8580 - acc: 0.2552 - val_loss: 0.8614 - val_acc: 0.2420\n"
       ]
      },
      {
       "output_type": "stream",
       "stream": "stdout",
       "text": [
        "Epoch 87/110\n",
        "0s - loss: 0.8577 - acc: 0.2553 - val_loss: 0.8610 - val_acc: 0.2420\n"
       ]
      },
      {
       "output_type": "stream",
       "stream": "stdout",
       "text": [
        "Epoch 88/110\n",
        "0s - loss: 0.8573 - acc: 0.2552 - val_loss: 0.8607 - val_acc: 0.2420\n"
       ]
      },
      {
       "output_type": "stream",
       "stream": "stdout",
       "text": [
        "Epoch 89/110\n",
        "0s - loss: 0.8569 - acc: 0.2552 - val_loss: 0.8603 - val_acc: 0.2420\n"
       ]
      },
      {
       "output_type": "stream",
       "stream": "stdout",
       "text": [
        "Epoch 90/110\n",
        "0s - loss: 0.8565 - acc: 0.2552 - val_loss: 0.8599 - val_acc: 0.2420\n",
        "Epoch 91/110\n",
        "0s - loss: 0.8561 - acc: 0.2553 - val_loss: 0.8596 - val_acc: 0.2420\n"
       ]
      },
      {
       "output_type": "stream",
       "stream": "stdout",
       "text": [
        "Epoch 92/110\n",
        "0s - loss: 0.8558 - acc: 0.2552 - val_loss: 0.8592 - val_acc: 0.2420\n"
       ]
      },
      {
       "output_type": "stream",
       "stream": "stdout",
       "text": [
        "Epoch 93/110\n",
        "0s - loss: 0.8554 - acc: 0.2552 - val_loss: 0.8588 - val_acc: 0.2420\n"
       ]
      },
      {
       "output_type": "stream",
       "stream": "stdout",
       "text": [
        "Epoch 94/110\n",
        "0s - loss: 0.8551 - acc: 0.2552 - val_loss: 0.8585 - val_acc: 0.2420\n"
       ]
      },
      {
       "output_type": "stream",
       "stream": "stdout",
       "text": [
        "Epoch 95/110\n",
        "0s - loss: 0.8548 - acc: 0.2553 - val_loss: 0.8582 - val_acc: 0.2420\n"
       ]
      },
      {
       "output_type": "stream",
       "stream": "stdout",
       "text": [
        "Epoch 96/110\n",
        "0s - loss: 0.8544 - acc: 0.2552 - val_loss: 0.8578 - val_acc: 0.2420\n",
        "Epoch 97/110\n",
        "0s - loss: 0.8541 - acc: 0.2552 - val_loss: 0.8575 - val_acc: 0.2420\n"
       ]
      },
      {
       "output_type": "stream",
       "stream": "stdout",
       "text": [
        "Epoch 98/110\n",
        "0s - loss: 0.8538 - acc: 0.2552 - val_loss: 0.8572 - val_acc: 0.2420\n",
        "Epoch 99/110\n",
        "0s - loss: 0.8535 - acc: 0.2553 - val_loss: 0.8569 - val_acc: 0.2420\n"
       ]
      },
      {
       "output_type": "stream",
       "stream": "stdout",
       "text": [
        "Epoch 100/110\n",
        "0s - loss: 0.8531 - acc: 0.2552 - val_loss: 0.8566 - val_acc: 0.2420\n",
        "Epoch 101/110\n",
        "0s - loss: 0.8528 - acc: 0.2552 - val_loss: 0.8563 - val_acc: 0.2420\n"
       ]
      },
      {
       "output_type": "stream",
       "stream": "stdout",
       "text": [
        "Epoch 102/110\n",
        "0s - loss: 0.8525 - acc: 0.2552 - val_loss: 0.8560 - val_acc: 0.2420\n"
       ]
      },
      {
       "output_type": "stream",
       "stream": "stdout",
       "text": [
        "Epoch 103/110\n",
        "0s - loss: 0.8522 - acc: 0.2553 - val_loss: 0.8557 - val_acc: 0.2420\n"
       ]
      },
      {
       "output_type": "stream",
       "stream": "stdout",
       "text": [
        "Epoch 104/110\n",
        "0s - loss: 0.8520 - acc: 0.2552 - val_loss: 0.8554 - val_acc: 0.2420\n"
       ]
      },
      {
       "output_type": "stream",
       "stream": "stdout",
       "text": [
        "Epoch 105/110\n",
        "0s - loss: 0.8517 - acc: 0.2552 - val_loss: 0.8551 - val_acc: 0.2420\n"
       ]
      },
      {
       "output_type": "stream",
       "stream": "stdout",
       "text": [
        "Epoch 106/110\n",
        "0s - loss: 0.8514 - acc: 0.2552 - val_loss: 0.8548 - val_acc: 0.2420\n"
       ]
      },
      {
       "output_type": "stream",
       "stream": "stdout",
       "text": [
        "Epoch 107/110\n",
        "0s - loss: 0.8511 - acc: 0.2552 - val_loss: 0.8546 - val_acc: 0.2420\n"
       ]
      },
      {
       "output_type": "stream",
       "stream": "stdout",
       "text": [
        "Epoch 108/110\n",
        "0s - loss: 0.8508 - acc: 0.2552 - val_loss: 0.8543 - val_acc: 0.2420\n"
       ]
      },
      {
       "output_type": "stream",
       "stream": "stdout",
       "text": [
        "Epoch 109/110\n",
        "0s - loss: 0.8506 - acc: 0.2552 - val_loss: 0.8540 - val_acc: 0.2420\n"
       ]
      },
      {
       "output_type": "stream",
       "stream": "stdout",
       "text": [
        "Epoch 110/110\n",
        "0s - loss: 0.8503 - acc: 0.2553 - val_loss: 0.8538 - val_acc: 0.2420\n"
       ]
      },
      {
       "output_type": "stream",
       "stream": "stdout",
       "text": [
        "\r",
        " 200/1000 [=====>........................] - ETA: 0s"
       ]
      },
      {
       "output_type": "stream",
       "stream": "stdout",
       "text": [
        "\r",
        " 200/1000 [=====>........................] - ETA: 0s"
       ]
      },
      {
       "output_type": "stream",
       "stream": "stdout",
       "text": [
        "Train on 4000 samples, validate on 1000 samples\n",
        "Epoch 1/110\n",
        "0s - loss: 1.6492 - acc: 0.2395 - val_loss: 1.6175 - val_acc: 0.2510\n"
       ]
      },
      {
       "output_type": "stream",
       "stream": "stdout",
       "text": [
        "Epoch 2/110\n",
        "0s - loss: 1.6374 - acc: 0.2395 - val_loss: 1.6066 - val_acc: 0.2510\n"
       ]
      },
      {
       "output_type": "stream",
       "stream": "stdout",
       "text": [
        "Epoch 3/110\n",
        "0s - loss: 1.6259 - acc: 0.2395 - val_loss: 1.5959 - val_acc: 0.2510\n",
        "Epoch 4/110\n",
        "0s - loss: 1.6147 - acc: 0.2395 - val_loss: 1.5856 - val_acc: 0.2510\n"
       ]
      },
      {
       "output_type": "stream",
       "stream": "stdout",
       "text": [
        "Epoch 5/110\n",
        "0s - loss: 1.6038 - acc: 0.2578 - val_loss: 1.5756 - val_acc: 0.2700\n",
        "Epoch 6/110\n",
        "0s - loss: 1.5932 - acc: 0.2598 - val_loss: 1.5658 - val_acc: 0.2700\n"
       ]
      },
      {
       "output_type": "stream",
       "stream": "stdout",
       "text": [
        "Epoch 7/110\n",
        "0s - loss: 1.5829 - acc: 0.2597 - val_loss: 1.5564 - val_acc: 0.2700\n",
        "Epoch 8/110\n",
        "0s - loss: 1.5729 - acc: 0.2597 - val_loss: 1.5473 - val_acc: 0.2700\n"
       ]
      },
      {
       "output_type": "stream",
       "stream": "stdout",
       "text": [
        "Epoch 9/110\n",
        "0s - loss: 1.5633 - acc: 0.2597 - val_loss: 1.5384 - val_acc: 0.2700\n",
        "Epoch 10/110\n",
        "0s - loss: 1.5539 - acc: 0.2597 - val_loss: 1.5299 - val_acc: 0.2700\n"
       ]
      },
      {
       "output_type": "stream",
       "stream": "stdout",
       "text": [
        "Epoch 11/110\n",
        "0s - loss: 1.5449 - acc: 0.2597 - val_loss: 1.5217 - val_acc: 0.2700\n",
        "Epoch 12/110\n",
        "0s - loss: 1.5362 - acc: 0.2597 - val_loss: 1.5138 - val_acc: 0.2700\n"
       ]
      },
      {
       "output_type": "stream",
       "stream": "stdout",
       "text": [
        "Epoch 13/110\n",
        "0s - loss: 1.5278 - acc: 0.2597 - val_loss: 1.5062 - val_acc: 0.2700\n",
        "Epoch 14/110\n",
        "0s - loss: 1.5198 - acc: 0.2597 - val_loss: 1.4988 - val_acc: 0.2700\n"
       ]
      },
      {
       "output_type": "stream",
       "stream": "stdout",
       "text": [
        "Epoch 15/110\n",
        "0s - loss: 1.5120 - acc: 0.2597 - val_loss: 1.4918 - val_acc: 0.2700\n",
        "Epoch 16/110\n",
        "0s - loss: 1.5046 - acc: 0.2597 - val_loss: 1.4851 - val_acc: 0.2700\n"
       ]
      },
      {
       "output_type": "stream",
       "stream": "stdout",
       "text": [
        "Epoch 17/110\n",
        "0s - loss: 1.4974 - acc: 0.2597 - val_loss: 1.4787 - val_acc: 0.2700\n",
        "Epoch 18/110\n",
        "0s - loss: 1.4906 - acc: 0.2597 - val_loss: 1.4726 - val_acc: 0.2700\n"
       ]
      },
      {
       "output_type": "stream",
       "stream": "stdout",
       "text": [
        "Epoch 19/110\n",
        "0s - loss: 1.4841 - acc: 0.2597 - val_loss: 1.4668 - val_acc: 0.2700\n",
        "Epoch 20/110\n",
        "0s - loss: 1.4779 - acc: 0.2597 - val_loss: 1.4613 - val_acc: 0.2700\n"
       ]
      },
      {
       "output_type": "stream",
       "stream": "stdout",
       "text": [
        "Epoch 21/110\n",
        "0s - loss: 1.4720 - acc: 0.2597 - val_loss: 1.4560 - val_acc: 0.2700\n",
        "Epoch 22/110\n",
        "0s - loss: 1.4664 - acc: 0.2597 - val_loss: 1.4510 - val_acc: 0.2700\n"
       ]
      },
      {
       "output_type": "stream",
       "stream": "stdout",
       "text": [
        "Epoch 23/110\n",
        "0s - loss: 1.4610 - acc: 0.2597 - val_loss: 1.4463 - val_acc: 0.2700\n",
        "Epoch 24/110\n",
        "0s - loss: 1.4560 - acc: 0.2597 - val_loss: 1.4419 - val_acc: 0.2700\n"
       ]
      },
      {
       "output_type": "stream",
       "stream": "stdout",
       "text": [
        "Epoch 25/110\n",
        "0s - loss: 1.4512 - acc: 0.2597 - val_loss: 1.4377 - val_acc: 0.2700\n",
        "Epoch 26/110\n",
        "0s - loss: 1.4466 - acc: 0.2597 - val_loss: 1.4337 - val_acc: 0.2700\n"
       ]
      },
      {
       "output_type": "stream",
       "stream": "stdout",
       "text": [
        "Epoch 27/110\n",
        "0s - loss: 1.4424 - acc: 0.2597 - val_loss: 1.4300 - val_acc: 0.2700\n",
        "Epoch 28/110\n",
        "0s - loss: 1.4383 - acc: 0.2597 - val_loss: 1.4265 - val_acc: 0.2700\n"
       ]
      },
      {
       "output_type": "stream",
       "stream": "stdout",
       "text": [
        "Epoch 29/110\n",
        "0s - loss: 1.4346 - acc: 0.2598 - val_loss: 1.4233 - val_acc: 0.2700\n",
        "Epoch 30/110\n",
        "0s - loss: 1.4310 - acc: 0.2597 - val_loss: 1.4202 - val_acc: 0.2700\n"
       ]
      },
      {
       "output_type": "stream",
       "stream": "stdout",
       "text": [
        "Epoch 31/110\n",
        "0s - loss: 1.4277 - acc: 0.2598 - val_loss: 1.4174 - val_acc: 0.2700\n",
        "Epoch 32/110\n",
        "0s - loss: 1.4245 - acc: 0.2597 - val_loss: 1.4147 - val_acc: 0.2700\n"
       ]
      },
      {
       "output_type": "stream",
       "stream": "stdout",
       "text": [
        "Epoch 33/110\n",
        "0s - loss: 1.4216 - acc: 0.2598 - val_loss: 1.4122 - val_acc: 0.2700\n",
        "Epoch 34/110\n",
        "0s - loss: 1.4189 - acc: 0.2597 - val_loss: 1.4099 - val_acc: 0.2700\n"
       ]
      },
      {
       "output_type": "stream",
       "stream": "stdout",
       "text": [
        "Epoch 35/110\n",
        "0s - loss: 1.4163 - acc: 0.2597 - val_loss: 1.4078 - val_acc: 0.2700\n",
        "Epoch 36/110\n",
        "0s - loss: 1.4139 - acc: 0.2597 - val_loss: 1.4059 - val_acc: 0.2700\n"
       ]
      },
      {
       "output_type": "stream",
       "stream": "stdout",
       "text": [
        "Epoch 37/110\n",
        "0s - loss: 1.4117 - acc: 0.2597 - val_loss: 1.4040 - val_acc: 0.2700\n",
        "Epoch 38/110\n",
        "0s - loss: 1.4097 - acc: 0.2597 - val_loss: 1.4024 - val_acc: 0.2700\n"
       ]
      },
      {
       "output_type": "stream",
       "stream": "stdout",
       "text": [
        "Epoch 39/110\n",
        "0s - loss: 1.4078 - acc: 0.2598 - val_loss: 1.4008 - val_acc: 0.2700\n",
        "Epoch 40/110\n",
        "0s - loss: 1.4060 - acc: 0.2597 - val_loss: 1.3994 - val_acc: 0.2700\n"
       ]
      },
      {
       "output_type": "stream",
       "stream": "stdout",
       "text": [
        "Epoch 41/110\n",
        "0s - loss: 1.4044 - acc: 0.2598 - val_loss: 1.3981 - val_acc: 0.2700\n",
        "Epoch 42/110\n",
        "0s - loss: 1.4029 - acc: 0.2597 - val_loss: 1.3969 - val_acc: 0.2700\n"
       ]
      },
      {
       "output_type": "stream",
       "stream": "stdout",
       "text": [
        "Epoch 43/110\n",
        "0s - loss: 1.4015 - acc: 0.2597 - val_loss: 1.3958 - val_acc: 0.2700\n",
        "Epoch 44/110\n",
        "0s - loss: 1.4002 - acc: 0.2597 - val_loss: 1.3948 - val_acc: 0.2700\n"
       ]
      },
      {
       "output_type": "stream",
       "stream": "stdout",
       "text": [
        "Epoch 45/110\n",
        "0s - loss: 1.3990 - acc: 0.2597 - val_loss: 1.3939 - val_acc: 0.2700\n",
        "Epoch 46/110\n",
        "0s - loss: 1.3979 - acc: 0.2597 - val_loss: 1.3930 - val_acc: 0.2700\n"
       ]
      },
      {
       "output_type": "stream",
       "stream": "stdout",
       "text": [
        "Epoch 47/110\n",
        "0s - loss: 1.3969 - acc: 0.2597 - val_loss: 1.3923 - val_acc: 0.2700\n",
        "Epoch 48/110\n",
        "0s - loss: 1.3959 - acc: 0.2597 - val_loss: 1.3916 - val_acc: 0.2700\n"
       ]
      },
      {
       "output_type": "stream",
       "stream": "stdout",
       "text": [
        "Epoch 49/110\n",
        "0s - loss: 1.3951 - acc: 0.2597 - val_loss: 1.3909 - val_acc: 0.2700\n",
        "Epoch 50/110\n",
        "0s - loss: 1.3943 - acc: 0.2597 - val_loss: 1.3904 - val_acc: 0.2700\n"
       ]
      },
      {
       "output_type": "stream",
       "stream": "stdout",
       "text": [
        "Epoch 51/110\n",
        "0s - loss: 1.3936 - acc: 0.2597 - val_loss: 1.3899 - val_acc: 0.2700\n",
        "Epoch 52/110\n",
        "0s - loss: 1.3929 - acc: 0.2597 - val_loss: 1.3894 - val_acc: 0.2700\n"
       ]
      },
      {
       "output_type": "stream",
       "stream": "stdout",
       "text": [
        "Epoch 53/110\n",
        "0s - loss: 1.3923 - acc: 0.2597 - val_loss: 1.3890 - val_acc: 0.2700\n",
        "Epoch 54/110\n",
        "0s - loss: 1.3918 - acc: 0.2597 - val_loss: 1.3886 - val_acc: 0.2700\n"
       ]
      },
      {
       "output_type": "stream",
       "stream": "stdout",
       "text": [
        "Epoch 55/110\n",
        "0s - loss: 1.3913 - acc: 0.2597 - val_loss: 1.3883 - val_acc: 0.2700\n",
        "Epoch 56/110\n",
        "0s - loss: 1.3908 - acc: 0.2598 - val_loss: 1.3880 - val_acc: 0.2700\n"
       ]
      },
      {
       "output_type": "stream",
       "stream": "stdout",
       "text": [
        "Epoch 57/110\n",
        "0s - loss: 1.3904 - acc: 0.2598 - val_loss: 1.3877 - val_acc: 0.2700\n",
        "Epoch 58/110\n",
        "0s - loss: 1.3900 - acc: 0.2597 - val_loss: 1.3875 - val_acc: 0.2700\n"
       ]
      },
      {
       "output_type": "stream",
       "stream": "stdout",
       "text": [
        "Epoch 59/110\n",
        "0s - loss: 1.3896 - acc: 0.2597 - val_loss: 1.3873 - val_acc: 0.2700\n",
        "Epoch 60/110\n",
        "0s - loss: 1.3893 - acc: 0.2597 - val_loss: 1.3871 - val_acc: 0.2700\n"
       ]
      },
      {
       "output_type": "stream",
       "stream": "stdout",
       "text": [
        "Epoch 61/110\n",
        "0s - loss: 1.3890 - acc: 0.2597 - val_loss: 1.3869 - val_acc: 0.2700\n"
       ]
      },
      {
       "output_type": "stream",
       "stream": "stdout",
       "text": [
        "Epoch 62/110\n",
        "0s - loss: 1.3888 - acc: 0.2597 - val_loss: 1.3868 - val_acc: 0.2700\n"
       ]
      },
      {
       "output_type": "stream",
       "stream": "stdout",
       "text": [
        "Epoch 63/110\n",
        "0s - loss: 1.3885 - acc: 0.2598 - val_loss: 1.3866 - val_acc: 0.2700\n"
       ]
      },
      {
       "output_type": "stream",
       "stream": "stdout",
       "text": [
        "Epoch 64/110\n",
        "0s - loss: 1.3883 - acc: 0.2598 - val_loss: 1.3865 - val_acc: 0.2700\n"
       ]
      },
      {
       "output_type": "stream",
       "stream": "stdout",
       "text": [
        "Epoch 65/110\n",
        "0s - loss: 1.3881 - acc: 0.2597 - val_loss: 1.3864 - val_acc: 0.2700\n"
       ]
      },
      {
       "output_type": "stream",
       "stream": "stdout",
       "text": [
        "Epoch 66/110\n",
        "0s - loss: 1.3879 - acc: 0.2597 - val_loss: 1.3863 - val_acc: 0.2700\n"
       ]
      },
      {
       "output_type": "stream",
       "stream": "stdout",
       "text": [
        "Epoch 67/110\n",
        "0s - loss: 1.3878 - acc: 0.2597 - val_loss: 1.3863 - val_acc: 0.2700\n"
       ]
      },
      {
       "output_type": "stream",
       "stream": "stdout",
       "text": [
        "Epoch 68/110\n",
        "0s - loss: 1.3876 - acc: 0.2597 - val_loss: 1.3862 - val_acc: 0.2700\n"
       ]
      },
      {
       "output_type": "stream",
       "stream": "stdout",
       "text": [
        "Epoch 69/110\n",
        "0s - loss: 1.3875 - acc: 0.2597 - val_loss: 1.3862 - val_acc: 0.2700\n"
       ]
      },
      {
       "output_type": "stream",
       "stream": "stdout",
       "text": [
        "Epoch 70/110\n",
        "0s - loss: 1.3873 - acc: 0.2597 - val_loss: 1.3861 - val_acc: 0.2700\n",
        "Epoch 71/110\n",
        "0s - loss: 1.3872 - acc: 0.2597 - val_loss: 1.3861 - val_acc: 0.2700\n"
       ]
      },
      {
       "output_type": "stream",
       "stream": "stdout",
       "text": [
        "Epoch 72/110\n",
        "0s - loss: 1.3871 - acc: 0.2597 - val_loss: 1.3860 - val_acc: 0.2700\n"
       ]
      },
      {
       "output_type": "stream",
       "stream": "stdout",
       "text": [
        "Epoch 73/110\n",
        "0s - loss: 1.3870 - acc: 0.2597 - val_loss: 1.3860 - val_acc: 0.2700\n"
       ]
      },
      {
       "output_type": "stream",
       "stream": "stdout",
       "text": [
        "Epoch 74/110\n",
        "0s - loss: 1.3870 - acc: 0.2597 - val_loss: 1.3860 - val_acc: 0.2700\n"
       ]
      },
      {
       "output_type": "stream",
       "stream": "stdout",
       "text": [
        "Epoch 75/110\n",
        "0s - loss: 1.3869 - acc: 0.2598 - val_loss: 1.3860 - val_acc: 0.2700\n"
       ]
      },
      {
       "output_type": "stream",
       "stream": "stdout",
       "text": [
        "Epoch 76/110\n",
        "0s - loss: 1.3868 - acc: 0.2597 - val_loss: 1.3860 - val_acc: 0.2700\n",
        "Epoch 77/110\n",
        "0s - loss: 1.3868 - acc: 0.2597 - val_loss: 1.3860 - val_acc: 0.2700\n"
       ]
      },
      {
       "output_type": "stream",
       "stream": "stdout",
       "text": [
        "Epoch 78/110\n",
        "0s - loss: 1.3867 - acc: 0.2597 - val_loss: 1.3860 - val_acc: 0.2700\n",
        "Epoch 79/110\n",
        "0s - loss: 1.3866 - acc: 0.2597 - val_loss: 1.3860 - val_acc: 0.2700\n"
       ]
      },
      {
       "output_type": "stream",
       "stream": "stdout",
       "text": [
        "Epoch 80/110\n",
        "0s - loss: 1.3866 - acc: 0.2597 - val_loss: 1.3860 - val_acc: 0.2700\n",
        "Epoch 81/110\n",
        "0s - loss: 1.3866 - acc: 0.2597 - val_loss: 1.3860 - val_acc: 0.2700\n"
       ]
      },
      {
       "output_type": "stream",
       "stream": "stdout",
       "text": [
        "Epoch 82/110\n",
        "0s - loss: 1.3865 - acc: 0.2598 - val_loss: 1.3860 - val_acc: 0.2700\n",
        "Epoch 83/110\n",
        "0s - loss: 1.3865 - acc: 0.2597 - val_loss: 1.3860 - val_acc: 0.2700\n"
       ]
      },
      {
       "output_type": "stream",
       "stream": "stdout",
       "text": [
        "Epoch 84/110\n",
        "0s - loss: 1.3865 - acc: 0.2598 - val_loss: 1.3860 - val_acc: 0.2700\n"
       ]
      },
      {
       "output_type": "stream",
       "stream": "stdout",
       "text": [
        "Epoch 85/110\n",
        "0s - loss: 1.3864 - acc: 0.2597 - val_loss: 1.3860 - val_acc: 0.2700\n"
       ]
      },
      {
       "output_type": "stream",
       "stream": "stdout",
       "text": [
        "Epoch 86/110\n",
        "0s - loss: 1.3864 - acc: 0.2597 - val_loss: 1.3860 - val_acc: 0.2700\n"
       ]
      },
      {
       "output_type": "stream",
       "stream": "stdout",
       "text": [
        "Epoch 87/110\n",
        "0s - loss: 1.3864 - acc: 0.2597 - val_loss: 1.3860 - val_acc: 0.2700\n",
        "Epoch 88/110\n",
        "0s - loss: 1.3864 - acc: 0.2597 - val_loss: 1.3860 - val_acc: 0.2700\n"
       ]
      },
      {
       "output_type": "stream",
       "stream": "stdout",
       "text": [
        "Epoch 89/110\n",
        "0s - loss: 1.3863 - acc: 0.2597 - val_loss: 1.3860 - val_acc: 0.2700\n"
       ]
      },
      {
       "output_type": "stream",
       "stream": "stdout",
       "text": [
        "Epoch 90/110\n",
        "0s - loss: 1.3863 - acc: 0.2597 - val_loss: 1.3860 - val_acc: 0.2700\n"
       ]
      },
      {
       "output_type": "stream",
       "stream": "stdout",
       "text": [
        "Epoch 91/110\n",
        "0s - loss: 1.3863 - acc: 0.2597 - val_loss: 1.3860 - val_acc: 0.2700\n"
       ]
      },
      {
       "output_type": "stream",
       "stream": "stdout",
       "text": [
        "Epoch 92/110\n",
        "0s - loss: 1.3863 - acc: 0.2597 - val_loss: 1.3861 - val_acc: 0.2700\n"
       ]
      },
      {
       "output_type": "stream",
       "stream": "stdout",
       "text": [
        "Epoch 93/110\n",
        "0s - loss: 1.3863 - acc: 0.2598 - val_loss: 1.3861 - val_acc: 0.2700\n"
       ]
      },
      {
       "output_type": "stream",
       "stream": "stdout",
       "text": [
        "Epoch 94/110\n",
        "0s - loss: 1.3863 - acc: 0.2597 - val_loss: 1.3861 - val_acc: 0.2700\n"
       ]
      },
      {
       "output_type": "stream",
       "stream": "stdout",
       "text": [
        "Epoch 95/110\n",
        "0s - loss: 1.3863 - acc: 0.2597 - val_loss: 1.3861 - val_acc: 0.2700\n"
       ]
      },
      {
       "output_type": "stream",
       "stream": "stdout",
       "text": [
        "Epoch 96/110\n",
        "0s - loss: 1.3862 - acc: 0.2597 - val_loss: 1.3861 - val_acc: 0.2700\n"
       ]
      },
      {
       "output_type": "stream",
       "stream": "stdout",
       "text": [
        "Epoch 97/110\n",
        "0s - loss: 1.3862 - acc: 0.2597 - val_loss: 1.3861 - val_acc: 0.2700\n"
       ]
      },
      {
       "output_type": "stream",
       "stream": "stdout",
       "text": [
        "Epoch 98/110\n",
        "0s - loss: 1.3862 - acc: 0.2597 - val_loss: 1.3861 - val_acc: 0.2700\n"
       ]
      },
      {
       "output_type": "stream",
       "stream": "stdout",
       "text": [
        "Epoch 99/110\n",
        "0s - loss: 1.3862 - acc: 0.2597 - val_loss: 1.3861 - val_acc: 0.2700\n"
       ]
      },
      {
       "output_type": "stream",
       "stream": "stdout",
       "text": [
        "Epoch 100/110\n",
        "0s - loss: 1.3862 - acc: 0.2598 - val_loss: 1.3861 - val_acc: 0.2700\n"
       ]
      },
      {
       "output_type": "stream",
       "stream": "stdout",
       "text": [
        "Epoch 101/110\n",
        "0s - loss: 1.3862 - acc: 0.2598 - val_loss: 1.3861 - val_acc: 0.2700\n"
       ]
      },
      {
       "output_type": "stream",
       "stream": "stdout",
       "text": [
        "Epoch 102/110\n",
        "0s - loss: 1.3862 - acc: 0.2597 - val_loss: 1.3862 - val_acc: 0.2700\n"
       ]
      },
      {
       "output_type": "stream",
       "stream": "stdout",
       "text": [
        "Epoch 103/110\n",
        "0s - loss: 1.3862 - acc: 0.2597 - val_loss: 1.3862 - val_acc: 0.2700\n",
        "Epoch 104/110\n",
        "0s - loss: 1.3862 - acc: 0.2597 - val_loss: 1.3862 - val_acc: 0.2700\n"
       ]
      },
      {
       "output_type": "stream",
       "stream": "stdout",
       "text": [
        "Epoch 105/110\n",
        "0s - loss: 1.3862 - acc: 0.2597 - val_loss: 1.3862 - val_acc: 0.2700\n",
        "Epoch 106/110\n",
        "0s - loss: 1.3862 - acc: 0.2597 - val_loss: 1.3862 - val_acc: 0.2700\n"
       ]
      },
      {
       "output_type": "stream",
       "stream": "stdout",
       "text": [
        "Epoch 107/110\n",
        "0s - loss: 1.3862 - acc: 0.2597 - val_loss: 1.3862 - val_acc: 0.2700\n",
        "Epoch 108/110\n",
        "0s - loss: 1.3862 - acc: 0.2597 - val_loss: 1.3862 - val_acc: 0.2700\n"
       ]
      },
      {
       "output_type": "stream",
       "stream": "stdout",
       "text": [
        "Epoch 109/110\n",
        "0s - loss: 1.3862 - acc: 0.2597 - val_loss: 1.3862 - val_acc: 0.2700\n",
        "Epoch 110/110\n",
        "0s - loss: 1.3862 - acc: 0.2597 - val_loss: 1.3862 - val_acc: 0.2700\n"
       ]
      },
      {
       "output_type": "stream",
       "stream": "stdout",
       "text": [
        "\r",
        " 200/1000 [=====>........................] - ETA: 0s"
       ]
      },
      {
       "output_type": "stream",
       "stream": "stdout",
       "text": [
        "\r",
        " 200/1000 [=====>........................] - ETA: 0s"
       ]
      },
      {
       "output_type": "stream",
       "stream": "stdout",
       "text": [
        "Train on 4000 samples, validate on 1000 samples\n",
        "Epoch 1/120\n",
        "0s - loss: 1.0279 - acc: 0.5067 - val_loss: 1.0261 - val_acc: 0.5100\n",
        "Epoch 2/120\n",
        "0s - loss: 1.0191 - acc: 0.5068 - val_loss: 1.0176 - val_acc: 0.5100\n"
       ]
      },
      {
       "output_type": "stream",
       "stream": "stdout",
       "text": [
        "Epoch 3/120\n",
        "0s - loss: 1.0109 - acc: 0.5067 - val_loss: 1.0098 - val_acc: 0.5100\n"
       ]
      },
      {
       "output_type": "stream",
       "stream": "stdout",
       "text": [
        "Epoch 4/120\n",
        "0s - loss: 1.0033 - acc: 0.5067 - val_loss: 1.0025 - val_acc: 0.5100\n",
        "Epoch 5/120\n",
        "0s - loss: 0.9962 - acc: 0.5067 - val_loss: 0.9957 - val_acc: 0.5100\n"
       ]
      },
      {
       "output_type": "stream",
       "stream": "stdout",
       "text": [
        "Epoch 6/120\n",
        "0s - loss: 0.9896 - acc: 0.5067 - val_loss: 0.9894 - val_acc: 0.5100\n"
       ]
      },
      {
       "output_type": "stream",
       "stream": "stdout",
       "text": [
        "Epoch 7/120\n",
        "0s - loss: 0.9834 - acc: 0.5068 - val_loss: 0.9834 - val_acc: 0.5100\n"
       ]
      },
      {
       "output_type": "stream",
       "stream": "stdout",
       "text": [
        "Epoch 8/120\n",
        "0s - loss: 0.9776 - acc: 0.5068 - val_loss: 0.9779 - val_acc: 0.5100\n",
        "Epoch 9/120\n",
        "0s - loss: 0.9722 - acc: 0.5067 - val_loss: 0.9726 - val_acc: 0.5100\n"
       ]
      },
      {
       "output_type": "stream",
       "stream": "stdout",
       "text": [
        "Epoch 10/120\n",
        "0s - loss: 0.9671 - acc: 0.5067 - val_loss: 0.9677 - val_acc: 0.5100\n",
        "Epoch 11/120\n",
        "0s - loss: 0.9623 - acc: 0.5067 - val_loss: 0.9631 - val_acc: 0.5100\n"
       ]
      },
      {
       "output_type": "stream",
       "stream": "stdout",
       "text": [
        "Epoch 12/120\n",
        "0s - loss: 0.9578 - acc: 0.5067 - val_loss: 0.9588 - val_acc: 0.5100\n",
        "Epoch 13/120\n",
        "0s - loss: 0.9536 - acc: 0.5067 - val_loss: 0.9547 - val_acc: 0.5100\n"
       ]
      },
      {
       "output_type": "stream",
       "stream": "stdout",
       "text": [
        "Epoch 14/120\n",
        "0s - loss: 0.9495 - acc: 0.5067 - val_loss: 0.9508 - val_acc: 0.5100\n",
        "Epoch 15/120\n",
        "0s - loss: 0.9457 - acc: 0.5068 - val_loss: 0.9471 - val_acc: 0.5100\n"
       ]
      },
      {
       "output_type": "stream",
       "stream": "stdout",
       "text": [
        "Epoch 16/120\n",
        "0s - loss: 0.9421 - acc: 0.5067 - val_loss: 0.9436 - val_acc: 0.5100\n",
        "Epoch 17/120\n",
        "0s - loss: 0.9387 - acc: 0.5068 - val_loss: 0.9403 - val_acc: 0.5100\n"
       ]
      },
      {
       "output_type": "stream",
       "stream": "stdout",
       "text": [
        "Epoch 18/120\n",
        "0s - loss: 0.9355 - acc: 0.5067 - val_loss: 0.9372 - val_acc: 0.5100\n",
        "Epoch 19/120\n",
        "0s - loss: 0.9324 - acc: 0.5067 - val_loss: 0.9342 - val_acc: 0.5100\n"
       ]
      },
      {
       "output_type": "stream",
       "stream": "stdout",
       "text": [
        "Epoch 20/120\n",
        "0s - loss: 0.9294 - acc: 0.5067 - val_loss: 0.9313 - val_acc: 0.5100\n"
       ]
      },
      {
       "output_type": "stream",
       "stream": "stdout",
       "text": [
        "Epoch 21/120\n",
        "0s - loss: 0.9266 - acc: 0.5068 - val_loss: 0.9286 - val_acc: 0.5100\n"
       ]
      },
      {
       "output_type": "stream",
       "stream": "stdout",
       "text": [
        "Epoch 22/120\n",
        "0s - loss: 0.9240 - acc: 0.5068 - val_loss: 0.9260 - val_acc: 0.5100\n"
       ]
      },
      {
       "output_type": "stream",
       "stream": "stdout",
       "text": [
        "Epoch 23/120\n",
        "0s - loss: 0.9214 - acc: 0.5067 - val_loss: 0.9235 - val_acc: 0.5100\n"
       ]
      },
      {
       "output_type": "stream",
       "stream": "stdout",
       "text": [
        "Epoch 24/120\n",
        "0s - loss: 0.9190 - acc: 0.5067 - val_loss: 0.9212 - val_acc: 0.5100\n"
       ]
      },
      {
       "output_type": "stream",
       "stream": "stdout",
       "text": [
        "Epoch 25/120\n",
        "0s - loss: 0.9167 - acc: 0.5067 - val_loss: 0.9189 - val_acc: 0.5100\n"
       ]
      },
      {
       "output_type": "stream",
       "stream": "stdout",
       "text": [
        "Epoch 26/120\n",
        "0s - loss: 0.9144 - acc: 0.5068 - val_loss: 0.9168 - val_acc: 0.5100\n"
       ]
      },
      {
       "output_type": "stream",
       "stream": "stdout",
       "text": [
        "Epoch 27/120\n",
        "0s - loss: 0.9123 - acc: 0.5068 - val_loss: 0.9147 - val_acc: 0.5100\n"
       ]
      },
      {
       "output_type": "stream",
       "stream": "stdout",
       "text": [
        "Epoch 28/120\n",
        "0s - loss: 0.9103 - acc: 0.5067 - val_loss: 0.9127 - val_acc: 0.5100\n"
       ]
      },
      {
       "output_type": "stream",
       "stream": "stdout",
       "text": [
        "Epoch 29/120\n",
        "0s - loss: 0.9083 - acc: 0.4677 - val_loss: 0.9108 - val_acc: 0.5100\n"
       ]
      },
      {
       "output_type": "stream",
       "stream": "stdout",
       "text": [
        "Epoch 30/120\n",
        "0s - loss: 0.9064 - acc: 0.3432 - val_loss: 0.9089 - val_acc: 0.2420\n"
       ]
      },
      {
       "output_type": "stream",
       "stream": "stdout",
       "text": [
        "Epoch 31/120\n",
        "0s - loss: 0.9046 - acc: 0.2552 - val_loss: 0.9072 - val_acc: 0.2420\n"
       ]
      },
      {
       "output_type": "stream",
       "stream": "stdout",
       "text": [
        "Epoch 32/120\n",
        "0s - loss: 0.9028 - acc: 0.2552 - val_loss: 0.9055 - val_acc: 0.2420\n"
       ]
      },
      {
       "output_type": "stream",
       "stream": "stdout",
       "text": [
        "Epoch 33/120\n",
        "0s - loss: 0.9012 - acc: 0.2552 - val_loss: 0.9038 - val_acc: 0.2420\n"
       ]
      },
      {
       "output_type": "stream",
       "stream": "stdout",
       "text": [
        "Epoch 34/120\n",
        "0s - loss: 0.8996 - acc: 0.2552 - val_loss: 0.9023 - val_acc: 0.2420\n"
       ]
      },
      {
       "output_type": "stream",
       "stream": "stdout",
       "text": [
        "Epoch 35/120\n",
        "0s - loss: 0.8980 - acc: 0.2552 - val_loss: 0.9007 - val_acc: 0.2420\n"
       ]
      },
      {
       "output_type": "stream",
       "stream": "stdout",
       "text": [
        "Epoch 36/120\n",
        "0s - loss: 0.8965 - acc: 0.2552 - val_loss: 0.8993 - val_acc: 0.2420\n"
       ]
      },
      {
       "output_type": "stream",
       "stream": "stdout",
       "text": [
        "Epoch 37/120\n",
        "0s - loss: 0.8951 - acc: 0.2552 - val_loss: 0.8979 - val_acc: 0.2420\n"
       ]
      },
      {
       "output_type": "stream",
       "stream": "stdout",
       "text": [
        "Epoch 38/120\n",
        "0s - loss: 0.8937 - acc: 0.2553 - val_loss: 0.8965 - val_acc: 0.2420\n"
       ]
      },
      {
       "output_type": "stream",
       "stream": "stdout",
       "text": [
        "Epoch 39/120\n",
        "0s - loss: 0.8923 - acc: 0.2553 - val_loss: 0.8952 - val_acc: 0.2420\n"
       ]
      },
      {
       "output_type": "stream",
       "stream": "stdout",
       "text": [
        "Epoch 40/120\n",
        "0s - loss: 0.8910 - acc: 0.2552 - val_loss: 0.8939 - val_acc: 0.2420\n"
       ]
      },
      {
       "output_type": "stream",
       "stream": "stdout",
       "text": [
        "Epoch 41/120\n",
        "0s - loss: 0.8898 - acc: 0.2553 - val_loss: 0.8927 - val_acc: 0.2420\n"
       ]
      },
      {
       "output_type": "stream",
       "stream": "stdout",
       "text": [
        "Epoch 42/120\n",
        "0s - loss: 0.8885 - acc: 0.2552 - val_loss: 0.8915 - val_acc: 0.2420\n"
       ]
      },
      {
       "output_type": "stream",
       "stream": "stdout",
       "text": [
        "Epoch 43/120\n",
        "0s - loss: 0.8874 - acc: 0.2553 - val_loss: 0.8903 - val_acc: 0.2420\n"
       ]
      },
      {
       "output_type": "stream",
       "stream": "stdout",
       "text": [
        "Epoch 44/120\n",
        "0s - loss: 0.8862 - acc: 0.2552 - val_loss: 0.8892 - val_acc: 0.2420\n"
       ]
      },
      {
       "output_type": "stream",
       "stream": "stdout",
       "text": [
        "Epoch 45/120\n",
        "0s - loss: 0.8851 - acc: 0.2552 - val_loss: 0.8881 - val_acc: 0.2420\n"
       ]
      },
      {
       "output_type": "stream",
       "stream": "stdout",
       "text": [
        "Epoch 46/120\n",
        "0s - loss: 0.8840 - acc: 0.2552 - val_loss: 0.8871 - val_acc: 0.2420\n"
       ]
      },
      {
       "output_type": "stream",
       "stream": "stdout",
       "text": [
        "Epoch 47/120\n",
        "0s - loss: 0.8830 - acc: 0.2552 - val_loss: 0.8861 - val_acc: 0.2420\n"
       ]
      },
      {
       "output_type": "stream",
       "stream": "stdout",
       "text": [
        "Epoch 48/120\n",
        "0s - loss: 0.8820 - acc: 0.2552 - val_loss: 0.8851 - val_acc: 0.2420\n"
       ]
      },
      {
       "output_type": "stream",
       "stream": "stdout",
       "text": [
        "Epoch 49/120\n",
        "0s - loss: 0.8810 - acc: 0.2552 - val_loss: 0.8841 - val_acc: 0.2420\n"
       ]
      },
      {
       "output_type": "stream",
       "stream": "stdout",
       "text": [
        "Epoch 50/120\n",
        "0s - loss: 0.8801 - acc: 0.2552 - val_loss: 0.8832 - val_acc: 0.2420\n",
        "Epoch 51/120\n",
        "0s - loss: 0.8792 - acc: 0.2552 - val_loss: 0.8823 - val_acc: 0.2420\n"
       ]
      },
      {
       "output_type": "stream",
       "stream": "stdout",
       "text": [
        "Epoch 52/120\n",
        "0s - loss: 0.8783 - acc: 0.2553 - val_loss: 0.8814 - val_acc: 0.2420\n",
        "Epoch 53/120\n",
        "0s - loss: 0.8774 - acc: 0.2552 - val_loss: 0.8805 - val_acc: 0.2420\n"
       ]
      },
      {
       "output_type": "stream",
       "stream": "stdout",
       "text": [
        "Epoch 54/120\n",
        "0s - loss: 0.8765 - acc: 0.2553 - val_loss: 0.8797 - val_acc: 0.2420\n",
        "Epoch 55/120\n",
        "0s - loss: 0.8757 - acc: 0.2552 - val_loss: 0.8789 - val_acc: 0.2420\n"
       ]
      },
      {
       "output_type": "stream",
       "stream": "stdout",
       "text": [
        "Epoch 56/120\n",
        "0s - loss: 0.8749 - acc: 0.2552 - val_loss: 0.8781 - val_acc: 0.2420\n"
       ]
      },
      {
       "output_type": "stream",
       "stream": "stdout",
       "text": [
        "Epoch 57/120\n",
        "0s - loss: 0.8741 - acc: 0.2553 - val_loss: 0.8773 - val_acc: 0.2420\n",
        "Epoch 58/120\n",
        "0s - loss: 0.8734 - acc: 0.2552 - val_loss: 0.8766 - val_acc: 0.2420\n"
       ]
      },
      {
       "output_type": "stream",
       "stream": "stdout",
       "text": [
        "Epoch 59/120\n",
        "0s - loss: 0.8726 - acc: 0.2552 - val_loss: 0.8759 - val_acc: 0.2420\n",
        "Epoch 60/120\n",
        "0s - loss: 0.8719 - acc: 0.2552 - val_loss: 0.8752 - val_acc: 0.2420\n"
       ]
      },
      {
       "output_type": "stream",
       "stream": "stdout",
       "text": [
        "Epoch 61/120\n",
        "0s - loss: 0.8712 - acc: 0.2552 - val_loss: 0.8745 - val_acc: 0.2420\n",
        "Epoch 62/120\n",
        "0s - loss: 0.8705 - acc: 0.2552 - val_loss: 0.8738 - val_acc: 0.2420\n"
       ]
      },
      {
       "output_type": "stream",
       "stream": "stdout",
       "text": [
        "Epoch 63/120\n",
        "0s - loss: 0.8699 - acc: 0.2552 - val_loss: 0.8731 - val_acc: 0.2420\n",
        "Epoch 64/120\n",
        "0s - loss: 0.8692 - acc: 0.2552 - val_loss: 0.8725 - val_acc: 0.2420\n"
       ]
      },
      {
       "output_type": "stream",
       "stream": "stdout",
       "text": [
        "Epoch 65/120\n",
        "0s - loss: 0.8686 - acc: 0.2553 - val_loss: 0.8719 - val_acc: 0.2420\n",
        "Epoch 66/120\n",
        "0s - loss: 0.8680 - acc: 0.2552 - val_loss: 0.8712 - val_acc: 0.2420\n"
       ]
      },
      {
       "output_type": "stream",
       "stream": "stdout",
       "text": [
        "Epoch 67/120\n",
        "0s - loss: 0.8674 - acc: 0.2552 - val_loss: 0.8706 - val_acc: 0.2420\n",
        "Epoch 68/120\n",
        "0s - loss: 0.8668 - acc: 0.2552 - val_loss: 0.8701 - val_acc: 0.2420\n"
       ]
      },
      {
       "output_type": "stream",
       "stream": "stdout",
       "text": [
        "Epoch 69/120\n",
        "0s - loss: 0.8662 - acc: 0.2552 - val_loss: 0.8695 - val_acc: 0.2420\n",
        "Epoch 70/120\n",
        "0s - loss: 0.8656 - acc: 0.2553 - val_loss: 0.8689 - val_acc: 0.2420\n"
       ]
      },
      {
       "output_type": "stream",
       "stream": "stdout",
       "text": [
        "Epoch 71/120\n",
        "0s - loss: 0.8651 - acc: 0.2552 - val_loss: 0.8684 - val_acc: 0.2420\n",
        "Epoch 72/120\n",
        "0s - loss: 0.8645 - acc: 0.2552 - val_loss: 0.8679 - val_acc: 0.2420\n"
       ]
      },
      {
       "output_type": "stream",
       "stream": "stdout",
       "text": [
        "Epoch 73/120\n",
        "0s - loss: 0.8640 - acc: 0.2552 - val_loss: 0.8673 - val_acc: 0.2420\n",
        "Epoch 74/120\n",
        "0s - loss: 0.8635 - acc: 0.2552 - val_loss: 0.8668 - val_acc: 0.2420\n"
       ]
      },
      {
       "output_type": "stream",
       "stream": "stdout",
       "text": [
        "Epoch 75/120\n",
        "0s - loss: 0.8630 - acc: 0.2552 - val_loss: 0.8663 - val_acc: 0.2420\n",
        "Epoch 76/120\n",
        "0s - loss: 0.8625 - acc: 0.2552 - val_loss: 0.8658 - val_acc: 0.2420\n"
       ]
      },
      {
       "output_type": "stream",
       "stream": "stdout",
       "text": [
        "Epoch 77/120\n",
        "0s - loss: 0.8620 - acc: 0.2553 - val_loss: 0.8654 - val_acc: 0.2420\n",
        "Epoch 78/120\n",
        "0s - loss: 0.8615 - acc: 0.2552 - val_loss: 0.8649 - val_acc: 0.2420\n"
       ]
      },
      {
       "output_type": "stream",
       "stream": "stdout",
       "text": [
        "Epoch 79/120\n",
        "0s - loss: 0.8611 - acc: 0.2553 - val_loss: 0.8644 - val_acc: 0.2420\n",
        "Epoch 80/120\n",
        "0s - loss: 0.8606 - acc: 0.2552 - val_loss: 0.8640 - val_acc: 0.2420\n"
       ]
      },
      {
       "output_type": "stream",
       "stream": "stdout",
       "text": [
        "Epoch 81/120\n",
        "0s - loss: 0.8602 - acc: 0.2552 - val_loss: 0.8635 - val_acc: 0.2420\n",
        "Epoch 82/120\n",
        "0s - loss: 0.8597 - acc: 0.2552 - val_loss: 0.8631 - val_acc: 0.2420\n"
       ]
      },
      {
       "output_type": "stream",
       "stream": "stdout",
       "text": [
        "Epoch 83/120\n",
        "0s - loss: 0.8593 - acc: 0.2552 - val_loss: 0.8627 - val_acc: 0.2420\n",
        "Epoch 84/120\n",
        "0s - loss: 0.8589 - acc: 0.2553 - val_loss: 0.8623 - val_acc: 0.2420\n"
       ]
      },
      {
       "output_type": "stream",
       "stream": "stdout",
       "text": [
        "Epoch 85/120\n",
        "0s - loss: 0.8585 - acc: 0.2552 - val_loss: 0.8619 - val_acc: 0.2420\n",
        "Epoch 86/120\n",
        "0s - loss: 0.8581 - acc: 0.2552 - val_loss: 0.8615 - val_acc: 0.2420\n"
       ]
      },
      {
       "output_type": "stream",
       "stream": "stdout",
       "text": [
        "Epoch 87/120\n",
        "0s - loss: 0.8577 - acc: 0.2553 - val_loss: 0.8611 - val_acc: 0.2420\n",
        "Epoch 88/120\n",
        "0s - loss: 0.8573 - acc: 0.2552 - val_loss: 0.8607 - val_acc: 0.2420\n"
       ]
      },
      {
       "output_type": "stream",
       "stream": "stdout",
       "text": [
        "Epoch 89/120\n",
        "0s - loss: 0.8569 - acc: 0.2552 - val_loss: 0.8603 - val_acc: 0.2420\n",
        "Epoch 90/120\n",
        "0s - loss: 0.8565 - acc: 0.2552 - val_loss: 0.8599 - val_acc: 0.2420\n"
       ]
      },
      {
       "output_type": "stream",
       "stream": "stdout",
       "text": [
        "Epoch 91/120\n",
        "0s - loss: 0.8562 - acc: 0.2552 - val_loss: 0.8596 - val_acc: 0.2420\n",
        "Epoch 92/120\n",
        "0s - loss: 0.8558 - acc: 0.2552 - val_loss: 0.8592 - val_acc: 0.2420\n"
       ]
      },
      {
       "output_type": "stream",
       "stream": "stdout",
       "text": [
        "Epoch 93/120\n",
        "0s - loss: 0.8555 - acc: 0.2552 - val_loss: 0.8589 - val_acc: 0.2420\n",
        "Epoch 94/120\n",
        "0s - loss: 0.8551 - acc: 0.2552 - val_loss: 0.8585 - val_acc: 0.2420\n"
       ]
      },
      {
       "output_type": "stream",
       "stream": "stdout",
       "text": [
        "Epoch 95/120\n",
        "0s - loss: 0.8548 - acc: 0.2552 - val_loss: 0.8582 - val_acc: 0.2420\n",
        "Epoch 96/120\n",
        "0s - loss: 0.8544 - acc: 0.2552 - val_loss: 0.8579 - val_acc: 0.2420\n"
       ]
      },
      {
       "output_type": "stream",
       "stream": "stdout",
       "text": [
        "Epoch 97/120\n",
        "0s - loss: 0.8541 - acc: 0.2552 - val_loss: 0.8575 - val_acc: 0.2420\n",
        "Epoch 98/120\n",
        "0s - loss: 0.8538 - acc: 0.2552 - val_loss: 0.8572 - val_acc: 0.2420\n"
       ]
      },
      {
       "output_type": "stream",
       "stream": "stdout",
       "text": [
        "Epoch 99/120\n",
        "0s - loss: 0.8535 - acc: 0.2552 - val_loss: 0.8569 - val_acc: 0.2420\n",
        "Epoch 100/120\n",
        "0s - loss: 0.8532 - acc: 0.2552 - val_loss: 0.8566 - val_acc: 0.2420\n"
       ]
      },
      {
       "output_type": "stream",
       "stream": "stdout",
       "text": [
        "Epoch 101/120\n",
        "0s - loss: 0.8529 - acc: 0.2553 - val_loss: 0.8563 - val_acc: 0.2420\n",
        "Epoch 102/120\n",
        "0s - loss: 0.8526 - acc: 0.2552 - val_loss: 0.8560 - val_acc: 0.2420\n"
       ]
      },
      {
       "output_type": "stream",
       "stream": "stdout",
       "text": [
        "Epoch 103/120\n",
        "0s - loss: 0.8523 - acc: 0.2552 - val_loss: 0.8557 - val_acc: 0.2420\n",
        "Epoch 104/120\n",
        "0s - loss: 0.8520 - acc: 0.2553 - val_loss: 0.8554 - val_acc: 0.2420\n"
       ]
      },
      {
       "output_type": "stream",
       "stream": "stdout",
       "text": [
        "Epoch 105/120\n",
        "0s - loss: 0.8517 - acc: 0.2552 - val_loss: 0.8551 - val_acc: 0.2420\n",
        "Epoch 106/120\n",
        "0s - loss: 0.8514 - acc: 0.2553 - val_loss: 0.8548 - val_acc: 0.2420\n"
       ]
      },
      {
       "output_type": "stream",
       "stream": "stdout",
       "text": [
        "Epoch 107/120\n",
        "0s - loss: 0.8511 - acc: 0.2552 - val_loss: 0.8546 - val_acc: 0.2420\n",
        "Epoch 108/120\n",
        "0s - loss: 0.8509 - acc: 0.2552 - val_loss: 0.8543 - val_acc: 0.2420\n"
       ]
      },
      {
       "output_type": "stream",
       "stream": "stdout",
       "text": [
        "Epoch 109/120\n",
        "0s - loss: 0.8506 - acc: 0.2553 - val_loss: 0.8540 - val_acc: 0.2420\n",
        "Epoch 110/120\n",
        "0s - loss: 0.8503 - acc: 0.2552 - val_loss: 0.8538 - val_acc: 0.2420\n"
       ]
      },
      {
       "output_type": "stream",
       "stream": "stdout",
       "text": [
        "Epoch 111/120\n",
        "0s - loss: 0.8501 - acc: 0.2553 - val_loss: 0.8535 - val_acc: 0.2420\n",
        "Epoch 112/120\n",
        "0s - loss: 0.8498 - acc: 0.2552 - val_loss: 0.8533 - val_acc: 0.2420\n"
       ]
      },
      {
       "output_type": "stream",
       "stream": "stdout",
       "text": [
        "Epoch 113/120\n",
        "0s - loss: 0.8496 - acc: 0.2553 - val_loss: 0.8530 - val_acc: 0.2420\n",
        "Epoch 114/120\n",
        "0s - loss: 0.8493 - acc: 0.2552 - val_loss: 0.8528 - val_acc: 0.2420\n"
       ]
      },
      {
       "output_type": "stream",
       "stream": "stdout",
       "text": [
        "Epoch 115/120\n",
        "0s - loss: 0.8491 - acc: 0.2552 - val_loss: 0.8525 - val_acc: 0.2420\n",
        "Epoch 116/120\n",
        "0s - loss: 0.8488 - acc: 0.2552 - val_loss: 0.8523 - val_acc: 0.2420\n"
       ]
      },
      {
       "output_type": "stream",
       "stream": "stdout",
       "text": [
        "Epoch 117/120\n",
        "0s - loss: 0.8486 - acc: 0.2552 - val_loss: 0.8520 - val_acc: 0.2420\n",
        "Epoch 118/120\n",
        "0s - loss: 0.8484 - acc: 0.2552 - val_loss: 0.8518 - val_acc: 0.2420\n"
       ]
      },
      {
       "output_type": "stream",
       "stream": "stdout",
       "text": [
        "Epoch 119/120\n",
        "0s - loss: 0.8481 - acc: 0.2552 - val_loss: 0.8516 - val_acc: 0.2420\n",
        "Epoch 120/120\n",
        "0s - loss: 0.8479 - acc: 0.2552 - val_loss: 0.8514 - val_acc: 0.2420\n"
       ]
      },
      {
       "output_type": "stream",
       "stream": "stdout",
       "text": [
        "\r",
        " 200/1000 [=====>........................] - ETA: 0s"
       ]
      },
      {
       "output_type": "stream",
       "stream": "stdout",
       "text": [
        "\r",
        " 200/1000 [=====>........................] - ETA: 0s"
       ]
      },
      {
       "output_type": "stream",
       "stream": "stdout",
       "text": [
        "Train on 4000 samples, validate on 1000 samples\n",
        "Epoch 1/120\n",
        "0s - loss: 1.6660 - acc: 0.2395 - val_loss: 1.6331 - val_acc: 0.2510\n",
        "Epoch 2/120\n",
        "0s - loss: 1.6538 - acc: 0.2395 - val_loss: 1.6218 - val_acc: 0.2510\n"
       ]
      },
      {
       "output_type": "stream",
       "stream": "stdout",
       "text": [
        "Epoch 3/120\n",
        "0s - loss: 1.6419 - acc: 0.2395 - val_loss: 1.6108 - val_acc: 0.2510\n",
        "Epoch 4/120\n",
        "0s - loss: 1.6303 - acc: 0.2395 - val_loss: 1.6000 - val_acc: 0.2510\n"
       ]
      },
      {
       "output_type": "stream",
       "stream": "stdout",
       "text": [
        "Epoch 5/120\n",
        "0s - loss: 1.6190 - acc: 0.2427 - val_loss: 1.5896 - val_acc: 0.2700\n",
        "Epoch 6/120\n",
        "0s - loss: 1.6080 - acc: 0.2597 - val_loss: 1.5795 - val_acc: 0.2700\n"
       ]
      },
      {
       "output_type": "stream",
       "stream": "stdout",
       "text": [
        "Epoch 7/120\n",
        "0s - loss: 1.5973 - acc: 0.2598 - val_loss: 1.5696 - val_acc: 0.2700\n",
        "Epoch 8/120\n",
        "0s - loss: 1.5869 - acc: 0.2597 - val_loss: 1.5601 - val_acc: 0.2700\n"
       ]
      },
      {
       "output_type": "stream",
       "stream": "stdout",
       "text": [
        "Epoch 9/120\n",
        "0s - loss: 1.5768 - acc: 0.2597 - val_loss: 1.5508 - val_acc: 0.2700\n",
        "Epoch 10/120\n",
        "0s - loss: 1.5670 - acc: 0.2598 - val_loss: 1.5419 - val_acc: 0.2700\n"
       ]
      },
      {
       "output_type": "stream",
       "stream": "stdout",
       "text": [
        "Epoch 11/120\n",
        "0s - loss: 1.5576 - acc: 0.2597 - val_loss: 1.5332 - val_acc: 0.2700\n",
        "Epoch 12/120\n",
        "0s - loss: 1.5484 - acc: 0.2597 - val_loss: 1.5249 - val_acc: 0.2700\n"
       ]
      },
      {
       "output_type": "stream",
       "stream": "stdout",
       "text": [
        "Epoch 13/120\n",
        "0s - loss: 1.5396 - acc: 0.2597 - val_loss: 1.5168 - val_acc: 0.2700\n",
        "Epoch 14/120\n",
        "0s - loss: 1.5311 - acc: 0.2597 - val_loss: 1.5091 - val_acc: 0.2700\n"
       ]
      },
      {
       "output_type": "stream",
       "stream": "stdout",
       "text": [
        "Epoch 15/120\n",
        "0s - loss: 1.5229 - acc: 0.2597 - val_loss: 1.5017 - val_acc: 0.2700\n",
        "Epoch 16/120\n",
        "0s - loss: 1.5150 - acc: 0.2597 - val_loss: 1.4946 - val_acc: 0.2700\n"
       ]
      },
      {
       "output_type": "stream",
       "stream": "stdout",
       "text": [
        "Epoch 17/120\n",
        "0s - loss: 1.5074 - acc: 0.2597 - val_loss: 1.4877 - val_acc: 0.2700\n",
        "Epoch 18/120\n",
        "0s - loss: 1.5002 - acc: 0.2597 - val_loss: 1.4812 - val_acc: 0.2700\n"
       ]
      },
      {
       "output_type": "stream",
       "stream": "stdout",
       "text": [
        "Epoch 19/120\n",
        "0s - loss: 1.4932 - acc: 0.2598 - val_loss: 1.4750 - val_acc: 0.2700\n",
        "Epoch 20/120\n",
        "0s - loss: 1.4866 - acc: 0.2598 - val_loss: 1.4690 - val_acc: 0.2700\n"
       ]
      },
      {
       "output_type": "stream",
       "stream": "stdout",
       "text": [
        "Epoch 21/120\n",
        "0s - loss: 1.4803 - acc: 0.2598 - val_loss: 1.4634 - val_acc: 0.2700\n",
        "Epoch 22/120\n",
        "0s - loss: 1.4742 - acc: 0.2597 - val_loss: 1.4580 - val_acc: 0.2700\n"
       ]
      },
      {
       "output_type": "stream",
       "stream": "stdout",
       "text": [
        "Epoch 23/120\n",
        "0s - loss: 1.4685 - acc: 0.2597 - val_loss: 1.4529 - val_acc: 0.2700\n",
        "Epoch 24/120\n",
        "0s - loss: 1.4630 - acc: 0.2598 - val_loss: 1.4481 - val_acc: 0.2700\n"
       ]
      },
      {
       "output_type": "stream",
       "stream": "stdout",
       "text": [
        "Epoch 25/120\n",
        "0s - loss: 1.4578 - acc: 0.2597 - val_loss: 1.4435 - val_acc: 0.2700\n",
        "Epoch 26/120\n",
        "0s - loss: 1.4529 - acc: 0.2598 - val_loss: 1.4392 - val_acc: 0.2700\n"
       ]
      },
      {
       "output_type": "stream",
       "stream": "stdout",
       "text": [
        "Epoch 27/120\n",
        "0s - loss: 1.4483 - acc: 0.2597 - val_loss: 1.4352 - val_acc: 0.2700\n",
        "Epoch 28/120\n",
        "0s - loss: 1.4439 - acc: 0.2597 - val_loss: 1.4314 - val_acc: 0.2700\n"
       ]
      },
      {
       "output_type": "stream",
       "stream": "stdout",
       "text": [
        "Epoch 29/120\n",
        "0s - loss: 1.4398 - acc: 0.2597 - val_loss: 1.4278 - val_acc: 0.2700\n",
        "Epoch 30/120\n",
        "0s - loss: 1.4359 - acc: 0.2597 - val_loss: 1.4245 - val_acc: 0.2700\n"
       ]
      },
      {
       "output_type": "stream",
       "stream": "stdout",
       "text": [
        "Epoch 31/120\n",
        "0s - loss: 1.4323 - acc: 0.2597 - val_loss: 1.4213 - val_acc: 0.2700\n",
        "Epoch 32/120\n",
        "0s - loss: 1.4289 - acc: 0.2597 - val_loss: 1.4184 - val_acc: 0.2700\n"
       ]
      },
      {
       "output_type": "stream",
       "stream": "stdout",
       "text": [
        "Epoch 33/120\n",
        "0s - loss: 1.4257 - acc: 0.2597 - val_loss: 1.4157 - val_acc: 0.2700\n",
        "Epoch 34/120\n",
        "0s - loss: 1.4226 - acc: 0.2597 - val_loss: 1.4131 - val_acc: 0.2700\n"
       ]
      },
      {
       "output_type": "stream",
       "stream": "stdout",
       "text": [
        "Epoch 35/120\n",
        "0s - loss: 1.4198 - acc: 0.2597 - val_loss: 1.4108 - val_acc: 0.2700\n",
        "Epoch 36/120\n",
        "0s - loss: 1.4172 - acc: 0.2597 - val_loss: 1.4086 - val_acc: 0.2700\n"
       ]
      },
      {
       "output_type": "stream",
       "stream": "stdout",
       "text": [
        "Epoch 37/120\n",
        "0s - loss: 1.4148 - acc: 0.2598 - val_loss: 1.4065 - val_acc: 0.2700\n",
        "Epoch 38/120\n",
        "0s - loss: 1.4125 - acc: 0.2597 - val_loss: 1.4047 - val_acc: 0.2700\n"
       ]
      },
      {
       "output_type": "stream",
       "stream": "stdout",
       "text": [
        "Epoch 39/120\n",
        "0s - loss: 1.4104 - acc: 0.2597 - val_loss: 1.4029 - val_acc: 0.2700\n",
        "Epoch 40/120\n",
        "0s - loss: 1.4084 - acc: 0.2597 - val_loss: 1.4013 - val_acc: 0.2700\n"
       ]
      },
      {
       "output_type": "stream",
       "stream": "stdout",
       "text": [
        "Epoch 41/120\n",
        "0s - loss: 1.4066 - acc: 0.2597 - val_loss: 1.3999 - val_acc: 0.2700\n",
        "Epoch 42/120\n",
        "0s - loss: 1.4049 - acc: 0.2597 - val_loss: 1.3985 - val_acc: 0.2700\n"
       ]
      },
      {
       "output_type": "stream",
       "stream": "stdout",
       "text": [
        "Epoch 43/120\n",
        "0s - loss: 1.4034 - acc: 0.2597 - val_loss: 1.3973 - val_acc: 0.2700\n",
        "Epoch 44/120\n",
        "0s - loss: 1.4019 - acc: 0.2597 - val_loss: 1.3961 - val_acc: 0.2700\n"
       ]
      },
      {
       "output_type": "stream",
       "stream": "stdout",
       "text": [
        "Epoch 45/120\n",
        "0s - loss: 1.4006 - acc: 0.2597 - val_loss: 1.3951 - val_acc: 0.2700\n",
        "Epoch 46/120\n",
        "0s - loss: 1.3994 - acc: 0.2597 - val_loss: 1.3941 - val_acc: 0.2700\n"
       ]
      },
      {
       "output_type": "stream",
       "stream": "stdout",
       "text": [
        "Epoch 47/120\n",
        "0s - loss: 1.3982 - acc: 0.2597 - val_loss: 1.3933 - val_acc: 0.2700\n",
        "Epoch 48/120\n",
        "0s - loss: 1.3972 - acc: 0.2597 - val_loss: 1.3925 - val_acc: 0.2700\n"
       ]
      },
      {
       "output_type": "stream",
       "stream": "stdout",
       "text": [
        "Epoch 49/120\n",
        "0s - loss: 1.3962 - acc: 0.2598 - val_loss: 1.3918 - val_acc: 0.2700\n",
        "Epoch 50/120\n",
        "0s - loss: 1.3953 - acc: 0.2597 - val_loss: 1.3911 - val_acc: 0.2700\n"
       ]
      },
      {
       "output_type": "stream",
       "stream": "stdout",
       "text": [
        "Epoch 51/120\n",
        "0s - loss: 1.3945 - acc: 0.2597 - val_loss: 1.3906 - val_acc: 0.2700\n",
        "Epoch 52/120\n",
        "0s - loss: 1.3938 - acc: 0.2597 - val_loss: 1.3900 - val_acc: 0.2700\n"
       ]
      },
      {
       "output_type": "stream",
       "stream": "stdout",
       "text": [
        "Epoch 53/120\n",
        "0s - loss: 1.3931 - acc: 0.2597 - val_loss: 1.3895 - val_acc: 0.2700\n",
        "Epoch 54/120\n",
        "0s - loss: 1.3925 - acc: 0.2597 - val_loss: 1.3891 - val_acc: 0.2700\n"
       ]
      },
      {
       "output_type": "stream",
       "stream": "stdout",
       "text": [
        "Epoch 55/120\n",
        "0s - loss: 1.3919 - acc: 0.2597 - val_loss: 1.3887 - val_acc: 0.2700\n",
        "Epoch 56/120\n",
        "0s - loss: 1.3914 - acc: 0.2597 - val_loss: 1.3884 - val_acc: 0.2700\n"
       ]
      },
      {
       "output_type": "stream",
       "stream": "stdout",
       "text": [
        "Epoch 57/120\n",
        "0s - loss: 1.3909 - acc: 0.2597 - val_loss: 1.3881 - val_acc: 0.2700\n",
        "Epoch 58/120\n",
        "0s - loss: 1.3905 - acc: 0.2598 - val_loss: 1.3878 - val_acc: 0.2700\n"
       ]
      },
      {
       "output_type": "stream",
       "stream": "stdout",
       "text": [
        "Epoch 59/120\n",
        "0s - loss: 1.3901 - acc: 0.2597 - val_loss: 1.3875 - val_acc: 0.2700\n",
        "Epoch 60/120\n",
        "0s - loss: 1.3897 - acc: 0.2597 - val_loss: 1.3873 - val_acc: 0.2700\n"
       ]
      },
      {
       "output_type": "stream",
       "stream": "stdout",
       "text": [
        "Epoch 61/120\n",
        "0s - loss: 1.3894 - acc: 0.2597 - val_loss: 1.3871 - val_acc: 0.2700\n",
        "Epoch 62/120\n",
        "0s - loss: 1.3891 - acc: 0.2598 - val_loss: 1.3870 - val_acc: 0.2700\n"
       ]
      },
      {
       "output_type": "stream",
       "stream": "stdout",
       "text": [
        "Epoch 63/120\n",
        "0s - loss: 1.3888 - acc: 0.2598 - val_loss: 1.3868 - val_acc: 0.2700\n",
        "Epoch 64/120\n",
        "0s - loss: 1.3886 - acc: 0.2597 - val_loss: 1.3867 - val_acc: 0.2700\n"
       ]
      },
      {
       "output_type": "stream",
       "stream": "stdout",
       "text": [
        "Epoch 65/120\n",
        "0s - loss: 1.3884 - acc: 0.2598 - val_loss: 1.3865 - val_acc: 0.2700\n",
        "Epoch 66/120\n",
        "0s - loss: 1.3882 - acc: 0.2597 - val_loss: 1.3864 - val_acc: 0.2700\n"
       ]
      },
      {
       "output_type": "stream",
       "stream": "stdout",
       "text": [
        "Epoch 67/120\n",
        "0s - loss: 1.3880 - acc: 0.2597 - val_loss: 1.3864 - val_acc: 0.2700\n",
        "Epoch 68/120\n",
        "0s - loss: 1.3878 - acc: 0.2597 - val_loss: 1.3863 - val_acc: 0.2700\n"
       ]
      },
      {
       "output_type": "stream",
       "stream": "stdout",
       "text": [
        "Epoch 69/120\n",
        "0s - loss: 1.3876 - acc: 0.2598 - val_loss: 1.3862 - val_acc: 0.2700\n",
        "Epoch 70/120\n",
        "0s - loss: 1.3875 - acc: 0.2597 - val_loss: 1.3862 - val_acc: 0.2700\n"
       ]
      },
      {
       "output_type": "stream",
       "stream": "stdout",
       "text": [
        "Epoch 71/120\n",
        "0s - loss: 1.3874 - acc: 0.2597 - val_loss: 1.3861 - val_acc: 0.2700\n",
        "Epoch 72/120\n",
        "0s - loss: 1.3873 - acc: 0.2597 - val_loss: 1.3861 - val_acc: 0.2700\n"
       ]
      },
      {
       "output_type": "stream",
       "stream": "stdout",
       "text": [
        "Epoch 73/120\n",
        "0s - loss: 1.3872 - acc: 0.2597 - val_loss: 1.3860 - val_acc: 0.2700\n",
        "Epoch 74/120\n",
        "0s - loss: 1.3871 - acc: 0.2597 - val_loss: 1.3860 - val_acc: 0.2700\n"
       ]
      },
      {
       "output_type": "stream",
       "stream": "stdout",
       "text": [
        "Epoch 75/120\n",
        "0s - loss: 1.3870 - acc: 0.2598 - val_loss: 1.3860 - val_acc: 0.2700\n",
        "Epoch 76/120\n",
        "0s - loss: 1.3869 - acc: 0.2598 - val_loss: 1.3860 - val_acc: 0.2700\n"
       ]
      },
      {
       "output_type": "stream",
       "stream": "stdout",
       "text": [
        "Epoch 77/120\n",
        "0s - loss: 1.3868 - acc: 0.2598 - val_loss: 1.3860 - val_acc: 0.2700\n",
        "Epoch 78/120\n",
        "0s - loss: 1.3868 - acc: 0.2598 - val_loss: 1.3860 - val_acc: 0.2700\n"
       ]
      },
      {
       "output_type": "stream",
       "stream": "stdout",
       "text": [
        "Epoch 79/120\n",
        "0s - loss: 1.3867 - acc: 0.2597 - val_loss: 1.3860 - val_acc: 0.2700\n",
        "Epoch 80/120\n",
        "0s - loss: 1.3866 - acc: 0.2597 - val_loss: 1.3860 - val_acc: 0.2700\n"
       ]
      },
      {
       "output_type": "stream",
       "stream": "stdout",
       "text": [
        "Epoch 81/120\n",
        "0s - loss: 1.3866 - acc: 0.2598 - val_loss: 1.3860 - val_acc: 0.2700\n",
        "Epoch 82/120\n",
        "0s - loss: 1.3866 - acc: 0.2598 - val_loss: 1.3860 - val_acc: 0.2700\n"
       ]
      },
      {
       "output_type": "stream",
       "stream": "stdout",
       "text": [
        "Epoch 83/120\n",
        "0s - loss: 1.3865 - acc: 0.2597 - val_loss: 1.3860 - val_acc: 0.2700\n",
        "Epoch 84/120\n",
        "0s - loss: 1.3865 - acc: 0.2598 - val_loss: 1.3860 - val_acc: 0.2700\n"
       ]
      },
      {
       "output_type": "stream",
       "stream": "stdout",
       "text": [
        "Epoch 85/120\n",
        "0s - loss: 1.3865 - acc: 0.2597 - val_loss: 1.3860 - val_acc: 0.2700\n",
        "Epoch 86/120\n",
        "0s - loss: 1.3864 - acc: 0.2597 - val_loss: 1.3860 - val_acc: 0.2700\n"
       ]
      },
      {
       "output_type": "stream",
       "stream": "stdout",
       "text": [
        "Epoch 87/120\n",
        "0s - loss: 1.3864 - acc: 0.2597 - val_loss: 1.3860 - val_acc: 0.2700\n",
        "Epoch 88/120\n",
        "0s - loss: 1.3864 - acc: 0.2597 - val_loss: 1.3860 - val_acc: 0.2700\n"
       ]
      },
      {
       "output_type": "stream",
       "stream": "stdout",
       "text": [
        "Epoch 89/120\n",
        "0s - loss: 1.3864 - acc: 0.2597 - val_loss: 1.3860 - val_acc: 0.2700\n",
        "Epoch 90/120\n",
        "0s - loss: 1.3863 - acc: 0.2597 - val_loss: 1.3860 - val_acc: 0.2700\n"
       ]
      },
      {
       "output_type": "stream",
       "stream": "stdout",
       "text": [
        "Epoch 91/120\n",
        "0s - loss: 1.3863 - acc: 0.2597 - val_loss: 1.3860 - val_acc: 0.2700\n",
        "Epoch 92/120\n",
        "0s - loss: 1.3863 - acc: 0.2597 - val_loss: 1.3860 - val_acc: 0.2700\n"
       ]
      },
      {
       "output_type": "stream",
       "stream": "stdout",
       "text": [
        "Epoch 93/120\n",
        "0s - loss: 1.3863 - acc: 0.2598 - val_loss: 1.3861 - val_acc: 0.2700\n",
        "Epoch 94/120\n",
        "0s - loss: 1.3863 - acc: 0.2597 - val_loss: 1.3861 - val_acc: 0.2700\n"
       ]
      },
      {
       "output_type": "stream",
       "stream": "stdout",
       "text": [
        "Epoch 95/120\n",
        "0s - loss: 1.3863 - acc: 0.2597 - val_loss: 1.3861 - val_acc: 0.2700\n",
        "Epoch 96/120\n",
        "0s - loss: 1.3863 - acc: 0.2597 - val_loss: 1.3861 - val_acc: 0.2700\n"
       ]
      },
      {
       "output_type": "stream",
       "stream": "stdout",
       "text": [
        "Epoch 97/120\n",
        "0s - loss: 1.3862 - acc: 0.2597 - val_loss: 1.3861 - val_acc: 0.2700\n",
        "Epoch 98/120\n",
        "0s - loss: 1.3862 - acc: 0.2597 - val_loss: 1.3861 - val_acc: 0.2700\n"
       ]
      },
      {
       "output_type": "stream",
       "stream": "stdout",
       "text": [
        "Epoch 99/120\n",
        "0s - loss: 1.3862 - acc: 0.2597 - val_loss: 1.3861 - val_acc: 0.2700\n",
        "Epoch 100/120\n",
        "0s - loss: 1.3862 - acc: 0.2598 - val_loss: 1.3861 - val_acc: 0.2700\n"
       ]
      },
      {
       "output_type": "stream",
       "stream": "stdout",
       "text": [
        "Epoch 101/120\n",
        "0s - loss: 1.3862 - acc: 0.2597 - val_loss: 1.3861 - val_acc: 0.2700\n",
        "Epoch 102/120\n",
        "0s - loss: 1.3862 - acc: 0.2597 - val_loss: 1.3861 - val_acc: 0.2700\n"
       ]
      },
      {
       "output_type": "stream",
       "stream": "stdout",
       "text": [
        "Epoch 103/120\n",
        "0s - loss: 1.3862 - acc: 0.2598 - val_loss: 1.3862 - val_acc: 0.2700\n",
        "Epoch 104/120\n",
        "0s - loss: 1.3862 - acc: 0.2597 - val_loss: 1.3862 - val_acc: 0.2700\n"
       ]
      },
      {
       "output_type": "stream",
       "stream": "stdout",
       "text": [
        "Epoch 105/120\n",
        "0s - loss: 1.3862 - acc: 0.2597 - val_loss: 1.3862 - val_acc: 0.2700\n",
        "Epoch 106/120\n",
        "0s - loss: 1.3862 - acc: 0.2597 - val_loss: 1.3862 - val_acc: 0.2700\n"
       ]
      },
      {
       "output_type": "stream",
       "stream": "stdout",
       "text": [
        "Epoch 107/120\n",
        "0s - loss: 1.3862 - acc: 0.2597 - val_loss: 1.3862 - val_acc: 0.2700\n",
        "Epoch 108/120\n",
        "0s - loss: 1.3862 - acc: 0.2597 - val_loss: 1.3862 - val_acc: 0.2700\n"
       ]
      },
      {
       "output_type": "stream",
       "stream": "stdout",
       "text": [
        "Epoch 109/120\n",
        "0s - loss: 1.3862 - acc: 0.2597 - val_loss: 1.3862 - val_acc: 0.2700\n",
        "Epoch 110/120\n",
        "0s - loss: 1.3862 - acc: 0.2597 - val_loss: 1.3862 - val_acc: 0.2700\n"
       ]
      },
      {
       "output_type": "stream",
       "stream": "stdout",
       "text": [
        "Epoch 111/120\n",
        "0s - loss: 1.3862 - acc: 0.2597 - val_loss: 1.3862 - val_acc: 0.2700\n",
        "Epoch 112/120\n",
        "0s - loss: 1.3862 - acc: 0.2597 - val_loss: 1.3862 - val_acc: 0.2700\n"
       ]
      },
      {
       "output_type": "stream",
       "stream": "stdout",
       "text": [
        "Epoch 113/120\n",
        "0s - loss: 1.3862 - acc: 0.2598 - val_loss: 1.3862 - val_acc: 0.2700\n",
        "Epoch 114/120\n",
        "0s - loss: 1.3862 - acc: 0.2597 - val_loss: 1.3862 - val_acc: 0.2700\n"
       ]
      },
      {
       "output_type": "stream",
       "stream": "stdout",
       "text": [
        "Epoch 115/120\n",
        "0s - loss: 1.3862 - acc: 0.2597 - val_loss: 1.3863 - val_acc: 0.2700\n",
        "Epoch 116/120\n",
        "0s - loss: 1.3862 - acc: 0.2597 - val_loss: 1.3863 - val_acc: 0.2700\n"
       ]
      },
      {
       "output_type": "stream",
       "stream": "stdout",
       "text": [
        "Epoch 117/120\n",
        "0s - loss: 1.3862 - acc: 0.2597 - val_loss: 1.3863 - val_acc: 0.2700\n",
        "Epoch 118/120\n",
        "0s - loss: 1.3862 - acc: 0.2597 - val_loss: 1.3863 - val_acc: 0.2700\n"
       ]
      },
      {
       "output_type": "stream",
       "stream": "stdout",
       "text": [
        "Epoch 119/120\n",
        "0s - loss: 1.3862 - acc: 0.2597 - val_loss: 1.3863 - val_acc: 0.2700\n",
        "Epoch 120/120\n",
        "0s - loss: 1.3862 - acc: 0.2597 - val_loss: 1.3863 - val_acc: 0.2700\n"
       ]
      },
      {
       "output_type": "stream",
       "stream": "stdout",
       "text": [
        "\r",
        " 200/1000 [=====>........................] - ETA: 0s"
       ]
      },
      {
       "output_type": "stream",
       "stream": "stdout",
       "text": [
        "\r",
        " 200/1000 [=====>........................] - ETA: 0s"
       ]
      },
      {
       "output_type": "stream",
       "stream": "stdout",
       "text": [
        "Train on 4000 samples, validate on 1000 samples\n",
        "Epoch 1/130\n",
        "0s - loss: 1.0288 - acc: 0.5067 - val_loss: 1.0269 - val_acc: 0.5100\n",
        "Epoch 2/130\n",
        "0s - loss: 1.0198 - acc: 0.5067 - val_loss: 1.0184 - val_acc: 0.5100\n"
       ]
      },
      {
       "output_type": "stream",
       "stream": "stdout",
       "text": [
        "Epoch 3/130\n",
        "0s - loss: 1.0115 - acc: 0.5067 - val_loss: 1.0104 - val_acc: 0.5100\n",
        "Epoch 4/130\n",
        "0s - loss: 1.0038 - acc: 0.5068 - val_loss: 1.0030 - val_acc: 0.5100\n"
       ]
      },
      {
       "output_type": "stream",
       "stream": "stdout",
       "text": [
        "Epoch 5/130\n",
        "0s - loss: 0.9967 - acc: 0.5067 - val_loss: 0.9962 - val_acc: 0.5100\n",
        "Epoch 6/130\n",
        "0s - loss: 0.9900 - acc: 0.5067 - val_loss: 0.9898 - val_acc: 0.5100\n"
       ]
      },
      {
       "output_type": "stream",
       "stream": "stdout",
       "text": [
        "Epoch 7/130\n",
        "0s - loss: 0.9838 - acc: 0.5068 - val_loss: 0.9838 - val_acc: 0.5100\n",
        "Epoch 8/130\n",
        "0s - loss: 0.9780 - acc: 0.5067 - val_loss: 0.9782 - val_acc: 0.5100\n"
       ]
      },
      {
       "output_type": "stream",
       "stream": "stdout",
       "text": [
        "Epoch 9/130\n",
        "0s - loss: 0.9725 - acc: 0.5067 - val_loss: 0.9729 - val_acc: 0.5100\n",
        "Epoch 10/130\n",
        "0s - loss: 0.9674 - acc: 0.5067 - val_loss: 0.9680 - val_acc: 0.5100\n"
       ]
      },
      {
       "output_type": "stream",
       "stream": "stdout",
       "text": [
        "Epoch 11/130\n",
        "0s - loss: 0.9626 - acc: 0.5067 - val_loss: 0.9633 - val_acc: 0.5100\n",
        "Epoch 12/130\n",
        "0s - loss: 0.9580 - acc: 0.5068 - val_loss: 0.9590 - val_acc: 0.5100\n"
       ]
      },
      {
       "output_type": "stream",
       "stream": "stdout",
       "text": [
        "Epoch 13/130\n",
        "0s - loss: 0.9537 - acc: 0.5068 - val_loss: 0.9548 - val_acc: 0.5100\n",
        "Epoch 14/130\n",
        "0s - loss: 0.9497 - acc: 0.5067 - val_loss: 0.9509 - val_acc: 0.5100\n"
       ]
      },
      {
       "output_type": "stream",
       "stream": "stdout",
       "text": [
        "Epoch 15/130\n",
        "0s - loss: 0.9459 - acc: 0.5067 - val_loss: 0.9472 - val_acc: 0.5100\n",
        "Epoch 16/130\n",
        "0s - loss: 0.9422 - acc: 0.5067 - val_loss: 0.9437 - val_acc: 0.5100\n"
       ]
      },
      {
       "output_type": "stream",
       "stream": "stdout",
       "text": [
        "Epoch 17/130\n",
        "0s - loss: 0.9388 - acc: 0.5067 - val_loss: 0.9404 - val_acc: 0.5100\n",
        "Epoch 18/130\n",
        "0s - loss: 0.9355 - acc: 0.5067 - val_loss: 0.9372 - val_acc: 0.5100\n"
       ]
      },
      {
       "output_type": "stream",
       "stream": "stdout",
       "text": [
        "Epoch 19/130\n",
        "0s - loss: 0.9325 - acc: 0.5067 - val_loss: 0.9342 - val_acc: 0.5100\n",
        "Epoch 20/130\n",
        "0s - loss: 0.9295 - acc: 0.5067 - val_loss: 0.9314 - val_acc: 0.5100\n"
       ]
      },
      {
       "output_type": "stream",
       "stream": "stdout",
       "text": [
        "Epoch 21/130\n",
        "0s - loss: 0.9267 - acc: 0.5067 - val_loss: 0.9287 - val_acc: 0.5100\n",
        "Epoch 22/130\n",
        "0s - loss: 0.9240 - acc: 0.5067 - val_loss: 0.9261 - val_acc: 0.5100\n"
       ]
      },
      {
       "output_type": "stream",
       "stream": "stdout",
       "text": [
        "Epoch 23/130\n",
        "0s - loss: 0.9215 - acc: 0.5067 - val_loss: 0.9236 - val_acc: 0.5100\n",
        "Epoch 24/130\n",
        "0s - loss: 0.9190 - acc: 0.5067 - val_loss: 0.9212 - val_acc: 0.5100\n"
       ]
      },
      {
       "output_type": "stream",
       "stream": "stdout",
       "text": [
        "Epoch 25/130\n",
        "0s - loss: 0.9167 - acc: 0.5068 - val_loss: 0.9189 - val_acc: 0.5100\n",
        "Epoch 26/130\n",
        "0s - loss: 0.9145 - acc: 0.5067 - val_loss: 0.9168 - val_acc: 0.5100\n"
       ]
      },
      {
       "output_type": "stream",
       "stream": "stdout",
       "text": [
        "Epoch 27/130\n",
        "0s - loss: 0.9123 - acc: 0.5067 - val_loss: 0.9147 - val_acc: 0.5100\n",
        "Epoch 28/130\n",
        "0s - loss: 0.9103 - acc: 0.5068 - val_loss: 0.9127 - val_acc: 0.5100\n"
       ]
      },
      {
       "output_type": "stream",
       "stream": "stdout",
       "text": [
        "Epoch 29/130\n",
        "0s - loss: 0.9083 - acc: 0.4620 - val_loss: 0.9108 - val_acc: 0.5100\n",
        "Epoch 30/130\n",
        "0s - loss: 0.9064 - acc: 0.3835 - val_loss: 0.9089 - val_acc: 0.2420\n"
       ]
      },
      {
       "output_type": "stream",
       "stream": "stdout",
       "text": [
        "Epoch 31/130\n",
        "0s - loss: 0.9046 - acc: 0.2553 - val_loss: 0.9072 - val_acc: 0.2420\n",
        "Epoch 32/130\n",
        "0s - loss: 0.9028 - acc: 0.2903 - val_loss: 0.9055 - val_acc: 0.2420\n"
       ]
      },
      {
       "output_type": "stream",
       "stream": "stdout",
       "text": [
        "Epoch 33/130\n",
        "0s - loss: 0.9012 - acc: 0.2552 - val_loss: 0.9038 - val_acc: 0.2420\n",
        "Epoch 34/130\n",
        "0s - loss: 0.8995 - acc: 0.2552 - val_loss: 0.9022 - val_acc: 0.2420\n"
       ]
      },
      {
       "output_type": "stream",
       "stream": "stdout",
       "text": [
        "Epoch 35/130\n",
        "0s - loss: 0.8980 - acc: 0.2552 - val_loss: 0.9007 - val_acc: 0.2420\n",
        "Epoch 36/130\n",
        "0s - loss: 0.8965 - acc: 0.2552 - val_loss: 0.8993 - val_acc: 0.2420\n"
       ]
      },
      {
       "output_type": "stream",
       "stream": "stdout",
       "text": [
        "Epoch 37/130\n",
        "0s - loss: 0.8950 - acc: 0.2552 - val_loss: 0.8978 - val_acc: 0.2420\n",
        "Epoch 38/130\n",
        "0s - loss: 0.8936 - acc: 0.2553 - val_loss: 0.8965 - val_acc: 0.2420\n"
       ]
      },
      {
       "output_type": "stream",
       "stream": "stdout",
       "text": [
        "Epoch 39/130\n",
        "0s - loss: 0.8923 - acc: 0.2552 - val_loss: 0.8952 - val_acc: 0.2420\n",
        "Epoch 40/130\n",
        "0s - loss: 0.8910 - acc: 0.2552 - val_loss: 0.8939 - val_acc: 0.2420\n"
       ]
      },
      {
       "output_type": "stream",
       "stream": "stdout",
       "text": [
        "Epoch 41/130\n",
        "0s - loss: 0.8897 - acc: 0.2552 - val_loss: 0.8926 - val_acc: 0.2420\n",
        "Epoch 42/130\n",
        "0s - loss: 0.8885 - acc: 0.2552 - val_loss: 0.8915 - val_acc: 0.2420\n"
       ]
      },
      {
       "output_type": "stream",
       "stream": "stdout",
       "text": [
        "Epoch 43/130\n",
        "0s - loss: 0.8873 - acc: 0.2552 - val_loss: 0.8903 - val_acc: 0.2420\n",
        "Epoch 44/130\n",
        "0s - loss: 0.8862 - acc: 0.2552 - val_loss: 0.8892 - val_acc: 0.2420\n"
       ]
      },
      {
       "output_type": "stream",
       "stream": "stdout",
       "text": [
        "Epoch 45/130\n",
        "0s - loss: 0.8851 - acc: 0.2552 - val_loss: 0.8881 - val_acc: 0.2420\n",
        "Epoch 46/130\n",
        "0s - loss: 0.8840 - acc: 0.2552 - val_loss: 0.8870 - val_acc: 0.2420\n"
       ]
      },
      {
       "output_type": "stream",
       "stream": "stdout",
       "text": [
        "Epoch 47/130\n",
        "0s - loss: 0.8830 - acc: 0.2552 - val_loss: 0.8860 - val_acc: 0.2420\n",
        "Epoch 48/130\n",
        "0s - loss: 0.8820 - acc: 0.2553 - val_loss: 0.8850 - val_acc: 0.2420\n"
       ]
      },
      {
       "output_type": "stream",
       "stream": "stdout",
       "text": [
        "Epoch 49/130\n",
        "0s - loss: 0.8810 - acc: 0.2552 - val_loss: 0.8841 - val_acc: 0.2420\n",
        "Epoch 50/130\n",
        "0s - loss: 0.8800 - acc: 0.2552 - val_loss: 0.8831 - val_acc: 0.2420\n"
       ]
      },
      {
       "output_type": "stream",
       "stream": "stdout",
       "text": [
        "Epoch 51/130\n",
        "0s - loss: 0.8791 - acc: 0.2552 - val_loss: 0.8822 - val_acc: 0.2420\n",
        "Epoch 52/130\n",
        "0s - loss: 0.8782 - acc: 0.2552 - val_loss: 0.8813 - val_acc: 0.2420\n"
       ]
      },
      {
       "output_type": "stream",
       "stream": "stdout",
       "text": [
        "Epoch 53/130\n",
        "0s - loss: 0.8773 - acc: 0.2552 - val_loss: 0.8805 - val_acc: 0.2420\n",
        "Epoch 54/130\n",
        "0s - loss: 0.8765 - acc: 0.2552 - val_loss: 0.8797 - val_acc: 0.2420\n"
       ]
      },
      {
       "output_type": "stream",
       "stream": "stdout",
       "text": [
        "Epoch 55/130\n",
        "0s - loss: 0.8757 - acc: 0.2553 - val_loss: 0.8788 - val_acc: 0.2420\n",
        "Epoch 56/130\n",
        "0s - loss: 0.8749 - acc: 0.2552 - val_loss: 0.8781 - val_acc: 0.2420\n"
       ]
      },
      {
       "output_type": "stream",
       "stream": "stdout",
       "text": [
        "Epoch 57/130\n",
        "0s - loss: 0.8741 - acc: 0.2552 - val_loss: 0.8773 - val_acc: 0.2420\n",
        "Epoch 58/130\n",
        "0s - loss: 0.8733 - acc: 0.2552 - val_loss: 0.8765 - val_acc: 0.2420\n"
       ]
      },
      {
       "output_type": "stream",
       "stream": "stdout",
       "text": [
        "Epoch 59/130\n",
        "0s - loss: 0.8726 - acc: 0.2552 - val_loss: 0.8758 - val_acc: 0.2420\n",
        "Epoch 60/130\n",
        "0s - loss: 0.8719 - acc: 0.2552 - val_loss: 0.8751 - val_acc: 0.2420\n"
       ]
      },
      {
       "output_type": "stream",
       "stream": "stdout",
       "text": [
        "Epoch 61/130\n",
        "0s - loss: 0.8712 - acc: 0.2552 - val_loss: 0.8744 - val_acc: 0.2420\n",
        "Epoch 62/130\n",
        "0s - loss: 0.8705 - acc: 0.2552 - val_loss: 0.8737 - val_acc: 0.2420\n"
       ]
      },
      {
       "output_type": "stream",
       "stream": "stdout",
       "text": [
        "Epoch 63/130\n",
        "0s - loss: 0.8698 - acc: 0.2553 - val_loss: 0.8731 - val_acc: 0.2420\n",
        "Epoch 64/130\n",
        "0s - loss: 0.8692 - acc: 0.2552 - val_loss: 0.8724 - val_acc: 0.2420\n"
       ]
      },
      {
       "output_type": "stream",
       "stream": "stdout",
       "text": [
        "Epoch 65/130\n",
        "0s - loss: 0.8685 - acc: 0.2552 - val_loss: 0.8718 - val_acc: 0.2420\n",
        "Epoch 66/130\n",
        "0s - loss: 0.8679 - acc: 0.2552 - val_loss: 0.8712 - val_acc: 0.2420\n"
       ]
      },
      {
       "output_type": "stream",
       "stream": "stdout",
       "text": [
        "Epoch 67/130\n",
        "0s - loss: 0.8673 - acc: 0.2552 - val_loss: 0.8706 - val_acc: 0.2420\n",
        "Epoch 68/130\n",
        "0s - loss: 0.8667 - acc: 0.2552 - val_loss: 0.8700 - val_acc: 0.2420\n"
       ]
      },
      {
       "output_type": "stream",
       "stream": "stdout",
       "text": [
        "Epoch 69/130\n",
        "0s - loss: 0.8661 - acc: 0.2552 - val_loss: 0.8694 - val_acc: 0.2420\n",
        "Epoch 70/130\n",
        "0s - loss: 0.8656 - acc: 0.2552 - val_loss: 0.8689 - val_acc: 0.2420\n"
       ]
      },
      {
       "output_type": "stream",
       "stream": "stdout",
       "text": [
        "Epoch 71/130\n",
        "0s - loss: 0.8650 - acc: 0.2552 - val_loss: 0.8683 - val_acc: 0.2420\n",
        "Epoch 72/130\n",
        "0s - loss: 0.8645 - acc: 0.2552 - val_loss: 0.8678 - val_acc: 0.2420\n"
       ]
      },
      {
       "output_type": "stream",
       "stream": "stdout",
       "text": [
        "Epoch 73/130\n",
        "0s - loss: 0.8639 - acc: 0.2552 - val_loss: 0.8673 - val_acc: 0.2420\n",
        "Epoch 74/130\n",
        "0s - loss: 0.8634 - acc: 0.2552 - val_loss: 0.8668 - val_acc: 0.2420\n"
       ]
      },
      {
       "output_type": "stream",
       "stream": "stdout",
       "text": [
        "Epoch 75/130\n",
        "0s - loss: 0.8629 - acc: 0.2552 - val_loss: 0.8663 - val_acc: 0.2420\n",
        "Epoch 76/130\n",
        "0s - loss: 0.8624 - acc: 0.2552 - val_loss: 0.8658 - val_acc: 0.2420\n"
       ]
      },
      {
       "output_type": "stream",
       "stream": "stdout",
       "text": [
        "Epoch 77/130\n",
        "0s - loss: 0.8619 - acc: 0.2553 - val_loss: 0.8653 - val_acc: 0.2420\n",
        "Epoch 78/130\n",
        "0s - loss: 0.8615 - acc: 0.2552 - val_loss: 0.8648 - val_acc: 0.2420\n"
       ]
      },
      {
       "output_type": "stream",
       "stream": "stdout",
       "text": [
        "Epoch 79/130\n",
        "0s - loss: 0.8610 - acc: 0.2552 - val_loss: 0.8644 - val_acc: 0.2420\n",
        "Epoch 80/130\n",
        "0s - loss: 0.8605 - acc: 0.2553 - val_loss: 0.8639 - val_acc: 0.2420\n"
       ]
      },
      {
       "output_type": "stream",
       "stream": "stdout",
       "text": [
        "Epoch 81/130\n",
        "0s - loss: 0.8601 - acc: 0.2552 - val_loss: 0.8635 - val_acc: 0.2420\n",
        "Epoch 82/130\n",
        "0s - loss: 0.8597 - acc: 0.2552 - val_loss: 0.8630 - val_acc: 0.2420\n"
       ]
      },
      {
       "output_type": "stream",
       "stream": "stdout",
       "text": [
        "Epoch 83/130\n",
        "0s - loss: 0.8592 - acc: 0.2552 - val_loss: 0.8626 - val_acc: 0.2420\n",
        "Epoch 84/130\n",
        "0s - loss: 0.8588 - acc: 0.2553 - val_loss: 0.8622 - val_acc: 0.2420\n"
       ]
      },
      {
       "output_type": "stream",
       "stream": "stdout",
       "text": [
        "Epoch 85/130\n",
        "0s - loss: 0.8584 - acc: 0.2552 - val_loss: 0.8618 - val_acc: 0.2420\n",
        "Epoch 86/130\n",
        "0s - loss: 0.8580 - acc: 0.2553 - val_loss: 0.8614 - val_acc: 0.2420\n"
       ]
      },
      {
       "output_type": "stream",
       "stream": "stdout",
       "text": [
        "Epoch 87/130\n",
        "0s - loss: 0.8576 - acc: 0.2552 - val_loss: 0.8610 - val_acc: 0.2420\n",
        "Epoch 88/130\n",
        "0s - loss: 0.8572 - acc: 0.2552 - val_loss: 0.8606 - val_acc: 0.2420\n"
       ]
      },
      {
       "output_type": "stream",
       "stream": "stdout",
       "text": [
        "Epoch 89/130\n",
        "0s - loss: 0.8568 - acc: 0.2553 - val_loss: 0.8602 - val_acc: 0.2420\n",
        "Epoch 90/130\n",
        "0s - loss: 0.8565 - acc: 0.2553 - val_loss: 0.8599 - val_acc: 0.2420\n"
       ]
      },
      {
       "output_type": "stream",
       "stream": "stdout",
       "text": [
        "Epoch 91/130\n",
        "0s - loss: 0.8561 - acc: 0.2552 - val_loss: 0.8595 - val_acc: 0.2420\n",
        "Epoch 92/130\n",
        "0s - loss: 0.8557 - acc: 0.2552 - val_loss: 0.8592 - val_acc: 0.2420\n"
       ]
      },
      {
       "output_type": "stream",
       "stream": "stdout",
       "text": [
        "Epoch 93/130\n",
        "0s - loss: 0.8554 - acc: 0.2552 - val_loss: 0.8588 - val_acc: 0.2420\n",
        "Epoch 94/130\n",
        "0s - loss: 0.8550 - acc: 0.2552 - val_loss: 0.8585 - val_acc: 0.2420\n"
       ]
      },
      {
       "output_type": "stream",
       "stream": "stdout",
       "text": [
        "Epoch 95/130\n",
        "0s - loss: 0.8547 - acc: 0.2553 - val_loss: 0.8581 - val_acc: 0.2420\n",
        "Epoch 96/130\n",
        "0s - loss: 0.8544 - acc: 0.2552 - val_loss: 0.8578 - val_acc: 0.2420\n"
       ]
      },
      {
       "output_type": "stream",
       "stream": "stdout",
       "text": [
        "Epoch 97/130\n",
        "0s - loss: 0.8541 - acc: 0.2552 - val_loss: 0.8575 - val_acc: 0.2420\n",
        "Epoch 98/130\n",
        "0s - loss: 0.8537 - acc: 0.2552 - val_loss: 0.8571 - val_acc: 0.2420\n"
       ]
      },
      {
       "output_type": "stream",
       "stream": "stdout",
       "text": [
        "Epoch 99/130\n",
        "0s - loss: 0.8534 - acc: 0.2552 - val_loss: 0.8568 - val_acc: 0.2420\n",
        "Epoch 100/130\n",
        "0s - loss: 0.8531 - acc: 0.2552 - val_loss: 0.8565 - val_acc: 0.2420\n"
       ]
      },
      {
       "output_type": "stream",
       "stream": "stdout",
       "text": [
        "Epoch 101/130\n",
        "0s - loss: 0.8528 - acc: 0.2552 - val_loss: 0.8562 - val_acc: 0.2420\n",
        "Epoch 102/130\n",
        "0s - loss: 0.8525 - acc: 0.2552 - val_loss: 0.8559 - val_acc: 0.2420\n"
       ]
      },
      {
       "output_type": "stream",
       "stream": "stdout",
       "text": [
        "Epoch 103/130\n",
        "0s - loss: 0.8522 - acc: 0.2552 - val_loss: 0.8556 - val_acc: 0.2420\n",
        "Epoch 104/130\n",
        "0s - loss: 0.8519 - acc: 0.2552 - val_loss: 0.8553 - val_acc: 0.2420\n"
       ]
      },
      {
       "output_type": "stream",
       "stream": "stdout",
       "text": [
        "Epoch 105/130\n",
        "0s - loss: 0.8516 - acc: 0.2552 - val_loss: 0.8551 - val_acc: 0.2420\n",
        "Epoch 106/130\n",
        "0s - loss: 0.8513 - acc: 0.2552 - val_loss: 0.8548 - val_acc: 0.2420\n"
       ]
      },
      {
       "output_type": "stream",
       "stream": "stdout",
       "text": [
        "Epoch 107/130\n",
        "0s - loss: 0.8511 - acc: 0.2552 - val_loss: 0.8545 - val_acc: 0.2420\n",
        "Epoch 108/130\n",
        "0s - loss: 0.8508 - acc: 0.2552 - val_loss: 0.8542 - val_acc: 0.2420\n"
       ]
      },
      {
       "output_type": "stream",
       "stream": "stdout",
       "text": [
        "Epoch 109/130\n",
        "0s - loss: 0.8505 - acc: 0.2552 - val_loss: 0.8540 - val_acc: 0.2420\n",
        "Epoch 110/130\n",
        "0s - loss: 0.8503 - acc: 0.2552 - val_loss: 0.8537 - val_acc: 0.2420\n"
       ]
      },
      {
       "output_type": "stream",
       "stream": "stdout",
       "text": [
        "Epoch 111/130\n",
        "0s - loss: 0.8500 - acc: 0.2552 - val_loss: 0.8534 - val_acc: 0.2420\n",
        "Epoch 112/130\n",
        "0s - loss: 0.8497 - acc: 0.2552 - val_loss: 0.8532 - val_acc: 0.2420\n"
       ]
      },
      {
       "output_type": "stream",
       "stream": "stdout",
       "text": [
        "Epoch 113/130\n",
        "0s - loss: 0.8495 - acc: 0.2552 - val_loss: 0.8529 - val_acc: 0.2420\n",
        "Epoch 114/130\n",
        "0s - loss: 0.8492 - acc: 0.2552 - val_loss: 0.8527 - val_acc: 0.2420\n"
       ]
      },
      {
       "output_type": "stream",
       "stream": "stdout",
       "text": [
        "Epoch 115/130\n",
        "0s - loss: 0.8490 - acc: 0.2552 - val_loss: 0.8525 - val_acc: 0.2420\n",
        "Epoch 116/130\n",
        "0s - loss: 0.8488 - acc: 0.2552 - val_loss: 0.8522 - val_acc: 0.2420\n"
       ]
      },
      {
       "output_type": "stream",
       "stream": "stdout",
       "text": [
        "Epoch 117/130\n",
        "0s - loss: 0.8485 - acc: 0.2552 - val_loss: 0.8520 - val_acc: 0.2420\n",
        "Epoch 118/130\n",
        "0s - loss: 0.8483 - acc: 0.2553 - val_loss: 0.8517 - val_acc: 0.2420\n"
       ]
      },
      {
       "output_type": "stream",
       "stream": "stdout",
       "text": [
        "Epoch 119/130\n",
        "0s - loss: 0.8481 - acc: 0.2552 - val_loss: 0.8515 - val_acc: 0.2420\n",
        "Epoch 120/130\n",
        "0s - loss: 0.8478 - acc: 0.2552 - val_loss: 0.8513 - val_acc: 0.2420\n"
       ]
      },
      {
       "output_type": "stream",
       "stream": "stdout",
       "text": [
        "Epoch 121/130\n",
        "0s - loss: 0.8476 - acc: 0.2553 - val_loss: 0.8511 - val_acc: 0.2420\n",
        "Epoch 122/130\n",
        "0s - loss: 0.8474 - acc: 0.2553 - val_loss: 0.8509 - val_acc: 0.2420\n"
       ]
      },
      {
       "output_type": "stream",
       "stream": "stdout",
       "text": [
        "Epoch 123/130\n",
        "0s - loss: 0.8472 - acc: 0.2552 - val_loss: 0.8506 - val_acc: 0.2420\n",
        "Epoch 124/130\n",
        "0s - loss: 0.8470 - acc: 0.2552 - val_loss: 0.8504 - val_acc: 0.2420\n"
       ]
      },
      {
       "output_type": "stream",
       "stream": "stdout",
       "text": [
        "Epoch 125/130\n",
        "0s - loss: 0.8468 - acc: 0.2552 - val_loss: 0.8502 - val_acc: 0.2420\n",
        "Epoch 126/130\n",
        "0s - loss: 0.8466 - acc: 0.2552 - val_loss: 0.8500 - val_acc: 0.2420\n"
       ]
      },
      {
       "output_type": "stream",
       "stream": "stdout",
       "text": [
        "Epoch 127/130\n",
        "0s - loss: 0.8463 - acc: 0.2553 - val_loss: 0.8498 - val_acc: 0.2420\n",
        "Epoch 128/130\n",
        "0s - loss: 0.8462 - acc: 0.2552 - val_loss: 0.8496 - val_acc: 0.2420\n"
       ]
      },
      {
       "output_type": "stream",
       "stream": "stdout",
       "text": [
        "Epoch 129/130\n",
        "0s - loss: 0.8460 - acc: 0.2552 - val_loss: 0.8494 - val_acc: 0.2420\n",
        "Epoch 130/130\n",
        "0s - loss: 0.8458 - acc: 0.2553 - val_loss: 0.8492 - val_acc: 0.2420\n"
       ]
      },
      {
       "output_type": "stream",
       "stream": "stdout",
       "text": [
        "\r",
        " 200/1000 [=====>........................] - ETA: 0s"
       ]
      },
      {
       "output_type": "stream",
       "stream": "stdout",
       "text": [
        "\r",
        " 200/1000 [=====>........................] - ETA: 0s"
       ]
      },
      {
       "output_type": "stream",
       "stream": "stdout",
       "text": [
        "Train on 4000 samples, validate on 1000 samples\n",
        "Epoch 1/130\n",
        "0s - loss: 1.6824 - acc: 0.2395 - val_loss: 1.6483 - val_acc: 0.2510\n"
       ]
      },
      {
       "output_type": "stream",
       "stream": "stdout",
       "text": [
        "Epoch 2/130\n",
        "0s - loss: 1.6699 - acc: 0.2395 - val_loss: 1.6367 - val_acc: 0.2510\n"
       ]
      },
      {
       "output_type": "stream",
       "stream": "stdout",
       "text": [
        "Epoch 3/130\n",
        "0s - loss: 1.6576 - acc: 0.2395 - val_loss: 1.6253 - val_acc: 0.2510\n",
        "Epoch 4/130\n",
        "0s - loss: 1.6456 - acc: 0.2395 - val_loss: 1.6142 - val_acc: 0.2510\n"
       ]
      },
      {
       "output_type": "stream",
       "stream": "stdout",
       "text": [
        "Epoch 5/130\n",
        "0s - loss: 1.6339 - acc: 0.2412 - val_loss: 1.6034 - val_acc: 0.2510\n"
       ]
      },
      {
       "output_type": "stream",
       "stream": "stdout",
       "text": [
        "Epoch 6/130\n",
        "0s - loss: 1.6225 - acc: 0.2542 - val_loss: 1.5928 - val_acc: 0.2700\n"
       ]
      },
      {
       "output_type": "stream",
       "stream": "stdout",
       "text": [
        "Epoch 7/130\n",
        "0s - loss: 1.6114 - acc: 0.2597 - val_loss: 1.5826 - val_acc: 0.2700\n"
       ]
      },
      {
       "output_type": "stream",
       "stream": "stdout",
       "text": [
        "Epoch 8/130\n",
        "0s - loss: 1.6006 - acc: 0.2597 - val_loss: 1.5727 - val_acc: 0.2700\n"
       ]
      },
      {
       "output_type": "stream",
       "stream": "stdout",
       "text": [
        "Epoch 9/130\n",
        "0s - loss: 1.5901 - acc: 0.2597 - val_loss: 1.5630 - val_acc: 0.2700\n"
       ]
      },
      {
       "output_type": "stream",
       "stream": "stdout",
       "text": [
        "Epoch 10/130\n",
        "0s - loss: 1.5799 - acc: 0.2597 - val_loss: 1.5537 - val_acc: 0.2700\n"
       ]
      },
      {
       "output_type": "stream",
       "stream": "stdout",
       "text": [
        "Epoch 11/130\n",
        "0s - loss: 1.5700 - acc: 0.2597 - val_loss: 1.5446 - val_acc: 0.2700\n"
       ]
      },
      {
       "output_type": "stream",
       "stream": "stdout",
       "text": [
        "Epoch 12/130\n",
        "0s - loss: 1.5605 - acc: 0.2597 - val_loss: 1.5359 - val_acc: 0.2700\n"
       ]
      },
      {
       "output_type": "stream",
       "stream": "stdout",
       "text": [
        "Epoch 13/130\n",
        "0s - loss: 1.5512 - acc: 0.2597 - val_loss: 1.5275 - val_acc: 0.2700\n"
       ]
      },
      {
       "output_type": "stream",
       "stream": "stdout",
       "text": [
        "Epoch 14/130\n",
        "0s - loss: 1.5423 - acc: 0.2597 - val_loss: 1.5194 - val_acc: 0.2700\n"
       ]
      },
      {
       "output_type": "stream",
       "stream": "stdout",
       "text": [
        "Epoch 15/130\n",
        "0s - loss: 1.5337 - acc: 0.2597 - val_loss: 1.5115 - val_acc: 0.2700\n"
       ]
      },
      {
       "output_type": "stream",
       "stream": "stdout",
       "text": [
        "Epoch 16/130\n",
        "0s - loss: 1.5254 - acc: 0.2597 - val_loss: 1.5040 - val_acc: 0.2700\n"
       ]
      },
      {
       "output_type": "stream",
       "stream": "stdout",
       "text": [
        "Epoch 17/130\n",
        "0s - loss: 1.5175 - acc: 0.2597 - val_loss: 1.4968 - val_acc: 0.2700\n"
       ]
      },
      {
       "output_type": "stream",
       "stream": "stdout",
       "text": [
        "Epoch 18/130\n",
        "0s - loss: 1.5098 - acc: 0.2597 - val_loss: 1.4899 - val_acc: 0.2700\n"
       ]
      },
      {
       "output_type": "stream",
       "stream": "stdout",
       "text": [
        "Epoch 19/130\n",
        "0s - loss: 1.5025 - acc: 0.2597 - val_loss: 1.4833 - val_acc: 0.2700\n"
       ]
      },
      {
       "output_type": "stream",
       "stream": "stdout",
       "text": [
        "Epoch 20/130\n",
        "0s - loss: 1.4955 - acc: 0.2598 - val_loss: 1.4770 - val_acc: 0.2700\n",
        "Epoch 21/130\n",
        "0s - loss: 1.4888 - acc: 0.2597 - val_loss: 1.4710 - val_acc: 0.2700\n"
       ]
      },
      {
       "output_type": "stream",
       "stream": "stdout",
       "text": [
        "Epoch 22/130\n",
        "0s - loss: 1.4824 - acc: 0.2597 - val_loss: 1.4653 - val_acc: 0.2700\n",
        "Epoch 23/130\n",
        "0s - loss: 1.4763 - acc: 0.2597 - val_loss: 1.4598 - val_acc: 0.2700\n"
       ]
      },
      {
       "output_type": "stream",
       "stream": "stdout",
       "text": [
        "Epoch 24/130\n",
        "0s - loss: 1.4704 - acc: 0.2597 - val_loss: 1.4547 - val_acc: 0.2700\n",
        "Epoch 25/130\n",
        "0s - loss: 1.4649 - acc: 0.2597 - val_loss: 1.4498 - val_acc: 0.2700\n"
       ]
      },
      {
       "output_type": "stream",
       "stream": "stdout",
       "text": [
        "Epoch 26/130\n",
        "0s - loss: 1.4597 - acc: 0.2597 - val_loss: 1.4452 - val_acc: 0.2700\n",
        "Epoch 27/130\n",
        "0s - loss: 1.4547 - acc: 0.2597 - val_loss: 1.4408 - val_acc: 0.2700\n"
       ]
      },
      {
       "output_type": "stream",
       "stream": "stdout",
       "text": [
        "Epoch 28/130\n",
        "0s - loss: 1.4500 - acc: 0.2598 - val_loss: 1.4367 - val_acc: 0.2700\n",
        "Epoch 29/130\n",
        "0s - loss: 1.4456 - acc: 0.2597 - val_loss: 1.4329 - val_acc: 0.2700\n"
       ]
      },
      {
       "output_type": "stream",
       "stream": "stdout",
       "text": [
        "Epoch 30/130\n",
        "0s - loss: 1.4414 - acc: 0.2597 - val_loss: 1.4292 - val_acc: 0.2700\n",
        "Epoch 31/130\n",
        "0s - loss: 1.4375 - acc: 0.2597 - val_loss: 1.4258 - val_acc: 0.2700\n"
       ]
      },
      {
       "output_type": "stream",
       "stream": "stdout",
       "text": [
        "Epoch 32/130\n",
        "0s - loss: 1.4338 - acc: 0.2597 - val_loss: 1.4226 - val_acc: 0.2700\n",
        "Epoch 33/130\n",
        "0s - loss: 1.4303 - acc: 0.2597 - val_loss: 1.4197 - val_acc: 0.2700\n"
       ]
      },
      {
       "output_type": "stream",
       "stream": "stdout",
       "text": [
        "Epoch 34/130\n",
        "0s - loss: 1.4271 - acc: 0.2597 - val_loss: 1.4169 - val_acc: 0.2700\n",
        "Epoch 35/130\n",
        "0s - loss: 1.4240 - acc: 0.2597 - val_loss: 1.4143 - val_acc: 0.2700\n"
       ]
      },
      {
       "output_type": "stream",
       "stream": "stdout",
       "text": [
        "Epoch 36/130\n",
        "0s - loss: 1.4211 - acc: 0.2597 - val_loss: 1.4119 - val_acc: 0.2700\n",
        "Epoch 37/130\n",
        "0s - loss: 1.4185 - acc: 0.2597 - val_loss: 1.4096 - val_acc: 0.2700\n"
       ]
      },
      {
       "output_type": "stream",
       "stream": "stdout",
       "text": [
        "Epoch 38/130\n",
        "0s - loss: 1.4160 - acc: 0.2597 - val_loss: 1.4075 - val_acc: 0.2700\n",
        "Epoch 39/130\n",
        "0s - loss: 1.4137 - acc: 0.2597 - val_loss: 1.4056 - val_acc: 0.2700\n"
       ]
      },
      {
       "output_type": "stream",
       "stream": "stdout",
       "text": [
        "Epoch 40/130\n",
        "0s - loss: 1.4115 - acc: 0.2597 - val_loss: 1.4038 - val_acc: 0.2700\n",
        "Epoch 41/130\n",
        "0s - loss: 1.4095 - acc: 0.2597 - val_loss: 1.4022 - val_acc: 0.2700\n"
       ]
      },
      {
       "output_type": "stream",
       "stream": "stdout",
       "text": [
        "Epoch 42/130\n",
        "0s - loss: 1.4076 - acc: 0.2597 - val_loss: 1.4007 - val_acc: 0.2700\n",
        "Epoch 43/130\n",
        "0s - loss: 1.4059 - acc: 0.2597 - val_loss: 1.3993 - val_acc: 0.2700\n"
       ]
      },
      {
       "output_type": "stream",
       "stream": "stdout",
       "text": [
        "Epoch 44/130\n",
        "0s - loss: 1.4043 - acc: 0.2597 - val_loss: 1.3980 - val_acc: 0.2700\n",
        "Epoch 45/130\n",
        "0s - loss: 1.4028 - acc: 0.2598 - val_loss: 1.3968 - val_acc: 0.2700\n"
       ]
      },
      {
       "output_type": "stream",
       "stream": "stdout",
       "text": [
        "Epoch 46/130\n",
        "0s - loss: 1.4014 - acc: 0.2597 - val_loss: 1.3958 - val_acc: 0.2700\n",
        "Epoch 47/130\n",
        "0s - loss: 1.4002 - acc: 0.2597 - val_loss: 1.3948 - val_acc: 0.2700\n"
       ]
      },
      {
       "output_type": "stream",
       "stream": "stdout",
       "text": [
        "Epoch 48/130\n",
        "0s - loss: 1.3990 - acc: 0.2597 - val_loss: 1.3939 - val_acc: 0.2700\n",
        "Epoch 49/130\n",
        "0s - loss: 1.3979 - acc: 0.2598 - val_loss: 1.3931 - val_acc: 0.2700\n"
       ]
      },
      {
       "output_type": "stream",
       "stream": "stdout",
       "text": [
        "Epoch 50/130\n",
        "0s - loss: 1.3969 - acc: 0.2598 - val_loss: 1.3923 - val_acc: 0.2700\n",
        "Epoch 51/130\n",
        "0s - loss: 1.3960 - acc: 0.2598 - val_loss: 1.3916 - val_acc: 0.2700\n"
       ]
      },
      {
       "output_type": "stream",
       "stream": "stdout",
       "text": [
        "Epoch 52/130\n",
        "0s - loss: 1.3952 - acc: 0.2598 - val_loss: 1.3910 - val_acc: 0.2700\n"
       ]
      },
      {
       "output_type": "stream",
       "stream": "stdout",
       "text": [
        "Epoch 53/130\n",
        "0s - loss: 1.3944 - acc: 0.2597 - val_loss: 1.3904 - val_acc: 0.2700\n"
       ]
      },
      {
       "output_type": "stream",
       "stream": "stdout",
       "text": [
        "Epoch 54/130\n",
        "0s - loss: 1.3937 - acc: 0.2597 - val_loss: 1.3899 - val_acc: 0.2700\n"
       ]
      },
      {
       "output_type": "stream",
       "stream": "stdout",
       "text": [
        "Epoch 55/130\n",
        "0s - loss: 1.3930 - acc: 0.2597 - val_loss: 1.3895 - val_acc: 0.2700\n"
       ]
      },
      {
       "output_type": "stream",
       "stream": "stdout",
       "text": [
        "Epoch 56/130\n",
        "0s - loss: 1.3924 - acc: 0.2598 - val_loss: 1.3891 - val_acc: 0.2700\n"
       ]
      },
      {
       "output_type": "stream",
       "stream": "stdout",
       "text": [
        "Epoch 57/130\n",
        "0s - loss: 1.3919 - acc: 0.2597 - val_loss: 1.3887 - val_acc: 0.2700\n"
       ]
      },
      {
       "output_type": "stream",
       "stream": "stdout",
       "text": [
        "Epoch 58/130\n",
        "0s - loss: 1.3914 - acc: 0.2598 - val_loss: 1.3884 - val_acc: 0.2700\n"
       ]
      },
      {
       "output_type": "stream",
       "stream": "stdout",
       "text": [
        "Epoch 59/130\n",
        "0s - loss: 1.3909 - acc: 0.2597 - val_loss: 1.3881 - val_acc: 0.2700\n"
       ]
      },
      {
       "output_type": "stream",
       "stream": "stdout",
       "text": [
        "Epoch 60/130\n",
        "0s - loss: 1.3905 - acc: 0.2597 - val_loss: 1.3878 - val_acc: 0.2700\n",
        "Epoch 61/130\n",
        "0s - loss: 1.3901 - acc: 0.2597 - val_loss: 1.3875 - val_acc: 0.2700\n"
       ]
      },
      {
       "output_type": "stream",
       "stream": "stdout",
       "text": [
        "Epoch 62/130\n",
        "0s - loss: 1.3897 - acc: 0.2597 - val_loss: 1.3873 - val_acc: 0.2700\n",
        "Epoch 63/130\n",
        "0s - loss: 1.3894 - acc: 0.2598 - val_loss: 1.3871 - val_acc: 0.2700\n"
       ]
      },
      {
       "output_type": "stream",
       "stream": "stdout",
       "text": [
        "Epoch 64/130\n",
        "0s - loss: 1.3891 - acc: 0.2597 - val_loss: 1.3870 - val_acc: 0.2700\n",
        "Epoch 65/130\n",
        "0s - loss: 1.3889 - acc: 0.2597 - val_loss: 1.3868 - val_acc: 0.2700\n"
       ]
      },
      {
       "output_type": "stream",
       "stream": "stdout",
       "text": [
        "Epoch 66/130\n",
        "0s - loss: 1.3886 - acc: 0.2598 - val_loss: 1.3867 - val_acc: 0.2700\n",
        "Epoch 67/130\n",
        "0s - loss: 1.3884 - acc: 0.2597 - val_loss: 1.3866 - val_acc: 0.2700\n"
       ]
      },
      {
       "output_type": "stream",
       "stream": "stdout",
       "text": [
        "Epoch 68/130\n",
        "0s - loss: 1.3882 - acc: 0.2597 - val_loss: 1.3865 - val_acc: 0.2700\n",
        "Epoch 69/130\n",
        "0s - loss: 1.3880 - acc: 0.2597 - val_loss: 1.3864 - val_acc: 0.2700\n"
       ]
      },
      {
       "output_type": "stream",
       "stream": "stdout",
       "text": [
        "Epoch 70/130\n",
        "0s - loss: 1.3878 - acc: 0.2597 - val_loss: 1.3863 - val_acc: 0.2700\n",
        "Epoch 71/130\n",
        "0s - loss: 1.3877 - acc: 0.2598 - val_loss: 1.3862 - val_acc: 0.2700\n"
       ]
      },
      {
       "output_type": "stream",
       "stream": "stdout",
       "text": [
        "Epoch 72/130\n",
        "0s - loss: 1.3875 - acc: 0.2597 - val_loss: 1.3862 - val_acc: 0.2700\n",
        "Epoch 73/130\n",
        "0s - loss: 1.3874 - acc: 0.2598 - val_loss: 1.3861 - val_acc: 0.2700\n"
       ]
      },
      {
       "output_type": "stream",
       "stream": "stdout",
       "text": [
        "Epoch 74/130\n",
        "0s - loss: 1.3873 - acc: 0.2598 - val_loss: 1.3861 - val_acc: 0.2700\n",
        "Epoch 75/130\n",
        "0s - loss: 1.3872 - acc: 0.2597 - val_loss: 1.3861 - val_acc: 0.2700\n"
       ]
      },
      {
       "output_type": "stream",
       "stream": "stdout",
       "text": [
        "Epoch 76/130\n",
        "0s - loss: 1.3871 - acc: 0.2597 - val_loss: 1.3860 - val_acc: 0.2700\n",
        "Epoch 77/130\n",
        "0s - loss: 1.3870 - acc: 0.2597 - val_loss: 1.3860 - val_acc: 0.2700\n"
       ]
      },
      {
       "output_type": "stream",
       "stream": "stdout",
       "text": [
        "Epoch 78/130\n",
        "0s - loss: 1.3869 - acc: 0.2597 - val_loss: 1.3860 - val_acc: 0.2700\n",
        "Epoch 79/130\n",
        "0s - loss: 1.3869 - acc: 0.2597 - val_loss: 1.3860 - val_acc: 0.2700\n"
       ]
      },
      {
       "output_type": "stream",
       "stream": "stdout",
       "text": [
        "Epoch 80/130\n",
        "0s - loss: 1.3868 - acc: 0.2597 - val_loss: 1.3860 - val_acc: 0.2700\n",
        "Epoch 81/130\n",
        "0s - loss: 1.3867 - acc: 0.2598 - val_loss: 1.3860 - val_acc: 0.2700\n"
       ]
      },
      {
       "output_type": "stream",
       "stream": "stdout",
       "text": [
        "Epoch 82/130\n",
        "0s - loss: 1.3867 - acc: 0.2597 - val_loss: 1.3859 - val_acc: 0.2700\n",
        "Epoch 83/130\n",
        "0s - loss: 1.3866 - acc: 0.2597 - val_loss: 1.3859 - val_acc: 0.2700\n"
       ]
      },
      {
       "output_type": "stream",
       "stream": "stdout",
       "text": [
        "Epoch 84/130\n",
        "0s - loss: 1.3866 - acc: 0.2597 - val_loss: 1.3859 - val_acc: 0.2700\n",
        "Epoch 85/130\n",
        "0s - loss: 1.3866 - acc: 0.2597 - val_loss: 1.3860 - val_acc: 0.2700\n"
       ]
      },
      {
       "output_type": "stream",
       "stream": "stdout",
       "text": [
        "Epoch 86/130\n",
        "0s - loss: 1.3865 - acc: 0.2597 - val_loss: 1.3860 - val_acc: 0.2700\n",
        "Epoch 87/130\n",
        "0s - loss: 1.3865 - acc: 0.2597 - val_loss: 1.3860 - val_acc: 0.2700\n"
       ]
      },
      {
       "output_type": "stream",
       "stream": "stdout",
       "text": [
        "Epoch 88/130\n",
        "0s - loss: 1.3865 - acc: 0.2597 - val_loss: 1.3860 - val_acc: 0.2700\n",
        "Epoch 89/130\n",
        "0s - loss: 1.3864 - acc: 0.2597 - val_loss: 1.3860 - val_acc: 0.2700\n"
       ]
      },
      {
       "output_type": "stream",
       "stream": "stdout",
       "text": [
        "Epoch 90/130\n",
        "0s - loss: 1.3864 - acc: 0.2597 - val_loss: 1.3860 - val_acc: 0.2700\n",
        "Epoch 91/130\n",
        "0s - loss: 1.3864 - acc: 0.2597 - val_loss: 1.3860 - val_acc: 0.2700\n"
       ]
      },
      {
       "output_type": "stream",
       "stream": "stdout",
       "text": [
        "Epoch 92/130\n",
        "0s - loss: 1.3864 - acc: 0.2597 - val_loss: 1.3860 - val_acc: 0.2700\n",
        "Epoch 93/130\n",
        "0s - loss: 1.3863 - acc: 0.2597 - val_loss: 1.3860 - val_acc: 0.2700\n"
       ]
      },
      {
       "output_type": "stream",
       "stream": "stdout",
       "text": [
        "Epoch 94/130\n",
        "0s - loss: 1.3863 - acc: 0.2597 - val_loss: 1.3860 - val_acc: 0.2700\n",
        "Epoch 95/130\n",
        "0s - loss: 1.3863 - acc: 0.2597 - val_loss: 1.3860 - val_acc: 0.2700\n"
       ]
      },
      {
       "output_type": "stream",
       "stream": "stdout",
       "text": [
        "Epoch 96/130\n",
        "0s - loss: 1.3863 - acc: 0.2597 - val_loss: 1.3860 - val_acc: 0.2700\n",
        "Epoch 97/130\n",
        "0s - loss: 1.3863 - acc: 0.2597 - val_loss: 1.3861 - val_acc: 0.2700\n"
       ]
      },
      {
       "output_type": "stream",
       "stream": "stdout",
       "text": [
        "Epoch 98/130\n",
        "0s - loss: 1.3863 - acc: 0.2597 - val_loss: 1.3861 - val_acc: 0.2700\n"
       ]
      },
      {
       "output_type": "stream",
       "stream": "stdout",
       "text": [
        "Epoch 99/130\n",
        "0s - loss: 1.3863 - acc: 0.2597 - val_loss: 1.3861 - val_acc: 0.2700\n"
       ]
      },
      {
       "output_type": "stream",
       "stream": "stdout",
       "text": [
        "Epoch 100/130\n",
        "0s - loss: 1.3863 - acc: 0.2597 - val_loss: 1.3861 - val_acc: 0.2700\n"
       ]
      },
      {
       "output_type": "stream",
       "stream": "stdout",
       "text": [
        "Epoch 101/130\n",
        "0s - loss: 1.3862 - acc: 0.2597 - val_loss: 1.3861 - val_acc: 0.2700\n"
       ]
      },
      {
       "output_type": "stream",
       "stream": "stdout",
       "text": [
        "Epoch 102/130\n",
        "0s - loss: 1.3862 - acc: 0.2597 - val_loss: 1.3861 - val_acc: 0.2700\n"
       ]
      },
      {
       "output_type": "stream",
       "stream": "stdout",
       "text": [
        "Epoch 103/130\n",
        "0s - loss: 1.3862 - acc: 0.2598 - val_loss: 1.3861 - val_acc: 0.2700\n"
       ]
      },
      {
       "output_type": "stream",
       "stream": "stdout",
       "text": [
        "Epoch 104/130\n",
        "0s - loss: 1.3862 - acc: 0.2597 - val_loss: 1.3861 - val_acc: 0.2700\n"
       ]
      },
      {
       "output_type": "stream",
       "stream": "stdout",
       "text": [
        "Epoch 105/130\n",
        "0s - loss: 1.3862 - acc: 0.2597 - val_loss: 1.3861 - val_acc: 0.2700\n"
       ]
      },
      {
       "output_type": "stream",
       "stream": "stdout",
       "text": [
        "Epoch 106/130\n",
        "0s - loss: 1.3862 - acc: 0.2597 - val_loss: 1.3861 - val_acc: 0.2700\n",
        "Epoch 107/130\n",
        "0s - loss: 1.3862 - acc: 0.2597 - val_loss: 1.3862 - val_acc: 0.2700\n"
       ]
      },
      {
       "output_type": "stream",
       "stream": "stdout",
       "text": [
        "Epoch 108/130\n",
        "0s - loss: 1.3862 - acc: 0.2597 - val_loss: 1.3862 - val_acc: 0.2700\n",
        "Epoch 109/130\n",
        "0s - loss: 1.3862 - acc: 0.2597 - val_loss: 1.3862 - val_acc: 0.2700\n"
       ]
      },
      {
       "output_type": "stream",
       "stream": "stdout",
       "text": [
        "Epoch 110/130\n",
        "0s - loss: 1.3862 - acc: 0.2597 - val_loss: 1.3862 - val_acc: 0.2700\n"
       ]
      },
      {
       "output_type": "stream",
       "stream": "stdout",
       "text": [
        "Epoch 111/130\n",
        "0s - loss: 1.3862 - acc: 0.2597 - val_loss: 1.3862 - val_acc: 0.2700\n",
        "Epoch 112/130\n",
        "0s - loss: 1.3862 - acc: 0.2597 - val_loss: 1.3862 - val_acc: 0.2700\n"
       ]
      },
      {
       "output_type": "stream",
       "stream": "stdout",
       "text": [
        "Epoch 113/130\n",
        "0s - loss: 1.3862 - acc: 0.2597 - val_loss: 1.3862 - val_acc: 0.2700\n",
        "Epoch 114/130\n",
        "0s - loss: 1.3862 - acc: 0.2597 - val_loss: 1.3862 - val_acc: 0.2700\n"
       ]
      },
      {
       "output_type": "stream",
       "stream": "stdout",
       "text": [
        "Epoch 115/130\n",
        "0s - loss: 1.3862 - acc: 0.2597 - val_loss: 1.3862 - val_acc: 0.2700\n",
        "Epoch 116/130\n",
        "0s - loss: 1.3862 - acc: 0.2597 - val_loss: 1.3862 - val_acc: 0.2700\n"
       ]
      },
      {
       "output_type": "stream",
       "stream": "stdout",
       "text": [
        "Epoch 117/130\n",
        "0s - loss: 1.3862 - acc: 0.2597 - val_loss: 1.3862 - val_acc: 0.2700\n",
        "Epoch 118/130\n",
        "0s - loss: 1.3862 - acc: 0.2597 - val_loss: 1.3862 - val_acc: 0.2700\n"
       ]
      },
      {
       "output_type": "stream",
       "stream": "stdout",
       "text": [
        "Epoch 119/130\n",
        "0s - loss: 1.3862 - acc: 0.2598 - val_loss: 1.3863 - val_acc: 0.2700\n",
        "Epoch 120/130\n",
        "0s - loss: 1.3862 - acc: 0.2597 - val_loss: 1.3863 - val_acc: 0.2700\n"
       ]
      },
      {
       "output_type": "stream",
       "stream": "stdout",
       "text": [
        "Epoch 121/130\n",
        "0s - loss: 1.3862 - acc: 0.2597 - val_loss: 1.3863 - val_acc: 0.2700\n",
        "Epoch 122/130\n",
        "0s - loss: 1.3862 - acc: 0.2597 - val_loss: 1.3863 - val_acc: 0.2700\n"
       ]
      },
      {
       "output_type": "stream",
       "stream": "stdout",
       "text": [
        "Epoch 123/130\n",
        "0s - loss: 1.3862 - acc: 0.2597 - val_loss: 1.3863 - val_acc: 0.2700\n",
        "Epoch 124/130\n",
        "0s - loss: 1.3862 - acc: 0.2597 - val_loss: 1.3863 - val_acc: 0.2700\n"
       ]
      },
      {
       "output_type": "stream",
       "stream": "stdout",
       "text": [
        "Epoch 125/130\n",
        "0s - loss: 1.3862 - acc: 0.2597 - val_loss: 1.3863 - val_acc: 0.2700\n",
        "Epoch 126/130\n",
        "0s - loss: 1.3862 - acc: 0.2597 - val_loss: 1.3863 - val_acc: 0.2700\n"
       ]
      },
      {
       "output_type": "stream",
       "stream": "stdout",
       "text": [
        "Epoch 127/130\n",
        "0s - loss: 1.3862 - acc: 0.2597 - val_loss: 1.3863 - val_acc: 0.2700\n",
        "Epoch 128/130\n",
        "0s - loss: 1.3862 - acc: 0.2598 - val_loss: 1.3863 - val_acc: 0.2700\n"
       ]
      },
      {
       "output_type": "stream",
       "stream": "stdout",
       "text": [
        "Epoch 129/130\n",
        "0s - loss: 1.3862 - acc: 0.2597 - val_loss: 1.3863 - val_acc: 0.2700\n",
        "Epoch 130/130\n",
        "0s - loss: 1.3862 - acc: 0.2597 - val_loss: 1.3863 - val_acc: 0.2700\n"
       ]
      },
      {
       "output_type": "stream",
       "stream": "stdout",
       "text": [
        "\r",
        " 200/1000 [=====>........................] - ETA: 0s"
       ]
      },
      {
       "output_type": "stream",
       "stream": "stdout",
       "text": [
        "\r",
        " 200/1000 [=====>........................] - ETA: 0s"
       ]
      },
      {
       "output_type": "stream",
       "stream": "stdout",
       "text": [
        "Train on 4000 samples, validate on 1000 samples\n",
        "Epoch 1/140\n",
        "0s - loss: 1.0294 - acc: 0.5067 - val_loss: 1.0276 - val_acc: 0.5100\n",
        "Epoch 2/140\n",
        "0s - loss: 1.0207 - acc: 0.5068 - val_loss: 1.0193 - val_acc: 0.5100\n"
       ]
      },
      {
       "output_type": "stream",
       "stream": "stdout",
       "text": [
        "Epoch 3/140\n",
        "0s - loss: 1.0126 - acc: 0.5068 - val_loss: 1.0115 - val_acc: 0.5100\n",
        "Epoch 4/140\n",
        "0s - loss: 1.0050 - acc: 0.5067 - val_loss: 1.0043 - val_acc: 0.5100\n"
       ]
      },
      {
       "output_type": "stream",
       "stream": "stdout",
       "text": [
        "Epoch 5/140\n",
        "0s - loss: 0.9980 - acc: 0.5068 - val_loss: 0.9975 - val_acc: 0.5100\n",
        "Epoch 6/140\n",
        "0s - loss: 0.9914 - acc: 0.5067 - val_loss: 0.9912 - val_acc: 0.5100\n"
       ]
      },
      {
       "output_type": "stream",
       "stream": "stdout",
       "text": [
        "Epoch 7/140\n",
        "0s - loss: 0.9852 - acc: 0.5068 - val_loss: 0.9852 - val_acc: 0.5100\n",
        "Epoch 8/140\n",
        "0s - loss: 0.9794 - acc: 0.5067 - val_loss: 0.9796 - val_acc: 0.5100\n"
       ]
      },
      {
       "output_type": "stream",
       "stream": "stdout",
       "text": [
        "Epoch 9/140\n",
        "0s - loss: 0.9740 - acc: 0.5067 - val_loss: 0.9744 - val_acc: 0.5100\n",
        "Epoch 10/140\n",
        "0s - loss: 0.9689 - acc: 0.5067 - val_loss: 0.9694 - val_acc: 0.5100\n"
       ]
      },
      {
       "output_type": "stream",
       "stream": "stdout",
       "text": [
        "Epoch 11/140\n",
        "0s - loss: 0.9640 - acc: 0.5067 - val_loss: 0.9648 - val_acc: 0.5100\n",
        "Epoch 12/140\n",
        "0s - loss: 0.9595 - acc: 0.5068 - val_loss: 0.9604 - val_acc: 0.5100\n"
       ]
      },
      {
       "output_type": "stream",
       "stream": "stdout",
       "text": [
        "Epoch 13/140\n",
        "0s - loss: 0.9552 - acc: 0.5067 - val_loss: 0.9562 - val_acc: 0.5100\n",
        "Epoch 14/140\n",
        "0s - loss: 0.9511 - acc: 0.5067 - val_loss: 0.9523 - val_acc: 0.5100\n"
       ]
      },
      {
       "output_type": "stream",
       "stream": "stdout",
       "text": [
        "Epoch 15/140\n",
        "0s - loss: 0.9473 - acc: 0.5067 - val_loss: 0.9486 - val_acc: 0.5100\n",
        "Epoch 16/140\n",
        "0s - loss: 0.9436 - acc: 0.5067 - val_loss: 0.9451 - val_acc: 0.5100\n"
       ]
      },
      {
       "output_type": "stream",
       "stream": "stdout",
       "text": [
        "Epoch 17/140\n",
        "0s - loss: 0.9402 - acc: 0.5067 - val_loss: 0.9417 - val_acc: 0.5100\n",
        "Epoch 18/140\n",
        "0s - loss: 0.9369 - acc: 0.5067 - val_loss: 0.9385 - val_acc: 0.5100\n"
       ]
      },
      {
       "output_type": "stream",
       "stream": "stdout",
       "text": [
        "Epoch 19/140\n",
        "0s - loss: 0.9337 - acc: 0.5067 - val_loss: 0.9355 - val_acc: 0.5100\n",
        "Epoch 20/140\n",
        "0s - loss: 0.9307 - acc: 0.5067 - val_loss: 0.9326 - val_acc: 0.5100\n"
       ]
      },
      {
       "output_type": "stream",
       "stream": "stdout",
       "text": [
        "Epoch 21/140\n",
        "0s - loss: 0.9279 - acc: 0.5067 - val_loss: 0.9298 - val_acc: 0.5100\n",
        "Epoch 22/140\n",
        "0s - loss: 0.9252 - acc: 0.5067 - val_loss: 0.9272 - val_acc: 0.5100\n"
       ]
      },
      {
       "output_type": "stream",
       "stream": "stdout",
       "text": [
        "Epoch 23/140\n",
        "0s - loss: 0.9226 - acc: 0.5067 - val_loss: 0.9247 - val_acc: 0.5100\n",
        "Epoch 24/140\n",
        "0s - loss: 0.9201 - acc: 0.5067 - val_loss: 0.9223 - val_acc: 0.5100\n"
       ]
      },
      {
       "output_type": "stream",
       "stream": "stdout",
       "text": [
        "Epoch 25/140\n",
        "0s - loss: 0.9178 - acc: 0.5067 - val_loss: 0.9200 - val_acc: 0.5100\n",
        "Epoch 26/140\n",
        "0s - loss: 0.9155 - acc: 0.5067 - val_loss: 0.9178 - val_acc: 0.5100\n"
       ]
      },
      {
       "output_type": "stream",
       "stream": "stdout",
       "text": [
        "Epoch 27/140\n",
        "0s - loss: 0.9133 - acc: 0.5067 - val_loss: 0.9156 - val_acc: 0.5100\n",
        "Epoch 28/140\n",
        "0s - loss: 0.9112 - acc: 0.5068 - val_loss: 0.9136 - val_acc: 0.5100\n"
       ]
      },
      {
       "output_type": "stream",
       "stream": "stdout",
       "text": [
        "Epoch 29/140\n",
        "0s - loss: 0.9092 - acc: 0.5068 - val_loss: 0.9117 - val_acc: 0.5100\n",
        "Epoch 30/140\n",
        "0s - loss: 0.9073 - acc: 0.5067 - val_loss: 0.9098 - val_acc: 0.5100\n"
       ]
      },
      {
       "output_type": "stream",
       "stream": "stdout",
       "text": [
        "Epoch 31/140\n",
        "0s - loss: 0.9055 - acc: 0.5068 - val_loss: 0.9080 - val_acc: 0.5100\n",
        "Epoch 32/140\n",
        "0s - loss: 0.9037 - acc: 0.5067 - val_loss: 0.9063 - val_acc: 0.5100\n"
       ]
      },
      {
       "output_type": "stream",
       "stream": "stdout",
       "text": [
        "Epoch 33/140\n",
        "0s - loss: 0.9020 - acc: 0.3623 - val_loss: 0.9046 - val_acc: 0.5100\n",
        "Epoch 34/140\n",
        "0s - loss: 0.9003 - acc: 0.4472 - val_loss: 0.9030 - val_acc: 0.5100\n"
       ]
      },
      {
       "output_type": "stream",
       "stream": "stdout",
       "text": [
        "Epoch 35/140\n",
        "0s - loss: 0.8988 - acc: 0.4533 - val_loss: 0.9015 - val_acc: 0.2420\n",
        "Epoch 36/140\n",
        "0s - loss: 0.8972 - acc: 0.3050 - val_loss: 0.9000 - val_acc: 0.2420\n"
       ]
      },
      {
       "output_type": "stream",
       "stream": "stdout",
       "text": [
        "Epoch 37/140\n",
        "0s - loss: 0.8958 - acc: 0.3168 - val_loss: 0.8985 - val_acc: 0.2420\n",
        "Epoch 38/140\n",
        "0s - loss: 0.8943 - acc: 0.2552 - val_loss: 0.8971 - val_acc: 0.2420\n"
       ]
      },
      {
       "output_type": "stream",
       "stream": "stdout",
       "text": [
        "Epoch 39/140\n",
        "0s - loss: 0.8930 - acc: 0.2552 - val_loss: 0.8958 - val_acc: 0.2420\n",
        "Epoch 40/140\n",
        "0s - loss: 0.8916 - acc: 0.2553 - val_loss: 0.8945 - val_acc: 0.2420\n"
       ]
      },
      {
       "output_type": "stream",
       "stream": "stdout",
       "text": [
        "Epoch 41/140\n",
        "0s - loss: 0.8904 - acc: 0.2553 - val_loss: 0.8932 - val_acc: 0.2420\n",
        "Epoch 42/140\n",
        "0s - loss: 0.8891 - acc: 0.2553 - val_loss: 0.8920 - val_acc: 0.2420\n"
       ]
      },
      {
       "output_type": "stream",
       "stream": "stdout",
       "text": [
        "Epoch 43/140\n",
        "0s - loss: 0.8879 - acc: 0.2553 - val_loss: 0.8909 - val_acc: 0.2420\n",
        "Epoch 44/140\n",
        "0s - loss: 0.8868 - acc: 0.2552 - val_loss: 0.8897 - val_acc: 0.2420\n"
       ]
      },
      {
       "output_type": "stream",
       "stream": "stdout",
       "text": [
        "Epoch 45/140\n",
        "0s - loss: 0.8856 - acc: 0.2553 - val_loss: 0.8886 - val_acc: 0.2420\n",
        "Epoch 46/140\n",
        "0s - loss: 0.8845 - acc: 0.2552 - val_loss: 0.8875 - val_acc: 0.2420\n"
       ]
      },
      {
       "output_type": "stream",
       "stream": "stdout",
       "text": [
        "Epoch 47/140\n",
        "0s - loss: 0.8835 - acc: 0.2552 - val_loss: 0.8865 - val_acc: 0.2420\n",
        "Epoch 48/140\n",
        "0s - loss: 0.8824 - acc: 0.2552 - val_loss: 0.8855 - val_acc: 0.2420\n"
       ]
      },
      {
       "output_type": "stream",
       "stream": "stdout",
       "text": [
        "Epoch 49/140\n",
        "0s - loss: 0.8815 - acc: 0.2552 - val_loss: 0.8845 - val_acc: 0.2420\n",
        "Epoch 50/140\n",
        "0s - loss: 0.8805 - acc: 0.2553 - val_loss: 0.8836 - val_acc: 0.2420\n"
       ]
      },
      {
       "output_type": "stream",
       "stream": "stdout",
       "text": [
        "Epoch 51/140\n",
        "0s - loss: 0.8795 - acc: 0.2552 - val_loss: 0.8826 - val_acc: 0.2420\n",
        "Epoch 52/140\n",
        "0s - loss: 0.8786 - acc: 0.2552 - val_loss: 0.8818 - val_acc: 0.2420\n"
       ]
      },
      {
       "output_type": "stream",
       "stream": "stdout",
       "text": [
        "Epoch 53/140\n",
        "0s - loss: 0.8777 - acc: 0.2552 - val_loss: 0.8809 - val_acc: 0.2420\n",
        "Epoch 54/140\n",
        "0s - loss: 0.8769 - acc: 0.2552 - val_loss: 0.8800 - val_acc: 0.2420\n"
       ]
      },
      {
       "output_type": "stream",
       "stream": "stdout",
       "text": [
        "Epoch 55/140\n",
        "0s - loss: 0.8760 - acc: 0.2552 - val_loss: 0.8792 - val_acc: 0.2420\n",
        "Epoch 56/140\n",
        "0s - loss: 0.8752 - acc: 0.2552 - val_loss: 0.8784 - val_acc: 0.2420\n"
       ]
      },
      {
       "output_type": "stream",
       "stream": "stdout",
       "text": [
        "Epoch 57/140\n",
        "0s - loss: 0.8744 - acc: 0.2552 - val_loss: 0.8776 - val_acc: 0.2420\n",
        "Epoch 58/140\n",
        "0s - loss: 0.8737 - acc: 0.2552 - val_loss: 0.8769 - val_acc: 0.2420\n"
       ]
      },
      {
       "output_type": "stream",
       "stream": "stdout",
       "text": [
        "Epoch 59/140\n",
        "0s - loss: 0.8729 - acc: 0.2552 - val_loss: 0.8761 - val_acc: 0.2420\n",
        "Epoch 60/140\n",
        "0s - loss: 0.8722 - acc: 0.2552 - val_loss: 0.8754 - val_acc: 0.2420\n"
       ]
      },
      {
       "output_type": "stream",
       "stream": "stdout",
       "text": [
        "Epoch 61/140\n",
        "0s - loss: 0.8715 - acc: 0.2552 - val_loss: 0.8747 - val_acc: 0.2420\n",
        "Epoch 62/140\n",
        "0s - loss: 0.8708 - acc: 0.2552 - val_loss: 0.8740 - val_acc: 0.2420\n"
       ]
      },
      {
       "output_type": "stream",
       "stream": "stdout",
       "text": [
        "Epoch 63/140\n",
        "0s - loss: 0.8701 - acc: 0.2552 - val_loss: 0.8733 - val_acc: 0.2420\n",
        "Epoch 64/140\n",
        "0s - loss: 0.8694 - acc: 0.2552 - val_loss: 0.8727 - val_acc: 0.2420\n"
       ]
      },
      {
       "output_type": "stream",
       "stream": "stdout",
       "text": [
        "Epoch 65/140\n",
        "0s - loss: 0.8688 - acc: 0.2552 - val_loss: 0.8720 - val_acc: 0.2420\n",
        "Epoch 66/140\n",
        "0s - loss: 0.8681 - acc: 0.2552 - val_loss: 0.8714 - val_acc: 0.2420\n"
       ]
      },
      {
       "output_type": "stream",
       "stream": "stdout",
       "text": [
        "Epoch 67/140\n",
        "0s - loss: 0.8675 - acc: 0.2552 - val_loss: 0.8708 - val_acc: 0.2420\n",
        "Epoch 68/140\n",
        "0s - loss: 0.8669 - acc: 0.2552 - val_loss: 0.8702 - val_acc: 0.2420\n"
       ]
      },
      {
       "output_type": "stream",
       "stream": "stdout",
       "text": [
        "Epoch 69/140\n",
        "0s - loss: 0.8663 - acc: 0.2552 - val_loss: 0.8696 - val_acc: 0.2420\n",
        "Epoch 70/140\n",
        "0s - loss: 0.8658 - acc: 0.2552 - val_loss: 0.8691 - val_acc: 0.2420\n"
       ]
      },
      {
       "output_type": "stream",
       "stream": "stdout",
       "text": [
        "Epoch 71/140\n",
        "0s - loss: 0.8652 - acc: 0.2552 - val_loss: 0.8685 - val_acc: 0.2420\n",
        "Epoch 72/140\n",
        "0s - loss: 0.8646 - acc: 0.2552 - val_loss: 0.8680 - val_acc: 0.2420\n"
       ]
      },
      {
       "output_type": "stream",
       "stream": "stdout",
       "text": [
        "Epoch 73/140\n",
        "0s - loss: 0.8641 - acc: 0.2552 - val_loss: 0.8674 - val_acc: 0.2420\n",
        "Epoch 74/140\n",
        "0s - loss: 0.8636 - acc: 0.2552 - val_loss: 0.8669 - val_acc: 0.2420\n"
       ]
      },
      {
       "output_type": "stream",
       "stream": "stdout",
       "text": [
        "Epoch 75/140\n",
        "0s - loss: 0.8631 - acc: 0.2553 - val_loss: 0.8664 - val_acc: 0.2420\n",
        "Epoch 76/140\n",
        "0s - loss: 0.8626 - acc: 0.2552 - val_loss: 0.8659 - val_acc: 0.2420\n"
       ]
      },
      {
       "output_type": "stream",
       "stream": "stdout",
       "text": [
        "Epoch 77/140\n",
        "0s - loss: 0.8621 - acc: 0.2552 - val_loss: 0.8654 - val_acc: 0.2420\n",
        "Epoch 78/140\n",
        "0s - loss: 0.8616 - acc: 0.2552 - val_loss: 0.8649 - val_acc: 0.2420\n"
       ]
      },
      {
       "output_type": "stream",
       "stream": "stdout",
       "text": [
        "Epoch 79/140\n",
        "0s - loss: 0.8611 - acc: 0.2552 - val_loss: 0.8645 - val_acc: 0.2420\n",
        "Epoch 80/140\n",
        "0s - loss: 0.8607 - acc: 0.2552 - val_loss: 0.8640 - val_acc: 0.2420\n"
       ]
      },
      {
       "output_type": "stream",
       "stream": "stdout",
       "text": [
        "Epoch 81/140\n",
        "0s - loss: 0.8602 - acc: 0.2552 - val_loss: 0.8636 - val_acc: 0.2420\n",
        "Epoch 82/140\n",
        "0s - loss: 0.8598 - acc: 0.2552 - val_loss: 0.8631 - val_acc: 0.2420\n"
       ]
      },
      {
       "output_type": "stream",
       "stream": "stdout",
       "text": [
        "Epoch 83/140\n",
        "0s - loss: 0.8593 - acc: 0.2552 - val_loss: 0.8627 - val_acc: 0.2420\n",
        "Epoch 84/140\n",
        "0s - loss: 0.8589 - acc: 0.2552 - val_loss: 0.8623 - val_acc: 0.2420\n"
       ]
      },
      {
       "output_type": "stream",
       "stream": "stdout",
       "text": [
        "Epoch 85/140\n",
        "0s - loss: 0.8585 - acc: 0.2553 - val_loss: 0.8619 - val_acc: 0.2420\n",
        "Epoch 86/140\n",
        "0s - loss: 0.8581 - acc: 0.2552 - val_loss: 0.8615 - val_acc: 0.2420\n"
       ]
      },
      {
       "output_type": "stream",
       "stream": "stdout",
       "text": [
        "Epoch 87/140\n",
        "0s - loss: 0.8577 - acc: 0.2552 - val_loss: 0.8611 - val_acc: 0.2420\n",
        "Epoch 88/140\n",
        "0s - loss: 0.8573 - acc: 0.2552 - val_loss: 0.8607 - val_acc: 0.2420\n"
       ]
      },
      {
       "output_type": "stream",
       "stream": "stdout",
       "text": [
        "Epoch 89/140\n",
        "0s - loss: 0.8569 - acc: 0.2552 - val_loss: 0.8603 - val_acc: 0.2420\n",
        "Epoch 90/140\n",
        "0s - loss: 0.8565 - acc: 0.2552 - val_loss: 0.8599 - val_acc: 0.2420\n"
       ]
      },
      {
       "output_type": "stream",
       "stream": "stdout",
       "text": [
        "Epoch 91/140\n",
        "0s - loss: 0.8561 - acc: 0.2553 - val_loss: 0.8595 - val_acc: 0.2420\n",
        "Epoch 92/140\n",
        "0s - loss: 0.8558 - acc: 0.2552 - val_loss: 0.8592 - val_acc: 0.2420\n"
       ]
      },
      {
       "output_type": "stream",
       "stream": "stdout",
       "text": [
        "Epoch 93/140\n",
        "0s - loss: 0.8554 - acc: 0.2553 - val_loss: 0.8588 - val_acc: 0.2420\n",
        "Epoch 94/140\n",
        "0s - loss: 0.8551 - acc: 0.2552 - val_loss: 0.8585 - val_acc: 0.2420\n"
       ]
      },
      {
       "output_type": "stream",
       "stream": "stdout",
       "text": [
        "Epoch 95/140\n",
        "0s - loss: 0.8547 - acc: 0.2553 - val_loss: 0.8581 - val_acc: 0.2420\n",
        "Epoch 96/140\n",
        "0s - loss: 0.8544 - acc: 0.2552 - val_loss: 0.8578 - val_acc: 0.2420\n"
       ]
      },
      {
       "output_type": "stream",
       "stream": "stdout",
       "text": [
        "Epoch 97/140\n",
        "0s - loss: 0.8540 - acc: 0.2552 - val_loss: 0.8575 - val_acc: 0.2420\n",
        "Epoch 98/140\n",
        "0s - loss: 0.8537 - acc: 0.2553 - val_loss: 0.8571 - val_acc: 0.2420\n"
       ]
      },
      {
       "output_type": "stream",
       "stream": "stdout",
       "text": [
        "Epoch 99/140\n",
        "0s - loss: 0.8534 - acc: 0.2552 - val_loss: 0.8568 - val_acc: 0.2420\n"
       ]
      },
      {
       "output_type": "stream",
       "stream": "stdout",
       "text": [
        "Epoch 100/140\n",
        "0s - loss: 0.8531 - acc: 0.2552 - val_loss: 0.8565 - val_acc: 0.2420\n",
        "Epoch 101/140\n",
        "0s - loss: 0.8528 - acc: 0.2552 - val_loss: 0.8562 - val_acc: 0.2420\n"
       ]
      },
      {
       "output_type": "stream",
       "stream": "stdout",
       "text": [
        "Epoch 102/140\n",
        "0s - loss: 0.8525 - acc: 0.2552 - val_loss: 0.8559 - val_acc: 0.2420\n",
        "Epoch 103/140\n",
        "0s - loss: 0.8522 - acc: 0.2552 - val_loss: 0.8556 - val_acc: 0.2420\n"
       ]
      },
      {
       "output_type": "stream",
       "stream": "stdout",
       "text": [
        "Epoch 104/140\n",
        "0s - loss: 0.8519 - acc: 0.2552 - val_loss: 0.8553 - val_acc: 0.2420\n",
        "Epoch 105/140\n",
        "0s - loss: 0.8516 - acc: 0.2552 - val_loss: 0.8550 - val_acc: 0.2420\n"
       ]
      },
      {
       "output_type": "stream",
       "stream": "stdout",
       "text": [
        "Epoch 106/140\n",
        "0s - loss: 0.8513 - acc: 0.2552 - val_loss: 0.8547 - val_acc: 0.2420\n",
        "Epoch 107/140\n",
        "0s - loss: 0.8510 - acc: 0.2552 - val_loss: 0.8544 - val_acc: 0.2420\n"
       ]
      },
      {
       "output_type": "stream",
       "stream": "stdout",
       "text": [
        "Epoch 108/140\n",
        "0s - loss: 0.8507 - acc: 0.2552 - val_loss: 0.8542 - val_acc: 0.2420\n",
        "Epoch 109/140\n",
        "0s - loss: 0.8505 - acc: 0.2553 - val_loss: 0.8539 - val_acc: 0.2420\n"
       ]
      },
      {
       "output_type": "stream",
       "stream": "stdout",
       "text": [
        "Epoch 110/140\n",
        "0s - loss: 0.8502 - acc: 0.2552 - val_loss: 0.8536 - val_acc: 0.2420\n",
        "Epoch 111/140\n",
        "0s - loss: 0.8499 - acc: 0.2553 - val_loss: 0.8534 - val_acc: 0.2420\n"
       ]
      },
      {
       "output_type": "stream",
       "stream": "stdout",
       "text": [
        "Epoch 112/140\n",
        "0s - loss: 0.8497 - acc: 0.2552 - val_loss: 0.8531 - val_acc: 0.2420\n",
        "Epoch 113/140\n",
        "0s - loss: 0.8494 - acc: 0.2552 - val_loss: 0.8529 - val_acc: 0.2420\n"
       ]
      },
      {
       "output_type": "stream",
       "stream": "stdout",
       "text": [
        "Epoch 114/140\n",
        "0s - loss: 0.8492 - acc: 0.2553 - val_loss: 0.8526 - val_acc: 0.2420\n",
        "Epoch 115/140\n",
        "0s - loss: 0.8489 - acc: 0.2552 - val_loss: 0.8524 - val_acc: 0.2420\n"
       ]
      },
      {
       "output_type": "stream",
       "stream": "stdout",
       "text": [
        "Epoch 116/140\n",
        "0s - loss: 0.8487 - acc: 0.2552 - val_loss: 0.8521 - val_acc: 0.2420\n",
        "Epoch 117/140\n",
        "0s - loss: 0.8484 - acc: 0.2552 - val_loss: 0.8519 - val_acc: 0.2420\n"
       ]
      },
      {
       "output_type": "stream",
       "stream": "stdout",
       "text": [
        "Epoch 118/140\n",
        "0s - loss: 0.8482 - acc: 0.2553 - val_loss: 0.8516 - val_acc: 0.2420\n"
       ]
      },
      {
       "output_type": "stream",
       "stream": "stdout",
       "text": [
        "Epoch 119/140\n",
        "0s - loss: 0.8480 - acc: 0.2552 - val_loss: 0.8514 - val_acc: 0.2420\n"
       ]
      },
      {
       "output_type": "stream",
       "stream": "stdout",
       "text": [
        "Epoch 120/140\n",
        "0s - loss: 0.8477 - acc: 0.2553 - val_loss: 0.8512 - val_acc: 0.2420\n",
        "Epoch 121/140\n",
        "0s - loss: 0.8475 - acc: 0.2552 - val_loss: 0.8509 - val_acc: 0.2420\n"
       ]
      },
      {
       "output_type": "stream",
       "stream": "stdout",
       "text": [
        "Epoch 122/140\n",
        "0s - loss: 0.8473 - acc: 0.2552 - val_loss: 0.8507 - val_acc: 0.2420\n",
        "Epoch 123/140\n",
        "0s - loss: 0.8471 - acc: 0.2552 - val_loss: 0.8505 - val_acc: 0.2420\n"
       ]
      },
      {
       "output_type": "stream",
       "stream": "stdout",
       "text": [
        "Epoch 124/140\n",
        "0s - loss: 0.8468 - acc: 0.2552 - val_loss: 0.8503 - val_acc: 0.2420\n",
        "Epoch 125/140\n",
        "0s - loss: 0.8466 - acc: 0.2552 - val_loss: 0.8501 - val_acc: 0.2420\n"
       ]
      },
      {
       "output_type": "stream",
       "stream": "stdout",
       "text": [
        "Epoch 126/140\n",
        "0s - loss: 0.8464 - acc: 0.2552 - val_loss: 0.8499 - val_acc: 0.2420\n",
        "Epoch 127/140\n",
        "0s - loss: 0.8462 - acc: 0.2552 - val_loss: 0.8497 - val_acc: 0.2420\n"
       ]
      },
      {
       "output_type": "stream",
       "stream": "stdout",
       "text": [
        "Epoch 128/140\n",
        "0s - loss: 0.8460 - acc: 0.2553 - val_loss: 0.8495 - val_acc: 0.2420\n",
        "Epoch 129/140\n",
        "0s - loss: 0.8458 - acc: 0.2552 - val_loss: 0.8493 - val_acc: 0.2420\n"
       ]
      },
      {
       "output_type": "stream",
       "stream": "stdout",
       "text": [
        "Epoch 130/140\n",
        "0s - loss: 0.8456 - acc: 0.2552 - val_loss: 0.8491 - val_acc: 0.2420\n",
        "Epoch 131/140\n",
        "0s - loss: 0.8454 - acc: 0.2552 - val_loss: 0.8489 - val_acc: 0.2420\n"
       ]
      },
      {
       "output_type": "stream",
       "stream": "stdout",
       "text": [
        "Epoch 132/140\n",
        "0s - loss: 0.8452 - acc: 0.2552 - val_loss: 0.8487 - val_acc: 0.2420\n",
        "Epoch 133/140\n",
        "0s - loss: 0.8450 - acc: 0.2552 - val_loss: 0.8485 - val_acc: 0.2420\n"
       ]
      },
      {
       "output_type": "stream",
       "stream": "stdout",
       "text": [
        "Epoch 134/140\n",
        "0s - loss: 0.8448 - acc: 0.2552 - val_loss: 0.8483 - val_acc: 0.2420\n",
        "Epoch 135/140\n",
        "0s - loss: 0.8446 - acc: 0.2552 - val_loss: 0.8481 - val_acc: 0.2420\n"
       ]
      },
      {
       "output_type": "stream",
       "stream": "stdout",
       "text": [
        "Epoch 136/140\n",
        "0s - loss: 0.8445 - acc: 0.2552 - val_loss: 0.8479 - val_acc: 0.2420\n",
        "Epoch 137/140\n",
        "0s - loss: 0.8443 - acc: 0.2552 - val_loss: 0.8477 - val_acc: 0.2420\n"
       ]
      },
      {
       "output_type": "stream",
       "stream": "stdout",
       "text": [
        "Epoch 138/140\n",
        "0s - loss: 0.8441 - acc: 0.2552 - val_loss: 0.8476 - val_acc: 0.2420\n",
        "Epoch 139/140\n",
        "0s - loss: 0.8439 - acc: 0.2552 - val_loss: 0.8474 - val_acc: 0.2420\n"
       ]
      },
      {
       "output_type": "stream",
       "stream": "stdout",
       "text": [
        "Epoch 140/140\n",
        "0s - loss: 0.8437 - acc: 0.2552 - val_loss: 0.8472 - val_acc: 0.2420\n",
        "\r",
        " 200/1000 [=====>........................] - ETA: 0s"
       ]
      },
      {
       "output_type": "stream",
       "stream": "stdout",
       "text": [
        "\r",
        " 200/1000 [=====>........................] - ETA: 0s"
       ]
      },
      {
       "output_type": "stream",
       "stream": "stdout",
       "text": [
        "Train on 4000 samples, validate on 1000 samples\n",
        "Epoch 1/140\n",
        "0s - loss: 1.6990 - acc: 0.2395 - val_loss: 1.6636 - val_acc: 0.2510\n",
        "Epoch 2/140\n",
        "0s - loss: 1.6857 - acc: 0.2395 - val_loss: 1.6512 - val_acc: 0.2510\n"
       ]
      },
      {
       "output_type": "stream",
       "stream": "stdout",
       "text": [
        "Epoch 3/140\n",
        "0s - loss: 1.6726 - acc: 0.2395 - val_loss: 1.6391 - val_acc: 0.2510\n",
        "Epoch 4/140\n",
        "0s - loss: 1.6599 - acc: 0.2395 - val_loss: 1.6273 - val_acc: 0.2510\n"
       ]
      },
      {
       "output_type": "stream",
       "stream": "stdout",
       "text": [
        "Epoch 5/140\n",
        "0s - loss: 1.6476 - acc: 0.2395 - val_loss: 1.6159 - val_acc: 0.2510\n",
        "Epoch 6/140\n",
        "0s - loss: 1.6355 - acc: 0.2588 - val_loss: 1.6048 - val_acc: 0.2700\n"
       ]
      },
      {
       "output_type": "stream",
       "stream": "stdout",
       "text": [
        "Epoch 7/140\n",
        "0s - loss: 1.6239 - acc: 0.2597 - val_loss: 1.5941 - val_acc: 0.2700\n",
        "Epoch 8/140\n",
        "0s - loss: 1.6125 - acc: 0.2597 - val_loss: 1.5836 - val_acc: 0.2700\n"
       ]
      },
      {
       "output_type": "stream",
       "stream": "stdout",
       "text": [
        "Epoch 9/140\n",
        "0s - loss: 1.6015 - acc: 0.2597 - val_loss: 1.5735 - val_acc: 0.2700\n",
        "Epoch 10/140\n",
        "0s - loss: 1.5908 - acc: 0.2597 - val_loss: 1.5637 - val_acc: 0.2700\n"
       ]
      },
      {
       "output_type": "stream",
       "stream": "stdout",
       "text": [
        "Epoch 11/140\n",
        "0s - loss: 1.5805 - acc: 0.2597 - val_loss: 1.5542 - val_acc: 0.2700\n"
       ]
      },
      {
       "output_type": "stream",
       "stream": "stdout",
       "text": [
        "Epoch 12/140\n",
        "0s - loss: 1.5704 - acc: 0.2598 - val_loss: 1.5450 - val_acc: 0.2700\n",
        "Epoch 13/140\n",
        "0s - loss: 1.5608 - acc: 0.2597 - val_loss: 1.5361 - val_acc: 0.2700\n"
       ]
      },
      {
       "output_type": "stream",
       "stream": "stdout",
       "text": [
        "Epoch 14/140\n",
        "0s - loss: 1.5514 - acc: 0.2597 - val_loss: 1.5276 - val_acc: 0.2700\n",
        "Epoch 15/140\n",
        "0s - loss: 1.5424 - acc: 0.2597 - val_loss: 1.5194 - val_acc: 0.2700\n"
       ]
      },
      {
       "output_type": "stream",
       "stream": "stdout",
       "text": [
        "Epoch 16/140\n",
        "0s - loss: 1.5337 - acc: 0.2598 - val_loss: 1.5115 - val_acc: 0.2700\n",
        "Epoch 17/140\n",
        "0s - loss: 1.5253 - acc: 0.2598 - val_loss: 1.5039 - val_acc: 0.2700\n"
       ]
      },
      {
       "output_type": "stream",
       "stream": "stdout",
       "text": [
        "Epoch 18/140\n",
        "0s - loss: 1.5173 - acc: 0.2597 - val_loss: 1.4966 - val_acc: 0.2700\n",
        "Epoch 19/140\n",
        "0s - loss: 1.5096 - acc: 0.2597 - val_loss: 1.4897 - val_acc: 0.2700\n"
       ]
      },
      {
       "output_type": "stream",
       "stream": "stdout",
       "text": [
        "Epoch 20/140\n",
        "0s - loss: 1.5022 - acc: 0.2597 - val_loss: 1.4830 - val_acc: 0.2700\n",
        "Epoch 21/140\n",
        "0s - loss: 1.4951 - acc: 0.2597 - val_loss: 1.4767 - val_acc: 0.2700\n"
       ]
      },
      {
       "output_type": "stream",
       "stream": "stdout",
       "text": [
        "Epoch 22/140\n",
        "0s - loss: 1.4884 - acc: 0.2597 - val_loss: 1.4706 - val_acc: 0.2700\n",
        "Epoch 23/140\n",
        "0s - loss: 1.4819 - acc: 0.2597 - val_loss: 1.4649 - val_acc: 0.2700\n"
       ]
      },
      {
       "output_type": "stream",
       "stream": "stdout",
       "text": [
        "Epoch 24/140\n",
        "0s - loss: 1.4758 - acc: 0.2597 - val_loss: 1.4594 - val_acc: 0.2700\n",
        "Epoch 25/140\n",
        "0s - loss: 1.4700 - acc: 0.2598 - val_loss: 1.4542 - val_acc: 0.2700\n"
       ]
      },
      {
       "output_type": "stream",
       "stream": "stdout",
       "text": [
        "Epoch 26/140\n",
        "0s - loss: 1.4644 - acc: 0.2597 - val_loss: 1.4493 - val_acc: 0.2700\n",
        "Epoch 27/140\n",
        "0s - loss: 1.4592 - acc: 0.2597 - val_loss: 1.4447 - val_acc: 0.2700\n"
       ]
      },
      {
       "output_type": "stream",
       "stream": "stdout",
       "text": [
        "Epoch 28/140\n",
        "0s - loss: 1.4542 - acc: 0.2597 - val_loss: 1.4403 - val_acc: 0.2700\n",
        "Epoch 29/140\n",
        "0s - loss: 1.4495 - acc: 0.2597 - val_loss: 1.4362 - val_acc: 0.2700\n"
       ]
      },
      {
       "output_type": "stream",
       "stream": "stdout",
       "text": [
        "Epoch 30/140\n",
        "0s - loss: 1.4450 - acc: 0.2597 - val_loss: 1.4323 - val_acc: 0.2700\n",
        "Epoch 31/140\n",
        "0s - loss: 1.4408 - acc: 0.2597 - val_loss: 1.4287 - val_acc: 0.2700\n"
       ]
      },
      {
       "output_type": "stream",
       "stream": "stdout",
       "text": [
        "Epoch 32/140\n",
        "0s - loss: 1.4369 - acc: 0.2597 - val_loss: 1.4253 - val_acc: 0.2700\n",
        "Epoch 33/140\n",
        "0s - loss: 1.4332 - acc: 0.2597 - val_loss: 1.4221 - val_acc: 0.2700\n"
       ]
      },
      {
       "output_type": "stream",
       "stream": "stdout",
       "text": [
        "Epoch 34/140\n",
        "0s - loss: 1.4297 - acc: 0.2597 - val_loss: 1.4191 - val_acc: 0.2700\n",
        "Epoch 35/140\n",
        "0s - loss: 1.4265 - acc: 0.2597 - val_loss: 1.4164 - val_acc: 0.2700\n"
       ]
      },
      {
       "output_type": "stream",
       "stream": "stdout",
       "text": [
        "Epoch 36/140\n",
        "0s - loss: 1.4234 - acc: 0.2597 - val_loss: 1.4138 - val_acc: 0.2700\n",
        "Epoch 37/140\n",
        "0s - loss: 1.4206 - acc: 0.2597 - val_loss: 1.4114 - val_acc: 0.2700\n"
       ]
      },
      {
       "output_type": "stream",
       "stream": "stdout",
       "text": [
        "Epoch 38/140\n",
        "0s - loss: 1.4179 - acc: 0.2597 - val_loss: 1.4092 - val_acc: 0.2700\n",
        "Epoch 39/140\n",
        "0s - loss: 1.4154 - acc: 0.2598 - val_loss: 1.4071 - val_acc: 0.2700\n"
       ]
      },
      {
       "output_type": "stream",
       "stream": "stdout",
       "text": [
        "Epoch 40/140\n",
        "0s - loss: 1.4131 - acc: 0.2597 - val_loss: 1.4052 - val_acc: 0.2700\n"
       ]
      },
      {
       "output_type": "stream",
       "stream": "stdout",
       "text": [
        "Epoch 41/140\n",
        "0s - loss: 1.4110 - acc: 0.2597 - val_loss: 1.4034 - val_acc: 0.2700\n"
       ]
      },
      {
       "output_type": "stream",
       "stream": "stdout",
       "text": [
        "Epoch 42/140\n",
        "0s - loss: 1.4090 - acc: 0.2597 - val_loss: 1.4018 - val_acc: 0.2700\n"
       ]
      },
      {
       "output_type": "stream",
       "stream": "stdout",
       "text": [
        "Epoch 43/140\n",
        "0s - loss: 1.4071 - acc: 0.2597 - val_loss: 1.4003 - val_acc: 0.2700\n",
        "Epoch 44/140\n",
        "0s - loss: 1.4054 - acc: 0.2597 - val_loss: 1.3989 - val_acc: 0.2700\n"
       ]
      },
      {
       "output_type": "stream",
       "stream": "stdout",
       "text": [
        "Epoch 45/140\n",
        "0s - loss: 1.4038 - acc: 0.2597 - val_loss: 1.3976 - val_acc: 0.2700\n",
        "Epoch 46/140\n",
        "0s - loss: 1.4023 - acc: 0.2598 - val_loss: 1.3965 - val_acc: 0.2700\n"
       ]
      },
      {
       "output_type": "stream",
       "stream": "stdout",
       "text": [
        "Epoch 47/140\n",
        "0s - loss: 1.4010 - acc: 0.2597 - val_loss: 1.3954 - val_acc: 0.2700\n",
        "Epoch 48/140\n",
        "0s - loss: 1.3997 - acc: 0.2597 - val_loss: 1.3944 - val_acc: 0.2700\n"
       ]
      },
      {
       "output_type": "stream",
       "stream": "stdout",
       "text": [
        "Epoch 49/140\n",
        "0s - loss: 1.3986 - acc: 0.2597 - val_loss: 1.3936 - val_acc: 0.2700\n",
        "Epoch 50/140\n",
        "0s - loss: 1.3975 - acc: 0.2597 - val_loss: 1.3928 - val_acc: 0.2700\n"
       ]
      },
      {
       "output_type": "stream",
       "stream": "stdout",
       "text": [
        "Epoch 51/140\n",
        "0s - loss: 1.3965 - acc: 0.2597 - val_loss: 1.3920 - val_acc: 0.2700\n",
        "Epoch 52/140\n",
        "0s - loss: 1.3956 - acc: 0.2597 - val_loss: 1.3914 - val_acc: 0.2700\n"
       ]
      },
      {
       "output_type": "stream",
       "stream": "stdout",
       "text": [
        "Epoch 53/140\n",
        "0s - loss: 1.3948 - acc: 0.2597 - val_loss: 1.3908 - val_acc: 0.2700\n",
        "Epoch 54/140\n",
        "0s - loss: 1.3940 - acc: 0.2597 - val_loss: 1.3902 - val_acc: 0.2700\n"
       ]
      },
      {
       "output_type": "stream",
       "stream": "stdout",
       "text": [
        "Epoch 55/140\n",
        "0s - loss: 1.3933 - acc: 0.2597 - val_loss: 1.3897 - val_acc: 0.2700\n",
        "Epoch 56/140\n",
        "0s - loss: 1.3927 - acc: 0.2597 - val_loss: 1.3893 - val_acc: 0.2700\n"
       ]
      },
      {
       "output_type": "stream",
       "stream": "stdout",
       "text": [
        "Epoch 57/140\n",
        "0s - loss: 1.3921 - acc: 0.2597 - val_loss: 1.3889 - val_acc: 0.2700\n",
        "Epoch 58/140\n",
        "0s - loss: 1.3916 - acc: 0.2597 - val_loss: 1.3885 - val_acc: 0.2700\n"
       ]
      },
      {
       "output_type": "stream",
       "stream": "stdout",
       "text": [
        "Epoch 59/140\n",
        "0s - loss: 1.3911 - acc: 0.2597 - val_loss: 1.3882 - val_acc: 0.2700\n",
        "Epoch 60/140\n",
        "0s - loss: 1.3907 - acc: 0.2598 - val_loss: 1.3879 - val_acc: 0.2700\n"
       ]
      },
      {
       "output_type": "stream",
       "stream": "stdout",
       "text": [
        "Epoch 61/140\n",
        "0s - loss: 1.3903 - acc: 0.2598 - val_loss: 1.3876 - val_acc: 0.2700\n",
        "Epoch 62/140\n",
        "0s - loss: 1.3899 - acc: 0.2597 - val_loss: 1.3874 - val_acc: 0.2700\n"
       ]
      },
      {
       "output_type": "stream",
       "stream": "stdout",
       "text": [
        "Epoch 63/140\n",
        "0s - loss: 1.3895 - acc: 0.2597 - val_loss: 1.3872 - val_acc: 0.2700\n"
       ]
      },
      {
       "output_type": "stream",
       "stream": "stdout",
       "text": [
        "Epoch 64/140\n",
        "0s - loss: 1.3892 - acc: 0.2597 - val_loss: 1.3870 - val_acc: 0.2700\n"
       ]
      },
      {
       "output_type": "stream",
       "stream": "stdout",
       "text": [
        "Epoch 65/140\n",
        "0s - loss: 1.3889 - acc: 0.2597 - val_loss: 1.3869 - val_acc: 0.2700\n",
        "Epoch 66/140\n",
        "0s - loss: 1.3887 - acc: 0.2597 - val_loss: 1.3867 - val_acc: 0.2700\n"
       ]
      },
      {
       "output_type": "stream",
       "stream": "stdout",
       "text": [
        "Epoch 67/140\n",
        "0s - loss: 1.3885 - acc: 0.2598 - val_loss: 1.3866 - val_acc: 0.2700\n",
        "Epoch 68/140\n",
        "0s - loss: 1.3882 - acc: 0.2597 - val_loss: 1.3865 - val_acc: 0.2700\n"
       ]
      },
      {
       "output_type": "stream",
       "stream": "stdout",
       "text": [
        "Epoch 69/140\n",
        "0s - loss: 1.3880 - acc: 0.2598 - val_loss: 1.3864 - val_acc: 0.2700\n",
        "Epoch 70/140\n",
        "0s - loss: 1.3879 - acc: 0.2597 - val_loss: 1.3863 - val_acc: 0.2700\n"
       ]
      },
      {
       "output_type": "stream",
       "stream": "stdout",
       "text": [
        "Epoch 71/140\n",
        "0s - loss: 1.3877 - acc: 0.2598 - val_loss: 1.3863 - val_acc: 0.2700\n",
        "Epoch 72/140\n",
        "0s - loss: 1.3876 - acc: 0.2597 - val_loss: 1.3862 - val_acc: 0.2700\n"
       ]
      },
      {
       "output_type": "stream",
       "stream": "stdout",
       "text": [
        "Epoch 73/140\n",
        "0s - loss: 1.3874 - acc: 0.2597 - val_loss: 1.3861 - val_acc: 0.2700\n",
        "Epoch 74/140\n",
        "0s - loss: 1.3873 - acc: 0.2597 - val_loss: 1.3861 - val_acc: 0.2700\n"
       ]
      },
      {
       "output_type": "stream",
       "stream": "stdout",
       "text": [
        "Epoch 75/140\n",
        "0s - loss: 1.3872 - acc: 0.2597 - val_loss: 1.3861 - val_acc: 0.2700\n",
        "Epoch 76/140\n",
        "0s - loss: 1.3871 - acc: 0.2597 - val_loss: 1.3860 - val_acc: 0.2700\n"
       ]
      },
      {
       "output_type": "stream",
       "stream": "stdout",
       "text": [
        "Epoch 77/140\n",
        "0s - loss: 1.3870 - acc: 0.2598 - val_loss: 1.3860 - val_acc: 0.2700\n"
       ]
      },
      {
       "output_type": "stream",
       "stream": "stdout",
       "text": [
        "Epoch 78/140\n",
        "0s - loss: 1.3869 - acc: 0.2597 - val_loss: 1.3860 - val_acc: 0.2700\n"
       ]
      },
      {
       "output_type": "stream",
       "stream": "stdout",
       "text": [
        "Epoch 79/140\n",
        "0s - loss: 1.3869 - acc: 0.2597 - val_loss: 1.3860 - val_acc: 0.2700\n",
        "Epoch 80/140\n",
        "0s - loss: 1.3868 - acc: 0.2598 - val_loss: 1.3860 - val_acc: 0.2700\n"
       ]
      },
      {
       "output_type": "stream",
       "stream": "stdout",
       "text": [
        "Epoch 81/140\n",
        "0s - loss: 1.3867 - acc: 0.2597 - val_loss: 1.3860 - val_acc: 0.2700\n",
        "Epoch 82/140\n",
        "0s - loss: 1.3867 - acc: 0.2597 - val_loss: 1.3860 - val_acc: 0.2700\n"
       ]
      },
      {
       "output_type": "stream",
       "stream": "stdout",
       "text": [
        "Epoch 83/140\n",
        "0s - loss: 1.3866 - acc: 0.2598 - val_loss: 1.3860 - val_acc: 0.2700\n",
        "Epoch 84/140\n",
        "0s - loss: 1.3866 - acc: 0.2597 - val_loss: 1.3860 - val_acc: 0.2700\n"
       ]
      },
      {
       "output_type": "stream",
       "stream": "stdout",
       "text": [
        "Epoch 85/140\n",
        "0s - loss: 1.3865 - acc: 0.2597 - val_loss: 1.3860 - val_acc: 0.2700\n",
        "Epoch 86/140\n",
        "0s - loss: 1.3865 - acc: 0.2597 - val_loss: 1.3860 - val_acc: 0.2700\n"
       ]
      },
      {
       "output_type": "stream",
       "stream": "stdout",
       "text": [
        "Epoch 87/140\n",
        "0s - loss: 1.3865 - acc: 0.2598 - val_loss: 1.3860 - val_acc: 0.2700\n",
        "Epoch 88/140\n",
        "0s - loss: 1.3864 - acc: 0.2598 - val_loss: 1.3860 - val_acc: 0.2700\n"
       ]
      },
      {
       "output_type": "stream",
       "stream": "stdout",
       "text": [
        "Epoch 89/140\n",
        "0s - loss: 1.3864 - acc: 0.2597 - val_loss: 1.3860 - val_acc: 0.2700\n",
        "Epoch 90/140\n",
        "0s - loss: 1.3864 - acc: 0.2597 - val_loss: 1.3860 - val_acc: 0.2700\n"
       ]
      },
      {
       "output_type": "stream",
       "stream": "stdout",
       "text": [
        "Epoch 91/140\n",
        "0s - loss: 1.3864 - acc: 0.2597 - val_loss: 1.3860 - val_acc: 0.2700\n",
        "Epoch 92/140\n",
        "0s - loss: 1.3863 - acc: 0.2597 - val_loss: 1.3860 - val_acc: 0.2700\n"
       ]
      },
      {
       "output_type": "stream",
       "stream": "stdout",
       "text": [
        "Epoch 93/140\n",
        "0s - loss: 1.3863 - acc: 0.2597 - val_loss: 1.3860 - val_acc: 0.2700\n",
        "Epoch 94/140\n",
        "0s - loss: 1.3863 - acc: 0.2597 - val_loss: 1.3860 - val_acc: 0.2700\n"
       ]
      },
      {
       "output_type": "stream",
       "stream": "stdout",
       "text": [
        "Epoch 95/140\n",
        "0s - loss: 1.3863 - acc: 0.2597 - val_loss: 1.3860 - val_acc: 0.2700\n",
        "Epoch 96/140\n",
        "0s - loss: 1.3863 - acc: 0.2597 - val_loss: 1.3861 - val_acc: 0.2700\n"
       ]
      },
      {
       "output_type": "stream",
       "stream": "stdout",
       "text": [
        "Epoch 97/140\n",
        "0s - loss: 1.3863 - acc: 0.2597 - val_loss: 1.3861 - val_acc: 0.2700\n",
        "Epoch 98/140\n",
        "0s - loss: 1.3863 - acc: 0.2597 - val_loss: 1.3861 - val_acc: 0.2700\n"
       ]
      },
      {
       "output_type": "stream",
       "stream": "stdout",
       "text": [
        "Epoch 99/140\n",
        "0s - loss: 1.3863 - acc: 0.2597 - val_loss: 1.3861 - val_acc: 0.2700\n",
        "Epoch 100/140\n",
        "0s - loss: 1.3862 - acc: 0.2598 - val_loss: 1.3861 - val_acc: 0.2700\n"
       ]
      },
      {
       "output_type": "stream",
       "stream": "stdout",
       "text": [
        "Epoch 101/140\n",
        "0s - loss: 1.3862 - acc: 0.2597 - val_loss: 1.3861 - val_acc: 0.2700\n",
        "Epoch 102/140\n",
        "0s - loss: 1.3862 - acc: 0.2597 - val_loss: 1.3861 - val_acc: 0.2700\n"
       ]
      },
      {
       "output_type": "stream",
       "stream": "stdout",
       "text": [
        "Epoch 103/140\n",
        "0s - loss: 1.3862 - acc: 0.2597 - val_loss: 1.3861 - val_acc: 0.2700\n",
        "Epoch 104/140\n",
        "0s - loss: 1.3862 - acc: 0.2598 - val_loss: 1.3861 - val_acc: 0.2700\n"
       ]
      },
      {
       "output_type": "stream",
       "stream": "stdout",
       "text": [
        "Epoch 105/140\n",
        "0s - loss: 1.3862 - acc: 0.2597 - val_loss: 1.3861 - val_acc: 0.2700\n",
        "Epoch 106/140\n",
        "0s - loss: 1.3862 - acc: 0.2597 - val_loss: 1.3862 - val_acc: 0.2700\n"
       ]
      },
      {
       "output_type": "stream",
       "stream": "stdout",
       "text": [
        "Epoch 107/140\n",
        "0s - loss: 1.3862 - acc: 0.2597 - val_loss: 1.3862 - val_acc: 0.2700\n",
        "Epoch 108/140\n",
        "0s - loss: 1.3862 - acc: 0.2597 - val_loss: 1.3862 - val_acc: 0.2700\n"
       ]
      },
      {
       "output_type": "stream",
       "stream": "stdout",
       "text": [
        "Epoch 109/140\n",
        "0s - loss: 1.3862 - acc: 0.2597 - val_loss: 1.3862 - val_acc: 0.2700\n",
        "Epoch 110/140\n",
        "0s - loss: 1.3862 - acc: 0.2597 - val_loss: 1.3862 - val_acc: 0.2700\n"
       ]
      },
      {
       "output_type": "stream",
       "stream": "stdout",
       "text": [
        "Epoch 111/140\n",
        "0s - loss: 1.3862 - acc: 0.2597 - val_loss: 1.3862 - val_acc: 0.2700\n",
        "Epoch 112/140\n",
        "0s - loss: 1.3862 - acc: 0.2597 - val_loss: 1.3862 - val_acc: 0.2700\n"
       ]
      },
      {
       "output_type": "stream",
       "stream": "stdout",
       "text": [
        "Epoch 113/140\n",
        "0s - loss: 1.3862 - acc: 0.2598 - val_loss: 1.3862 - val_acc: 0.2700\n",
        "Epoch 114/140\n",
        "0s - loss: 1.3862 - acc: 0.2598 - val_loss: 1.3862 - val_acc: 0.2700\n"
       ]
      },
      {
       "output_type": "stream",
       "stream": "stdout",
       "text": [
        "Epoch 115/140\n",
        "0s - loss: 1.3862 - acc: 0.2597 - val_loss: 1.3862 - val_acc: 0.2700\n",
        "Epoch 116/140\n",
        "0s - loss: 1.3862 - acc: 0.2597 - val_loss: 1.3862 - val_acc: 0.2700\n"
       ]
      },
      {
       "output_type": "stream",
       "stream": "stdout",
       "text": [
        "Epoch 117/140\n",
        "0s - loss: 1.3862 - acc: 0.2597 - val_loss: 1.3862 - val_acc: 0.2700\n",
        "Epoch 118/140\n",
        "0s - loss: 1.3862 - acc: 0.2597 - val_loss: 1.3863 - val_acc: 0.2700\n"
       ]
      },
      {
       "output_type": "stream",
       "stream": "stdout",
       "text": [
        "Epoch 119/140\n",
        "0s - loss: 1.3862 - acc: 0.2597 - val_loss: 1.3863 - val_acc: 0.2700\n",
        "Epoch 120/140\n",
        "0s - loss: 1.3862 - acc: 0.2598 - val_loss: 1.3863 - val_acc: 0.2700\n"
       ]
      },
      {
       "output_type": "stream",
       "stream": "stdout",
       "text": [
        "Epoch 121/140\n",
        "0s - loss: 1.3862 - acc: 0.2597 - val_loss: 1.3863 - val_acc: 0.2700\n",
        "Epoch 122/140\n",
        "0s - loss: 1.3862 - acc: 0.2597 - val_loss: 1.3863 - val_acc: 0.2700\n"
       ]
      },
      {
       "output_type": "stream",
       "stream": "stdout",
       "text": [
        "Epoch 123/140\n",
        "0s - loss: 1.3862 - acc: 0.2597 - val_loss: 1.3863 - val_acc: 0.2700\n",
        "Epoch 124/140\n",
        "0s - loss: 1.3862 - acc: 0.2598 - val_loss: 1.3863 - val_acc: 0.2700\n"
       ]
      },
      {
       "output_type": "stream",
       "stream": "stdout",
       "text": [
        "Epoch 125/140\n",
        "0s - loss: 1.3862 - acc: 0.2598 - val_loss: 1.3863 - val_acc: 0.2700\n",
        "Epoch 126/140\n",
        "0s - loss: 1.3862 - acc: 0.2597 - val_loss: 1.3863 - val_acc: 0.2700\n"
       ]
      },
      {
       "output_type": "stream",
       "stream": "stdout",
       "text": [
        "Epoch 127/140\n",
        "0s - loss: 1.3862 - acc: 0.2598 - val_loss: 1.3863 - val_acc: 0.2700\n"
       ]
      },
      {
       "output_type": "stream",
       "stream": "stdout",
       "text": [
        "Epoch 128/140\n",
        "0s - loss: 1.3862 - acc: 0.2597 - val_loss: 1.3863 - val_acc: 0.2700\n",
        "Epoch 129/140\n",
        "0s - loss: 1.3862 - acc: 0.2597 - val_loss: 1.3863 - val_acc: 0.2700\n"
       ]
      },
      {
       "output_type": "stream",
       "stream": "stdout",
       "text": [
        "Epoch 130/140\n",
        "0s - loss: 1.3862 - acc: 0.2597 - val_loss: 1.3863 - val_acc: 0.2700\n",
        "Epoch 131/140\n",
        "0s - loss: 1.3862 - acc: 0.2597 - val_loss: 1.3863 - val_acc: 0.2700\n"
       ]
      },
      {
       "output_type": "stream",
       "stream": "stdout",
       "text": [
        "Epoch 132/140\n",
        "0s - loss: 1.3862 - acc: 0.2597 - val_loss: 1.3863 - val_acc: 0.2700\n",
        "Epoch 133/140\n",
        "0s - loss: 1.3862 - acc: 0.2597 - val_loss: 1.3863 - val_acc: 0.2700\n"
       ]
      },
      {
       "output_type": "stream",
       "stream": "stdout",
       "text": [
        "Epoch 134/140\n",
        "0s - loss: 1.3862 - acc: 0.2597 - val_loss: 1.3863 - val_acc: 0.2700\n",
        "Epoch 135/140\n",
        "0s - loss: 1.3862 - acc: 0.2597 - val_loss: 1.3863 - val_acc: 0.2700\n"
       ]
      },
      {
       "output_type": "stream",
       "stream": "stdout",
       "text": [
        "Epoch 136/140\n",
        "0s - loss: 1.3862 - acc: 0.2597 - val_loss: 1.3863 - val_acc: 0.2700\n",
        "Epoch 137/140\n",
        "0s - loss: 1.3862 - acc: 0.2597 - val_loss: 1.3863 - val_acc: 0.2700\n"
       ]
      },
      {
       "output_type": "stream",
       "stream": "stdout",
       "text": [
        "Epoch 138/140\n",
        "0s - loss: 1.3862 - acc: 0.2598 - val_loss: 1.3863 - val_acc: 0.2700\n",
        "Epoch 139/140\n",
        "0s - loss: 1.3862 - acc: 0.2598 - val_loss: 1.3863 - val_acc: 0.2700\n"
       ]
      },
      {
       "output_type": "stream",
       "stream": "stdout",
       "text": [
        "Epoch 140/140\n",
        "0s - loss: 1.3862 - acc: 0.2597 - val_loss: 1.3863 - val_acc: 0.2700\n",
        "\r",
        " 200/1000 [=====>........................] - ETA: 0s"
       ]
      },
      {
       "output_type": "stream",
       "stream": "stdout",
       "text": [
        "\r",
        " 200/1000 [=====>........................] - ETA: 0s"
       ]
      }
     ],
     "prompt_number": 2
    },
    {
     "cell_type": "code",
     "collapsed": false,
     "input": [
      "print soft_costs_on_hard\n",
      "print hard_costs_on_hard\n",
      "print soft_costs_on_soft\n",
      "print hard_costs_on_soft"
     ],
     "language": "python",
     "metadata": {},
     "outputs": [
      {
       "output_type": "stream",
       "stream": "stdout",
       "text": [
        "[ 1.39690206  1.43874192  1.47479222  1.49809949  1.51792209  1.53767321\n",
        "  1.55737629  1.57568409  1.59411395  1.61189356  1.62865086  1.64463305\n",
        "  1.66028094  1.67628772]\n",
        "[ 0.96977246  0.91822047  0.89628773  0.88612502  0.87903882  0.87300829\n",
        "  0.86780723  0.8635568   0.8597756   0.85652084  0.85375307  0.85135791\n",
        "  0.84921502  0.84720819]\n",
        "[ 1.38943865  1.39421577  1.39196105  1.38866429  1.3868844   1.38616326\n",
        "  1.38595946  1.38597219  1.38605745  1.38615038  1.38622739  1.38628378\n",
        "  1.3863065   1.38634048]\n",
        "[ 0.99215397  0.97601631  0.98268397  0.99588559  1.00762292  1.01667737\n",
        "  1.02334626  1.02806302  1.0314131   1.03370602  1.03523197  1.03623827\n",
        "  1.03662293  1.03716304]\n"
       ]
      }
     ],
     "prompt_number": 5
    },
    {
     "cell_type": "code",
     "collapsed": false,
     "input": [
      "plt.plot(epochs, soft_costs_on_hard)"
     ],
     "language": "python",
     "metadata": {},
     "outputs": [
      {
       "metadata": {},
       "output_type": "pyout",
       "prompt_number": 7,
       "text": [
        "[<matplotlib.lines.Line2D at 0x1037ac410>]"
       ]
      },
      {
       "metadata": {},
       "output_type": "display_data",
       "png": "[encoded data removed]",
       "text": [
        "<matplotlib.figure.Figure at 0x10970c550>"
       ]
      }
     ],
     "prompt_number": 7
    },
    {
     "cell_type": "code",
     "collapsed": false,
     "input": [
      "plt.plot(epochs, soft_costs_on_soft)"
     ],
     "language": "python",
     "metadata": {},
     "outputs": [
      {
       "metadata": {},
       "output_type": "pyout",
       "prompt_number": 8,
       "text": [
        "[<matplotlib.lines.Line2D at 0x1035d3710>]"
       ]
      },
      {
       "metadata": {},
       "output_type": "display_data",
       "png": "[encoded data removed]",
       "text": [
        "<matplotlib.figure.Figure at 0x10970c3d0>"
       ]
      }
     ],
     "prompt_number": 8
    },
    {
     "cell_type": "code",
     "collapsed": false,
     "input": [
      "plt.plot(epochs, hard_costs_on_hard)"
     ],
     "language": "python",
     "metadata": {},
     "outputs": [
      {
       "metadata": {},
       "output_type": "pyout",
       "prompt_number": 9,
       "text": [
        "[<matplotlib.lines.Line2D at 0x10a756bd0>]"
       ]
      },
      {
       "metadata": {},
       "output_type": "display_data",
       "png": "[encoded data removed]",
       "text": [
        "<matplotlib.figure.Figure at 0x10a896250>"
       ]
      }
     ],
     "prompt_number": 9
    },
    {
     "cell_type": "code",
     "collapsed": false,
     "input": [
      "plt.plot(epochs, hard_costs_on_soft)"
     ],
     "language": "python",
     "metadata": {},
     "outputs": [
      {
       "metadata": {},
       "output_type": "pyout",
       "prompt_number": 10,
       "text": [
        "[<matplotlib.lines.Line2D at 0x10a873c90>]"
       ]
      },
      {
       "metadata": {},
       "output_type": "display_data",
       "png": "[encoded data removed]",
       "text": [
        "<matplotlib.figure.Figure at 0x10a9ee510>"
       ]
      }
     ],
     "prompt_number": 10
    },
    {
     "cell_type": "code",
     "collapsed": false,
     "input": [],
     "language": "python",
     "metadata": {},
     "outputs": []
    }
   ],
   "metadata": {}
  }
 ]
}