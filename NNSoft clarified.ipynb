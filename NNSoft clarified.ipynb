{
 "metadata": {
  "name": "",
  "signature": "sha256:ed945927ff02ebaa17dbeeb9115868a4c72ea361521c061d334179f94a17a134"
 },
 "nbformat": 3,
 "nbformat_minor": 0,
 "worksheets": [
  {
   "cells": [
    {
     "cell_type": "code",
     "collapsed": false,
     "input": [
      "%matplotlib inline\n",
      "\n",
      "import keras.callbacks\n",
      "import numpy as np\n",
      "import pandas as pd\n",
      "from keras.layers import Dense, Activation\n",
      "from keras.models import Sequential\n",
      "from keras.optimizers import SGD\n",
      "from keras.utils import np_utils\n",
      "from sklearn.model_selection import train_test_split\n",
      "\n",
      "import matplotlib.pyplot as plt\n",
      "\n",
      "class epochendCallBack(keras.callbacks.Callback):\n",
      "    def __init__(self, p_dict):\n",
      "        self.p_dict = p_dict\n",
      "        self.train_on_hard_evaluate_on_soft = np.array([])\n",
      "        self.train_on_soft_evaluate_on_soft = np.array([])\n",
      "        self.train_on_hard_evaluate_on_hard = np.array([])\n",
      "        self.train_on_soft_evaluate_on_hard = np.array([])\n",
      "        self.batch_losses = []\n",
      "\n",
      "    def on_batch_end(self, batch, logs=None):\n",
      "        self.batch_losses.append(logs.get('loss'))\n",
      "\n",
      "    def on_epoch_end(self, epoch, logs={}):\n",
      "        paradigm = self.p_dict[\"paradigm\"]\n",
      "        test_x = self.p_dict[\"X test\"]\n",
      "        test_y1 = self.p_dict[\"paradigm_test1\"]\n",
      "        test_y2 = self.p_dict[\"paradigm_test2\"]\n",
      "        loss1, acc1 = self.model.evaluate(test_x, test_y1, verbose=0)\n",
      "        loss2, acc2 = self.model.evaluate(test_x, test_y2, verbose=0)\n",
      "\n",
      "        if paradigm == \"Hard\":\n",
      "            self.train_on_hard_evaluate_on_hard = np.append(self.train_on_hard_evaluate_on_hard, loss1)\n",
      "            self.train_on_hard_evaluate_on_soft = np.append(self.train_on_hard_evaluate_on_soft, loss2)\n",
      "        elif paradigm == \"Soft\":\n",
      "            self.train_on_soft_evaluate_on_hard = np.append(self.train_on_soft_evaluate_on_hard, loss1)\n",
      "            self.train_on_soft_evaluate_on_soft = np.append(self.train_on_soft_evaluate_on_soft, loss2)\n",
      "\n",
      "\n",
      "df = pd.read_csv('beta_classes.csv')\n",
      "x = np.array(df[[\"p1\", \"p2\"]])\n",
      "x_ = np.array(df[[\"l1\", \"l2\"]])\n",
      "x_all = np.append(x, x_, axis=1)\n",
      "y_soft = np.array(df[[\"soft_a\", \"soft_b\", \"soft_c\", \"soft_d\"]])\n",
      "# y_hard = np.array(df[[\"hard_a\", \"hard_b\", \"hard_c\", \"hard_d\"]])\n",
      "y_hard = np.array(df[[\"hard_classes\"]])\n",
      "Y_hard = np_utils.to_categorical(y_hard, 4)\n",
      "y_all = np.append(y_soft, Y_hard, axis=1)"
     ],
     "language": "python",
     "metadata": {},
     "outputs": [],
     "prompt_number": 145
    },
    {
     "cell_type": "code",
     "collapsed": false,
     "input": [
      "X_train_all, X_test_all, y_train, y_test = train_test_split(x_all, y_all, test_size=0.2, random_state=42)\n",
      "X_train = X_train_all[:,0:2]\n",
      "X_test = X_test_all[:,0:2]\n",
      "X_train_h1h2 = X_train_all[:,2:4]\n",
      "X_test_h1h2 = X_test_all[:,2:4]\n",
      "y_train_soft = y_train[:, 0:4]\n",
      "y_train_hard = y_train[:, 4:8]\n",
      "y_test_soft = y_test[:, 0:4]\n",
      "y_test_hard = y_test[:, 4:8]"
     ],
     "language": "python",
     "metadata": {},
     "outputs": [],
     "prompt_number": 146
    },
    {
     "cell_type": "markdown",
     "metadata": {},
     "source": [
      "###Based on generated data"
     ]
    },
    {
     "cell_type": "code",
     "collapsed": false,
     "input": [
      "np.mean(np.argmax(y_train_hard, axis=1)==np.argmax(y_train_soft, axis=1))"
     ],
     "language": "python",
     "metadata": {},
     "outputs": [
      {
       "metadata": {},
       "output_type": "pyout",
       "prompt_number": 147,
       "text": [
        "0.56912499999999999"
       ]
      }
     ],
     "prompt_number": 147
    },
    {
     "cell_type": "markdown",
     "metadata": {},
     "source": [
      "Only 56.15% match between p1 p2 and h1 h2"
     ]
    },
    {
     "cell_type": "markdown",
     "metadata": {},
     "source": [
      "### Simple wide network with one hidden layer and softmax"
     ]
    },
    {
     "cell_type": "code",
     "collapsed": false,
     "input": [
      "epochs = 5\n",
      "batch_size = 100\n",
      "\n",
      "model = Sequential()\n",
      "model.add(Dense(output_dim=20, input_dim=2, init='uniform'))\n",
      "# model.add(Activation('relu'))\n",
      "model.add(Dense(output_dim=4, init='uniform'))\n",
      "model.add(Activation('softmax'))\n",
      "\n",
      "model.summary()\n",
      "\n",
      "sgd = SGD(lr=0.01, decay=1e-4, momentum=0.5, nesterov=True)\n",
      "model.compile(loss='categorical_crossentropy',\n",
      "              optimizer=sgd,\n",
      "              metrics=['accuracy'])"
     ],
     "language": "python",
     "metadata": {},
     "outputs": [
      {
       "output_type": "stream",
       "stream": "stdout",
       "text": [
        "____________________________________________________________________________________________________\n",
        "Layer (type)                     Output Shape          Param #     Connected to                     \n",
        "====================================================================================================\n",
        "dense_13 (Dense)                 (None, 20)            60          dense_input_7[0][0]              \n",
        "____________________________________________________________________________________________________\n",
        "dense_14 (Dense)                 (None, 4)             84          dense_13[0][0]                   \n",
        "____________________________________________________________________________________________________\n",
        "activation_10 (Activation)       (None, 4)             0           dense_14[0][0]                   \n",
        "====================================================================================================\n",
        "Total params: 144\n",
        "Trainable params: 144\n",
        "Non-trainable params: 0\n",
        "____________________________________________________________________________________________________\n"
       ]
      }
     ],
     "prompt_number": 148
    },
    {
     "cell_type": "markdown",
     "metadata": {},
     "source": [
      "###Training on Hard labels\n",
      "####With inputs p1 and p2"
     ]
    },
    {
     "cell_type": "code",
     "collapsed": false,
     "input": [
      "paradigm_dict = {}\n",
      "paradigm_dict = {\n",
      "    \"paradigm\": \"Hard\",\n",
      "    \"paradigm_train\": y_train_hard,\n",
      "    \"X test\": X_test,\n",
      "    \"paradigm_test1\": y_test_hard,\n",
      "    \"paradigm_test2\": y_test_soft\n",
      "}\n",
      "test_callback = epochendCallBack(paradigm_dict)\n",
      "hard_fit = model.fit(X_train, paradigm_dict[\"paradigm_train\"],\n",
      "                  nb_epoch=epochs,\n",
      "                  batch_size=batch_size,\n",
      "                  verbose=1,\n",
      "                  callbacks=[test_callback])\n",
      "\n",
      "train_on_hard_loss = hard_fit.history['loss']\n",
      "train_on_hard_batch_loss = test_callback.batch_losses\n",
      "train_on_hard_evaluate_on_hard = test_callback.train_on_hard_evaluate_on_hard\n",
      "train_on_hard_evaluate_on_soft = test_callback.train_on_hard_evaluate_on_soft"
     ],
     "language": "python",
     "metadata": {},
     "outputs": [
      {
       "output_type": "stream",
       "stream": "stdout",
       "text": [
        "Epoch 1/1\n"
       ]
      },
      {
       "output_type": "stream",
       "stream": "stdout",
       "text": [
        "\r",
        " 100/8000 [..............................] - ETA: 15s - loss: 1.3862 - acc: 0.2700"
       ]
      },
      {
       "output_type": "stream",
       "stream": "stdout",
       "text": [
        "\b\b\b\b\b\b\b\b\b\b\b\b\b\b\b\b\b\b\b\b\b\b\b\b\b\b\b\b\b\b\b\b\b\b\b\b\b\b\b\b\b\b\b\b\b\b\b\b\b\b\b\b\b\b\b\b\b\b\b\b\b\b\b\b\b\b\b\b\b\b\b\b\b\b\b\b\b\b\b\b\b\b\r",
        " 600/8000 [=>............................] - ETA: 2s - loss: 1.3860 - acc: 0.2800 "
       ]
      },
      {
       "output_type": "stream",
       "stream": "stdout",
       "text": [
        "\b\b\b\b\b\b\b\b\b\b\b\b\b\b\b\b\b\b\b\b\b\b\b\b\b\b\b\b\b\b\b\b\b\b\b\b\b\b\b\b\b\b\b\b\b\b\b\b\b\b\b\b\b\b\b\b\b\b\b\b\b\b\b\b\b\b\b\b\b\b\b\b\b\b\b\b\b\b\b\b\b\r",
        "1100/8000 [===>..........................] - ETA: 1s - loss: 1.3859 - acc: 0.2818"
       ]
      },
      {
       "output_type": "stream",
       "stream": "stdout",
       "text": [
        "\b\b\b\b\b\b\b\b\b\b\b\b\b\b\b\b\b\b\b\b\b\b\b\b\b\b\b\b\b\b\b\b\b\b\b\b\b\b\b\b\b\b\b\b\b\b\b\b\b\b\b\b\b\b\b\b\b\b\b\b\b\b\b\b\b\b\b\b\b\b\b\b\b\b\b\b\b\b\b\b\b\r",
        "1600/8000 [=====>........................] - ETA: 0s - loss: 1.3859 - acc: 0.2781"
       ]
      },
      {
       "output_type": "stream",
       "stream": "stdout",
       "text": [
        "\b\b\b\b\b\b\b\b\b\b\b\b\b\b\b\b\b\b\b\b\b\b\b\b\b\b\b\b\b\b\b\b\b\b\b\b\b\b\b\b\b\b\b\b\b\b\b\b\b\b\b\b\b\b\b\b\b\b\b\b\b\b\b\b\b\b\b\b\b\b\b\b\b\b\b\b\b\b\b\b\b\r",
        "2100/8000 [======>.......................] - ETA: 0s - loss: 1.3859 - acc: 0.2695"
       ]
      },
      {
       "output_type": "stream",
       "stream": "stdout",
       "text": [
        "\b\b\b\b\b\b\b\b\b\b\b\b\b\b\b\b\b\b\b\b\b\b\b\b\b\b\b\b\b\b\b\b\b\b\b\b\b\b\b\b\b\b\b\b\b\b\b\b\b\b\b\b\b\b\b\b\b\b\b\b\b\b\b\b\b\b\b\b\b\b\b\b\b\b\b\b\b\b\b\b\b\r",
        "2800/8000 [=========>....................] - ETA: 0s - loss: 1.3860 - acc: 0.2625"
       ]
      },
      {
       "output_type": "stream",
       "stream": "stdout",
       "text": [
        "\b\b\b\b\b\b\b\b\b\b\b\b\b\b\b\b\b\b\b\b\b\b\b\b\b\b\b\b\b\b\b\b\b\b\b\b\b\b\b\b\b\b\b\b\b\b\b\b\b\b\b\b\b\b\b\b\b\b\b\b\b\b\b\b\b\b\b\b\b\b\b\b\b\b\b\b\b\b\b\b\b\r",
        "3300/8000 [===========>..................] - ETA: 0s - loss: 1.3860 - acc: 0.2570"
       ]
      },
      {
       "output_type": "stream",
       "stream": "stdout",
       "text": [
        "\b\b\b\b\b\b\b\b\b\b\b\b\b\b\b\b\b\b\b\b\b\b\b\b\b\b\b\b\b\b\b\b\b\b\b\b\b\b\b\b\b\b\b\b\b\b\b\b\b\b\b\b\b\b\b\b\b\b\b\b\b\b\b\b\b\b\b\b\b\b\b\b\b\b\b\b\b\b\b\b\b\r",
        "3800/8000 [=============>................] - ETA: 0s - loss: 1.3859 - acc: 0.2579"
       ]
      },
      {
       "output_type": "stream",
       "stream": "stdout",
       "text": [
        "\b\b\b\b\b\b\b\b\b\b\b\b\b\b\b\b\b\b\b\b\b\b\b\b\b\b\b\b\b\b\b\b\b\b\b\b\b\b\b\b\b\b\b\b\b\b\b\b\b\b\b\b\b\b\b\b\b\b\b\b\b\b\b\b\b\b\b\b\b\b\b\b\b\b\b\b\b\b\b\b\b\r",
        "4400/8000 [===============>..............] - ETA: 0s - loss: 1.3859 - acc: 0.2575"
       ]
      },
      {
       "output_type": "stream",
       "stream": "stdout",
       "text": [
        "\b\b\b\b\b\b\b\b\b\b\b\b\b\b\b\b\b\b\b\b\b\b\b\b\b\b\b\b\b\b\b\b\b\b\b\b\b\b\b\b\b\b\b\b\b\b\b\b\b\b\b\b\b\b\b\b\b\b\b\b\b\b\b\b\b\b\b\b\b\b\b\b\b\b\b\b\b\b\b\b\b\r",
        "5100/8000 [==================>...........] - ETA: 0s - loss: 1.3858 - acc: 0.2614"
       ]
      },
      {
       "output_type": "stream",
       "stream": "stdout",
       "text": [
        "\b\b\b\b\b\b\b\b\b\b\b\b\b\b\b\b\b\b\b\b\b\b\b\b\b\b\b\b\b\b\b\b\b\b\b\b\b\b\b\b\b\b\b\b\b\b\b\b\b\b\b\b\b\b\b\b\b\b\b\b\b\b\b\b\b\b\b\b\b\b\b\b\b\b\b\b\b\b\b\b\b\r",
        "5700/8000 [====================>.........] - ETA: 0s - loss: 1.3857 - acc: 0.2633"
       ]
      },
      {
       "output_type": "stream",
       "stream": "stdout",
       "text": [
        "\b\b\b\b\b\b\b\b\b\b\b\b\b\b\b\b\b\b\b\b\b\b\b\b\b\b\b\b\b\b\b\b\b\b\b\b\b\b\b\b\b\b\b\b\b\b\b\b\b\b\b\b\b\b\b\b\b\b\b\b\b\b\b\b\b\b\b\b\b\b\b\b\b\b\b\b\b\b\b\b\b\r",
        "6300/8000 [======================>.......] - ETA: 0s - loss: 1.3857 - acc: 0.2641"
       ]
      },
      {
       "output_type": "stream",
       "stream": "stdout",
       "text": [
        "\b\b\b\b\b\b\b\b\b\b\b\b\b\b\b\b\b\b\b\b\b\b\b\b\b\b\b\b\b\b\b\b\b\b\b\b\b\b\b\b\b\b\b\b\b\b\b\b\b\b\b\b\b\b\b\b\b\b\b\b\b\b\b\b\b\b\b\b\b\b\b\b\b\b\b\b\b\b\b\b\b\r",
        "6800/8000 [========================>.....] - ETA: 0s - loss: 1.3857 - acc: 0.2624"
       ]
      },
      {
       "output_type": "stream",
       "stream": "stdout",
       "text": [
        "\b\b\b\b\b\b\b\b\b\b\b\b\b\b\b\b\b\b\b\b\b\b\b\b\b\b\b\b\b\b\b\b\b\b\b\b\b\b\b\b\b\b\b\b\b\b\b\b\b\b\b\b\b\b\b\b\b\b\b\b\b\b\b\b\b\b\b\b\b\b\b\b\b\b\b\b\b\b\b\b\b\r",
        "7400/8000 [==========================>...] - ETA: 0s - loss: 1.3857 - acc: 0.2603"
       ]
      },
      {
       "output_type": "stream",
       "stream": "stdout",
       "text": [
        "\b\b\b\b\b\b\b\b\b\b\b\b\b\b\b\b\b\b\b\b\b\b\b\b\b\b\b\b\b\b\b\b\b\b\b\b\b\b\b\b\b\b\b\b\b\b\b\b\b\b\b\b\b\b\b\b\b\b\b\b\b\b\b\b\b\b\b\b\b\b\b\b\b\b\b\b\b\b\b\b\b\r",
        "8000/8000 [==============================] - 0s - loss: 1.3857 - acc: 0.2586     "
       ]
      },
      {
       "output_type": "stream",
       "stream": "stdout",
       "text": [
        "\n"
       ]
      }
     ],
     "prompt_number": 149
    },
    {
     "cell_type": "markdown",
     "metadata": {},
     "source": [
      "<b>Accuracy does not get above 56% because generated data between p1 p2 and h1 h2 has only 56.15% similarity</b>"
     ]
    },
    {
     "cell_type": "markdown",
     "metadata": {},
     "source": [
      "Only 56% of predictions are true"
     ]
    },
    {
     "cell_type": "code",
     "collapsed": false,
     "input": [
      "np.mean(np.argmax(model.predict(X_test), axis=1) == np.argmax(y_test_hard, axis=1))"
     ],
     "language": "python",
     "metadata": {},
     "outputs": [
      {
       "metadata": {},
       "output_type": "pyout",
       "prompt_number": 150,
       "text": [
        "0.2465"
       ]
      }
     ],
     "prompt_number": 150
    },
    {
     "cell_type": "code",
     "collapsed": false,
     "input": [
      "print np.argmax(model.predict(X_test[0:10]), axis=1)\n",
      "print np.argmax(y_test_hard[0:10], axis=1)"
     ],
     "language": "python",
     "metadata": {},
     "outputs": [
      {
       "output_type": "stream",
       "stream": "stdout",
       "text": [
        "[3 3 1 3 3 3 3 3 3 3]\n",
        "[1 1 0 1 3 3 0 3 2 1]\n"
       ]
      }
     ],
     "prompt_number": 151
    },
    {
     "cell_type": "markdown",
     "metadata": {},
     "source": [
      "<b>Using the model trained on hard </b>\n",
      "\n",
      "Evaluating on soft test labels"
     ]
    },
    {
     "cell_type": "code",
     "collapsed": false,
     "input": [
      "np.mean(np.argmax(model.predict(X_test), axis=1) == np.argmax(y_test_soft, axis=1))"
     ],
     "language": "python",
     "metadata": {},
     "outputs": [
      {
       "metadata": {},
       "output_type": "pyout",
       "prompt_number": 152,
       "text": [
        "0.26700000000000002"
       ]
      }
     ],
     "prompt_number": 152
    },
    {
     "cell_type": "code",
     "collapsed": false,
     "input": [
      "print np.argmax(model.predict(X_test[0:10]), axis=1)\n",
      "print np.argmax(y_test_soft[0:10], axis=1)"
     ],
     "language": "python",
     "metadata": {},
     "outputs": [
      {
       "output_type": "stream",
       "stream": "stdout",
       "text": [
        "[3 3 1 3 3 3 3 3 3 3]\n",
        "[1 1 0 1 1 3 0 3 0 1]\n"
       ]
      }
     ],
     "prompt_number": 153
    },
    {
     "cell_type": "markdown",
     "metadata": {},
     "source": [
      "###Training on Soft labels"
     ]
    },
    {
     "cell_type": "markdown",
     "metadata": {},
     "source": [
      "####With inputs p1 and p2 and soft lables are generated from p1 and p2 (fair game)"
     ]
    },
    {
     "cell_type": "code",
     "collapsed": false,
     "input": [
      "paradigm_dict = {\n",
      "    \"paradigm\": \"Soft\",\n",
      "    \"paradigm_train\": y_train_soft,\n",
      "    \"X test\": X_test,\n",
      "    \"paradigm_test1\": y_test_hard,\n",
      "    \"paradigm_test2\": y_test_soft\n",
      "    }\n",
      "test_callback = epochendCallBack(paradigm_dict)\n",
      "soft_fit = model.fit(X_train, paradigm_dict[\"paradigm_train\"],\n",
      "                     nb_epoch=epochs,\n",
      "                     batch_size=batch_size,\n",
      "                     verbose=1,\n",
      "                     callbacks=[test_callback])\n",
      "\n",
      "train_on_soft_loss = soft_fit.history['loss']\n",
      "train_on_soft_batch_loss = test_callback.batch_losses\n",
      "train_on_soft_evaluate_on_hard = test_callback.train_on_soft_evaluate_on_hard\n",
      "train_on_soft_evaluate_on_soft = test_callback.train_on_soft_evaluate_on_soft"
     ],
     "language": "python",
     "metadata": {},
     "outputs": [
      {
       "output_type": "stream",
       "stream": "stdout",
       "text": [
        "Epoch 1/1\n",
        "\r",
        " 100/8000 [..............................] - ETA: 0s - loss: 1.3844 - acc: 0.2300"
       ]
      },
      {
       "output_type": "stream",
       "stream": "stdout",
       "text": [
        "\b\b\b\b\b\b\b\b\b\b\b\b\b\b\b\b\b\b\b\b\b\b\b\b\b\b\b\b\b\b\b\b\b\b\b\b\b\b\b\b\b\b\b\b\b\b\b\b\b\b\b\b\b\b\b\b\b\b\b\b\b\b\b\b\b\b\b\b\b\b\b\b\b\b\b\b\b\b\b\b\b\r",
        " 600/8000 [=>............................] - ETA: 0s - loss: 1.3851 - acc: 0.2367"
       ]
      },
      {
       "output_type": "stream",
       "stream": "stdout",
       "text": [
        "\b\b\b\b\b\b\b\b\b\b\b\b\b\b\b\b\b\b\b\b\b\b\b\b\b\b\b\b\b\b\b\b\b\b\b\b\b\b\b\b\b\b\b\b\b\b\b\b\b\b\b\b\b\b\b\b\b\b\b\b\b\b\b\b\b\b\b\b\b\b\b\b\b\b\b\b\b\b\b\b\b\r",
        "1200/8000 [===>..........................] - ETA: 0s - loss: 1.3852 - acc: 0.2342"
       ]
      },
      {
       "output_type": "stream",
       "stream": "stdout",
       "text": [
        "\b\b\b\b\b\b\b\b\b\b\b\b\b\b\b\b\b\b\b\b\b\b\b\b\b\b\b\b\b\b\b\b\b\b\b\b\b\b\b\b\b\b\b\b\b\b\b\b\b\b\b\b\b\b\b\b\b\b\b\b\b\b\b\b\b\b\b\b\b\b\b\b\b\b\b\b\b\b\b\b\b\r",
        "1800/8000 [=====>........................] - ETA: 0s - loss: 1.3853 - acc: 0.2328"
       ]
      },
      {
       "output_type": "stream",
       "stream": "stdout",
       "text": [
        "\b\b\b\b\b\b\b\b\b\b\b\b\b\b\b\b\b\b\b\b\b\b\b\b\b\b\b\b\b\b\b\b\b\b\b\b\b\b\b\b\b\b\b\b\b\b\b\b\b\b\b\b\b\b\b\b\b\b\b\b\b\b\b\b\b\b\b\b\b\b\b\b\b\b\b\b\b\b\b\b\b\r",
        "2300/8000 [=======>......................] - ETA: 0s - loss: 1.3852 - acc: 0.2391"
       ]
      },
      {
       "output_type": "stream",
       "stream": "stdout",
       "text": [
        "\b\b\b\b\b\b\b\b\b\b\b\b\b\b\b\b\b\b\b\b\b\b\b\b\b\b\b\b\b\b\b\b\b\b\b\b\b\b\b\b\b\b\b\b\b\b\b\b\b\b\b\b\b\b\b\b\b\b\b\b\b\b\b\b\b\b\b\b\b\b\b\b\b\b\b\b\b\b\b\b\b\r",
        "2900/8000 [=========>....................] - ETA: 0s - loss: 1.3852 - acc: 0.2431"
       ]
      },
      {
       "output_type": "stream",
       "stream": "stdout",
       "text": [
        "\b\b\b\b\b\b\b\b\b\b\b\b\b\b\b\b\b\b\b\b\b\b\b\b\b\b\b\b\b\b\b\b\b\b\b\b\b\b\b\b\b\b\b\b\b\b\b\b\b\b\b\b\b\b\b\b\b\b\b\b\b\b\b\b\b\b\b\b\b\b\b\b\b\b\b\b\b\b\b\b\b\r",
        "3600/8000 [============>.................] - ETA: 0s - loss: 1.3852 - acc: 0.2442"
       ]
      },
      {
       "output_type": "stream",
       "stream": "stdout",
       "text": [
        "\b\b\b\b\b\b\b\b\b\b\b\b\b\b\b\b\b\b\b\b\b\b\b\b\b\b\b\b\b\b\b\b\b\b\b\b\b\b\b\b\b\b\b\b\b\b\b\b\b\b\b\b\b\b\b\b\b\b\b\b\b\b\b\b\b\b\b\b\b\b\b\b\b\b\b\b\b\b\b\b\b\r",
        "4300/8000 [===============>..............] - ETA: 0s - loss: 1.3852 - acc: 0.2458"
       ]
      },
      {
       "output_type": "stream",
       "stream": "stdout",
       "text": [
        "\b\b\b\b\b\b\b\b\b\b\b\b\b\b\b\b\b\b\b\b\b\b\b\b\b\b\b\b\b\b\b\b\b\b\b\b\b\b\b\b\b\b\b\b\b\b\b\b\b\b\b\b\b\b\b\b\b\b\b\b\b\b\b\b\b\b\b\b\b\b\b\b\b\b\b\b\b\b\b\b\b\r",
        "5000/8000 [=================>............] - ETA: 0s - loss: 1.3851 - acc: 0.2524"
       ]
      },
      {
       "output_type": "stream",
       "stream": "stdout",
       "text": [
        "\b\b\b\b\b\b\b\b\b\b\b\b\b\b\b\b\b\b\b\b\b\b\b\b\b\b\b\b\b\b\b\b\b\b\b\b\b\b\b\b\b\b\b\b\b\b\b\b\b\b\b\b\b\b\b\b\b\b\b\b\b\b\b\b\b\b\b\b\b\b\b\b\b\b\b\b\b\b\b\b\b\r",
        "5700/8000 [====================>.........] - ETA: 0s - loss: 1.3850 - acc: 0.2588"
       ]
      },
      {
       "output_type": "stream",
       "stream": "stdout",
       "text": [
        "\b\b\b\b\b\b\b\b\b\b\b\b\b\b\b\b\b\b\b\b\b\b\b\b\b\b\b\b\b\b\b\b\b\b\b\b\b\b\b\b\b\b\b\b\b\b\b\b\b\b\b\b\b\b\b\b\b\b\b\b\b\b\b\b\b\b\b\b\b\b\b\b\b\b\b\b\b\b\b\b\b\r",
        "6400/8000 [=======================>......] - ETA: 0s - loss: 1.3850 - acc: 0.2587"
       ]
      },
      {
       "output_type": "stream",
       "stream": "stdout",
       "text": [
        "\b\b\b\b\b\b\b\b\b\b\b\b\b\b\b\b\b\b\b\b\b\b\b\b\b\b\b\b\b\b\b\b\b\b\b\b\b\b\b\b\b\b\b\b\b\b\b\b\b\b\b\b\b\b\b\b\b\b\b\b\b\b\b\b\b\b\b\b\b\b\b\b\b\b\b\b\b\b\b\b\b\r",
        "7100/8000 [=========================>....] - ETA: 0s - loss: 1.3849 - acc: 0.2587"
       ]
      },
      {
       "output_type": "stream",
       "stream": "stdout",
       "text": [
        "\b\b\b\b\b\b\b\b\b\b\b\b\b\b\b\b\b\b\b\b\b\b\b\b\b\b\b\b\b\b\b\b\b\b\b\b\b\b\b\b\b\b\b\b\b\b\b\b\b\b\b\b\b\b\b\b\b\b\b\b\b\b\b\b\b\b\b\b\b\b\b\b\b\b\b\b\b\b\b\b\b\r",
        "7800/8000 [============================>.] - ETA: 0s - loss: 1.3849 - acc: 0.2572"
       ]
      },
      {
       "output_type": "stream",
       "stream": "stdout",
       "text": [
        "\b\b\b\b\b\b\b\b\b\b\b\b\b\b\b\b\b\b\b\b\b\b\b\b\b\b\b\b\b\b\b\b\b\b\b\b\b\b\b\b\b\b\b\b\b\b\b\b\b\b\b\b\b\b\b\b\b\b\b\b\b\b\b\b\b\b\b\b\b\b\b\b\b\b\b\b\b\b\b\b\b\r",
        "8000/8000 [==============================] - 0s - loss: 1.3849 - acc: 0.2571     "
       ]
      },
      {
       "output_type": "stream",
       "stream": "stdout",
       "text": [
        "\n"
       ]
      }
     ],
     "prompt_number": 154
    },
    {
     "cell_type": "code",
     "collapsed": false,
     "input": [
      "len_list = len(train_on_hard_batch_loss)\n",
      "\n",
      "plt.plot(xrange(len_list), train_on_hard_batch_loss, label='TH-BL')\n",
      "plt.plot(xrange(len_list), train_on_soft_batch_loss, label='TS-BL')\n",
      "plt.title(\"Train on Hard/Soft Batch Loss\")\n",
      "plt.ylabel('Training Cost')\n",
      "plt.xlabel('Epochs')\n",
      "plt.legend()\n",
      "plt.show()"
     ],
     "language": "python",
     "metadata": {},
     "outputs": [
      {
       "metadata": {},
       "output_type": "display_data",
       "png": "[encoded data removed]",
       "text": [
        "<matplotlib.figure.Figure at 0x11d992c10>"
       ]
      }
     ],
     "prompt_number": 155
    },
    {
     "cell_type": "markdown",
     "metadata": {},
     "source": [
      "<b>Accuracy is good </b>\n",
      "\n",
      "99.8% of predictions are true"
     ]
    },
    {
     "cell_type": "code",
     "collapsed": false,
     "input": [
      "np.mean(np.argmax(model.predict(X_test), axis=1) == np.argmax(y_test_soft, axis=1))"
     ],
     "language": "python",
     "metadata": {},
     "outputs": [
      {
       "metadata": {},
       "output_type": "pyout",
       "prompt_number": 156,
       "text": [
        "0.27800000000000002"
       ]
      }
     ],
     "prompt_number": 156
    },
    {
     "cell_type": "markdown",
     "metadata": {},
     "source": [
      "<b>Using the model trained on soft </b>\n",
      "\n",
      "Evaluating on hard test labels"
     ]
    },
    {
     "cell_type": "code",
     "collapsed": false,
     "input": [
      "np.mean(np.argmax(model.predict(X_test), axis=1) == np.argmax(y_test_hard, axis=1))"
     ],
     "language": "python",
     "metadata": {},
     "outputs": [
      {
       "metadata": {},
       "output_type": "pyout",
       "prompt_number": 157,
       "text": [
        "0.26800000000000002"
       ]
      }
     ],
     "prompt_number": 157
    },
    {
     "cell_type": "markdown",
     "metadata": {},
     "source": [
      "###Soft label values comparison"
     ]
    },
    {
     "cell_type": "code",
     "collapsed": false,
     "input": [
      "np.set_printoptions(suppress=True, precision=8)\n",
      "model.predict(X_test)[10:25]"
     ],
     "language": "python",
     "metadata": {},
     "outputs": [
      {
       "metadata": {},
       "output_type": "pyout",
       "prompt_number": 158,
       "text": [
        "array([[ 0.24871375,  0.25052941,  0.24619128,  0.25456554],\n",
        "       [ 0.2495198 ,  0.25138655,  0.24742112,  0.25167251],\n",
        "       [ 0.24890286,  0.25071144,  0.24647959,  0.2539061 ],\n",
        "       [ 0.248402  ,  0.25182784,  0.24567299,  0.25409722],\n",
        "       [ 0.24913803,  0.25194669,  0.24681236,  0.25210288],\n",
        "       [ 0.24855417,  0.25270367,  0.24588612,  0.25285614],\n",
        "       [ 0.2495304 ,  0.25005686,  0.24747291,  0.25293988],\n",
        "       [ 0.24951422,  0.25208259,  0.24739476,  0.25100839],\n",
        "       [ 0.2493908 ,  0.25109625,  0.24722774,  0.25228524],\n",
        "       [ 0.24848478,  0.25089538,  0.24582639,  0.25479347],\n",
        "       [ 0.2492262 ,  0.25268579,  0.24693102,  0.25115699],\n",
        "       [ 0.24913342,  0.2514309 ,  0.24681854,  0.25261718],\n",
        "       [ 0.24933864,  0.25042787,  0.2471644 ,  0.2530691 ],\n",
        "       [ 0.24969946,  0.25092718,  0.24771307,  0.25166032],\n",
        "       [ 0.24933469,  0.25220761,  0.24711189,  0.25134572]], dtype=float32)"
       ]
      }
     ],
     "prompt_number": 158
    },
    {
     "cell_type": "code",
     "collapsed": false,
     "input": [
      "print y_test_soft[10:25]"
     ],
     "language": "python",
     "metadata": {},
     "outputs": [
      {
       "output_type": "stream",
       "stream": "stdout",
       "text": [
        "[[ 0.03999   0.17501   0.14601   0.63899 ]\n",
        " [ 0.45793   0.04807   0.44707   0.04693 ]\n",
        " [ 0.097152  0.178848  0.254848  0.469152]\n",
        " [ 0.055566  0.630434  0.025434  0.288566]\n",
        " [ 0.476238  0.237762  0.190762  0.095238]\n",
        " [ 0.291535  0.703465  0.001465  0.003535]\n",
        " [ 0.021588  0.006412  0.749412  0.222588]\n",
        " [ 0.73688   0.01812   0.23912   0.00588 ]\n",
        " [ 0.313838  0.092162  0.459162  0.134838]\n",
        " [ 0.016497  0.334503  0.030503  0.618497]\n",
        " [ 0.796416  0.179584  0.019584  0.004416]\n",
        " [ 0.321632  0.207368  0.286368  0.184632]\n",
        " [ 0.109065  0.055935  0.551935  0.283065]\n",
        " [ 0.337644  0.001356  0.658356  0.002644]\n",
        " [ 0.681747  0.121253  0.167253  0.029747]]\n"
       ]
      }
     ],
     "prompt_number": 159
    },
    {
     "cell_type": "markdown",
     "metadata": {},
     "source": [
      "<b>Checking the mean difference between predited real numbers and target real numbers</b>"
     ]
    },
    {
     "cell_type": "code",
     "collapsed": false,
     "input": [
      "np.mean(np.mean(np.abs(model.predict(X_test) - y_test_soft), axis=1))"
     ],
     "language": "python",
     "metadata": {},
     "outputs": [
      {
       "metadata": {},
       "output_type": "pyout",
       "prompt_number": 160,
       "text": [
        "0.1788608726220646"
       ]
      }
     ],
     "prompt_number": 160
    },
    {
     "cell_type": "markdown",
     "metadata": {},
     "source": [
      "###Plots"
     ]
    },
    {
     "cell_type": "markdown",
     "metadata": {},
     "source": [
      "####Train on Hard Evaluate on Hard and Train on Soft Evaluate on Hard"
     ]
    },
    {
     "cell_type": "code",
     "collapsed": false,
     "input": [
      "print \"Train on soft evaluate on -\"\n",
      "print \"Hard\\n\", train_on_soft_evaluate_on_hard\n",
      "print \"Train on hard evaluate on -\"\n",
      "print \"Hard\\n\", train_on_hard_evaluate_on_hard\n",
      "\n",
      "plt.plot(xrange(epochs), train_on_hard_evaluate_on_hard, label='TH-EH')\n",
      "plt.plot(xrange(epochs), train_on_soft_evaluate_on_hard, label='TS-EH')\n",
      "plt.title(\"Train on Hard/Soft Evaluate on Hard\")\n",
      "plt.ylabel('Training Cost')\n",
      "plt.xlabel('Epochs')\n",
      "plt.legend()\n",
      "plt.show()"
     ],
     "language": "python",
     "metadata": {},
     "outputs": [
      {
       "output_type": "stream",
       "stream": "stdout",
       "text": [
        "Train on soft evaluate on -\n",
        "Hard\n",
        "[ 1.3845528]\n",
        "Train on hard evaluate on -\n",
        "Hard\n",
        "[ 1.38540887]\n"
       ]
      },
      {
       "metadata": {},
       "output_type": "display_data",
       "png": "[encoded data removed]",
       "text": [
        "<matplotlib.figure.Figure at 0x11e42a8d0>"
       ]
      }
     ],
     "prompt_number": 161
    },
    {
     "cell_type": "markdown",
     "metadata": {},
     "source": [
      "Train on soft evaluate on hard has low cost (compared to train on hard evaulate on hard) since the beginning. So that means it <b>converges faster</b>."
     ]
    },
    {
     "cell_type": "markdown",
     "metadata": {},
     "source": [
      "####Train on Hard Evaluate on Soft and Train on Soft Evaluate on Soft"
     ]
    },
    {
     "cell_type": "code",
     "collapsed": false,
     "input": [
      "xrange(1,epochs,epochs)"
     ],
     "language": "python",
     "metadata": {},
     "outputs": [
      {
       "metadata": {},
       "output_type": "pyout",
       "prompt_number": 162,
       "text": [
        "xrange(1, 1)"
       ]
      }
     ],
     "prompt_number": 162
    },
    {
     "cell_type": "code",
     "collapsed": false,
     "input": [
      "print \"Train on soft evaluate on -\"\n",
      "print \"Soft\\n\", train_on_soft_evaluate_on_soft\n",
      "print \"Train on hard evaluate on -\"\n",
      "\n",
      "print \"Soft\\n\", train_on_hard_evaluate_on_soft\n",
      "plt.plot(xrange(1,epochs+1,1), train_on_hard_evaluate_on_soft, label='TH-ES')\n",
      "plt.plot(xrange(1,epochs+1,1), train_on_soft_evaluate_on_soft, label='TS-ES')\n",
      "plt.title(\"Train on Hard/Soft Evaluate on Soft\")\n",
      "plt.ylabel('Training Cost')\n",
      "plt.xlabel('Epochs')\n",
      "plt.legend()\n",
      "plt.show()"
     ],
     "language": "python",
     "metadata": {},
     "outputs": [
      {
       "output_type": "stream",
       "stream": "stdout",
       "text": [
        "Train on soft evaluate on -\n",
        "Soft\n",
        "[ 1.38440699]\n",
        "Train on hard evaluate on -\n",
        "Soft\n",
        "[ 1.38529002]\n"
       ]
      },
      {
       "metadata": {},
       "output_type": "display_data",
       "png": "[encoded data removed]",
       "text": [
        "<matplotlib.figure.Figure at 0x11e11c990>"
       ]
      }
     ],
     "prompt_number": 163
    },
    {
     "cell_type": "markdown",
     "metadata": {},
     "source": [
      "####Train on Hard Evaluate on Hard/Soft"
     ]
    },
    {
     "cell_type": "code",
     "collapsed": false,
     "input": [
      "print \"Train on hard evaluate on -\"\n",
      "print \"Hard\\n\", train_on_hard_evaluate_on_hard\n",
      "print \"Soft\\n\", train_on_hard_evaluate_on_soft\n",
      "\n",
      "plt.plot(xrange(epochs), train_on_hard_evaluate_on_hard, label='TH-EH')\n",
      "plt.plot(xrange(epochs), train_on_hard_evaluate_on_soft, label='TH-ES')\n",
      "plt.title(\"Train on Hard Evaluate on Hard/Soft\")\n",
      "plt.ylabel('Training Cost')\n",
      "plt.xlabel('Epochs')\n",
      "plt.legend()\n",
      "plt.show()"
     ],
     "language": "python",
     "metadata": {},
     "outputs": [
      {
       "output_type": "stream",
       "stream": "stdout",
       "text": [
        "Train on hard evaluate on -\n",
        "Hard\n",
        "[ 1.38540887]\n",
        "Soft\n",
        "[ 1.38529002]\n"
       ]
      },
      {
       "metadata": {},
       "output_type": "display_data",
       "png": "[encoded data removed]",
       "text": [
        "<matplotlib.figure.Figure at 0x11d92a990>"
       ]
      }
     ],
     "prompt_number": 164
    },
    {
     "cell_type": "markdown",
     "metadata": {},
     "source": [
      "####Train on Soft evaluate on Hard/Soft"
     ]
    },
    {
     "cell_type": "code",
     "collapsed": false,
     "input": [
      "print \"Train on Soft evaluate on -\"\n",
      "print \"Hard\\n\", train_on_soft_evaluate_on_hard\n",
      "print \"Soft\\n\", train_on_soft_evaluate_on_soft\n",
      "\n",
      "plt.plot(xrange(epochs), train_on_soft_evaluate_on_hard, label='TS-EH')\n",
      "plt.plot(xrange(epochs), train_on_soft_evaluate_on_soft, label='TS-ES')\n",
      "plt.title(\"Train on Soft Evaluate on Hard/Soft\")\n",
      "plt.ylabel('Training Cost')\n",
      "plt.xlabel('Epochs')\n",
      "plt.legend()\n",
      "plt.show()"
     ],
     "language": "python",
     "metadata": {},
     "outputs": [
      {
       "output_type": "stream",
       "stream": "stdout",
       "text": [
        "Train on Soft evaluate on -\n",
        "Hard\n",
        "[ 1.3845528]\n",
        "Soft\n",
        "[ 1.38440699]\n"
       ]
      },
      {
       "metadata": {},
       "output_type": "display_data",
       "png": "[encoded data removed]",
       "text": [
        "<matplotlib.figure.Figure at 0x11e0c1f90>"
       ]
      }
     ],
     "prompt_number": 165
    },
    {
     "cell_type": "markdown",
     "metadata": {},
     "source": [
      "####Train on Hard Evaluate on Hard and Train on Soft Evaluate on Soft"
     ]
    },
    {
     "cell_type": "code",
     "collapsed": false,
     "input": [
      "print \"Train on Hard evaluate on -\"\n",
      "print \"Hard\\n\", train_on_hard_evaluate_on_hard\n",
      "print \"Train on Soft evaluate on -\"\n",
      "print \"Soft\\n\", train_on_soft_evaluate_on_soft\n",
      "\n",
      "plt.plot(xrange(epochs), train_on_hard_evaluate_on_hard, label='TH-EH')\n",
      "plt.plot(xrange(epochs), train_on_soft_evaluate_on_soft, label='TS-ES')\n",
      "plt.title(\"Train on Hard/Soft Evaluate on Hard/Soft\")\n",
      "plt.ylabel('Training Cost')\n",
      "plt.xlabel('Epochs')\n",
      "plt.legend()\n",
      "plt.show()"
     ],
     "language": "python",
     "metadata": {},
     "outputs": [
      {
       "output_type": "stream",
       "stream": "stdout",
       "text": [
        "Train on Hard evaluate on -\n",
        "Hard\n",
        "[ 1.38540887]\n",
        "Train on Soft evaluate on -\n",
        "Soft\n",
        "[ 1.38440699]\n"
       ]
      },
      {
       "metadata": {},
       "output_type": "display_data",
       "png": "[encoded data removed]",
       "text": [
        "<matplotlib.figure.Figure at 0x11de75690>"
       ]
      }
     ],
     "prompt_number": 166
    },
    {
     "cell_type": "markdown",
     "metadata": {},
     "source": [
      "####Training costs for Training on Hard and Training costs for Training on Soft"
     ]
    },
    {
     "cell_type": "code",
     "collapsed": false,
     "input": [
      "print \"Train on Hard cost -\"\n",
      "print train_on_hard_loss\n",
      "print \"Train on Soft cost -\"\n",
      "print train_on_soft_loss\n",
      "\n",
      "plt.plot(xrange(epochs), train_on_hard_loss, label='TH-L')\n",
      "plt.plot(xrange(epochs), train_on_soft_loss, label='TS-L')\n",
      "plt.title(\"Training costs for training on hard and training on soft\")\n",
      "plt.ylabel('Training Cost')\n",
      "plt.xlabel('Epochs')\n",
      "plt.legend()\n",
      "plt.show()"
     ],
     "language": "python",
     "metadata": {},
     "outputs": [
      {
       "output_type": "stream",
       "stream": "stdout",
       "text": [
        "Train on Hard cost -\n",
        "[1.3856735169887542]\n",
        "Train on Soft cost -\n",
        "[1.3849047124385834]\n"
       ]
      },
      {
       "metadata": {},
       "output_type": "display_data",
       "png": "[encoded data removed]",
       "text": [
        "<matplotlib.figure.Figure at 0x11de758d0>"
       ]
      }
     ],
     "prompt_number": 167
    },
    {
     "cell_type": "markdown",
     "metadata": {},
     "source": [
      "###Train on Hard with SKlearn"
     ]
    },
    {
     "cell_type": "code",
     "collapsed": false,
     "input": [
      "from sklearn.linear_model import LogisticRegression\n",
      "y_soft_argmax = np.argmax(y_soft, axis=1)\n",
      "X_train, X_test, y_train, y_test = train_test_split(x, y_soft_argmax, test_size=0.2, random_state=42)\n",
      "\n",
      "logistic = LogisticRegression(verbose = 1)\n",
      "logistic.fit(X_train, y_train)\n",
      "sk_score = logistic.score(X_test, y_test)\n",
      "\n",
      "print \"SKLearn cost report: \", sk_score\n"
     ],
     "language": "python",
     "metadata": {},
     "outputs": [
      {
       "output_type": "stream",
       "stream": "stdout",
       "text": [
        "[LibLinear]SKLearn cost report:  0.993\n"
       ]
      }
     ],
     "prompt_number": 168
    }
   ],
   "metadata": {}
  }
 ]
}